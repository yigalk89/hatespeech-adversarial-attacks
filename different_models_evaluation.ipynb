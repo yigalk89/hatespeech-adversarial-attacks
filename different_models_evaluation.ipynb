{
  "cells": [
    {
      "cell_type": "markdown",
      "metadata": {
        "id": "view-in-github",
        "colab_type": "text"
      },
      "source": [
        "<a href=\"https://colab.research.google.com/github/yigalk89/hatespeech-adversarial-attacks/blob/master/different_models_evaluation.ipynb\" target=\"_parent\"><img src=\"https://colab.research.google.com/assets/colab-badge.svg\" alt=\"Open In Colab\"/></a>"
      ]
    },
    {
      "cell_type": "markdown",
      "source": [
        "## Models evaluation on hate speech\n",
        "This notebook has the code that test the following models on the `hatexplain` and `hatecheck` hate speech datasets"
      ],
      "metadata": {
        "id": "IjtgrP_M9YRB"
      }
    },
    {
      "cell_type": "markdown",
      "source": [
        "#### Prepare dependecies"
      ],
      "metadata": {
        "id": "7_are9eY_O9z"
      }
    },
    {
      "cell_type": "code",
      "execution_count": 1,
      "metadata": {
        "colab": {
          "base_uri": "https://localhost:8080/"
        },
        "id": "XU5osnQ-831l",
        "outputId": "2f140eae-545e-4d0c-9252-02ec0e2ae666"
      },
      "outputs": [
        {
          "output_type": "stream",
          "name": "stdout",
          "text": [
            "Mounted at /content/drive\n"
          ]
        }
      ],
      "source": [
        "from google.colab import drive\n",
        "drive.mount('/content/drive')"
      ]
    },
    {
      "cell_type": "code",
      "execution_count": 2,
      "metadata": {
        "colab": {
          "base_uri": "https://localhost:8080/"
        },
        "id": "eJAdZRCuU4c1",
        "outputId": "d3f2a919-ce4b-4cfa-e512-dce08db6f319"
      },
      "outputs": [
        {
          "output_type": "stream",
          "name": "stdout",
          "text": [
            "Cloning into 'mrp_hate-speech-detection'...\n",
            "remote: Enumerating objects: 11526, done.\u001b[K\n",
            "remote: Counting objects: 100% (11526/11526), done.\u001b[K\n",
            "remote: Compressing objects: 100% (10519/10519), done.\u001b[K\n",
            "remote: Total 11526 (delta 54), reused 11499 (delta 36), pack-reused 0 (from 0)\u001b[K\n",
            "Receiving objects: 100% (11526/11526), 6.53 MiB | 4.74 MiB/s, done.\n",
            "Resolving deltas: 100% (54/54), done.\n",
            "Updating files: 100% (11484/11484), done.\n"
          ]
        }
      ],
      "source": [
        "!git clone https://github.com/alatteaday/mrp_hate-speech-detection.git"
      ]
    },
    {
      "cell_type": "code",
      "execution_count": 3,
      "metadata": {
        "colab": {
          "base_uri": "https://localhost:8080/"
        },
        "id": "QlaipvtYU7SU",
        "outputId": "a43ac066-123e-42c7-9441-635e973fc99b"
      },
      "outputs": [
        {
          "output_type": "stream",
          "name": "stdout",
          "text": [
            "Collecting emoji\n",
            "  Downloading emoji-2.14.1-py3-none-any.whl.metadata (5.7 kB)\n",
            "Downloading emoji-2.14.1-py3-none-any.whl (590 kB)\n",
            "\u001b[?25l   \u001b[90m━━━━━━━━━━━━━━━━━━━━━━━━━━━━━━━━━━━━━━━━\u001b[0m \u001b[32m0.0/590.6 kB\u001b[0m \u001b[31m?\u001b[0m eta \u001b[36m-:--:--\u001b[0m\r\u001b[2K   \u001b[91m━━━━━━━━━━━━━━━━━━━━━━━━━━━━\u001b[0m\u001b[90m╺\u001b[0m\u001b[90m━━━━━━━━━━━\u001b[0m \u001b[32m419.8/590.6 kB\u001b[0m \u001b[31m12.2 MB/s\u001b[0m eta \u001b[36m0:00:01\u001b[0m\r\u001b[2K   \u001b[90m━━━━━━━━━━━━━━━━━━━━━━━━━━━━━━━━━━━━━━━━\u001b[0m \u001b[32m590.6/590.6 kB\u001b[0m \u001b[31m11.6 MB/s\u001b[0m eta \u001b[36m0:00:00\u001b[0m\n",
            "\u001b[?25hInstalling collected packages: emoji\n",
            "Successfully installed emoji-2.14.1\n"
          ]
        }
      ],
      "source": [
        "!pip install emoji"
      ]
    },
    {
      "cell_type": "markdown",
      "metadata": {
        "id": "n-BcLScMBrJ0"
      },
      "source": [
        "Data set download and adaptations"
      ]
    },
    {
      "cell_type": "code",
      "execution_count": 4,
      "metadata": {
        "colab": {
          "base_uri": "https://localhost:8080/"
        },
        "id": "AtvPHpy4BrJ0",
        "outputId": "51fb5e4e-a3a7-4d3e-bdb1-ed6409706e81"
      },
      "outputs": [
        {
          "output_type": "stream",
          "name": "stdout",
          "text": [
            "Cloning into 'hatecheck-data'...\n",
            "remote: Enumerating objects: 52, done.\u001b[K\n",
            "remote: Counting objects: 100% (52/52), done.\u001b[K\n",
            "remote: Compressing objects: 100% (49/49), done.\u001b[K\n",
            "remote: Total 52 (delta 27), reused 3 (delta 2), pack-reused 0 (from 0)\u001b[K\n",
            "Receiving objects: 100% (52/52), 213.17 KiB | 5.20 MiB/s, done.\n",
            "Resolving deltas: 100% (27/27), done.\n"
          ]
        }
      ],
      "source": [
        "!git clone https://github.com/paul-rottger/hatecheck-data.git"
      ]
    },
    {
      "cell_type": "markdown",
      "metadata": {
        "id": "9fX5OwPoBrJ1"
      },
      "source": [
        "### Define custom dataset classes\n",
        "This classes will be used for evaluation of the models"
      ]
    },
    {
      "cell_type": "code",
      "execution_count": 5,
      "metadata": {
        "id": "xpglE0kyBrJ1"
      },
      "outputs": [],
      "source": [
        "import pandas as pd\n",
        "from torch.utils.data import Dataset, DataLoader\n",
        "\n",
        "class TextDataset(Dataset):\n",
        "    def __init__(self, csv_file):\n",
        "        # Load the CSV file into a DataFrame\n",
        "        self.data = pd.read_csv(csv_file)\n",
        "\n",
        "        # Extract relevant columns\n",
        "        self.texts = self.data['test_case'].tolist()\n",
        "        self.labels = self.data['label_gold'].tolist()\n",
        "        self.functionalities = self.data['functionality'].tolist()\n",
        "        self.label_list = ['non-hateful', 'hateful']\n",
        "    def __len__(self):\n",
        "        return len(self.texts)\n",
        "    def __getitem__(self, idx):\n",
        "        # Get the text, label, and functionality for the index\n",
        "        text = self.texts[idx]\n",
        "        label = self.labels[idx]\n",
        "        functionality = self.functionalities[idx]\n",
        "        cls_num = self.label_list.index(label)\n",
        "        return (text, cls_num, functionality)"
      ]
    },
    {
      "cell_type": "code",
      "execution_count": 6,
      "metadata": {
        "id": "YFkQV5elUwhb"
      },
      "outputs": [],
      "source": [
        "import json\n",
        "import os\n",
        "import emoji\n",
        "class HateXplainDatasetForBias(Dataset):\n",
        "    def __init__(self, dir_hatexplain, mode='train'):\n",
        "        assert mode in ['train', 'val', 'test'], \"mode should be [train/val/test]\"\n",
        "\n",
        "        data_root = dir_hatexplain\n",
        "        data_dir = os.path.join(data_root, 'hatexplain_two_div.json')\n",
        "        with open(data_dir, 'r') as f:\n",
        "            dataset = json.load(f)\n",
        "\n",
        "        self.label_list = ['non-toxic', 'toxic']\n",
        "        self.label_count = [0, 0]\n",
        "\n",
        "        if mode == 'train':\n",
        "            self.dataset = dataset['train']\n",
        "            for d in self.dataset:\n",
        "                if d['final_label'] == self.label_list[0]:\n",
        "                    self.label_count[0] += 1\n",
        "                elif d['final_label'] == self.label_list[1]:\n",
        "                    self.label_count[1] += 1\n",
        "                else:\n",
        "                    print(\"[!] exceptional label \", d['final_label'])\n",
        "                    return\n",
        "        elif mode == 'val':\n",
        "            self.dataset = dataset['val']\n",
        "        else:  # 'test'\n",
        "            self.dataset = dataset['test']\n",
        "\n",
        "    def __len__(self):\n",
        "        return len(self.dataset)\n",
        "\n",
        "    def __getitem__(self, idx):\n",
        "        post_id = self.dataset[idx]['post_id']\n",
        "        text = ' '.join(self.dataset[idx]['text'])\n",
        "        text = emoji.demojize(text)\n",
        "        label = self.dataset[idx]['final_label']\n",
        "        cls_num = self.label_list.index(label)\n",
        "\n",
        "        return (text, cls_num, post_id)\n"
      ]
    },
    {
      "cell_type": "code",
      "execution_count": 21,
      "metadata": {
        "id": "y-rLH5D2U1bE"
      },
      "outputs": [],
      "source": [
        "import json\n",
        "import os\n",
        "import emoji\n",
        "class HateXplainDatasetForBiasPerturbed(Dataset):\n",
        "    def __init__(self,  mode='train'):\n",
        "        assert mode in ['train', 'val', 'test'], \"mode should be [train/val/test]\"\n",
        "        json_path = '/content/drive/MyDrive/NLP/test_transformed_data_clean_v3.json' #'/content/drive/MyDrive/perturbed_list_GPT_hate_explain.json' #'/content/drive/MyDrive/test_transformed_manual_clean.json'\n",
        "        with open(json_path, 'r') as f:\n",
        "          self.dataset = json.load(f)\n",
        "\n",
        "        self.label_list = ['non-toxic', 'toxic']\n",
        "        self.label_count = [0, 0]\n",
        "        self.post_id_counter = 0\n",
        "\n",
        "\n",
        "    def __len__(self):\n",
        "        return len(self.dataset)\n",
        "\n",
        "    def __getitem__(self, idx):\n",
        "        text = self.dataset[idx]['transformed_text']\n",
        "        text = emoji.demojize(text)\n",
        "        label = self.dataset[idx]['final_label']\n",
        "        cls_num = self.label_list.index(label)\n",
        "        self.post_id_counter +=1\n",
        "        return (text, cls_num)\n"
      ]
    },
    {
      "cell_type": "markdown",
      "metadata": {
        "id": "w-G129QXBrJ2"
      },
      "source": [
        "### Helper functions for evaulating the models"
      ]
    },
    {
      "cell_type": "code",
      "execution_count": 8,
      "metadata": {
        "id": "Qg765C2EBrJ2"
      },
      "outputs": [],
      "source": [
        "def create_dataloader(csv_file, batch_size=1):\n",
        "    dataset = TextDataset(csv_file)\n",
        "    dataloader = DataLoader(dataset, batch_size=batch_size, shuffle=False)\n",
        "    return dataloader"
      ]
    },
    {
      "cell_type": "code",
      "execution_count": 31,
      "metadata": {
        "id": "fUhJmEzjBrJ2"
      },
      "outputs": [],
      "source": [
        "import torch\n",
        "from tqdm import tqdm\n",
        "import torch.nn.functional as F\n",
        "import numpy as np\n",
        "from sklearn.metrics import accuracy_score, f1_score, confusion_matrix,ConfusionMatrixDisplay\n",
        "import matplotlib.pyplot as plt\n",
        "from collections import defaultdict\n",
        "import time\n",
        "from transformers import pipeline\n",
        "\n",
        "def classify_text(text, pipe_test):\n",
        "    try:\n",
        "        result = pipe_test(text)  # Use the pipeline to classify the text\n",
        "        label = result[0]['label']  # Extract the label\n",
        "        return label\n",
        "    except Exception as e:\n",
        "        return f\"Error: {e}\"  # Handle errors gracefully\n",
        "\n",
        "def get_pred_cls(logits):\n",
        "    probs = F.softmax(logits, dim=1)\n",
        "    #labels = labels.detach().cpu().numpy()\n",
        "    probs = probs.detach().cpu().numpy()\n",
        "    max_probs = np.max(probs, axis=1).tolist()\n",
        "    probs = probs.tolist()\n",
        "    pred_clses = []\n",
        "    for m, p in zip(max_probs, probs):\n",
        "        pred_clses.append(p.index(m))\n",
        "\n",
        "    return probs, pred_clses\n",
        "\n",
        "def get_device():\n",
        "  if torch.cuda.is_available():\n",
        "      print(\"device = cuda\")\n",
        "      return torch.device('cuda')\n",
        "  else:\n",
        "      print(\"device = cpu\")\n",
        "      return torch.device('cpu')\n",
        "\n",
        "def evaluate(model, dataloader, tokenizer, device):\n",
        "    losses = []\n",
        "    consumed_time = 0\n",
        "    total_pred_clses, total_gt_clses, total_probs = [], [], []\n",
        "\n",
        "    bias_dict_list, explain_dict_list = [], []\n",
        "    # label_dict = {1:'hateful', 0:'non-hateful'}\n",
        "\n",
        "    preds_lbls_per_func = defaultdict(lambda: {'predictions': [], 'labels': []})\n",
        "\n",
        "    model.eval()\n",
        "    with torch.no_grad():\n",
        "        for i, batch in enumerate(tqdm(dataloader, desc=\"EVAL | # {}\".format(0), mininterval=0.01)):\n",
        "            texts, labels = batch[0], batch[1]\n",
        "\n",
        "\n",
        "\n",
        "            in_tensor = tokenizer(texts, return_tensors='pt', padding=True)\n",
        "            in_tensor = in_tensor.to(device)\n",
        "            gts_tensor = labels.to(device)\n",
        "\n",
        "            start_time = time.time()\n",
        "            out_tensor = model(**in_tensor, labels=gts_tensor)\n",
        "            consumed_time += time.time() - start_time\n",
        "\n",
        "            loss = out_tensor.loss\n",
        "            logits = out_tensor.logits\n",
        "            if i < 10:\n",
        "              print(\"Texts:\", texts)\n",
        "              print(\"Labels:\", labels)\n",
        "              print(\"Logits:\", logits)\n",
        "\n",
        "            losses.append(loss.item())\n",
        "\n",
        "            probs, pred_clses = get_pred_cls(logits)\n",
        "            labels_list = labels.tolist()\n",
        "\n",
        "            total_gt_clses += labels_list\n",
        "            total_pred_clses += pred_clses\n",
        "            total_probs += probs\n",
        "\n",
        "\n",
        "\n",
        "\n",
        "    time_avg = consumed_time / len(dataloader)\n",
        "    loss_avg = [sum(losses) / len(dataloader)]\n",
        "    acc = [accuracy_score(total_gt_clses, total_pred_clses)]\n",
        "    f1 = f1_score(total_gt_clses, total_pred_clses, average='macro')\n",
        "    cm = confusion_matrix(total_gt_clses, total_pred_clses)\n",
        "\n",
        "\n",
        "\n",
        "    return losses, loss_avg, acc, f1, time_avg, cm"
      ]
    },
    {
      "cell_type": "code",
      "execution_count": 10,
      "metadata": {
        "id": "xE8oqRb0BrJ3"
      },
      "outputs": [],
      "source": [
        "from sklearn.metrics import accuracy_score, f1_score, confusion_matrix, ConfusionMatrixDisplay\n",
        "df_ch = pd.DataFrame()\n",
        "def statistics_for_classification(model_name, classification_column, hate_label, dataset=None):\n",
        "    dataset = df_hc if dataset is None else dataset\n",
        "    dataset['label_gold_binary'] = dataset['label_gold'].apply(lambda x: 1 if x == 'hateful' else 0)\n",
        "    dataset['classification_binary'] = dataset[classification_column].apply(lambda x: 1 if x==hate_label else 0)\n",
        "    true_labels = dataset['label_gold_binary']\n",
        "    predicted_labels = dataset['classification_binary']\n",
        "    accuracy = accuracy_score(true_labels, predicted_labels)\n",
        "    f1 = f1_score(true_labels, predicted_labels)\n",
        "    conf_matrix = confusion_matrix(true_labels, predicted_labels)\n",
        "    disp = ConfusionMatrixDisplay(confusion_matrix=conf_matrix, display_labels=['non-hateful', 'hateful'])\n",
        "    disp.plot()\n",
        "    print(model_name)\n",
        "    print(f\"Accuracy: {accuracy:.4f}\")\n",
        "    print(f\"F1 Score: {f1:.4f}\")"
      ]
    },
    {
      "cell_type": "code",
      "execution_count": 11,
      "metadata": {
        "id": "aBq5Ah_U83OL"
      },
      "outputs": [],
      "source": [
        "def statistics_for_classification_v2(df_hc, model_name, classification_column, hate_label):\n",
        "    # Check Unique Values\n",
        "    print(\"Unique values in 'transformed_text':\", df_hc['transformed_text'].unique())\n",
        "    print(\"Unique values in 'classification_pipe_rationale2':\", df_hc[classification_column].unique())\n",
        "\n",
        "    df_hc['label_gold_binary'] = df_hc['final_label'].apply(lambda x: 1 if x == 'toxic' else 0)  # Changed column to 'final_label'\n",
        "    df_hc['classification_binary'] = df_hc[classification_column].apply(lambda x: 1 if x==hate_label else 0)\n",
        "\n",
        "    # Check Unique Values after Transformation\n",
        "    print(\"Unique values in 'label_gold_binary':\", df_hc['label_gold_binary'].unique())\n",
        "    print(\"Unique values in 'classification_binary':\", df_hc['classification_binary'].unique())\n",
        "\n",
        "    true_labels = df_hc['label_gold_binary']\n",
        "    predicted_labels = df_hc['classification_binary']\n",
        "    accuracy = accuracy_score(true_labels, predicted_labels)\n",
        "    f1 = f1_score(true_labels, predicted_labels)\n",
        "    conf_matrix = confusion_matrix(true_labels, predicted_labels)\n",
        "\n",
        "    # Adjust display_labels if necessary\n",
        "    unique_labels = sorted(list(set(true_labels.unique().tolist() + predicted_labels.unique().tolist())))\n",
        "    display_labels = ['non-hateful' if label == 0 else 'hateful' for label in unique_labels]\n",
        "    disp = ConfusionMatrixDisplay(confusion_matrix=conf_matrix, display_labels=display_labels)\n",
        "\n",
        "    disp.plot()\n",
        "    print(model_name)\n",
        "    print(f\"Accuracy: {accuracy:.4f}\")\n",
        "    print(f\"F1 Score: {f1:.4f}\")"
      ]
    },
    {
      "cell_type": "markdown",
      "source": [
        "### Load datasets"
      ],
      "metadata": {
        "id": "65Vsw82oN5m2"
      }
    },
    {
      "cell_type": "code",
      "execution_count": 12,
      "metadata": {
        "id": "41pkVn4cU5_A"
      },
      "outputs": [],
      "source": [
        "# Load hate_explain dataset\n",
        "hate_explain_dir = \"/content/mrp_hate-speech-detection/dataset\"\n",
        "\n",
        "hate_explain_dataset = HateXplainDatasetForBias(hate_explain_dir, mode='test')\n",
        "hate_explain_dataloader = DataLoader(hate_explain_dataset, shuffle=False)#, batch_size=batch_size"
      ]
    },
    {
      "cell_type": "code",
      "source": [
        "# Load the perturbed hate explain dataset\n",
        "hate_explain_dataset_perturbed = HateXplainDatasetForBiasPerturbed(mode='test')\n",
        "hate_explain_dataloader_perturbed = DataLoader(hate_explain_dataset_perturbed,  shuffle=False) #batch_size=batch_size,"
      ],
      "metadata": {
        "id": "uU22biu8R7uY"
      },
      "execution_count": 23,
      "outputs": []
    },
    {
      "cell_type": "code",
      "execution_count": 16,
      "metadata": {
        "id": "slQ51Gy3xs4v"
      },
      "outputs": [],
      "source": [
        "# Load clean transformed version of hatecheck\n",
        "def load_clean_transformed_hatecheck():\n",
        "  json_path = '/content/drive/MyDrive/NLP/test_transformed_manual_clean.json'\n",
        "  df = pd.read_json(json_path)\n",
        "  return df\n",
        "\n",
        "clean_transformed_hatecheck_df = load_clean_transformed_hatecheck()"
      ]
    },
    {
      "cell_type": "code",
      "source": [
        "# Load hatecheck standart test suite case\n",
        "df_hc = pd.read_csv('/content/hatecheck-data/test_suite_cases.csv')"
      ],
      "metadata": {
        "id": "VGZlPIMoTcj1"
      },
      "execution_count": 17,
      "outputs": []
    },
    {
      "cell_type": "markdown",
      "metadata": {
        "id": "vgyxsKLlSy8l"
      },
      "source": [
        "## Models evaluation\n"
      ]
    },
    {
      "cell_type": "code",
      "execution_count": 18,
      "metadata": {
        "id": "eEpMRvCpTsNO"
      },
      "outputs": [],
      "source": [
        "from transformers import AutoTokenizer, AutoModelForSequenceClassification, pipeline\n",
        "from transformers import pipeline"
      ]
    },
    {
      "cell_type": "markdown",
      "metadata": {
        "id": "ReSzYyfXS1bL"
      },
      "source": [
        "### **1. Rationale2**\n"
      ]
    },
    {
      "cell_type": "code",
      "execution_count": null,
      "metadata": {
        "colab": {
          "base_uri": "https://localhost:8080/",
          "height": 411,
          "referenced_widgets": [
            "fb05814a7b674df19d9955e775651030",
            "4edefb2670594891827fd69bacdcb7b6",
            "8c9cd31aadf542848e20d0475196894e",
            "4a7bc6b8ac624456ae56787791809a57",
            "e4abf63bdc40440e8de35dd214bcc658",
            "263eddbac23042b5b9b7e384d5421114",
            "7ca56b6edf0441dd96b38e8476f18e73",
            "561617da52784138932c7067131dc46e",
            "c05590fca5444ed8ba33ecc055c1b9eb",
            "195a8bbf905a409fb6c855bfff6b08e3",
            "d1544add628e4e61b38689b5e684a89f",
            "438aa5df4c494abc95bd3b95340ef5ea",
            "d965038f0c75479cbb61c7e315e82561",
            "46af583ada3e4a71b44405e200e7b263",
            "fc9f75a00d9a443ba556b4af884cf4db",
            "b07c0a1daddf4e128f6c8b841a7a3240",
            "55cc5efa4c274c9db7cc381ab061e9b7",
            "00b4df20eb104689958f28aceed6f9c7",
            "a85dfa6dcaee46b184e3be5184d7284f",
            "44934daf58984acbb4192140de66bf5e",
            "95b57b9e57b44eaa816eba3373f86eee",
            "35d730b84969422ab0a6da6cd2a84a7c",
            "b8305241f81f43e390cd9311580a767f",
            "9569039e48224e22bae8f94cd02bcb36",
            "394bef1d6bc24eac8d537331d2d72fe0",
            "0762d6602b71480d8ad040d25258a1ad",
            "0a9b87fc2b984cb6a9d2d096a3f59d2b",
            "8f49e051842d4833baa01b94b113ae26",
            "563cd945275e46dba74a0094c566eb34",
            "479178d44f6e4a5684307926588a7090",
            "1c6efdac5ac64fd783440953a770696d",
            "0f74bd08bbef4f50bb85eec52a327135",
            "da989d73f2cb467f920620c4c85a23a4",
            "3399c2c2b52649928d9601ddba65da30",
            "fb8f5101fbed4cf2a2a8c3445f7ad8b4",
            "e0458fea3dfb4ef2959934d2d9dc0e5b",
            "065406c1771b4677b95593dad7d7e6ce",
            "41f7743c0ff4432d92337291a480a458",
            "e429df3f03b744c9b73688adf94a5a8f",
            "d5192ee97cc54278a6c92c9963961b41",
            "df17532f62d148e08feffb4d9a9e2892",
            "b44a35bd70ed44c0b1a5b48561b6dffa",
            "fca37f36f4f449cb81a3bef7e6320fc9",
            "a38adee40e8c4f68bc53027645361c64",
            "a050455f281447daa32c20a322f8c247",
            "9ad7756aee564574a93e5cffcbeae356",
            "37880e321a6b4f769e6d8eab6da1141d",
            "abfcd689d08c4930a1b321d9c8390cfe",
            "ac8d33de5b684970bed7be4e2d9a4100",
            "8f7e9dbbb2f947a5979246e4ab08f8e4",
            "8c350ca807a54f75a58b5f9aeabe1c51",
            "6da77ccf41a14495aae3a9649c9a138f",
            "15fc14d4eea64cc6b95b978a3830d025",
            "61dca3679d844a55a23f19e75e613e73",
            "8f9363cd2a0041418c8654720705fd37"
          ]
        },
        "id": "Rdj3DCK1S3gx",
        "outputId": "ff8333e2-05de-470f-abc6-1d0a83493123"
      },
      "outputs": [
        {
          "data": {
            "application/vnd.jupyter.widget-view+json": {
              "model_id": "fb05814a7b674df19d9955e775651030",
              "version_major": 2,
              "version_minor": 0
            },
            "text/plain": [
              "config.json:   0%|          | 0.00/790 [00:00<?, ?B/s]"
            ]
          },
          "metadata": {},
          "output_type": "display_data"
        },
        {
          "data": {
            "application/vnd.jupyter.widget-view+json": {
              "model_id": "438aa5df4c494abc95bd3b95340ef5ea",
              "version_major": 2,
              "version_minor": 0
            },
            "text/plain": [
              "pytorch_model.bin:   0%|          | 0.00/438M [00:00<?, ?B/s]"
            ]
          },
          "metadata": {},
          "output_type": "display_data"
        },
        {
          "name": "stderr",
          "output_type": "stream",
          "text": [
            "Some weights of the model checkpoint at Hate-speech-CNERG/bert-base-uncased-hatexplain-rationale-two were not used when initializing BertForSequenceClassification: ['bert_pooler.dense.bias', 'bert_pooler.dense.weight', 'token_classifier.bias', 'token_classifier.weight']\n",
            "- This IS expected if you are initializing BertForSequenceClassification from the checkpoint of a model trained on another task or with another architecture (e.g. initializing a BertForSequenceClassification model from a BertForPreTraining model).\n",
            "- This IS NOT expected if you are initializing BertForSequenceClassification from the checkpoint of a model that you expect to be exactly identical (initializing a BertForSequenceClassification model from a BertForSequenceClassification model).\n",
            "Some weights of BertForSequenceClassification were not initialized from the model checkpoint at Hate-speech-CNERG/bert-base-uncased-hatexplain-rationale-two and are newly initialized: ['bert.pooler.dense.bias', 'bert.pooler.dense.weight']\n",
            "You should probably TRAIN this model on a down-stream task to be able to use it for predictions and inference.\n"
          ]
        },
        {
          "data": {
            "application/vnd.jupyter.widget-view+json": {
              "model_id": "b8305241f81f43e390cd9311580a767f",
              "version_major": 2,
              "version_minor": 0
            },
            "text/plain": [
              "tokenizer_config.json:   0%|          | 0.00/299 [00:00<?, ?B/s]"
            ]
          },
          "metadata": {},
          "output_type": "display_data"
        },
        {
          "data": {
            "application/vnd.jupyter.widget-view+json": {
              "model_id": "3399c2c2b52649928d9601ddba65da30",
              "version_major": 2,
              "version_minor": 0
            },
            "text/plain": [
              "vocab.txt:   0%|          | 0.00/232k [00:00<?, ?B/s]"
            ]
          },
          "metadata": {},
          "output_type": "display_data"
        },
        {
          "data": {
            "application/vnd.jupyter.widget-view+json": {
              "model_id": "a050455f281447daa32c20a322f8c247",
              "version_major": 2,
              "version_minor": 0
            },
            "text/plain": [
              "special_tokens_map.json:   0%|          | 0.00/112 [00:00<?, ?B/s]"
            ]
          },
          "metadata": {},
          "output_type": "display_data"
        },
        {
          "name": "stderr",
          "output_type": "stream",
          "text": [
            "Device set to use cpu\n",
            "Some weights of the model checkpoint at Hate-speech-CNERG/bert-base-uncased-hatexplain-rationale-two were not used when initializing BertForSequenceClassification: ['bert_pooler.dense.bias', 'bert_pooler.dense.weight', 'token_classifier.bias', 'token_classifier.weight']\n",
            "- This IS expected if you are initializing BertForSequenceClassification from the checkpoint of a model trained on another task or with another architecture (e.g. initializing a BertForSequenceClassification model from a BertForPreTraining model).\n",
            "- This IS NOT expected if you are initializing BertForSequenceClassification from the checkpoint of a model that you expect to be exactly identical (initializing a BertForSequenceClassification model from a BertForSequenceClassification model).\n",
            "Some weights of BertForSequenceClassification were not initialized from the model checkpoint at Hate-speech-CNERG/bert-base-uncased-hatexplain-rationale-two and are newly initialized: ['bert.pooler.dense.bias', 'bert.pooler.dense.weight']\n",
            "You should probably TRAIN this model on a down-stream task to be able to use it for predictions and inference.\n"
          ]
        },
        {
          "name": "stdout",
          "output_type": "stream",
          "text": [
            "device = cpu\n"
          ]
        }
      ],
      "source": [
        "# Load Rationale2 model\n",
        "\n",
        "pipe_rationale2 = pipeline(\"text-classification\", model=\"Hate-speech-CNERG/bert-base-uncased-hatexplain-rationale-two\")\n",
        "tokenizer_rationale2 = AutoTokenizer.from_pretrained(\"Hate-speech-CNERG/bert-base-uncased-hatexplain-rationale-two\")\n",
        "model_rationale2 = AutoModelForSequenceClassification.from_pretrained(\"Hate-speech-CNERG/bert-base-uncased-hatexplain-rationale-two\")\n",
        "device = get_device()\n",
        "model_rationale2.to(device)\n",
        "model_rationale2.config.output_attentions=True"
      ]
    },
    {
      "cell_type": "code",
      "execution_count": null,
      "metadata": {
        "colab": {
          "base_uri": "https://localhost:8080/",
          "height": 178
        },
        "id": "BTR3sV-nxPtN",
        "outputId": "3dcaa69d-c536-40f8-d9f3-1f09ad5a77c2"
      },
      "outputs": [
        {
          "data": {
            "text/html": [
              "<div>\n",
              "<style scoped>\n",
              "    .dataframe tbody tr th:only-of-type {\n",
              "        vertical-align: middle;\n",
              "    }\n",
              "\n",
              "    .dataframe tbody tr th {\n",
              "        vertical-align: top;\n",
              "    }\n",
              "\n",
              "    .dataframe thead th {\n",
              "        text-align: right;\n",
              "    }\n",
              "</style>\n",
              "<table border=\"1\" class=\"dataframe\">\n",
              "  <thead>\n",
              "    <tr style=\"text-align: right;\">\n",
              "      <th></th>\n",
              "      <th>count</th>\n",
              "    </tr>\n",
              "    <tr>\n",
              "      <th>classification_pipe_rationale2</th>\n",
              "      <th></th>\n",
              "    </tr>\n",
              "  </thead>\n",
              "  <tbody>\n",
              "    <tr>\n",
              "      <th>NORMAL</th>\n",
              "      <td>3605</td>\n",
              "    </tr>\n",
              "    <tr>\n",
              "      <th>ABUSIVE</th>\n",
              "      <td>123</td>\n",
              "    </tr>\n",
              "  </tbody>\n",
              "</table>\n",
              "</div><br><label><b>dtype:</b> int64</label>"
            ],
            "text/plain": [
              "classification_pipe_rationale2\n",
              "NORMAL     3605\n",
              "ABUSIVE     123\n",
              "Name: count, dtype: int64"
            ]
          },
          "execution_count": 23,
          "metadata": {},
          "output_type": "execute_result"
        }
      ],
      "source": [
        "# Use hatecheck test suite case for initial evaluation\n",
        "df_hc['classification_pipe_rationale2'] = df_hc['test_case'].apply(lambda x: classify_text(x, pipe_rationale2))\n",
        "df_hc['classification_pipe_rationale2'].value_counts()"
      ]
    },
    {
      "cell_type": "code",
      "execution_count": null,
      "metadata": {
        "colab": {
          "base_uri": "https://localhost:8080/",
          "height": 503
        },
        "id": "5pHVbM3Z1Wl0",
        "outputId": "29b9e57c-4717-48aa-cc05-6f253c457a1e"
      },
      "outputs": [
        {
          "name": "stdout",
          "output_type": "stream",
          "text": [
            "rationale-two\n",
            "Accuracy: 0.3342\n",
            "F1 Score: 0.0759\n"
          ]
        },
        {
          "data": {
            "image/png": "[encoded data removed]",
            "text/plain": [
              "<Figure size 640x480 with 2 Axes>"
            ]
          },
          "metadata": {},
          "output_type": "display_data"
        }
      ],
      "source": [
        "statistics_for_classification('rationale-two', 'classification_pipe_rationale2', 'ABUSIVE')\n"
      ]
    },
    {
      "cell_type": "code",
      "execution_count": null,
      "metadata": {
        "colab": {
          "base_uri": "https://localhost:8080/"
        },
        "id": "xlViFf6XxR3Y",
        "outputId": "d1e230d9-09e0-4817-c638-ee5b5142532d"
      },
      "outputs": [
        {
          "name": "stderr",
          "output_type": "stream",
          "text": [
            "EVAL | # 0:   0%|          | 1/1924 [00:00<16:08,  1.99it/s]"
          ]
        },
        {
          "name": "stdout",
          "output_type": "stream",
          "text": [
            "Texts: ('<user> men can not be raped can not be abused that why they call it violence against women and children because men are always the perpetrators women come first even before children',)\n",
            "Labels: tensor([0])\n",
            "Logits: tensor([[-0.1992,  0.0008]])\n"
          ]
        },
        {
          "name": "stderr",
          "output_type": "stream",
          "text": [
            "\rEVAL | # 0:   0%|          | 2/1924 [00:00<13:23,  2.39it/s]"
          ]
        },
        {
          "name": "stdout",
          "output_type": "stream",
          "text": [
            "Texts: ('<user> you are missing an essential premise whether any of those immigrants committed any crimes dumbass',)\n",
            "Labels: tensor([0])\n",
            "Logits: tensor([[-0.1023, -0.1343]])\n"
          ]
        },
        {
          "name": "stderr",
          "output_type": "stream",
          "text": [
            "\rEVAL | # 0:   0%|          | 3/1924 [00:01<13:02,  2.45it/s]"
          ]
        },
        {
          "name": "stdout",
          "output_type": "stream",
          "text": [
            "Texts: ('<user> <user> why are you repeating yourself are you a little retarded',)\n",
            "Labels: tensor([1])\n",
            "Logits: tensor([[-0.1824,  0.0226]])\n"
          ]
        },
        {
          "name": "stderr",
          "output_type": "stream",
          "text": [
            "\rEVAL | # 0:   0%|          | 4/1924 [00:01<12:55,  2.48it/s]"
          ]
        },
        {
          "name": "stdout",
          "output_type": "stream",
          "text": [
            "Texts: ('<user> <user> well she ’ muslim so of course she hates the jews jew hatred is one of the defining feature of islam',)\n",
            "Labels: tensor([1])\n",
            "Logits: tensor([[-0.1687, -0.0771]])\n"
          ]
        },
        {
          "name": "stderr",
          "output_type": "stream",
          "text": [
            "\rEVAL | # 0:   0%|          | 5/1924 [00:02<17:54,  1.79it/s]"
          ]
        },
        {
          "name": "stdout",
          "output_type": "stream",
          "text": [
            "Texts: ('<user> lol not me i don ’ t deal with bms not outside children ’ ss i leave that ghetto mess for everybody else :face_with_tears_of_joy: :face_with_tears_of_joy: :face_with_tears_of_joy:',)\n",
            "Labels: tensor([1])\n",
            "Logits: tensor([[-0.1079, -0.0024]])\n"
          ]
        },
        {
          "name": "stderr",
          "output_type": "stream",
          "text": [
            "\rEVAL | # 0:   0%|          | 6/1924 [00:02<14:14,  2.25it/s]"
          ]
        },
        {
          "name": "stdout",
          "output_type": "stream",
          "text": [
            "Texts: ('an these nigger biches look like godzilla nasty',)\n",
            "Labels: tensor([1])\n",
            "Logits: tensor([[-0.1224,  0.1284]])\n"
          ]
        },
        {
          "name": "stderr",
          "output_type": "stream",
          "text": [
            "\rEVAL | # 0:   0%|          | 7/1924 [00:02<11:57,  2.67it/s]"
          ]
        },
        {
          "name": "stdout",
          "output_type": "stream",
          "text": [
            "Texts: ('yeah humnh what how do i use this app i ’ m alittle retarded :ogre:',)\n",
            "Labels: tensor([1])\n",
            "Logits: tensor([[-0.1057, -0.0115]])\n"
          ]
        },
        {
          "name": "stderr",
          "output_type": "stream",
          "text": [
            "\rEVAL | # 0:   0%|          | 8/1924 [00:03<12:38,  2.53it/s]"
          ]
        },
        {
          "name": "stdout",
          "output_type": "stream",
          "text": [
            "Texts: ('black people are oppressed by their own culture and community blacks need to wake and realize the democrats party is the racist party that uses them for votes the kk democrats have broken up the black family and run the community onto the ghetto plantation to control it youvebeenpunkd',)\n",
            "Labels: tensor([1])\n",
            "Logits: tensor([[-0.1043,  0.1172]])\n"
          ]
        },
        {
          "name": "stderr",
          "output_type": "stream",
          "text": [
            "EVAL | # 0:   1%|          | 10/1924 [00:03<09:15,  3.44it/s]"
          ]
        },
        {
          "name": "stdout",
          "output_type": "stream",
          "text": [
            "Texts: ('education or marxist indoctrination since it is well established blacks are incapable of learning anything past the age of ten unless they are half white should not blacks go to a trade school upon age <number> say learning how to pick cotton fruits and vegetables',)\n",
            "Labels: tensor([1])\n",
            "Logits: tensor([[ 0.0030, -0.0961]])\n",
            "Texts: ('fell outta love and found a boss bitch',)\n",
            "Labels: tensor([0])\n",
            "Logits: tensor([[ 0.0185, -0.0281]])\n"
          ]
        },
        {
          "name": "stderr",
          "output_type": "stream",
          "text": [
            "EVAL | # 0: 100%|██████████| 1924/1924 [06:20<00:00,  5.06it/s]\n"
          ]
        }
      ],
      "source": [
        "# Evaluate Rationale2 on hate explaine test set\n",
        "losses, loss_avg, acc, f1, time_avg, cm = evaluate(model_rationale2, hate_explain_dataloader, tokenizer_rationale2, device)\n"
      ]
    },
    {
      "cell_type": "code",
      "execution_count": null,
      "metadata": {
        "colab": {
          "base_uri": "https://localhost:8080/",
          "height": 538
        },
        "id": "UHJOUG6T7MA4",
        "outputId": "b7bac314-9c79-49d2-c7f9-83a4ede19420"
      },
      "outputs": [
        {
          "name": "stdout",
          "output_type": "stream",
          "text": [
            "Loss_avg: [0.6607747238106143] / min: 0.5053178071975708 / max: 0.8957202434539795 | Consumed_time: 0.19329831567970482\n",
            "\n",
            "** Performance-based Scores **\n",
            "Acc: 0.6741164241164241 | F1: 0.5998228582517702  \n",
            "\n"
          ]
        },
        {
          "data": {
            "image/png": "[encoded data removed]",
            "text/plain": [
              "<Figure size 640x480 with 2 Axes>"
            ]
          },
          "metadata": {},
          "output_type": "display_data"
        }
      ],
      "source": [
        "print(\"Loss_avg: {} / min: {} / max: {} | Consumed_time: {}\\n\".format(loss_avg, min(losses), max(losses), time_avg))\n",
        "print(\"** Performance-based Scores **\")\n",
        "print(\"Acc: {} | F1: {}  \\n\".format(acc[0], f1))\n",
        "disp = ConfusionMatrixDisplay(confusion_matrix=cm, display_labels=['non-toxic', 'toxic'])\n",
        "\n",
        "disp.plot()\n",
        "plt.show()"
      ]
    },
    {
      "cell_type": "code",
      "execution_count": null,
      "metadata": {
        "colab": {
          "base_uri": "https://localhost:8080/",
          "height": 1000
        },
        "id": "nzJvO2BYxT4o",
        "outputId": "86dcce2e-3a43-4ad6-dbea-3cc7bbc90845"
      },
      "outputs": [
        {
          "name": "stderr",
          "output_type": "stream",
          "text": [
            "EVAL | # 0:   0%|          | 0/1924 [00:00<?, ?it/s]BertSdpaSelfAttention is used but `torch.nn.functional.scaled_dot_product_attention` does not support non-absolute `position_embedding_type` or `output_attentions=True` or `head_mask`. Falling back to the manual attention implementation, but specifying the manual implementation will be required from Transformers version v5.0.0 onwards. This warning can be removed using the argument `attn_implementation=\"eager\"` when loading the model.\n",
            "EVAL | # 0:   0%|          | 1/1924 [00:00<20:23,  1.57it/s]"
          ]
        },
        {
          "name": "stdout",
          "output_type": "stream",
          "text": [
            "Texts: ('<user> men can not be raped can not be abused that why they call it violence against women and children because men are always the perpetrators women come first even before children',)\n",
            "Labels: tensor([0])\n",
            "Logits: tensor([[-0.1532,  0.0407]])\n"
          ]
        },
        {
          "name": "stderr",
          "output_type": "stream",
          "text": [
            "\rEVAL | # 0:   0%|          | 2/1924 [00:00<12:37,  2.54it/s]"
          ]
        },
        {
          "name": "stdout",
          "output_type": "stream",
          "text": [
            "Texts: ('<user> you are missing an essential premise whether any of those immigrants committed any crimes dumbass',)\n",
            "Labels: tensor([0])\n",
            "Logits: tensor([[0.0540, 0.1824]])\n"
          ]
        },
        {
          "name": "stderr",
          "output_type": "stream",
          "text": [
            "\rEVAL | # 0:   0%|          | 3/1924 [00:01<12:25,  2.58it/s]"
          ]
        },
        {
          "name": "stdout",
          "output_type": "stream",
          "text": [
            "Texts: ('<user> <user> why are you repeating yourself are you a little retarded',)\n",
            "Labels: tensor([1])\n",
            "Logits: tensor([[0.0254, 0.1830]])\n"
          ]
        },
        {
          "name": "stderr",
          "output_type": "stream",
          "text": [
            "\rEVAL | # 0:   0%|          | 4/1924 [00:01<11:53,  2.69it/s]"
          ]
        },
        {
          "name": "stdout",
          "output_type": "stream",
          "text": [
            "Texts: ('<user> <user> well she ’ muslim so of course she hates the jews jew hatred is one of the defining feature of islam',)\n",
            "Labels: tensor([1])\n",
            "Logits: tensor([[0.1052, 0.1108]])\n"
          ]
        },
        {
          "name": "stderr",
          "output_type": "stream",
          "text": [
            "\rEVAL | # 0:   0%|          | 5/1924 [00:02<17:33,  1.82it/s]"
          ]
        },
        {
          "name": "stdout",
          "output_type": "stream",
          "text": [
            "Texts: ('<user> lol not me i don ’ t deal with bms not outside children ’ ss i leave that ghetto mess for everybody else :face_with_tears_of_joy: :face_with_tears_of_joy: :face_with_tears_of_joy:',)\n",
            "Labels: tensor([1])\n",
            "Logits: tensor([[0.0254, 0.1210]])\n"
          ]
        },
        {
          "name": "stderr",
          "output_type": "stream",
          "text": [
            "\rEVAL | # 0:   0%|          | 6/1924 [00:02<14:58,  2.13it/s]"
          ]
        },
        {
          "name": "stdout",
          "output_type": "stream",
          "text": [
            "Texts: ('an these nigger biches look like godzilla nasty',)\n",
            "Labels: tensor([1])\n",
            "Logits: tensor([[0.0340, 0.1051]])\n"
          ]
        },
        {
          "name": "stderr",
          "output_type": "stream",
          "text": [
            "\rEVAL | # 0:   0%|          | 7/1924 [00:03<14:22,  2.22it/s]"
          ]
        },
        {
          "name": "stdout",
          "output_type": "stream",
          "text": [
            "Texts: ('yeah humnh what how do i use this app i ’ m alittle retarded :ogre:',)\n",
            "Labels: tensor([1])\n",
            "Logits: tensor([[-0.0255,  0.1880]])\n"
          ]
        },
        {
          "name": "stderr",
          "output_type": "stream",
          "text": [
            "\rEVAL | # 0:   0%|          | 8/1924 [00:03<14:27,  2.21it/s]"
          ]
        },
        {
          "name": "stdout",
          "output_type": "stream",
          "text": [
            "Texts: ('black people are oppressed by their own culture and community blacks need to wake and realize the democrats party is the racist party that uses them for votes the kk democrats have broken up the black family and run the community onto the ghetto plantation to control it youvebeenpunkd',)\n",
            "Labels: tensor([1])\n",
            "Logits: tensor([[0.1427, 0.1336]])\n"
          ]
        },
        {
          "name": "stderr",
          "output_type": "stream",
          "text": [
            "EVAL | # 0:   1%|          | 10/1924 [00:04<11:00,  2.90it/s]"
          ]
        },
        {
          "name": "stdout",
          "output_type": "stream",
          "text": [
            "Texts: ('education or marxist indoctrination since it is well established blacks are incapable of learning anything past the age of ten unless they are half white should not blacks go to a trade school upon age <number> say learning how to pick cotton fruits and vegetables',)\n",
            "Labels: tensor([1])\n",
            "Logits: tensor([[0.1808, 0.1844]])\n",
            "Texts: ('fell outta love and found a boss bitch',)\n",
            "Labels: tensor([0])\n",
            "Logits: tensor([[-0.0313,  0.1354]])\n"
          ]
        },
        {
          "name": "stderr",
          "output_type": "stream",
          "text": [
            "EVAL | # 0: 100%|██████████| 1924/1924 [07:04<00:00,  4.53it/s]\n"
          ]
        },
        {
          "name": "stdout",
          "output_type": "stream",
          "text": [
            "Loss_avg: [0.6887582161012658] / min: 0.5175471901893616 / max: 0.8835873603820801 | Consumed_time: 0.21587268912123048\n",
            "\n",
            "** Performance-based Scores **\n",
            "Acc: 0.5446985446985447 | F1: 0.4342840341076154  \n",
            "\n"
          ]
        },
        {
          "data": {
            "image/png": "[encoded data removed]",
            "text/plain": [
              "<Figure size 640x480 with 2 Axes>"
            ]
          },
          "metadata": {},
          "output_type": "display_data"
        }
      ],
      "source": [
        "# Evaluate Rationale2 model on perturbed hate_explain\n",
        "losses, loss_avg, acc, f1, time_avg, cm, _ = evaluate(model_rationale2, hate_explain_dataloader_perturbed, tokenizer_rationale2, device)\n",
        "\n",
        "print(\"Loss_avg: {} / min: {} / max: {} | Consumed_time: {}\\n\".format(loss_avg, min(losses), max(losses), time_avg))\n",
        "print(\"** Performance-based Scores **\")\n",
        "print(\"Acc: {} | F1: {}  \\n\".format(acc[0], f1))\n",
        "disp = ConfusionMatrixDisplay(confusion_matrix=cm, display_labels=['non-toxic', 'toxic'])\n",
        "\n",
        "disp.plot()\n",
        "plt.show()"
      ]
    },
    {
      "cell_type": "code",
      "execution_count": null,
      "metadata": {
        "colab": {
          "base_uri": "https://localhost:8080/",
          "height": 701
        },
        "id": "zYD1g9HP1qHu",
        "outputId": "9bc04c58-657c-4bf6-e6a5-9bf2c4e09f83"
      },
      "outputs": [
        {
          "name": "stdout",
          "output_type": "stream",
          "text": [
            "Unique values in 'transformed_text': ['Those two individuals were the first bigoted people in the presidential residence.'\n",
            " '\"Is there any use in responding to this intellectually challenged individual, I suppose not, continue living in your happiness.\"'\n",
            " \"If you cover the costs for the military carrying out the bidding of the Jews, I will not stand for it. The agriculture department functions at the president's convenience, and he has the authority to instruct the agriculture department to apprehend them.\"\n",
            " ...\n",
            " 'Jewish people are the sole adversaries in the entirety of global history who revert to invoking anti-Semitism as a means to resist my actions, oh woe is me.'\n",
            " 'Gratitude to Jewish people for initiating it.'\n",
            " 'To be frank, the only female I would never consider for a relationship is a dark-skinned woman. Hispanic women are acceptable, and so are Asians, though my preference for them has waned. However, Caucasian women can be mentally unstable. Women of Indian and Arab descent might be considered, but they must be hairless - no exceptions.']\n",
            "Unique values in 'classification_pipe_rationale2': ['NORMAL' 'ABUSIVE']\n",
            "Unique values in 'label_gold_binary': [1]\n",
            "Unique values in 'classification_binary': [0 1]\n",
            "rationale-two\n",
            "Accuracy: 0.5898\n",
            "F1 Score: 0.7420\n"
          ]
        },
        {
          "data": {
            "image/png": "[encoded data removed]",
            "text/plain": [
              "<Figure size 640x480 with 2 Axes>"
            ]
          },
          "metadata": {},
          "output_type": "display_data"
        }
      ],
      "source": [
        "# Re-evaluate the Rationale2 model behavior on a cleaned version\n",
        "# of the perturbed hatecheck dataset\n",
        "clean_transformed_hatecheck_df['classification_pipe_rationale2'] = clean_transformed_hatecheck_df['transformed_text'].apply(lambda x: classify_text(x, pipe_rationale2))\n",
        "statistics_for_classification_v2(clean_transformed_hatecheck_df, 'rationale-two', 'classification_pipe_rationale2', 'ABUSIVE')\n"
      ]
    },
    {
      "cell_type": "markdown",
      "metadata": {
        "id": "kTLvuVNBT4Lo"
      },
      "source": [
        "### **2. RoBERTa Hate Speech**\n"
      ]
    },
    {
      "cell_type": "code",
      "execution_count": 19,
      "metadata": {
        "colab": {
          "base_uri": "https://localhost:8080/",
          "height": 348,
          "referenced_widgets": [
            "c953662012b94b18974b699a7b67dab6",
            "657ebf95e6cd453baf1be08cdbc27095",
            "c6a621ef18dc4d48a16b93e2756086e9",
            "1f302966591340dab17eab31b2fd74db",
            "bece7ec6eeae4b99be4dab71068701ae",
            "68e2ca0c7ada460bbf528d3521238160",
            "14157f97a82e4b74a558b5eeb161b6cf",
            "9bf6c06482e34f29af8c5c174df0b649",
            "f47858f2e04d4bcd957aee1c4907716a",
            "666cc70f3ff74d30ae30c2571d1fad98",
            "9f4145360c4c4704a4b5cf5c69286657",
            "b3c136c7b3fb437b88d223b4b9f46924",
            "af09bee1dc19407ca93bac1ff79db79f",
            "ee8d9d0f70b84fca884aab2c4b8f830d",
            "713fe02ec9774036b16d9e2a97b75d0a",
            "f336a581d0804882a0edb22a030153b4",
            "eb857064121940e39b93023c3d6e2a52",
            "8d0d9c9284084c6e806448d0412aaae7",
            "191593c17ed04a168547c67d4aff689a",
            "5f84f2a7e37b4276943740986ad4d602",
            "3540118e512b45eb88d2edc505a59cec",
            "d5bd9cac51d144d2bf5f650012583f26",
            "7b2812b253b443ed8fd1d96d6b890fef",
            "80846cb78bb14f88bfa085dfae93d009",
            "f7007587b938460a94c65e26d1376a75",
            "bd6bf60a9a2d4917850502400f295baf",
            "50f1c9a29d984bacabe1a193400bcf39",
            "bfc7d27e5f4b46d7bb740f0b9fb36fad",
            "25d24b48307e4d309acee46ee80a472a",
            "15991273435c4d80a27ce2c6a73ade25",
            "c3e27f069fe34c25bf5dc51822bbf7ec",
            "f1493f9be1a6463ea90e50e1ae35df5b",
            "9735cfb4415b457b9e3b4bb4a35902b0",
            "f3a555d5a0a74f09aa95b0283c022394",
            "2c700a6efaa94f48a693bb248141be47",
            "47683167bdea4212be418a5a1a29e8e4",
            "6c89d56fc2874ce48fcc67e61598ef60",
            "9f19589ca61148f8b7fc1a3201266f7a",
            "81e899832b964ffb8b2f7be30e8ce5d1",
            "3f9076875ebb484ba0adbfd3c3922a22",
            "ac2c2cccf3c24659afc855294058c022",
            "59197dc857c44727a24cac94a35cf298",
            "8a78de57f0164bceac1670317b93edb8",
            "9838b1d4b52f4f51a00e56696872fa50",
            "5ef97c93fc6b41f598a78cb5af57661e",
            "c0f1f9c98ff84a09bc66e0d708190224",
            "a01812bbc4a9432dbfb19e5600185b01",
            "61cd687cda69482dbcfea8a263a0b350",
            "5edc6c55bacf47d1a04410530cb7004c",
            "de96a2bc5e104727ac22169221399039",
            "b9358277e02148e08e2bc3fea0cbeb5f",
            "b0a778c5a46341b386499b79a8a18081",
            "81afac1eff1343fda9045007412bcaf7",
            "4d2cf32fb3b742158c6ec1ecd0b8ce75",
            "9a3fe20e6e5349e5bb5750b9f8de757d",
            "39cc3a04bc8841dcbb5cd6eb696b9920",
            "67b5e7b4744a497881c28b4315b8963a",
            "da5c3399de084eb5adad40f04a0180e2",
            "8fad6e44126d4f77a507cd8e29bc6599",
            "5c5e9e37782d45ec83ae2c236860d81a",
            "95098e06c5284a729fcd503ec99e3263",
            "048f0f4e69f14a69a5d0d34482116478",
            "edff94e24c454e65b37e3e9c728f62bf",
            "917f2bb4eada4071ba3bb3a76040557a",
            "4c6ffd21b0a648bc87def567c4663dde",
            "39aebf0497d442eaa1963f416790f5a1"
          ]
        },
        "id": "3Q1TV88UTxjJ",
        "outputId": "063c10e0-7ca3-4b05-b88a-3523e825f536"
      },
      "outputs": [
        {
          "output_type": "stream",
          "name": "stderr",
          "text": [
            "/usr/local/lib/python3.11/dist-packages/huggingface_hub/utils/_auth.py:94: UserWarning: \n",
            "The secret `HF_TOKEN` does not exist in your Colab secrets.\n",
            "To authenticate with the Hugging Face Hub, create a token in your settings tab (https://huggingface.co/settings/tokens), set it as secret in your Google Colab and restart your session.\n",
            "You will be able to reuse this secret in all of your notebooks.\n",
            "Please note that authentication is recommended but still optional to access public models or datasets.\n",
            "  warnings.warn(\n"
          ]
        },
        {
          "output_type": "display_data",
          "data": {
            "text/plain": [
              "tokenizer_config.json:   0%|          | 0.00/1.11k [00:00<?, ?B/s]"
            ],
            "application/vnd.jupyter.widget-view+json": {
              "version_major": 2,
              "version_minor": 0,
              "model_id": "c953662012b94b18974b699a7b67dab6"
            }
          },
          "metadata": {}
        },
        {
          "output_type": "display_data",
          "data": {
            "text/plain": [
              "vocab.json:   0%|          | 0.00/899k [00:00<?, ?B/s]"
            ],
            "application/vnd.jupyter.widget-view+json": {
              "version_major": 2,
              "version_minor": 0,
              "model_id": "b3c136c7b3fb437b88d223b4b9f46924"
            }
          },
          "metadata": {}
        },
        {
          "output_type": "display_data",
          "data": {
            "text/plain": [
              "merges.txt:   0%|          | 0.00/456k [00:00<?, ?B/s]"
            ],
            "application/vnd.jupyter.widget-view+json": {
              "version_major": 2,
              "version_minor": 0,
              "model_id": "7b2812b253b443ed8fd1d96d6b890fef"
            }
          },
          "metadata": {}
        },
        {
          "output_type": "display_data",
          "data": {
            "text/plain": [
              "special_tokens_map.json:   0%|          | 0.00/239 [00:00<?, ?B/s]"
            ],
            "application/vnd.jupyter.widget-view+json": {
              "version_major": 2,
              "version_minor": 0,
              "model_id": "f3a555d5a0a74f09aa95b0283c022394"
            }
          },
          "metadata": {}
        },
        {
          "output_type": "display_data",
          "data": {
            "text/plain": [
              "config.json:   0%|          | 0.00/816 [00:00<?, ?B/s]"
            ],
            "application/vnd.jupyter.widget-view+json": {
              "version_major": 2,
              "version_minor": 0,
              "model_id": "5ef97c93fc6b41f598a78cb5af57661e"
            }
          },
          "metadata": {}
        },
        {
          "output_type": "display_data",
          "data": {
            "text/plain": [
              "model.safetensors:   0%|          | 0.00/499M [00:00<?, ?B/s]"
            ],
            "application/vnd.jupyter.widget-view+json": {
              "version_major": 2,
              "version_minor": 0,
              "model_id": "39cc3a04bc8841dcbb5cd6eb696b9920"
            }
          },
          "metadata": {}
        },
        {
          "output_type": "stream",
          "name": "stdout",
          "text": [
            "device = cuda\n"
          ]
        },
        {
          "output_type": "stream",
          "name": "stderr",
          "text": [
            "Device set to use cuda:0\n"
          ]
        }
      ],
      "source": [
        "# Load RoBERTa Hate Speech model\n",
        "tokenizer_roberta_hate = AutoTokenizer.from_pretrained(\"facebook/roberta-hate-speech-dynabench-r4-target\")\n",
        "model_roberta_hate = AutoModelForSequenceClassification.from_pretrained(\"facebook/roberta-hate-speech-dynabench-r4-target\")\n",
        "device = get_device()\n",
        "model_roberta_hate.to(device)\n",
        "model_roberta_hate.config.output_attentions=True\n",
        "pipe_roberta_hate = pipeline(\"text-classification\", model=\"facebook/roberta-hate-speech-dynabench-r4-target\")\n",
        "\n"
      ]
    },
    {
      "cell_type": "code",
      "execution_count": null,
      "metadata": {
        "colab": {
          "base_uri": "https://localhost:8080/",
          "height": 520
        },
        "id": "wR7-O1yBxWPZ",
        "outputId": "22cb7347-7701-4a3a-8bf9-d248e731b7b9"
      },
      "outputs": [
        {
          "name": "stderr",
          "output_type": "stream",
          "text": [
            "Device set to use cpu\n"
          ]
        },
        {
          "name": "stdout",
          "output_type": "stream",
          "text": [
            "roberta-hate\n",
            "Accuracy: 0.9560\n",
            "F1 Score: 0.9682\n"
          ]
        },
        {
          "data": {
            "image/png": "[encoded data removed]",
            "text/plain": [
              "<Figure size 640x480 with 2 Axes>"
            ]
          },
          "metadata": {},
          "output_type": "display_data"
        }
      ],
      "source": [
        "# Use hatecheck test suite case for initial evaluation\n",
        "df_hc['classification_roberta_hate'] = df_hc['test_case'].apply(lambda x: classify_text(x, pipe_roberta_hate))\n",
        "statistics_for_classification('roberta-hate', 'classification_roberta_hate', 'hate')\n"
      ]
    },
    {
      "cell_type": "code",
      "execution_count": null,
      "metadata": {
        "colab": {
          "base_uri": "https://localhost:8080/"
        },
        "id": "NO-b1tj5xYsC",
        "outputId": "b44708f2-0e02-445d-ac8f-3953e6a6a8b0"
      },
      "outputs": [
        {
          "name": "stderr",
          "output_type": "stream",
          "text": [
            "EVAL | # 0:   0%|          | 1/1924 [00:00<13:40,  2.34it/s]"
          ]
        },
        {
          "name": "stdout",
          "output_type": "stream",
          "text": [
            "Texts: ('<user> men can not be raped can not be abused that why they call it violence against women and children because men are always the perpetrators women come first even before children',)\n",
            "Labels: tensor([0])\n",
            "Logits: tensor([[ 0.7073, -0.6594]])\n"
          ]
        },
        {
          "name": "stderr",
          "output_type": "stream",
          "text": [
            "\rEVAL | # 0:   0%|          | 2/1924 [00:00<09:41,  3.30it/s]"
          ]
        },
        {
          "name": "stdout",
          "output_type": "stream",
          "text": [
            "Texts: ('<user> you are missing an essential premise whether any of those immigrants committed any crimes dumbass',)\n",
            "Labels: tensor([0])\n",
            "Logits: tensor([[-0.8224,  0.4746]])\n",
            "Texts: ('<user> <user> why are you repeating yourself are you a little retarded',)\n",
            "Labels: tensor([1])\n",
            "Logits: tensor([[-1.4465,  1.1845]])\n"
          ]
        },
        {
          "name": "stderr",
          "output_type": "stream",
          "text": [
            "EVAL | # 0:   0%|          | 4/1924 [00:01<09:19,  3.43it/s]"
          ]
        },
        {
          "name": "stdout",
          "output_type": "stream",
          "text": [
            "Texts: ('<user> <user> well she ’ muslim so of course she hates the jews jew hatred is one of the defining feature of islam',)\n",
            "Labels: tensor([1])\n",
            "Logits: tensor([[-1.2222,  0.8895]])\n"
          ]
        },
        {
          "name": "stderr",
          "output_type": "stream",
          "text": [
            "EVAL | # 0:   0%|          | 6/1924 [00:01<09:51,  3.24it/s]"
          ]
        },
        {
          "name": "stdout",
          "output_type": "stream",
          "text": [
            "Texts: ('<user> lol not me i don ’ t deal with bms not outside children ’ ss i leave that ghetto mess for everybody else :face_with_tears_of_joy: :face_with_tears_of_joy: :face_with_tears_of_joy:',)\n",
            "Labels: tensor([1])\n",
            "Logits: tensor([[-0.6041,  0.3148]])\n",
            "Texts: ('an these nigger biches look like godzilla nasty',)\n",
            "Labels: tensor([1])\n",
            "Logits: tensor([[-4.2413,  3.7721]])\n"
          ]
        },
        {
          "name": "stderr",
          "output_type": "stream",
          "text": [
            "\rEVAL | # 0:   0%|          | 7/1924 [00:02<09:00,  3.55it/s]"
          ]
        },
        {
          "name": "stdout",
          "output_type": "stream",
          "text": [
            "Texts: ('yeah humnh what how do i use this app i ’ m alittle retarded :ogre:',)\n",
            "Labels: tensor([1])\n",
            "Logits: tensor([[-1.0961,  0.7521]])\n"
          ]
        },
        {
          "name": "stderr",
          "output_type": "stream",
          "text": [
            "\rEVAL | # 0:   0%|          | 8/1924 [00:02<10:48,  2.96it/s]"
          ]
        },
        {
          "name": "stdout",
          "output_type": "stream",
          "text": [
            "Texts: ('black people are oppressed by their own culture and community blacks need to wake and realize the democrats party is the racist party that uses them for votes the kk democrats have broken up the black family and run the community onto the ghetto plantation to control it youvebeenpunkd',)\n",
            "Labels: tensor([1])\n",
            "Logits: tensor([[-0.9054,  0.5590]])\n"
          ]
        },
        {
          "name": "stderr",
          "output_type": "stream",
          "text": [
            "\rEVAL | # 0:   0%|          | 9/1924 [00:03<14:45,  2.16it/s]"
          ]
        },
        {
          "name": "stdout",
          "output_type": "stream",
          "text": [
            "Texts: ('education or marxist indoctrination since it is well established blacks are incapable of learning anything past the age of ten unless they are half white should not blacks go to a trade school upon age <number> say learning how to pick cotton fruits and vegetables',)\n",
            "Labels: tensor([1])\n",
            "Logits: tensor([[-2.6830,  2.4011]])\n"
          ]
        },
        {
          "name": "stderr",
          "output_type": "stream",
          "text": [
            "\rEVAL | # 0:   1%|          | 10/1924 [00:03<15:03,  2.12it/s]"
          ]
        },
        {
          "name": "stdout",
          "output_type": "stream",
          "text": [
            "Texts: ('fell outta love and found a boss bitch',)\n",
            "Labels: tensor([0])\n",
            "Logits: tensor([[-3.6164,  3.2102]])\n"
          ]
        },
        {
          "name": "stderr",
          "output_type": "stream",
          "text": [
            "EVAL | # 0: 100%|██████████| 1924/1924 [06:08<00:00,  5.21it/s]\n"
          ]
        }
      ],
      "source": [
        "# Evaluate RoBERTa Hate Speech on hate explaine test set\n",
        "losses, loss_avg, acc, f1, time_avg, cm = evaluate(model_roberta_hate, hate_explain_dataloader, tokenizer_roberta_hate, device)\n"
      ]
    },
    {
      "cell_type": "code",
      "execution_count": null,
      "metadata": {
        "colab": {
          "base_uri": "https://localhost:8080/",
          "height": 538
        },
        "id": "12b2LzMl6yCM",
        "outputId": "d9a532e7-8c28-4828-daf8-3bf435277906"
      },
      "outputs": [
        {
          "name": "stdout",
          "output_type": "stream",
          "text": [
            "Loss_avg: [0.9906081551174464] / min: 0.00013290952483657748 / max: 8.88174057006836 | Consumed_time: 0.18759795248880207\n",
            "\n",
            "** Performance-based Scores **\n",
            "Acc: 0.7318087318087318 | F1: 0.7064002697091755  \n",
            "\n"
          ]
        },
        {
          "data": {
            "image/png": "[encoded data removed]",
            "text/plain": [
              "<Figure size 640x480 with 2 Axes>"
            ]
          },
          "metadata": {},
          "output_type": "display_data"
        }
      ],
      "source": [
        "print(\"Loss_avg: {} / min: {} / max: {} | Consumed_time: {}\\n\".format(loss_avg, min(losses), max(losses), time_avg))\n",
        "print(\"** Performance-based Scores **\")\n",
        "print(\"Acc: {} | F1: {}  \\n\".format(acc[0], f1))\n",
        "disp = ConfusionMatrixDisplay(confusion_matrix=cm, display_labels=['non-toxic', 'toxic'])\n",
        "\n",
        "disp.plot()\n",
        "plt.show()"
      ]
    },
    {
      "cell_type": "code",
      "execution_count": 24,
      "metadata": {
        "colab": {
          "base_uri": "https://localhost:8080/"
        },
        "id": "K6W3kignxaYU",
        "outputId": "f7048e2a-0969-43f3-d16c-94bc93c66053"
      },
      "outputs": [
        {
          "output_type": "stream",
          "name": "stderr",
          "text": [
            "\rEVAL | # 0:   0%|          | 0/1067 [00:00<?, ?it/s]RobertaSdpaSelfAttention is used but `torch.nn.functional.scaled_dot_product_attention` does not support non-absolute `position_embedding_type` or `output_attentions=True` or `head_mask`. Falling back to the manual attention implementation, but specifying the manual implementation will be required from Transformers version v5.0.0 onwards. This warning can be removed using the argument `attn_implementation=\"eager\"` when loading the model.\n"
          ]
        },
        {
          "output_type": "stream",
          "name": "stdout",
          "text": [
            "Texts: ('\"Is there any use in responding to this intellectually challenged individual, I suppose not, continue living in your happiness.\"',)\n",
            "Labels: tensor([1])\n",
            "Logits: "
          ]
        },
        {
          "output_type": "stream",
          "name": "stderr",
          "text": [
            "EVAL | # 0:   1%|          | 8/1067 [00:01<00:59, 17.79it/s]"
          ]
        },
        {
          "output_type": "stream",
          "name": "stdout",
          "text": [
            "tensor([[-1.7202,  1.4336]], device='cuda:0')\n",
            "Texts: (\"If you cover the costs for the military carrying out the bidding of the Jews, I will not stand for it. The agriculture department functions at the president's convenience, and he has the authority to instruct the agriculture department to apprehend them.\",)\n",
            "Labels: tensor([1])\n",
            "Logits: tensor([[-2.7580,  2.5033]], device='cuda:0')\n",
            "Texts: ('Individuals leaning left are entirely indoctrinated and intellectually challenged; they need to hear the very same words echoed back at them, which disrupts their programming. Always remember that all left-leaning individuals are merely a type of software program; refrain from using logic and instead appeal to their emotions.',)\n",
            "Labels: tensor([1])\n",
            "Logits: tensor([[ 4.2165, -3.7116]], device='cuda:0')\n",
            "Texts: ('Nazi individuals are first-rate jerks, a mere joke compared to solid republican\\\\_{number}. The easily-frightened antifa and Hezbollah members are mere grains of sand in comparison. A small number of millennials, labeled as foolish, have some courage, while most democrats, viewed as unintelligent, are quick to react out of fear, displaying their cowardice.',)\n",
            "Labels: tensor([1])\n",
            "Logits: tensor([[ 0.4044, -0.4223]], device='cuda:0')\n",
            "Texts: (\"I'm planning to nominate my professor for a Queer Eye makeover because this individual has a poor sense of style.\",)\n",
            "Labels: tensor([1])\n",
            "Logits: tensor([[-0.7469,  0.5225]], device='cuda:0')\n",
            "Texts: ('Individuals who overreact about a YouTube gamer using the racial slur are homosexual geeks who should undergo sterilization.',)\n",
            "Labels: tensor([1])\n",
            "Logits: tensor([[-1.7778,  1.5085]], device='cuda:0')\n",
            "Texts: ('Disrespect the neighborhood; keep the Muslims tethered to a metaphorical leash, as I view them as unclean.',)\n",
            "Labels: tensor([1])\n",
            "Logits: tensor([[-4.3772,  3.8938]], device='cuda:0')\n",
            "Texts: ('Jewish individuals initiated terrorism through murder and bombing in Jerusalem; Jewish people are detestable to Arabs.',)\n",
            "Labels: tensor([1])\n",
            "Logits: tensor([[ 1.4333, -1.3776]], device='cuda:0')\n"
          ]
        },
        {
          "output_type": "stream",
          "name": "stderr",
          "text": [
            "EVAL | # 0:   2%|▏         | 17/1067 [00:01<00:25, 40.77it/s]"
          ]
        },
        {
          "output_type": "stream",
          "name": "stdout",
          "text": [
            "Texts: ('Are you referring to individuals from Arab countries?',)\n",
            "Labels: tensor([1])\n",
            "Logits: tensor([[ 4.4934, -3.9481]], device='cuda:0')\n",
            "Texts: ('I will strike the excrement out of the Caucasian female referred to as a bitch. Do not claim that you desire my African-American male genitalia.',)\n",
            "Labels: tensor([1])\n",
            "Logits: tensor([[ 3.2079, -2.8220]], device='cuda:0')\n"
          ]
        },
        {
          "output_type": "stream",
          "name": "stderr",
          "text": [
            "EVAL | # 0: 100%|██████████| 1067/1067 [00:24<00:00, 44.45it/s]\n"
          ]
        }
      ],
      "source": [
        "# Evaluate RoBERTa Hate Speech model on perturbed hate_explain\n",
        "losses, loss_avg, acc, f1, time_avg, cm = evaluate(model_roberta_hate, hate_explain_dataloader_perturbed, tokenizer_roberta_hate, device)"
      ]
    },
    {
      "cell_type": "code",
      "source": [
        "print(\"Evaluation for model: RoBERTa Hate Speech\")\n",
        "print(\"Loss_avg: {} / min: {} / max: {} | Consumed_time: {}\\n\".format(loss_avg, min(losses), max(losses), time_avg))\n",
        "print(\"** Performance-based Scores **\")\n",
        "print(\"Acc: {} | F1: {}  \\n\".format(acc[0], f1))\n",
        "disp = ConfusionMatrixDisplay(confusion_matrix=cm, display_labels=['non-toxic', 'toxic'])\n",
        "\n",
        "disp.plot()\n",
        "plt.show()"
      ],
      "metadata": {
        "colab": {
          "base_uri": "https://localhost:8080/",
          "height": 553
        },
        "id": "_Aj9Q9qWXgKB",
        "outputId": "16e994a8-1995-463e-e9fc-4c3e8a3cdf78"
      },
      "execution_count": 25,
      "outputs": [
        {
          "output_type": "stream",
          "name": "stdout",
          "text": [
            "Evaluation for model: RoBERTa Hate Speech\n",
            "Loss_avg: [2.4625903559710265] / min: 0.00020132421923335642 / max: 8.903438568115234 | Consumed_time: 0.01761941699749304\n",
            "\n",
            "** Performance-based Scores **\n",
            "Acc: 0.5154639175257731 | F1: 0.3401360544217687  \n",
            "\n"
          ]
        },
        {
          "output_type": "display_data",
          "data": {
            "text/plain": [
              "<Figure size 640x480 with 2 Axes>"
            ],
            "image/png": "[encoded data removed]"
          },
          "metadata": {}
        }
      ]
    },
    {
      "cell_type": "markdown",
      "metadata": {
        "id": "o8fg_CkeT-Fi"
      },
      "source": [
        "### **3. Bert HateExplain**\n",
        "\n"
      ]
    },
    {
      "cell_type": "code",
      "execution_count": 29,
      "metadata": {
        "id": "gUUKiVGtT8Zs",
        "colab": {
          "base_uri": "https://localhost:8080/"
        },
        "outputId": "5da7a179-10fd-4086-d8e2-cb8e26635846"
      },
      "outputs": [
        {
          "output_type": "stream",
          "name": "stderr",
          "text": [
            "Device set to use cuda:0\n"
          ]
        },
        {
          "output_type": "stream",
          "name": "stdout",
          "text": [
            "device = cuda\n"
          ]
        }
      ],
      "source": [
        "# Load Bert HateExplain model\n",
        "tokenizer_bert_hatexplain = AutoTokenizer.from_pretrained('tum-nlp/bert-hateXplain')\n",
        "model_bert_hatexplain = AutoModelForSequenceClassification.from_pretrained('tum-nlp/bert-hateXplain')\n",
        "hate_bert_hatexplain = pipeline(\"text-classification\", model=model_bert_hatexplain, tokenizer=tokenizer_bert_hatexplain)\n",
        "device = get_device()\n",
        "model_bert_hatexplain.to(device)\n",
        "model_bert_hatexplain.config.output_attentions=True"
      ]
    },
    {
      "cell_type": "code",
      "execution_count": 27,
      "metadata": {
        "id": "zAn758reqDde",
        "colab": {
          "base_uri": "https://localhost:8080/",
          "height": 550,
          "referenced_widgets": [
            "a0814a9921004aa483d9ee348710ab15",
            "528f4d661949481b90fd84b1412f6f51",
            "a573962b5e324817974fd531457527fb",
            "6f5ebf50b2ef44e8ba3f3ccadd53926c",
            "f224077b79f1408ebd0f65d04724a344",
            "363dff347a844662b378a349e71f5765",
            "8dae1caad30f458d9f931dc989b2c36f",
            "d9ee6a4948984e5f824b419b11a0b114",
            "7d31bab08fd14d79902edc593a6e6448",
            "a5ce67d479d44311b988fc7497138646",
            "cde8730a7669497f9732b927647f4719"
          ]
        },
        "outputId": "61989d49-5643-4bf1-f918-f3f6a11a3e61"
      },
      "outputs": [
        {
          "output_type": "stream",
          "name": "stderr",
          "text": [
            "You seem to be using the pipelines sequentially on GPU. In order to maximize efficiency please use a dataset\n"
          ]
        },
        {
          "output_type": "display_data",
          "data": {
            "text/plain": [
              "model.safetensors:   0%|          | 0.00/44.7M [00:00<?, ?B/s]"
            ],
            "application/vnd.jupyter.widget-view+json": {
              "version_major": 2,
              "version_minor": 0,
              "model_id": "a0814a9921004aa483d9ee348710ab15"
            }
          },
          "metadata": {}
        },
        {
          "output_type": "stream",
          "name": "stdout",
          "text": [
            "bert_hatexplain\n",
            "Accuracy: 0.4724\n",
            "F1 Score: 0.4806\n"
          ]
        },
        {
          "output_type": "display_data",
          "data": {
            "text/plain": [
              "<Figure size 640x480 with 2 Axes>"
            ],
            "image/png": "[encoded data removed]"
          },
          "metadata": {}
        }
      ],
      "source": [
        "# Use hatecheck test suite case for initial evaluation\n",
        "df_hc['classification_bert_hatexplain'] = df_hc['test_case'].apply(lambda x: classify_text(x, hate_bert_hatexplain))\n",
        "statistics_for_classification('bert_hatexplain', 'classification_bert_hatexplain', 'toxic')\n"
      ]
    },
    {
      "cell_type": "code",
      "execution_count": null,
      "metadata": {
        "id": "-7xQs39nxdXL"
      },
      "outputs": [],
      "source": [
        "# Evaluate Bert HateExplain on hate explain test set\n",
        "losses, loss_avg, acc, f1, time_avg, cm = evaluate(model_bert_hatexplain, hate_explain_dataloader, tokenizer_bert_hatexplain, device)\n"
      ]
    },
    {
      "cell_type": "code",
      "source": [
        "print(\"Evaluation for model: Bert HateExplain, dataset: hate explain\")\n",
        "print(\"Loss_avg: {} / min: {} / max: {} | Consumed_time: {}\\n\".format(loss_avg, min(losses), max(losses), time_avg))\n",
        "print(\"** Performance-based Scores **\")\n",
        "print(\"Acc: {} | F1: {}  \\n\".format(acc[0], f1))\n",
        "disp = ConfusionMatrixDisplay(confusion_matrix=cm, display_labels=['non-toxic', 'toxic'])\n",
        "\n",
        "disp.plot()\n",
        "plt.show()"
      ],
      "metadata": {
        "colab": {
          "base_uri": "https://localhost:8080/",
          "height": 553
        },
        "id": "1YXkq6RXZMoc",
        "outputId": "648ee8fd-0d77-49d0-9bcb-2c383dbeaa3c"
      },
      "execution_count": 33,
      "outputs": [
        {
          "output_type": "stream",
          "name": "stdout",
          "text": [
            "Evaluation for model: Bert HateExplain, dataset: hate explain\n",
            "Loss_avg: [0.4658276346074553] / min: 0.02565952017903328 / max: 3.6774532794952393 | Consumed_time: 0.004844294144557073\n",
            "\n",
            "** Performance-based Scores **\n",
            "Acc: 0.7692307692307693 | F1: 0.7573343180978893  \n",
            "\n"
          ]
        },
        {
          "output_type": "display_data",
          "data": {
            "text/plain": [
              "<Figure size 640x480 with 2 Axes>"
            ],
            "image/png": "[encoded data removed]"
          },
          "metadata": {}
        }
      ]
    },
    {
      "cell_type": "code",
      "execution_count": 34,
      "metadata": {
        "id": "ENtK1l_2xgBi",
        "colab": {
          "base_uri": "https://localhost:8080/"
        },
        "outputId": "7ceb46b7-75db-426a-b1d6-0830251ff210"
      },
      "outputs": [
        {
          "output_type": "stream",
          "name": "stderr",
          "text": [
            "EVAL | # 0:   1%|          | 9/1067 [00:00<00:27, 38.85it/s]"
          ]
        },
        {
          "output_type": "stream",
          "name": "stdout",
          "text": [
            "Texts: ('\"Is there any use in responding to this intellectually challenged individual, I suppose not, continue living in your happiness.\"',)\n",
            "Labels: tensor([1])\n",
            "Logits: tensor([[ 0.8905, -0.3210]], device='cuda:0')\n",
            "Texts: (\"If you cover the costs for the military carrying out the bidding of the Jews, I will not stand for it. The agriculture department functions at the president's convenience, and he has the authority to instruct the agriculture department to apprehend them.\",)\n",
            "Labels: tensor([1])\n",
            "Logits: tensor([[-0.0452,  0.3557]], device='cuda:0')\n",
            "Texts: ('Individuals leaning left are entirely indoctrinated and intellectually challenged; they need to hear the very same words echoed back at them, which disrupts their programming. Always remember that all left-leaning individuals are merely a type of software program; refrain from using logic and instead appeal to their emotions.',)\n",
            "Labels: tensor([1])\n",
            "Logits: tensor([[ 1.2426, -0.8375]], device='cuda:0')\n",
            "Texts: ('Nazi individuals are first-rate jerks, a mere joke compared to solid republican\\\\_{number}. The easily-frightened antifa and Hezbollah members are mere grains of sand in comparison. A small number of millennials, labeled as foolish, have some courage, while most democrats, viewed as unintelligent, are quick to react out of fear, displaying their cowardice.',)\n",
            "Labels: tensor([1])\n",
            "Logits: tensor([[-0.7729,  0.4556]], device='cuda:0')\n",
            "Texts: (\"I'm planning to nominate my professor for a Queer Eye makeover because this individual has a poor sense of style.\",)\n",
            "Labels: tensor([1])\n",
            "Logits: tensor([[ 0.9122, -0.6076]], device='cuda:0')\n",
            "Texts: ('Individuals who overreact about a YouTube gamer using the racial slur are homosexual geeks who should undergo sterilization.',)\n",
            "Labels: tensor([1])\n",
            "Logits: tensor([[ 0.0329, -0.0508]], device='cuda:0')\n",
            "Texts: ('Disrespect the neighborhood; keep the Muslims tethered to a metaphorical leash, as I view them as unclean.',)\n",
            "Labels: tensor([1])\n",
            "Logits: tensor([[-1.0159,  0.8305]], device='cuda:0')\n",
            "Texts: ('Jewish individuals initiated terrorism through murder and bombing in Jerusalem; Jewish people are detestable to Arabs.',)\n",
            "Labels: tensor([1])\n",
            "Logits: tensor([[0.1188, 0.0030]], device='cuda:0')\n",
            "Texts: ('Are you referring to individuals from Arab countries?',)\n",
            "Labels: tensor([1])\n",
            "Logits: tensor([[ 0.6085, -0.1908]], device='cuda:0')\n",
            "Texts:"
          ]
        },
        {
          "output_type": "stream",
          "name": "stderr",
          "text": [
            "EVAL | # 0:   2%|▏         | 22/1067 [00:00<00:16, 63.88it/s]"
          ]
        },
        {
          "output_type": "stream",
          "name": "stdout",
          "text": [
            " ('I will strike the excrement out of the Caucasian female referred to as a bitch. Do not claim that you desire my African-American male genitalia.',)\n",
            "Labels: tensor([1])\n",
            "Logits: tensor([[-0.3491,  0.4687]], device='cuda:0')\n"
          ]
        },
        {
          "output_type": "stream",
          "name": "stderr",
          "text": [
            "EVAL | # 0: 100%|██████████| 1067/1067 [00:12<00:00, 83.54it/s]\n"
          ]
        }
      ],
      "source": [
        "# Evaluate Bert HateExplain on perturbed hate explaine test set\n",
        "losses, loss_avg, acc, f1, time_avg, cm = evaluate(model_bert_hatexplain, hate_explain_dataloader_perturbed, tokenizer_bert_hatexplain, device)"
      ]
    },
    {
      "cell_type": "code",
      "source": [
        "print(\"Evaluation for model: Bert HateExplain, dataset: perturbed hate explain\")\n",
        "print(\"Loss_avg: {} / min: {} / max: {} | Consumed_time: {}\\n\".format(loss_avg, min(losses), max(losses), time_avg))\n",
        "print(\"** Performance-based Scores **\")\n",
        "print(\"Acc: {} | F1: {}  \\n\".format(acc[0], f1))\n",
        "disp = ConfusionMatrixDisplay(confusion_matrix=cm, display_labels=['non-toxic', 'toxic'])\n",
        "\n",
        "disp.plot()\n",
        "plt.show()"
      ],
      "metadata": {
        "colab": {
          "base_uri": "https://localhost:8080/",
          "height": 553
        },
        "id": "aq_4nfAEZOuN",
        "outputId": "0969bf5c-a528-43e9-f8de-fd9ed0c81015"
      },
      "execution_count": 35,
      "outputs": [
        {
          "output_type": "stream",
          "name": "stdout",
          "text": [
            "Evaluation for model: Bert HateExplain, dataset: perturbed hate explain\n",
            "Loss_avg: [0.9971986506553235] / min: 0.02949199266731739 / max: 2.558295965194702 | Consumed_time: 0.007703534888684917\n",
            "\n",
            "** Performance-based Scores **\n",
            "Acc: 0.3477038425492034 | F1: 0.2579972183588317  \n",
            "\n"
          ]
        },
        {
          "output_type": "display_data",
          "data": {
            "text/plain": [
              "<Figure size 640x480 with 2 Axes>"
            ],
            "image/png": "[encoded data removed]"
          },
          "metadata": {}
        }
      ]
    },
    {
      "cell_type": "code",
      "source": [],
      "metadata": {
        "id": "-CYL2IDAyvIe"
      },
      "execution_count": null,
      "outputs": []
    }
  ],
  "metadata": {
    "colab": {
      "provenance": [],
      "gpuType": "T4",
      "include_colab_link": true
    },
    "kernelspec": {
      "display_name": "Python 3",
      "name": "python3"
    },
    "language_info": {
      "codemirror_mode": {
        "name": "ipython",
        "version": 3
      },
      "file_extension": ".py",
      "mimetype": "text/x-python",
      "name": "python",
      "nbconvert_exporter": "python",
      "pygments_lexer": "ipython3",
      "version": "3.6.4"
    },
    "widgets": {
      "application/vnd.jupyter.widget-state+json": {
        "00b4df20eb104689958f28aceed6f9c7": {
          "model_module": "@jupyter-widgets/controls",
          "model_module_version": "1.5.0",
          "model_name": "DescriptionStyleModel",
          "state": {
            "_model_module": "@jupyter-widgets/controls",
            "_model_module_version": "1.5.0",
            "_model_name": "DescriptionStyleModel",
            "_view_count": null,
            "_view_module": "@jupyter-widgets/base",
            "_view_module_version": "1.2.0",
            "_view_name": "StyleView",
            "description_width": ""
          }
        },
        "065406c1771b4677b95593dad7d7e6ce": {
          "model_module": "@jupyter-widgets/controls",
          "model_module_version": "1.5.0",
          "model_name": "HTMLModel",
          "state": {
            "_dom_classes": [],
            "_model_module": "@jupyter-widgets/controls",
            "_model_module_version": "1.5.0",
            "_model_name": "HTMLModel",
            "_view_count": null,
            "_view_module": "@jupyter-widgets/controls",
            "_view_module_version": "1.5.0",
            "_view_name": "HTMLView",
            "description": "",
            "description_tooltip": null,
            "layout": "IPY_MODEL_fca37f36f4f449cb81a3bef7e6320fc9",
            "placeholder": "​",
            "style": "IPY_MODEL_a38adee40e8c4f68bc53027645361c64",
            "value": " 232k/232k [00:00&lt;00:00, 5.50MB/s]"
          }
        },
        "0762d6602b71480d8ad040d25258a1ad": {
          "model_module": "@jupyter-widgets/controls",
          "model_module_version": "1.5.0",
          "model_name": "HTMLModel",
          "state": {
            "_dom_classes": [],
            "_model_module": "@jupyter-widgets/controls",
            "_model_module_version": "1.5.0",
            "_model_name": "HTMLModel",
            "_view_count": null,
            "_view_module": "@jupyter-widgets/controls",
            "_view_module_version": "1.5.0",
            "_view_name": "HTMLView",
            "description": "",
            "description_tooltip": null,
            "layout": "IPY_MODEL_0f74bd08bbef4f50bb85eec52a327135",
            "placeholder": "​",
            "style": "IPY_MODEL_da989d73f2cb467f920620c4c85a23a4",
            "value": " 299/299 [00:00&lt;00:00, 9.37kB/s]"
          }
        },
        "0a9b87fc2b984cb6a9d2d096a3f59d2b": {
          "model_module": "@jupyter-widgets/base",
          "model_module_version": "1.2.0",
          "model_name": "LayoutModel",
          "state": {
            "_model_module": "@jupyter-widgets/base",
            "_model_module_version": "1.2.0",
            "_model_name": "LayoutModel",
            "_view_count": null,
            "_view_module": "@jupyter-widgets/base",
            "_view_module_version": "1.2.0",
            "_view_name": "LayoutView",
            "align_content": null,
            "align_items": null,
            "align_self": null,
            "border": null,
            "bottom": null,
            "display": null,
            "flex": null,
            "flex_flow": null,
            "grid_area": null,
            "grid_auto_columns": null,
            "grid_auto_flow": null,
            "grid_auto_rows": null,
            "grid_column": null,
            "grid_gap": null,
            "grid_row": null,
            "grid_template_areas": null,
            "grid_template_columns": null,
            "grid_template_rows": null,
            "height": null,
            "justify_content": null,
            "justify_items": null,
            "left": null,
            "margin": null,
            "max_height": null,
            "max_width": null,
            "min_height": null,
            "min_width": null,
            "object_fit": null,
            "object_position": null,
            "order": null,
            "overflow": null,
            "overflow_x": null,
            "overflow_y": null,
            "padding": null,
            "right": null,
            "top": null,
            "visibility": null,
            "width": null
          }
        },
        "0f74bd08bbef4f50bb85eec52a327135": {
          "model_module": "@jupyter-widgets/base",
          "model_module_version": "1.2.0",
          "model_name": "LayoutModel",
          "state": {
            "_model_module": "@jupyter-widgets/base",
            "_model_module_version": "1.2.0",
            "_model_name": "LayoutModel",
            "_view_count": null,
            "_view_module": "@jupyter-widgets/base",
            "_view_module_version": "1.2.0",
            "_view_name": "LayoutView",
            "align_content": null,
            "align_items": null,
            "align_self": null,
            "border": null,
            "bottom": null,
            "display": null,
            "flex": null,
            "flex_flow": null,
            "grid_area": null,
            "grid_auto_columns": null,
            "grid_auto_flow": null,
            "grid_auto_rows": null,
            "grid_column": null,
            "grid_gap": null,
            "grid_row": null,
            "grid_template_areas": null,
            "grid_template_columns": null,
            "grid_template_rows": null,
            "height": null,
            "justify_content": null,
            "justify_items": null,
            "left": null,
            "margin": null,
            "max_height": null,
            "max_width": null,
            "min_height": null,
            "min_width": null,
            "object_fit": null,
            "object_position": null,
            "order": null,
            "overflow": null,
            "overflow_x": null,
            "overflow_y": null,
            "padding": null,
            "right": null,
            "top": null,
            "visibility": null,
            "width": null
          }
        },
        "15fc14d4eea64cc6b95b978a3830d025": {
          "model_module": "@jupyter-widgets/controls",
          "model_module_version": "1.5.0",
          "model_name": "ProgressStyleModel",
          "state": {
            "_model_module": "@jupyter-widgets/controls",
            "_model_module_version": "1.5.0",
            "_model_name": "ProgressStyleModel",
            "_view_count": null,
            "_view_module": "@jupyter-widgets/base",
            "_view_module_version": "1.2.0",
            "_view_name": "StyleView",
            "bar_color": null,
            "description_width": ""
          }
        },
        "195a8bbf905a409fb6c855bfff6b08e3": {
          "model_module": "@jupyter-widgets/base",
          "model_module_version": "1.2.0",
          "model_name": "LayoutModel",
          "state": {
            "_model_module": "@jupyter-widgets/base",
            "_model_module_version": "1.2.0",
            "_model_name": "LayoutModel",
            "_view_count": null,
            "_view_module": "@jupyter-widgets/base",
            "_view_module_version": "1.2.0",
            "_view_name": "LayoutView",
            "align_content": null,
            "align_items": null,
            "align_self": null,
            "border": null,
            "bottom": null,
            "display": null,
            "flex": null,
            "flex_flow": null,
            "grid_area": null,
            "grid_auto_columns": null,
            "grid_auto_flow": null,
            "grid_auto_rows": null,
            "grid_column": null,
            "grid_gap": null,
            "grid_row": null,
            "grid_template_areas": null,
            "grid_template_columns": null,
            "grid_template_rows": null,
            "height": null,
            "justify_content": null,
            "justify_items": null,
            "left": null,
            "margin": null,
            "max_height": null,
            "max_width": null,
            "min_height": null,
            "min_width": null,
            "object_fit": null,
            "object_position": null,
            "order": null,
            "overflow": null,
            "overflow_x": null,
            "overflow_y": null,
            "padding": null,
            "right": null,
            "top": null,
            "visibility": null,
            "width": null
          }
        },
        "1c6efdac5ac64fd783440953a770696d": {
          "model_module": "@jupyter-widgets/controls",
          "model_module_version": "1.5.0",
          "model_name": "ProgressStyleModel",
          "state": {
            "_model_module": "@jupyter-widgets/controls",
            "_model_module_version": "1.5.0",
            "_model_name": "ProgressStyleModel",
            "_view_count": null,
            "_view_module": "@jupyter-widgets/base",
            "_view_module_version": "1.2.0",
            "_view_name": "StyleView",
            "bar_color": null,
            "description_width": ""
          }
        },
        "263eddbac23042b5b9b7e384d5421114": {
          "model_module": "@jupyter-widgets/base",
          "model_module_version": "1.2.0",
          "model_name": "LayoutModel",
          "state": {
            "_model_module": "@jupyter-widgets/base",
            "_model_module_version": "1.2.0",
            "_model_name": "LayoutModel",
            "_view_count": null,
            "_view_module": "@jupyter-widgets/base",
            "_view_module_version": "1.2.0",
            "_view_name": "LayoutView",
            "align_content": null,
            "align_items": null,
            "align_self": null,
            "border": null,
            "bottom": null,
            "display": null,
            "flex": null,
            "flex_flow": null,
            "grid_area": null,
            "grid_auto_columns": null,
            "grid_auto_flow": null,
            "grid_auto_rows": null,
            "grid_column": null,
            "grid_gap": null,
            "grid_row": null,
            "grid_template_areas": null,
            "grid_template_columns": null,
            "grid_template_rows": null,
            "height": null,
            "justify_content": null,
            "justify_items": null,
            "left": null,
            "margin": null,
            "max_height": null,
            "max_width": null,
            "min_height": null,
            "min_width": null,
            "object_fit": null,
            "object_position": null,
            "order": null,
            "overflow": null,
            "overflow_x": null,
            "overflow_y": null,
            "padding": null,
            "right": null,
            "top": null,
            "visibility": null,
            "width": null
          }
        },
        "3399c2c2b52649928d9601ddba65da30": {
          "model_module": "@jupyter-widgets/controls",
          "model_module_version": "1.5.0",
          "model_name": "HBoxModel",
          "state": {
            "_dom_classes": [],
            "_model_module": "@jupyter-widgets/controls",
            "_model_module_version": "1.5.0",
            "_model_name": "HBoxModel",
            "_view_count": null,
            "_view_module": "@jupyter-widgets/controls",
            "_view_module_version": "1.5.0",
            "_view_name": "HBoxView",
            "box_style": "",
            "children": [
              "IPY_MODEL_fb8f5101fbed4cf2a2a8c3445f7ad8b4",
              "IPY_MODEL_e0458fea3dfb4ef2959934d2d9dc0e5b",
              "IPY_MODEL_065406c1771b4677b95593dad7d7e6ce"
            ],
            "layout": "IPY_MODEL_41f7743c0ff4432d92337291a480a458"
          }
        },
        "35d730b84969422ab0a6da6cd2a84a7c": {
          "model_module": "@jupyter-widgets/controls",
          "model_module_version": "1.5.0",
          "model_name": "DescriptionStyleModel",
          "state": {
            "_model_module": "@jupyter-widgets/controls",
            "_model_module_version": "1.5.0",
            "_model_name": "DescriptionStyleModel",
            "_view_count": null,
            "_view_module": "@jupyter-widgets/base",
            "_view_module_version": "1.2.0",
            "_view_name": "StyleView",
            "description_width": ""
          }
        },
        "37880e321a6b4f769e6d8eab6da1141d": {
          "model_module": "@jupyter-widgets/controls",
          "model_module_version": "1.5.0",
          "model_name": "FloatProgressModel",
          "state": {
            "_dom_classes": [],
            "_model_module": "@jupyter-widgets/controls",
            "_model_module_version": "1.5.0",
            "_model_name": "FloatProgressModel",
            "_view_count": null,
            "_view_module": "@jupyter-widgets/controls",
            "_view_module_version": "1.5.0",
            "_view_name": "ProgressView",
            "bar_style": "success",
            "description": "",
            "description_tooltip": null,
            "layout": "IPY_MODEL_6da77ccf41a14495aae3a9649c9a138f",
            "max": 112,
            "min": 0,
            "orientation": "horizontal",
            "style": "IPY_MODEL_15fc14d4eea64cc6b95b978a3830d025",
            "value": 112
          }
        },
        "394bef1d6bc24eac8d537331d2d72fe0": {
          "model_module": "@jupyter-widgets/controls",
          "model_module_version": "1.5.0",
          "model_name": "FloatProgressModel",
          "state": {
            "_dom_classes": [],
            "_model_module": "@jupyter-widgets/controls",
            "_model_module_version": "1.5.0",
            "_model_name": "FloatProgressModel",
            "_view_count": null,
            "_view_module": "@jupyter-widgets/controls",
            "_view_module_version": "1.5.0",
            "_view_name": "ProgressView",
            "bar_style": "success",
            "description": "",
            "description_tooltip": null,
            "layout": "IPY_MODEL_479178d44f6e4a5684307926588a7090",
            "max": 299,
            "min": 0,
            "orientation": "horizontal",
            "style": "IPY_MODEL_1c6efdac5ac64fd783440953a770696d",
            "value": 299
          }
        },
        "41f7743c0ff4432d92337291a480a458": {
          "model_module": "@jupyter-widgets/base",
          "model_module_version": "1.2.0",
          "model_name": "LayoutModel",
          "state": {
            "_model_module": "@jupyter-widgets/base",
            "_model_module_version": "1.2.0",
            "_model_name": "LayoutModel",
            "_view_count": null,
            "_view_module": "@jupyter-widgets/base",
            "_view_module_version": "1.2.0",
            "_view_name": "LayoutView",
            "align_content": null,
            "align_items": null,
            "align_self": null,
            "border": null,
            "bottom": null,
            "display": null,
            "flex": null,
            "flex_flow": null,
            "grid_area": null,
            "grid_auto_columns": null,
            "grid_auto_flow": null,
            "grid_auto_rows": null,
            "grid_column": null,
            "grid_gap": null,
            "grid_row": null,
            "grid_template_areas": null,
            "grid_template_columns": null,
            "grid_template_rows": null,
            "height": null,
            "justify_content": null,
            "justify_items": null,
            "left": null,
            "margin": null,
            "max_height": null,
            "max_width": null,
            "min_height": null,
            "min_width": null,
            "object_fit": null,
            "object_position": null,
            "order": null,
            "overflow": null,
            "overflow_x": null,
            "overflow_y": null,
            "padding": null,
            "right": null,
            "top": null,
            "visibility": null,
            "width": null
          }
        },
        "438aa5df4c494abc95bd3b95340ef5ea": {
          "model_module": "@jupyter-widgets/controls",
          "model_module_version": "1.5.0",
          "model_name": "HBoxModel",
          "state": {
            "_dom_classes": [],
            "_model_module": "@jupyter-widgets/controls",
            "_model_module_version": "1.5.0",
            "_model_name": "HBoxModel",
            "_view_count": null,
            "_view_module": "@jupyter-widgets/controls",
            "_view_module_version": "1.5.0",
            "_view_name": "HBoxView",
            "box_style": "",
            "children": [
              "IPY_MODEL_d965038f0c75479cbb61c7e315e82561",
              "IPY_MODEL_46af583ada3e4a71b44405e200e7b263",
              "IPY_MODEL_fc9f75a00d9a443ba556b4af884cf4db"
            ],
            "layout": "IPY_MODEL_b07c0a1daddf4e128f6c8b841a7a3240"
          }
        },
        "44934daf58984acbb4192140de66bf5e": {
          "model_module": "@jupyter-widgets/controls",
          "model_module_version": "1.5.0",
          "model_name": "ProgressStyleModel",
          "state": {
            "_model_module": "@jupyter-widgets/controls",
            "_model_module_version": "1.5.0",
            "_model_name": "ProgressStyleModel",
            "_view_count": null,
            "_view_module": "@jupyter-widgets/base",
            "_view_module_version": "1.2.0",
            "_view_name": "StyleView",
            "bar_color": null,
            "description_width": ""
          }
        },
        "46af583ada3e4a71b44405e200e7b263": {
          "model_module": "@jupyter-widgets/controls",
          "model_module_version": "1.5.0",
          "model_name": "FloatProgressModel",
          "state": {
            "_dom_classes": [],
            "_model_module": "@jupyter-widgets/controls",
            "_model_module_version": "1.5.0",
            "_model_name": "FloatProgressModel",
            "_view_count": null,
            "_view_module": "@jupyter-widgets/controls",
            "_view_module_version": "1.5.0",
            "_view_name": "ProgressView",
            "bar_style": "success",
            "description": "",
            "description_tooltip": null,
            "layout": "IPY_MODEL_a85dfa6dcaee46b184e3be5184d7284f",
            "max": 437996231,
            "min": 0,
            "orientation": "horizontal",
            "style": "IPY_MODEL_44934daf58984acbb4192140de66bf5e",
            "value": 437996231
          }
        },
        "479178d44f6e4a5684307926588a7090": {
          "model_module": "@jupyter-widgets/base",
          "model_module_version": "1.2.0",
          "model_name": "LayoutModel",
          "state": {
            "_model_module": "@jupyter-widgets/base",
            "_model_module_version": "1.2.0",
            "_model_name": "LayoutModel",
            "_view_count": null,
            "_view_module": "@jupyter-widgets/base",
            "_view_module_version": "1.2.0",
            "_view_name": "LayoutView",
            "align_content": null,
            "align_items": null,
            "align_self": null,
            "border": null,
            "bottom": null,
            "display": null,
            "flex": null,
            "flex_flow": null,
            "grid_area": null,
            "grid_auto_columns": null,
            "grid_auto_flow": null,
            "grid_auto_rows": null,
            "grid_column": null,
            "grid_gap": null,
            "grid_row": null,
            "grid_template_areas": null,
            "grid_template_columns": null,
            "grid_template_rows": null,
            "height": null,
            "justify_content": null,
            "justify_items": null,
            "left": null,
            "margin": null,
            "max_height": null,
            "max_width": null,
            "min_height": null,
            "min_width": null,
            "object_fit": null,
            "object_position": null,
            "order": null,
            "overflow": null,
            "overflow_x": null,
            "overflow_y": null,
            "padding": null,
            "right": null,
            "top": null,
            "visibility": null,
            "width": null
          }
        },
        "4a7bc6b8ac624456ae56787791809a57": {
          "model_module": "@jupyter-widgets/controls",
          "model_module_version": "1.5.0",
          "model_name": "HTMLModel",
          "state": {
            "_dom_classes": [],
            "_model_module": "@jupyter-widgets/controls",
            "_model_module_version": "1.5.0",
            "_model_name": "HTMLModel",
            "_view_count": null,
            "_view_module": "@jupyter-widgets/controls",
            "_view_module_version": "1.5.0",
            "_view_name": "HTMLView",
            "description": "",
            "description_tooltip": null,
            "layout": "IPY_MODEL_195a8bbf905a409fb6c855bfff6b08e3",
            "placeholder": "​",
            "style": "IPY_MODEL_d1544add628e4e61b38689b5e684a89f",
            "value": " 790/790 [00:00&lt;00:00, 19.0kB/s]"
          }
        },
        "4edefb2670594891827fd69bacdcb7b6": {
          "model_module": "@jupyter-widgets/controls",
          "model_module_version": "1.5.0",
          "model_name": "HTMLModel",
          "state": {
            "_dom_classes": [],
            "_model_module": "@jupyter-widgets/controls",
            "_model_module_version": "1.5.0",
            "_model_name": "HTMLModel",
            "_view_count": null,
            "_view_module": "@jupyter-widgets/controls",
            "_view_module_version": "1.5.0",
            "_view_name": "HTMLView",
            "description": "",
            "description_tooltip": null,
            "layout": "IPY_MODEL_263eddbac23042b5b9b7e384d5421114",
            "placeholder": "​",
            "style": "IPY_MODEL_7ca56b6edf0441dd96b38e8476f18e73",
            "value": "config.json: 100%"
          }
        },
        "55cc5efa4c274c9db7cc381ab061e9b7": {
          "model_module": "@jupyter-widgets/base",
          "model_module_version": "1.2.0",
          "model_name": "LayoutModel",
          "state": {
            "_model_module": "@jupyter-widgets/base",
            "_model_module_version": "1.2.0",
            "_model_name": "LayoutModel",
            "_view_count": null,
            "_view_module": "@jupyter-widgets/base",
            "_view_module_version": "1.2.0",
            "_view_name": "LayoutView",
            "align_content": null,
            "align_items": null,
            "align_self": null,
            "border": null,
            "bottom": null,
            "display": null,
            "flex": null,
            "flex_flow": null,
            "grid_area": null,
            "grid_auto_columns": null,
            "grid_auto_flow": null,
            "grid_auto_rows": null,
            "grid_column": null,
            "grid_gap": null,
            "grid_row": null,
            "grid_template_areas": null,
            "grid_template_columns": null,
            "grid_template_rows": null,
            "height": null,
            "justify_content": null,
            "justify_items": null,
            "left": null,
            "margin": null,
            "max_height": null,
            "max_width": null,
            "min_height": null,
            "min_width": null,
            "object_fit": null,
            "object_position": null,
            "order": null,
            "overflow": null,
            "overflow_x": null,
            "overflow_y": null,
            "padding": null,
            "right": null,
            "top": null,
            "visibility": null,
            "width": null
          }
        },
        "561617da52784138932c7067131dc46e": {
          "model_module": "@jupyter-widgets/base",
          "model_module_version": "1.2.0",
          "model_name": "LayoutModel",
          "state": {
            "_model_module": "@jupyter-widgets/base",
            "_model_module_version": "1.2.0",
            "_model_name": "LayoutModel",
            "_view_count": null,
            "_view_module": "@jupyter-widgets/base",
            "_view_module_version": "1.2.0",
            "_view_name": "LayoutView",
            "align_content": null,
            "align_items": null,
            "align_self": null,
            "border": null,
            "bottom": null,
            "display": null,
            "flex": null,
            "flex_flow": null,
            "grid_area": null,
            "grid_auto_columns": null,
            "grid_auto_flow": null,
            "grid_auto_rows": null,
            "grid_column": null,
            "grid_gap": null,
            "grid_row": null,
            "grid_template_areas": null,
            "grid_template_columns": null,
            "grid_template_rows": null,
            "height": null,
            "justify_content": null,
            "justify_items": null,
            "left": null,
            "margin": null,
            "max_height": null,
            "max_width": null,
            "min_height": null,
            "min_width": null,
            "object_fit": null,
            "object_position": null,
            "order": null,
            "overflow": null,
            "overflow_x": null,
            "overflow_y": null,
            "padding": null,
            "right": null,
            "top": null,
            "visibility": null,
            "width": null
          }
        },
        "563cd945275e46dba74a0094c566eb34": {
          "model_module": "@jupyter-widgets/controls",
          "model_module_version": "1.5.0",
          "model_name": "DescriptionStyleModel",
          "state": {
            "_model_module": "@jupyter-widgets/controls",
            "_model_module_version": "1.5.0",
            "_model_name": "DescriptionStyleModel",
            "_view_count": null,
            "_view_module": "@jupyter-widgets/base",
            "_view_module_version": "1.2.0",
            "_view_name": "StyleView",
            "description_width": ""
          }
        },
        "61dca3679d844a55a23f19e75e613e73": {
          "model_module": "@jupyter-widgets/base",
          "model_module_version": "1.2.0",
          "model_name": "LayoutModel",
          "state": {
            "_model_module": "@jupyter-widgets/base",
            "_model_module_version": "1.2.0",
            "_model_name": "LayoutModel",
            "_view_count": null,
            "_view_module": "@jupyter-widgets/base",
            "_view_module_version": "1.2.0",
            "_view_name": "LayoutView",
            "align_content": null,
            "align_items": null,
            "align_self": null,
            "border": null,
            "bottom": null,
            "display": null,
            "flex": null,
            "flex_flow": null,
            "grid_area": null,
            "grid_auto_columns": null,
            "grid_auto_flow": null,
            "grid_auto_rows": null,
            "grid_column": null,
            "grid_gap": null,
            "grid_row": null,
            "grid_template_areas": null,
            "grid_template_columns": null,
            "grid_template_rows": null,
            "height": null,
            "justify_content": null,
            "justify_items": null,
            "left": null,
            "margin": null,
            "max_height": null,
            "max_width": null,
            "min_height": null,
            "min_width": null,
            "object_fit": null,
            "object_position": null,
            "order": null,
            "overflow": null,
            "overflow_x": null,
            "overflow_y": null,
            "padding": null,
            "right": null,
            "top": null,
            "visibility": null,
            "width": null
          }
        },
        "6da77ccf41a14495aae3a9649c9a138f": {
          "model_module": "@jupyter-widgets/base",
          "model_module_version": "1.2.0",
          "model_name": "LayoutModel",
          "state": {
            "_model_module": "@jupyter-widgets/base",
            "_model_module_version": "1.2.0",
            "_model_name": "LayoutModel",
            "_view_count": null,
            "_view_module": "@jupyter-widgets/base",
            "_view_module_version": "1.2.0",
            "_view_name": "LayoutView",
            "align_content": null,
            "align_items": null,
            "align_self": null,
            "border": null,
            "bottom": null,
            "display": null,
            "flex": null,
            "flex_flow": null,
            "grid_area": null,
            "grid_auto_columns": null,
            "grid_auto_flow": null,
            "grid_auto_rows": null,
            "grid_column": null,
            "grid_gap": null,
            "grid_row": null,
            "grid_template_areas": null,
            "grid_template_columns": null,
            "grid_template_rows": null,
            "height": null,
            "justify_content": null,
            "justify_items": null,
            "left": null,
            "margin": null,
            "max_height": null,
            "max_width": null,
            "min_height": null,
            "min_width": null,
            "object_fit": null,
            "object_position": null,
            "order": null,
            "overflow": null,
            "overflow_x": null,
            "overflow_y": null,
            "padding": null,
            "right": null,
            "top": null,
            "visibility": null,
            "width": null
          }
        },
        "7ca56b6edf0441dd96b38e8476f18e73": {
          "model_module": "@jupyter-widgets/controls",
          "model_module_version": "1.5.0",
          "model_name": "DescriptionStyleModel",
          "state": {
            "_model_module": "@jupyter-widgets/controls",
            "_model_module_version": "1.5.0",
            "_model_name": "DescriptionStyleModel",
            "_view_count": null,
            "_view_module": "@jupyter-widgets/base",
            "_view_module_version": "1.2.0",
            "_view_name": "StyleView",
            "description_width": ""
          }
        },
        "8c350ca807a54f75a58b5f9aeabe1c51": {
          "model_module": "@jupyter-widgets/controls",
          "model_module_version": "1.5.0",
          "model_name": "DescriptionStyleModel",
          "state": {
            "_model_module": "@jupyter-widgets/controls",
            "_model_module_version": "1.5.0",
            "_model_name": "DescriptionStyleModel",
            "_view_count": null,
            "_view_module": "@jupyter-widgets/base",
            "_view_module_version": "1.2.0",
            "_view_name": "StyleView",
            "description_width": ""
          }
        },
        "8c9cd31aadf542848e20d0475196894e": {
          "model_module": "@jupyter-widgets/controls",
          "model_module_version": "1.5.0",
          "model_name": "FloatProgressModel",
          "state": {
            "_dom_classes": [],
            "_model_module": "@jupyter-widgets/controls",
            "_model_module_version": "1.5.0",
            "_model_name": "FloatProgressModel",
            "_view_count": null,
            "_view_module": "@jupyter-widgets/controls",
            "_view_module_version": "1.5.0",
            "_view_name": "ProgressView",
            "bar_style": "success",
            "description": "",
            "description_tooltip": null,
            "layout": "IPY_MODEL_561617da52784138932c7067131dc46e",
            "max": 790,
            "min": 0,
            "orientation": "horizontal",
            "style": "IPY_MODEL_c05590fca5444ed8ba33ecc055c1b9eb",
            "value": 790
          }
        },
        "8f49e051842d4833baa01b94b113ae26": {
          "model_module": "@jupyter-widgets/base",
          "model_module_version": "1.2.0",
          "model_name": "LayoutModel",
          "state": {
            "_model_module": "@jupyter-widgets/base",
            "_model_module_version": "1.2.0",
            "_model_name": "LayoutModel",
            "_view_count": null,
            "_view_module": "@jupyter-widgets/base",
            "_view_module_version": "1.2.0",
            "_view_name": "LayoutView",
            "align_content": null,
            "align_items": null,
            "align_self": null,
            "border": null,
            "bottom": null,
            "display": null,
            "flex": null,
            "flex_flow": null,
            "grid_area": null,
            "grid_auto_columns": null,
            "grid_auto_flow": null,
            "grid_auto_rows": null,
            "grid_column": null,
            "grid_gap": null,
            "grid_row": null,
            "grid_template_areas": null,
            "grid_template_columns": null,
            "grid_template_rows": null,
            "height": null,
            "justify_content": null,
            "justify_items": null,
            "left": null,
            "margin": null,
            "max_height": null,
            "max_width": null,
            "min_height": null,
            "min_width": null,
            "object_fit": null,
            "object_position": null,
            "order": null,
            "overflow": null,
            "overflow_x": null,
            "overflow_y": null,
            "padding": null,
            "right": null,
            "top": null,
            "visibility": null,
            "width": null
          }
        },
        "8f7e9dbbb2f947a5979246e4ab08f8e4": {
          "model_module": "@jupyter-widgets/base",
          "model_module_version": "1.2.0",
          "model_name": "LayoutModel",
          "state": {
            "_model_module": "@jupyter-widgets/base",
            "_model_module_version": "1.2.0",
            "_model_name": "LayoutModel",
            "_view_count": null,
            "_view_module": "@jupyter-widgets/base",
            "_view_module_version": "1.2.0",
            "_view_name": "LayoutView",
            "align_content": null,
            "align_items": null,
            "align_self": null,
            "border": null,
            "bottom": null,
            "display": null,
            "flex": null,
            "flex_flow": null,
            "grid_area": null,
            "grid_auto_columns": null,
            "grid_auto_flow": null,
            "grid_auto_rows": null,
            "grid_column": null,
            "grid_gap": null,
            "grid_row": null,
            "grid_template_areas": null,
            "grid_template_columns": null,
            "grid_template_rows": null,
            "height": null,
            "justify_content": null,
            "justify_items": null,
            "left": null,
            "margin": null,
            "max_height": null,
            "max_width": null,
            "min_height": null,
            "min_width": null,
            "object_fit": null,
            "object_position": null,
            "order": null,
            "overflow": null,
            "overflow_x": null,
            "overflow_y": null,
            "padding": null,
            "right": null,
            "top": null,
            "visibility": null,
            "width": null
          }
        },
        "8f9363cd2a0041418c8654720705fd37": {
          "model_module": "@jupyter-widgets/controls",
          "model_module_version": "1.5.0",
          "model_name": "DescriptionStyleModel",
          "state": {
            "_model_module": "@jupyter-widgets/controls",
            "_model_module_version": "1.5.0",
            "_model_name": "DescriptionStyleModel",
            "_view_count": null,
            "_view_module": "@jupyter-widgets/base",
            "_view_module_version": "1.2.0",
            "_view_name": "StyleView",
            "description_width": ""
          }
        },
        "9569039e48224e22bae8f94cd02bcb36": {
          "model_module": "@jupyter-widgets/controls",
          "model_module_version": "1.5.0",
          "model_name": "HTMLModel",
          "state": {
            "_dom_classes": [],
            "_model_module": "@jupyter-widgets/controls",
            "_model_module_version": "1.5.0",
            "_model_name": "HTMLModel",
            "_view_count": null,
            "_view_module": "@jupyter-widgets/controls",
            "_view_module_version": "1.5.0",
            "_view_name": "HTMLView",
            "description": "",
            "description_tooltip": null,
            "layout": "IPY_MODEL_8f49e051842d4833baa01b94b113ae26",
            "placeholder": "​",
            "style": "IPY_MODEL_563cd945275e46dba74a0094c566eb34",
            "value": "tokenizer_config.json: 100%"
          }
        },
        "95b57b9e57b44eaa816eba3373f86eee": {
          "model_module": "@jupyter-widgets/base",
          "model_module_version": "1.2.0",
          "model_name": "LayoutModel",
          "state": {
            "_model_module": "@jupyter-widgets/base",
            "_model_module_version": "1.2.0",
            "_model_name": "LayoutModel",
            "_view_count": null,
            "_view_module": "@jupyter-widgets/base",
            "_view_module_version": "1.2.0",
            "_view_name": "LayoutView",
            "align_content": null,
            "align_items": null,
            "align_self": null,
            "border": null,
            "bottom": null,
            "display": null,
            "flex": null,
            "flex_flow": null,
            "grid_area": null,
            "grid_auto_columns": null,
            "grid_auto_flow": null,
            "grid_auto_rows": null,
            "grid_column": null,
            "grid_gap": null,
            "grid_row": null,
            "grid_template_areas": null,
            "grid_template_columns": null,
            "grid_template_rows": null,
            "height": null,
            "justify_content": null,
            "justify_items": null,
            "left": null,
            "margin": null,
            "max_height": null,
            "max_width": null,
            "min_height": null,
            "min_width": null,
            "object_fit": null,
            "object_position": null,
            "order": null,
            "overflow": null,
            "overflow_x": null,
            "overflow_y": null,
            "padding": null,
            "right": null,
            "top": null,
            "visibility": null,
            "width": null
          }
        },
        "9ad7756aee564574a93e5cffcbeae356": {
          "model_module": "@jupyter-widgets/controls",
          "model_module_version": "1.5.0",
          "model_name": "HTMLModel",
          "state": {
            "_dom_classes": [],
            "_model_module": "@jupyter-widgets/controls",
            "_model_module_version": "1.5.0",
            "_model_name": "HTMLModel",
            "_view_count": null,
            "_view_module": "@jupyter-widgets/controls",
            "_view_module_version": "1.5.0",
            "_view_name": "HTMLView",
            "description": "",
            "description_tooltip": null,
            "layout": "IPY_MODEL_8f7e9dbbb2f947a5979246e4ab08f8e4",
            "placeholder": "​",
            "style": "IPY_MODEL_8c350ca807a54f75a58b5f9aeabe1c51",
            "value": "special_tokens_map.json: 100%"
          }
        },
        "a050455f281447daa32c20a322f8c247": {
          "model_module": "@jupyter-widgets/controls",
          "model_module_version": "1.5.0",
          "model_name": "HBoxModel",
          "state": {
            "_dom_classes": [],
            "_model_module": "@jupyter-widgets/controls",
            "_model_module_version": "1.5.0",
            "_model_name": "HBoxModel",
            "_view_count": null,
            "_view_module": "@jupyter-widgets/controls",
            "_view_module_version": "1.5.0",
            "_view_name": "HBoxView",
            "box_style": "",
            "children": [
              "IPY_MODEL_9ad7756aee564574a93e5cffcbeae356",
              "IPY_MODEL_37880e321a6b4f769e6d8eab6da1141d",
              "IPY_MODEL_abfcd689d08c4930a1b321d9c8390cfe"
            ],
            "layout": "IPY_MODEL_ac8d33de5b684970bed7be4e2d9a4100"
          }
        },
        "a38adee40e8c4f68bc53027645361c64": {
          "model_module": "@jupyter-widgets/controls",
          "model_module_version": "1.5.0",
          "model_name": "DescriptionStyleModel",
          "state": {
            "_model_module": "@jupyter-widgets/controls",
            "_model_module_version": "1.5.0",
            "_model_name": "DescriptionStyleModel",
            "_view_count": null,
            "_view_module": "@jupyter-widgets/base",
            "_view_module_version": "1.2.0",
            "_view_name": "StyleView",
            "description_width": ""
          }
        },
        "a85dfa6dcaee46b184e3be5184d7284f": {
          "model_module": "@jupyter-widgets/base",
          "model_module_version": "1.2.0",
          "model_name": "LayoutModel",
          "state": {
            "_model_module": "@jupyter-widgets/base",
            "_model_module_version": "1.2.0",
            "_model_name": "LayoutModel",
            "_view_count": null,
            "_view_module": "@jupyter-widgets/base",
            "_view_module_version": "1.2.0",
            "_view_name": "LayoutView",
            "align_content": null,
            "align_items": null,
            "align_self": null,
            "border": null,
            "bottom": null,
            "display": null,
            "flex": null,
            "flex_flow": null,
            "grid_area": null,
            "grid_auto_columns": null,
            "grid_auto_flow": null,
            "grid_auto_rows": null,
            "grid_column": null,
            "grid_gap": null,
            "grid_row": null,
            "grid_template_areas": null,
            "grid_template_columns": null,
            "grid_template_rows": null,
            "height": null,
            "justify_content": null,
            "justify_items": null,
            "left": null,
            "margin": null,
            "max_height": null,
            "max_width": null,
            "min_height": null,
            "min_width": null,
            "object_fit": null,
            "object_position": null,
            "order": null,
            "overflow": null,
            "overflow_x": null,
            "overflow_y": null,
            "padding": null,
            "right": null,
            "top": null,
            "visibility": null,
            "width": null
          }
        },
        "abfcd689d08c4930a1b321d9c8390cfe": {
          "model_module": "@jupyter-widgets/controls",
          "model_module_version": "1.5.0",
          "model_name": "HTMLModel",
          "state": {
            "_dom_classes": [],
            "_model_module": "@jupyter-widgets/controls",
            "_model_module_version": "1.5.0",
            "_model_name": "HTMLModel",
            "_view_count": null,
            "_view_module": "@jupyter-widgets/controls",
            "_view_module_version": "1.5.0",
            "_view_name": "HTMLView",
            "description": "",
            "description_tooltip": null,
            "layout": "IPY_MODEL_61dca3679d844a55a23f19e75e613e73",
            "placeholder": "​",
            "style": "IPY_MODEL_8f9363cd2a0041418c8654720705fd37",
            "value": " 112/112 [00:00&lt;00:00, 4.61kB/s]"
          }
        },
        "ac8d33de5b684970bed7be4e2d9a4100": {
          "model_module": "@jupyter-widgets/base",
          "model_module_version": "1.2.0",
          "model_name": "LayoutModel",
          "state": {
            "_model_module": "@jupyter-widgets/base",
            "_model_module_version": "1.2.0",
            "_model_name": "LayoutModel",
            "_view_count": null,
            "_view_module": "@jupyter-widgets/base",
            "_view_module_version": "1.2.0",
            "_view_name": "LayoutView",
            "align_content": null,
            "align_items": null,
            "align_self": null,
            "border": null,
            "bottom": null,
            "display": null,
            "flex": null,
            "flex_flow": null,
            "grid_area": null,
            "grid_auto_columns": null,
            "grid_auto_flow": null,
            "grid_auto_rows": null,
            "grid_column": null,
            "grid_gap": null,
            "grid_row": null,
            "grid_template_areas": null,
            "grid_template_columns": null,
            "grid_template_rows": null,
            "height": null,
            "justify_content": null,
            "justify_items": null,
            "left": null,
            "margin": null,
            "max_height": null,
            "max_width": null,
            "min_height": null,
            "min_width": null,
            "object_fit": null,
            "object_position": null,
            "order": null,
            "overflow": null,
            "overflow_x": null,
            "overflow_y": null,
            "padding": null,
            "right": null,
            "top": null,
            "visibility": null,
            "width": null
          }
        },
        "b07c0a1daddf4e128f6c8b841a7a3240": {
          "model_module": "@jupyter-widgets/base",
          "model_module_version": "1.2.0",
          "model_name": "LayoutModel",
          "state": {
            "_model_module": "@jupyter-widgets/base",
            "_model_module_version": "1.2.0",
            "_model_name": "LayoutModel",
            "_view_count": null,
            "_view_module": "@jupyter-widgets/base",
            "_view_module_version": "1.2.0",
            "_view_name": "LayoutView",
            "align_content": null,
            "align_items": null,
            "align_self": null,
            "border": null,
            "bottom": null,
            "display": null,
            "flex": null,
            "flex_flow": null,
            "grid_area": null,
            "grid_auto_columns": null,
            "grid_auto_flow": null,
            "grid_auto_rows": null,
            "grid_column": null,
            "grid_gap": null,
            "grid_row": null,
            "grid_template_areas": null,
            "grid_template_columns": null,
            "grid_template_rows": null,
            "height": null,
            "justify_content": null,
            "justify_items": null,
            "left": null,
            "margin": null,
            "max_height": null,
            "max_width": null,
            "min_height": null,
            "min_width": null,
            "object_fit": null,
            "object_position": null,
            "order": null,
            "overflow": null,
            "overflow_x": null,
            "overflow_y": null,
            "padding": null,
            "right": null,
            "top": null,
            "visibility": null,
            "width": null
          }
        },
        "b44a35bd70ed44c0b1a5b48561b6dffa": {
          "model_module": "@jupyter-widgets/controls",
          "model_module_version": "1.5.0",
          "model_name": "ProgressStyleModel",
          "state": {
            "_model_module": "@jupyter-widgets/controls",
            "_model_module_version": "1.5.0",
            "_model_name": "ProgressStyleModel",
            "_view_count": null,
            "_view_module": "@jupyter-widgets/base",
            "_view_module_version": "1.2.0",
            "_view_name": "StyleView",
            "bar_color": null,
            "description_width": ""
          }
        },
        "b8305241f81f43e390cd9311580a767f": {
          "model_module": "@jupyter-widgets/controls",
          "model_module_version": "1.5.0",
          "model_name": "HBoxModel",
          "state": {
            "_dom_classes": [],
            "_model_module": "@jupyter-widgets/controls",
            "_model_module_version": "1.5.0",
            "_model_name": "HBoxModel",
            "_view_count": null,
            "_view_module": "@jupyter-widgets/controls",
            "_view_module_version": "1.5.0",
            "_view_name": "HBoxView",
            "box_style": "",
            "children": [
              "IPY_MODEL_9569039e48224e22bae8f94cd02bcb36",
              "IPY_MODEL_394bef1d6bc24eac8d537331d2d72fe0",
              "IPY_MODEL_0762d6602b71480d8ad040d25258a1ad"
            ],
            "layout": "IPY_MODEL_0a9b87fc2b984cb6a9d2d096a3f59d2b"
          }
        },
        "c05590fca5444ed8ba33ecc055c1b9eb": {
          "model_module": "@jupyter-widgets/controls",
          "model_module_version": "1.5.0",
          "model_name": "ProgressStyleModel",
          "state": {
            "_model_module": "@jupyter-widgets/controls",
            "_model_module_version": "1.5.0",
            "_model_name": "ProgressStyleModel",
            "_view_count": null,
            "_view_module": "@jupyter-widgets/base",
            "_view_module_version": "1.2.0",
            "_view_name": "StyleView",
            "bar_color": null,
            "description_width": ""
          }
        },
        "d1544add628e4e61b38689b5e684a89f": {
          "model_module": "@jupyter-widgets/controls",
          "model_module_version": "1.5.0",
          "model_name": "DescriptionStyleModel",
          "state": {
            "_model_module": "@jupyter-widgets/controls",
            "_model_module_version": "1.5.0",
            "_model_name": "DescriptionStyleModel",
            "_view_count": null,
            "_view_module": "@jupyter-widgets/base",
            "_view_module_version": "1.2.0",
            "_view_name": "StyleView",
            "description_width": ""
          }
        },
        "d5192ee97cc54278a6c92c9963961b41": {
          "model_module": "@jupyter-widgets/controls",
          "model_module_version": "1.5.0",
          "model_name": "DescriptionStyleModel",
          "state": {
            "_model_module": "@jupyter-widgets/controls",
            "_model_module_version": "1.5.0",
            "_model_name": "DescriptionStyleModel",
            "_view_count": null,
            "_view_module": "@jupyter-widgets/base",
            "_view_module_version": "1.2.0",
            "_view_name": "StyleView",
            "description_width": ""
          }
        },
        "d965038f0c75479cbb61c7e315e82561": {
          "model_module": "@jupyter-widgets/controls",
          "model_module_version": "1.5.0",
          "model_name": "HTMLModel",
          "state": {
            "_dom_classes": [],
            "_model_module": "@jupyter-widgets/controls",
            "_model_module_version": "1.5.0",
            "_model_name": "HTMLModel",
            "_view_count": null,
            "_view_module": "@jupyter-widgets/controls",
            "_view_module_version": "1.5.0",
            "_view_name": "HTMLView",
            "description": "",
            "description_tooltip": null,
            "layout": "IPY_MODEL_55cc5efa4c274c9db7cc381ab061e9b7",
            "placeholder": "​",
            "style": "IPY_MODEL_00b4df20eb104689958f28aceed6f9c7",
            "value": "pytorch_model.bin: 100%"
          }
        },
        "da989d73f2cb467f920620c4c85a23a4": {
          "model_module": "@jupyter-widgets/controls",
          "model_module_version": "1.5.0",
          "model_name": "DescriptionStyleModel",
          "state": {
            "_model_module": "@jupyter-widgets/controls",
            "_model_module_version": "1.5.0",
            "_model_name": "DescriptionStyleModel",
            "_view_count": null,
            "_view_module": "@jupyter-widgets/base",
            "_view_module_version": "1.2.0",
            "_view_name": "StyleView",
            "description_width": ""
          }
        },
        "df17532f62d148e08feffb4d9a9e2892": {
          "model_module": "@jupyter-widgets/base",
          "model_module_version": "1.2.0",
          "model_name": "LayoutModel",
          "state": {
            "_model_module": "@jupyter-widgets/base",
            "_model_module_version": "1.2.0",
            "_model_name": "LayoutModel",
            "_view_count": null,
            "_view_module": "@jupyter-widgets/base",
            "_view_module_version": "1.2.0",
            "_view_name": "LayoutView",
            "align_content": null,
            "align_items": null,
            "align_self": null,
            "border": null,
            "bottom": null,
            "display": null,
            "flex": null,
            "flex_flow": null,
            "grid_area": null,
            "grid_auto_columns": null,
            "grid_auto_flow": null,
            "grid_auto_rows": null,
            "grid_column": null,
            "grid_gap": null,
            "grid_row": null,
            "grid_template_areas": null,
            "grid_template_columns": null,
            "grid_template_rows": null,
            "height": null,
            "justify_content": null,
            "justify_items": null,
            "left": null,
            "margin": null,
            "max_height": null,
            "max_width": null,
            "min_height": null,
            "min_width": null,
            "object_fit": null,
            "object_position": null,
            "order": null,
            "overflow": null,
            "overflow_x": null,
            "overflow_y": null,
            "padding": null,
            "right": null,
            "top": null,
            "visibility": null,
            "width": null
          }
        },
        "e0458fea3dfb4ef2959934d2d9dc0e5b": {
          "model_module": "@jupyter-widgets/controls",
          "model_module_version": "1.5.0",
          "model_name": "FloatProgressModel",
          "state": {
            "_dom_classes": [],
            "_model_module": "@jupyter-widgets/controls",
            "_model_module_version": "1.5.0",
            "_model_name": "FloatProgressModel",
            "_view_count": null,
            "_view_module": "@jupyter-widgets/controls",
            "_view_module_version": "1.5.0",
            "_view_name": "ProgressView",
            "bar_style": "success",
            "description": "",
            "description_tooltip": null,
            "layout": "IPY_MODEL_df17532f62d148e08feffb4d9a9e2892",
            "max": 231508,
            "min": 0,
            "orientation": "horizontal",
            "style": "IPY_MODEL_b44a35bd70ed44c0b1a5b48561b6dffa",
            "value": 231508
          }
        },
        "e429df3f03b744c9b73688adf94a5a8f": {
          "model_module": "@jupyter-widgets/base",
          "model_module_version": "1.2.0",
          "model_name": "LayoutModel",
          "state": {
            "_model_module": "@jupyter-widgets/base",
            "_model_module_version": "1.2.0",
            "_model_name": "LayoutModel",
            "_view_count": null,
            "_view_module": "@jupyter-widgets/base",
            "_view_module_version": "1.2.0",
            "_view_name": "LayoutView",
            "align_content": null,
            "align_items": null,
            "align_self": null,
            "border": null,
            "bottom": null,
            "display": null,
            "flex": null,
            "flex_flow": null,
            "grid_area": null,
            "grid_auto_columns": null,
            "grid_auto_flow": null,
            "grid_auto_rows": null,
            "grid_column": null,
            "grid_gap": null,
            "grid_row": null,
            "grid_template_areas": null,
            "grid_template_columns": null,
            "grid_template_rows": null,
            "height": null,
            "justify_content": null,
            "justify_items": null,
            "left": null,
            "margin": null,
            "max_height": null,
            "max_width": null,
            "min_height": null,
            "min_width": null,
            "object_fit": null,
            "object_position": null,
            "order": null,
            "overflow": null,
            "overflow_x": null,
            "overflow_y": null,
            "padding": null,
            "right": null,
            "top": null,
            "visibility": null,
            "width": null
          }
        },
        "e4abf63bdc40440e8de35dd214bcc658": {
          "model_module": "@jupyter-widgets/base",
          "model_module_version": "1.2.0",
          "model_name": "LayoutModel",
          "state": {
            "_model_module": "@jupyter-widgets/base",
            "_model_module_version": "1.2.0",
            "_model_name": "LayoutModel",
            "_view_count": null,
            "_view_module": "@jupyter-widgets/base",
            "_view_module_version": "1.2.0",
            "_view_name": "LayoutView",
            "align_content": null,
            "align_items": null,
            "align_self": null,
            "border": null,
            "bottom": null,
            "display": null,
            "flex": null,
            "flex_flow": null,
            "grid_area": null,
            "grid_auto_columns": null,
            "grid_auto_flow": null,
            "grid_auto_rows": null,
            "grid_column": null,
            "grid_gap": null,
            "grid_row": null,
            "grid_template_areas": null,
            "grid_template_columns": null,
            "grid_template_rows": null,
            "height": null,
            "justify_content": null,
            "justify_items": null,
            "left": null,
            "margin": null,
            "max_height": null,
            "max_width": null,
            "min_height": null,
            "min_width": null,
            "object_fit": null,
            "object_position": null,
            "order": null,
            "overflow": null,
            "overflow_x": null,
            "overflow_y": null,
            "padding": null,
            "right": null,
            "top": null,
            "visibility": null,
            "width": null
          }
        },
        "fb05814a7b674df19d9955e775651030": {
          "model_module": "@jupyter-widgets/controls",
          "model_module_version": "1.5.0",
          "model_name": "HBoxModel",
          "state": {
            "_dom_classes": [],
            "_model_module": "@jupyter-widgets/controls",
            "_model_module_version": "1.5.0",
            "_model_name": "HBoxModel",
            "_view_count": null,
            "_view_module": "@jupyter-widgets/controls",
            "_view_module_version": "1.5.0",
            "_view_name": "HBoxView",
            "box_style": "",
            "children": [
              "IPY_MODEL_4edefb2670594891827fd69bacdcb7b6",
              "IPY_MODEL_8c9cd31aadf542848e20d0475196894e",
              "IPY_MODEL_4a7bc6b8ac624456ae56787791809a57"
            ],
            "layout": "IPY_MODEL_e4abf63bdc40440e8de35dd214bcc658"
          }
        },
        "fb8f5101fbed4cf2a2a8c3445f7ad8b4": {
          "model_module": "@jupyter-widgets/controls",
          "model_module_version": "1.5.0",
          "model_name": "HTMLModel",
          "state": {
            "_dom_classes": [],
            "_model_module": "@jupyter-widgets/controls",
            "_model_module_version": "1.5.0",
            "_model_name": "HTMLModel",
            "_view_count": null,
            "_view_module": "@jupyter-widgets/controls",
            "_view_module_version": "1.5.0",
            "_view_name": "HTMLView",
            "description": "",
            "description_tooltip": null,
            "layout": "IPY_MODEL_e429df3f03b744c9b73688adf94a5a8f",
            "placeholder": "​",
            "style": "IPY_MODEL_d5192ee97cc54278a6c92c9963961b41",
            "value": "vocab.txt: 100%"
          }
        },
        "fc9f75a00d9a443ba556b4af884cf4db": {
          "model_module": "@jupyter-widgets/controls",
          "model_module_version": "1.5.0",
          "model_name": "HTMLModel",
          "state": {
            "_dom_classes": [],
            "_model_module": "@jupyter-widgets/controls",
            "_model_module_version": "1.5.0",
            "_model_name": "HTMLModel",
            "_view_count": null,
            "_view_module": "@jupyter-widgets/controls",
            "_view_module_version": "1.5.0",
            "_view_name": "HTMLView",
            "description": "",
            "description_tooltip": null,
            "layout": "IPY_MODEL_95b57b9e57b44eaa816eba3373f86eee",
            "placeholder": "​",
            "style": "IPY_MODEL_35d730b84969422ab0a6da6cd2a84a7c",
            "value": " 438M/438M [00:08&lt;00:00, 83.2MB/s]"
          }
        },
        "fca37f36f4f449cb81a3bef7e6320fc9": {
          "model_module": "@jupyter-widgets/base",
          "model_module_version": "1.2.0",
          "model_name": "LayoutModel",
          "state": {
            "_model_module": "@jupyter-widgets/base",
            "_model_module_version": "1.2.0",
            "_model_name": "LayoutModel",
            "_view_count": null,
            "_view_module": "@jupyter-widgets/base",
            "_view_module_version": "1.2.0",
            "_view_name": "LayoutView",
            "align_content": null,
            "align_items": null,
            "align_self": null,
            "border": null,
            "bottom": null,
            "display": null,
            "flex": null,
            "flex_flow": null,
            "grid_area": null,
            "grid_auto_columns": null,
            "grid_auto_flow": null,
            "grid_auto_rows": null,
            "grid_column": null,
            "grid_gap": null,
            "grid_row": null,
            "grid_template_areas": null,
            "grid_template_columns": null,
            "grid_template_rows": null,
            "height": null,
            "justify_content": null,
            "justify_items": null,
            "left": null,
            "margin": null,
            "max_height": null,
            "max_width": null,
            "min_height": null,
            "min_width": null,
            "object_fit": null,
            "object_position": null,
            "order": null,
            "overflow": null,
            "overflow_x": null,
            "overflow_y": null,
            "padding": null,
            "right": null,
            "top": null,
            "visibility": null,
            "width": null
          }
        },
        "c953662012b94b18974b699a7b67dab6": {
          "model_module": "@jupyter-widgets/controls",
          "model_name": "HBoxModel",
          "model_module_version": "1.5.0",
          "state": {
            "_dom_classes": [],
            "_model_module": "@jupyter-widgets/controls",
            "_model_module_version": "1.5.0",
            "_model_name": "HBoxModel",
            "_view_count": null,
            "_view_module": "@jupyter-widgets/controls",
            "_view_module_version": "1.5.0",
            "_view_name": "HBoxView",
            "box_style": "",
            "children": [
              "IPY_MODEL_657ebf95e6cd453baf1be08cdbc27095",
              "IPY_MODEL_c6a621ef18dc4d48a16b93e2756086e9",
              "IPY_MODEL_1f302966591340dab17eab31b2fd74db"
            ],
            "layout": "IPY_MODEL_bece7ec6eeae4b99be4dab71068701ae"
          }
        },
        "657ebf95e6cd453baf1be08cdbc27095": {
          "model_module": "@jupyter-widgets/controls",
          "model_name": "HTMLModel",
          "model_module_version": "1.5.0",
          "state": {
            "_dom_classes": [],
            "_model_module": "@jupyter-widgets/controls",
            "_model_module_version": "1.5.0",
            "_model_name": "HTMLModel",
            "_view_count": null,
            "_view_module": "@jupyter-widgets/controls",
            "_view_module_version": "1.5.0",
            "_view_name": "HTMLView",
            "description": "",
            "description_tooltip": null,
            "layout": "IPY_MODEL_68e2ca0c7ada460bbf528d3521238160",
            "placeholder": "​",
            "style": "IPY_MODEL_14157f97a82e4b74a558b5eeb161b6cf",
            "value": "tokenizer_config.json: 100%"
          }
        },
        "c6a621ef18dc4d48a16b93e2756086e9": {
          "model_module": "@jupyter-widgets/controls",
          "model_name": "FloatProgressModel",
          "model_module_version": "1.5.0",
          "state": {
            "_dom_classes": [],
            "_model_module": "@jupyter-widgets/controls",
            "_model_module_version": "1.5.0",
            "_model_name": "FloatProgressModel",
            "_view_count": null,
            "_view_module": "@jupyter-widgets/controls",
            "_view_module_version": "1.5.0",
            "_view_name": "ProgressView",
            "bar_style": "success",
            "description": "",
            "description_tooltip": null,
            "layout": "IPY_MODEL_9bf6c06482e34f29af8c5c174df0b649",
            "max": 1106,
            "min": 0,
            "orientation": "horizontal",
            "style": "IPY_MODEL_f47858f2e04d4bcd957aee1c4907716a",
            "value": 1106
          }
        },
        "1f302966591340dab17eab31b2fd74db": {
          "model_module": "@jupyter-widgets/controls",
          "model_name": "HTMLModel",
          "model_module_version": "1.5.0",
          "state": {
            "_dom_classes": [],
            "_model_module": "@jupyter-widgets/controls",
            "_model_module_version": "1.5.0",
            "_model_name": "HTMLModel",
            "_view_count": null,
            "_view_module": "@jupyter-widgets/controls",
            "_view_module_version": "1.5.0",
            "_view_name": "HTMLView",
            "description": "",
            "description_tooltip": null,
            "layout": "IPY_MODEL_666cc70f3ff74d30ae30c2571d1fad98",
            "placeholder": "​",
            "style": "IPY_MODEL_9f4145360c4c4704a4b5cf5c69286657",
            "value": " 1.11k/1.11k [00:00&lt;00:00, 46.7kB/s]"
          }
        },
        "bece7ec6eeae4b99be4dab71068701ae": {
          "model_module": "@jupyter-widgets/base",
          "model_name": "LayoutModel",
          "model_module_version": "1.2.0",
          "state": {
            "_model_module": "@jupyter-widgets/base",
            "_model_module_version": "1.2.0",
            "_model_name": "LayoutModel",
            "_view_count": null,
            "_view_module": "@jupyter-widgets/base",
            "_view_module_version": "1.2.0",
            "_view_name": "LayoutView",
            "align_content": null,
            "align_items": null,
            "align_self": null,
            "border": null,
            "bottom": null,
            "display": null,
            "flex": null,
            "flex_flow": null,
            "grid_area": null,
            "grid_auto_columns": null,
            "grid_auto_flow": null,
            "grid_auto_rows": null,
            "grid_column": null,
            "grid_gap": null,
            "grid_row": null,
            "grid_template_areas": null,
            "grid_template_columns": null,
            "grid_template_rows": null,
            "height": null,
            "justify_content": null,
            "justify_items": null,
            "left": null,
            "margin": null,
            "max_height": null,
            "max_width": null,
            "min_height": null,
            "min_width": null,
            "object_fit": null,
            "object_position": null,
            "order": null,
            "overflow": null,
            "overflow_x": null,
            "overflow_y": null,
            "padding": null,
            "right": null,
            "top": null,
            "visibility": null,
            "width": null
          }
        },
        "68e2ca0c7ada460bbf528d3521238160": {
          "model_module": "@jupyter-widgets/base",
          "model_name": "LayoutModel",
          "model_module_version": "1.2.0",
          "state": {
            "_model_module": "@jupyter-widgets/base",
            "_model_module_version": "1.2.0",
            "_model_name": "LayoutModel",
            "_view_count": null,
            "_view_module": "@jupyter-widgets/base",
            "_view_module_version": "1.2.0",
            "_view_name": "LayoutView",
            "align_content": null,
            "align_items": null,
            "align_self": null,
            "border": null,
            "bottom": null,
            "display": null,
            "flex": null,
            "flex_flow": null,
            "grid_area": null,
            "grid_auto_columns": null,
            "grid_auto_flow": null,
            "grid_auto_rows": null,
            "grid_column": null,
            "grid_gap": null,
            "grid_row": null,
            "grid_template_areas": null,
            "grid_template_columns": null,
            "grid_template_rows": null,
            "height": null,
            "justify_content": null,
            "justify_items": null,
            "left": null,
            "margin": null,
            "max_height": null,
            "max_width": null,
            "min_height": null,
            "min_width": null,
            "object_fit": null,
            "object_position": null,
            "order": null,
            "overflow": null,
            "overflow_x": null,
            "overflow_y": null,
            "padding": null,
            "right": null,
            "top": null,
            "visibility": null,
            "width": null
          }
        },
        "14157f97a82e4b74a558b5eeb161b6cf": {
          "model_module": "@jupyter-widgets/controls",
          "model_name": "DescriptionStyleModel",
          "model_module_version": "1.5.0",
          "state": {
            "_model_module": "@jupyter-widgets/controls",
            "_model_module_version": "1.5.0",
            "_model_name": "DescriptionStyleModel",
            "_view_count": null,
            "_view_module": "@jupyter-widgets/base",
            "_view_module_version": "1.2.0",
            "_view_name": "StyleView",
            "description_width": ""
          }
        },
        "9bf6c06482e34f29af8c5c174df0b649": {
          "model_module": "@jupyter-widgets/base",
          "model_name": "LayoutModel",
          "model_module_version": "1.2.0",
          "state": {
            "_model_module": "@jupyter-widgets/base",
            "_model_module_version": "1.2.0",
            "_model_name": "LayoutModel",
            "_view_count": null,
            "_view_module": "@jupyter-widgets/base",
            "_view_module_version": "1.2.0",
            "_view_name": "LayoutView",
            "align_content": null,
            "align_items": null,
            "align_self": null,
            "border": null,
            "bottom": null,
            "display": null,
            "flex": null,
            "flex_flow": null,
            "grid_area": null,
            "grid_auto_columns": null,
            "grid_auto_flow": null,
            "grid_auto_rows": null,
            "grid_column": null,
            "grid_gap": null,
            "grid_row": null,
            "grid_template_areas": null,
            "grid_template_columns": null,
            "grid_template_rows": null,
            "height": null,
            "justify_content": null,
            "justify_items": null,
            "left": null,
            "margin": null,
            "max_height": null,
            "max_width": null,
            "min_height": null,
            "min_width": null,
            "object_fit": null,
            "object_position": null,
            "order": null,
            "overflow": null,
            "overflow_x": null,
            "overflow_y": null,
            "padding": null,
            "right": null,
            "top": null,
            "visibility": null,
            "width": null
          }
        },
        "f47858f2e04d4bcd957aee1c4907716a": {
          "model_module": "@jupyter-widgets/controls",
          "model_name": "ProgressStyleModel",
          "model_module_version": "1.5.0",
          "state": {
            "_model_module": "@jupyter-widgets/controls",
            "_model_module_version": "1.5.0",
            "_model_name": "ProgressStyleModel",
            "_view_count": null,
            "_view_module": "@jupyter-widgets/base",
            "_view_module_version": "1.2.0",
            "_view_name": "StyleView",
            "bar_color": null,
            "description_width": ""
          }
        },
        "666cc70f3ff74d30ae30c2571d1fad98": {
          "model_module": "@jupyter-widgets/base",
          "model_name": "LayoutModel",
          "model_module_version": "1.2.0",
          "state": {
            "_model_module": "@jupyter-widgets/base",
            "_model_module_version": "1.2.0",
            "_model_name": "LayoutModel",
            "_view_count": null,
            "_view_module": "@jupyter-widgets/base",
            "_view_module_version": "1.2.0",
            "_view_name": "LayoutView",
            "align_content": null,
            "align_items": null,
            "align_self": null,
            "border": null,
            "bottom": null,
            "display": null,
            "flex": null,
            "flex_flow": null,
            "grid_area": null,
            "grid_auto_columns": null,
            "grid_auto_flow": null,
            "grid_auto_rows": null,
            "grid_column": null,
            "grid_gap": null,
            "grid_row": null,
            "grid_template_areas": null,
            "grid_template_columns": null,
            "grid_template_rows": null,
            "height": null,
            "justify_content": null,
            "justify_items": null,
            "left": null,
            "margin": null,
            "max_height": null,
            "max_width": null,
            "min_height": null,
            "min_width": null,
            "object_fit": null,
            "object_position": null,
            "order": null,
            "overflow": null,
            "overflow_x": null,
            "overflow_y": null,
            "padding": null,
            "right": null,
            "top": null,
            "visibility": null,
            "width": null
          }
        },
        "9f4145360c4c4704a4b5cf5c69286657": {
          "model_module": "@jupyter-widgets/controls",
          "model_name": "DescriptionStyleModel",
          "model_module_version": "1.5.0",
          "state": {
            "_model_module": "@jupyter-widgets/controls",
            "_model_module_version": "1.5.0",
            "_model_name": "DescriptionStyleModel",
            "_view_count": null,
            "_view_module": "@jupyter-widgets/base",
            "_view_module_version": "1.2.0",
            "_view_name": "StyleView",
            "description_width": ""
          }
        },
        "b3c136c7b3fb437b88d223b4b9f46924": {
          "model_module": "@jupyter-widgets/controls",
          "model_name": "HBoxModel",
          "model_module_version": "1.5.0",
          "state": {
            "_dom_classes": [],
            "_model_module": "@jupyter-widgets/controls",
            "_model_module_version": "1.5.0",
            "_model_name": "HBoxModel",
            "_view_count": null,
            "_view_module": "@jupyter-widgets/controls",
            "_view_module_version": "1.5.0",
            "_view_name": "HBoxView",
            "box_style": "",
            "children": [
              "IPY_MODEL_af09bee1dc19407ca93bac1ff79db79f",
              "IPY_MODEL_ee8d9d0f70b84fca884aab2c4b8f830d",
              "IPY_MODEL_713fe02ec9774036b16d9e2a97b75d0a"
            ],
            "layout": "IPY_MODEL_f336a581d0804882a0edb22a030153b4"
          }
        },
        "af09bee1dc19407ca93bac1ff79db79f": {
          "model_module": "@jupyter-widgets/controls",
          "model_name": "HTMLModel",
          "model_module_version": "1.5.0",
          "state": {
            "_dom_classes": [],
            "_model_module": "@jupyter-widgets/controls",
            "_model_module_version": "1.5.0",
            "_model_name": "HTMLModel",
            "_view_count": null,
            "_view_module": "@jupyter-widgets/controls",
            "_view_module_version": "1.5.0",
            "_view_name": "HTMLView",
            "description": "",
            "description_tooltip": null,
            "layout": "IPY_MODEL_eb857064121940e39b93023c3d6e2a52",
            "placeholder": "​",
            "style": "IPY_MODEL_8d0d9c9284084c6e806448d0412aaae7",
            "value": "vocab.json: 100%"
          }
        },
        "ee8d9d0f70b84fca884aab2c4b8f830d": {
          "model_module": "@jupyter-widgets/controls",
          "model_name": "FloatProgressModel",
          "model_module_version": "1.5.0",
          "state": {
            "_dom_classes": [],
            "_model_module": "@jupyter-widgets/controls",
            "_model_module_version": "1.5.0",
            "_model_name": "FloatProgressModel",
            "_view_count": null,
            "_view_module": "@jupyter-widgets/controls",
            "_view_module_version": "1.5.0",
            "_view_name": "ProgressView",
            "bar_style": "success",
            "description": "",
            "description_tooltip": null,
            "layout": "IPY_MODEL_191593c17ed04a168547c67d4aff689a",
            "max": 898822,
            "min": 0,
            "orientation": "horizontal",
            "style": "IPY_MODEL_5f84f2a7e37b4276943740986ad4d602",
            "value": 898822
          }
        },
        "713fe02ec9774036b16d9e2a97b75d0a": {
          "model_module": "@jupyter-widgets/controls",
          "model_name": "HTMLModel",
          "model_module_version": "1.5.0",
          "state": {
            "_dom_classes": [],
            "_model_module": "@jupyter-widgets/controls",
            "_model_module_version": "1.5.0",
            "_model_name": "HTMLModel",
            "_view_count": null,
            "_view_module": "@jupyter-widgets/controls",
            "_view_module_version": "1.5.0",
            "_view_name": "HTMLView",
            "description": "",
            "description_tooltip": null,
            "layout": "IPY_MODEL_3540118e512b45eb88d2edc505a59cec",
            "placeholder": "​",
            "style": "IPY_MODEL_d5bd9cac51d144d2bf5f650012583f26",
            "value": " 899k/899k [00:00&lt;00:00, 7.06MB/s]"
          }
        },
        "f336a581d0804882a0edb22a030153b4": {
          "model_module": "@jupyter-widgets/base",
          "model_name": "LayoutModel",
          "model_module_version": "1.2.0",
          "state": {
            "_model_module": "@jupyter-widgets/base",
            "_model_module_version": "1.2.0",
            "_model_name": "LayoutModel",
            "_view_count": null,
            "_view_module": "@jupyter-widgets/base",
            "_view_module_version": "1.2.0",
            "_view_name": "LayoutView",
            "align_content": null,
            "align_items": null,
            "align_self": null,
            "border": null,
            "bottom": null,
            "display": null,
            "flex": null,
            "flex_flow": null,
            "grid_area": null,
            "grid_auto_columns": null,
            "grid_auto_flow": null,
            "grid_auto_rows": null,
            "grid_column": null,
            "grid_gap": null,
            "grid_row": null,
            "grid_template_areas": null,
            "grid_template_columns": null,
            "grid_template_rows": null,
            "height": null,
            "justify_content": null,
            "justify_items": null,
            "left": null,
            "margin": null,
            "max_height": null,
            "max_width": null,
            "min_height": null,
            "min_width": null,
            "object_fit": null,
            "object_position": null,
            "order": null,
            "overflow": null,
            "overflow_x": null,
            "overflow_y": null,
            "padding": null,
            "right": null,
            "top": null,
            "visibility": null,
            "width": null
          }
        },
        "eb857064121940e39b93023c3d6e2a52": {
          "model_module": "@jupyter-widgets/base",
          "model_name": "LayoutModel",
          "model_module_version": "1.2.0",
          "state": {
            "_model_module": "@jupyter-widgets/base",
            "_model_module_version": "1.2.0",
            "_model_name": "LayoutModel",
            "_view_count": null,
            "_view_module": "@jupyter-widgets/base",
            "_view_module_version": "1.2.0",
            "_view_name": "LayoutView",
            "align_content": null,
            "align_items": null,
            "align_self": null,
            "border": null,
            "bottom": null,
            "display": null,
            "flex": null,
            "flex_flow": null,
            "grid_area": null,
            "grid_auto_columns": null,
            "grid_auto_flow": null,
            "grid_auto_rows": null,
            "grid_column": null,
            "grid_gap": null,
            "grid_row": null,
            "grid_template_areas": null,
            "grid_template_columns": null,
            "grid_template_rows": null,
            "height": null,
            "justify_content": null,
            "justify_items": null,
            "left": null,
            "margin": null,
            "max_height": null,
            "max_width": null,
            "min_height": null,
            "min_width": null,
            "object_fit": null,
            "object_position": null,
            "order": null,
            "overflow": null,
            "overflow_x": null,
            "overflow_y": null,
            "padding": null,
            "right": null,
            "top": null,
            "visibility": null,
            "width": null
          }
        },
        "8d0d9c9284084c6e806448d0412aaae7": {
          "model_module": "@jupyter-widgets/controls",
          "model_name": "DescriptionStyleModel",
          "model_module_version": "1.5.0",
          "state": {
            "_model_module": "@jupyter-widgets/controls",
            "_model_module_version": "1.5.0",
            "_model_name": "DescriptionStyleModel",
            "_view_count": null,
            "_view_module": "@jupyter-widgets/base",
            "_view_module_version": "1.2.0",
            "_view_name": "StyleView",
            "description_width": ""
          }
        },
        "191593c17ed04a168547c67d4aff689a": {
          "model_module": "@jupyter-widgets/base",
          "model_name": "LayoutModel",
          "model_module_version": "1.2.0",
          "state": {
            "_model_module": "@jupyter-widgets/base",
            "_model_module_version": "1.2.0",
            "_model_name": "LayoutModel",
            "_view_count": null,
            "_view_module": "@jupyter-widgets/base",
            "_view_module_version": "1.2.0",
            "_view_name": "LayoutView",
            "align_content": null,
            "align_items": null,
            "align_self": null,
            "border": null,
            "bottom": null,
            "display": null,
            "flex": null,
            "flex_flow": null,
            "grid_area": null,
            "grid_auto_columns": null,
            "grid_auto_flow": null,
            "grid_auto_rows": null,
            "grid_column": null,
            "grid_gap": null,
            "grid_row": null,
            "grid_template_areas": null,
            "grid_template_columns": null,
            "grid_template_rows": null,
            "height": null,
            "justify_content": null,
            "justify_items": null,
            "left": null,
            "margin": null,
            "max_height": null,
            "max_width": null,
            "min_height": null,
            "min_width": null,
            "object_fit": null,
            "object_position": null,
            "order": null,
            "overflow": null,
            "overflow_x": null,
            "overflow_y": null,
            "padding": null,
            "right": null,
            "top": null,
            "visibility": null,
            "width": null
          }
        },
        "5f84f2a7e37b4276943740986ad4d602": {
          "model_module": "@jupyter-widgets/controls",
          "model_name": "ProgressStyleModel",
          "model_module_version": "1.5.0",
          "state": {
            "_model_module": "@jupyter-widgets/controls",
            "_model_module_version": "1.5.0",
            "_model_name": "ProgressStyleModel",
            "_view_count": null,
            "_view_module": "@jupyter-widgets/base",
            "_view_module_version": "1.2.0",
            "_view_name": "StyleView",
            "bar_color": null,
            "description_width": ""
          }
        },
        "3540118e512b45eb88d2edc505a59cec": {
          "model_module": "@jupyter-widgets/base",
          "model_name": "LayoutModel",
          "model_module_version": "1.2.0",
          "state": {
            "_model_module": "@jupyter-widgets/base",
            "_model_module_version": "1.2.0",
            "_model_name": "LayoutModel",
            "_view_count": null,
            "_view_module": "@jupyter-widgets/base",
            "_view_module_version": "1.2.0",
            "_view_name": "LayoutView",
            "align_content": null,
            "align_items": null,
            "align_self": null,
            "border": null,
            "bottom": null,
            "display": null,
            "flex": null,
            "flex_flow": null,
            "grid_area": null,
            "grid_auto_columns": null,
            "grid_auto_flow": null,
            "grid_auto_rows": null,
            "grid_column": null,
            "grid_gap": null,
            "grid_row": null,
            "grid_template_areas": null,
            "grid_template_columns": null,
            "grid_template_rows": null,
            "height": null,
            "justify_content": null,
            "justify_items": null,
            "left": null,
            "margin": null,
            "max_height": null,
            "max_width": null,
            "min_height": null,
            "min_width": null,
            "object_fit": null,
            "object_position": null,
            "order": null,
            "overflow": null,
            "overflow_x": null,
            "overflow_y": null,
            "padding": null,
            "right": null,
            "top": null,
            "visibility": null,
            "width": null
          }
        },
        "d5bd9cac51d144d2bf5f650012583f26": {
          "model_module": "@jupyter-widgets/controls",
          "model_name": "DescriptionStyleModel",
          "model_module_version": "1.5.0",
          "state": {
            "_model_module": "@jupyter-widgets/controls",
            "_model_module_version": "1.5.0",
            "_model_name": "DescriptionStyleModel",
            "_view_count": null,
            "_view_module": "@jupyter-widgets/base",
            "_view_module_version": "1.2.0",
            "_view_name": "StyleView",
            "description_width": ""
          }
        },
        "7b2812b253b443ed8fd1d96d6b890fef": {
          "model_module": "@jupyter-widgets/controls",
          "model_name": "HBoxModel",
          "model_module_version": "1.5.0",
          "state": {
            "_dom_classes": [],
            "_model_module": "@jupyter-widgets/controls",
            "_model_module_version": "1.5.0",
            "_model_name": "HBoxModel",
            "_view_count": null,
            "_view_module": "@jupyter-widgets/controls",
            "_view_module_version": "1.5.0",
            "_view_name": "HBoxView",
            "box_style": "",
            "children": [
              "IPY_MODEL_80846cb78bb14f88bfa085dfae93d009",
              "IPY_MODEL_f7007587b938460a94c65e26d1376a75",
              "IPY_MODEL_bd6bf60a9a2d4917850502400f295baf"
            ],
            "layout": "IPY_MODEL_50f1c9a29d984bacabe1a193400bcf39"
          }
        },
        "80846cb78bb14f88bfa085dfae93d009": {
          "model_module": "@jupyter-widgets/controls",
          "model_name": "HTMLModel",
          "model_module_version": "1.5.0",
          "state": {
            "_dom_classes": [],
            "_model_module": "@jupyter-widgets/controls",
            "_model_module_version": "1.5.0",
            "_model_name": "HTMLModel",
            "_view_count": null,
            "_view_module": "@jupyter-widgets/controls",
            "_view_module_version": "1.5.0",
            "_view_name": "HTMLView",
            "description": "",
            "description_tooltip": null,
            "layout": "IPY_MODEL_bfc7d27e5f4b46d7bb740f0b9fb36fad",
            "placeholder": "​",
            "style": "IPY_MODEL_25d24b48307e4d309acee46ee80a472a",
            "value": "merges.txt: 100%"
          }
        },
        "f7007587b938460a94c65e26d1376a75": {
          "model_module": "@jupyter-widgets/controls",
          "model_name": "FloatProgressModel",
          "model_module_version": "1.5.0",
          "state": {
            "_dom_classes": [],
            "_model_module": "@jupyter-widgets/controls",
            "_model_module_version": "1.5.0",
            "_model_name": "FloatProgressModel",
            "_view_count": null,
            "_view_module": "@jupyter-widgets/controls",
            "_view_module_version": "1.5.0",
            "_view_name": "ProgressView",
            "bar_style": "success",
            "description": "",
            "description_tooltip": null,
            "layout": "IPY_MODEL_15991273435c4d80a27ce2c6a73ade25",
            "max": 456318,
            "min": 0,
            "orientation": "horizontal",
            "style": "IPY_MODEL_c3e27f069fe34c25bf5dc51822bbf7ec",
            "value": 456318
          }
        },
        "bd6bf60a9a2d4917850502400f295baf": {
          "model_module": "@jupyter-widgets/controls",
          "model_name": "HTMLModel",
          "model_module_version": "1.5.0",
          "state": {
            "_dom_classes": [],
            "_model_module": "@jupyter-widgets/controls",
            "_model_module_version": "1.5.0",
            "_model_name": "HTMLModel",
            "_view_count": null,
            "_view_module": "@jupyter-widgets/controls",
            "_view_module_version": "1.5.0",
            "_view_name": "HTMLView",
            "description": "",
            "description_tooltip": null,
            "layout": "IPY_MODEL_f1493f9be1a6463ea90e50e1ae35df5b",
            "placeholder": "​",
            "style": "IPY_MODEL_9735cfb4415b457b9e3b4bb4a35902b0",
            "value": " 456k/456k [00:00&lt;00:00, 35.3MB/s]"
          }
        },
        "50f1c9a29d984bacabe1a193400bcf39": {
          "model_module": "@jupyter-widgets/base",
          "model_name": "LayoutModel",
          "model_module_version": "1.2.0",
          "state": {
            "_model_module": "@jupyter-widgets/base",
            "_model_module_version": "1.2.0",
            "_model_name": "LayoutModel",
            "_view_count": null,
            "_view_module": "@jupyter-widgets/base",
            "_view_module_version": "1.2.0",
            "_view_name": "LayoutView",
            "align_content": null,
            "align_items": null,
            "align_self": null,
            "border": null,
            "bottom": null,
            "display": null,
            "flex": null,
            "flex_flow": null,
            "grid_area": null,
            "grid_auto_columns": null,
            "grid_auto_flow": null,
            "grid_auto_rows": null,
            "grid_column": null,
            "grid_gap": null,
            "grid_row": null,
            "grid_template_areas": null,
            "grid_template_columns": null,
            "grid_template_rows": null,
            "height": null,
            "justify_content": null,
            "justify_items": null,
            "left": null,
            "margin": null,
            "max_height": null,
            "max_width": null,
            "min_height": null,
            "min_width": null,
            "object_fit": null,
            "object_position": null,
            "order": null,
            "overflow": null,
            "overflow_x": null,
            "overflow_y": null,
            "padding": null,
            "right": null,
            "top": null,
            "visibility": null,
            "width": null
          }
        },
        "bfc7d27e5f4b46d7bb740f0b9fb36fad": {
          "model_module": "@jupyter-widgets/base",
          "model_name": "LayoutModel",
          "model_module_version": "1.2.0",
          "state": {
            "_model_module": "@jupyter-widgets/base",
            "_model_module_version": "1.2.0",
            "_model_name": "LayoutModel",
            "_view_count": null,
            "_view_module": "@jupyter-widgets/base",
            "_view_module_version": "1.2.0",
            "_view_name": "LayoutView",
            "align_content": null,
            "align_items": null,
            "align_self": null,
            "border": null,
            "bottom": null,
            "display": null,
            "flex": null,
            "flex_flow": null,
            "grid_area": null,
            "grid_auto_columns": null,
            "grid_auto_flow": null,
            "grid_auto_rows": null,
            "grid_column": null,
            "grid_gap": null,
            "grid_row": null,
            "grid_template_areas": null,
            "grid_template_columns": null,
            "grid_template_rows": null,
            "height": null,
            "justify_content": null,
            "justify_items": null,
            "left": null,
            "margin": null,
            "max_height": null,
            "max_width": null,
            "min_height": null,
            "min_width": null,
            "object_fit": null,
            "object_position": null,
            "order": null,
            "overflow": null,
            "overflow_x": null,
            "overflow_y": null,
            "padding": null,
            "right": null,
            "top": null,
            "visibility": null,
            "width": null
          }
        },
        "25d24b48307e4d309acee46ee80a472a": {
          "model_module": "@jupyter-widgets/controls",
          "model_name": "DescriptionStyleModel",
          "model_module_version": "1.5.0",
          "state": {
            "_model_module": "@jupyter-widgets/controls",
            "_model_module_version": "1.5.0",
            "_model_name": "DescriptionStyleModel",
            "_view_count": null,
            "_view_module": "@jupyter-widgets/base",
            "_view_module_version": "1.2.0",
            "_view_name": "StyleView",
            "description_width": ""
          }
        },
        "15991273435c4d80a27ce2c6a73ade25": {
          "model_module": "@jupyter-widgets/base",
          "model_name": "LayoutModel",
          "model_module_version": "1.2.0",
          "state": {
            "_model_module": "@jupyter-widgets/base",
            "_model_module_version": "1.2.0",
            "_model_name": "LayoutModel",
            "_view_count": null,
            "_view_module": "@jupyter-widgets/base",
            "_view_module_version": "1.2.0",
            "_view_name": "LayoutView",
            "align_content": null,
            "align_items": null,
            "align_self": null,
            "border": null,
            "bottom": null,
            "display": null,
            "flex": null,
            "flex_flow": null,
            "grid_area": null,
            "grid_auto_columns": null,
            "grid_auto_flow": null,
            "grid_auto_rows": null,
            "grid_column": null,
            "grid_gap": null,
            "grid_row": null,
            "grid_template_areas": null,
            "grid_template_columns": null,
            "grid_template_rows": null,
            "height": null,
            "justify_content": null,
            "justify_items": null,
            "left": null,
            "margin": null,
            "max_height": null,
            "max_width": null,
            "min_height": null,
            "min_width": null,
            "object_fit": null,
            "object_position": null,
            "order": null,
            "overflow": null,
            "overflow_x": null,
            "overflow_y": null,
            "padding": null,
            "right": null,
            "top": null,
            "visibility": null,
            "width": null
          }
        },
        "c3e27f069fe34c25bf5dc51822bbf7ec": {
          "model_module": "@jupyter-widgets/controls",
          "model_name": "ProgressStyleModel",
          "model_module_version": "1.5.0",
          "state": {
            "_model_module": "@jupyter-widgets/controls",
            "_model_module_version": "1.5.0",
            "_model_name": "ProgressStyleModel",
            "_view_count": null,
            "_view_module": "@jupyter-widgets/base",
            "_view_module_version": "1.2.0",
            "_view_name": "StyleView",
            "bar_color": null,
            "description_width": ""
          }
        },
        "f1493f9be1a6463ea90e50e1ae35df5b": {
          "model_module": "@jupyter-widgets/base",
          "model_name": "LayoutModel",
          "model_module_version": "1.2.0",
          "state": {
            "_model_module": "@jupyter-widgets/base",
            "_model_module_version": "1.2.0",
            "_model_name": "LayoutModel",
            "_view_count": null,
            "_view_module": "@jupyter-widgets/base",
            "_view_module_version": "1.2.0",
            "_view_name": "LayoutView",
            "align_content": null,
            "align_items": null,
            "align_self": null,
            "border": null,
            "bottom": null,
            "display": null,
            "flex": null,
            "flex_flow": null,
            "grid_area": null,
            "grid_auto_columns": null,
            "grid_auto_flow": null,
            "grid_auto_rows": null,
            "grid_column": null,
            "grid_gap": null,
            "grid_row": null,
            "grid_template_areas": null,
            "grid_template_columns": null,
            "grid_template_rows": null,
            "height": null,
            "justify_content": null,
            "justify_items": null,
            "left": null,
            "margin": null,
            "max_height": null,
            "max_width": null,
            "min_height": null,
            "min_width": null,
            "object_fit": null,
            "object_position": null,
            "order": null,
            "overflow": null,
            "overflow_x": null,
            "overflow_y": null,
            "padding": null,
            "right": null,
            "top": null,
            "visibility": null,
            "width": null
          }
        },
        "9735cfb4415b457b9e3b4bb4a35902b0": {
          "model_module": "@jupyter-widgets/controls",
          "model_name": "DescriptionStyleModel",
          "model_module_version": "1.5.0",
          "state": {
            "_model_module": "@jupyter-widgets/controls",
            "_model_module_version": "1.5.0",
            "_model_name": "DescriptionStyleModel",
            "_view_count": null,
            "_view_module": "@jupyter-widgets/base",
            "_view_module_version": "1.2.0",
            "_view_name": "StyleView",
            "description_width": ""
          }
        },
        "f3a555d5a0a74f09aa95b0283c022394": {
          "model_module": "@jupyter-widgets/controls",
          "model_name": "HBoxModel",
          "model_module_version": "1.5.0",
          "state": {
            "_dom_classes": [],
            "_model_module": "@jupyter-widgets/controls",
            "_model_module_version": "1.5.0",
            "_model_name": "HBoxModel",
            "_view_count": null,
            "_view_module": "@jupyter-widgets/controls",
            "_view_module_version": "1.5.0",
            "_view_name": "HBoxView",
            "box_style": "",
            "children": [
              "IPY_MODEL_2c700a6efaa94f48a693bb248141be47",
              "IPY_MODEL_47683167bdea4212be418a5a1a29e8e4",
              "IPY_MODEL_6c89d56fc2874ce48fcc67e61598ef60"
            ],
            "layout": "IPY_MODEL_9f19589ca61148f8b7fc1a3201266f7a"
          }
        },
        "2c700a6efaa94f48a693bb248141be47": {
          "model_module": "@jupyter-widgets/controls",
          "model_name": "HTMLModel",
          "model_module_version": "1.5.0",
          "state": {
            "_dom_classes": [],
            "_model_module": "@jupyter-widgets/controls",
            "_model_module_version": "1.5.0",
            "_model_name": "HTMLModel",
            "_view_count": null,
            "_view_module": "@jupyter-widgets/controls",
            "_view_module_version": "1.5.0",
            "_view_name": "HTMLView",
            "description": "",
            "description_tooltip": null,
            "layout": "IPY_MODEL_81e899832b964ffb8b2f7be30e8ce5d1",
            "placeholder": "​",
            "style": "IPY_MODEL_3f9076875ebb484ba0adbfd3c3922a22",
            "value": "special_tokens_map.json: 100%"
          }
        },
        "47683167bdea4212be418a5a1a29e8e4": {
          "model_module": "@jupyter-widgets/controls",
          "model_name": "FloatProgressModel",
          "model_module_version": "1.5.0",
          "state": {
            "_dom_classes": [],
            "_model_module": "@jupyter-widgets/controls",
            "_model_module_version": "1.5.0",
            "_model_name": "FloatProgressModel",
            "_view_count": null,
            "_view_module": "@jupyter-widgets/controls",
            "_view_module_version": "1.5.0",
            "_view_name": "ProgressView",
            "bar_style": "success",
            "description": "",
            "description_tooltip": null,
            "layout": "IPY_MODEL_ac2c2cccf3c24659afc855294058c022",
            "max": 239,
            "min": 0,
            "orientation": "horizontal",
            "style": "IPY_MODEL_59197dc857c44727a24cac94a35cf298",
            "value": 239
          }
        },
        "6c89d56fc2874ce48fcc67e61598ef60": {
          "model_module": "@jupyter-widgets/controls",
          "model_name": "HTMLModel",
          "model_module_version": "1.5.0",
          "state": {
            "_dom_classes": [],
            "_model_module": "@jupyter-widgets/controls",
            "_model_module_version": "1.5.0",
            "_model_name": "HTMLModel",
            "_view_count": null,
            "_view_module": "@jupyter-widgets/controls",
            "_view_module_version": "1.5.0",
            "_view_name": "HTMLView",
            "description": "",
            "description_tooltip": null,
            "layout": "IPY_MODEL_8a78de57f0164bceac1670317b93edb8",
            "placeholder": "​",
            "style": "IPY_MODEL_9838b1d4b52f4f51a00e56696872fa50",
            "value": " 239/239 [00:00&lt;00:00, 17.3kB/s]"
          }
        },
        "9f19589ca61148f8b7fc1a3201266f7a": {
          "model_module": "@jupyter-widgets/base",
          "model_name": "LayoutModel",
          "model_module_version": "1.2.0",
          "state": {
            "_model_module": "@jupyter-widgets/base",
            "_model_module_version": "1.2.0",
            "_model_name": "LayoutModel",
            "_view_count": null,
            "_view_module": "@jupyter-widgets/base",
            "_view_module_version": "1.2.0",
            "_view_name": "LayoutView",
            "align_content": null,
            "align_items": null,
            "align_self": null,
            "border": null,
            "bottom": null,
            "display": null,
            "flex": null,
            "flex_flow": null,
            "grid_area": null,
            "grid_auto_columns": null,
            "grid_auto_flow": null,
            "grid_auto_rows": null,
            "grid_column": null,
            "grid_gap": null,
            "grid_row": null,
            "grid_template_areas": null,
            "grid_template_columns": null,
            "grid_template_rows": null,
            "height": null,
            "justify_content": null,
            "justify_items": null,
            "left": null,
            "margin": null,
            "max_height": null,
            "max_width": null,
            "min_height": null,
            "min_width": null,
            "object_fit": null,
            "object_position": null,
            "order": null,
            "overflow": null,
            "overflow_x": null,
            "overflow_y": null,
            "padding": null,
            "right": null,
            "top": null,
            "visibility": null,
            "width": null
          }
        },
        "81e899832b964ffb8b2f7be30e8ce5d1": {
          "model_module": "@jupyter-widgets/base",
          "model_name": "LayoutModel",
          "model_module_version": "1.2.0",
          "state": {
            "_model_module": "@jupyter-widgets/base",
            "_model_module_version": "1.2.0",
            "_model_name": "LayoutModel",
            "_view_count": null,
            "_view_module": "@jupyter-widgets/base",
            "_view_module_version": "1.2.0",
            "_view_name": "LayoutView",
            "align_content": null,
            "align_items": null,
            "align_self": null,
            "border": null,
            "bottom": null,
            "display": null,
            "flex": null,
            "flex_flow": null,
            "grid_area": null,
            "grid_auto_columns": null,
            "grid_auto_flow": null,
            "grid_auto_rows": null,
            "grid_column": null,
            "grid_gap": null,
            "grid_row": null,
            "grid_template_areas": null,
            "grid_template_columns": null,
            "grid_template_rows": null,
            "height": null,
            "justify_content": null,
            "justify_items": null,
            "left": null,
            "margin": null,
            "max_height": null,
            "max_width": null,
            "min_height": null,
            "min_width": null,
            "object_fit": null,
            "object_position": null,
            "order": null,
            "overflow": null,
            "overflow_x": null,
            "overflow_y": null,
            "padding": null,
            "right": null,
            "top": null,
            "visibility": null,
            "width": null
          }
        },
        "3f9076875ebb484ba0adbfd3c3922a22": {
          "model_module": "@jupyter-widgets/controls",
          "model_name": "DescriptionStyleModel",
          "model_module_version": "1.5.0",
          "state": {
            "_model_module": "@jupyter-widgets/controls",
            "_model_module_version": "1.5.0",
            "_model_name": "DescriptionStyleModel",
            "_view_count": null,
            "_view_module": "@jupyter-widgets/base",
            "_view_module_version": "1.2.0",
            "_view_name": "StyleView",
            "description_width": ""
          }
        },
        "ac2c2cccf3c24659afc855294058c022": {
          "model_module": "@jupyter-widgets/base",
          "model_name": "LayoutModel",
          "model_module_version": "1.2.0",
          "state": {
            "_model_module": "@jupyter-widgets/base",
            "_model_module_version": "1.2.0",
            "_model_name": "LayoutModel",
            "_view_count": null,
            "_view_module": "@jupyter-widgets/base",
            "_view_module_version": "1.2.0",
            "_view_name": "LayoutView",
            "align_content": null,
            "align_items": null,
            "align_self": null,
            "border": null,
            "bottom": null,
            "display": null,
            "flex": null,
            "flex_flow": null,
            "grid_area": null,
            "grid_auto_columns": null,
            "grid_auto_flow": null,
            "grid_auto_rows": null,
            "grid_column": null,
            "grid_gap": null,
            "grid_row": null,
            "grid_template_areas": null,
            "grid_template_columns": null,
            "grid_template_rows": null,
            "height": null,
            "justify_content": null,
            "justify_items": null,
            "left": null,
            "margin": null,
            "max_height": null,
            "max_width": null,
            "min_height": null,
            "min_width": null,
            "object_fit": null,
            "object_position": null,
            "order": null,
            "overflow": null,
            "overflow_x": null,
            "overflow_y": null,
            "padding": null,
            "right": null,
            "top": null,
            "visibility": null,
            "width": null
          }
        },
        "59197dc857c44727a24cac94a35cf298": {
          "model_module": "@jupyter-widgets/controls",
          "model_name": "ProgressStyleModel",
          "model_module_version": "1.5.0",
          "state": {
            "_model_module": "@jupyter-widgets/controls",
            "_model_module_version": "1.5.0",
            "_model_name": "ProgressStyleModel",
            "_view_count": null,
            "_view_module": "@jupyter-widgets/base",
            "_view_module_version": "1.2.0",
            "_view_name": "StyleView",
            "bar_color": null,
            "description_width": ""
          }
        },
        "8a78de57f0164bceac1670317b93edb8": {
          "model_module": "@jupyter-widgets/base",
          "model_name": "LayoutModel",
          "model_module_version": "1.2.0",
          "state": {
            "_model_module": "@jupyter-widgets/base",
            "_model_module_version": "1.2.0",
            "_model_name": "LayoutModel",
            "_view_count": null,
            "_view_module": "@jupyter-widgets/base",
            "_view_module_version": "1.2.0",
            "_view_name": "LayoutView",
            "align_content": null,
            "align_items": null,
            "align_self": null,
            "border": null,
            "bottom": null,
            "display": null,
            "flex": null,
            "flex_flow": null,
            "grid_area": null,
            "grid_auto_columns": null,
            "grid_auto_flow": null,
            "grid_auto_rows": null,
            "grid_column": null,
            "grid_gap": null,
            "grid_row": null,
            "grid_template_areas": null,
            "grid_template_columns": null,
            "grid_template_rows": null,
            "height": null,
            "justify_content": null,
            "justify_items": null,
            "left": null,
            "margin": null,
            "max_height": null,
            "max_width": null,
            "min_height": null,
            "min_width": null,
            "object_fit": null,
            "object_position": null,
            "order": null,
            "overflow": null,
            "overflow_x": null,
            "overflow_y": null,
            "padding": null,
            "right": null,
            "top": null,
            "visibility": null,
            "width": null
          }
        },
        "9838b1d4b52f4f51a00e56696872fa50": {
          "model_module": "@jupyter-widgets/controls",
          "model_name": "DescriptionStyleModel",
          "model_module_version": "1.5.0",
          "state": {
            "_model_module": "@jupyter-widgets/controls",
            "_model_module_version": "1.5.0",
            "_model_name": "DescriptionStyleModel",
            "_view_count": null,
            "_view_module": "@jupyter-widgets/base",
            "_view_module_version": "1.2.0",
            "_view_name": "StyleView",
            "description_width": ""
          }
        },
        "5ef97c93fc6b41f598a78cb5af57661e": {
          "model_module": "@jupyter-widgets/controls",
          "model_name": "HBoxModel",
          "model_module_version": "1.5.0",
          "state": {
            "_dom_classes": [],
            "_model_module": "@jupyter-widgets/controls",
            "_model_module_version": "1.5.0",
            "_model_name": "HBoxModel",
            "_view_count": null,
            "_view_module": "@jupyter-widgets/controls",
            "_view_module_version": "1.5.0",
            "_view_name": "HBoxView",
            "box_style": "",
            "children": [
              "IPY_MODEL_c0f1f9c98ff84a09bc66e0d708190224",
              "IPY_MODEL_a01812bbc4a9432dbfb19e5600185b01",
              "IPY_MODEL_61cd687cda69482dbcfea8a263a0b350"
            ],
            "layout": "IPY_MODEL_5edc6c55bacf47d1a04410530cb7004c"
          }
        },
        "c0f1f9c98ff84a09bc66e0d708190224": {
          "model_module": "@jupyter-widgets/controls",
          "model_name": "HTMLModel",
          "model_module_version": "1.5.0",
          "state": {
            "_dom_classes": [],
            "_model_module": "@jupyter-widgets/controls",
            "_model_module_version": "1.5.0",
            "_model_name": "HTMLModel",
            "_view_count": null,
            "_view_module": "@jupyter-widgets/controls",
            "_view_module_version": "1.5.0",
            "_view_name": "HTMLView",
            "description": "",
            "description_tooltip": null,
            "layout": "IPY_MODEL_de96a2bc5e104727ac22169221399039",
            "placeholder": "​",
            "style": "IPY_MODEL_b9358277e02148e08e2bc3fea0cbeb5f",
            "value": "config.json: 100%"
          }
        },
        "a01812bbc4a9432dbfb19e5600185b01": {
          "model_module": "@jupyter-widgets/controls",
          "model_name": "FloatProgressModel",
          "model_module_version": "1.5.0",
          "state": {
            "_dom_classes": [],
            "_model_module": "@jupyter-widgets/controls",
            "_model_module_version": "1.5.0",
            "_model_name": "FloatProgressModel",
            "_view_count": null,
            "_view_module": "@jupyter-widgets/controls",
            "_view_module_version": "1.5.0",
            "_view_name": "ProgressView",
            "bar_style": "success",
            "description": "",
            "description_tooltip": null,
            "layout": "IPY_MODEL_b0a778c5a46341b386499b79a8a18081",
            "max": 816,
            "min": 0,
            "orientation": "horizontal",
            "style": "IPY_MODEL_81afac1eff1343fda9045007412bcaf7",
            "value": 816
          }
        },
        "61cd687cda69482dbcfea8a263a0b350": {
          "model_module": "@jupyter-widgets/controls",
          "model_name": "HTMLModel",
          "model_module_version": "1.5.0",
          "state": {
            "_dom_classes": [],
            "_model_module": "@jupyter-widgets/controls",
            "_model_module_version": "1.5.0",
            "_model_name": "HTMLModel",
            "_view_count": null,
            "_view_module": "@jupyter-widgets/controls",
            "_view_module_version": "1.5.0",
            "_view_name": "HTMLView",
            "description": "",
            "description_tooltip": null,
            "layout": "IPY_MODEL_4d2cf32fb3b742158c6ec1ecd0b8ce75",
            "placeholder": "​",
            "style": "IPY_MODEL_9a3fe20e6e5349e5bb5750b9f8de757d",
            "value": " 816/816 [00:00&lt;00:00, 46.7kB/s]"
          }
        },
        "5edc6c55bacf47d1a04410530cb7004c": {
          "model_module": "@jupyter-widgets/base",
          "model_name": "LayoutModel",
          "model_module_version": "1.2.0",
          "state": {
            "_model_module": "@jupyter-widgets/base",
            "_model_module_version": "1.2.0",
            "_model_name": "LayoutModel",
            "_view_count": null,
            "_view_module": "@jupyter-widgets/base",
            "_view_module_version": "1.2.0",
            "_view_name": "LayoutView",
            "align_content": null,
            "align_items": null,
            "align_self": null,
            "border": null,
            "bottom": null,
            "display": null,
            "flex": null,
            "flex_flow": null,
            "grid_area": null,
            "grid_auto_columns": null,
            "grid_auto_flow": null,
            "grid_auto_rows": null,
            "grid_column": null,
            "grid_gap": null,
            "grid_row": null,
            "grid_template_areas": null,
            "grid_template_columns": null,
            "grid_template_rows": null,
            "height": null,
            "justify_content": null,
            "justify_items": null,
            "left": null,
            "margin": null,
            "max_height": null,
            "max_width": null,
            "min_height": null,
            "min_width": null,
            "object_fit": null,
            "object_position": null,
            "order": null,
            "overflow": null,
            "overflow_x": null,
            "overflow_y": null,
            "padding": null,
            "right": null,
            "top": null,
            "visibility": null,
            "width": null
          }
        },
        "de96a2bc5e104727ac22169221399039": {
          "model_module": "@jupyter-widgets/base",
          "model_name": "LayoutModel",
          "model_module_version": "1.2.0",
          "state": {
            "_model_module": "@jupyter-widgets/base",
            "_model_module_version": "1.2.0",
            "_model_name": "LayoutModel",
            "_view_count": null,
            "_view_module": "@jupyter-widgets/base",
            "_view_module_version": "1.2.0",
            "_view_name": "LayoutView",
            "align_content": null,
            "align_items": null,
            "align_self": null,
            "border": null,
            "bottom": null,
            "display": null,
            "flex": null,
            "flex_flow": null,
            "grid_area": null,
            "grid_auto_columns": null,
            "grid_auto_flow": null,
            "grid_auto_rows": null,
            "grid_column": null,
            "grid_gap": null,
            "grid_row": null,
            "grid_template_areas": null,
            "grid_template_columns": null,
            "grid_template_rows": null,
            "height": null,
            "justify_content": null,
            "justify_items": null,
            "left": null,
            "margin": null,
            "max_height": null,
            "max_width": null,
            "min_height": null,
            "min_width": null,
            "object_fit": null,
            "object_position": null,
            "order": null,
            "overflow": null,
            "overflow_x": null,
            "overflow_y": null,
            "padding": null,
            "right": null,
            "top": null,
            "visibility": null,
            "width": null
          }
        },
        "b9358277e02148e08e2bc3fea0cbeb5f": {
          "model_module": "@jupyter-widgets/controls",
          "model_name": "DescriptionStyleModel",
          "model_module_version": "1.5.0",
          "state": {
            "_model_module": "@jupyter-widgets/controls",
            "_model_module_version": "1.5.0",
            "_model_name": "DescriptionStyleModel",
            "_view_count": null,
            "_view_module": "@jupyter-widgets/base",
            "_view_module_version": "1.2.0",
            "_view_name": "StyleView",
            "description_width": ""
          }
        },
        "b0a778c5a46341b386499b79a8a18081": {
          "model_module": "@jupyter-widgets/base",
          "model_name": "LayoutModel",
          "model_module_version": "1.2.0",
          "state": {
            "_model_module": "@jupyter-widgets/base",
            "_model_module_version": "1.2.0",
            "_model_name": "LayoutModel",
            "_view_count": null,
            "_view_module": "@jupyter-widgets/base",
            "_view_module_version": "1.2.0",
            "_view_name": "LayoutView",
            "align_content": null,
            "align_items": null,
            "align_self": null,
            "border": null,
            "bottom": null,
            "display": null,
            "flex": null,
            "flex_flow": null,
            "grid_area": null,
            "grid_auto_columns": null,
            "grid_auto_flow": null,
            "grid_auto_rows": null,
            "grid_column": null,
            "grid_gap": null,
            "grid_row": null,
            "grid_template_areas": null,
            "grid_template_columns": null,
            "grid_template_rows": null,
            "height": null,
            "justify_content": null,
            "justify_items": null,
            "left": null,
            "margin": null,
            "max_height": null,
            "max_width": null,
            "min_height": null,
            "min_width": null,
            "object_fit": null,
            "object_position": null,
            "order": null,
            "overflow": null,
            "overflow_x": null,
            "overflow_y": null,
            "padding": null,
            "right": null,
            "top": null,
            "visibility": null,
            "width": null
          }
        },
        "81afac1eff1343fda9045007412bcaf7": {
          "model_module": "@jupyter-widgets/controls",
          "model_name": "ProgressStyleModel",
          "model_module_version": "1.5.0",
          "state": {
            "_model_module": "@jupyter-widgets/controls",
            "_model_module_version": "1.5.0",
            "_model_name": "ProgressStyleModel",
            "_view_count": null,
            "_view_module": "@jupyter-widgets/base",
            "_view_module_version": "1.2.0",
            "_view_name": "StyleView",
            "bar_color": null,
            "description_width": ""
          }
        },
        "4d2cf32fb3b742158c6ec1ecd0b8ce75": {
          "model_module": "@jupyter-widgets/base",
          "model_name": "LayoutModel",
          "model_module_version": "1.2.0",
          "state": {
            "_model_module": "@jupyter-widgets/base",
            "_model_module_version": "1.2.0",
            "_model_name": "LayoutModel",
            "_view_count": null,
            "_view_module": "@jupyter-widgets/base",
            "_view_module_version": "1.2.0",
            "_view_name": "LayoutView",
            "align_content": null,
            "align_items": null,
            "align_self": null,
            "border": null,
            "bottom": null,
            "display": null,
            "flex": null,
            "flex_flow": null,
            "grid_area": null,
            "grid_auto_columns": null,
            "grid_auto_flow": null,
            "grid_auto_rows": null,
            "grid_column": null,
            "grid_gap": null,
            "grid_row": null,
            "grid_template_areas": null,
            "grid_template_columns": null,
            "grid_template_rows": null,
            "height": null,
            "justify_content": null,
            "justify_items": null,
            "left": null,
            "margin": null,
            "max_height": null,
            "max_width": null,
            "min_height": null,
            "min_width": null,
            "object_fit": null,
            "object_position": null,
            "order": null,
            "overflow": null,
            "overflow_x": null,
            "overflow_y": null,
            "padding": null,
            "right": null,
            "top": null,
            "visibility": null,
            "width": null
          }
        },
        "9a3fe20e6e5349e5bb5750b9f8de757d": {
          "model_module": "@jupyter-widgets/controls",
          "model_name": "DescriptionStyleModel",
          "model_module_version": "1.5.0",
          "state": {
            "_model_module": "@jupyter-widgets/controls",
            "_model_module_version": "1.5.0",
            "_model_name": "DescriptionStyleModel",
            "_view_count": null,
            "_view_module": "@jupyter-widgets/base",
            "_view_module_version": "1.2.0",
            "_view_name": "StyleView",
            "description_width": ""
          }
        },
        "39cc3a04bc8841dcbb5cd6eb696b9920": {
          "model_module": "@jupyter-widgets/controls",
          "model_name": "HBoxModel",
          "model_module_version": "1.5.0",
          "state": {
            "_dom_classes": [],
            "_model_module": "@jupyter-widgets/controls",
            "_model_module_version": "1.5.0",
            "_model_name": "HBoxModel",
            "_view_count": null,
            "_view_module": "@jupyter-widgets/controls",
            "_view_module_version": "1.5.0",
            "_view_name": "HBoxView",
            "box_style": "",
            "children": [
              "IPY_MODEL_67b5e7b4744a497881c28b4315b8963a",
              "IPY_MODEL_da5c3399de084eb5adad40f04a0180e2",
              "IPY_MODEL_8fad6e44126d4f77a507cd8e29bc6599"
            ],
            "layout": "IPY_MODEL_5c5e9e37782d45ec83ae2c236860d81a"
          }
        },
        "67b5e7b4744a497881c28b4315b8963a": {
          "model_module": "@jupyter-widgets/controls",
          "model_name": "HTMLModel",
          "model_module_version": "1.5.0",
          "state": {
            "_dom_classes": [],
            "_model_module": "@jupyter-widgets/controls",
            "_model_module_version": "1.5.0",
            "_model_name": "HTMLModel",
            "_view_count": null,
            "_view_module": "@jupyter-widgets/controls",
            "_view_module_version": "1.5.0",
            "_view_name": "HTMLView",
            "description": "",
            "description_tooltip": null,
            "layout": "IPY_MODEL_95098e06c5284a729fcd503ec99e3263",
            "placeholder": "​",
            "style": "IPY_MODEL_048f0f4e69f14a69a5d0d34482116478",
            "value": "model.safetensors: 100%"
          }
        },
        "da5c3399de084eb5adad40f04a0180e2": {
          "model_module": "@jupyter-widgets/controls",
          "model_name": "FloatProgressModel",
          "model_module_version": "1.5.0",
          "state": {
            "_dom_classes": [],
            "_model_module": "@jupyter-widgets/controls",
            "_model_module_version": "1.5.0",
            "_model_name": "FloatProgressModel",
            "_view_count": null,
            "_view_module": "@jupyter-widgets/controls",
            "_view_module_version": "1.5.0",
            "_view_name": "ProgressView",
            "bar_style": "success",
            "description": "",
            "description_tooltip": null,
            "layout": "IPY_MODEL_edff94e24c454e65b37e3e9c728f62bf",
            "max": 498617024,
            "min": 0,
            "orientation": "horizontal",
            "style": "IPY_MODEL_917f2bb4eada4071ba3bb3a76040557a",
            "value": 498617024
          }
        },
        "8fad6e44126d4f77a507cd8e29bc6599": {
          "model_module": "@jupyter-widgets/controls",
          "model_name": "HTMLModel",
          "model_module_version": "1.5.0",
          "state": {
            "_dom_classes": [],
            "_model_module": "@jupyter-widgets/controls",
            "_model_module_version": "1.5.0",
            "_model_name": "HTMLModel",
            "_view_count": null,
            "_view_module": "@jupyter-widgets/controls",
            "_view_module_version": "1.5.0",
            "_view_name": "HTMLView",
            "description": "",
            "description_tooltip": null,
            "layout": "IPY_MODEL_4c6ffd21b0a648bc87def567c4663dde",
            "placeholder": "​",
            "style": "IPY_MODEL_39aebf0497d442eaa1963f416790f5a1",
            "value": " 499M/499M [00:02&lt;00:00, 261MB/s]"
          }
        },
        "5c5e9e37782d45ec83ae2c236860d81a": {
          "model_module": "@jupyter-widgets/base",
          "model_name": "LayoutModel",
          "model_module_version": "1.2.0",
          "state": {
            "_model_module": "@jupyter-widgets/base",
            "_model_module_version": "1.2.0",
            "_model_name": "LayoutModel",
            "_view_count": null,
            "_view_module": "@jupyter-widgets/base",
            "_view_module_version": "1.2.0",
            "_view_name": "LayoutView",
            "align_content": null,
            "align_items": null,
            "align_self": null,
            "border": null,
            "bottom": null,
            "display": null,
            "flex": null,
            "flex_flow": null,
            "grid_area": null,
            "grid_auto_columns": null,
            "grid_auto_flow": null,
            "grid_auto_rows": null,
            "grid_column": null,
            "grid_gap": null,
            "grid_row": null,
            "grid_template_areas": null,
            "grid_template_columns": null,
            "grid_template_rows": null,
            "height": null,
            "justify_content": null,
            "justify_items": null,
            "left": null,
            "margin": null,
            "max_height": null,
            "max_width": null,
            "min_height": null,
            "min_width": null,
            "object_fit": null,
            "object_position": null,
            "order": null,
            "overflow": null,
            "overflow_x": null,
            "overflow_y": null,
            "padding": null,
            "right": null,
            "top": null,
            "visibility": null,
            "width": null
          }
        },
        "95098e06c5284a729fcd503ec99e3263": {
          "model_module": "@jupyter-widgets/base",
          "model_name": "LayoutModel",
          "model_module_version": "1.2.0",
          "state": {
            "_model_module": "@jupyter-widgets/base",
            "_model_module_version": "1.2.0",
            "_model_name": "LayoutModel",
            "_view_count": null,
            "_view_module": "@jupyter-widgets/base",
            "_view_module_version": "1.2.0",
            "_view_name": "LayoutView",
            "align_content": null,
            "align_items": null,
            "align_self": null,
            "border": null,
            "bottom": null,
            "display": null,
            "flex": null,
            "flex_flow": null,
            "grid_area": null,
            "grid_auto_columns": null,
            "grid_auto_flow": null,
            "grid_auto_rows": null,
            "grid_column": null,
            "grid_gap": null,
            "grid_row": null,
            "grid_template_areas": null,
            "grid_template_columns": null,
            "grid_template_rows": null,
            "height": null,
            "justify_content": null,
            "justify_items": null,
            "left": null,
            "margin": null,
            "max_height": null,
            "max_width": null,
            "min_height": null,
            "min_width": null,
            "object_fit": null,
            "object_position": null,
            "order": null,
            "overflow": null,
            "overflow_x": null,
            "overflow_y": null,
            "padding": null,
            "right": null,
            "top": null,
            "visibility": null,
            "width": null
          }
        },
        "048f0f4e69f14a69a5d0d34482116478": {
          "model_module": "@jupyter-widgets/controls",
          "model_name": "DescriptionStyleModel",
          "model_module_version": "1.5.0",
          "state": {
            "_model_module": "@jupyter-widgets/controls",
            "_model_module_version": "1.5.0",
            "_model_name": "DescriptionStyleModel",
            "_view_count": null,
            "_view_module": "@jupyter-widgets/base",
            "_view_module_version": "1.2.0",
            "_view_name": "StyleView",
            "description_width": ""
          }
        },
        "edff94e24c454e65b37e3e9c728f62bf": {
          "model_module": "@jupyter-widgets/base",
          "model_name": "LayoutModel",
          "model_module_version": "1.2.0",
          "state": {
            "_model_module": "@jupyter-widgets/base",
            "_model_module_version": "1.2.0",
            "_model_name": "LayoutModel",
            "_view_count": null,
            "_view_module": "@jupyter-widgets/base",
            "_view_module_version": "1.2.0",
            "_view_name": "LayoutView",
            "align_content": null,
            "align_items": null,
            "align_self": null,
            "border": null,
            "bottom": null,
            "display": null,
            "flex": null,
            "flex_flow": null,
            "grid_area": null,
            "grid_auto_columns": null,
            "grid_auto_flow": null,
            "grid_auto_rows": null,
            "grid_column": null,
            "grid_gap": null,
            "grid_row": null,
            "grid_template_areas": null,
            "grid_template_columns": null,
            "grid_template_rows": null,
            "height": null,
            "justify_content": null,
            "justify_items": null,
            "left": null,
            "margin": null,
            "max_height": null,
            "max_width": null,
            "min_height": null,
            "min_width": null,
            "object_fit": null,
            "object_position": null,
            "order": null,
            "overflow": null,
            "overflow_x": null,
            "overflow_y": null,
            "padding": null,
            "right": null,
            "top": null,
            "visibility": null,
            "width": null
          }
        },
        "917f2bb4eada4071ba3bb3a76040557a": {
          "model_module": "@jupyter-widgets/controls",
          "model_name": "ProgressStyleModel",
          "model_module_version": "1.5.0",
          "state": {
            "_model_module": "@jupyter-widgets/controls",
            "_model_module_version": "1.5.0",
            "_model_name": "ProgressStyleModel",
            "_view_count": null,
            "_view_module": "@jupyter-widgets/base",
            "_view_module_version": "1.2.0",
            "_view_name": "StyleView",
            "bar_color": null,
            "description_width": ""
          }
        },
        "4c6ffd21b0a648bc87def567c4663dde": {
          "model_module": "@jupyter-widgets/base",
          "model_name": "LayoutModel",
          "model_module_version": "1.2.0",
          "state": {
            "_model_module": "@jupyter-widgets/base",
            "_model_module_version": "1.2.0",
            "_model_name": "LayoutModel",
            "_view_count": null,
            "_view_module": "@jupyter-widgets/base",
            "_view_module_version": "1.2.0",
            "_view_name": "LayoutView",
            "align_content": null,
            "align_items": null,
            "align_self": null,
            "border": null,
            "bottom": null,
            "display": null,
            "flex": null,
            "flex_flow": null,
            "grid_area": null,
            "grid_auto_columns": null,
            "grid_auto_flow": null,
            "grid_auto_rows": null,
            "grid_column": null,
            "grid_gap": null,
            "grid_row": null,
            "grid_template_areas": null,
            "grid_template_columns": null,
            "grid_template_rows": null,
            "height": null,
            "justify_content": null,
            "justify_items": null,
            "left": null,
            "margin": null,
            "max_height": null,
            "max_width": null,
            "min_height": null,
            "min_width": null,
            "object_fit": null,
            "object_position": null,
            "order": null,
            "overflow": null,
            "overflow_x": null,
            "overflow_y": null,
            "padding": null,
            "right": null,
            "top": null,
            "visibility": null,
            "width": null
          }
        },
        "39aebf0497d442eaa1963f416790f5a1": {
          "model_module": "@jupyter-widgets/controls",
          "model_name": "DescriptionStyleModel",
          "model_module_version": "1.5.0",
          "state": {
            "_model_module": "@jupyter-widgets/controls",
            "_model_module_version": "1.5.0",
            "_model_name": "DescriptionStyleModel",
            "_view_count": null,
            "_view_module": "@jupyter-widgets/base",
            "_view_module_version": "1.2.0",
            "_view_name": "StyleView",
            "description_width": ""
          }
        },
        "a0814a9921004aa483d9ee348710ab15": {
          "model_module": "@jupyter-widgets/controls",
          "model_name": "HBoxModel",
          "model_module_version": "1.5.0",
          "state": {
            "_dom_classes": [],
            "_model_module": "@jupyter-widgets/controls",
            "_model_module_version": "1.5.0",
            "_model_name": "HBoxModel",
            "_view_count": null,
            "_view_module": "@jupyter-widgets/controls",
            "_view_module_version": "1.5.0",
            "_view_name": "HBoxView",
            "box_style": "",
            "children": [
              "IPY_MODEL_528f4d661949481b90fd84b1412f6f51",
              "IPY_MODEL_a573962b5e324817974fd531457527fb",
              "IPY_MODEL_6f5ebf50b2ef44e8ba3f3ccadd53926c"
            ],
            "layout": "IPY_MODEL_f224077b79f1408ebd0f65d04724a344"
          }
        },
        "528f4d661949481b90fd84b1412f6f51": {
          "model_module": "@jupyter-widgets/controls",
          "model_name": "HTMLModel",
          "model_module_version": "1.5.0",
          "state": {
            "_dom_classes": [],
            "_model_module": "@jupyter-widgets/controls",
            "_model_module_version": "1.5.0",
            "_model_name": "HTMLModel",
            "_view_count": null,
            "_view_module": "@jupyter-widgets/controls",
            "_view_module_version": "1.5.0",
            "_view_name": "HTMLView",
            "description": "",
            "description_tooltip": null,
            "layout": "IPY_MODEL_363dff347a844662b378a349e71f5765",
            "placeholder": "​",
            "style": "IPY_MODEL_8dae1caad30f458d9f931dc989b2c36f",
            "value": "model.safetensors: 100%"
          }
        },
        "a573962b5e324817974fd531457527fb": {
          "model_module": "@jupyter-widgets/controls",
          "model_name": "FloatProgressModel",
          "model_module_version": "1.5.0",
          "state": {
            "_dom_classes": [],
            "_model_module": "@jupyter-widgets/controls",
            "_model_module_version": "1.5.0",
            "_model_name": "FloatProgressModel",
            "_view_count": null,
            "_view_module": "@jupyter-widgets/controls",
            "_view_module_version": "1.5.0",
            "_view_name": "ProgressView",
            "bar_style": "success",
            "description": "",
            "description_tooltip": null,
            "layout": "IPY_MODEL_d9ee6a4948984e5f824b419b11a0b114",
            "max": 44692608,
            "min": 0,
            "orientation": "horizontal",
            "style": "IPY_MODEL_7d31bab08fd14d79902edc593a6e6448",
            "value": 44692608
          }
        },
        "6f5ebf50b2ef44e8ba3f3ccadd53926c": {
          "model_module": "@jupyter-widgets/controls",
          "model_name": "HTMLModel",
          "model_module_version": "1.5.0",
          "state": {
            "_dom_classes": [],
            "_model_module": "@jupyter-widgets/controls",
            "_model_module_version": "1.5.0",
            "_model_name": "HTMLModel",
            "_view_count": null,
            "_view_module": "@jupyter-widgets/controls",
            "_view_module_version": "1.5.0",
            "_view_name": "HTMLView",
            "description": "",
            "description_tooltip": null,
            "layout": "IPY_MODEL_a5ce67d479d44311b988fc7497138646",
            "placeholder": "​",
            "style": "IPY_MODEL_cde8730a7669497f9732b927647f4719",
            "value": " 44.7M/44.7M [00:00&lt;00:00, 93.8MB/s]"
          }
        },
        "f224077b79f1408ebd0f65d04724a344": {
          "model_module": "@jupyter-widgets/base",
          "model_name": "LayoutModel",
          "model_module_version": "1.2.0",
          "state": {
            "_model_module": "@jupyter-widgets/base",
            "_model_module_version": "1.2.0",
            "_model_name": "LayoutModel",
            "_view_count": null,
            "_view_module": "@jupyter-widgets/base",
            "_view_module_version": "1.2.0",
            "_view_name": "LayoutView",
            "align_content": null,
            "align_items": null,
            "align_self": null,
            "border": null,
            "bottom": null,
            "display": null,
            "flex": null,
            "flex_flow": null,
            "grid_area": null,
            "grid_auto_columns": null,
            "grid_auto_flow": null,
            "grid_auto_rows": null,
            "grid_column": null,
            "grid_gap": null,
            "grid_row": null,
            "grid_template_areas": null,
            "grid_template_columns": null,
            "grid_template_rows": null,
            "height": null,
            "justify_content": null,
            "justify_items": null,
            "left": null,
            "margin": null,
            "max_height": null,
            "max_width": null,
            "min_height": null,
            "min_width": null,
            "object_fit": null,
            "object_position": null,
            "order": null,
            "overflow": null,
            "overflow_x": null,
            "overflow_y": null,
            "padding": null,
            "right": null,
            "top": null,
            "visibility": null,
            "width": null
          }
        },
        "363dff347a844662b378a349e71f5765": {
          "model_module": "@jupyter-widgets/base",
          "model_name": "LayoutModel",
          "model_module_version": "1.2.0",
          "state": {
            "_model_module": "@jupyter-widgets/base",
            "_model_module_version": "1.2.0",
            "_model_name": "LayoutModel",
            "_view_count": null,
            "_view_module": "@jupyter-widgets/base",
            "_view_module_version": "1.2.0",
            "_view_name": "LayoutView",
            "align_content": null,
            "align_items": null,
            "align_self": null,
            "border": null,
            "bottom": null,
            "display": null,
            "flex": null,
            "flex_flow": null,
            "grid_area": null,
            "grid_auto_columns": null,
            "grid_auto_flow": null,
            "grid_auto_rows": null,
            "grid_column": null,
            "grid_gap": null,
            "grid_row": null,
            "grid_template_areas": null,
            "grid_template_columns": null,
            "grid_template_rows": null,
            "height": null,
            "justify_content": null,
            "justify_items": null,
            "left": null,
            "margin": null,
            "max_height": null,
            "max_width": null,
            "min_height": null,
            "min_width": null,
            "object_fit": null,
            "object_position": null,
            "order": null,
            "overflow": null,
            "overflow_x": null,
            "overflow_y": null,
            "padding": null,
            "right": null,
            "top": null,
            "visibility": null,
            "width": null
          }
        },
        "8dae1caad30f458d9f931dc989b2c36f": {
          "model_module": "@jupyter-widgets/controls",
          "model_name": "DescriptionStyleModel",
          "model_module_version": "1.5.0",
          "state": {
            "_model_module": "@jupyter-widgets/controls",
            "_model_module_version": "1.5.0",
            "_model_name": "DescriptionStyleModel",
            "_view_count": null,
            "_view_module": "@jupyter-widgets/base",
            "_view_module_version": "1.2.0",
            "_view_name": "StyleView",
            "description_width": ""
          }
        },
        "d9ee6a4948984e5f824b419b11a0b114": {
          "model_module": "@jupyter-widgets/base",
          "model_name": "LayoutModel",
          "model_module_version": "1.2.0",
          "state": {
            "_model_module": "@jupyter-widgets/base",
            "_model_module_version": "1.2.0",
            "_model_name": "LayoutModel",
            "_view_count": null,
            "_view_module": "@jupyter-widgets/base",
            "_view_module_version": "1.2.0",
            "_view_name": "LayoutView",
            "align_content": null,
            "align_items": null,
            "align_self": null,
            "border": null,
            "bottom": null,
            "display": null,
            "flex": null,
            "flex_flow": null,
            "grid_area": null,
            "grid_auto_columns": null,
            "grid_auto_flow": null,
            "grid_auto_rows": null,
            "grid_column": null,
            "grid_gap": null,
            "grid_row": null,
            "grid_template_areas": null,
            "grid_template_columns": null,
            "grid_template_rows": null,
            "height": null,
            "justify_content": null,
            "justify_items": null,
            "left": null,
            "margin": null,
            "max_height": null,
            "max_width": null,
            "min_height": null,
            "min_width": null,
            "object_fit": null,
            "object_position": null,
            "order": null,
            "overflow": null,
            "overflow_x": null,
            "overflow_y": null,
            "padding": null,
            "right": null,
            "top": null,
            "visibility": null,
            "width": null
          }
        },
        "7d31bab08fd14d79902edc593a6e6448": {
          "model_module": "@jupyter-widgets/controls",
          "model_name": "ProgressStyleModel",
          "model_module_version": "1.5.0",
          "state": {
            "_model_module": "@jupyter-widgets/controls",
            "_model_module_version": "1.5.0",
            "_model_name": "ProgressStyleModel",
            "_view_count": null,
            "_view_module": "@jupyter-widgets/base",
            "_view_module_version": "1.2.0",
            "_view_name": "StyleView",
            "bar_color": null,
            "description_width": ""
          }
        },
        "a5ce67d479d44311b988fc7497138646": {
          "model_module": "@jupyter-widgets/base",
          "model_name": "LayoutModel",
          "model_module_version": "1.2.0",
          "state": {
            "_model_module": "@jupyter-widgets/base",
            "_model_module_version": "1.2.0",
            "_model_name": "LayoutModel",
            "_view_count": null,
            "_view_module": "@jupyter-widgets/base",
            "_view_module_version": "1.2.0",
            "_view_name": "LayoutView",
            "align_content": null,
            "align_items": null,
            "align_self": null,
            "border": null,
            "bottom": null,
            "display": null,
            "flex": null,
            "flex_flow": null,
            "grid_area": null,
            "grid_auto_columns": null,
            "grid_auto_flow": null,
            "grid_auto_rows": null,
            "grid_column": null,
            "grid_gap": null,
            "grid_row": null,
            "grid_template_areas": null,
            "grid_template_columns": null,
            "grid_template_rows": null,
            "height": null,
            "justify_content": null,
            "justify_items": null,
            "left": null,
            "margin": null,
            "max_height": null,
            "max_width": null,
            "min_height": null,
            "min_width": null,
            "object_fit": null,
            "object_position": null,
            "order": null,
            "overflow": null,
            "overflow_x": null,
            "overflow_y": null,
            "padding": null,
            "right": null,
            "top": null,
            "visibility": null,
            "width": null
          }
        },
        "cde8730a7669497f9732b927647f4719": {
          "model_module": "@jupyter-widgets/controls",
          "model_name": "DescriptionStyleModel",
          "model_module_version": "1.5.0",
          "state": {
            "_model_module": "@jupyter-widgets/controls",
            "_model_module_version": "1.5.0",
            "_model_name": "DescriptionStyleModel",
            "_view_count": null,
            "_view_module": "@jupyter-widgets/base",
            "_view_module_version": "1.2.0",
            "_view_name": "StyleView",
            "description_width": ""
          }
        }
      }
    },
    "accelerator": "GPU"
  },
  "nbformat": 4,
  "nbformat_minor": 0
}