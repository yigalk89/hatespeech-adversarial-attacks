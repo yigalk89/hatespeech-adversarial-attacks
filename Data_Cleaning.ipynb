{
  "nbformat": 4,
  "nbformat_minor": 0,
  "metadata": {
    "colab": {
      "provenance": [],
      "include_colab_link": true
    },
    "kernelspec": {
      "name": "python3",
      "display_name": "Python 3"
    },
    "language_info": {
      "name": "python"
    }
  },
  "cells": [
    {
      "cell_type": "markdown",
      "metadata": {
        "id": "view-in-github",
        "colab_type": "text"
      },
      "source": [
        "<a href=\"https://colab.research.google.com/github/yigalk89/hatespeech-adversarial-attacks/blob/master/Data_Cleaning.ipynb\" target=\"_parent\"><img src=\"https://colab.research.google.com/assets/colab-badge.svg\" alt=\"Open In Colab\"/></a>"
      ]
    },
    {
      "cell_type": "markdown",
      "source": [
        "# Data Cleaning\n",
        "\n",
        "This the following code was used to extract the perturbated sentence from the response of **mixtral-8x7b-32768** model.\n",
        "\n"
      ],
      "metadata": {
        "id": "gvwmJNdRyhWj"
      }
    },
    {
      "cell_type": "code",
      "execution_count": 1,
      "metadata": {
        "id": "vnK3QZwAw-IB",
        "colab": {
          "base_uri": "https://localhost:8080/"
        },
        "outputId": "a1003905-79ff-4eed-8ad2-b273ed320112"
      },
      "outputs": [
        {
          "output_type": "stream",
          "name": "stdout",
          "text": [
            "Mounted at /content/drive\n"
          ]
        }
      ],
      "source": [
        "import pandas as pd\n",
        "from google.colab import drive\n",
        "drive.mount('/content/drive')\n",
        "df = pd.read_json('/content/drive/MyDrive/NLP/test_transformed_data.json')"
      ]
    },
    {
      "cell_type": "markdown",
      "source": [
        "By analyzing the responses of the model, some responses contain not only the transformed sentence but also some redundant comments and notes because of the harmful text.\n",
        "\n",
        "Therefore, in order to extract the transformed sentence, we use regular expression to search in the response sentence.\n",
        "\n",
        "However, this automatic method could not clean all the noise in the output. A manual cleaning was conducted after the automated cleaning."
      ],
      "metadata": {
        "id": "ra2p47cMzPgZ"
      }
    },
    {
      "cell_type": "code",
      "source": [
        "import re\n",
        "clean = []\n",
        "original = []\n",
        "label = []\n",
        "index = []\n",
        "for k in range(len(df['transformed_text'])):\n",
        "  s = df['transformed_text'][k].split('\\n\\n')\n",
        "  if len(s) >1:\n",
        "    for i in range(len(s)):\n",
        "      #regular expression patterns that contain the transformed data.\n",
        "      x = re.findall('^Transformed:', s[i])\n",
        "      y = re.findall('^Here is a',s[i])\n",
        "      z = re.findall(\"^Here's a\",s[i])\n",
        "      a = re.findall(\"^Note\",s[i])\n",
        "      b = re.findall(\".Here is the\",s[i])\n",
        "      c = re.findall(\"^Transformation:\",s[i])\n",
        "      d = re.findall(\".T?transformation\", s[i])\n",
        "      m = re.findall('semantic-preserving', s[i])\n",
        "      n = re.findall('Explanation',s[i])\n",
        "      o = re.findall('transformation',s[i])\n",
        "      note = re.findall('Note',s[i])\n",
        "\n",
        "      # For each case we are checking the all the patterns that apply and the transformed sentence is not duplicated in the sentence\n",
        "      if m:\n",
        "        if i+1 <len(s):\n",
        "          if not re.findall('Explanation',s[i]):\n",
        "            if s[i+1] not in clean:\n",
        "              index.append(k)\n",
        "              original.append(df['original_text'][k])\n",
        "              clean.append(s[i+1])\n",
        "              label.append(df['final_label'][k])\n",
        "\n",
        "\n",
        "      if n:\n",
        "        if s[i-1] not in clean:\n",
        "          clean.append(s[i-1])\n",
        "          index.append(k)\n",
        "          original.append(df['original_text'][k])\n",
        "          label.append(df['final_label'][k])\n",
        "\n",
        "      if o:\n",
        "        if i+1 <len(s):\n",
        "          if s[i-1] not in clean:\n",
        "            clean.append(s[i+1])\n",
        "            index.append(k)\n",
        "            original.append(df['original_text'][k])\n",
        "            label.append(df['final_label'][k])\n",
        "\n",
        "\n",
        "      if x:\n",
        "        s1 = re.sub(r\"^Transformed:*\\s\", '',s[i])\n",
        "        if s1 not in clean:\n",
        "          original.append(df['original_text'][k])\n",
        "          index.append(k)\n",
        "          clean.append(s1)\n",
        "          label.append(df['final_label'][k])\n",
        "      #y = re.findall('^Here is a',s[i])\n",
        "      if y:\n",
        "        if s[i+1] not in clean:\n",
        "          original.append(df['original_text'][k])\n",
        "          index.append(k)\n",
        "          clean.append(s[i+1])\n",
        "          label.append(df['final_label'][k])\n",
        "      #z = re.findall(\"^Here's a\",s[i])\n",
        "      if z:\n",
        "        if s[i+1] not in clean:\n",
        "          original.append(df['original_text'][k])\n",
        "          index.append(k)\n",
        "          clean.append(s[i+1])\n",
        "          label.append(df['final_label'][k])\n",
        "      #a = re.findall(\"^Note\",s[i])\n",
        "      if a:\n",
        "        if s[i-1] not in clean:\n",
        "          original.append(df['original_text'][k])\n",
        "          index.append(k)\n",
        "          clean.append(s[i-1])\n",
        "          label.append(df['final_label'][k])\n",
        "      if b:\n",
        "        if s[i+1] not in clean:\n",
        "          original.append(df['original_text'][k])\n",
        "          index.append(k)\n",
        "          clean.append(s[i+1])\n",
        "          label.append(df['final_label'][k])\n",
        "      if c:\n",
        "        s3 = re.sub(r\"^Transformation:*\\s\", '',s[i])\n",
        "        if s3 not in clean:\n",
        "          original.append(df['original_text'][k])\n",
        "          index.append(k)\n",
        "          clean.append(s3)\n",
        "          label.append(df['final_label'][k])\n",
        "      if d:\n",
        "        f = re.findall(\".note\", s[i-1])\n",
        "        if f:\n",
        "          if s[i+1] not in clean:\n",
        "            original.append(df['original_text'][k])\n",
        "            index.append(k)\n",
        "            clean.append(s[i+1])\n",
        "            label.append(df['final_label'][k])\n",
        "        else:\n",
        "          if s[i-1] not in clean:\n",
        "            s_sub = s[i-1].split('\\n')\n",
        "            for j in range(len(s_sub)):\n",
        "              g = re.findall('^Transformed',s_sub[j])\n",
        "              if g:\n",
        "                if s_sub[j] not in clean:\n",
        "                  original.append(df['original_text'][k])\n",
        "                  index.append(k)\n",
        "                  clean.append(s_sub[j])\n",
        "                  label.append(df['final_label'][k])\n",
        "              h = re.findall(\"^Transformation\", s_sub[j])\n",
        "              if h:\n",
        "                if s_sub[j] not in clean:\n",
        "                  original.append(df['original_text'][k])\n",
        "                  index.append(k)\n",
        "                  clean.append(s_sub[j])\n",
        "                  label.append(df['final_label'][k])\n",
        "      if note:\n",
        "        if s[i-1] not in clean:\n",
        "          original.append(df['original_text'][k])\n",
        "          index.append(k)\n",
        "          clean.append(s[i-1])\n",
        "          label.append(df['final_label'][k])\n",
        "  #Other cases there the response contain only one sentence with the transformed one.\n",
        "  else:\n",
        "    s2 =  re.sub(r\"^Transformed:*\\s\", '',s[0])\n",
        "    if s2 not in clean:\n",
        "      original.append(df['original_text'][k])\n",
        "      index.append(k)\n",
        "      clean.append(s2)\n",
        "      label.append(df['final_label'][k])"
      ],
      "metadata": {
        "id": "Dvr1PSpRxBLR"
      },
      "execution_count": 2,
      "outputs": []
    },
    {
      "cell_type": "code",
      "source": [
        "len(index) == len(clean)"
      ],
      "metadata": {
        "id": "CSk6_RJ51SSE",
        "colab": {
          "base_uri": "https://localhost:8080/"
        },
        "outputId": "427928d4-233d-4588-e976-02a80df07fb5"
      },
      "execution_count": 3,
      "outputs": [
        {
          "output_type": "execute_result",
          "data": {
            "text/plain": [
              "True"
            ]
          },
          "metadata": {},
          "execution_count": 3
        }
      ]
    },
    {
      "cell_type": "code",
      "source": [
        "new_df = pd.DataFrame({'original':original, 'transformed_text':clean, 'final_label':label})"
      ],
      "metadata": {
        "id": "jZPHWctN1JOY"
      },
      "execution_count": 4,
      "outputs": []
    },
    {
      "cell_type": "code",
      "source": [
        "new_df.to_csv('/content/drive/MyDrive/NLP/transformed_clean.csv')"
      ],
      "metadata": {
        "id": "NbShnJGh1JsJ"
      },
      "execution_count": null,
      "outputs": []
    }
  ]
}