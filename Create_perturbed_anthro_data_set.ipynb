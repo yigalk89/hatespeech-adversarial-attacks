{
  "nbformat": 4,
  "nbformat_minor": 0,
  "metadata": {
    "colab": {
      "provenance": [],
      "include_colab_link": true
    },
    "kernelspec": {
      "name": "python3",
      "display_name": "Python 3"
    },
    "language_info": {
      "name": "python"
    }
  },
  "cells": [
    {
      "cell_type": "markdown",
      "metadata": {
        "id": "view-in-github",
        "colab_type": "text"
      },
      "source": [
        "<a href=\"https://colab.research.google.com/github/yigalk89/hatespeech-adversarial-attacks/blob/master/Create_perturbed_anthro_data_set.ipynb\" target=\"_parent\"><img src=\"https://colab.research.google.com/assets/colab-badge.svg\" alt=\"Open In Colab\"/></a>"
      ]
    },
    {
      "cell_type": "markdown",
      "source": [
        "## Hate explain dataset perturbation using ANTHRO"
      ],
      "metadata": {
        "id": "IinwMgTqYzzq"
      }
    },
    {
      "cell_type": "markdown",
      "source": [
        "### ANTHRO set up"
      ],
      "metadata": {
        "id": "D23nSFcbZDEZ"
      }
    },
    {
      "cell_type": "code",
      "execution_count": null,
      "metadata": {
        "colab": {
          "base_uri": "https://localhost:8080/"
        },
        "id": "YdpSHEYbOIJU",
        "outputId": "7cb0b304-2313-46b6-e9b8-f790e66f8d5e"
      },
      "outputs": [
        {
          "output_type": "stream",
          "name": "stdout",
          "text": [
            "Cloning into 'perturbations-in-the-wild'...\n",
            "remote: Enumerating objects: 47, done.\u001b[K\n",
            "remote: Counting objects: 100% (47/47), done.\u001b[K\n",
            "remote: Compressing objects: 100% (44/44), done.\u001b[K\n",
            "remote: Total 47 (delta 18), reused 11 (delta 1), pack-reused 0 (from 0)\u001b[K\n",
            "Receiving objects: 100% (47/47), 32.27 MiB | 6.02 MiB/s, done.\n",
            "Resolving deltas: 100% (18/18), done.\n",
            "Updating files: 100% (9/9), done.\n",
            "Collecting Levenshtein\n",
            "  Downloading levenshtein-0.26.1-cp310-cp310-manylinux_2_17_x86_64.manylinux2014_x86_64.whl.metadata (3.2 kB)\n",
            "Collecting rapidfuzz<4.0.0,>=3.9.0 (from Levenshtein)\n",
            "  Downloading rapidfuzz-3.11.0-cp310-cp310-manylinux_2_17_x86_64.manylinux2014_x86_64.whl.metadata (11 kB)\n",
            "Downloading levenshtein-0.26.1-cp310-cp310-manylinux_2_17_x86_64.manylinux2014_x86_64.whl (162 kB)\n",
            "\u001b[2K   \u001b[90m━━━━━━━━━━━━━━━━━━━━━━━━━━━━━━━━━━━━━━━━\u001b[0m \u001b[32m162.6/162.6 kB\u001b[0m \u001b[31m4.8 MB/s\u001b[0m eta \u001b[36m0:00:00\u001b[0m\n",
            "\u001b[?25hDownloading rapidfuzz-3.11.0-cp310-cp310-manylinux_2_17_x86_64.manylinux2014_x86_64.whl (3.1 MB)\n",
            "\u001b[2K   \u001b[90m━━━━━━━━━━━━━━━━━━━━━━━━━━━━━━━━━━━━━━━━\u001b[0m \u001b[32m3.1/3.1 MB\u001b[0m \u001b[31m55.3 MB/s\u001b[0m eta \u001b[36m0:00:00\u001b[0m\n",
            "\u001b[?25hInstalling collected packages: rapidfuzz, Levenshtein\n",
            "Successfully installed Levenshtein-0.26.1 rapidfuzz-3.11.0\n",
            "Collecting homoglyphs\n",
            "  Downloading homoglyphs-2.0.4-py3-none-any.whl.metadata (6.0 kB)\n",
            "Downloading homoglyphs-2.0.4-py3-none-any.whl (88 kB)\n",
            "\u001b[2K   \u001b[90m━━━━━━━━━━━━━━━━━━━━━━━━━━━━━━━━━━━━━━━━\u001b[0m \u001b[32m88.4/88.4 kB\u001b[0m \u001b[31m3.3 MB/s\u001b[0m eta \u001b[36m0:00:00\u001b[0m\n",
            "\u001b[?25hInstalling collected packages: homoglyphs\n",
            "Successfully installed homoglyphs-2.0.4\n",
            "Collecting pyspellchecker\n",
            "  Downloading pyspellchecker-0.8.2-py3-none-any.whl.metadata (9.4 kB)\n",
            "Downloading pyspellchecker-0.8.2-py3-none-any.whl (7.1 MB)\n",
            "\u001b[2K   \u001b[90m━━━━━━━━━━━━━━━━━━━━━━━━━━━━━━━━━━━━━━━━\u001b[0m \u001b[32m7.1/7.1 MB\u001b[0m \u001b[31m48.0 MB/s\u001b[0m eta \u001b[36m0:00:00\u001b[0m\n",
            "\u001b[?25hInstalling collected packages: pyspellchecker\n",
            "Successfully installed pyspellchecker-0.8.2\n",
            "loading... token2idx\n",
            "loading... level2code2token\n",
            "loading... token2spell\n",
            "loaded\n",
            "UPPD VERSION Public\n",
            "Total unique codes:\n",
            "Level 1: 407620 codes\n"
          ]
        },
        {
          "output_type": "stream",
          "name": "stderr",
          "text": [
            "100%|██████████| 2083037/2083037 [00:01<00:00, 1129107.35it/s]\n",
            "100%|██████████| 1385430/1385430 [00:02<00:00, 643862.16it/s]\n"
          ]
        },
        {
          "output_type": "stream",
          "name": "stdout",
          "text": [
            "done\n"
          ]
        }
      ],
      "source": [
        "# Setup Anthro (word replacement tool)\n",
        "!git clone https://github.com/lethaiq/perturbations-in-the-wild.git\n",
        "!pip install Levenshtein\n",
        "!pip install homoglyphs\n",
        "!pip install pyspellchecker\n",
        "\n",
        "import numpy as np\n",
        "import pandas as pd\n",
        "import glob\n",
        "import json\n",
        "import pickle\n",
        "import re\n",
        "import Levenshtein\n",
        "from spacy.tokenizer import Tokenizer\n",
        "from tqdm import tqdm\n",
        "import os\n",
        "#import enchant\n",
        "from spellchecker import SpellChecker\n",
        "from nltk.stem import PorterStemmer\n",
        "import homoglyphs as hg\n",
        "from spacy.lang.en import English\n",
        "\n",
        "\n",
        "#english_checker = enchant.Dict(\"en_US\")\n",
        "english_checker = SpellChecker()\n",
        "ps = PorterStemmer()\n",
        "homoglyphs = hg.Homoglyphs(languages={'en'}, strategy=hg.STRATEGY_LOAD)\n",
        "\n",
        "'''\n",
        "def is_english(token):\n",
        "    if 'our' in token.lower() and english_checker.check(token.lower().replace('our','or')):\n",
        "        return True\n",
        "    if 'able' in token.lower() and english_checker.check(token.lower().replace('able','ible')):\n",
        "        return True\n",
        "    if 'ise' in token.lower() and english_checker.check(token.lower().replace('ise','ize')):\n",
        "        return True\n",
        "    if english_checker.check(token.lower()) or english_checker.check(ps.stem(token)):\n",
        "        return True\n",
        "    return False\n",
        "'''\n",
        "def is_english(token):\n",
        "  token_lower = token.lower()\n",
        "  if 'our' in token_lower and english_checker.correction(token_lower.replace('our', 'or')) == token_lower.replace('our', 'or'):\n",
        "    return True\n",
        "  if 'able' in token_lower and english_checker.correction(token_lower.replace('able', 'ible')) == token_lower.replace('able', 'ible'):\n",
        "    return True\n",
        "  if 'ise' in token_lower and english_checker.correction(token_lower.replace('ise', 'ize')) == token_lower.replace('ise', 'ize'):\n",
        "      return True\n",
        "  if english_checker.correction(token_lower) == token_lower:\n",
        "    return True\n",
        "  return False\n",
        "\n",
        "def matchcodex(token, pre_suf_chars=3):\n",
        "    token = re.sub('[1]+', 'l', token, flags=re.I)\n",
        "    token = re.sub('[^0-9a-zA-Z]+', '', token, flags=re.I)\n",
        "    token = token.replace('*','').replace('+','t').replace('!','i')\n",
        "    token = token.upper()\n",
        "    codex = []\n",
        "    prev = None\n",
        "    for i, c in enumerate(token):\n",
        "        if c != \" \" and (i == 0 and c in \"A@EI!O0UY\") or (c not in \"A@EI!O0UY\" and c != prev):\n",
        "            codex.append(c)\n",
        "        prev = c\n",
        "    if len(codex) > int(pre_suf_chars*2):\n",
        "        return \"\".join(codex[:pre_suf_chars] + codex[-pre_suf_chars:])\n",
        "    else:\n",
        "        return \"\".join(codex)\n",
        "\n",
        "\n",
        "def preprocess_onebyone(texts, batch_size=100):\n",
        "    tokenizer = Tokenizer(English().vocab, token_match=re.compile(r'\\S+').match)\n",
        "    preproc_pipe = []\n",
        "    for doc in tokenizer.pipe(texts, batch_size=batch_size):\n",
        "        preproc_pipe.append(doc)\n",
        "    return preproc_pipe\n",
        "\n",
        "def good_pair_replacement(a, b):\n",
        "    if a == b:\n",
        "        return True\n",
        "    a = a.replace('!','i').replace('+','t')\n",
        "    b = b.replace('!','i').replace('+','t')\n",
        "\n",
        "    pairs = {'iy', 'yi', '@a','a@','0o','o0','5s','s5','1l','l1','6b','b6','9g','g9','t+','+t'}\n",
        "    if \"{}{}\".format(a,b) in pairs:\n",
        "        return True\n",
        "    return False\n",
        "\n",
        "\n",
        "def good_pair_nearby(a, b):\n",
        "    if a == b:\n",
        "        return True\n",
        "    pairs = {'iy', 'yi', 'ie', 'ye', '@a','a@','0o','o0', 'ya', 'uy', 'ue', 'ae'}\n",
        "    if \"{}{}\".format(a,b) in pairs:\n",
        "        return True\n",
        "    return False\n",
        "\n",
        "\n",
        "def check_vowel(a):\n",
        "    VOWELS = 'a@eijo0uy!'\n",
        "    try:\n",
        "        a = homoglyphs.to_ascii(a)[0]\n",
        "    except:\n",
        "        return False # change this part that applies to both mfalse and mtrue\n",
        "    if a in VOWELS:\n",
        "        return True\n",
        "    return False\n",
        "\n",
        "\n",
        "def final_check(token, match):\n",
        "    if is_english(match.lower()) and match.lower() != token.lower() and not is_english(token.lower()):\n",
        "        return True\n",
        "\n",
        "    token = token.lower()\n",
        "    match = match.lower()\n",
        "    edits = Levenshtein.editops(token, match)\n",
        "\n",
        "    for edit in edits:\n",
        "        if edit[0] != 'delete':\n",
        "            try:\n",
        "                c = match[edit[2]]\n",
        "\n",
        "                if edit[0] == 'replace':\n",
        "                    try:\n",
        "                        b_c = token[edit[1]-1]\n",
        "                    except:\n",
        "                        b_c = None\n",
        "\n",
        "                    try:\n",
        "                        a_c = token[edit[1]+1]\n",
        "                    except:\n",
        "                        a_c = None\n",
        "\n",
        "                    o_c = token[edit[1]]\n",
        "\n",
        "                    if check_vowel(c):\n",
        "                        if not good_pair_replacement(o_c, c):\n",
        "                            return True\n",
        "\n",
        "                        if not check_vowel(o_c):\n",
        "                            return True\n",
        "\n",
        "                    else:\n",
        "                        if c.isdigit() and not good_pair_replacement(o_c, c):\n",
        "                            return True\n",
        "                        if check_vowel(b_c) and check_vowel(a_c):\n",
        "                            return True\n",
        "\n",
        "                if edit[0] == 'insert' and check_vowel(c):\n",
        "                    try:\n",
        "                        b_c = token[edit[1]-1]\n",
        "                    except:\n",
        "                        b_c = None\n",
        "\n",
        "                    try:\n",
        "                        a_c = token[edit[1]]\n",
        "                    except:\n",
        "                        a_c = None\n",
        "\n",
        "                    if b_c != None and not good_pair_nearby(b_c, c) and check_vowel(b_c):\n",
        "                        return True\n",
        "\n",
        "                    if a_c != None and not good_pair_nearby(c, a_c) and check_vowel(a_c):\n",
        "                        return True\n",
        "\n",
        "                    if b_c != None and a_c != None and check_vowel(b_c) and check_vowel(a_c) and c != b_c and c != a_c:\n",
        "                        return True\n",
        "\n",
        "                    if b_c != None and a_c != None and not check_vowel(b_c) and not check_vowel(a_c):\n",
        "                        return True\n",
        "\n",
        "            except Exception as e:\n",
        "                print(e)\n",
        "                print(\"ERROR!!! => EDIT\", edit, token, match)\n",
        "\n",
        "    return False\n",
        "\n",
        "\n",
        "class ANTHRO:\n",
        "    def __init__(self):\n",
        "        self.max_level = 2\n",
        "        self.token2idx = {}\n",
        "        self.idx2token = {}\n",
        "        self.level2code2token = {}\n",
        "        self.token2spell = {}\n",
        "        self.__version__ = 'Public'\n",
        "        self.preserve_last_threshold = 3\n",
        "\n",
        "        for level in range(self.max_level):\n",
        "            self.level2code2token[str(level)] = {}\n",
        "\n",
        "\n",
        "    def save(self, path, data=None):\n",
        "        from json import JSONEncoder\n",
        "        class set_encoder(JSONEncoder):\n",
        "            def default(self, obj):\n",
        "                return list(obj)\n",
        "\n",
        "        if not data:\n",
        "            data = {\n",
        "                'token2idx': self.token2idx,\n",
        "                'level2code2token': self.level2code2token,\n",
        "                'token2spell': self.token2spell,\n",
        "            }\n",
        "\n",
        "        def set_default(obj):\n",
        "            if isinstance(obj, set):\n",
        "                return list(obj)\n",
        "            raise TypeError\n",
        "\n",
        "        try:\n",
        "            os.makedirs(\"{}/\".format(path))\n",
        "        except:\n",
        "            pass\n",
        "\n",
        "        for k in data:\n",
        "            print(\"saving...\", k)\n",
        "            with open(\"{}/{}.json\".format(path, k), 'w', encoding='utf-8') as f:\n",
        "                json.dump(data[k].items(), f, cls=set_encoder)\n",
        "\n",
        "    def load(self, path):\n",
        "        keys = {\n",
        "            'token2idx': 'token2idx',\n",
        "            'level2code2token': 'level2code2token',\n",
        "            'token2spell': 'token2spell'\n",
        "        }\n",
        "\n",
        "        data = {}\n",
        "        for k in keys:\n",
        "            print(\"loading...\", k)\n",
        "            with open(\"{}/{}.json\".format(path, keys[k]), 'r', encoding='utf-8') as f:\n",
        "                data[k] = json.load(f)\n",
        "                setattr(self, k, dict(data[k]))\n",
        "\n",
        "        print(\"loaded\")\n",
        "        self.statistics()\n",
        "\n",
        "        for level in self.level2code2token:\n",
        "            codes = self.level2code2token[str(level)]\n",
        "            for code in codes:\n",
        "                codes[code] = set(codes[code])\n",
        "\n",
        "        self.convert_token_idx()\n",
        "        self.fix_token2spell()\n",
        "\n",
        "        print(\"done\")\n",
        "\n",
        "\n",
        "    def fix_token2spell(self):\n",
        "        for token in tqdm(self.token2spell.keys()):\n",
        "            if 'list' in str(type(self.token2spell[token])) and len(self.token2spell[token]) > 0:\n",
        "                if 'list' in str(type(self.token2spell[token][0])):\n",
        "                        self.token2spell[token] = set(list(np.concatenate(self.token2spell[token])))\n",
        "\n",
        "\n",
        "    def add_raw_tokens(self, raw_tokens, level):\n",
        "        codes = self.level2code2token[str(level)]\n",
        "        for token in tqdm(raw_tokens):\n",
        "            token = str(token)\n",
        "            token_lower = token.lower()\n",
        "\n",
        "            if token not in self.token2idx:\n",
        "                self.token2idx[token] = len(self.token2idx)\n",
        "            if token_lower not in self.token2idx:\n",
        "                self.token2idx[token_lower] = len(self.token2idx)\n",
        "            code = self.soundex(token_lower, k=level)\n",
        "\n",
        "            if code not in codes:\n",
        "                codes[code] = set()\n",
        "            if self.token2idx[token_lower] not in codes[code]:\n",
        "                codes[code].add(self.token2idx[token_lower])\n",
        "\n",
        "            if self.token2idx[token_lower] not in self.token2spell:\n",
        "                self.token2spell[self.token2idx[token_lower]] = set()\n",
        "            self.token2spell[self.token2idx[token_lower]].add(self.token2idx[token])\n",
        "\n",
        "    def process(self, texts, raw_tokens=None):\n",
        "        if not raw_tokens:\n",
        "            sentence_tokens = preprocess_onebyone(texts)\n",
        "\n",
        "            raw_tokens = []\n",
        "            for j, tokens in tqdm(enumerate(sentence_tokens)):\n",
        "                tokens = list(tokens)\n",
        "                raw_tokens.extend(tokens)\n",
        "\n",
        "        for level in range(self.max_level):\n",
        "            if level > 0:\n",
        "                print(\"...level\", level)\n",
        "                self.add_raw_tokens(raw_tokens, level)\n",
        "\n",
        "        self.convert_token_idx()\n",
        "\n",
        "    def convert_token_idx(self):\n",
        "        for token in tqdm(self.token2idx):\n",
        "            self.idx2token[int(self.token2idx[token])] = token\n",
        "\n",
        "    def statistics(self):\n",
        "        print(\"UPPD VERSION\", self.__version__)\n",
        "        print(\"Total unique codes:\")\n",
        "        for level in self.level2code2token:\n",
        "            codes = self.level2code2token[str(level)]\n",
        "            print(\"Level {}: {} codes\".format(level, len(codes)))\n",
        "\n",
        "    def soundex(self, token, k=0):\n",
        "        soundex_result = token[:k+1].upper()\n",
        "        token = re.sub('[hw]', '', token, flags=re.I)\n",
        "        token = re.sub('[-]','', token, flags=re.I)\n",
        "        token = re.sub('[l1]+', '4', token, flags=re.I)\n",
        "        token = re.sub('[bfpv]+', '1', token, flags=re.I)\n",
        "        token = re.sub('[cgjkqsxz]+', '2', token, flags=re.I)\n",
        "        token = re.sub('[dt]+', '3', token, flags=re.I)\n",
        "        token = re.sub('[mn]+', '5', token, flags=re.I)\n",
        "        token = re.sub('r+', '6', token, flags=re.I)\n",
        "        token = token[k+1:]\n",
        "        token = re.sub('[a@eio0uy]','', token, flags=re.I)\n",
        "        soundex_result += token[0:3+k]\n",
        "        if len(soundex_result) < 4+k:\n",
        "            soundex_result += '0'*(4+k-len(soundex_result))\n",
        "        return soundex_result\n",
        "\n",
        "    def get_similars(self,\n",
        "                    token,\n",
        "                    level=0,\n",
        "                    distance=2,\n",
        "                    min_chars=3,\n",
        "                    strict=True):\n",
        "\n",
        "        def preprocess(token):\n",
        "            return token\n",
        "\n",
        "        if len(token) < min_chars:\n",
        "            return []\n",
        "\n",
        "        code = self.soundex(token, k=int(level))\n",
        "        soundex_codes = self.level2code2token[str(level)]\n",
        "\n",
        "        if code not in soundex_codes:\n",
        "            return []\n",
        "\n",
        "        cands = soundex_codes[code]\n",
        "        cands = [self.idx2token[cand] for cand in cands]\n",
        "\n",
        "        if strict:\n",
        "            matchcode_token = matchcodex(token)\n",
        "            cands = [cand for cand in cands if matchcodex(cand) == matchcode_token]\n",
        "\n",
        "        dists = np.array([Levenshtein.distance(token.lower(), cand.lower()) for cand in cands])\n",
        "        idx = np.where(dists <= distance)[0]\n",
        "\n",
        "        cands = [list(cands)[i] for i in idx]\n",
        "        cands = set([cand.lower() for cand in cands])\n",
        "\n",
        "        rt = []\n",
        "        for cand in cands:\n",
        "            rt += [self.idx2token[a] for a in list(self.token2spell[self.token2idx[cand]])]\n",
        "\n",
        "        rt = set([preprocess(a) for a in rt \\\n",
        "            if (good_pair_replacement(a[-1].lower(),token[-1].lower()) and len(a) > self.preserve_last_threshold) or\n",
        "            (len(a) <= self.preserve_last_threshold and a[-1].lower() == token[-1].lower())])\n",
        "\n",
        "        if strict:\n",
        "            rt = set(a for a in rt if not final_check(token.lower(), a.lower()))\n",
        "\n",
        "        return rt\n",
        "anthro = ANTHRO()\n",
        "anthro.load('/content/perturbations-in-the-wild/ANTHRO_Data_V1.0')\n"
      ]
    },
    {
      "cell_type": "code",
      "source": [
        "!pip install textattack"
      ],
      "metadata": {
        "colab": {
          "base_uri": "https://localhost:8080/"
        },
        "id": "O62KL-i7BYEE",
        "outputId": "3be26ced-ddb2-4a72-8f3c-4051fb085ee5"
      },
      "execution_count": null,
      "outputs": [
        {
          "output_type": "stream",
          "name": "stdout",
          "text": [
            "Collecting textattack\n",
            "  Downloading textattack-0.3.10-py3-none-any.whl.metadata (38 kB)\n",
            "Collecting bert-score>=0.3.5 (from textattack)\n",
            "  Downloading bert_score-0.3.13-py3-none-any.whl.metadata (15 kB)\n",
            "Requirement already satisfied: editdistance in /usr/local/lib/python3.10/dist-packages (from textattack) (0.8.1)\n",
            "Collecting flair (from textattack)\n",
            "  Downloading flair-0.15.0-py3-none-any.whl.metadata (12 kB)\n",
            "Requirement already satisfied: filelock in /usr/local/lib/python3.10/dist-packages (from textattack) (3.16.1)\n",
            "Collecting language-tool-python (from textattack)\n",
            "  Downloading language_tool_python-2.8.1-py3-none-any.whl.metadata (12 kB)\n",
            "Collecting lemminflect (from textattack)\n",
            "  Downloading lemminflect-0.2.3-py3-none-any.whl.metadata (7.0 kB)\n",
            "Collecting lru-dict (from textattack)\n",
            "  Downloading lru_dict-1.3.0-cp310-cp310-manylinux_2_5_x86_64.manylinux1_x86_64.manylinux_2_17_x86_64.manylinux2014_x86_64.whl.metadata (4.5 kB)\n",
            "Collecting datasets>=2.4.0 (from textattack)\n",
            "  Downloading datasets-3.2.0-py3-none-any.whl.metadata (20 kB)\n",
            "Requirement already satisfied: nltk in /usr/local/lib/python3.10/dist-packages (from textattack) (3.9.1)\n",
            "Requirement already satisfied: numpy>=1.21.0 in /usr/local/lib/python3.10/dist-packages (from textattack) (1.26.4)\n",
            "Requirement already satisfied: pandas>=1.0.1 in /usr/local/lib/python3.10/dist-packages (from textattack) (2.2.2)\n",
            "Requirement already satisfied: scipy>=1.4.1 in /usr/local/lib/python3.10/dist-packages (from textattack) (1.13.1)\n",
            "Requirement already satisfied: torch!=1.8,>=1.7.0 in /usr/local/lib/python3.10/dist-packages (from textattack) (2.5.1+cu121)\n",
            "Requirement already satisfied: transformers>=4.30.0 in /usr/local/lib/python3.10/dist-packages (from textattack) (4.47.1)\n",
            "Collecting terminaltables (from textattack)\n",
            "  Downloading terminaltables-3.1.10-py2.py3-none-any.whl.metadata (3.5 kB)\n",
            "Requirement already satisfied: tqdm in /usr/local/lib/python3.10/dist-packages (from textattack) (4.67.1)\n",
            "Collecting word2number (from textattack)\n",
            "  Downloading word2number-1.1.zip (9.7 kB)\n",
            "  Preparing metadata (setup.py) ... \u001b[?25l\u001b[?25hdone\n",
            "Collecting num2words (from textattack)\n",
            "  Downloading num2words-0.5.14-py3-none-any.whl.metadata (13 kB)\n",
            "Requirement already satisfied: more-itertools in /usr/local/lib/python3.10/dist-packages (from textattack) (10.5.0)\n",
            "Collecting pinyin>=0.4.0 (from textattack)\n",
            "  Downloading pinyin-0.4.0.tar.gz (3.6 MB)\n",
            "\u001b[2K     \u001b[90m━━━━━━━━━━━━━━━━━━━━━━━━━━━━━━━━━━━━━━━━\u001b[0m \u001b[32m3.6/3.6 MB\u001b[0m \u001b[31m39.7 MB/s\u001b[0m eta \u001b[36m0:00:00\u001b[0m\n",
            "\u001b[?25h  Preparing metadata (setup.py) ... \u001b[?25l\u001b[?25hdone\n",
            "Requirement already satisfied: jieba in /usr/local/lib/python3.10/dist-packages (from textattack) (0.42.1)\n",
            "Collecting OpenHowNet (from textattack)\n",
            "  Downloading OpenHowNet-2.0-py3-none-any.whl.metadata (821 bytes)\n",
            "Requirement already satisfied: requests in /usr/local/lib/python3.10/dist-packages (from bert-score>=0.3.5->textattack) (2.32.3)\n",
            "Requirement already satisfied: matplotlib in /usr/local/lib/python3.10/dist-packages (from bert-score>=0.3.5->textattack) (3.8.0)\n",
            "Requirement already satisfied: packaging>=20.9 in /usr/local/lib/python3.10/dist-packages (from bert-score>=0.3.5->textattack) (24.2)\n",
            "Requirement already satisfied: pyarrow>=15.0.0 in /usr/local/lib/python3.10/dist-packages (from datasets>=2.4.0->textattack) (17.0.0)\n",
            "Collecting dill<0.3.9,>=0.3.0 (from datasets>=2.4.0->textattack)\n",
            "  Downloading dill-0.3.8-py3-none-any.whl.metadata (10 kB)\n",
            "Collecting xxhash (from datasets>=2.4.0->textattack)\n",
            "  Downloading xxhash-3.5.0-cp310-cp310-manylinux_2_17_x86_64.manylinux2014_x86_64.whl.metadata (12 kB)\n",
            "Collecting multiprocess<0.70.17 (from datasets>=2.4.0->textattack)\n",
            "  Downloading multiprocess-0.70.16-py310-none-any.whl.metadata (7.2 kB)\n",
            "Collecting fsspec<=2024.9.0,>=2023.1.0 (from fsspec[http]<=2024.9.0,>=2023.1.0->datasets>=2.4.0->textattack)\n",
            "  Downloading fsspec-2024.9.0-py3-none-any.whl.metadata (11 kB)\n",
            "Requirement already satisfied: aiohttp in /usr/local/lib/python3.10/dist-packages (from datasets>=2.4.0->textattack) (3.11.10)\n",
            "Requirement already satisfied: huggingface-hub>=0.23.0 in /usr/local/lib/python3.10/dist-packages (from datasets>=2.4.0->textattack) (0.27.0)\n",
            "Requirement already satisfied: pyyaml>=5.1 in /usr/local/lib/python3.10/dist-packages (from datasets>=2.4.0->textattack) (6.0.2)\n",
            "Requirement already satisfied: python-dateutil>=2.8.2 in /usr/local/lib/python3.10/dist-packages (from pandas>=1.0.1->textattack) (2.8.2)\n",
            "Requirement already satisfied: pytz>=2020.1 in /usr/local/lib/python3.10/dist-packages (from pandas>=1.0.1->textattack) (2024.2)\n",
            "Requirement already satisfied: tzdata>=2022.7 in /usr/local/lib/python3.10/dist-packages (from pandas>=1.0.1->textattack) (2024.2)\n",
            "Requirement already satisfied: typing-extensions>=4.8.0 in /usr/local/lib/python3.10/dist-packages (from torch!=1.8,>=1.7.0->textattack) (4.12.2)\n",
            "Requirement already satisfied: networkx in /usr/local/lib/python3.10/dist-packages (from torch!=1.8,>=1.7.0->textattack) (3.4.2)\n",
            "Requirement already satisfied: jinja2 in /usr/local/lib/python3.10/dist-packages (from torch!=1.8,>=1.7.0->textattack) (3.1.4)\n",
            "Requirement already satisfied: sympy==1.13.1 in /usr/local/lib/python3.10/dist-packages (from torch!=1.8,>=1.7.0->textattack) (1.13.1)\n",
            "Requirement already satisfied: mpmath<1.4,>=1.1.0 in /usr/local/lib/python3.10/dist-packages (from sympy==1.13.1->torch!=1.8,>=1.7.0->textattack) (1.3.0)\n",
            "Requirement already satisfied: regex!=2019.12.17 in /usr/local/lib/python3.10/dist-packages (from transformers>=4.30.0->textattack) (2024.11.6)\n",
            "Requirement already satisfied: tokenizers<0.22,>=0.21 in /usr/local/lib/python3.10/dist-packages (from transformers>=4.30.0->textattack) (0.21.0)\n",
            "Requirement already satisfied: safetensors>=0.4.1 in /usr/local/lib/python3.10/dist-packages (from transformers>=4.30.0->textattack) (0.4.5)\n",
            "Collecting boto3>=1.20.27 (from flair->textattack)\n",
            "  Downloading boto3-1.35.91-py3-none-any.whl.metadata (6.7 kB)\n",
            "Collecting conllu<5.0.0,>=4.0 (from flair->textattack)\n",
            "  Downloading conllu-4.5.3-py2.py3-none-any.whl.metadata (19 kB)\n",
            "Requirement already satisfied: deprecated>=1.2.13 in /usr/local/lib/python3.10/dist-packages (from flair->textattack) (1.2.15)\n",
            "Collecting ftfy>=6.1.0 (from flair->textattack)\n",
            "  Downloading ftfy-6.3.1-py3-none-any.whl.metadata (7.3 kB)\n",
            "Requirement already satisfied: gdown>=4.4.0 in /usr/local/lib/python3.10/dist-packages (from flair->textattack) (5.2.0)\n",
            "Collecting langdetect>=1.0.9 (from flair->textattack)\n",
            "  Downloading langdetect-1.0.9.tar.gz (981 kB)\n",
            "\u001b[2K     \u001b[90m━━━━━━━━━━━━━━━━━━━━━━━━━━━━━━━━━━━━━━━━\u001b[0m \u001b[32m981.5/981.5 kB\u001b[0m \u001b[31m42.1 MB/s\u001b[0m eta \u001b[36m0:00:00\u001b[0m\n",
            "\u001b[?25h  Preparing metadata (setup.py) ... \u001b[?25l\u001b[?25hdone\n",
            "Requirement already satisfied: lxml>=4.8.0 in /usr/local/lib/python3.10/dist-packages (from flair->textattack) (5.3.0)\n",
            "Collecting mpld3>=0.3 (from flair->textattack)\n",
            "  Downloading mpld3-0.5.10-py3-none-any.whl.metadata (5.1 kB)\n",
            "Collecting pptree>=3.1 (from flair->textattack)\n",
            "  Downloading pptree-3.1.tar.gz (3.0 kB)\n",
            "  Preparing metadata (setup.py) ... \u001b[?25l\u001b[?25hdone\n",
            "Collecting pytorch-revgrad>=0.2.0 (from flair->textattack)\n",
            "  Downloading pytorch_revgrad-0.2.0-py3-none-any.whl.metadata (1.7 kB)\n",
            "Requirement already satisfied: scikit-learn>=1.0.2 in /usr/local/lib/python3.10/dist-packages (from flair->textattack) (1.6.0)\n",
            "Collecting segtok>=1.5.11 (from flair->textattack)\n",
            "  Downloading segtok-1.5.11-py3-none-any.whl.metadata (9.0 kB)\n",
            "Collecting sqlitedict>=2.0.0 (from flair->textattack)\n",
            "  Downloading sqlitedict-2.1.0.tar.gz (21 kB)\n",
            "  Preparing metadata (setup.py) ... \u001b[?25l\u001b[?25hdone\n",
            "Requirement already satisfied: tabulate>=0.8.10 in /usr/local/lib/python3.10/dist-packages (from flair->textattack) (0.9.0)\n",
            "Collecting transformer-smaller-training-vocab>=0.2.3 (from flair->textattack)\n",
            "  Downloading transformer_smaller_training_vocab-0.4.0-py3-none-any.whl.metadata (8.1 kB)\n",
            "Collecting wikipedia-api>=0.5.7 (from flair->textattack)\n",
            "  Downloading wikipedia_api-0.7.1.tar.gz (17 kB)\n",
            "  Preparing metadata (setup.py) ... \u001b[?25l\u001b[?25hdone\n",
            "Collecting bioc<3.0.0,>=2.0.0 (from flair->textattack)\n",
            "  Downloading bioc-2.1-py3-none-any.whl.metadata (4.6 kB)\n",
            "Requirement already satisfied: pip in /usr/local/lib/python3.10/dist-packages (from language-tool-python->textattack) (24.1.2)\n",
            "Requirement already satisfied: wheel in /usr/local/lib/python3.10/dist-packages (from language-tool-python->textattack) (0.45.1)\n",
            "Requirement already satisfied: click in /usr/local/lib/python3.10/dist-packages (from nltk->textattack) (8.1.7)\n",
            "Requirement already satisfied: joblib in /usr/local/lib/python3.10/dist-packages (from nltk->textattack) (1.4.2)\n",
            "Collecting docopt>=0.6.2 (from num2words->textattack)\n",
            "  Downloading docopt-0.6.2.tar.gz (25 kB)\n",
            "  Preparing metadata (setup.py) ... \u001b[?25l\u001b[?25hdone\n",
            "Collecting anytree (from OpenHowNet->textattack)\n",
            "  Downloading anytree-2.12.1-py3-none-any.whl.metadata (8.1 kB)\n",
            "Requirement already satisfied: setuptools in /usr/local/lib/python3.10/dist-packages (from OpenHowNet->textattack) (75.1.0)\n",
            "Collecting jsonlines>=1.2.0 (from bioc<3.0.0,>=2.0.0->flair->textattack)\n",
            "  Downloading jsonlines-4.0.0-py3-none-any.whl.metadata (1.6 kB)\n",
            "Collecting intervaltree (from bioc<3.0.0,>=2.0.0->flair->textattack)\n",
            "  Downloading intervaltree-3.1.0.tar.gz (32 kB)\n",
            "  Preparing metadata (setup.py) ... \u001b[?25l\u001b[?25hdone\n",
            "Collecting botocore<1.36.0,>=1.35.91 (from boto3>=1.20.27->flair->textattack)\n",
            "  Downloading botocore-1.35.91-py3-none-any.whl.metadata (5.7 kB)\n",
            "Collecting jmespath<2.0.0,>=0.7.1 (from boto3>=1.20.27->flair->textattack)\n",
            "  Downloading jmespath-1.0.1-py3-none-any.whl.metadata (7.6 kB)\n",
            "Collecting s3transfer<0.11.0,>=0.10.0 (from boto3>=1.20.27->flair->textattack)\n",
            "  Downloading s3transfer-0.10.4-py3-none-any.whl.metadata (1.7 kB)\n",
            "Requirement already satisfied: wrapt<2,>=1.10 in /usr/local/lib/python3.10/dist-packages (from deprecated>=1.2.13->flair->textattack) (1.17.0)\n",
            "Requirement already satisfied: aiohappyeyeballs>=2.3.0 in /usr/local/lib/python3.10/dist-packages (from aiohttp->datasets>=2.4.0->textattack) (2.4.4)\n",
            "Requirement already satisfied: aiosignal>=1.1.2 in /usr/local/lib/python3.10/dist-packages (from aiohttp->datasets>=2.4.0->textattack) (1.3.2)\n",
            "Requirement already satisfied: async-timeout<6.0,>=4.0 in /usr/local/lib/python3.10/dist-packages (from aiohttp->datasets>=2.4.0->textattack) (4.0.3)\n",
            "Requirement already satisfied: attrs>=17.3.0 in /usr/local/lib/python3.10/dist-packages (from aiohttp->datasets>=2.4.0->textattack) (24.3.0)\n",
            "Requirement already satisfied: frozenlist>=1.1.1 in /usr/local/lib/python3.10/dist-packages (from aiohttp->datasets>=2.4.0->textattack) (1.5.0)\n",
            "Requirement already satisfied: multidict<7.0,>=4.5 in /usr/local/lib/python3.10/dist-packages (from aiohttp->datasets>=2.4.0->textattack) (6.1.0)\n",
            "Requirement already satisfied: propcache>=0.2.0 in /usr/local/lib/python3.10/dist-packages (from aiohttp->datasets>=2.4.0->textattack) (0.2.1)\n",
            "Requirement already satisfied: yarl<2.0,>=1.17.0 in /usr/local/lib/python3.10/dist-packages (from aiohttp->datasets>=2.4.0->textattack) (1.18.3)\n",
            "Requirement already satisfied: wcwidth in /usr/local/lib/python3.10/dist-packages (from ftfy>=6.1.0->flair->textattack) (0.2.13)\n",
            "Requirement already satisfied: beautifulsoup4 in /usr/local/lib/python3.10/dist-packages (from gdown>=4.4.0->flair->textattack) (4.12.3)\n",
            "Requirement already satisfied: six in /usr/local/lib/python3.10/dist-packages (from langdetect>=1.0.9->flair->textattack) (1.17.0)\n",
            "Requirement already satisfied: contourpy>=1.0.1 in /usr/local/lib/python3.10/dist-packages (from matplotlib->bert-score>=0.3.5->textattack) (1.3.1)\n",
            "Requirement already satisfied: cycler>=0.10 in /usr/local/lib/python3.10/dist-packages (from matplotlib->bert-score>=0.3.5->textattack) (0.12.1)\n",
            "Requirement already satisfied: fonttools>=4.22.0 in /usr/local/lib/python3.10/dist-packages (from matplotlib->bert-score>=0.3.5->textattack) (4.55.3)\n",
            "Requirement already satisfied: kiwisolver>=1.0.1 in /usr/local/lib/python3.10/dist-packages (from matplotlib->bert-score>=0.3.5->textattack) (1.4.7)\n",
            "Requirement already satisfied: pillow>=6.2.0 in /usr/local/lib/python3.10/dist-packages (from matplotlib->bert-score>=0.3.5->textattack) (11.0.0)\n",
            "Requirement already satisfied: pyparsing>=2.3.1 in /usr/local/lib/python3.10/dist-packages (from matplotlib->bert-score>=0.3.5->textattack) (3.2.0)\n",
            "Requirement already satisfied: charset-normalizer<4,>=2 in /usr/local/lib/python3.10/dist-packages (from requests->bert-score>=0.3.5->textattack) (3.4.0)\n",
            "Requirement already satisfied: idna<4,>=2.5 in /usr/local/lib/python3.10/dist-packages (from requests->bert-score>=0.3.5->textattack) (3.10)\n",
            "Requirement already satisfied: urllib3<3,>=1.21.1 in /usr/local/lib/python3.10/dist-packages (from requests->bert-score>=0.3.5->textattack) (2.2.3)\n",
            "Requirement already satisfied: certifi>=2017.4.17 in /usr/local/lib/python3.10/dist-packages (from requests->bert-score>=0.3.5->textattack) (2024.12.14)\n",
            "Requirement already satisfied: threadpoolctl>=3.1.0 in /usr/local/lib/python3.10/dist-packages (from scikit-learn>=1.0.2->flair->textattack) (3.5.0)\n",
            "Requirement already satisfied: sentencepiece!=0.1.92,>=0.1.91 in /usr/local/lib/python3.10/dist-packages (from transformers[sentencepiece]<5.0.0,>=4.25.0->flair->textattack) (0.2.0)\n",
            "Requirement already satisfied: protobuf in /usr/local/lib/python3.10/dist-packages (from transformers[sentencepiece]<5.0.0,>=4.25.0->flair->textattack) (4.25.5)\n",
            "Requirement already satisfied: MarkupSafe>=2.0 in /usr/local/lib/python3.10/dist-packages (from jinja2->torch!=1.8,>=1.7.0->textattack) (3.0.2)\n",
            "Requirement already satisfied: accelerate>=0.26.0 in /usr/local/lib/python3.10/dist-packages (from transformers[sentencepiece,torch]<5.0,>=4.1->transformer-smaller-training-vocab>=0.2.3->flair->textattack) (1.2.1)\n",
            "Requirement already satisfied: soupsieve>1.2 in /usr/local/lib/python3.10/dist-packages (from beautifulsoup4->gdown>=4.4.0->flair->textattack) (2.6)\n",
            "Collecting sortedcontainers<3.0,>=2.0 (from intervaltree->bioc<3.0.0,>=2.0.0->flair->textattack)\n",
            "  Downloading sortedcontainers-2.4.0-py2.py3-none-any.whl.metadata (10 kB)\n",
            "Requirement already satisfied: PySocks!=1.5.7,>=1.5.6 in /usr/local/lib/python3.10/dist-packages (from requests[socks]->gdown>=4.4.0->flair->textattack) (1.7.1)\n",
            "Requirement already satisfied: psutil in /usr/local/lib/python3.10/dist-packages (from accelerate>=0.26.0->transformers[sentencepiece,torch]<5.0,>=4.1->transformer-smaller-training-vocab>=0.2.3->flair->textattack) (5.9.5)\n",
            "Downloading textattack-0.3.10-py3-none-any.whl (445 kB)\n",
            "\u001b[2K   \u001b[90m━━━━━━━━━━━━━━━━━━━━━━━━━━━━━━━━━━━━━━━━\u001b[0m \u001b[32m445.7/445.7 kB\u001b[0m \u001b[31m25.8 MB/s\u001b[0m eta \u001b[36m0:00:00\u001b[0m\n",
            "\u001b[?25hDownloading bert_score-0.3.13-py3-none-any.whl (61 kB)\n",
            "\u001b[2K   \u001b[90m━━━━━━━━━━━━━━━━━━━━━━━━━━━━━━━━━━━━━━━━\u001b[0m \u001b[32m61.1/61.1 kB\u001b[0m \u001b[31m4.0 MB/s\u001b[0m eta \u001b[36m0:00:00\u001b[0m\n",
            "\u001b[?25hDownloading datasets-3.2.0-py3-none-any.whl (480 kB)\n",
            "\u001b[2K   \u001b[90m━━━━━━━━━━━━━━━━━━━━━━━━━━━━━━━━━━━━━━━━\u001b[0m \u001b[32m480.6/480.6 kB\u001b[0m \u001b[31m19.9 MB/s\u001b[0m eta \u001b[36m0:00:00\u001b[0m\n",
            "\u001b[?25hDownloading flair-0.15.0-py3-none-any.whl (1.2 MB)\n",
            "\u001b[2K   \u001b[90m━━━━━━━━━━━━━━━━━━━━━━━━━━━━━━━━━━━━━━━━\u001b[0m \u001b[32m1.2/1.2 MB\u001b[0m \u001b[31m44.2 MB/s\u001b[0m eta \u001b[36m0:00:00\u001b[0m\n",
            "\u001b[?25hDownloading language_tool_python-2.8.1-py3-none-any.whl (35 kB)\n",
            "Downloading lemminflect-0.2.3-py3-none-any.whl (769 kB)\n",
            "\u001b[2K   \u001b[90m━━━━━━━━━━━━━━━━━━━━━━━━━━━━━━━━━━━━━━━━\u001b[0m \u001b[32m769.7/769.7 kB\u001b[0m \u001b[31m36.6 MB/s\u001b[0m eta \u001b[36m0:00:00\u001b[0m\n",
            "\u001b[?25hDownloading lru_dict-1.3.0-cp310-cp310-manylinux_2_5_x86_64.manylinux1_x86_64.manylinux_2_17_x86_64.manylinux2014_x86_64.whl (30 kB)\n",
            "Downloading num2words-0.5.14-py3-none-any.whl (163 kB)\n",
            "\u001b[2K   \u001b[90m━━━━━━━━━━━━━━━━━━━━━━━━━━━━━━━━━━━━━━━━\u001b[0m \u001b[32m163.5/163.5 kB\u001b[0m \u001b[31m11.6 MB/s\u001b[0m eta \u001b[36m0:00:00\u001b[0m\n",
            "\u001b[?25hDownloading OpenHowNet-2.0-py3-none-any.whl (18 kB)\n",
            "Downloading terminaltables-3.1.10-py2.py3-none-any.whl (15 kB)\n",
            "Downloading bioc-2.1-py3-none-any.whl (33 kB)\n",
            "Downloading boto3-1.35.91-py3-none-any.whl (139 kB)\n",
            "\u001b[2K   \u001b[90m━━━━━━━━━━━━━━━━━━━━━━━━━━━━━━━━━━━━━━━━\u001b[0m \u001b[32m139.2/139.2 kB\u001b[0m \u001b[31m8.3 MB/s\u001b[0m eta \u001b[36m0:00:00\u001b[0m\n",
            "\u001b[?25hDownloading conllu-4.5.3-py2.py3-none-any.whl (16 kB)\n",
            "Downloading dill-0.3.8-py3-none-any.whl (116 kB)\n",
            "\u001b[2K   \u001b[90m━━━━━━━━━━━━━━━━━━━━━━━━━━━━━━━━━━━━━━━━\u001b[0m \u001b[32m116.3/116.3 kB\u001b[0m \u001b[31m8.0 MB/s\u001b[0m eta \u001b[36m0:00:00\u001b[0m\n",
            "\u001b[?25hDownloading fsspec-2024.9.0-py3-none-any.whl (179 kB)\n",
            "\u001b[2K   \u001b[90m━━━━━━━━━━━━━━━━━━━━━━━━━━━━━━━━━━━━━━━━\u001b[0m \u001b[32m179.3/179.3 kB\u001b[0m \u001b[31m11.3 MB/s\u001b[0m eta \u001b[36m0:00:00\u001b[0m\n",
            "\u001b[?25hDownloading ftfy-6.3.1-py3-none-any.whl (44 kB)\n",
            "\u001b[2K   \u001b[90m━━━━━━━━━━━━━━━━━━━━━━━━━━━━━━━━━━━━━━━━\u001b[0m \u001b[32m44.8/44.8 kB\u001b[0m \u001b[31m2.6 MB/s\u001b[0m eta \u001b[36m0:00:00\u001b[0m\n",
            "\u001b[?25hDownloading mpld3-0.5.10-py3-none-any.whl (202 kB)\n",
            "\u001b[2K   \u001b[90m━━━━━━━━━━━━━━━━━━━━━━━━━━━━━━━━━━━━━━━━\u001b[0m \u001b[32m202.6/202.6 kB\u001b[0m \u001b[31m13.5 MB/s\u001b[0m eta \u001b[36m0:00:00\u001b[0m\n",
            "\u001b[?25hDownloading multiprocess-0.70.16-py310-none-any.whl (134 kB)\n",
            "\u001b[2K   \u001b[90m━━━━━━━━━━━━━━━━━━━━━━━━━━━━━━━━━━━━━━━━\u001b[0m \u001b[32m134.8/134.8 kB\u001b[0m \u001b[31m8.7 MB/s\u001b[0m eta \u001b[36m0:00:00\u001b[0m\n",
            "\u001b[?25hDownloading pytorch_revgrad-0.2.0-py3-none-any.whl (4.6 kB)\n",
            "Downloading segtok-1.5.11-py3-none-any.whl (24 kB)\n",
            "Downloading transformer_smaller_training_vocab-0.4.0-py3-none-any.whl (14 kB)\n",
            "Downloading anytree-2.12.1-py3-none-any.whl (44 kB)\n",
            "\u001b[2K   \u001b[90m━━━━━━━━━━━━━━━━━━━━━━━━━━━━━━━━━━━━━━━━\u001b[0m \u001b[32m44.9/44.9 kB\u001b[0m \u001b[31m2.7 MB/s\u001b[0m eta \u001b[36m0:00:00\u001b[0m\n",
            "\u001b[?25hDownloading xxhash-3.5.0-cp310-cp310-manylinux_2_17_x86_64.manylinux2014_x86_64.whl (194 kB)\n",
            "\u001b[2K   \u001b[90m━━━━━━━━━━━━━━━━━━━━━━━━━━━━━━━━━━━━━━━━\u001b[0m \u001b[32m194.1/194.1 kB\u001b[0m \u001b[31m13.1 MB/s\u001b[0m eta \u001b[36m0:00:00\u001b[0m\n",
            "\u001b[?25hDownloading botocore-1.35.91-py3-none-any.whl (13.3 MB)\n",
            "\u001b[2K   \u001b[90m━━━━━━━━━━━━━━━━━━━━━━━━━━━━━━━━━━━━━━━━\u001b[0m \u001b[32m13.3/13.3 MB\u001b[0m \u001b[31m52.5 MB/s\u001b[0m eta \u001b[36m0:00:00\u001b[0m\n",
            "\u001b[?25hDownloading jmespath-1.0.1-py3-none-any.whl (20 kB)\n",
            "Downloading jsonlines-4.0.0-py3-none-any.whl (8.7 kB)\n",
            "Downloading s3transfer-0.10.4-py3-none-any.whl (83 kB)\n",
            "\u001b[2K   \u001b[90m━━━━━━━━━━━━━━━━━━━━━━━━━━━━━━━━━━━━━━━━\u001b[0m \u001b[32m83.2/83.2 kB\u001b[0m \u001b[31m5.5 MB/s\u001b[0m eta \u001b[36m0:00:00\u001b[0m\n",
            "\u001b[?25hDownloading sortedcontainers-2.4.0-py2.py3-none-any.whl (29 kB)\n",
            "Building wheels for collected packages: pinyin, word2number, docopt, langdetect, pptree, sqlitedict, wikipedia-api, intervaltree\n",
            "  Building wheel for pinyin (setup.py) ... \u001b[?25l\u001b[?25hdone\n",
            "  Created wheel for pinyin: filename=pinyin-0.4.0-py3-none-any.whl size=3630477 sha256=666f107f1bbe41a4ba1ce7cc9b028442b190c273212781bc5b45c8fbdf085609\n",
            "  Stored in directory: /root/.cache/pip/wheels/33/38/af/616fc6f154aa5bae65a1da12b22d79943434269f0468ff9b3f\n",
            "  Building wheel for word2number (setup.py) ... \u001b[?25l\u001b[?25hdone\n",
            "  Created wheel for word2number: filename=word2number-1.1-py3-none-any.whl size=5568 sha256=808ec2bb66df28b769daf7e165a86de54782b3deab96bde339be046afa9fe99d\n",
            "  Stored in directory: /root/.cache/pip/wheels/84/ff/26/d3cfbd971e96c5aa3737ecfced81628830d7359b55fbb8ca3b\n",
            "  Building wheel for docopt (setup.py) ... \u001b[?25l\u001b[?25hdone\n",
            "  Created wheel for docopt: filename=docopt-0.6.2-py2.py3-none-any.whl size=13706 sha256=2793e4d93eb9762169ed1e12090a7752d92343f44d11e7d45153a3df461d9ec6\n",
            "  Stored in directory: /root/.cache/pip/wheels/fc/ab/d4/5da2067ac95b36618c629a5f93f809425700506f72c9732fac\n",
            "  Building wheel for langdetect (setup.py) ... \u001b[?25l\u001b[?25hdone\n",
            "  Created wheel for langdetect: filename=langdetect-1.0.9-py3-none-any.whl size=993222 sha256=45f525d8dd7329493a2b7d0503467f9c3bff9df22fb1b28c485bb888b4853555\n",
            "  Stored in directory: /root/.cache/pip/wheels/95/03/7d/59ea870c70ce4e5a370638b5462a7711ab78fba2f655d05106\n",
            "  Building wheel for pptree (setup.py) ... \u001b[?25l\u001b[?25hdone\n",
            "  Created wheel for pptree: filename=pptree-3.1-py3-none-any.whl size=4608 sha256=edf868d16526b86d5a2d0e4859c61a2050bad175c1c65208f4e9955616727b97\n",
            "  Stored in directory: /root/.cache/pip/wheels/9f/b6/0e/6f26eb9e6eb53ff2107a7888d72b5a6a597593956113037828\n",
            "  Building wheel for sqlitedict (setup.py) ... \u001b[?25l\u001b[?25hdone\n",
            "  Created wheel for sqlitedict: filename=sqlitedict-2.1.0-py3-none-any.whl size=16864 sha256=e1ed4961ecd92d2cee22d61b338eb2fac795fea53bff1abc92fb1e111980822a\n",
            "  Stored in directory: /root/.cache/pip/wheels/79/d6/e7/304e0e6cb2221022c26d8161f7c23cd4f259a9e41e8bbcfabd\n",
            "  Building wheel for wikipedia-api (setup.py) ... \u001b[?25l\u001b[?25hdone\n",
            "  Created wheel for wikipedia-api: filename=Wikipedia_API-0.7.1-py3-none-any.whl size=14346 sha256=44a71c5b23f093824b334ce43aee84ad7ad37baae4ad3d6bd2995d569173bd6b\n",
            "  Stored in directory: /root/.cache/pip/wheels/4c/96/18/b9201cc3e8b47b02b510460210cfd832ccf10c0c4dd0522962\n",
            "  Building wheel for intervaltree (setup.py) ... \u001b[?25l\u001b[?25hdone\n",
            "  Created wheel for intervaltree: filename=intervaltree-3.1.0-py2.py3-none-any.whl size=26097 sha256=bbde3e1bc63753a0a825f3c0931ebb8093710d941eda96519705b39ee46fa0c2\n",
            "  Stored in directory: /root/.cache/pip/wheels/fa/80/8c/43488a924a046b733b64de3fac99252674c892a4c3801c0a61\n",
            "Successfully built pinyin word2number docopt langdetect pptree sqlitedict wikipedia-api intervaltree\n",
            "Installing collected packages: word2number, sqlitedict, sortedcontainers, pptree, pinyin, docopt, xxhash, terminaltables, segtok, num2words, lru-dict, lemminflect, langdetect, jsonlines, jmespath, intervaltree, ftfy, fsspec, dill, conllu, anytree, wikipedia-api, OpenHowNet, multiprocess, language-tool-python, botocore, bioc, s3transfer, pytorch-revgrad, mpld3, boto3, datasets, bert-score, transformer-smaller-training-vocab, flair, textattack\n",
            "  Attempting uninstall: fsspec\n",
            "    Found existing installation: fsspec 2024.10.0\n",
            "    Uninstalling fsspec-2024.10.0:\n",
            "      Successfully uninstalled fsspec-2024.10.0\n",
            "\u001b[31mERROR: pip's dependency resolver does not currently take into account all the packages that are installed. This behaviour is the source of the following dependency conflicts.\n",
            "gcsfs 2024.10.0 requires fsspec==2024.10.0, but you have fsspec 2024.9.0 which is incompatible.\u001b[0m\u001b[31m\n",
            "\u001b[0mSuccessfully installed OpenHowNet-2.0 anytree-2.12.1 bert-score-0.3.13 bioc-2.1 boto3-1.35.91 botocore-1.35.91 conllu-4.5.3 datasets-3.2.0 dill-0.3.8 docopt-0.6.2 flair-0.15.0 fsspec-2024.9.0 ftfy-6.3.1 intervaltree-3.1.0 jmespath-1.0.1 jsonlines-4.0.0 langdetect-1.0.9 language-tool-python-2.8.1 lemminflect-0.2.3 lru-dict-1.3.0 mpld3-0.5.10 multiprocess-0.70.16 num2words-0.5.14 pinyin-0.4.0 pptree-3.1 pytorch-revgrad-0.2.0 s3transfer-0.10.4 segtok-1.5.11 sortedcontainers-2.4.0 sqlitedict-2.1.0 terminaltables-3.1.10 textattack-0.3.10 transformer-smaller-training-vocab-0.4.0 wikipedia-api-0.7.1 word2number-1.1 xxhash-3.5.0\n"
          ]
        }
      ]
    },
    {
      "cell_type": "markdown",
      "source": [
        "### Relevant imports"
      ],
      "metadata": {
        "id": "FXkPPbW5ZH26"
      }
    },
    {
      "cell_type": "code",
      "source": [
        "from textattack.transformations import WordSwapRandomCharacterDeletion\n",
        "from textattack.transformations import WordSwapQWERTY\n",
        "from textattack.transformations import CompositeTransformation\n",
        "\n",
        "from textattack.constraints.pre_transformation import RepeatModification\n",
        "from textattack.constraints.pre_transformation import StopwordModification\n",
        "\n",
        "from textattack.augmentation import Augmenter"
      ],
      "metadata": {
        "colab": {
          "base_uri": "https://localhost:8080/"
        },
        "id": "jG_RYxYnBaSQ",
        "outputId": "b87d2030-2202-4fb5-b534-da4e46d8fcf9"
      },
      "execution_count": null,
      "outputs": [
        {
          "output_type": "stream",
          "name": "stderr",
          "text": [
            "textattack: Updating TextAttack package dependencies.\n",
            "textattack: Downloading NLTK required packages.\n",
            "[nltk_data] Downloading package averaged_perceptron_tagger to\n",
            "[nltk_data]     /root/nltk_data...\n",
            "[nltk_data]   Unzipping taggers/averaged_perceptron_tagger.zip.\n",
            "[nltk_data] Downloading package stopwords to /root/nltk_data...\n",
            "[nltk_data]   Unzipping corpora/stopwords.zip.\n",
            "[nltk_data] Downloading package omw to /root/nltk_data...\n",
            "[nltk_data] Downloading package universal_tagset to /root/nltk_data...\n",
            "[nltk_data]   Unzipping taggers/universal_tagset.zip.\n",
            "[nltk_data] Downloading package wordnet to /root/nltk_data...\n",
            "[nltk_data] Downloading package punkt to /root/nltk_data...\n",
            "[nltk_data]   Unzipping tokenizers/punkt.zip.\n"
          ]
        }
      ]
    },
    {
      "cell_type": "code",
      "source": [
        "def pert_using_textattack(word):\n",
        "  transformation = CompositeTransformation(\n",
        "      [WordSwapRandomCharacterDeletion(), WordSwapQWERTY()])\n",
        "  # Set up constraints\n",
        "  constraints = [RepeatModification(), StopwordModification()]\n",
        "  # Create augmenter with specified parameters\n",
        "  augmenter = Augmenter(\n",
        "    transformation=transformation,\n",
        "    constraints=constraints,\n",
        "    pct_words_to_swap=0.1,\n",
        "    transformations_per_example=10,\n",
        "    )\n",
        "  replacements = augmenter.augment(word)\n",
        "  if replacements:\n",
        "    return (random.choice(list(replacements)), True)\n",
        "  else:\n",
        "    return (word, False)"
      ],
      "metadata": {
        "id": "TfGobbeABVEb"
      },
      "execution_count": null,
      "outputs": []
    },
    {
      "cell_type": "markdown",
      "source": [
        "### Utillity functions for perturbations"
      ],
      "metadata": {
        "id": "K3mc33-MYynU"
      }
    },
    {
      "cell_type": "code",
      "source": [
        "import random\n",
        "import math\n",
        "# Func to change an example\n",
        "def pert_using_anthro(word):\n",
        "  # Get possible replacements from Atnhro\n",
        "  # Randomly choose one and return it\n",
        "  replacements = anthro.get_similars(word, level=1, distance=5, strict=True)\n",
        "  if replacements:\n",
        "    return (random.choice(list(replacements)), True)\n",
        "  else:\n",
        "    return (word, False)\n",
        "\n",
        "\n",
        "def perturb_focus_present(words_list, focus_words, pert_func, max_perturb_perc):\n",
        "  # Iterate over words list, if a word is in focus words replace it\n",
        "  # If replaced more than threshold - stop replacing\n",
        "  tot_words = len(words_list)\n",
        "  replaced_pairs = {}\n",
        "  new_words = []\n",
        "  for i, word in enumerate(words_list):\n",
        "    if word in focus_words:\n",
        "      new_word, replaced = pert_func(word)\n",
        "      if replaced:\n",
        "        replaced_pairs[word] = new_word\n",
        "        new_words.append(new_word)\n",
        "      else:\n",
        "        new_words.append(word)\n",
        "    else:\n",
        "        new_words.append(word)\n",
        "\n",
        "    if len(replaced_pairs)/tot_words > max_perturb_perc:\n",
        "      break\n",
        "  new_words += words_list[i+1:]\n",
        "  return new_words, replaced_pairs\n",
        "\n",
        "def perturb_no_focus(words_list, pert_func, max_perturb_perc):\n",
        "  max_number = len(words_list)\n",
        "  sample_size = math.ceil(max_perturb_perc * max_number)  # Number of integers to sample\n",
        "  # Get a sample of integers from 0 to max_number-1\n",
        "  sampled_integers = random.sample(range(max_number), sample_size)\n",
        "  new_words = words_list.copy()\n",
        "  replaced_pairs = {}\n",
        "  for i in sampled_integers:\n",
        "    new_word, replaced = pert_func(words_list[i])\n",
        "    if replaced:\n",
        "      new_words[i] = new_word\n",
        "      replaced_pairs[words_list[i]] = new_word\n",
        "  return new_words, replaced_pairs\n",
        "\n",
        "\n"
      ],
      "metadata": {
        "id": "QCCuuicBOe8Z"
      },
      "execution_count": null,
      "outputs": []
    },
    {
      "cell_type": "code",
      "source": [
        "# If we want to change the perturbation mechanism we just need to replace the\n",
        "# pert_func to be the new perturbation function.\n",
        "def perturb(words_list, focus_words, pert_func, max_perturb_perc=0.1):\n",
        "  words_set = set(words_list)\n",
        "  focus_words_set = set(focus_words)\n",
        "  if words_set.intersection(focus_words_set):\n",
        "    return perturb_focus_present(words_list, focus_words, pert_func, max_perturb_perc)\n",
        "  else:\n",
        "    return perturb_no_focus(words_list, pert_func, max_perturb_perc)"
      ],
      "metadata": {
        "id": "H9p_pWFualE0"
      },
      "execution_count": null,
      "outputs": []
    },
    {
      "cell_type": "markdown",
      "source": [
        "### Perturbations sanity checks"
      ],
      "metadata": {
        "id": "zCz6cEOCZVSj"
      }
    },
    {
      "cell_type": "code",
      "source": [
        "words = \"I love persons and dogs\".split(\" \")\n",
        "focus_words = [\"persons\", \"dogs\"]\n",
        "\n",
        "replaced_words, replaced = perturb(words, focus_words, pert_using_textattack, 0.1)\n",
        "print(replaced_words)\n",
        "print(replaced)"
      ],
      "metadata": {
        "colab": {
          "base_uri": "https://localhost:8080/"
        },
        "id": "QPNdKa-fTkoi",
        "outputId": "63e2f4cd-4924-491a-a665-32f12cedbe66"
      },
      "execution_count": null,
      "outputs": [
        {
          "output_type": "stream",
          "name": "stdout",
          "text": [
            "['I', 'love', 'persobs', 'and', 'dogs']\n",
            "{'persons': 'persobs'}\n"
          ]
        }
      ]
    },
    {
      "cell_type": "code",
      "source": [
        "words = \"I love persons and dogs\".split(\" \")\n",
        "focus_words = []\n",
        "\n",
        "replaced_words, replaced = perturb(words, focus_words, pert_using_textattack, 0.1)\n",
        "print(replaced_words)\n",
        "print(replaced)"
      ],
      "metadata": {
        "colab": {
          "base_uri": "https://localhost:8080/"
        },
        "id": "UVevGYOb4Cci",
        "outputId": "d37db939-db72-4bf9-865d-b325a3f03941"
      },
      "execution_count": null,
      "outputs": [
        {
          "output_type": "stream",
          "name": "stdout",
          "text": [
            "['I', 'love', 'persons', 'and', 'dos']\n",
            "{'dogs': 'dos'}\n"
          ]
        }
      ]
    },
    {
      "cell_type": "markdown",
      "source": [
        "### Perturb hate explain dataset"
      ],
      "metadata": {
        "id": "0vKsLIAzZZNo"
      }
    },
    {
      "cell_type": "code",
      "source": [
        "# Iterate over original HateExplain dataset and add a replaced version for every entry\n",
        "# Save to drive\n",
        "!git clone https://github.com/alatteaday/mrp_hate-speech-detection.git\n",
        "def load_dataset(dir, path):\n",
        "  with open(os.path.join(dir, path), 'r') as f:\n",
        "    dataset = json.load(f)\n",
        "  return dataset\n",
        "hate_explain_dir = \"/content/mrp_hate-speech-detection/dataset\"\n",
        "file_name = 'hatexplain_two_div.json'\n",
        "dataset = load_dataset(hate_explain_dir, file_name)[\"test\"]"
      ],
      "metadata": {
        "colab": {
          "base_uri": "https://localhost:8080/"
        },
        "id": "_NQXP9ShP8S3",
        "outputId": "d21d6b6a-0eeb-49be-e2ba-9979f3826cff"
      },
      "execution_count": null,
      "outputs": [
        {
          "output_type": "stream",
          "name": "stdout",
          "text": [
            "Cloning into 'mrp_hate-speech-detection'...\n",
            "remote: Enumerating objects: 11526, done.\u001b[K\n",
            "remote: Counting objects: 100% (11526/11526), done.\u001b[K\n",
            "remote: Compressing objects: 100% (10519/10519), done.\u001b[K\n",
            "remote: Total 11526 (delta 54), reused 11499 (delta 36), pack-reused 0 (from 0)\u001b[K\n",
            "Receiving objects: 100% (11526/11526), 6.53 MiB | 3.94 MiB/s, done.\n",
            "Resolving deltas: 100% (54/54), done.\n",
            "Updating files: 100% (11484/11484), done.\n"
          ]
        }
      ]
    },
    {
      "cell_type": "markdown",
      "source": [
        "List of 50 most common words in hateExplain for the hate classified text.\n",
        "Compiled here:"
      ],
      "metadata": {
        "id": "cn6v_oMX9m8u"
      }
    },
    {
      "cell_type": "code",
      "source": [
        "# focus_words = ['white',\n",
        "#  'nigger',\n",
        "#  'like',\n",
        "#  'kike',\n",
        "#  'retarded',\n",
        "#  'jews',\n",
        "#  'people',\n",
        "#  'get',\n",
        "#  'women',\n",
        "#  'fucking',\n",
        "#  'niggers',\n",
        "#  'fuck',\n",
        "#  'would',\n",
        "#  'ghetto',\n",
        "#  'faggot',\n",
        "#  'muslim',\n",
        "#  'shit',\n",
        "#  'bitch',\n",
        "#  'one',\n",
        "#  'good',\n",
        "#  'go',\n",
        "#  'ass',\n",
        "#  'hate',\n",
        "#  'country',\n",
        "#  'want',\n",
        "#  'men',\n",
        "#  'right',\n",
        "#  'black',\n",
        "#  'retard',\n",
        "#  'back',\n",
        "#  'trump',\n",
        "#  'think',\n",
        "#  'moslem',\n",
        "#  'see',\n",
        "#  'even',\n",
        "#  'faggots',\n",
        "#  'got',\n",
        "#  'time',\n",
        "#  'jew',\n",
        "#  'gay',\n",
        "#  'know',\n",
        "#  'never',\n",
        "#  'look',\n",
        "#  'still',\n",
        "#  'lol',\n",
        "#  'need',\n",
        "#  'could',\n",
        "#  'america',\n",
        "#  'well',\n",
        "#  'take']"
      ],
      "metadata": {
        "id": "yusZQ3as9l17"
      },
      "execution_count": null,
      "outputs": []
    },
    {
      "cell_type": "markdown",
      "source": [
        "Using a list of hateful words to replace with ANTHRO"
      ],
      "metadata": {
        "id": "FKW10qSPZedS"
      }
    },
    {
      "cell_type": "code",
      "source": [
        "# List of hateful words\n",
        "hate_speech_words = [\n",
        "    # Racial/Ethnic Slurs\n",
        "    \"nigger\", \"nigga\", \"mud shark\", \"chink\", \"gook\", \"spic\", \"wetback\",\n",
        "    \"kike\", \"sand nigger\", \"towelhead\", \"beaner\", \"cracker\", \"honky\",\n",
        "    \"jungle bunny\", \"redskin\",\n",
        "\n",
        "    # Gender-Based Slurs\n",
        "    \"bitch\", \"slut\", \"whore\", \"cunt\", \"feminazi\", \"dyke\", \"tranny\",\n",
        "    \"she-male\", \"gold digger\", \"skank\",\n",
        "\n",
        "    # Sexual Orientation Slurs\n",
        "    \"faggot\", \"fag\", \"homo\", \"queer\", \"carpet muncher\", \"pillow biter\",\n",
        "    \"fudge packer\", \"lesbo\",\n",
        "\n",
        "    # Religious Slurs\n",
        "    \"Christ killer\", \"jihadist\", \"infidel\", \"kike\", \"raghead\", \"heathen\",\n",
        "    \"pagan\", \"Bible basher\", \"papist\", \"kaffir\",\n",
        "\n",
        "    # Disability-Related Slurs\n",
        "    \"retard\", \"cripple\", \"spaz\", \"mongoloid\", \"psycho\", \"nutjob\",\n",
        "    \"lame\", \"vegetable\", \"deaf-mute\", \"imbecile\",\n",
        "\n",
        "    # Nationality/Cultural Slurs\n",
        "    \"yank\", \"brit\", \"kraut\", \"jap\", \"commie\", \"ruski\", \"paki\",\n",
        "    \"wop\", \"dago\", \"polack\",\n",
        "\n",
        "    # Appearance-Based Slurs\n",
        "    \"fatty\", \"lardass\", \"twig\", \"beanpole\", \"ugly\", \"four-eyes\",\n",
        "    \"baldie\", \"geek\", \"nerd\", \"pimple-face\"\n",
        "]\n"
      ],
      "metadata": {
        "id": "jXPGYhR4MdSR"
      },
      "execution_count": null,
      "outputs": []
    },
    {
      "cell_type": "code",
      "source": [
        "# Replace the hateful words inside the list of hateful speech\n",
        "all_replaced_pairs = {}\n",
        "tot_words = 0\n",
        "for i, row in enumerate(tqdm(dataset)):\n",
        "  words_list = row[\"text\"]\n",
        "  # focus_words = row[\"target1\"] + row[\"target2\"] + row[\"target3\"]\n",
        "  # focus_words = [w.lower() for w in focus_words]\n",
        "  replaced_words, replaced_pairs = perturb(words_list, hate_speech_words, pert_using_anthro, 0.2)\n",
        "  row[\"pert_list_text\"] = replaced_words\n",
        "  row[\"replaced_pairs\"] = replaced_pairs\n",
        "  all_replaced_pairs.update(replaced_pairs)\n",
        "  tot_words += len(words_list)\n",
        "  if i < 5:\n",
        "    print(row)\n",
        "    # print(hate_speech_words)\n",
        "    print(words_list)\n",
        "    print(replaced_words)\n",
        "    print(replaced_pairs)\n",
        "  if i % 5 == 0:\n",
        "    # print(hate_speech_words)\n",
        "    print(words_list)\n",
        "    print(replaced_words)\n",
        "    print(replaced_pairs)\n",
        "\n",
        "print(len(all_replaced_pairs))\n",
        "print(tot_words)\n",
        "print(len(all_replaced_pairs)/tot_words)"
      ],
      "metadata": {
        "colab": {
          "base_uri": "https://localhost:8080/"
        },
        "id": "j765KD7rT4Zd",
        "outputId": "2e2e972c-c5c5-4277-8a89-424b52f65cd3"
      },
      "execution_count": null,
      "outputs": [
        {
          "metadata": {
            "tags": null
          },
          "name": "stderr",
          "output_type": "stream",
          "text": [
            "  0%|          | 1/1924 [00:28<15:05:09, 28.24s/it]"
          ]
        },
        {
          "metadata": {
            "tags": null
          },
          "name": "stdout",
          "output_type": "stream",
          "text": [
            "{'post_id': '1178610029273976833_twitter', 'text': ['<user>', 'men', 'can', 'not', 'be', 'raped', 'can', 'not', 'be', 'abused', 'that', 'why', 'they', 'call', 'it', 'violence', 'against', 'women', 'and', 'children', 'because', 'men', 'are', 'always', 'the', 'perpetrators', 'women', 'come', 'first', 'even', 'before', 'children'], 'annotatorid1': 9, 'target1': ['None'], 'label1': 'normal', 'annotatorid2': 17, 'target2': ['None'], 'label2': 'normal', 'annotatorid3': 64, 'target3': ['None'], 'label3': 'normal', 'rationales': [], 'final_label': 'non-toxic', 'final_target_category': 'None', 'pert_list_text': ['<user>', 'men', 'caN', 'noooott', 'be', 'raped', 'can', 'not', 'be', 'aBuSeD', 'that', 'why', 'they', 'call', 'it', 'violence', 'against', 'women', 'ANd', 'childreen', 'because', 'men', 'are', 'always', 'the', 'perpetrtors', 'women', 'come', 'FIRST', 'even', 'before', 'children'], 'replaced_pairs': {'and': 'ANd', 'children': 'childreen', 'perpetrators': 'perpetrtors', 'abused': 'aBuSeD', 'can': 'caN', 'first': 'FIRST', 'not': 'noooott'}}\n",
            "['nigger', 'nigga', 'mud shark', 'chink', 'gook', 'spic', 'wetback', 'kike', 'sand nigger', 'towelhead', 'beaner', 'cracker', 'honky', 'jungle bunny', 'redskin', 'bitch', 'slut', 'whore', 'cunt', 'feminazi', 'dyke', 'tranny', 'she-male', 'gold digger', 'skank', 'faggot', 'fag', 'homo', 'queer', 'carpet muncher', 'pillow biter', 'fudge packer', 'lesbo', 'Christ killer', 'jihadist', 'infidel', 'kike', 'raghead', 'heathen', 'pagan', 'Bible basher', 'papist', 'kaffir', 'retard', 'cripple', 'spaz', 'mongoloid', 'psycho', 'nutjob', 'lame', 'vegetable', 'deaf-mute', 'imbecile', 'yank', 'brit', 'kraut', 'jap', 'commie', 'ruski', 'paki', 'wop', 'dago', 'polack', 'fatty', 'lardass', 'twig', 'beanpole', 'ugly', 'four-eyes', 'baldie', 'geek', 'nerd', 'pimple-face']\n",
            "['<user>', 'men', 'can', 'not', 'be', 'raped', 'can', 'not', 'be', 'abused', 'that', 'why', 'they', 'call', 'it', 'violence', 'against', 'women', 'and', 'children', 'because', 'men', 'are', 'always', 'the', 'perpetrators', 'women', 'come', 'first', 'even', 'before', 'children']\n",
            "['<user>', 'men', 'caN', 'noooott', 'be', 'raped', 'can', 'not', 'be', 'aBuSeD', 'that', 'why', 'they', 'call', 'it', 'violence', 'against', 'women', 'ANd', 'childreen', 'because', 'men', 'are', 'always', 'the', 'perpetrtors', 'women', 'come', 'FIRST', 'even', 'before', 'children']\n",
            "{'and': 'ANd', 'children': 'childreen', 'perpetrators': 'perpetrtors', 'abused': 'aBuSeD', 'can': 'caN', 'first': 'FIRST', 'not': 'noooott'}\n",
            "['nigger', 'nigga', 'mud shark', 'chink', 'gook', 'spic', 'wetback', 'kike', 'sand nigger', 'towelhead', 'beaner', 'cracker', 'honky', 'jungle bunny', 'redskin', 'bitch', 'slut', 'whore', 'cunt', 'feminazi', 'dyke', 'tranny', 'she-male', 'gold digger', 'skank', 'faggot', 'fag', 'homo', 'queer', 'carpet muncher', 'pillow biter', 'fudge packer', 'lesbo', 'Christ killer', 'jihadist', 'infidel', 'kike', 'raghead', 'heathen', 'pagan', 'Bible basher', 'papist', 'kaffir', 'retard', 'cripple', 'spaz', 'mongoloid', 'psycho', 'nutjob', 'lame', 'vegetable', 'deaf-mute', 'imbecile', 'yank', 'brit', 'kraut', 'jap', 'commie', 'ruski', 'paki', 'wop', 'dago', 'polack', 'fatty', 'lardass', 'twig', 'beanpole', 'ugly', 'four-eyes', 'baldie', 'geek', 'nerd', 'pimple-face']\n",
            "['<user>', 'men', 'can', 'not', 'be', 'raped', 'can', 'not', 'be', 'abused', 'that', 'why', 'they', 'call', 'it', 'violence', 'against', 'women', 'and', 'children', 'because', 'men', 'are', 'always', 'the', 'perpetrators', 'women', 'come', 'first', 'even', 'before', 'children']\n",
            "['<user>', 'men', 'caN', 'noooott', 'be', 'raped', 'can', 'not', 'be', 'aBuSeD', 'that', 'why', 'they', 'call', 'it', 'violence', 'against', 'women', 'ANd', 'childreen', 'because', 'men', 'are', 'always', 'the', 'perpetrtors', 'women', 'come', 'FIRST', 'even', 'before', 'children']\n",
            "{'and': 'ANd', 'children': 'childreen', 'perpetrators': 'perpetrtors', 'abused': 'aBuSeD', 'can': 'caN', 'first': 'FIRST', 'not': 'noooott'}\n"
          ]
        },
        {
          "metadata": {
            "tags": null
          },
          "name": "stderr",
          "output_type": "stream",
          "text": [
            "\r  0%|          | 2/1924 [00:37<8:59:36, 16.85s/it] "
          ]
        },
        {
          "metadata": {
            "tags": null
          },
          "name": "stdout",
          "output_type": "stream",
          "text": [
            "{'post_id': '1165785686903009283_twitter', 'text': ['<user>', 'you', 'are', 'missing', 'an', 'essential', 'premise', 'whether', 'any', 'of', 'those', 'immigrants', 'committed', 'any', 'crimes', 'dumbass'], 'annotatorid1': 200, 'target1': ['Refugee'], 'label1': 'offensive', 'annotatorid2': 199, 'target2': ['Refugee'], 'label2': 'normal', 'annotatorid3': 211, 'target3': ['None'], 'label3': 'normal', 'rationales': [], 'final_label': 'non-toxic', 'final_target_category': ['Refugee'], 'pert_list_text': ['<user>', 'you', 'are', 'missing', 'an', 'essentiall', 'premise', 'whether', 'Any', 'of', 'those', 'immigrants', 'comitteed', 'any', 'crimes', 'dumbass'], 'replaced_pairs': {'essential': 'essentiall', 'committed': 'comitteed', 'any': 'Any'}}\n",
            "['nigger', 'nigga', 'mud shark', 'chink', 'gook', 'spic', 'wetback', 'kike', 'sand nigger', 'towelhead', 'beaner', 'cracker', 'honky', 'jungle bunny', 'redskin', 'bitch', 'slut', 'whore', 'cunt', 'feminazi', 'dyke', 'tranny', 'she-male', 'gold digger', 'skank', 'faggot', 'fag', 'homo', 'queer', 'carpet muncher', 'pillow biter', 'fudge packer', 'lesbo', 'Christ killer', 'jihadist', 'infidel', 'kike', 'raghead', 'heathen', 'pagan', 'Bible basher', 'papist', 'kaffir', 'retard', 'cripple', 'spaz', 'mongoloid', 'psycho', 'nutjob', 'lame', 'vegetable', 'deaf-mute', 'imbecile', 'yank', 'brit', 'kraut', 'jap', 'commie', 'ruski', 'paki', 'wop', 'dago', 'polack', 'fatty', 'lardass', 'twig', 'beanpole', 'ugly', 'four-eyes', 'baldie', 'geek', 'nerd', 'pimple-face']\n",
            "['<user>', 'you', 'are', 'missing', 'an', 'essential', 'premise', 'whether', 'any', 'of', 'those', 'immigrants', 'committed', 'any', 'crimes', 'dumbass']\n",
            "['<user>', 'you', 'are', 'missing', 'an', 'essentiall', 'premise', 'whether', 'Any', 'of', 'those', 'immigrants', 'comitteed', 'any', 'crimes', 'dumbass']\n",
            "{'essential': 'essentiall', 'committed': 'comitteed', 'any': 'Any'}\n"
          ]
        },
        {
          "metadata": {
            "tags": null
          },
          "name": "stderr",
          "output_type": "stream",
          "text": [
            "\r  0%|          | 3/1924 [01:07<12:18:03, 23.05s/it]"
          ]
        },
        {
          "metadata": {
            "tags": null
          },
          "name": "stdout",
          "output_type": "stream",
          "text": [
            "{'post_id': '1252707503441313794_twitter', 'text': ['<user>', '<user>', 'why', 'are', 'you', 'repeating', 'yourself', 'are', 'you', 'a', 'little', 'retarded'], 'annotatorid1': 233, 'target1': ['Other'], 'label1': 'offensive', 'annotatorid2': 215, 'target2': ['None'], 'label2': 'normal', 'annotatorid3': 202, 'target3': ['Other'], 'label3': 'offensive', 'rationales': [[0, 0, 0, 0, 0, 0, 0, 0, 0, 0, 0, 1], [0, 0, 0, 0, 0, 0, 0, 0, 0, 0, 0, 1]], 'final_label': 'toxic', 'final_target_category': 'None', 'pert_list_text': ['<user>', '<user>', 'why', 'are', 'you', 'repeating', 'yOuRsElf', 'are', 'YOu', 'a', 'little', 'retarded'], 'replaced_pairs': {'yourself': 'yOuRsElf', 'you': 'YOu'}}\n",
            "['nigger', 'nigga', 'mud shark', 'chink', 'gook', 'spic', 'wetback', 'kike', 'sand nigger', 'towelhead', 'beaner', 'cracker', 'honky', 'jungle bunny', 'redskin', 'bitch', 'slut', 'whore', 'cunt', 'feminazi', 'dyke', 'tranny', 'she-male', 'gold digger', 'skank', 'faggot', 'fag', 'homo', 'queer', 'carpet muncher', 'pillow biter', 'fudge packer', 'lesbo', 'Christ killer', 'jihadist', 'infidel', 'kike', 'raghead', 'heathen', 'pagan', 'Bible basher', 'papist', 'kaffir', 'retard', 'cripple', 'spaz', 'mongoloid', 'psycho', 'nutjob', 'lame', 'vegetable', 'deaf-mute', 'imbecile', 'yank', 'brit', 'kraut', 'jap', 'commie', 'ruski', 'paki', 'wop', 'dago', 'polack', 'fatty', 'lardass', 'twig', 'beanpole', 'ugly', 'four-eyes', 'baldie', 'geek', 'nerd', 'pimple-face']\n",
            "['<user>', '<user>', 'why', 'are', 'you', 'repeating', 'yourself', 'are', 'you', 'a', 'little', 'retarded']\n",
            "['<user>', '<user>', 'why', 'are', 'you', 'repeating', 'yOuRsElf', 'are', 'YOu', 'a', 'little', 'retarded']\n",
            "{'yourself': 'yOuRsElf', 'you': 'YOu'}\n"
          ]
        },
        {
          "metadata": {
            "tags": null
          },
          "name": "stderr",
          "output_type": "stream",
          "text": [
            "\r  0%|          | 4/1924 [01:09<7:45:27, 14.55s/it] "
          ]
        },
        {
          "metadata": {
            "tags": null
          },
          "name": "stdout",
          "output_type": "stream",
          "text": [
            "{'post_id': '1103385226921762816_twitter', 'text': ['<user>', '<user>', 'well', 'she', '’', 'muslim', 'so', 'of', 'course', 'she', 'hates', 'the', 'jews', 'jew', 'hatred', 'is', 'one', 'of', 'the', 'defining', 'feature', 'of', 'islam'], 'annotatorid1': 206, 'target1': ['Arab', 'Islam', 'Jewish'], 'label1': 'hatespeech', 'annotatorid2': 199, 'target2': ['Islam', 'Jewish'], 'label2': 'hatespeech', 'annotatorid3': 203, 'target3': ['Islam', 'Jewish'], 'label3': 'hatespeech', 'rationales': [[0, 0, 0, 0, 0, 1, 0, 0, 0, 1, 1, 1, 1, 1, 1, 0, 0, 0, 0, 0, 0, 0, 1], [0, 0, 0, 1, 1, 1, 1, 1, 1, 1, 1, 1, 1, 1, 1, 0, 0, 0, 0, 1, 1, 1, 1]], 'final_label': 'toxic', 'final_target_category': ['Jewish', 'Islam'], 'pert_list_text': ['<user>', '<user>', 'well', 'she', '’', 'muslim', 'so', 'of', 'course', 'she', 'HATS', 'the', 'jews', 'jew', 'hatred', 'is', 'one', 'of', 'the', 'defining', 'feature', 'of', 'islam'], 'replaced_pairs': {'jew': 'jew', 'feature': 'feature', 'hates': 'HATS'}}\n",
            "['nigger', 'nigga', 'mud shark', 'chink', 'gook', 'spic', 'wetback', 'kike', 'sand nigger', 'towelhead', 'beaner', 'cracker', 'honky', 'jungle bunny', 'redskin', 'bitch', 'slut', 'whore', 'cunt', 'feminazi', 'dyke', 'tranny', 'she-male', 'gold digger', 'skank', 'faggot', 'fag', 'homo', 'queer', 'carpet muncher', 'pillow biter', 'fudge packer', 'lesbo', 'Christ killer', 'jihadist', 'infidel', 'kike', 'raghead', 'heathen', 'pagan', 'Bible basher', 'papist', 'kaffir', 'retard', 'cripple', 'spaz', 'mongoloid', 'psycho', 'nutjob', 'lame', 'vegetable', 'deaf-mute', 'imbecile', 'yank', 'brit', 'kraut', 'jap', 'commie', 'ruski', 'paki', 'wop', 'dago', 'polack', 'fatty', 'lardass', 'twig', 'beanpole', 'ugly', 'four-eyes', 'baldie', 'geek', 'nerd', 'pimple-face']\n",
            "['<user>', '<user>', 'well', 'she', '’', 'muslim', 'so', 'of', 'course', 'she', 'hates', 'the', 'jews', 'jew', 'hatred', 'is', 'one', 'of', 'the', 'defining', 'feature', 'of', 'islam']\n",
            "['<user>', '<user>', 'well', 'she', '’', 'muslim', 'so', 'of', 'course', 'she', 'HATS', 'the', 'jews', 'jew', 'hatred', 'is', 'one', 'of', 'the', 'defining', 'feature', 'of', 'islam']\n",
            "{'jew': 'jew', 'feature': 'feature', 'hates': 'HATS'}\n"
          ]
        },
        {
          "metadata": {
            "tags": null
          },
          "name": "stderr",
          "output_type": "stream",
          "text": [
            "\r  0%|          | 5/1924 [01:17<6:33:59, 12.32s/it]"
          ]
        },
        {
          "metadata": {
            "tags": null
          },
          "name": "stdout",
          "output_type": "stream",
          "text": [
            "{'post_id': '1169443635869487105_twitter', 'text': ['<user>', 'lol', 'not', 'me', 'i', 'don', '’', 't', 'deal', 'with', 'bms', 'not', 'outside', 'children', '’', 'ss', 'i', 'leave', 'that', 'ghetto', 'mess', 'for', 'everybody', 'else', '😂', '😂', '😂'], 'annotatorid1': 205, 'target1': ['African'], 'label1': 'offensive', 'annotatorid2': 223, 'target2': ['African'], 'label2': 'hatespeech', 'annotatorid3': 208, 'target3': ['African'], 'label3': 'offensive', 'rationales': [[0, 0, 0, 0, 0, 0, 0, 0, 0, 0, 0, 0, 0, 0, 0, 0, 0, 0, 0, 1, 0, 0, 0, 0, 0, 0, 0], [0, 0, 0, 0, 0, 0, 0, 0, 0, 0, 0, 0, 0, 0, 0, 0, 0, 0, 0, 1, 0, 0, 0, 0, 0, 0, 0]], 'final_label': 'toxic', 'final_target_category': ['African'], 'pert_list_text': ['<user>', 'lol', 'not', 'me', 'i', 'don', '’', 't', 'deal', 'wIth', 'bms', 'Nottt', 'outside', 'children', '’', 'ss', 'i', 'leave', 'that', 'ghetto', 'mess', 'for', 'everybody', 'ELSe', '😂', '😂', '😂'], 'replaced_pairs': {'else': 'ELSe', 'not': 'Nottt', 'with': 'wIth'}}\n",
            "['nigger', 'nigga', 'mud shark', 'chink', 'gook', 'spic', 'wetback', 'kike', 'sand nigger', 'towelhead', 'beaner', 'cracker', 'honky', 'jungle bunny', 'redskin', 'bitch', 'slut', 'whore', 'cunt', 'feminazi', 'dyke', 'tranny', 'she-male', 'gold digger', 'skank', 'faggot', 'fag', 'homo', 'queer', 'carpet muncher', 'pillow biter', 'fudge packer', 'lesbo', 'Christ killer', 'jihadist', 'infidel', 'kike', 'raghead', 'heathen', 'pagan', 'Bible basher', 'papist', 'kaffir', 'retard', 'cripple', 'spaz', 'mongoloid', 'psycho', 'nutjob', 'lame', 'vegetable', 'deaf-mute', 'imbecile', 'yank', 'brit', 'kraut', 'jap', 'commie', 'ruski', 'paki', 'wop', 'dago', 'polack', 'fatty', 'lardass', 'twig', 'beanpole', 'ugly', 'four-eyes', 'baldie', 'geek', 'nerd', 'pimple-face']\n",
            "['<user>', 'lol', 'not', 'me', 'i', 'don', '’', 't', 'deal', 'with', 'bms', 'not', 'outside', 'children', '’', 'ss', 'i', 'leave', 'that', 'ghetto', 'mess', 'for', 'everybody', 'else', '😂', '😂', '😂']\n",
            "['<user>', 'lol', 'not', 'me', 'i', 'don', '’', 't', 'deal', 'wIth', 'bms', 'Nottt', 'outside', 'children', '’', 'ss', 'i', 'leave', 'that', 'ghetto', 'mess', 'for', 'everybody', 'ELSe', '😂', '😂', '😂']\n",
            "{'else': 'ELSe', 'not': 'Nottt', 'with': 'wIth'}\n"
          ]
        },
        {
          "metadata": {
            "tags": null
          },
          "name": "stderr",
          "output_type": "stream",
          "text": [
            "\r  0%|          | 6/1924 [01:21<5:03:09,  9.48s/it]"
          ]
        },
        {
          "metadata": {
            "tags": null
          },
          "name": "stdout",
          "output_type": "stream",
          "text": [
            "['nigger', 'nigga', 'mud shark', 'chink', 'gook', 'spic', 'wetback', 'kike', 'sand nigger', 'towelhead', 'beaner', 'cracker', 'honky', 'jungle bunny', 'redskin', 'bitch', 'slut', 'whore', 'cunt', 'feminazi', 'dyke', 'tranny', 'she-male', 'gold digger', 'skank', 'faggot', 'fag', 'homo', 'queer', 'carpet muncher', 'pillow biter', 'fudge packer', 'lesbo', 'Christ killer', 'jihadist', 'infidel', 'kike', 'raghead', 'heathen', 'pagan', 'Bible basher', 'papist', 'kaffir', 'retard', 'cripple', 'spaz', 'mongoloid', 'psycho', 'nutjob', 'lame', 'vegetable', 'deaf-mute', 'imbecile', 'yank', 'brit', 'kraut', 'jap', 'commie', 'ruski', 'paki', 'wop', 'dago', 'polack', 'fatty', 'lardass', 'twig', 'beanpole', 'ugly', 'four-eyes', 'baldie', 'geek', 'nerd', 'pimple-face']\n",
            "['an', 'these', 'nigger', 'biches', 'look', 'like', 'godzilla', 'nasty']\n",
            "['an', 'these', 'NIGER', 'biches', 'look', 'like', 'godzilla', 'nasty']\n",
            "{'nigger': 'NIGER'}\n"
          ]
        },
        {
          "metadata": {
            "tags": null
          },
          "name": "stderr",
          "output_type": "stream",
          "text": [
            "  1%|          | 11/1924 [02:37<7:20:09, 13.81s/it]"
          ]
        },
        {
          "metadata": {
            "tags": null
          },
          "name": "stdout",
          "output_type": "stream",
          "text": [
            "['nigger', 'nigga', 'mud shark', 'chink', 'gook', 'spic', 'wetback', 'kike', 'sand nigger', 'towelhead', 'beaner', 'cracker', 'honky', 'jungle bunny', 'redskin', 'bitch', 'slut', 'whore', 'cunt', 'feminazi', 'dyke', 'tranny', 'she-male', 'gold digger', 'skank', 'faggot', 'fag', 'homo', 'queer', 'carpet muncher', 'pillow biter', 'fudge packer', 'lesbo', 'Christ killer', 'jihadist', 'infidel', 'kike', 'raghead', 'heathen', 'pagan', 'Bible basher', 'papist', 'kaffir', 'retard', 'cripple', 'spaz', 'mongoloid', 'psycho', 'nutjob', 'lame', 'vegetable', 'deaf-mute', 'imbecile', 'yank', 'brit', 'kraut', 'jap', 'commie', 'ruski', 'paki', 'wop', 'dago', 'polack', 'fatty', 'lardass', 'twig', 'beanpole', 'ugly', 'four-eyes', 'baldie', 'geek', 'nerd', 'pimple-face']\n",
            "['a', 'pussy', 'hoe', 'could', 'never', 'is', 'so', 'ghetto', 'and', 'i', 'hate', 'hearing', 'it']\n",
            "['a', 'pussy', 'hoe', 'could', 'never', 'is', 'so', 'ghettoooooo', 'and', 'i', 'hate', 'hearing', 'it']\n",
            "{'ghetto': 'ghettoooooo', 'pussy': 'pussy'}\n"
          ]
        },
        {
          "metadata": {
            "tags": null
          },
          "name": "stderr",
          "output_type": "stream",
          "text": [
            "  1%|          | 16/1924 [03:32<5:01:50,  9.49s/it]"
          ]
        },
        {
          "metadata": {
            "tags": null
          },
          "name": "stdout",
          "output_type": "stream",
          "text": [
            "['nigger', 'nigga', 'mud shark', 'chink', 'gook', 'spic', 'wetback', 'kike', 'sand nigger', 'towelhead', 'beaner', 'cracker', 'honky', 'jungle bunny', 'redskin', 'bitch', 'slut', 'whore', 'cunt', 'feminazi', 'dyke', 'tranny', 'she-male', 'gold digger', 'skank', 'faggot', 'fag', 'homo', 'queer', 'carpet muncher', 'pillow biter', 'fudge packer', 'lesbo', 'Christ killer', 'jihadist', 'infidel', 'kike', 'raghead', 'heathen', 'pagan', 'Bible basher', 'papist', 'kaffir', 'retard', 'cripple', 'spaz', 'mongoloid', 'psycho', 'nutjob', 'lame', 'vegetable', 'deaf-mute', 'imbecile', 'yank', 'brit', 'kraut', 'jap', 'commie', 'ruski', 'paki', 'wop', 'dago', 'polack', 'fatty', 'lardass', 'twig', 'beanpole', 'ugly', 'four-eyes', 'baldie', 'geek', 'nerd', 'pimple-face']\n",
            "['there', 'too', 'many', 'wypipo', 'asking', 'what', 'this', 'is', 'and', 'if', 'they', 'can', 'get', 'in', 'this', 'is', 'a', 'niggers', 'only', 'event']\n",
            "['there', 'too', 'maany', 'WYPIPO', 'asking', 'what', 'this', 'is', 'and', 'if', 'they', 'caaaaan', 'get', 'in', 'this', 'is', 'a', 'niggers', 'only', 'event']\n",
            "{'wypipo': 'WYPIPO', 'can': 'caaaaan', 'many': 'maany'}\n"
          ]
        },
        {
          "metadata": {
            "tags": null
          },
          "name": "stderr",
          "output_type": "stream",
          "text": [
            "  1%|          | 21/1924 [04:19<4:13:21,  7.99s/it]"
          ]
        },
        {
          "metadata": {
            "tags": null
          },
          "name": "stdout",
          "output_type": "stream",
          "text": [
            "['nigger', 'nigga', 'mud shark', 'chink', 'gook', 'spic', 'wetback', 'kike', 'sand nigger', 'towelhead', 'beaner', 'cracker', 'honky', 'jungle bunny', 'redskin', 'bitch', 'slut', 'whore', 'cunt', 'feminazi', 'dyke', 'tranny', 'she-male', 'gold digger', 'skank', 'faggot', 'fag', 'homo', 'queer', 'carpet muncher', 'pillow biter', 'fudge packer', 'lesbo', 'Christ killer', 'jihadist', 'infidel', 'kike', 'raghead', 'heathen', 'pagan', 'Bible basher', 'papist', 'kaffir', 'retard', 'cripple', 'spaz', 'mongoloid', 'psycho', 'nutjob', 'lame', 'vegetable', 'deaf-mute', 'imbecile', 'yank', 'brit', 'kraut', 'jap', 'commie', 'ruski', 'paki', 'wop', 'dago', 'polack', 'fatty', 'lardass', 'twig', 'beanpole', 'ugly', 'four-eyes', 'baldie', 'geek', 'nerd', 'pimple-face']\n",
            "['<user>', '<user>', 'treat', 'the', 'immigrants', 'as', 'drug', 'traffickers', 'they', 'will', 'soon', 'have', 'a', 'change', 'of', 'mind', '👍']\n",
            "['<user>', '<user>', 'trat', 'the', 'immigrants', 'as', 'drug', 'Traffickers', 'THhey', 'will', 'sOon', 'have', 'a', 'change', 'of', 'mind', '👍']\n",
            "{'traffickers': 'Traffickers', 'soon': 'sOon', 'treat': 'trat', 'they': 'THhey'}\n"
          ]
        },
        {
          "metadata": {
            "tags": null
          },
          "name": "stderr",
          "output_type": "stream",
          "text": [
            "  1%|▏         | 26/1924 [06:37<11:51:48, 22.50s/it]"
          ]
        },
        {
          "metadata": {
            "tags": null
          },
          "name": "stdout",
          "output_type": "stream",
          "text": [
            "['nigger', 'nigga', 'mud shark', 'chink', 'gook', 'spic', 'wetback', 'kike', 'sand nigger', 'towelhead', 'beaner', 'cracker', 'honky', 'jungle bunny', 'redskin', 'bitch', 'slut', 'whore', 'cunt', 'feminazi', 'dyke', 'tranny', 'she-male', 'gold digger', 'skank', 'faggot', 'fag', 'homo', 'queer', 'carpet muncher', 'pillow biter', 'fudge packer', 'lesbo', 'Christ killer', 'jihadist', 'infidel', 'kike', 'raghead', 'heathen', 'pagan', 'Bible basher', 'papist', 'kaffir', 'retard', 'cripple', 'spaz', 'mongoloid', 'psycho', 'nutjob', 'lame', 'vegetable', 'deaf-mute', 'imbecile', 'yank', 'brit', 'kraut', 'jap', 'commie', 'ruski', 'paki', 'wop', 'dago', 'polack', 'fatty', 'lardass', 'twig', 'beanpole', 'ugly', 'four-eyes', 'baldie', 'geek', 'nerd', 'pimple-face']\n",
            "['cia', 'nigger', 'apologizes', 'to', 'pol', 'for', 'the', 'poz']\n",
            "['cia', 'niger', 'apologizes', 'to', 'pol', 'for', 'the', 'poz']\n",
            "{'nigger': 'niger'}\n"
          ]
        },
        {
          "metadata": {
            "tags": null
          },
          "name": "stderr",
          "output_type": "stream",
          "text": [
            "  2%|▏         | 31/1924 [07:34<7:35:29, 14.44s/it]"
          ]
        },
        {
          "metadata": {
            "tags": null
          },
          "name": "stdout",
          "output_type": "stream",
          "text": [
            "['nigger', 'nigga', 'mud shark', 'chink', 'gook', 'spic', 'wetback', 'kike', 'sand nigger', 'towelhead', 'beaner', 'cracker', 'honky', 'jungle bunny', 'redskin', 'bitch', 'slut', 'whore', 'cunt', 'feminazi', 'dyke', 'tranny', 'she-male', 'gold digger', 'skank', 'faggot', 'fag', 'homo', 'queer', 'carpet muncher', 'pillow biter', 'fudge packer', 'lesbo', 'Christ killer', 'jihadist', 'infidel', 'kike', 'raghead', 'heathen', 'pagan', 'Bible basher', 'papist', 'kaffir', 'retard', 'cripple', 'spaz', 'mongoloid', 'psycho', 'nutjob', 'lame', 'vegetable', 'deaf-mute', 'imbecile', 'yank', 'brit', 'kraut', 'jap', 'commie', 'ruski', 'paki', 'wop', 'dago', 'polack', 'fatty', 'lardass', 'twig', 'beanpole', 'ugly', 'four-eyes', 'baldie', 'geek', 'nerd', 'pimple-face']\n",
            "['dis', 'lil', 'white', 'bitch', 'got', 'da', 'poker', '🤦', '🏽', '\\u200d', '♂️']\n",
            "['dis', 'lil', 'white', 'BiTCh', 'got', 'da', 'poker', '🤦', '🏽', '\\u200d', '♂️']\n",
            "{'bitch': 'BiTCh'}\n"
          ]
        },
        {
          "metadata": {
            "tags": null
          },
          "name": "stderr",
          "output_type": "stream",
          "text": [
            "  2%|▏         | 36/1924 [08:22<6:30:36, 12.41s/it]"
          ]
        },
        {
          "metadata": {
            "tags": null
          },
          "name": "stdout",
          "output_type": "stream",
          "text": [
            "['nigger', 'nigga', 'mud shark', 'chink', 'gook', 'spic', 'wetback', 'kike', 'sand nigger', 'towelhead', 'beaner', 'cracker', 'honky', 'jungle bunny', 'redskin', 'bitch', 'slut', 'whore', 'cunt', 'feminazi', 'dyke', 'tranny', 'she-male', 'gold digger', 'skank', 'faggot', 'fag', 'homo', 'queer', 'carpet muncher', 'pillow biter', 'fudge packer', 'lesbo', 'Christ killer', 'jihadist', 'infidel', 'kike', 'raghead', 'heathen', 'pagan', 'Bible basher', 'papist', 'kaffir', 'retard', 'cripple', 'spaz', 'mongoloid', 'psycho', 'nutjob', 'lame', 'vegetable', 'deaf-mute', 'imbecile', 'yank', 'brit', 'kraut', 'jap', 'commie', 'ruski', 'paki', 'wop', 'dago', 'polack', 'fatty', 'lardass', 'twig', 'beanpole', 'ugly', 'four-eyes', 'baldie', 'geek', 'nerd', 'pimple-face']\n",
            "['this', 'is', 'a', 'fucking', 'disgrace', 'shameless', 'cunts']\n",
            "['this', 'is', 'a', 'fucking', 'DISGRACE', 'shameless', 'cuntsss']\n",
            "{'disgrace': 'DISGRACE', 'cunts': 'cuntsss'}\n"
          ]
        },
        {
          "metadata": {
            "tags": null
          },
          "name": "stderr",
          "output_type": "stream",
          "text": [
            "  2%|▏         | 41/1924 [09:11<5:05:52,  9.75s/it]"
          ]
        },
        {
          "metadata": {
            "tags": null
          },
          "name": "stdout",
          "output_type": "stream",
          "text": [
            "['nigger', 'nigga', 'mud shark', 'chink', 'gook', 'spic', 'wetback', 'kike', 'sand nigger', 'towelhead', 'beaner', 'cracker', 'honky', 'jungle bunny', 'redskin', 'bitch', 'slut', 'whore', 'cunt', 'feminazi', 'dyke', 'tranny', 'she-male', 'gold digger', 'skank', 'faggot', 'fag', 'homo', 'queer', 'carpet muncher', 'pillow biter', 'fudge packer', 'lesbo', 'Christ killer', 'jihadist', 'infidel', 'kike', 'raghead', 'heathen', 'pagan', 'Bible basher', 'papist', 'kaffir', 'retard', 'cripple', 'spaz', 'mongoloid', 'psycho', 'nutjob', 'lame', 'vegetable', 'deaf-mute', 'imbecile', 'yank', 'brit', 'kraut', 'jap', 'commie', 'ruski', 'paki', 'wop', 'dago', 'polack', 'fatty', 'lardass', 'twig', 'beanpole', 'ugly', 'four-eyes', 'baldie', 'geek', 'nerd', 'pimple-face']\n",
            "['imagine', 'being', 'so', 'disconnected', 'that', 'youd', 'think', 'a', 'dickies', 'work', 'shirt', 'and', 'some', 'black', 'pants', 'are', 'comparable', 'to', 'a', 'fur', 'suit', 'imagine', 'crying', 'about', 'optics', 'while', 'writing', 'for', 'a', 'site', 'that', 'screams', 'nigger', 'in', 'every', 'title', 'like', 'a', '<number>', 'year', 'old', 'on', 'xbox', 'love', 'who', 'd', 'just', 'found', '4', 'chan']\n",
            "['imagine', 'being', 'so', 'disconnected', 'that', 'youd', 'think', 'a', 'dickies', 'work', 'shirt', 'and', 'some', 'black', 'pants', 'are', 'comparable', 'to', 'a', 'fur', 'suit', 'imagine', 'crying', 'about', 'optics', 'while', 'writing', 'for', 'a', 'site', 'that', 'screams', 'Niger', 'in', 'every', 'title', 'like', 'a', '<number>', 'year', 'old', 'on', 'xbox', 'love', 'who', 'd', 'just', 'found', '4', 'chan']\n",
            "{'nigger': 'Niger'}\n"
          ]
        },
        {
          "metadata": {
            "tags": null
          },
          "name": "stderr",
          "output_type": "stream",
          "text": [
            "  2%|▏         | 46/1924 [10:08<4:01:17,  7.71s/it]"
          ]
        },
        {
          "metadata": {
            "tags": null
          },
          "name": "stdout",
          "output_type": "stream",
          "text": [
            "['nigger', 'nigga', 'mud shark', 'chink', 'gook', 'spic', 'wetback', 'kike', 'sand nigger', 'towelhead', 'beaner', 'cracker', 'honky', 'jungle bunny', 'redskin', 'bitch', 'slut', 'whore', 'cunt', 'feminazi', 'dyke', 'tranny', 'she-male', 'gold digger', 'skank', 'faggot', 'fag', 'homo', 'queer', 'carpet muncher', 'pillow biter', 'fudge packer', 'lesbo', 'Christ killer', 'jihadist', 'infidel', 'kike', 'raghead', 'heathen', 'pagan', 'Bible basher', 'papist', 'kaffir', 'retard', 'cripple', 'spaz', 'mongoloid', 'psycho', 'nutjob', 'lame', 'vegetable', 'deaf-mute', 'imbecile', 'yank', 'brit', 'kraut', 'jap', 'commie', 'ruski', 'paki', 'wop', 'dago', 'polack', 'fatty', 'lardass', 'twig', 'beanpole', 'ugly', 'four-eyes', 'baldie', 'geek', 'nerd', 'pimple-face']\n",
            "['the', 'blur', 'the', 'retard']\n",
            "['the', 'blur', 'the', 'Retard']\n",
            "{'retard': 'Retard'}\n"
          ]
        },
        {
          "metadata": {
            "tags": null
          },
          "name": "stderr",
          "output_type": "stream",
          "text": [
            "  3%|▎         | 51/1924 [11:29<9:38:15, 18.52s/it]"
          ]
        },
        {
          "metadata": {
            "tags": null
          },
          "name": "stdout",
          "output_type": "stream",
          "text": [
            "['nigger', 'nigga', 'mud shark', 'chink', 'gook', 'spic', 'wetback', 'kike', 'sand nigger', 'towelhead', 'beaner', 'cracker', 'honky', 'jungle bunny', 'redskin', 'bitch', 'slut', 'whore', 'cunt', 'feminazi', 'dyke', 'tranny', 'she-male', 'gold digger', 'skank', 'faggot', 'fag', 'homo', 'queer', 'carpet muncher', 'pillow biter', 'fudge packer', 'lesbo', 'Christ killer', 'jihadist', 'infidel', 'kike', 'raghead', 'heathen', 'pagan', 'Bible basher', 'papist', 'kaffir', 'retard', 'cripple', 'spaz', 'mongoloid', 'psycho', 'nutjob', 'lame', 'vegetable', 'deaf-mute', 'imbecile', 'yank', 'brit', 'kraut', 'jap', 'commie', 'ruski', 'paki', 'wop', 'dago', 'polack', 'fatty', 'lardass', 'twig', 'beanpole', 'ugly', 'four-eyes', 'baldie', 'geek', 'nerd', 'pimple-face']\n",
            "['no', 'that', 'can', 'not', 'be', 'we', 'all', 'know', 'that', 'muslim', 'knife', 'attacks', 'have', 'nothing', 'to', 'fo', 'with', 'religion']\n",
            "['no', 'THAATTTT', 'can', 'not', 'be', 'we', 'all', 'knOOOOOow', 'that', 'muslim', 'knife', 'attacks', 'have', 'nothing', 'to', 'fo', 'with', 'religion']\n",
            "{'with': 'with', 'know': 'knOOOOOow', 'that': 'THAATTTT'}\n"
          ]
        },
        {
          "metadata": {
            "tags": null
          },
          "name": "stderr",
          "output_type": "stream",
          "text": [
            "  3%|▎         | 56/1924 [12:56<10:22:49, 20.01s/it]"
          ]
        },
        {
          "metadata": {
            "tags": null
          },
          "name": "stdout",
          "output_type": "stream",
          "text": [
            "['nigger', 'nigga', 'mud shark', 'chink', 'gook', 'spic', 'wetback', 'kike', 'sand nigger', 'towelhead', 'beaner', 'cracker', 'honky', 'jungle bunny', 'redskin', 'bitch', 'slut', 'whore', 'cunt', 'feminazi', 'dyke', 'tranny', 'she-male', 'gold digger', 'skank', 'faggot', 'fag', 'homo', 'queer', 'carpet muncher', 'pillow biter', 'fudge packer', 'lesbo', 'Christ killer', 'jihadist', 'infidel', 'kike', 'raghead', 'heathen', 'pagan', 'Bible basher', 'papist', 'kaffir', 'retard', 'cripple', 'spaz', 'mongoloid', 'psycho', 'nutjob', 'lame', 'vegetable', 'deaf-mute', 'imbecile', 'yank', 'brit', 'kraut', 'jap', 'commie', 'ruski', 'paki', 'wop', 'dago', 'polack', 'fatty', 'lardass', 'twig', 'beanpole', 'ugly', 'four-eyes', 'baldie', 'geek', 'nerd', 'pimple-face']\n",
            "['<user>', 'bitch', 'was', 'tiny', 'but', 'powerful']\n",
            "['<user>', 'BiTCH', 'was', 'tiny', 'but', 'powerful']\n",
            "{'bitch': 'BiTCH'}\n"
          ]
        },
        {
          "metadata": {
            "tags": null
          },
          "name": "stderr",
          "output_type": "stream",
          "text": [
            "  3%|▎         | 61/1924 [15:17<14:24:14, 27.83s/it]"
          ]
        },
        {
          "metadata": {
            "tags": null
          },
          "name": "stdout",
          "output_type": "stream",
          "text": [
            "['nigger', 'nigga', 'mud shark', 'chink', 'gook', 'spic', 'wetback', 'kike', 'sand nigger', 'towelhead', 'beaner', 'cracker', 'honky', 'jungle bunny', 'redskin', 'bitch', 'slut', 'whore', 'cunt', 'feminazi', 'dyke', 'tranny', 'she-male', 'gold digger', 'skank', 'faggot', 'fag', 'homo', 'queer', 'carpet muncher', 'pillow biter', 'fudge packer', 'lesbo', 'Christ killer', 'jihadist', 'infidel', 'kike', 'raghead', 'heathen', 'pagan', 'Bible basher', 'papist', 'kaffir', 'retard', 'cripple', 'spaz', 'mongoloid', 'psycho', 'nutjob', 'lame', 'vegetable', 'deaf-mute', 'imbecile', 'yank', 'brit', 'kraut', 'jap', 'commie', 'ruski', 'paki', 'wop', 'dago', 'polack', 'fatty', 'lardass', 'twig', 'beanpole', 'ugly', 'four-eyes', 'baldie', 'geek', 'nerd', 'pimple-face']\n",
            "['unpopularopinion', 'i', 'loathe', 'the', 'alt', 'right', 'but', 'i', 'believe', 'in', 'the', '1', 'st', 'amendment', 'as', 'long', 'as', 'it', 'is', 'not', 'violence', 'or', 'incitement', 'to', 'violence', 'the', 'government', 'has', 'no', 'right', 'to', 'infringe', 'in', 'speech', 'also', 'google', 'and', 'facebook', 'i', 'am', 'moving', 'on', 'from', 'you', 'guys', 'because', 'of', 'your', 'intolerant', 'crap']\n",
            "['unpopularopinion', 'i', 'loathe', 'the', 'alt', 'right', 'but', 'i', 'believe', 'in', 'THE', '1', 'st', 'amendment', 'as', 'long', 'as', 'it', 'is', 'NOT', 'violence', 'or', 'incitment', 'to', 'vIoLiEnCe', 'Thue', 'government', 'has', 'no', 'right', 'to', 'infringe', 'in', 'speech', 'also', 'google', 'and', 'facebook', 'i', 'am', 'Moving', 'on', 'from', 'you', 'guys', 'becausae', 'of', 'your', 'intolerant', 'craap']\n",
            "{'because': 'becausae', 'the': 'Thue', 'incitement': 'incitment', 'violence': 'vIoLiEnCe', 'crap': 'craap', 'not': 'NOT', 'moving': 'Moving'}\n"
          ]
        },
        {
          "metadata": {
            "tags": null
          },
          "name": "stderr",
          "output_type": "stream",
          "text": [
            "  3%|▎         | 66/1924 [16:16<7:52:31, 15.26s/it]"
          ]
        },
        {
          "metadata": {
            "tags": null
          },
          "name": "stdout",
          "output_type": "stream",
          "text": [
            "['nigger', 'nigga', 'mud shark', 'chink', 'gook', 'spic', 'wetback', 'kike', 'sand nigger', 'towelhead', 'beaner', 'cracker', 'honky', 'jungle bunny', 'redskin', 'bitch', 'slut', 'whore', 'cunt', 'feminazi', 'dyke', 'tranny', 'she-male', 'gold digger', 'skank', 'faggot', 'fag', 'homo', 'queer', 'carpet muncher', 'pillow biter', 'fudge packer', 'lesbo', 'Christ killer', 'jihadist', 'infidel', 'kike', 'raghead', 'heathen', 'pagan', 'Bible basher', 'papist', 'kaffir', 'retard', 'cripple', 'spaz', 'mongoloid', 'psycho', 'nutjob', 'lame', 'vegetable', 'deaf-mute', 'imbecile', 'yank', 'brit', 'kraut', 'jap', 'commie', 'ruski', 'paki', 'wop', 'dago', 'polack', 'fatty', 'lardass', 'twig', 'beanpole', 'ugly', 'four-eyes', 'baldie', 'geek', 'nerd', 'pimple-face']\n",
            "['even', 'worse', 'i', 'have', 'read', 'comments', 'defending', 'this', 'vid', 'stating', 'the', 'message', 'is', 'anti', 'violence', 'against', 'all', 'stfu', 'with', 'that', 'noise']\n",
            "['even', 'worse', 'i', 'haVe', 'read', 'Comments', 'defending', 'this', 'vid', 'Stating', 'the', 'message', 'is', 'anti', 'violence', 'againstt', 'all', 'stFU', 'with', 'that', 'noise']\n",
            "{'have': 'haVe', 'comments': 'Comments', 'stfu': 'stFU', 'stating': 'Stating', 'against': 'againstt'}\n"
          ]
        },
        {
          "metadata": {
            "tags": null
          },
          "name": "stderr",
          "output_type": "stream",
          "text": [
            "  4%|▎         | 71/1924 [16:50<4:23:30,  8.53s/it]"
          ]
        },
        {
          "metadata": {
            "tags": null
          },
          "name": "stdout",
          "output_type": "stream",
          "text": [
            "['nigger', 'nigga', 'mud shark', 'chink', 'gook', 'spic', 'wetback', 'kike', 'sand nigger', 'towelhead', 'beaner', 'cracker', 'honky', 'jungle bunny', 'redskin', 'bitch', 'slut', 'whore', 'cunt', 'feminazi', 'dyke', 'tranny', 'she-male', 'gold digger', 'skank', 'faggot', 'fag', 'homo', 'queer', 'carpet muncher', 'pillow biter', 'fudge packer', 'lesbo', 'Christ killer', 'jihadist', 'infidel', 'kike', 'raghead', 'heathen', 'pagan', 'Bible basher', 'papist', 'kaffir', 'retard', 'cripple', 'spaz', 'mongoloid', 'psycho', 'nutjob', 'lame', 'vegetable', 'deaf-mute', 'imbecile', 'yank', 'brit', 'kraut', 'jap', 'commie', 'ruski', 'paki', 'wop', 'dago', 'polack', 'fatty', 'lardass', 'twig', 'beanpole', 'ugly', 'four-eyes', 'baldie', 'geek', 'nerd', 'pimple-face']\n",
            "['suck', 'out', 'you', 'faggot']\n",
            "['suck', 'out', 'you', 'fagggot']\n",
            "{'faggot': 'fagggot'}\n"
          ]
        },
        {
          "metadata": {
            "tags": null
          },
          "name": "stderr",
          "output_type": "stream",
          "text": [
            "  4%|▍         | 76/1924 [17:34<6:01:39, 11.74s/it]"
          ]
        },
        {
          "metadata": {
            "tags": null
          },
          "name": "stdout",
          "output_type": "stream",
          "text": [
            "['nigger', 'nigga', 'mud shark', 'chink', 'gook', 'spic', 'wetback', 'kike', 'sand nigger', 'towelhead', 'beaner', 'cracker', 'honky', 'jungle bunny', 'redskin', 'bitch', 'slut', 'whore', 'cunt', 'feminazi', 'dyke', 'tranny', 'she-male', 'gold digger', 'skank', 'faggot', 'fag', 'homo', 'queer', 'carpet muncher', 'pillow biter', 'fudge packer', 'lesbo', 'Christ killer', 'jihadist', 'infidel', 'kike', 'raghead', 'heathen', 'pagan', 'Bible basher', 'papist', 'kaffir', 'retard', 'cripple', 'spaz', 'mongoloid', 'psycho', 'nutjob', 'lame', 'vegetable', 'deaf-mute', 'imbecile', 'yank', 'brit', 'kraut', 'jap', 'commie', 'ruski', 'paki', 'wop', 'dago', 'polack', 'fatty', 'lardass', 'twig', 'beanpole', 'ugly', 'four-eyes', 'baldie', 'geek', 'nerd', 'pimple-face']\n",
            "['jews', 'often', 'appropriate', 'white', 'identity', 'and', 'culture', 'this', 'crypsis', 'is', 'often', 'selfishly', 'motivated', 'deceptive', 'in', 'the', 'company', 'of', 'the', 'goyim', 'we', 'jews', 'must', 'always', 'identify', 'ourselves', 'as', 'jews', 'especially', 'when', 'espousing', 'political', 'opinions', 'on', 'israel', 'and', 'the', 'middle', 'east', 'wear', 'a', 'star', 'of', 'david', 'prominently']\n",
            "['jews', 'oFtEn', 'appropriate', 'white', 'identity', 'and', 'culture', 'this', 'crypsis', 'is', 'often', 'selfishly', 'motivated', 'deceptive', 'in', 'the', 'company', 'of', 'tHe', 'goyim', 'we', 'jews', 'must', 'alwayssss', 'identify', 'ourselves', 'as', 'jews', 'especially', 'when', 'espousing', 'political', 'opnions', 'on', 'israel', 'and', 'Thhe', 'middle', 'east', 'wear', 'a', 'Star', 'of', 'Daaviiid', 'prominently']\n",
            "{'david': 'Daaviiid', 'often': 'oFtEn', 'opinions': 'opnions', 'identify': 'identify', 'always': 'alwayssss', 'the': 'tHe', 'star': 'Star'}\n"
          ]
        },
        {
          "metadata": {
            "tags": null
          },
          "name": "stderr",
          "output_type": "stream",
          "text": [
            "  4%|▍         | 81/1924 [18:20<5:47:25, 11.31s/it]"
          ]
        },
        {
          "metadata": {
            "tags": null
          },
          "name": "stdout",
          "output_type": "stream",
          "text": [
            "['nigger', 'nigga', 'mud shark', 'chink', 'gook', 'spic', 'wetback', 'kike', 'sand nigger', 'towelhead', 'beaner', 'cracker', 'honky', 'jungle bunny', 'redskin', 'bitch', 'slut', 'whore', 'cunt', 'feminazi', 'dyke', 'tranny', 'she-male', 'gold digger', 'skank', 'faggot', 'fag', 'homo', 'queer', 'carpet muncher', 'pillow biter', 'fudge packer', 'lesbo', 'Christ killer', 'jihadist', 'infidel', 'kike', 'raghead', 'heathen', 'pagan', 'Bible basher', 'papist', 'kaffir', 'retard', 'cripple', 'spaz', 'mongoloid', 'psycho', 'nutjob', 'lame', 'vegetable', 'deaf-mute', 'imbecile', 'yank', 'brit', 'kraut', 'jap', 'commie', 'ruski', 'paki', 'wop', 'dago', 'polack', 'fatty', 'lardass', 'twig', 'beanpole', 'ugly', 'four-eyes', 'baldie', 'geek', 'nerd', 'pimple-face']\n",
            "['do', 'not', 'deny', 'it', 'wasn', 't', 'a', 'scary', 'few', 'days', 'he', 'did', 'immediately', 'blame', 'both', 'sides', 'dems', 'say', 'not', 'enough', 'on', 'mon', 'he', 'does', 'not', 'mention', 'the', 'violence', 'of', 'antifa', 'blm', 'only', 'condemns', 'kk', 'white', 'supremacists', 'nazis', 'the', 'altright', 'had', 'the', 'permit', 'with', 'zero', 'police', 'protection', 'beaten', 'maced', 'an', 'error', 'on', 'trumps', 'part']\n",
            "['do', 'not', 'deny', 'it', 'wasn', 't', 'a', 'ScAarY', 'few', 'days', 'he', 'did', 'immediately', 'blame', 'both', 'SIDES', 'dems', 'say', 'not', 'enough', 'on', 'mon', 'he', 'does', 'not', 'mention', 'the', 'violence', 'of', 'antifa', 'blm', 'only', 'condemns', 'kk', 'white', 'supremacists', 'nazis', 'THIE', 'altright', 'had', 'the', 'permit', 'WIth', 'ZeRo', 'polcie', 'protection', 'beten', 'maced', 'an', 'error', 'on', 'trumps', 'part']\n",
            "{'with': 'WIth', 'zero': 'ZeRo', 'police': 'polcie', 'scary': 'ScAarY', 'beaten': 'beten', 'the': 'THIE', 'enough': 'enough', 'sides': 'SIDES', 'days': 'days'}\n"
          ]
        },
        {
          "metadata": {
            "tags": null
          },
          "name": "stderr",
          "output_type": "stream",
          "text": [
            "  4%|▍         | 86/1924 [19:48<10:38:26, 20.84s/it]"
          ]
        },
        {
          "metadata": {
            "tags": null
          },
          "name": "stdout",
          "output_type": "stream",
          "text": [
            "['nigger', 'nigga', 'mud shark', 'chink', 'gook', 'spic', 'wetback', 'kike', 'sand nigger', 'towelhead', 'beaner', 'cracker', 'honky', 'jungle bunny', 'redskin', 'bitch', 'slut', 'whore', 'cunt', 'feminazi', 'dyke', 'tranny', 'she-male', 'gold digger', 'skank', 'faggot', 'fag', 'homo', 'queer', 'carpet muncher', 'pillow biter', 'fudge packer', 'lesbo', 'Christ killer', 'jihadist', 'infidel', 'kike', 'raghead', 'heathen', 'pagan', 'Bible basher', 'papist', 'kaffir', 'retard', 'cripple', 'spaz', 'mongoloid', 'psycho', 'nutjob', 'lame', 'vegetable', 'deaf-mute', 'imbecile', 'yank', 'brit', 'kraut', 'jap', 'commie', 'ruski', 'paki', 'wop', 'dago', 'polack', 'fatty', 'lardass', 'twig', 'beanpole', 'ugly', 'four-eyes', 'baldie', 'geek', 'nerd', 'pimple-face']\n",
            "['come', 'on', 'please', 'you', 'forgot', 'you', 'are', 'from', 'europe', 'you', 'think', 'north', 'africa', 'is', 'black', 'you', 'take', 'pre', 'colombians', 'for', 'latinos', 'then', 'for', 'indians', 'are', 'you', 'conscient', 'you', 'are', 'a', 'retarded', 'just', 'as', 'any', 'yankee']\n",
            "['come', 'on', 'please', 'you', 'forgot', 'you', 'arrre', 'from', 'europe', 'you', 'tHink', 'north', 'africa', 'is', 'black', 'you', 'take', 'pre', 'colombians', 'for', 'latinos', 'then', 'for', 'indians', 'are', 'youu', 'conscient', 'you', 'are', 'a', 'retarded', 'Juuuuust', 'as', 'aNY', 'yankee']\n",
            "{'any': 'aNY', 'for': 'for', 'are': 'arrre', 'think': 'tHink', 'you': 'youu', 'just': 'Juuuuust'}\n"
          ]
        },
        {
          "metadata": {
            "tags": null
          },
          "name": "stderr",
          "output_type": "stream",
          "text": [
            "  5%|▍         | 91/1924 [21:01<7:32:28, 14.81s/it]"
          ]
        },
        {
          "metadata": {
            "tags": null
          },
          "name": "stdout",
          "output_type": "stream",
          "text": [
            "['nigger', 'nigga', 'mud shark', 'chink', 'gook', 'spic', 'wetback', 'kike', 'sand nigger', 'towelhead', 'beaner', 'cracker', 'honky', 'jungle bunny', 'redskin', 'bitch', 'slut', 'whore', 'cunt', 'feminazi', 'dyke', 'tranny', 'she-male', 'gold digger', 'skank', 'faggot', 'fag', 'homo', 'queer', 'carpet muncher', 'pillow biter', 'fudge packer', 'lesbo', 'Christ killer', 'jihadist', 'infidel', 'kike', 'raghead', 'heathen', 'pagan', 'Bible basher', 'papist', 'kaffir', 'retard', 'cripple', 'spaz', 'mongoloid', 'psycho', 'nutjob', 'lame', 'vegetable', 'deaf-mute', 'imbecile', 'yank', 'brit', 'kraut', 'jap', 'commie', 'ruski', 'paki', 'wop', 'dago', 'polack', 'fatty', 'lardass', 'twig', 'beanpole', 'ugly', 'four-eyes', 'baldie', 'geek', 'nerd', 'pimple-face']\n",
            "['<user>', '<user>', '<user>', 'yes', 'men', 'commit', 'male', 'violence', 'i', 'actually', 'wouldnt', 'envy', 'a', 'lesbian', 'being', 'confonted', 'with', 'a', 'penis', 'for', 'a', 'number', 'of', 'reasons', 'the', 'fear', 'of', 'being', 'raped', 'or', 'being', 'beaten', 'for', 'turning', 'down', 'the', 'trans', 'woman', 'being', 'just', 'one']\n",
            "['<user>', '<user>', '<user>', 'yes', 'Meen', 'comIt', 'male', 'violence', 'i', 'actually', 'wouldnt', 'envi', 'a', 'lesbian', 'beiing', 'confonted', 'with', 'a', 'PENISSSSS', 'for', 'a', 'number', 'of', 'reasons', 'THHE', 'fear', 'of', 'being', 'raped', 'or', 'beIng', 'beaten', 'for', 'turning', 'down', 'the', 'trans', 'woman', 'being', 'just', 'one']\n",
            "{'reasons': 'reasons', 'the': 'THHE', 'being': 'beiing', 'men': 'Meen', 'commit': 'comIt', 'penis': 'PENISSSSS', 'envy': 'envi'}\n"
          ]
        },
        {
          "metadata": {
            "tags": null
          },
          "name": "stderr",
          "output_type": "stream",
          "text": [
            "  5%|▍         | 96/1924 [22:03<6:55:22, 13.63s/it]"
          ]
        },
        {
          "metadata": {
            "tags": null
          },
          "name": "stdout",
          "output_type": "stream",
          "text": [
            "['nigger', 'nigga', 'mud shark', 'chink', 'gook', 'spic', 'wetback', 'kike', 'sand nigger', 'towelhead', 'beaner', 'cracker', 'honky', 'jungle bunny', 'redskin', 'bitch', 'slut', 'whore', 'cunt', 'feminazi', 'dyke', 'tranny', 'she-male', 'gold digger', 'skank', 'faggot', 'fag', 'homo', 'queer', 'carpet muncher', 'pillow biter', 'fudge packer', 'lesbo', 'Christ killer', 'jihadist', 'infidel', 'kike', 'raghead', 'heathen', 'pagan', 'Bible basher', 'papist', 'kaffir', 'retard', 'cripple', 'spaz', 'mongoloid', 'psycho', 'nutjob', 'lame', 'vegetable', 'deaf-mute', 'imbecile', 'yank', 'brit', 'kraut', 'jap', 'commie', 'ruski', 'paki', 'wop', 'dago', 'polack', 'fatty', 'lardass', 'twig', 'beanpole', 'ugly', 'four-eyes', 'baldie', 'geek', 'nerd', 'pimple-face']\n",
            "['hope', 'she', 'remembered', 'defending', 'the', 'mudslime', 'that', 'instigated', 'the', 'gang', 'rape', 'and', 'murder', 'karma', 'is', 'a', 'bitch']\n",
            "['hope', 'she', 'remembered', 'defending', 'the', 'mudslime', 'that', 'instigated', 'the', 'gang', 'rape', 'and', 'murder', 'karma', 'is', 'a', 'Bitch']\n",
            "{'bitch': 'Bitch'}\n"
          ]
        },
        {
          "metadata": {
            "tags": null
          },
          "name": "stderr",
          "output_type": "stream",
          "text": [
            "  5%|▌         | 101/1924 [23:51<9:22:02, 18.50s/it]"
          ]
        },
        {
          "metadata": {
            "tags": null
          },
          "name": "stdout",
          "output_type": "stream",
          "text": [
            "['nigger', 'nigga', 'mud shark', 'chink', 'gook', 'spic', 'wetback', 'kike', 'sand nigger', 'towelhead', 'beaner', 'cracker', 'honky', 'jungle bunny', 'redskin', 'bitch', 'slut', 'whore', 'cunt', 'feminazi', 'dyke', 'tranny', 'she-male', 'gold digger', 'skank', 'faggot', 'fag', 'homo', 'queer', 'carpet muncher', 'pillow biter', 'fudge packer', 'lesbo', 'Christ killer', 'jihadist', 'infidel', 'kike', 'raghead', 'heathen', 'pagan', 'Bible basher', 'papist', 'kaffir', 'retard', 'cripple', 'spaz', 'mongoloid', 'psycho', 'nutjob', 'lame', 'vegetable', 'deaf-mute', 'imbecile', 'yank', 'brit', 'kraut', 'jap', 'commie', 'ruski', 'paki', 'wop', 'dago', 'polack', 'fatty', 'lardass', 'twig', 'beanpole', 'ugly', 'four-eyes', 'baldie', 'geek', 'nerd', 'pimple-face']\n",
            "['backpedaling', 'fails', 'to', 'point', 'out', 'exactly', 'my', 'comments', 'and', 'resumes', 'to', 'nonsensical', 'aussie', 'retarded', 'babbles', 'go', 'choke', 'on', 'a', 'cock', 'you', 'useless', 'wrinkly', 'aussie', 'slag', 'you', 'are', 'th', 'descendants', 'of', 'the', 'bottom', 'feeders', 'among', 'limeys', 'loll']\n",
            "['backpedaling', 'fails', 'to', 'point', 'out', 'exactly', 'my', 'comments', 'and', 'RESUMES', 'to', 'nonsensical', 'ause', 'retarded', 'babbles', 'go', 'choke', 'on', 'a', 'cock', 'you', 'useless', 'wrinkly', 'aussie', 'slag', 'you', 'are', 'th', 'descendants', 'of', 'The', 'bottom', 'Feeders', 'among', 'limeys', 'loollll']\n",
            "{'the': 'The', 'bottom': 'bottom', 'loll': 'loollll', 'feeders': 'Feeders', 'resumes': 'RESUMES', 'aussie': 'ause', 'limeys': 'limeys'}\n"
          ]
        },
        {
          "metadata": {
            "tags": null
          },
          "name": "stderr",
          "output_type": "stream",
          "text": [
            "  5%|▌         | 105/1924 [24:46<6:24:19, 12.68s/it]"
          ]
        },
        {
          "metadata": {
            "tags": null
          },
          "name": "stdout",
          "output_type": "stream",
          "text": [
            "['nigger', 'nigga', 'mud shark', 'chink', 'gook', 'spic', 'wetback', 'kike', 'sand nigger', 'towelhead', 'beaner', 'cracker', 'honky', 'jungle bunny', 'redskin', 'bitch', 'slut', 'whore', 'cunt', 'feminazi', 'dyke', 'tranny', 'she-male', 'gold digger', 'skank', 'faggot', 'fag', 'homo', 'queer', 'carpet muncher', 'pillow biter', 'fudge packer', 'lesbo', 'Christ killer', 'jihadist', 'infidel', 'kike', 'raghead', 'heathen', 'pagan', 'Bible basher', 'papist', 'kaffir', 'retard', 'cripple', 'spaz', 'mongoloid', 'psycho', 'nutjob', 'lame', 'vegetable', 'deaf-mute', 'imbecile', 'yank', 'brit', 'kraut', 'jap', 'commie', 'ruski', 'paki', 'wop', 'dago', 'polack', 'fatty', 'lardass', 'twig', 'beanpole', 'ugly', 'four-eyes', 'baldie', 'geek', 'nerd', 'pimple-face']\n",
            "['<user>', 'it', 'means', 'that', 'they', 'hate', 'gay', 'people', 'but', 'feel', 'uncomfortable', 'admitting', 'so', 'in', 'front', 'of', 'a', 'queer', 'person']\n",
            "['<user>', 'it', 'means', 'that', 'they', 'hate', 'gay', 'people', 'but', 'feel', 'uncomfortable', 'admitting', 'so', 'in', 'front', 'of', 'a', 'QUER', 'person']\n",
            "{'queer': 'QUER'}\n"
          ]
        },
        {
          "metadata": {
            "tags": null
          },
          "name": "stderr",
          "output_type": "stream",
          "text": [
            "  6%|▌         | 111/1924 [25:47<6:16:44, 12.47s/it]"
          ]
        },
        {
          "metadata": {
            "tags": null
          },
          "name": "stdout",
          "output_type": "stream",
          "text": [
            "['nigger', 'nigga', 'mud shark', 'chink', 'gook', 'spic', 'wetback', 'kike', 'sand nigger', 'towelhead', 'beaner', 'cracker', 'honky', 'jungle bunny', 'redskin', 'bitch', 'slut', 'whore', 'cunt', 'feminazi', 'dyke', 'tranny', 'she-male', 'gold digger', 'skank', 'faggot', 'fag', 'homo', 'queer', 'carpet muncher', 'pillow biter', 'fudge packer', 'lesbo', 'Christ killer', 'jihadist', 'infidel', 'kike', 'raghead', 'heathen', 'pagan', 'Bible basher', 'papist', 'kaffir', 'retard', 'cripple', 'spaz', 'mongoloid', 'psycho', 'nutjob', 'lame', 'vegetable', 'deaf-mute', 'imbecile', 'yank', 'brit', 'kraut', 'jap', 'commie', 'ruski', 'paki', 'wop', 'dago', 'polack', 'fatty', 'lardass', 'twig', 'beanpole', 'ugly', 'four-eyes', 'baldie', 'geek', 'nerd', 'pimple-face']\n",
            "['well', 'my', 'dear', 'lgbtq', 'brothers', 'and', 'sisters', 'i', 'do', 'not', 'want', 'to', 'die', 'at', 'the', 'hands', 'of', 'a', 'muslim', 'terrorist', 'and', 'as', 'you', 'are', 'putting', 'my', 'life', 'in', 'danger', 'with', 'your', 'politics', 'i', 'would', 'like', 'to', 'suggest', 'that', 'you', 'all', 'go', 'fuck', 'yourselves']\n",
            "['well', 'my', 'dear', 'Lgbtq', 'brotherss', 'and', 'sisters', 'i', 'do', 'not', 'want', 'to', 'die', 'at', 'the', 'hands', 'of', 'a', 'muslim', 'TERRORIST', 'annnd', 'as', 'you', 'are', 'putting', 'my', 'life', 'in', 'danger', 'with', 'yOUr', 'politics', 'i', 'would', 'like', 'to', 'suggest', 'that', 'you', 'all', 'go', 'fuck', 'yourselves']\n",
            "{'terrorist': 'TERRORIST', 'and': 'annnd', 'brothers': 'brotherss', 'your': 'yOUr', 'lgbtq': 'Lgbtq', 'sisters': 'sisters'}\n"
          ]
        },
        {
          "metadata": {
            "tags": null
          },
          "name": "stderr",
          "output_type": "stream",
          "text": [
            "  6%|▌         | 116/1924 [26:28<4:51:21,  9.67s/it]"
          ]
        },
        {
          "metadata": {
            "tags": null
          },
          "name": "stdout",
          "output_type": "stream",
          "text": [
            "['nigger', 'nigga', 'mud shark', 'chink', 'gook', 'spic', 'wetback', 'kike', 'sand nigger', 'towelhead', 'beaner', 'cracker', 'honky', 'jungle bunny', 'redskin', 'bitch', 'slut', 'whore', 'cunt', 'feminazi', 'dyke', 'tranny', 'she-male', 'gold digger', 'skank', 'faggot', 'fag', 'homo', 'queer', 'carpet muncher', 'pillow biter', 'fudge packer', 'lesbo', 'Christ killer', 'jihadist', 'infidel', 'kike', 'raghead', 'heathen', 'pagan', 'Bible basher', 'papist', 'kaffir', 'retard', 'cripple', 'spaz', 'mongoloid', 'psycho', 'nutjob', 'lame', 'vegetable', 'deaf-mute', 'imbecile', 'yank', 'brit', 'kraut', 'jap', 'commie', 'ruski', 'paki', 'wop', 'dago', 'polack', 'fatty', 'lardass', 'twig', 'beanpole', 'ugly', 'four-eyes', 'baldie', 'geek', 'nerd', 'pimple-face']\n",
            "['i', 'never', 'thought', 'i', 'would', 'see', 'the', 'day', 'when', 'faggots', 'and', 'niggers', 'are', 'held', 'in', 'a', 'higher', 'regard', 'than', 'myself', 'when', 'the', 'leaders', 'of', 'your', 'own', 'country', 'hate', 'you', 'love', 'them', 'your', 'country', 'is', 'screwed']\n",
            "['i', 'never', 'thought', 'i', 'would', 'SEEEEE', 'the', 'day', 'Whn', 'faggots', 'and', 'niggers', 'are', 'held', 'in', 'a', 'higher', 'regard', 'than', 'myslf', 'when', 'the', 'leaders', 'of', 'your', 'owwn', 'COunTRy', 'hate', 'you', 'love', 'them', 'youer', 'country', 'is', 'screwed']\n",
            "{'own': 'owwn', 'when': 'Whn', 'country': 'COunTRy', 'your': 'youer', 'myself': 'myslf', 'see': 'SEEEEE'}\n"
          ]
        },
        {
          "metadata": {
            "tags": null
          },
          "name": "stderr",
          "output_type": "stream",
          "text": [
            "  6%|▋         | 121/1924 [26:51<3:24:30,  6.81s/it]"
          ]
        },
        {
          "metadata": {
            "tags": null
          },
          "name": "stdout",
          "output_type": "stream",
          "text": [
            "['nigger', 'nigga', 'mud shark', 'chink', 'gook', 'spic', 'wetback', 'kike', 'sand nigger', 'towelhead', 'beaner', 'cracker', 'honky', 'jungle bunny', 'redskin', 'bitch', 'slut', 'whore', 'cunt', 'feminazi', 'dyke', 'tranny', 'she-male', 'gold digger', 'skank', 'faggot', 'fag', 'homo', 'queer', 'carpet muncher', 'pillow biter', 'fudge packer', 'lesbo', 'Christ killer', 'jihadist', 'infidel', 'kike', 'raghead', 'heathen', 'pagan', 'Bible basher', 'papist', 'kaffir', 'retard', 'cripple', 'spaz', 'mongoloid', 'psycho', 'nutjob', 'lame', 'vegetable', 'deaf-mute', 'imbecile', 'yank', 'brit', 'kraut', 'jap', 'commie', 'ruski', 'paki', 'wop', 'dago', 'polack', 'fatty', 'lardass', 'twig', 'beanpole', 'ugly', 'four-eyes', 'baldie', 'geek', 'nerd', 'pimple-face']\n",
            "['got', 'into', 'my', 'first', 'car', 'accident', '🙄', 'a', 'bitch', 'was', 'shook']\n",
            "['got', 'into', 'my', 'first', 'car', 'accident', '🙄', 'a', 'bitchh', 'was', 'shook']\n",
            "{'bitch': 'bitchh'}\n"
          ]
        },
        {
          "metadata": {
            "tags": null
          },
          "name": "stderr",
          "output_type": "stream",
          "text": [
            "  7%|▋         | 126/1924 [28:00<6:27:54, 12.94s/it]"
          ]
        },
        {
          "metadata": {
            "tags": null
          },
          "name": "stdout",
          "output_type": "stream",
          "text": [
            "['nigger', 'nigga', 'mud shark', 'chink', 'gook', 'spic', 'wetback', 'kike', 'sand nigger', 'towelhead', 'beaner', 'cracker', 'honky', 'jungle bunny', 'redskin', 'bitch', 'slut', 'whore', 'cunt', 'feminazi', 'dyke', 'tranny', 'she-male', 'gold digger', 'skank', 'faggot', 'fag', 'homo', 'queer', 'carpet muncher', 'pillow biter', 'fudge packer', 'lesbo', 'Christ killer', 'jihadist', 'infidel', 'kike', 'raghead', 'heathen', 'pagan', 'Bible basher', 'papist', 'kaffir', 'retard', 'cripple', 'spaz', 'mongoloid', 'psycho', 'nutjob', 'lame', 'vegetable', 'deaf-mute', 'imbecile', 'yank', 'brit', 'kraut', 'jap', 'commie', 'ruski', 'paki', 'wop', 'dago', 'polack', 'fatty', 'lardass', 'twig', 'beanpole', 'ugly', 'four-eyes', 'baldie', 'geek', 'nerd', 'pimple-face']\n",
            "['jews', 'are', 'the', 'only', 'enemy', 'in', 'the', 'history', 'of', 'the', 'world', 'that', 'resort', 'to', 'crying', 'its', 'anti', 'semitic', 'to', 'resist', 'my', 'actions', 'boo', 'hoo']\n",
            "['jews', 'ARRRE', 'thee', 'only', 'enemy', 'in', 'Thye', 'history', 'of', 'the', 'world', 'that', 'resort', 'to', 'crying', 'its', 'anti', 'semitic', 'to', 'resist', 'my', 'actions', 'boo', 'hoo']\n",
            "{'boo': 'boo', 'the': 'Thye', 'are': 'ARRRE'}\n"
          ]
        },
        {
          "metadata": {
            "tags": null
          },
          "name": "stderr",
          "output_type": "stream",
          "text": [
            "  7%|▋         | 131/1924 [28:52<4:39:04,  9.34s/it]"
          ]
        },
        {
          "metadata": {
            "tags": null
          },
          "name": "stdout",
          "output_type": "stream",
          "text": [
            "['nigger', 'nigga', 'mud shark', 'chink', 'gook', 'spic', 'wetback', 'kike', 'sand nigger', 'towelhead', 'beaner', 'cracker', 'honky', 'jungle bunny', 'redskin', 'bitch', 'slut', 'whore', 'cunt', 'feminazi', 'dyke', 'tranny', 'she-male', 'gold digger', 'skank', 'faggot', 'fag', 'homo', 'queer', 'carpet muncher', 'pillow biter', 'fudge packer', 'lesbo', 'Christ killer', 'jihadist', 'infidel', 'kike', 'raghead', 'heathen', 'pagan', 'Bible basher', 'papist', 'kaffir', 'retard', 'cripple', 'spaz', 'mongoloid', 'psycho', 'nutjob', 'lame', 'vegetable', 'deaf-mute', 'imbecile', 'yank', 'brit', 'kraut', 'jap', 'commie', 'ruski', 'paki', 'wop', 'dago', 'polack', 'fatty', 'lardass', 'twig', 'beanpole', 'ugly', 'four-eyes', 'baldie', 'geek', 'nerd', 'pimple-face']\n",
            "['matt', 'hale', 'sits', 'in', 'prison', 'due', 'to', 'being', 'framed', 'by', 'an', 'informant', 'edgar', 'steele', 'died', 'in', 'prison', 'after', 'being', 'framed', 'by', 'an', 'informant', 'michael', 'weaver', 'was', 'convicted', 'by', 'a', 'jury', 'on', 'account', 'of', 'his', 'political', 'beliefs', 'for', 'defending', 'himself', 'from', 'nigger', 'carjackers']\n",
            "['matt', 'hale', 'sits', 'in', 'prison', 'due', 'to', 'being', 'framed', 'by', 'an', 'informant', 'edgar', 'steele', 'died', 'in', 'prison', 'after', 'being', 'framed', 'by', 'an', 'informant', 'michael', 'weaver', 'was', 'convicted', 'by', 'a', 'jury', 'on', 'account', 'of', 'his', 'political', 'beliefs', 'for', 'defending', 'himself', 'from', 'NiggeR', 'carjackers']\n",
            "{'nigger': 'NiggeR'}\n"
          ]
        },
        {
          "metadata": {
            "tags": null
          },
          "name": "stderr",
          "output_type": "stream",
          "text": [
            "  7%|▋         | 135/1924 [29:10<2:52:04,  5.77s/it]"
          ]
        },
        {
          "metadata": {
            "tags": null
          },
          "name": "stdout",
          "output_type": "stream",
          "text": [
            "['nigger', 'nigga', 'mud shark', 'chink', 'gook', 'spic', 'wetback', 'kike', 'sand nigger', 'towelhead', 'beaner', 'cracker', 'honky', 'jungle bunny', 'redskin', 'bitch', 'slut', 'whore', 'cunt', 'feminazi', 'dyke', 'tranny', 'she-male', 'gold digger', 'skank', 'faggot', 'fag', 'homo', 'queer', 'carpet muncher', 'pillow biter', 'fudge packer', 'lesbo', 'Christ killer', 'jihadist', 'infidel', 'kike', 'raghead', 'heathen', 'pagan', 'Bible basher', 'papist', 'kaffir', 'retard', 'cripple', 'spaz', 'mongoloid', 'psycho', 'nutjob', 'lame', 'vegetable', 'deaf-mute', 'imbecile', 'yank', 'brit', 'kraut', 'jap', 'commie', 'ruski', 'paki', 'wop', 'dago', 'polack', 'fatty', 'lardass', 'twig', 'beanpole', 'ugly', 'four-eyes', 'baldie', 'geek', 'nerd', 'pimple-face']\n",
            "['<user>', 'respect', 'the', 'based', 'nigress', '😤', 'he', 'would', 'be', 'nothing', 'without', 'her']\n",
            "['<user>', 'respect', 'the', 'based', 'nigress', '😤', 'he', 'wOuLD', 'be', 'nothing', 'without', 'her']\n",
            "{'would': 'wOuLD'}\n"
          ]
        },
        {
          "metadata": {
            "tags": null
          },
          "name": "stderr",
          "output_type": "stream",
          "text": [
            "  7%|▋         | 141/1924 [31:06<6:38:20, 13.40s/it]"
          ]
        },
        {
          "metadata": {
            "tags": null
          },
          "name": "stdout",
          "output_type": "stream",
          "text": [
            "['nigger', 'nigga', 'mud shark', 'chink', 'gook', 'spic', 'wetback', 'kike', 'sand nigger', 'towelhead', 'beaner', 'cracker', 'honky', 'jungle bunny', 'redskin', 'bitch', 'slut', 'whore', 'cunt', 'feminazi', 'dyke', 'tranny', 'she-male', 'gold digger', 'skank', 'faggot', 'fag', 'homo', 'queer', 'carpet muncher', 'pillow biter', 'fudge packer', 'lesbo', 'Christ killer', 'jihadist', 'infidel', 'kike', 'raghead', 'heathen', 'pagan', 'Bible basher', 'papist', 'kaffir', 'retard', 'cripple', 'spaz', 'mongoloid', 'psycho', 'nutjob', 'lame', 'vegetable', 'deaf-mute', 'imbecile', 'yank', 'brit', 'kraut', 'jap', 'commie', 'ruski', 'paki', 'wop', 'dago', 'polack', 'fatty', 'lardass', 'twig', 'beanpole', 'ugly', 'four-eyes', 'baldie', 'geek', 'nerd', 'pimple-face']\n",
            "['i', 'didn', '’', 't', 'get', 'a', 'pedicure', 'last', 'rome', 'i', 'got', 'my', 'nails', 'done', 'n', 'now', 'my', 'feet', 'look', 'brazy', 'this', 'is', 'ghetto']\n",
            "['i', 'DIDN', '’', 't', 'Gett', 'a', 'pedicure', 'last', 'rome', 'i', 'got', 'my', 'nails', 'done', 'n', 'now', 'my', 'feet', 'look', 'brzy', 'this', 'is', 'ghetto']\n",
            "{'nails': 'nails', 'didn': 'DIDN', 'brazy': 'brzy', 'get': 'Gett'}\n"
          ]
        },
        {
          "metadata": {
            "tags": null
          },
          "name": "stderr",
          "output_type": "stream",
          "text": [
            "  8%|▊         | 146/1924 [32:21<7:28:17, 15.13s/it]"
          ]
        },
        {
          "metadata": {
            "tags": null
          },
          "name": "stdout",
          "output_type": "stream",
          "text": [
            "['nigger', 'nigga', 'mud shark', 'chink', 'gook', 'spic', 'wetback', 'kike', 'sand nigger', 'towelhead', 'beaner', 'cracker', 'honky', 'jungle bunny', 'redskin', 'bitch', 'slut', 'whore', 'cunt', 'feminazi', 'dyke', 'tranny', 'she-male', 'gold digger', 'skank', 'faggot', 'fag', 'homo', 'queer', 'carpet muncher', 'pillow biter', 'fudge packer', 'lesbo', 'Christ killer', 'jihadist', 'infidel', 'kike', 'raghead', 'heathen', 'pagan', 'Bible basher', 'papist', 'kaffir', 'retard', 'cripple', 'spaz', 'mongoloid', 'psycho', 'nutjob', 'lame', 'vegetable', 'deaf-mute', 'imbecile', 'yank', 'brit', 'kraut', 'jap', 'commie', 'ruski', 'paki', 'wop', 'dago', 'polack', 'fatty', 'lardass', 'twig', 'beanpole', 'ugly', 'four-eyes', 'baldie', 'geek', 'nerd', 'pimple-face']\n",
            "['<user>', '<user>', '<user>', 'no', 'one', 'wants', 'to', 'leave', 'one', 'homeland', 'and', 'go', 'somewhere', 'because', 'they', 'were', 'forced', 'thats', 'why', 'they', 'had', 'to', 'leave', 'their', 'home', 'land', 'and', 'roam', 'like', 'refugee']\n",
            "['<user>', '<user>', '<user>', 'no', 'ONEEEEEE', 'wants', 'to', 'leave', 'one', 'homeland', 'and', 'go', 'Somewhere', 'because', 'they', 'weree', 'forced', 'thats', 'why', 'they', 'had', 'to', 'leave', 'their', 'home', 'land', 'Annd', 'roam', 'like', 'reefuge']\n",
            "{'refugee': 'reefuge', 'and': 'Annd', 'somewhere': 'Somewhere', 'one': 'ONEEEEEE', 'were': 'weree'}\n"
          ]
        },
        {
          "metadata": {
            "tags": null
          },
          "name": "stderr",
          "output_type": "stream",
          "text": [
            "  8%|▊         | 151/1924 [33:27<6:59:11, 14.19s/it]"
          ]
        },
        {
          "metadata": {
            "tags": null
          },
          "name": "stdout",
          "output_type": "stream",
          "text": [
            "['nigger', 'nigga', 'mud shark', 'chink', 'gook', 'spic', 'wetback', 'kike', 'sand nigger', 'towelhead', 'beaner', 'cracker', 'honky', 'jungle bunny', 'redskin', 'bitch', 'slut', 'whore', 'cunt', 'feminazi', 'dyke', 'tranny', 'she-male', 'gold digger', 'skank', 'faggot', 'fag', 'homo', 'queer', 'carpet muncher', 'pillow biter', 'fudge packer', 'lesbo', 'Christ killer', 'jihadist', 'infidel', 'kike', 'raghead', 'heathen', 'pagan', 'Bible basher', 'papist', 'kaffir', 'retard', 'cripple', 'spaz', 'mongoloid', 'psycho', 'nutjob', 'lame', 'vegetable', 'deaf-mute', 'imbecile', 'yank', 'brit', 'kraut', 'jap', 'commie', 'ruski', 'paki', 'wop', 'dago', 'polack', 'fatty', 'lardass', 'twig', 'beanpole', 'ugly', 'four-eyes', 'baldie', 'geek', 'nerd', 'pimple-face']\n",
            "['<user>', 'aloha', 'akbatman', 'she', 'not', 'the', 'immigrant', 'we', 'need', 'or', 'the', 'immigrant', 'we', 'want', 'but', 'she', 'the', 'immigrant', 'we', 'have', 'got', 'so', 'let', 'beat', 'her', 'because', 'she', 'can', 'take', 'it']\n",
            "['<user>', 'aloha', 'akbatman', 'Shiiie', 'not', 'THEEE', 'immigrant', 'we', 'NEEED', 'or', 'the', 'immigrant', 'we', 'want', 'but', 'shue', 'theeeee', 'immigrant', 'we', 'have', 'got', 'so', 'let', 'beat', 'her', 'because', 'she', 'can', 'take', 'it']\n",
            "{'the': 'theeeee', 'need': 'NEEED', 'she': 'shue'}\n"
          ]
        },
        {
          "metadata": {
            "tags": null
          },
          "name": "stderr",
          "output_type": "stream",
          "text": [
            "  8%|▊         | 156/1924 [34:57<8:24:24, 17.12s/it] "
          ]
        },
        {
          "metadata": {
            "tags": null
          },
          "name": "stdout",
          "output_type": "stream",
          "text": [
            "['nigger', 'nigga', 'mud shark', 'chink', 'gook', 'spic', 'wetback', 'kike', 'sand nigger', 'towelhead', 'beaner', 'cracker', 'honky', 'jungle bunny', 'redskin', 'bitch', 'slut', 'whore', 'cunt', 'feminazi', 'dyke', 'tranny', 'she-male', 'gold digger', 'skank', 'faggot', 'fag', 'homo', 'queer', 'carpet muncher', 'pillow biter', 'fudge packer', 'lesbo', 'Christ killer', 'jihadist', 'infidel', 'kike', 'raghead', 'heathen', 'pagan', 'Bible basher', 'papist', 'kaffir', 'retard', 'cripple', 'spaz', 'mongoloid', 'psycho', 'nutjob', 'lame', 'vegetable', 'deaf-mute', 'imbecile', 'yank', 'brit', 'kraut', 'jap', 'commie', 'ruski', 'paki', 'wop', 'dago', 'polack', 'fatty', 'lardass', 'twig', 'beanpole', 'ugly', 'four-eyes', 'baldie', 'geek', 'nerd', 'pimple-face']\n",
            "['i', 'actually', 'bring', 'the', 'average', 'dance', 'skill', 'of', 'white', 'people', 'down', 'two', 'notches']\n",
            "['i', 'actually', 'bring', 'Thie', 'average', 'dance', 'skill', 'of', 'whitee', 'PEOPLE', 'down', 'two', 'notches']\n",
            "{'the': 'Thie', 'white': 'whitee', 'people': 'PEOPLE'}\n"
          ]
        },
        {
          "metadata": {
            "tags": null
          },
          "name": "stderr",
          "output_type": "stream",
          "text": [
            "  8%|▊         | 161/1924 [36:19<7:07:51, 14.56s/it]"
          ]
        },
        {
          "metadata": {
            "tags": null
          },
          "name": "stdout",
          "output_type": "stream",
          "text": [
            "['nigger', 'nigga', 'mud shark', 'chink', 'gook', 'spic', 'wetback', 'kike', 'sand nigger', 'towelhead', 'beaner', 'cracker', 'honky', 'jungle bunny', 'redskin', 'bitch', 'slut', 'whore', 'cunt', 'feminazi', 'dyke', 'tranny', 'she-male', 'gold digger', 'skank', 'faggot', 'fag', 'homo', 'queer', 'carpet muncher', 'pillow biter', 'fudge packer', 'lesbo', 'Christ killer', 'jihadist', 'infidel', 'kike', 'raghead', 'heathen', 'pagan', 'Bible basher', 'papist', 'kaffir', 'retard', 'cripple', 'spaz', 'mongoloid', 'psycho', 'nutjob', 'lame', 'vegetable', 'deaf-mute', 'imbecile', 'yank', 'brit', 'kraut', 'jap', 'commie', 'ruski', 'paki', 'wop', 'dago', 'polack', 'fatty', 'lardass', 'twig', 'beanpole', 'ugly', 'four-eyes', 'baldie', 'geek', 'nerd', 'pimple-face']\n",
            "['<user>', '<user>', '<user>', '<user>', 'till', 'implementation', 'lot', 'of', 'hindu', 'sikh', 'sindhi', 'killed', 'and', 'raped', 'why', 'our', 'indian', 'secular', 'gang', 'mum']\n",
            "['<user>', '<user>', '<user>', '<user>', 'till', 'implementation', 'lot', 'of', 'hindu', 'sikh', 'sindhi', 'killed', 'and', 'raped', 'why', 'our', 'indian', 'secular', 'Gang', 'mum']\n",
            "{'gang': 'Gang'}\n"
          ]
        },
        {
          "metadata": {
            "tags": null
          },
          "name": "stderr",
          "output_type": "stream",
          "text": [
            "  9%|▊         | 166/1924 [36:52<3:47:22,  7.76s/it]"
          ]
        },
        {
          "metadata": {
            "tags": null
          },
          "name": "stdout",
          "output_type": "stream",
          "text": [
            "['nigger', 'nigga', 'mud shark', 'chink', 'gook', 'spic', 'wetback', 'kike', 'sand nigger', 'towelhead', 'beaner', 'cracker', 'honky', 'jungle bunny', 'redskin', 'bitch', 'slut', 'whore', 'cunt', 'feminazi', 'dyke', 'tranny', 'she-male', 'gold digger', 'skank', 'faggot', 'fag', 'homo', 'queer', 'carpet muncher', 'pillow biter', 'fudge packer', 'lesbo', 'Christ killer', 'jihadist', 'infidel', 'kike', 'raghead', 'heathen', 'pagan', 'Bible basher', 'papist', 'kaffir', 'retard', 'cripple', 'spaz', 'mongoloid', 'psycho', 'nutjob', 'lame', 'vegetable', 'deaf-mute', 'imbecile', 'yank', 'brit', 'kraut', 'jap', 'commie', 'ruski', 'paki', 'wop', 'dago', 'polack', 'fatty', 'lardass', 'twig', 'beanpole', 'ugly', 'four-eyes', 'baldie', 'geek', 'nerd', 'pimple-face']\n",
            "['i', 'want', 'you', 'goddamned', 'boomer', 'cucks', 'to', 'tell', 'me', 'how', 'we', 'are', 'all', 'the', 'same', 'and', 'beaners', 'are', 'natural', 'conservatives']\n",
            "['i', 'WANt', 'you', 'goddamned', 'boomer', 'CUCKS', 'to', 'tell', 'me', 'how', 'we', 'arrrrre', 'all', 'the', 'same', 'and', 'beaners', 'are', 'natural', 'CONservatives']\n",
            "{'are': 'arrrrre', 'conservatives': 'CONservatives', 'cucks': 'CUCKS', 'want': 'WANt'}\n"
          ]
        },
        {
          "metadata": {
            "tags": null
          },
          "name": "stderr",
          "output_type": "stream",
          "text": [
            "  9%|▉         | 171/1924 [38:14<7:04:55, 14.54s/it]"
          ]
        },
        {
          "metadata": {
            "tags": null
          },
          "name": "stdout",
          "output_type": "stream",
          "text": [
            "['nigger', 'nigga', 'mud shark', 'chink', 'gook', 'spic', 'wetback', 'kike', 'sand nigger', 'towelhead', 'beaner', 'cracker', 'honky', 'jungle bunny', 'redskin', 'bitch', 'slut', 'whore', 'cunt', 'feminazi', 'dyke', 'tranny', 'she-male', 'gold digger', 'skank', 'faggot', 'fag', 'homo', 'queer', 'carpet muncher', 'pillow biter', 'fudge packer', 'lesbo', 'Christ killer', 'jihadist', 'infidel', 'kike', 'raghead', 'heathen', 'pagan', 'Bible basher', 'papist', 'kaffir', 'retard', 'cripple', 'spaz', 'mongoloid', 'psycho', 'nutjob', 'lame', 'vegetable', 'deaf-mute', 'imbecile', 'yank', 'brit', 'kraut', 'jap', 'commie', 'ruski', 'paki', 'wop', 'dago', 'polack', 'fatty', 'lardass', 'twig', 'beanpole', 'ugly', 'four-eyes', 'baldie', 'geek', 'nerd', 'pimple-face']\n",
            "['but', 'i', 'do', 'remember', 'the', 'time', 'two', 'white', 'boys', 'raped', 'murdered', 'my', 'niece', 'then', 'torched', 'her', 'body', 'then', 'bragged', 'about', 'it', 'on', 'facebook', 'does', 'that', 'count', 'oh', 'but', 'she', 'was', 'white', 'too', 'so', 'perhaps', 'not']\n",
            "['ButT', 'i', 'do', 'remember', 'the', 'time', 'two', 'white', 'Boyes', 'raped', 'murdered', 'my', 'nIcE', 'then', 'torched', 'her', 'body', 'then', 'bragged', 'about', 'it', 'on', 'facebook', 'doeS', 'that', 'CouNt', 'oh', 'but', 'she', 'was', 'white', 'tOOOo', 'so', 'perhaps', 'not']\n",
            "{'niece': 'nIcE', 'too': 'tOOOo', 'but': 'ButT', 'count': 'CouNt', 'does': 'doeS', 'boys': 'Boyes'}\n"
          ]
        },
        {
          "metadata": {
            "tags": null
          },
          "name": "stderr",
          "output_type": "stream",
          "text": [
            "  9%|▉         | 176/1924 [39:38<6:20:45, 13.07s/it]"
          ]
        },
        {
          "metadata": {
            "tags": null
          },
          "name": "stdout",
          "output_type": "stream",
          "text": [
            "['nigger', 'nigga', 'mud shark', 'chink', 'gook', 'spic', 'wetback', 'kike', 'sand nigger', 'towelhead', 'beaner', 'cracker', 'honky', 'jungle bunny', 'redskin', 'bitch', 'slut', 'whore', 'cunt', 'feminazi', 'dyke', 'tranny', 'she-male', 'gold digger', 'skank', 'faggot', 'fag', 'homo', 'queer', 'carpet muncher', 'pillow biter', 'fudge packer', 'lesbo', 'Christ killer', 'jihadist', 'infidel', 'kike', 'raghead', 'heathen', 'pagan', 'Bible basher', 'papist', 'kaffir', 'retard', 'cripple', 'spaz', 'mongoloid', 'psycho', 'nutjob', 'lame', 'vegetable', 'deaf-mute', 'imbecile', 'yank', 'brit', 'kraut', 'jap', 'commie', 'ruski', 'paki', 'wop', 'dago', 'polack', 'fatty', 'lardass', 'twig', 'beanpole', 'ugly', 'four-eyes', 'baldie', 'geek', 'nerd', 'pimple-face']\n",
            "['hate', 'when', 'females', 'try', 'so', 'hard', 'to', 'be', 'niggas']\n",
            "['hate', 'When', 'females', 'try', 'so', 'hard', 'to', 'be', 'nigas']\n",
            "{'when': 'When', 'niggas': 'nigas'}\n"
          ]
        },
        {
          "metadata": {
            "tags": null
          },
          "name": "stderr",
          "output_type": "stream",
          "text": [
            "  9%|▉         | 181/1924 [40:58<7:44:00, 15.97s/it]"
          ]
        },
        {
          "metadata": {
            "tags": null
          },
          "name": "stdout",
          "output_type": "stream",
          "text": [
            "['nigger', 'nigga', 'mud shark', 'chink', 'gook', 'spic', 'wetback', 'kike', 'sand nigger', 'towelhead', 'beaner', 'cracker', 'honky', 'jungle bunny', 'redskin', 'bitch', 'slut', 'whore', 'cunt', 'feminazi', 'dyke', 'tranny', 'she-male', 'gold digger', 'skank', 'faggot', 'fag', 'homo', 'queer', 'carpet muncher', 'pillow biter', 'fudge packer', 'lesbo', 'Christ killer', 'jihadist', 'infidel', 'kike', 'raghead', 'heathen', 'pagan', 'Bible basher', 'papist', 'kaffir', 'retard', 'cripple', 'spaz', 'mongoloid', 'psycho', 'nutjob', 'lame', 'vegetable', 'deaf-mute', 'imbecile', 'yank', 'brit', 'kraut', 'jap', 'commie', 'ruski', 'paki', 'wop', 'dago', 'polack', 'fatty', 'lardass', 'twig', 'beanpole', 'ugly', 'four-eyes', 'baldie', 'geek', 'nerd', 'pimple-face']\n",
            "['society', 'is', 'sukin', 'on', 'your', 'dick', 'and', 'since', 'i', 'got', 'a', 'pussy', 'i', 'am', 'a', 'bitch']\n",
            "['society', 'is', 'sukin', 'on', 'your', 'dick', 'and', 'since', 'i', 'got', 'a', 'pussy', 'i', 'am', 'a', 'bItcHHH']\n",
            "{'bitch': 'bItcHHH'}\n"
          ]
        },
        {
          "metadata": {
            "tags": null
          },
          "name": "stderr",
          "output_type": "stream",
          "text": [
            " 10%|▉         | 185/1924 [41:24<4:09:08,  8.60s/it]"
          ]
        },
        {
          "metadata": {
            "tags": null
          },
          "name": "stdout",
          "output_type": "stream",
          "text": [
            "['nigger', 'nigga', 'mud shark', 'chink', 'gook', 'spic', 'wetback', 'kike', 'sand nigger', 'towelhead', 'beaner', 'cracker', 'honky', 'jungle bunny', 'redskin', 'bitch', 'slut', 'whore', 'cunt', 'feminazi', 'dyke', 'tranny', 'she-male', 'gold digger', 'skank', 'faggot', 'fag', 'homo', 'queer', 'carpet muncher', 'pillow biter', 'fudge packer', 'lesbo', 'Christ killer', 'jihadist', 'infidel', 'kike', 'raghead', 'heathen', 'pagan', 'Bible basher', 'papist', 'kaffir', 'retard', 'cripple', 'spaz', 'mongoloid', 'psycho', 'nutjob', 'lame', 'vegetable', 'deaf-mute', 'imbecile', 'yank', 'brit', 'kraut', 'jap', 'commie', 'ruski', 'paki', 'wop', 'dago', 'polack', 'fatty', 'lardass', 'twig', 'beanpole', 'ugly', 'four-eyes', 'baldie', 'geek', 'nerd', 'pimple-face']\n",
            "['can', 'not', 'do', 'politics', 'offline', 'when', 'degenerate', 'scum', 'like', 'you', 'control', 'the', 'offline', 'that', 'why', 'we', 'have', 'to', 'siege', 'kike', 'shill']\n",
            "['can', 'not', 'do', 'politics', 'offline', 'when', 'degenerate', 'scum', 'like', 'you', 'control', 'the', 'offline', 'that', 'why', 'we', 'have', 'to', 'siege', 'kike', 'shill']\n",
            "{'kike': 'kike'}\n"
          ]
        },
        {
          "metadata": {
            "tags": null
          },
          "name": "stderr",
          "output_type": "stream",
          "text": [
            " 10%|▉         | 191/1924 [42:25<4:08:20,  8.60s/it]"
          ]
        },
        {
          "metadata": {
            "tags": null
          },
          "name": "stdout",
          "output_type": "stream",
          "text": [
            "['nigger', 'nigga', 'mud shark', 'chink', 'gook', 'spic', 'wetback', 'kike', 'sand nigger', 'towelhead', 'beaner', 'cracker', 'honky', 'jungle bunny', 'redskin', 'bitch', 'slut', 'whore', 'cunt', 'feminazi', 'dyke', 'tranny', 'she-male', 'gold digger', 'skank', 'faggot', 'fag', 'homo', 'queer', 'carpet muncher', 'pillow biter', 'fudge packer', 'lesbo', 'Christ killer', 'jihadist', 'infidel', 'kike', 'raghead', 'heathen', 'pagan', 'Bible basher', 'papist', 'kaffir', 'retard', 'cripple', 'spaz', 'mongoloid', 'psycho', 'nutjob', 'lame', 'vegetable', 'deaf-mute', 'imbecile', 'yank', 'brit', 'kraut', 'jap', 'commie', 'ruski', 'paki', 'wop', 'dago', 'polack', 'fatty', 'lardass', 'twig', 'beanpole', 'ugly', 'four-eyes', 'baldie', 'geek', 'nerd', 'pimple-face']\n",
            "['fuck', 'the', 'community', 'keep', 'the', 'muzzies', 'on', 'a', 'fucking', 'leash', 'i', 'consider', 'them', 'filthy']\n",
            "['fuck', 'THe', 'community', 'keep', 'the', 'muzzies', 'on', 'a', 'fucking', 'leash', 'i', 'consider', 'them', 'filthi']\n",
            "{'the': 'THe', 'filthy': 'filthi'}\n"
          ]
        },
        {
          "metadata": {
            "tags": null
          },
          "name": "stderr",
          "output_type": "stream",
          "text": [
            " 10%|█         | 196/1924 [43:15<4:17:53,  8.95s/it]"
          ]
        },
        {
          "metadata": {
            "tags": null
          },
          "name": "stdout",
          "output_type": "stream",
          "text": [
            "['nigger', 'nigga', 'mud shark', 'chink', 'gook', 'spic', 'wetback', 'kike', 'sand nigger', 'towelhead', 'beaner', 'cracker', 'honky', 'jungle bunny', 'redskin', 'bitch', 'slut', 'whore', 'cunt', 'feminazi', 'dyke', 'tranny', 'she-male', 'gold digger', 'skank', 'faggot', 'fag', 'homo', 'queer', 'carpet muncher', 'pillow biter', 'fudge packer', 'lesbo', 'Christ killer', 'jihadist', 'infidel', 'kike', 'raghead', 'heathen', 'pagan', 'Bible basher', 'papist', 'kaffir', 'retard', 'cripple', 'spaz', 'mongoloid', 'psycho', 'nutjob', 'lame', 'vegetable', 'deaf-mute', 'imbecile', 'yank', 'brit', 'kraut', 'jap', 'commie', 'ruski', 'paki', 'wop', 'dago', 'polack', 'fatty', 'lardass', 'twig', 'beanpole', 'ugly', 'four-eyes', 'baldie', 'geek', 'nerd', 'pimple-face']\n",
            "['<user>', 'there', 'was', 'no', 'moslem', 'ban']\n",
            "['<user>', 'There', 'was', 'no', 'MOSLEM', 'ban']\n",
            "{'there': 'There', 'moslem': 'MOSLEM'}\n"
          ]
        },
        {
          "metadata": {
            "tags": null
          },
          "name": "stderr",
          "output_type": "stream",
          "text": [
            " 10%|█         | 200/1924 [43:42<3:11:34,  6.67s/it]"
          ]
        },
        {
          "metadata": {
            "tags": null
          },
          "name": "stdout",
          "output_type": "stream",
          "text": [
            "['nigger', 'nigga', 'mud shark', 'chink', 'gook', 'spic', 'wetback', 'kike', 'sand nigger', 'towelhead', 'beaner', 'cracker', 'honky', 'jungle bunny', 'redskin', 'bitch', 'slut', 'whore', 'cunt', 'feminazi', 'dyke', 'tranny', 'she-male', 'gold digger', 'skank', 'faggot', 'fag', 'homo', 'queer', 'carpet muncher', 'pillow biter', 'fudge packer', 'lesbo', 'Christ killer', 'jihadist', 'infidel', 'kike', 'raghead', 'heathen', 'pagan', 'Bible basher', 'papist', 'kaffir', 'retard', 'cripple', 'spaz', 'mongoloid', 'psycho', 'nutjob', 'lame', 'vegetable', 'deaf-mute', 'imbecile', 'yank', 'brit', 'kraut', 'jap', 'commie', 'ruski', 'paki', 'wop', 'dago', 'polack', 'fatty', 'lardass', 'twig', 'beanpole', 'ugly', 'four-eyes', 'baldie', 'geek', 'nerd', 'pimple-face']\n",
            "['<user>', '<user>', '<user>', 'only', 'a', 'person', 'with', 'considerable', 'privilege', 'could', 'reasonably', 'write', 'in', 'a', 'candidate', 'out', 'of', 'pettiness', 'when', 'the', 'alternative', 'is', 'trump', 'trust', 'and', 'believe', 'that', 'my', 'queer', 'ass', 'does', 'not', 'have', 'that', 'luxury', 'women', 'poc', 'immigrants', 'etc', 'do', 'not', 'have', 'that', 'luxury', 'grow', 'up']\n",
            "['<user>', '<user>', '<user>', 'only', 'a', 'person', 'with', 'considerable', 'privilege', 'could', 'reasonably', 'write', 'in', 'a', 'candidate', 'out', 'of', 'pettiness', 'when', 'the', 'alternative', 'is', 'trump', 'trust', 'and', 'believe', 'that', 'my', 'quer', 'ass', 'does', 'not', 'have', 'that', 'luxury', 'women', 'poc', 'immigrants', 'etc', 'do', 'not', 'have', 'that', 'luxury', 'grow', 'up']\n",
            "{'queer': 'quer'}\n"
          ]
        },
        {
          "metadata": {
            "tags": null
          },
          "name": "stderr",
          "output_type": "stream",
          "text": [
            " 11%|█         | 205/1924 [44:00<2:03:36,  4.31s/it]"
          ]
        },
        {
          "metadata": {
            "tags": null
          },
          "name": "stdout",
          "output_type": "stream",
          "text": [
            "['nigger', 'nigga', 'mud shark', 'chink', 'gook', 'spic', 'wetback', 'kike', 'sand nigger', 'towelhead', 'beaner', 'cracker', 'honky', 'jungle bunny', 'redskin', 'bitch', 'slut', 'whore', 'cunt', 'feminazi', 'dyke', 'tranny', 'she-male', 'gold digger', 'skank', 'faggot', 'fag', 'homo', 'queer', 'carpet muncher', 'pillow biter', 'fudge packer', 'lesbo', 'Christ killer', 'jihadist', 'infidel', 'kike', 'raghead', 'heathen', 'pagan', 'Bible basher', 'papist', 'kaffir', 'retard', 'cripple', 'spaz', 'mongoloid', 'psycho', 'nutjob', 'lame', 'vegetable', 'deaf-mute', 'imbecile', 'yank', 'brit', 'kraut', 'jap', 'commie', 'ruski', 'paki', 'wop', 'dago', 'polack', 'fatty', 'lardass', 'twig', 'beanpole', 'ugly', 'four-eyes', 'baldie', 'geek', 'nerd', 'pimple-face']\n",
            "['bitches', 'broken', 'hearts']\n",
            "['bitches', 'broken', 'hEaRts']\n",
            "{'hearts': 'hEaRts'}\n"
          ]
        },
        {
          "metadata": {
            "tags": null
          },
          "name": "stderr",
          "output_type": "stream",
          "text": [
            " 11%|█         | 210/1924 [45:20<6:45:52, 14.21s/it]"
          ]
        },
        {
          "metadata": {
            "tags": null
          },
          "name": "stdout",
          "output_type": "stream",
          "text": [
            "['nigger', 'nigga', 'mud shark', 'chink', 'gook', 'spic', 'wetback', 'kike', 'sand nigger', 'towelhead', 'beaner', 'cracker', 'honky', 'jungle bunny', 'redskin', 'bitch', 'slut', 'whore', 'cunt', 'feminazi', 'dyke', 'tranny', 'she-male', 'gold digger', 'skank', 'faggot', 'fag', 'homo', 'queer', 'carpet muncher', 'pillow biter', 'fudge packer', 'lesbo', 'Christ killer', 'jihadist', 'infidel', 'kike', 'raghead', 'heathen', 'pagan', 'Bible basher', 'papist', 'kaffir', 'retard', 'cripple', 'spaz', 'mongoloid', 'psycho', 'nutjob', 'lame', 'vegetable', 'deaf-mute', 'imbecile', 'yank', 'brit', 'kraut', 'jap', 'commie', 'ruski', 'paki', 'wop', 'dago', 'polack', 'fatty', 'lardass', 'twig', 'beanpole', 'ugly', 'four-eyes', 'baldie', 'geek', 'nerd', 'pimple-face']\n",
            "['you', 'deserve', 'death', 'if', 'you', 'voted', 'yes', 'cruz', 'that', 'dumbass', 'spic', 'was', 'destined', 'to', 'lose']\n",
            "['you', 'deserve', 'death', 'if', 'you', 'voted', 'yes', 'cruz', 'that', 'dumbass', 'spc', 'was', 'destined', 'to', 'lose']\n",
            "{'spic': 'spc'}\n"
          ]
        },
        {
          "metadata": {
            "tags": null
          },
          "name": "stderr",
          "output_type": "stream",
          "text": [
            " 11%|█         | 216/1924 [46:01<4:31:02,  9.52s/it]"
          ]
        },
        {
          "metadata": {
            "tags": null
          },
          "name": "stdout",
          "output_type": "stream",
          "text": [
            "['nigger', 'nigga', 'mud shark', 'chink', 'gook', 'spic', 'wetback', 'kike', 'sand nigger', 'towelhead', 'beaner', 'cracker', 'honky', 'jungle bunny', 'redskin', 'bitch', 'slut', 'whore', 'cunt', 'feminazi', 'dyke', 'tranny', 'she-male', 'gold digger', 'skank', 'faggot', 'fag', 'homo', 'queer', 'carpet muncher', 'pillow biter', 'fudge packer', 'lesbo', 'Christ killer', 'jihadist', 'infidel', 'kike', 'raghead', 'heathen', 'pagan', 'Bible basher', 'papist', 'kaffir', 'retard', 'cripple', 'spaz', 'mongoloid', 'psycho', 'nutjob', 'lame', 'vegetable', 'deaf-mute', 'imbecile', 'yank', 'brit', 'kraut', 'jap', 'commie', 'ruski', 'paki', 'wop', 'dago', 'polack', 'fatty', 'lardass', 'twig', 'beanpole', 'ugly', 'four-eyes', 'baldie', 'geek', 'nerd', 'pimple-face']\n",
            "['<user>', 'the', 'hero', 'worship', 'echo', 'chamber', 'they', 'will', 'never', 'admit', 'that', 'their', 'hero', 'could', 'do', 'any', 'wrong', 'anything', 'you', 'bring', 'up', 'is', 'not', 'relevant', 'or', 'a', 'feminazi', 'hit', 'price', 'or', 'part', 'of', 'a', 'general', 'attack', 'on', 'straight', 'white', 'men', 'in', 'leadership', 'it', 'sickening']\n",
            "['<user>', 'the', 'hero', 'worship', 'echo', 'chamber', 'they', 'will', 'never', 'admit', 'that', 'their', 'hero', 'could', 'do', 'any', 'wrong', 'anything', 'you', 'bring', 'up', 'is', 'not', 'relevant', 'or', 'a', 'femiNAZI', 'hit', 'price', 'or', 'part', 'of', 'a', 'general', 'attack', 'on', 'straight', 'white', 'men', 'in', 'leadership', 'it', 'sickening']\n",
            "{'feminazi': 'femiNAZI'}\n"
          ]
        },
        {
          "metadata": {
            "tags": null
          },
          "name": "stderr",
          "output_type": "stream",
          "text": [
            " 11%|█▏        | 221/1924 [48:03<7:47:20, 16.47s/it] "
          ]
        },
        {
          "metadata": {
            "tags": null
          },
          "name": "stdout",
          "output_type": "stream",
          "text": [
            "['nigger', 'nigga', 'mud shark', 'chink', 'gook', 'spic', 'wetback', 'kike', 'sand nigger', 'towelhead', 'beaner', 'cracker', 'honky', 'jungle bunny', 'redskin', 'bitch', 'slut', 'whore', 'cunt', 'feminazi', 'dyke', 'tranny', 'she-male', 'gold digger', 'skank', 'faggot', 'fag', 'homo', 'queer', 'carpet muncher', 'pillow biter', 'fudge packer', 'lesbo', 'Christ killer', 'jihadist', 'infidel', 'kike', 'raghead', 'heathen', 'pagan', 'Bible basher', 'papist', 'kaffir', 'retard', 'cripple', 'spaz', 'mongoloid', 'psycho', 'nutjob', 'lame', 'vegetable', 'deaf-mute', 'imbecile', 'yank', 'brit', 'kraut', 'jap', 'commie', 'ruski', 'paki', 'wop', 'dago', 'polack', 'fatty', 'lardass', 'twig', 'beanpole', 'ugly', 'four-eyes', 'baldie', 'geek', 'nerd', 'pimple-face']\n",
            "['good', 'my', 'people', 'are', 'insufferable', 'you', 'can', 'tell', 'from', 'the', 'exchange', 'between', 'me', 'and', 'paki', 'reactionary']\n",
            "['good', 'my', 'people', 'are', 'insufferable', 'you', 'can', 'tell', 'from', 'the', 'exchange', 'between', 'me', 'and', 'PAKI', 'reactionary']\n",
            "{'paki': 'PAKI'}\n"
          ]
        },
        {
          "metadata": {
            "tags": null
          },
          "name": "stderr",
          "output_type": "stream",
          "text": [
            " 12%|█▏        | 225/1924 [48:22<3:43:45,  7.90s/it]"
          ]
        },
        {
          "metadata": {
            "tags": null
          },
          "name": "stdout",
          "output_type": "stream",
          "text": [
            "['nigger', 'nigga', 'mud shark', 'chink', 'gook', 'spic', 'wetback', 'kike', 'sand nigger', 'towelhead', 'beaner', 'cracker', 'honky', 'jungle bunny', 'redskin', 'bitch', 'slut', 'whore', 'cunt', 'feminazi', 'dyke', 'tranny', 'she-male', 'gold digger', 'skank', 'faggot', 'fag', 'homo', 'queer', 'carpet muncher', 'pillow biter', 'fudge packer', 'lesbo', 'Christ killer', 'jihadist', 'infidel', 'kike', 'raghead', 'heathen', 'pagan', 'Bible basher', 'papist', 'kaffir', 'retard', 'cripple', 'spaz', 'mongoloid', 'psycho', 'nutjob', 'lame', 'vegetable', 'deaf-mute', 'imbecile', 'yank', 'brit', 'kraut', 'jap', 'commie', 'ruski', 'paki', 'wop', 'dago', 'polack', 'fatty', 'lardass', 'twig', 'beanpole', 'ugly', 'four-eyes', 'baldie', 'geek', 'nerd', 'pimple-face']\n",
            "['niggas', 'looking', 'for', 'love', 'we', 'need', 'to', 'be', 'looking', 'for', 'women', 'like', 'mary', 'j', 'blige', 'she', 'been', 'looking', 'for', 'real', 'love', 'since', 'the', '<number>']\n",
            "['niggas', 'lOoKINg', 'for', 'love', 'we', 'need', 'to', 'be', 'lOoKINg', 'for', 'women', 'like', 'mary', 'j', 'blige', 'she', 'been', 'looking', 'for', 'real', 'love', 'since', 'the', '<number>']\n",
            "{'looking': 'lOoKINg'}\n"
          ]
        },
        {
          "metadata": {
            "tags": null
          },
          "name": "stderr",
          "output_type": "stream",
          "text": [
            " 12%|█▏        | 231/1924 [49:08<3:35:39,  7.64s/it]"
          ]
        },
        {
          "metadata": {
            "tags": null
          },
          "name": "stdout",
          "output_type": "stream",
          "text": [
            "['nigger', 'nigga', 'mud shark', 'chink', 'gook', 'spic', 'wetback', 'kike', 'sand nigger', 'towelhead', 'beaner', 'cracker', 'honky', 'jungle bunny', 'redskin', 'bitch', 'slut', 'whore', 'cunt', 'feminazi', 'dyke', 'tranny', 'she-male', 'gold digger', 'skank', 'faggot', 'fag', 'homo', 'queer', 'carpet muncher', 'pillow biter', 'fudge packer', 'lesbo', 'Christ killer', 'jihadist', 'infidel', 'kike', 'raghead', 'heathen', 'pagan', 'Bible basher', 'papist', 'kaffir', 'retard', 'cripple', 'spaz', 'mongoloid', 'psycho', 'nutjob', 'lame', 'vegetable', 'deaf-mute', 'imbecile', 'yank', 'brit', 'kraut', 'jap', 'commie', 'ruski', 'paki', 'wop', 'dago', 'polack', 'fatty', 'lardass', 'twig', 'beanpole', 'ugly', 'four-eyes', 'baldie', 'geek', 'nerd', 'pimple-face']\n",
            "['the', 'best', 'thing', 'about', 'roseanne', '<number>', 'kosher', 'cuckservative', 'fake', 'right', 'destroyed', '<number>', 'everyone', 'js', 'reminded', 'that', 'everyone', 'is', 'quietly', 'aware', 'that', 'blacks', 'are', 'apes', '<number>', 'white', 'normies', 'once', 'again', 'have', 'something', 'they', 'love', 'ruined', 'and', 'taken', 'from', 'them', 'by', 'nigger', 'bullshit', 'nfl', 'starbucks', 'hero', 'movies', 'videogames', 'sitcoms', 'anti', 'black', 'rage', 'builds']\n",
            "['the', 'best', 'thing', 'about', 'roseanne', '<number>', 'kosher', 'cuckservative', 'fake', 'right', 'destroyed', '<number>', 'everyone', 'js', 'reminded', 'that', 'everyone', 'is', 'quietly', 'aware', 'that', 'blacks', 'are', 'apes', '<number>', 'white', 'normies', 'once', 'again', 'have', 'something', 'they', 'love', 'ruined', 'and', 'taken', 'from', 'them', 'by', 'Niger', 'bullshit', 'nfl', 'starbucks', 'hero', 'movies', 'videogames', 'sitcoms', 'anti', 'black', 'rage', 'builds']\n",
            "{'nigger': 'Niger'}\n"
          ]
        },
        {
          "metadata": {
            "tags": null
          },
          "name": "stderr",
          "output_type": "stream",
          "text": [
            " 12%|█▏        | 236/1924 [50:10<5:35:18, 11.92s/it]"
          ]
        },
        {
          "metadata": {
            "tags": null
          },
          "name": "stdout",
          "output_type": "stream",
          "text": [
            "['nigger', 'nigga', 'mud shark', 'chink', 'gook', 'spic', 'wetback', 'kike', 'sand nigger', 'towelhead', 'beaner', 'cracker', 'honky', 'jungle bunny', 'redskin', 'bitch', 'slut', 'whore', 'cunt', 'feminazi', 'dyke', 'tranny', 'she-male', 'gold digger', 'skank', 'faggot', 'fag', 'homo', 'queer', 'carpet muncher', 'pillow biter', 'fudge packer', 'lesbo', 'Christ killer', 'jihadist', 'infidel', 'kike', 'raghead', 'heathen', 'pagan', 'Bible basher', 'papist', 'kaffir', 'retard', 'cripple', 'spaz', 'mongoloid', 'psycho', 'nutjob', 'lame', 'vegetable', 'deaf-mute', 'imbecile', 'yank', 'brit', 'kraut', 'jap', 'commie', 'ruski', 'paki', 'wop', 'dago', 'polack', 'fatty', 'lardass', 'twig', 'beanpole', 'ugly', 'four-eyes', 'baldie', 'geek', 'nerd', 'pimple-face']\n",
            "['this', 'center', 'is', 'going', 'to', 'highlight', 'lack', 'violence', 'when', 'those', 'who', 'visit', 'get', 'robbed', 'raped', 'and', 'killed']\n",
            "['this', 'center', 'is', 'goInG', 'to', 'highlight', 'lack', 'violence', 'when', 'those', 'who', 'visit', 'gETt', 'ROBBED', 'raped', 'anddddd', 'killed']\n",
            "{'and': 'anddddd', 'get': 'gETt', 'robbed': 'ROBBED', 'going': 'goInG'}\n"
          ]
        },
        {
          "metadata": {
            "tags": null
          },
          "name": "stderr",
          "output_type": "stream",
          "text": [
            " 13%|█▎        | 241/1924 [50:59<4:20:04,  9.27s/it]"
          ]
        },
        {
          "metadata": {
            "tags": null
          },
          "name": "stdout",
          "output_type": "stream",
          "text": [
            "['nigger', 'nigga', 'mud shark', 'chink', 'gook', 'spic', 'wetback', 'kike', 'sand nigger', 'towelhead', 'beaner', 'cracker', 'honky', 'jungle bunny', 'redskin', 'bitch', 'slut', 'whore', 'cunt', 'feminazi', 'dyke', 'tranny', 'she-male', 'gold digger', 'skank', 'faggot', 'fag', 'homo', 'queer', 'carpet muncher', 'pillow biter', 'fudge packer', 'lesbo', 'Christ killer', 'jihadist', 'infidel', 'kike', 'raghead', 'heathen', 'pagan', 'Bible basher', 'papist', 'kaffir', 'retard', 'cripple', 'spaz', 'mongoloid', 'psycho', 'nutjob', 'lame', 'vegetable', 'deaf-mute', 'imbecile', 'yank', 'brit', 'kraut', 'jap', 'commie', 'ruski', 'paki', 'wop', 'dago', 'polack', 'fatty', 'lardass', 'twig', 'beanpole', 'ugly', 'four-eyes', 'baldie', 'geek', 'nerd', 'pimple-face']\n",
            "['if', 'money', 'was', 'grown', 'on', 'trees', 'women', 'would', 'be', 'dating', 'monkeys', 'oh', 'wait', 'never', 'mind']\n",
            "['if', 'money', 'was', 'Grown', 'on', 'trees', 'women', 'wOuLd', 'be', 'dating', 'monkeys', 'oh', 'waiittttt', 'never', 'mind']\n",
            "{'would': 'wOuLd', 'grown': 'Grown', 'wait': 'waiittttt'}\n"
          ]
        },
        {
          "metadata": {
            "tags": null
          },
          "name": "stderr",
          "output_type": "stream",
          "text": [
            " 13%|█▎        | 246/1924 [51:52<6:45:01, 14.48s/it]"
          ]
        },
        {
          "metadata": {
            "tags": null
          },
          "name": "stdout",
          "output_type": "stream",
          "text": [
            "['nigger', 'nigga', 'mud shark', 'chink', 'gook', 'spic', 'wetback', 'kike', 'sand nigger', 'towelhead', 'beaner', 'cracker', 'honky', 'jungle bunny', 'redskin', 'bitch', 'slut', 'whore', 'cunt', 'feminazi', 'dyke', 'tranny', 'she-male', 'gold digger', 'skank', 'faggot', 'fag', 'homo', 'queer', 'carpet muncher', 'pillow biter', 'fudge packer', 'lesbo', 'Christ killer', 'jihadist', 'infidel', 'kike', 'raghead', 'heathen', 'pagan', 'Bible basher', 'papist', 'kaffir', 'retard', 'cripple', 'spaz', 'mongoloid', 'psycho', 'nutjob', 'lame', 'vegetable', 'deaf-mute', 'imbecile', 'yank', 'brit', 'kraut', 'jap', 'commie', 'ruski', 'paki', 'wop', 'dago', 'polack', 'fatty', 'lardass', 'twig', 'beanpole', 'ugly', 'four-eyes', 'baldie', 'geek', 'nerd', 'pimple-face']\n",
            "['when', 'people', 'have', 'never', 'had', 'one', 'real', 'conversation', 'with', 'you', 'but', 'yet', 'find', '<number>', 'things', 'to', 'hate', 'you', 'about', '🙄']\n",
            "['WHEN', 'people', 'have', 'never', 'HAd', 'one', 'real', 'conversation', 'with', 'youuuuuu', 'but', 'yet', 'find', '<number>', 'things', 'to', 'hate', 'youu', 'about', '🙄']\n",
            "{'had': 'HAd', 'you': 'youu', 'when': 'WHEN'}\n"
          ]
        },
        {
          "metadata": {
            "tags": null
          },
          "name": "stderr",
          "output_type": "stream",
          "text": [
            " 13%|█▎        | 251/1924 [52:40<4:53:45, 10.54s/it]"
          ]
        },
        {
          "metadata": {
            "tags": null
          },
          "name": "stdout",
          "output_type": "stream",
          "text": [
            "['nigger', 'nigga', 'mud shark', 'chink', 'gook', 'spic', 'wetback', 'kike', 'sand nigger', 'towelhead', 'beaner', 'cracker', 'honky', 'jungle bunny', 'redskin', 'bitch', 'slut', 'whore', 'cunt', 'feminazi', 'dyke', 'tranny', 'she-male', 'gold digger', 'skank', 'faggot', 'fag', 'homo', 'queer', 'carpet muncher', 'pillow biter', 'fudge packer', 'lesbo', 'Christ killer', 'jihadist', 'infidel', 'kike', 'raghead', 'heathen', 'pagan', 'Bible basher', 'papist', 'kaffir', 'retard', 'cripple', 'spaz', 'mongoloid', 'psycho', 'nutjob', 'lame', 'vegetable', 'deaf-mute', 'imbecile', 'yank', 'brit', 'kraut', 'jap', 'commie', 'ruski', 'paki', 'wop', 'dago', 'polack', 'fatty', 'lardass', 'twig', 'beanpole', 'ugly', 'four-eyes', 'baldie', 'geek', 'nerd', 'pimple-face']\n",
            "['for', 'all', 'the', 'muslim', 'goatfuckers']\n",
            "['FOOR', 'all', 'the', 'muslim', 'goatfuckers']\n",
            "{'for': 'FOOR'}\n"
          ]
        },
        {
          "metadata": {
            "tags": null
          },
          "name": "stderr",
          "output_type": "stream",
          "text": [
            " 13%|█▎        | 256/1924 [54:28<10:16:01, 22.16s/it]"
          ]
        },
        {
          "metadata": {
            "tags": null
          },
          "name": "stdout",
          "output_type": "stream",
          "text": [
            "['nigger', 'nigga', 'mud shark', 'chink', 'gook', 'spic', 'wetback', 'kike', 'sand nigger', 'towelhead', 'beaner', 'cracker', 'honky', 'jungle bunny', 'redskin', 'bitch', 'slut', 'whore', 'cunt', 'feminazi', 'dyke', 'tranny', 'she-male', 'gold digger', 'skank', 'faggot', 'fag', 'homo', 'queer', 'carpet muncher', 'pillow biter', 'fudge packer', 'lesbo', 'Christ killer', 'jihadist', 'infidel', 'kike', 'raghead', 'heathen', 'pagan', 'Bible basher', 'papist', 'kaffir', 'retard', 'cripple', 'spaz', 'mongoloid', 'psycho', 'nutjob', 'lame', 'vegetable', 'deaf-mute', 'imbecile', 'yank', 'brit', 'kraut', 'jap', 'commie', 'ruski', 'paki', 'wop', 'dago', 'polack', 'fatty', 'lardass', 'twig', 'beanpole', 'ugly', 'four-eyes', 'baldie', 'geek', 'nerd', 'pimple-face']\n",
            "['i', 'basically', 'refuse', 'to', 'believe', 'this', 'is', 'real', 'i', 'refuse', 'to', 'believe', 'that', 'the', 'bbc', 'has', 'a', 'fucking', 'ebonics', 'version', 'translator', 'page', 'too', 'retarded', 'to', 'be', 'believed', 'i', 'am', 'not', 'saying', 'i', 'will', 'not', 'someday', 'but', 'for', 'now', 'no', 'this', 'is', 'not', 'real', 'to', 'me', 'for', 'now']\n",
            "['i', 'basically', 'reeefuuusee', 'to', 'believe', 'Thiiiis', 'is', 'real', 'i', 'refuse', 'to', 'believe', 'that', 'theeee', 'BBC', 'has', 'a', 'fuckking', 'ebonics', 'version', 'translator', 'page', 'too', 'retarded', 'to', 'be', 'believed', 'i', 'am', 'not', 'saying', 'i', 'will', 'not', 'someday', 'buttttt', 'for', 'now', 'no', 'this', 'is', 'not', 'real', 'to', 'me', 'for', 'now']\n",
            "{'fucking': 'fuckking', 'this': 'Thiiiis', 'bbc': 'BBC', 'refuse': 'reeefuuusee', 'the': 'theeee', 'but': 'buttttt'}\n"
          ]
        },
        {
          "metadata": {
            "tags": null
          },
          "name": "stderr",
          "output_type": "stream",
          "text": [
            " 14%|█▎        | 261/1924 [55:37<6:18:49, 13.67s/it]"
          ]
        },
        {
          "metadata": {
            "tags": null
          },
          "name": "stdout",
          "output_type": "stream",
          "text": [
            "['nigger', 'nigga', 'mud shark', 'chink', 'gook', 'spic', 'wetback', 'kike', 'sand nigger', 'towelhead', 'beaner', 'cracker', 'honky', 'jungle bunny', 'redskin', 'bitch', 'slut', 'whore', 'cunt', 'feminazi', 'dyke', 'tranny', 'she-male', 'gold digger', 'skank', 'faggot', 'fag', 'homo', 'queer', 'carpet muncher', 'pillow biter', 'fudge packer', 'lesbo', 'Christ killer', 'jihadist', 'infidel', 'kike', 'raghead', 'heathen', 'pagan', 'Bible basher', 'papist', 'kaffir', 'retard', 'cripple', 'spaz', 'mongoloid', 'psycho', 'nutjob', 'lame', 'vegetable', 'deaf-mute', 'imbecile', 'yank', 'brit', 'kraut', 'jap', 'commie', 'ruski', 'paki', 'wop', 'dago', 'polack', 'fatty', 'lardass', 'twig', 'beanpole', 'ugly', 'four-eyes', 'baldie', 'geek', 'nerd', 'pimple-face']\n",
            "['why', 'he', 'can', 'not', 'get', 'a', 'hoe', 'that', 'work', 'minus', 'the', 'crazy']\n",
            "['why', 'he', 'caaaaan', 'not', 'Getttttt', 'a', 'hoe', 'Thaat', 'work', 'minus', 'the', 'crazy']\n",
            "{'get': 'Getttttt', 'can': 'caaaaan', 'that': 'Thaat'}\n"
          ]
        },
        {
          "metadata": {
            "tags": null
          },
          "name": "stderr",
          "output_type": "stream",
          "text": [
            " 14%|█▍        | 266/1924 [57:25<7:12:49, 15.66s/it]"
          ]
        },
        {
          "metadata": {
            "tags": null
          },
          "name": "stdout",
          "output_type": "stream",
          "text": [
            "['nigger', 'nigga', 'mud shark', 'chink', 'gook', 'spic', 'wetback', 'kike', 'sand nigger', 'towelhead', 'beaner', 'cracker', 'honky', 'jungle bunny', 'redskin', 'bitch', 'slut', 'whore', 'cunt', 'feminazi', 'dyke', 'tranny', 'she-male', 'gold digger', 'skank', 'faggot', 'fag', 'homo', 'queer', 'carpet muncher', 'pillow biter', 'fudge packer', 'lesbo', 'Christ killer', 'jihadist', 'infidel', 'kike', 'raghead', 'heathen', 'pagan', 'Bible basher', 'papist', 'kaffir', 'retard', 'cripple', 'spaz', 'mongoloid', 'psycho', 'nutjob', 'lame', 'vegetable', 'deaf-mute', 'imbecile', 'yank', 'brit', 'kraut', 'jap', 'commie', 'ruski', 'paki', 'wop', 'dago', 'polack', 'fatty', 'lardass', 'twig', 'beanpole', 'ugly', 'four-eyes', 'baldie', 'geek', 'nerd', 'pimple-face']\n",
            "['renjun', 'is', 'a', 'lesbian', 'entende']\n",
            "['renjun', 'is', 'a', 'LeSbIaN', 'entende']\n",
            "{'lesbian': 'LeSbIaN'}\n"
          ]
        },
        {
          "metadata": {
            "tags": null
          },
          "name": "stderr",
          "output_type": "stream",
          "text": [
            " 14%|█▍        | 271/1924 [58:13<5:19:02, 11.58s/it]"
          ]
        },
        {
          "metadata": {
            "tags": null
          },
          "name": "stdout",
          "output_type": "stream",
          "text": [
            "['nigger', 'nigga', 'mud shark', 'chink', 'gook', 'spic', 'wetback', 'kike', 'sand nigger', 'towelhead', 'beaner', 'cracker', 'honky', 'jungle bunny', 'redskin', 'bitch', 'slut', 'whore', 'cunt', 'feminazi', 'dyke', 'tranny', 'she-male', 'gold digger', 'skank', 'faggot', 'fag', 'homo', 'queer', 'carpet muncher', 'pillow biter', 'fudge packer', 'lesbo', 'Christ killer', 'jihadist', 'infidel', 'kike', 'raghead', 'heathen', 'pagan', 'Bible basher', 'papist', 'kaffir', 'retard', 'cripple', 'spaz', 'mongoloid', 'psycho', 'nutjob', 'lame', 'vegetable', 'deaf-mute', 'imbecile', 'yank', 'brit', 'kraut', 'jap', 'commie', 'ruski', 'paki', 'wop', 'dago', 'polack', 'fatty', 'lardass', 'twig', 'beanpole', 'ugly', 'four-eyes', 'baldie', 'geek', 'nerd', 'pimple-face']\n",
            "['but', 'if', 'you', 'are', 'a', 'nigger', 'you', 'can', 'beat', 'rape', 'your', 'way', 'all', 'down', 'white', 'street', 'while', 'screaming', 'i', 'hate', 'white', 'people', 'never', 'be', 'charged', 'with', 'a', 'hate', 'crime']\n",
            "['but', 'if', 'you', 'are', 'a', 'nigger', 'you', 'can', 'beat', 'rape', 'your', 'way', 'all', 'down', 'white', 'street', 'while', 'screaming', 'i', 'hate', 'white', 'people', 'never', 'be', 'charged', 'with', 'a', 'hate', 'crime']\n",
            "{'nigger': 'nigger'}\n"
          ]
        },
        {
          "metadata": {
            "tags": null
          },
          "name": "stderr",
          "output_type": "stream",
          "text": [
            " 14%|█▍        | 276/1924 [59:43<8:23:43, 18.34s/it]"
          ]
        },
        {
          "metadata": {
            "tags": null
          },
          "name": "stdout",
          "output_type": "stream",
          "text": [
            "['nigger', 'nigga', 'mud shark', 'chink', 'gook', 'spic', 'wetback', 'kike', 'sand nigger', 'towelhead', 'beaner', 'cracker', 'honky', 'jungle bunny', 'redskin', 'bitch', 'slut', 'whore', 'cunt', 'feminazi', 'dyke', 'tranny', 'she-male', 'gold digger', 'skank', 'faggot', 'fag', 'homo', 'queer', 'carpet muncher', 'pillow biter', 'fudge packer', 'lesbo', 'Christ killer', 'jihadist', 'infidel', 'kike', 'raghead', 'heathen', 'pagan', 'Bible basher', 'papist', 'kaffir', 'retard', 'cripple', 'spaz', 'mongoloid', 'psycho', 'nutjob', 'lame', 'vegetable', 'deaf-mute', 'imbecile', 'yank', 'brit', 'kraut', 'jap', 'commie', 'ruski', 'paki', 'wop', 'dago', 'polack', 'fatty', 'lardass', 'twig', 'beanpole', 'ugly', 'four-eyes', 'baldie', 'geek', 'nerd', 'pimple-face']\n",
            "['is', 'not', 'a', 'mudslime', 'touching', 'a', 'boy', 'dick', 'frigging', 'it', 'with', 'lubricant', 'to', 'get', 'it', 'a', 'little', 'hard', 'then', 'mutilating', 'it', 'with', 'a', 'knife', 'sort', 'of', 'faggy', 'or', 'am', 'i', 'being', 'a', 'bitch', 'mudrape']\n",
            "['is', 'not', 'a', 'mudslime', 'touching', 'a', 'boy', 'dick', 'frigging', 'it', 'with', 'lubricant', 'to', 'get', 'it', 'a', 'little', 'hard', 'then', 'mutilating', 'it', 'with', 'a', 'knife', 'sort', 'of', 'faggy', 'or', 'am', 'i', 'being', 'a', 'Biiiiitch', 'mudrape']\n",
            "{'bitch': 'Biiiiitch'}\n"
          ]
        },
        {
          "metadata": {
            "tags": null
          },
          "name": "stderr",
          "output_type": "stream",
          "text": [
            " 15%|█▍        | 281/1924 [59:59<3:07:49,  6.86s/it]"
          ]
        },
        {
          "metadata": {
            "tags": null
          },
          "name": "stdout",
          "output_type": "stream",
          "text": [
            "['nigger', 'nigga', 'mud shark', 'chink', 'gook', 'spic', 'wetback', 'kike', 'sand nigger', 'towelhead', 'beaner', 'cracker', 'honky', 'jungle bunny', 'redskin', 'bitch', 'slut', 'whore', 'cunt', 'feminazi', 'dyke', 'tranny', 'she-male', 'gold digger', 'skank', 'faggot', 'fag', 'homo', 'queer', 'carpet muncher', 'pillow biter', 'fudge packer', 'lesbo', 'Christ killer', 'jihadist', 'infidel', 'kike', 'raghead', 'heathen', 'pagan', 'Bible basher', 'papist', 'kaffir', 'retard', 'cripple', 'spaz', 'mongoloid', 'psycho', 'nutjob', 'lame', 'vegetable', 'deaf-mute', 'imbecile', 'yank', 'brit', 'kraut', 'jap', 'commie', 'ruski', 'paki', 'wop', 'dago', 'polack', 'fatty', 'lardass', 'twig', 'beanpole', 'ugly', 'four-eyes', 'baldie', 'geek', 'nerd', 'pimple-face']\n",
            "['<user>', 'i', 'didnt', 'lose', 'my', 'shit', 'over', '<number>', 'guards', 'being', 'arrested', 'you', 'bum', 'fuck', 'racoon', 'retard', 'you', 'sure', 'showed', 'me']\n",
            "['<user>', 'i', 'didnt', 'lose', 'my', 'shit', 'over', '<number>', 'guards', 'being', 'arrested', 'you', 'bum', 'fuck', 'racoon', 'RETARD', 'you', 'sure', 'showed', 'me']\n",
            "{'retard': 'RETARD'}\n"
          ]
        },
        {
          "metadata": {
            "tags": null
          },
          "name": "stderr",
          "output_type": "stream",
          "text": [
            " 15%|█▍        | 286/1924 [1:00:52<4:55:11, 10.81s/it]"
          ]
        },
        {
          "metadata": {
            "tags": null
          },
          "name": "stdout",
          "output_type": "stream",
          "text": [
            "['nigger', 'nigga', 'mud shark', 'chink', 'gook', 'spic', 'wetback', 'kike', 'sand nigger', 'towelhead', 'beaner', 'cracker', 'honky', 'jungle bunny', 'redskin', 'bitch', 'slut', 'whore', 'cunt', 'feminazi', 'dyke', 'tranny', 'she-male', 'gold digger', 'skank', 'faggot', 'fag', 'homo', 'queer', 'carpet muncher', 'pillow biter', 'fudge packer', 'lesbo', 'Christ killer', 'jihadist', 'infidel', 'kike', 'raghead', 'heathen', 'pagan', 'Bible basher', 'papist', 'kaffir', 'retard', 'cripple', 'spaz', 'mongoloid', 'psycho', 'nutjob', 'lame', 'vegetable', 'deaf-mute', 'imbecile', 'yank', 'brit', 'kraut', 'jap', 'commie', 'ruski', 'paki', 'wop', 'dago', 'polack', 'fatty', 'lardass', 'twig', 'beanpole', 'ugly', 'four-eyes', 'baldie', 'geek', 'nerd', 'pimple-face']\n",
            "['<user>', 'alex', 'is', 'the', 'mega', 'gay']\n",
            "['<user>', 'alex', 'is', 'the', 'mega', 'gayi']\n",
            "{'gay': 'gayi'}\n"
          ]
        },
        {
          "metadata": {
            "tags": null
          },
          "name": "stderr",
          "output_type": "stream",
          "text": [
            " 15%|█▌        | 291/1924 [1:01:03<1:46:02,  3.90s/it]"
          ]
        },
        {
          "metadata": {
            "tags": null
          },
          "name": "stdout",
          "output_type": "stream",
          "text": [
            "['nigger', 'nigga', 'mud shark', 'chink', 'gook', 'spic', 'wetback', 'kike', 'sand nigger', 'towelhead', 'beaner', 'cracker', 'honky', 'jungle bunny', 'redskin', 'bitch', 'slut', 'whore', 'cunt', 'feminazi', 'dyke', 'tranny', 'she-male', 'gold digger', 'skank', 'faggot', 'fag', 'homo', 'queer', 'carpet muncher', 'pillow biter', 'fudge packer', 'lesbo', 'Christ killer', 'jihadist', 'infidel', 'kike', 'raghead', 'heathen', 'pagan', 'Bible basher', 'papist', 'kaffir', 'retard', 'cripple', 'spaz', 'mongoloid', 'psycho', 'nutjob', 'lame', 'vegetable', 'deaf-mute', 'imbecile', 'yank', 'brit', 'kraut', 'jap', 'commie', 'ruski', 'paki', 'wop', 'dago', 'polack', 'fatty', 'lardass', 'twig', 'beanpole', 'ugly', 'four-eyes', 'baldie', 'geek', 'nerd', 'pimple-face']\n",
            "['<user>', 'words', 'are', 'important', 'af', 'and', 'change', 'with', 'the', 'times', 'we', 'no', 'longer', 'describe', 'people', 'as', 'retarded', 'faggot', 'or', 'even', 'indian', 'it', 'called', 'progress', 'forcing', 'people', 'who', 'want', 'things', 'from', 'government', 'to', 'treat', 'others', 'who', 'also', 'pay', 'taxes', 'respectfully', 'seems', 'ok', 'to', 'me']\n",
            "['<user>', 'words', 'are', 'important', 'af', 'and', 'change', 'with', 'the', 'times', 'we', 'no', 'longer', 'describe', 'people', 'as', 'retarded', 'faggot', 'or', 'even', 'indian', 'it', 'called', 'progress', 'forcing', 'people', 'who', 'want', 'things', 'from', 'government', 'to', 'treat', 'others', 'who', 'also', 'pay', 'taxes', 'respectfully', 'seems', 'ok', 'to', 'me']\n",
            "{'faggot': 'faggot'}\n"
          ]
        },
        {
          "metadata": {
            "tags": null
          },
          "name": "stderr",
          "output_type": "stream",
          "text": [
            " 15%|█▌        | 296/1924 [1:02:30<4:45:17, 10.51s/it]"
          ]
        },
        {
          "metadata": {
            "tags": null
          },
          "name": "stdout",
          "output_type": "stream",
          "text": [
            "['nigger', 'nigga', 'mud shark', 'chink', 'gook', 'spic', 'wetback', 'kike', 'sand nigger', 'towelhead', 'beaner', 'cracker', 'honky', 'jungle bunny', 'redskin', 'bitch', 'slut', 'whore', 'cunt', 'feminazi', 'dyke', 'tranny', 'she-male', 'gold digger', 'skank', 'faggot', 'fag', 'homo', 'queer', 'carpet muncher', 'pillow biter', 'fudge packer', 'lesbo', 'Christ killer', 'jihadist', 'infidel', 'kike', 'raghead', 'heathen', 'pagan', 'Bible basher', 'papist', 'kaffir', 'retard', 'cripple', 'spaz', 'mongoloid', 'psycho', 'nutjob', 'lame', 'vegetable', 'deaf-mute', 'imbecile', 'yank', 'brit', 'kraut', 'jap', 'commie', 'ruski', 'paki', 'wop', 'dago', 'polack', 'fatty', 'lardass', 'twig', 'beanpole', 'ugly', 'four-eyes', 'baldie', 'geek', 'nerd', 'pimple-face']\n",
            "['there', 'is', 'no', 'logical', 'or', 'just', 'reason', 'for', 'a', 'mediocre', 'few', 'shielded', 'from', 'competition', 'propped', 'up', 'by', 'inherited', 'riches', 'and', 'passports', 'to', 'feast', 'on', 'the', 'world', 'riches', 'under', 'the', 'guise', 'of', 'meritocracy', '<user>', 'ungrateful', 'refugee', '<number>']\n",
            "['there', 'is', 'no', 'logical', 'or', 'just', 'reason', 'foR', 'a', 'mediocre', 'FEW', 'shielded', 'FroM', 'competition', 'propped', 'up', 'by', 'inherited', 'riches', 'and', 'passports', 'to', 'FEAST', 'on', 'the', 'world', 'riches', 'under', 'the', 'guise', 'of', 'meritocracy', '<user>', 'UngRatEfUL', 'refugee', '<number>']\n",
            "{'from': 'FroM', 'riches': 'riches', 'ungrateful': 'UngRatEfUL', 'feast': 'FEAST', 'shielded': 'shielded', 'few': 'FEW', 'for': 'foR'}\n"
          ]
        },
        {
          "metadata": {
            "tags": null
          },
          "name": "stderr",
          "output_type": "stream",
          "text": [
            " 16%|█▌        | 301/1924 [1:03:08<4:39:48, 10.34s/it]"
          ]
        },
        {
          "metadata": {
            "tags": null
          },
          "name": "stdout",
          "output_type": "stream",
          "text": [
            "['nigger', 'nigga', 'mud shark', 'chink', 'gook', 'spic', 'wetback', 'kike', 'sand nigger', 'towelhead', 'beaner', 'cracker', 'honky', 'jungle bunny', 'redskin', 'bitch', 'slut', 'whore', 'cunt', 'feminazi', 'dyke', 'tranny', 'she-male', 'gold digger', 'skank', 'faggot', 'fag', 'homo', 'queer', 'carpet muncher', 'pillow biter', 'fudge packer', 'lesbo', 'Christ killer', 'jihadist', 'infidel', 'kike', 'raghead', 'heathen', 'pagan', 'Bible basher', 'papist', 'kaffir', 'retard', 'cripple', 'spaz', 'mongoloid', 'psycho', 'nutjob', 'lame', 'vegetable', 'deaf-mute', 'imbecile', 'yank', 'brit', 'kraut', 'jap', 'commie', 'ruski', 'paki', 'wop', 'dago', 'polack', 'fatty', 'lardass', 'twig', 'beanpole', 'ugly', 'four-eyes', 'baldie', 'geek', 'nerd', 'pimple-face']\n",
            "['it', 'muh', 'dickism', 'and', 'biketheftism', 'rolled', 'into', 'one', 'if', 'you', 'think', 'about', 'it', 'it', 'peak', 'negro', 'if', 'niggers', 'could', 'do', 'magic', 'they', 'would', 'of', 'course', 'use', 'their', 'powers', 'to', 'steal', 'shit']\n",
            "['it', 'muh', 'dickism', 'and', 'biketheftism', 'rolled', 'into', 'one', 'if', 'youuu', 'think', 'about', 'it', 'it', 'peak', 'negro', 'if', 'niggers', 'cold', 'do', 'mAgIc', 'they', 'would', 'of', 'course', 'use', 'their', 'Powers', 'to', 'steal', 'shit']\n",
            "{'powers': 'Powers', 'magic': 'mAgIc', 'you': 'youuu', 'could': 'cold'}\n"
          ]
        },
        {
          "metadata": {
            "tags": null
          },
          "name": "stderr",
          "output_type": "stream",
          "text": [
            " 16%|█▌        | 305/1924 [1:03:53<4:26:12,  9.87s/it]"
          ]
        },
        {
          "metadata": {
            "tags": null
          },
          "name": "stdout",
          "output_type": "stream",
          "text": [
            "['nigger', 'nigga', 'mud shark', 'chink', 'gook', 'spic', 'wetback', 'kike', 'sand nigger', 'towelhead', 'beaner', 'cracker', 'honky', 'jungle bunny', 'redskin', 'bitch', 'slut', 'whore', 'cunt', 'feminazi', 'dyke', 'tranny', 'she-male', 'gold digger', 'skank', 'faggot', 'fag', 'homo', 'queer', 'carpet muncher', 'pillow biter', 'fudge packer', 'lesbo', 'Christ killer', 'jihadist', 'infidel', 'kike', 'raghead', 'heathen', 'pagan', 'Bible basher', 'papist', 'kaffir', 'retard', 'cripple', 'spaz', 'mongoloid', 'psycho', 'nutjob', 'lame', 'vegetable', 'deaf-mute', 'imbecile', 'yank', 'brit', 'kraut', 'jap', 'commie', 'ruski', 'paki', 'wop', 'dago', 'polack', 'fatty', 'lardass', 'twig', 'beanpole', 'ugly', 'four-eyes', 'baldie', 'geek', 'nerd', 'pimple-face']\n",
            "['do', 'not', 'break', 'your', 'arm', 'jerking', 'yourself', 'off', 'on', 'twitter', 'kike']\n",
            "['do', 'not', 'break', 'your', 'arm', 'jerking', 'yourself', 'off', 'on', 'twitter', 'KIKE']\n",
            "{'kike': 'KIKE'}\n"
          ]
        },
        {
          "metadata": {
            "tags": null
          },
          "name": "stderr",
          "output_type": "stream",
          "text": [
            " 16%|█▌        | 311/1924 [1:04:43<4:59:27, 11.14s/it]"
          ]
        },
        {
          "metadata": {
            "tags": null
          },
          "name": "stdout",
          "output_type": "stream",
          "text": [
            "['nigger', 'nigga', 'mud shark', 'chink', 'gook', 'spic', 'wetback', 'kike', 'sand nigger', 'towelhead', 'beaner', 'cracker', 'honky', 'jungle bunny', 'redskin', 'bitch', 'slut', 'whore', 'cunt', 'feminazi', 'dyke', 'tranny', 'she-male', 'gold digger', 'skank', 'faggot', 'fag', 'homo', 'queer', 'carpet muncher', 'pillow biter', 'fudge packer', 'lesbo', 'Christ killer', 'jihadist', 'infidel', 'kike', 'raghead', 'heathen', 'pagan', 'Bible basher', 'papist', 'kaffir', 'retard', 'cripple', 'spaz', 'mongoloid', 'psycho', 'nutjob', 'lame', 'vegetable', 'deaf-mute', 'imbecile', 'yank', 'brit', 'kraut', 'jap', 'commie', 'ruski', 'paki', 'wop', 'dago', 'polack', 'fatty', 'lardass', 'twig', 'beanpole', 'ugly', 'four-eyes', 'baldie', 'geek', 'nerd', 'pimple-face']\n",
            "['and', 'the', 'pitifultruth', 'is', 'that', 'when', 'german', 'women', 'got', 'to', 'good', 'to', 'have', 'german', 'families', 'the', 'damned', 'ragheads', 'come', 'in', 'and', 'rape', 'them']\n",
            "['Annnnnd', 'THee', 'pitifultruth', 'is', 'that', 'when', 'german', 'WomEN', 'got', 'to', 'good', 'to', 'haVe', 'GERMAN', 'families', 'the', 'damned', 'ragheads', 'come', 'in', 'and', 'rape', 'them']\n",
            "{'the': 'THee', 'women': 'WomEN', 'and': 'Annnnnd', 'have': 'haVe', 'german': 'GERMAN'}\n"
          ]
        },
        {
          "metadata": {
            "tags": null
          },
          "name": "stderr",
          "output_type": "stream",
          "text": [
            " 16%|█▋        | 316/1924 [1:06:01<7:11:44, 16.11s/it]"
          ]
        },
        {
          "metadata": {
            "tags": null
          },
          "name": "stdout",
          "output_type": "stream",
          "text": [
            "['nigger', 'nigga', 'mud shark', 'chink', 'gook', 'spic', 'wetback', 'kike', 'sand nigger', 'towelhead', 'beaner', 'cracker', 'honky', 'jungle bunny', 'redskin', 'bitch', 'slut', 'whore', 'cunt', 'feminazi', 'dyke', 'tranny', 'she-male', 'gold digger', 'skank', 'faggot', 'fag', 'homo', 'queer', 'carpet muncher', 'pillow biter', 'fudge packer', 'lesbo', 'Christ killer', 'jihadist', 'infidel', 'kike', 'raghead', 'heathen', 'pagan', 'Bible basher', 'papist', 'kaffir', 'retard', 'cripple', 'spaz', 'mongoloid', 'psycho', 'nutjob', 'lame', 'vegetable', 'deaf-mute', 'imbecile', 'yank', 'brit', 'kraut', 'jap', 'commie', 'ruski', 'paki', 'wop', 'dago', 'polack', 'fatty', 'lardass', 'twig', 'beanpole', 'ugly', 'four-eyes', 'baldie', 'geek', 'nerd', 'pimple-face']\n",
            "['<user>', 'do', 'not', 'be', 'scared', 'of', 'that', 'real', 'women', 'like', 'a', 'strong', 'confident', 'man', 'not', 'the', 'type', 'of', 'men', 'that', 'exist', 'now', 'that', 'are', 'asking', 'for', 'permission', 'to', 'kiss', 'their', 'wife']\n",
            "['<user>', 'do', 'not', 'be', 'scared', 'of', 'ThAtt', 'real', 'women', 'like', 'a', 'strong', 'Confident', 'man', 'not', 'the', 'type', 'of', 'men', 'thaTT', 'exist', 'now', 'thật', 'are', 'asking', 'for', 'Permission', 'to', 'kiss', 'their', 'wife']\n",
            "{'that': 'thật', 'permission': 'Permission', 'confident': 'Confident'}\n"
          ]
        },
        {
          "metadata": {
            "tags": null
          },
          "name": "stderr",
          "output_type": "stream",
          "text": [
            " 17%|█▋        | 320/1924 [1:07:27<10:04:04, 22.60s/it]"
          ]
        },
        {
          "metadata": {
            "tags": null
          },
          "name": "stdout",
          "output_type": "stream",
          "text": [
            "['nigger', 'nigga', 'mud shark', 'chink', 'gook', 'spic', 'wetback', 'kike', 'sand nigger', 'towelhead', 'beaner', 'cracker', 'honky', 'jungle bunny', 'redskin', 'bitch', 'slut', 'whore', 'cunt', 'feminazi', 'dyke', 'tranny', 'she-male', 'gold digger', 'skank', 'faggot', 'fag', 'homo', 'queer', 'carpet muncher', 'pillow biter', 'fudge packer', 'lesbo', 'Christ killer', 'jihadist', 'infidel', 'kike', 'raghead', 'heathen', 'pagan', 'Bible basher', 'papist', 'kaffir', 'retard', 'cripple', 'spaz', 'mongoloid', 'psycho', 'nutjob', 'lame', 'vegetable', 'deaf-mute', 'imbecile', 'yank', 'brit', 'kraut', 'jap', 'commie', 'ruski', 'paki', 'wop', 'dago', 'polack', 'fatty', 'lardass', 'twig', 'beanpole', 'ugly', 'four-eyes', 'baldie', 'geek', 'nerd', 'pimple-face']\n",
            "['imagine', 'unironically', 'believing', 'the', 'high', 'iq', 'kike', 'meme']\n",
            "['imagine', 'unironically', 'believing', 'the', 'high', 'iq', 'KIKE', 'meme']\n",
            "{'kike': 'KIKE'}\n"
          ]
        },
        {
          "metadata": {
            "tags": null
          },
          "name": "stderr",
          "output_type": "stream",
          "text": [
            " 17%|█▋        | 326/1924 [1:09:08<6:09:43, 13.88s/it]"
          ]
        },
        {
          "metadata": {
            "tags": null
          },
          "name": "stdout",
          "output_type": "stream",
          "text": [
            "['nigger', 'nigga', 'mud shark', 'chink', 'gook', 'spic', 'wetback', 'kike', 'sand nigger', 'towelhead', 'beaner', 'cracker', 'honky', 'jungle bunny', 'redskin', 'bitch', 'slut', 'whore', 'cunt', 'feminazi', 'dyke', 'tranny', 'she-male', 'gold digger', 'skank', 'faggot', 'fag', 'homo', 'queer', 'carpet muncher', 'pillow biter', 'fudge packer', 'lesbo', 'Christ killer', 'jihadist', 'infidel', 'kike', 'raghead', 'heathen', 'pagan', 'Bible basher', 'papist', 'kaffir', 'retard', 'cripple', 'spaz', 'mongoloid', 'psycho', 'nutjob', 'lame', 'vegetable', 'deaf-mute', 'imbecile', 'yank', 'brit', 'kraut', 'jap', 'commie', 'ruski', 'paki', 'wop', 'dago', 'polack', 'fatty', 'lardass', 'twig', 'beanpole', 'ugly', 'four-eyes', 'baldie', 'geek', 'nerd', 'pimple-face']\n",
            "['<user>', '<user>', 'amen', 'i', 'will', 'put', 'my', '<number>', 'cents', 'in', 'and', 'help', 'as', 'well', 'the', 'intersection', 'of', 'veganism', 'women', 'hip', 'hop', 'music', 'and', 'islam', 'in', 'sneaker', 'culture']\n",
            "['<user>', '<user>', 'Ammann', 'i', 'will', 'put', 'my', '<number>', 'cents', 'in', 'and', 'help', 'as', 'well', 'the', 'intersection', 'of', 'veganism', 'women', 'hip', 'hop', 'music', 'and', 'ISLAM', 'in', 'sneaker', 'cUlTuRe']\n",
            "{'intersection': 'intersection', 'islam': 'ISLAM', 'culture': 'cUlTuRe', 'amen': 'Ammann'}\n"
          ]
        },
        {
          "metadata": {
            "tags": null
          },
          "name": "stderr",
          "output_type": "stream",
          "text": [
            " 17%|█▋        | 331/1924 [1:10:24<7:13:52, 16.34s/it]"
          ]
        },
        {
          "metadata": {
            "tags": null
          },
          "name": "stdout",
          "output_type": "stream",
          "text": [
            "['nigger', 'nigga', 'mud shark', 'chink', 'gook', 'spic', 'wetback', 'kike', 'sand nigger', 'towelhead', 'beaner', 'cracker', 'honky', 'jungle bunny', 'redskin', 'bitch', 'slut', 'whore', 'cunt', 'feminazi', 'dyke', 'tranny', 'she-male', 'gold digger', 'skank', 'faggot', 'fag', 'homo', 'queer', 'carpet muncher', 'pillow biter', 'fudge packer', 'lesbo', 'Christ killer', 'jihadist', 'infidel', 'kike', 'raghead', 'heathen', 'pagan', 'Bible basher', 'papist', 'kaffir', 'retard', 'cripple', 'spaz', 'mongoloid', 'psycho', 'nutjob', 'lame', 'vegetable', 'deaf-mute', 'imbecile', 'yank', 'brit', 'kraut', 'jap', 'commie', 'ruski', 'paki', 'wop', 'dago', 'polack', 'fatty', 'lardass', 'twig', 'beanpole', 'ugly', 'four-eyes', 'baldie', 'geek', 'nerd', 'pimple-face']\n",
            "['a', 'covington', 'catholic', 'a', 'native', 'american', 'indian', 'and', 'a', 'black', 'hebrew', 'israelite', 'walk', 'into', 'a', 'bar']\n",
            "['a', 'covington', 'catholic', 'a', 'native', 'amercan', 'indian', 'annnd', 'a', 'bLaCK', 'hebrew', 'israelite', 'walk', 'inTo', 'a', 'bar']\n",
            "{'american': 'amercan', 'and': 'annnd', 'black': 'bLaCK', 'into': 'inTo'}\n"
          ]
        },
        {
          "metadata": {
            "tags": null
          },
          "name": "stderr",
          "output_type": "stream",
          "text": [
            " 17%|█▋        | 336/1924 [1:11:26<6:10:26, 14.00s/it]"
          ]
        },
        {
          "metadata": {
            "tags": null
          },
          "name": "stdout",
          "output_type": "stream",
          "text": [
            "['nigger', 'nigga', 'mud shark', 'chink', 'gook', 'spic', 'wetback', 'kike', 'sand nigger', 'towelhead', 'beaner', 'cracker', 'honky', 'jungle bunny', 'redskin', 'bitch', 'slut', 'whore', 'cunt', 'feminazi', 'dyke', 'tranny', 'she-male', 'gold digger', 'skank', 'faggot', 'fag', 'homo', 'queer', 'carpet muncher', 'pillow biter', 'fudge packer', 'lesbo', 'Christ killer', 'jihadist', 'infidel', 'kike', 'raghead', 'heathen', 'pagan', 'Bible basher', 'papist', 'kaffir', 'retard', 'cripple', 'spaz', 'mongoloid', 'psycho', 'nutjob', 'lame', 'vegetable', 'deaf-mute', 'imbecile', 'yank', 'brit', 'kraut', 'jap', 'commie', 'ruski', 'paki', 'wop', 'dago', 'polack', 'fatty', 'lardass', 'twig', 'beanpole', 'ugly', 'four-eyes', 'baldie', 'geek', 'nerd', 'pimple-face']\n",
            "['islam', 'continues', 'to', 'spread', 'because', 'of', 'arabs']\n",
            "['islam', 'continues', 'to', 'spread', 'BECauSE', 'of', 'arabs']\n",
            "{'because': 'BECauSE'}\n"
          ]
        },
        {
          "metadata": {
            "tags": null
          },
          "name": "stderr",
          "output_type": "stream",
          "text": [
            " 18%|█▊        | 340/1924 [1:11:58<4:05:28,  9.30s/it]"
          ]
        },
        {
          "metadata": {
            "tags": null
          },
          "name": "stdout",
          "output_type": "stream",
          "text": [
            "['nigger', 'nigga', 'mud shark', 'chink', 'gook', 'spic', 'wetback', 'kike', 'sand nigger', 'towelhead', 'beaner', 'cracker', 'honky', 'jungle bunny', 'redskin', 'bitch', 'slut', 'whore', 'cunt', 'feminazi', 'dyke', 'tranny', 'she-male', 'gold digger', 'skank', 'faggot', 'fag', 'homo', 'queer', 'carpet muncher', 'pillow biter', 'fudge packer', 'lesbo', 'Christ killer', 'jihadist', 'infidel', 'kike', 'raghead', 'heathen', 'pagan', 'Bible basher', 'papist', 'kaffir', 'retard', 'cripple', 'spaz', 'mongoloid', 'psycho', 'nutjob', 'lame', 'vegetable', 'deaf-mute', 'imbecile', 'yank', 'brit', 'kraut', 'jap', 'commie', 'ruski', 'paki', 'wop', 'dago', 'polack', 'fatty', 'lardass', 'twig', 'beanpole', 'ugly', 'four-eyes', 'baldie', 'geek', 'nerd', 'pimple-face']\n",
            "['logan', 'paul', 'is', 'a', 'fucking', 'bozo']\n",
            "['logan', 'paul', 'is', 'a', 'fucking', 'BoZo']\n",
            "{'bozo': 'BoZo'}\n"
          ]
        },
        {
          "metadata": {
            "tags": null
          },
          "name": "stderr",
          "output_type": "stream",
          "text": [
            " 18%|█▊        | 344/1924 [1:12:24<3:59:13,  9.08s/it]"
          ]
        },
        {
          "metadata": {
            "tags": null
          },
          "name": "stdout",
          "output_type": "stream",
          "text": [
            "['nigger', 'nigga', 'mud shark', 'chink', 'gook', 'spic', 'wetback', 'kike', 'sand nigger', 'towelhead', 'beaner', 'cracker', 'honky', 'jungle bunny', 'redskin', 'bitch', 'slut', 'whore', 'cunt', 'feminazi', 'dyke', 'tranny', 'she-male', 'gold digger', 'skank', 'faggot', 'fag', 'homo', 'queer', 'carpet muncher', 'pillow biter', 'fudge packer', 'lesbo', 'Christ killer', 'jihadist', 'infidel', 'kike', 'raghead', 'heathen', 'pagan', 'Bible basher', 'papist', 'kaffir', 'retard', 'cripple', 'spaz', 'mongoloid', 'psycho', 'nutjob', 'lame', 'vegetable', 'deaf-mute', 'imbecile', 'yank', 'brit', 'kraut', 'jap', 'commie', 'ruski', 'paki', 'wop', 'dago', 'polack', 'fatty', 'lardass', 'twig', 'beanpole', 'ugly', 'four-eyes', 'baldie', 'geek', 'nerd', 'pimple-face']\n",
            "['additionally', 'furries', 'can', 'also', 'transmit', 'the', 'infectious', 'disease', 'of', 'furfaggotry', 'to', 'others']\n",
            "['additionaly', 'furries', 'can', 'also', 'transmit', 'the', 'infectious', 'disease', 'of', 'furfaggotry', 'to', 'others']\n",
            "{'additionally': 'additionaly'}\n"
          ]
        },
        {
          "metadata": {
            "tags": null
          },
          "name": "stderr",
          "output_type": "stream",
          "text": [
            " 18%|█▊        | 351/1924 [1:13:15<3:14:41,  7.43s/it]"
          ]
        },
        {
          "metadata": {
            "tags": null
          },
          "name": "stdout",
          "output_type": "stream",
          "text": [
            "['nigger', 'nigga', 'mud shark', 'chink', 'gook', 'spic', 'wetback', 'kike', 'sand nigger', 'towelhead', 'beaner', 'cracker', 'honky', 'jungle bunny', 'redskin', 'bitch', 'slut', 'whore', 'cunt', 'feminazi', 'dyke', 'tranny', 'she-male', 'gold digger', 'skank', 'faggot', 'fag', 'homo', 'queer', 'carpet muncher', 'pillow biter', 'fudge packer', 'lesbo', 'Christ killer', 'jihadist', 'infidel', 'kike', 'raghead', 'heathen', 'pagan', 'Bible basher', 'papist', 'kaffir', 'retard', 'cripple', 'spaz', 'mongoloid', 'psycho', 'nutjob', 'lame', 'vegetable', 'deaf-mute', 'imbecile', 'yank', 'brit', 'kraut', 'jap', 'commie', 'ruski', 'paki', 'wop', 'dago', 'polack', 'fatty', 'lardass', 'twig', 'beanpole', 'ugly', 'four-eyes', 'baldie', 'geek', 'nerd', 'pimple-face']\n",
            "['<user>', 'explicit', 'terrorist', 'imagery', 'that', 'means', 'no', 'more', 'exposing', 'what', 'muzzies', 'are', 'doing']\n",
            "['<user>', 'explicit', 'terrorist', 'imagery', 'that', 'means', 'no', 'more', 'exposing', 'WhaT', 'Muzzies', 'are', 'doing']\n",
            "{'what': 'WhaT', 'muzzies': 'Muzzies'}\n"
          ]
        },
        {
          "metadata": {
            "tags": null
          },
          "name": "stderr",
          "output_type": "stream",
          "text": [
            " 19%|█▊        | 356/1924 [1:13:44<2:49:13,  6.48s/it]"
          ]
        },
        {
          "metadata": {
            "tags": null
          },
          "name": "stdout",
          "output_type": "stream",
          "text": [
            "['nigger', 'nigga', 'mud shark', 'chink', 'gook', 'spic', 'wetback', 'kike', 'sand nigger', 'towelhead', 'beaner', 'cracker', 'honky', 'jungle bunny', 'redskin', 'bitch', 'slut', 'whore', 'cunt', 'feminazi', 'dyke', 'tranny', 'she-male', 'gold digger', 'skank', 'faggot', 'fag', 'homo', 'queer', 'carpet muncher', 'pillow biter', 'fudge packer', 'lesbo', 'Christ killer', 'jihadist', 'infidel', 'kike', 'raghead', 'heathen', 'pagan', 'Bible basher', 'papist', 'kaffir', 'retard', 'cripple', 'spaz', 'mongoloid', 'psycho', 'nutjob', 'lame', 'vegetable', 'deaf-mute', 'imbecile', 'yank', 'brit', 'kraut', 'jap', 'commie', 'ruski', 'paki', 'wop', 'dago', 'polack', 'fatty', 'lardass', 'twig', 'beanpole', 'ugly', 'four-eyes', 'baldie', 'geek', 'nerd', 'pimple-face']\n",
            "['a', 'facile', 'claim', 'of', 'anti', 'semitism', 'does', 'not', 'equal', 'the', 'new', 'ones', 'murder', 'jews', 'and', 'are', 'driving', 'them', 'out', 'especially', 'when', 'the', 'muslims', 'are', 'semites', 'and', 'the', 'jews', 'are', 'khazars']\n",
            "['a', 'Facile', 'claim', 'of', 'anti', 'semitism', 'DoES', 'not', 'equal', 'the', 'new', 'ONEs', 'mUrdEr', 'jews', 'and', 'are', 'driving', 'them', 'out', 'especially', 'when', 'the', 'muslims', 'AREEEE', 'Semites', 'and', 'the', 'jews', 'are', 'khazars']\n",
            "{'ones': 'ONEs', 'murder': 'mUrdEr', 'does': 'DoES', 'are': 'AREEEE', 'semites': 'Semites', 'facile': 'Facile'}\n"
          ]
        },
        {
          "metadata": {
            "tags": null
          },
          "name": "stderr",
          "output_type": "stream",
          "text": [
            " 19%|█▉        | 361/1924 [1:15:45<11:41:34, 26.93s/it]"
          ]
        },
        {
          "metadata": {
            "tags": null
          },
          "name": "stdout",
          "output_type": "stream",
          "text": [
            "['nigger', 'nigga', 'mud shark', 'chink', 'gook', 'spic', 'wetback', 'kike', 'sand nigger', 'towelhead', 'beaner', 'cracker', 'honky', 'jungle bunny', 'redskin', 'bitch', 'slut', 'whore', 'cunt', 'feminazi', 'dyke', 'tranny', 'she-male', 'gold digger', 'skank', 'faggot', 'fag', 'homo', 'queer', 'carpet muncher', 'pillow biter', 'fudge packer', 'lesbo', 'Christ killer', 'jihadist', 'infidel', 'kike', 'raghead', 'heathen', 'pagan', 'Bible basher', 'papist', 'kaffir', 'retard', 'cripple', 'spaz', 'mongoloid', 'psycho', 'nutjob', 'lame', 'vegetable', 'deaf-mute', 'imbecile', 'yank', 'brit', 'kraut', 'jap', 'commie', 'ruski', 'paki', 'wop', 'dago', 'polack', 'fatty', 'lardass', 'twig', 'beanpole', 'ugly', 'four-eyes', 'baldie', 'geek', 'nerd', 'pimple-face']\n",
            "['i', 'would', 'love', 'to', 'see', 'trump', 'bring', '<number>', 'white', 'women', 'from', 'europe', 'call', 'them', 'refugees', 'from', 'the', 'madness', 'of', 'merkel', 'other', 'lefties', 'and', 'refugees', 'from', 'rapist', 'muslims', 'bring', 'them', 'here', 'and', 'have', 'a', 'baby', 'boom', 'american', 'men', 'are', 'tired', 'of', 'fat', 'women']\n",
            "['i', 'would', 'LOOOVEEE', 'to', 'SEEE', 'trump', 'bring', '<number>', 'white', 'women', 'from', 'eUrOpE', 'CaLl', 'them', 'refugees', 'from', 'the', 'madness', 'of', 'merkel', 'other', 'lefties', 'Annnnnd', 'refugees', 'from', 'rapist', 'muslims', 'bring', 'them', 'here', 'and', 'have', 'a', 'BaByYyYy', 'boom', 'aMeRiCaN', 'men', 'are', 'tired', 'of', 'fat', 'Women']\n",
            "{'call': 'CaLl', 'and': 'Annnnnd', 'american': 'aMeRiCaN', 'europe': 'eUrOpE', 'women': 'Women', 'baby': 'BaByYyYy', 'love': 'LOOOVEEE', 'see': 'SEEE'}\n"
          ]
        },
        {
          "metadata": {
            "tags": null
          },
          "name": "stderr",
          "output_type": "stream",
          "text": [
            " 19%|█▉        | 366/1924 [1:16:43<5:56:41, 13.74s/it] "
          ]
        },
        {
          "metadata": {
            "tags": null
          },
          "name": "stdout",
          "output_type": "stream",
          "text": [
            "['nigger', 'nigga', 'mud shark', 'chink', 'gook', 'spic', 'wetback', 'kike', 'sand nigger', 'towelhead', 'beaner', 'cracker', 'honky', 'jungle bunny', 'redskin', 'bitch', 'slut', 'whore', 'cunt', 'feminazi', 'dyke', 'tranny', 'she-male', 'gold digger', 'skank', 'faggot', 'fag', 'homo', 'queer', 'carpet muncher', 'pillow biter', 'fudge packer', 'lesbo', 'Christ killer', 'jihadist', 'infidel', 'kike', 'raghead', 'heathen', 'pagan', 'Bible basher', 'papist', 'kaffir', 'retard', 'cripple', 'spaz', 'mongoloid', 'psycho', 'nutjob', 'lame', 'vegetable', 'deaf-mute', 'imbecile', 'yank', 'brit', 'kraut', 'jap', 'commie', 'ruski', 'paki', 'wop', 'dago', 'polack', 'fatty', 'lardass', 'twig', 'beanpole', 'ugly', 'four-eyes', 'baldie', 'geek', 'nerd', 'pimple-face']\n",
            "['suck', 'my', 'dick', 'and', 'call', 'me', 'a', 'faggot']\n",
            "['suck', 'my', 'dick', 'and', 'call', 'me', 'a', 'fagot']\n",
            "{'faggot': 'fagot'}\n"
          ]
        },
        {
          "metadata": {
            "tags": null
          },
          "name": "stderr",
          "output_type": "stream",
          "text": [
            " 19%|█▉        | 371/1924 [1:17:32<4:59:28, 11.57s/it]"
          ]
        },
        {
          "metadata": {
            "tags": null
          },
          "name": "stdout",
          "output_type": "stream",
          "text": [
            "['nigger', 'nigga', 'mud shark', 'chink', 'gook', 'spic', 'wetback', 'kike', 'sand nigger', 'towelhead', 'beaner', 'cracker', 'honky', 'jungle bunny', 'redskin', 'bitch', 'slut', 'whore', 'cunt', 'feminazi', 'dyke', 'tranny', 'she-male', 'gold digger', 'skank', 'faggot', 'fag', 'homo', 'queer', 'carpet muncher', 'pillow biter', 'fudge packer', 'lesbo', 'Christ killer', 'jihadist', 'infidel', 'kike', 'raghead', 'heathen', 'pagan', 'Bible basher', 'papist', 'kaffir', 'retard', 'cripple', 'spaz', 'mongoloid', 'psycho', 'nutjob', 'lame', 'vegetable', 'deaf-mute', 'imbecile', 'yank', 'brit', 'kraut', 'jap', 'commie', 'ruski', 'paki', 'wop', 'dago', 'polack', 'fatty', 'lardass', 'twig', 'beanpole', 'ugly', 'four-eyes', 'baldie', 'geek', 'nerd', 'pimple-face']\n",
            "['rt', '<user>', 'hyderabad', 'woman', 'allegedly', 'gang', 'raped', 'by', 'five', 'men', 'for', 'two', 'days', 'in', 'the', 'presence', 'of', 'her', 'husband', 'who', 'was', 'confined', 'by', 'the', 'men', 'rachakonda', 'police', 'has', 'apprehended', '<number>', 'people', 'including', '<number>', 'who', 'allegedly', 'committed', 'the', 'crime', 'further', 'investigation', 'is', 'underway']\n",
            "['rt', '<user>', 'hydrabad', 'woman', 'allegedly', 'gang', 'raped', 'by', 'five', 'men', 'for', 'TWo', 'days', 'in', 'the', 'presence', 'of', 'her', 'husband', 'whO', 'was', 'confined', 'by', 'the', 'men', 'rachakonda', 'police', 'has', 'apprehended', '<number>', 'people', 'including', '<number>', 'who', 'allegdly', 'committed', 'the', 'CRIME', 'FURTHER', 'investigation', 'is', 'underway']\n",
            "{'allegedly': 'allegdly', 'crime': 'CRIME', 'who': 'whO', 'hyderabad': 'hydrabad', 'two': 'TWo', 'further': 'FURTHER', 'confined': 'confined', 'gang': 'gang'}\n"
          ]
        },
        {
          "metadata": {
            "tags": null
          },
          "name": "stderr",
          "output_type": "stream",
          "text": [
            " 20%|█▉        | 376/1924 [1:19:09<7:17:15, 16.95s/it]"
          ]
        },
        {
          "metadata": {
            "tags": null
          },
          "name": "stdout",
          "output_type": "stream",
          "text": [
            "['nigger', 'nigga', 'mud shark', 'chink', 'gook', 'spic', 'wetback', 'kike', 'sand nigger', 'towelhead', 'beaner', 'cracker', 'honky', 'jungle bunny', 'redskin', 'bitch', 'slut', 'whore', 'cunt', 'feminazi', 'dyke', 'tranny', 'she-male', 'gold digger', 'skank', 'faggot', 'fag', 'homo', 'queer', 'carpet muncher', 'pillow biter', 'fudge packer', 'lesbo', 'Christ killer', 'jihadist', 'infidel', 'kike', 'raghead', 'heathen', 'pagan', 'Bible basher', 'papist', 'kaffir', 'retard', 'cripple', 'spaz', 'mongoloid', 'psycho', 'nutjob', 'lame', 'vegetable', 'deaf-mute', 'imbecile', 'yank', 'brit', 'kraut', 'jap', 'commie', 'ruski', 'paki', 'wop', 'dago', 'polack', 'fatty', 'lardass', 'twig', 'beanpole', 'ugly', 'four-eyes', 'baldie', 'geek', 'nerd', 'pimple-face']\n",
            "['nothing', 'is', 'more', 'cringy', 'than', 'a', 'nigger', 'in', 'a', 'flashy', 'suit']\n",
            "['nothing', 'is', 'more', 'cringy', 'than', 'a', 'NiggeR', 'in', 'a', 'flashy', 'suit']\n",
            "{'nigger': 'NiggeR'}\n"
          ]
        },
        {
          "metadata": {
            "tags": null
          },
          "name": "stderr",
          "output_type": "stream",
          "text": [
            " 20%|█▉        | 381/1924 [1:20:22<6:12:13, 14.47s/it]"
          ]
        },
        {
          "metadata": {
            "tags": null
          },
          "name": "stdout",
          "output_type": "stream",
          "text": [
            "['nigger', 'nigga', 'mud shark', 'chink', 'gook', 'spic', 'wetback', 'kike', 'sand nigger', 'towelhead', 'beaner', 'cracker', 'honky', 'jungle bunny', 'redskin', 'bitch', 'slut', 'whore', 'cunt', 'feminazi', 'dyke', 'tranny', 'she-male', 'gold digger', 'skank', 'faggot', 'fag', 'homo', 'queer', 'carpet muncher', 'pillow biter', 'fudge packer', 'lesbo', 'Christ killer', 'jihadist', 'infidel', 'kike', 'raghead', 'heathen', 'pagan', 'Bible basher', 'papist', 'kaffir', 'retard', 'cripple', 'spaz', 'mongoloid', 'psycho', 'nutjob', 'lame', 'vegetable', 'deaf-mute', 'imbecile', 'yank', 'brit', 'kraut', 'jap', 'commie', 'ruski', 'paki', 'wop', 'dago', 'polack', 'fatty', 'lardass', 'twig', 'beanpole', 'ugly', 'four-eyes', 'baldie', 'geek', 'nerd', 'pimple-face']\n",
            "['aw', 'now', 'what', 'the', 'trouble', 'are', 'ya', 'a', 'little', 'butthurt', 'do', 'not', 'you', 'nigger', 'up', 'my', 'poll', 'this', 'is', 'important', 'business']\n",
            "['aw', 'now', 'what', 'the', 'trouble', 'are', 'ya', 'a', 'little', 'butthurt', 'do', 'not', 'you', 'nigr', 'up', 'my', 'poll', 'this', 'is', 'important', 'business']\n",
            "{'nigger': 'nigr'}\n"
          ]
        },
        {
          "metadata": {
            "tags": null
          },
          "name": "stderr",
          "output_type": "stream",
          "text": [
            " 20%|██        | 386/1924 [1:21:26<6:30:10, 15.22s/it]"
          ]
        },
        {
          "metadata": {
            "tags": null
          },
          "name": "stdout",
          "output_type": "stream",
          "text": [
            "['nigger', 'nigga', 'mud shark', 'chink', 'gook', 'spic', 'wetback', 'kike', 'sand nigger', 'towelhead', 'beaner', 'cracker', 'honky', 'jungle bunny', 'redskin', 'bitch', 'slut', 'whore', 'cunt', 'feminazi', 'dyke', 'tranny', 'she-male', 'gold digger', 'skank', 'faggot', 'fag', 'homo', 'queer', 'carpet muncher', 'pillow biter', 'fudge packer', 'lesbo', 'Christ killer', 'jihadist', 'infidel', 'kike', 'raghead', 'heathen', 'pagan', 'Bible basher', 'papist', 'kaffir', 'retard', 'cripple', 'spaz', 'mongoloid', 'psycho', 'nutjob', 'lame', 'vegetable', 'deaf-mute', 'imbecile', 'yank', 'brit', 'kraut', 'jap', 'commie', 'ruski', 'paki', 'wop', 'dago', 'polack', 'fatty', 'lardass', 'twig', 'beanpole', 'ugly', 'four-eyes', 'baldie', 'geek', 'nerd', 'pimple-face']\n",
            "['dude', 'in', 'white', 'trash', 'crew', 'shirt', 'just', 'almost', 'swung', 'on', 'a', 'couple', 'in', '<number>', '<number>', 'cus', 'they', 'fed', 'his', 'boston', 'terrier', 'a', 'potato', 'chip']\n",
            "['dudeee', 'in', 'white', 'trash', 'crew', 'shirrrrrt', 'just', 'almost', 'swung', 'on', 'a', 'Couple', 'in', '<number>', '<number>', 'cus', 'they', 'fed', 'his', 'boston', 'terrier', 'a', 'potato', 'chip']\n",
            "{'shirt': 'shirrrrrt', 'couple': 'Couple', 'dude': 'dudeee'}\n"
          ]
        },
        {
          "metadata": {
            "tags": null
          },
          "name": "stderr",
          "output_type": "stream",
          "text": [
            " 20%|██        | 391/1924 [1:22:11<3:16:46,  7.70s/it]"
          ]
        },
        {
          "metadata": {
            "tags": null
          },
          "name": "stdout",
          "output_type": "stream",
          "text": [
            "['nigger', 'nigga', 'mud shark', 'chink', 'gook', 'spic', 'wetback', 'kike', 'sand nigger', 'towelhead', 'beaner', 'cracker', 'honky', 'jungle bunny', 'redskin', 'bitch', 'slut', 'whore', 'cunt', 'feminazi', 'dyke', 'tranny', 'she-male', 'gold digger', 'skank', 'faggot', 'fag', 'homo', 'queer', 'carpet muncher', 'pillow biter', 'fudge packer', 'lesbo', 'Christ killer', 'jihadist', 'infidel', 'kike', 'raghead', 'heathen', 'pagan', 'Bible basher', 'papist', 'kaffir', 'retard', 'cripple', 'spaz', 'mongoloid', 'psycho', 'nutjob', 'lame', 'vegetable', 'deaf-mute', 'imbecile', 'yank', 'brit', 'kraut', 'jap', 'commie', 'ruski', 'paki', 'wop', 'dago', 'polack', 'fatty', 'lardass', 'twig', 'beanpole', 'ugly', 'four-eyes', 'baldie', 'geek', 'nerd', 'pimple-face']\n",
            "['sucking', 'all', 'the', 'msm', 'dick', 'eh', 'curry', 'nigger', 'race', 'traitor', 'tell', 'em', 'how', 'you', 'are', 'really', 'an', 'sjw', 'who', 'sides', 'with', 'sadiq', 'khan', 'mayor', 'of', 'londonstan', 'and', 'believe', 'curries', 'and', 'sand', 'niggers', 'should', 'steal', 'whyte', 'wymn', 'and', 'destroy', 'the', 'white', 'race', 'gabfam', 'speakfreely', 'tell', 'em', 'how', 'you', 'censor', 'downvotes', 'profitmonger']\n",
            "['sucking', 'all', 'the', 'msm', 'dick', 'eh', 'curry', 'NIGR', 'race', 'traitor', 'tell', 'em', 'how', 'you', 'are', 'really', 'an', 'sjw', 'who', 'sides', 'with', 'sadiq', 'khan', 'mayor', 'of', 'londonstan', 'and', 'believe', 'curries', 'and', 'sand', 'niggers', 'should', 'steal', 'whyte', 'wymn', 'and', 'destroy', 'the', 'white', 'race', 'gabfam', 'speakfreely', 'tell', 'em', 'how', 'you', 'censor', 'downvotes', 'profitmonger']\n",
            "{'nigger': 'NIGR'}\n"
          ]
        },
        {
          "metadata": {
            "tags": null
          },
          "name": "stderr",
          "output_type": "stream",
          "text": [
            " 21%|██        | 396/1924 [1:23:32<6:21:21, 14.97s/it]"
          ]
        },
        {
          "metadata": {
            "tags": null
          },
          "name": "stdout",
          "output_type": "stream",
          "text": [
            "['nigger', 'nigga', 'mud shark', 'chink', 'gook', 'spic', 'wetback', 'kike', 'sand nigger', 'towelhead', 'beaner', 'cracker', 'honky', 'jungle bunny', 'redskin', 'bitch', 'slut', 'whore', 'cunt', 'feminazi', 'dyke', 'tranny', 'she-male', 'gold digger', 'skank', 'faggot', 'fag', 'homo', 'queer', 'carpet muncher', 'pillow biter', 'fudge packer', 'lesbo', 'Christ killer', 'jihadist', 'infidel', 'kike', 'raghead', 'heathen', 'pagan', 'Bible basher', 'papist', 'kaffir', 'retard', 'cripple', 'spaz', 'mongoloid', 'psycho', 'nutjob', 'lame', 'vegetable', 'deaf-mute', 'imbecile', 'yank', 'brit', 'kraut', 'jap', 'commie', 'ruski', 'paki', 'wop', 'dago', 'polack', 'fatty', 'lardass', 'twig', 'beanpole', 'ugly', 'four-eyes', 'baldie', 'geek', 'nerd', 'pimple-face']\n",
            "['what', 'a', 'fucking', 'bitch', 'lol', 'conservatives', 'are', 'just', 'as', 'liberal', 'as', 'democrats', 'that', 'why', 'they', 'accept', 'faggots', 'nowadays', 'will', 'not', 'be', 'long', 'before', 'they', 'accept', 'trannies', 'too']\n",
            "['what', 'a', 'fucking', 'biiiitch', 'lol', 'conservatives', 'are', 'just', 'as', 'liberal', 'as', 'democrats', 'that', 'why', 'they', 'accept', 'faggots', 'nowadays', 'will', 'not', 'be', 'long', 'before', 'they', 'accept', 'trannies', 'too']\n",
            "{'bitch': 'biiiitch'}\n"
          ]
        },
        {
          "metadata": {
            "tags": null
          },
          "name": "stderr",
          "output_type": "stream",
          "text": [
            " 21%|██        | 401/1924 [1:24:25<4:37:58, 10.95s/it]"
          ]
        },
        {
          "metadata": {
            "tags": null
          },
          "name": "stdout",
          "output_type": "stream",
          "text": [
            "['nigger', 'nigga', 'mud shark', 'chink', 'gook', 'spic', 'wetback', 'kike', 'sand nigger', 'towelhead', 'beaner', 'cracker', 'honky', 'jungle bunny', 'redskin', 'bitch', 'slut', 'whore', 'cunt', 'feminazi', 'dyke', 'tranny', 'she-male', 'gold digger', 'skank', 'faggot', 'fag', 'homo', 'queer', 'carpet muncher', 'pillow biter', 'fudge packer', 'lesbo', 'Christ killer', 'jihadist', 'infidel', 'kike', 'raghead', 'heathen', 'pagan', 'Bible basher', 'papist', 'kaffir', 'retard', 'cripple', 'spaz', 'mongoloid', 'psycho', 'nutjob', 'lame', 'vegetable', 'deaf-mute', 'imbecile', 'yank', 'brit', 'kraut', 'jap', 'commie', 'ruski', 'paki', 'wop', 'dago', 'polack', 'fatty', 'lardass', 'twig', 'beanpole', 'ugly', 'four-eyes', 'baldie', 'geek', 'nerd', 'pimple-face']\n",
            "['<user>', '<number>', 'out', 'of', 'every', '<number>', 'nazi', 'soldiers', 'killed', 'in', 'ww2', 'were', 'killed', 'by', 'the', 'red', 'army', 'of', 'the', 'soviet', 'union']\n",
            "['<user>', '<number>', 'out', 'of', 'every', '<number>', 'nazi', 'soldiers', 'killed', 'in', 'Ww2', 'were', 'killed', 'by', 'tHE', 'RED', 'army', 'of', 'the', 'soviet', 'union']\n",
            "{'ww2': 'Ww2', 'red': 'RED', 'the': 'tHE'}\n"
          ]
        },
        {
          "metadata": {
            "tags": null
          },
          "name": "stderr",
          "output_type": "stream",
          "text": [
            " 21%|██        | 406/1924 [1:25:01<3:28:14,  8.23s/it]"
          ]
        },
        {
          "metadata": {
            "tags": null
          },
          "name": "stdout",
          "output_type": "stream",
          "text": [
            "['nigger', 'nigga', 'mud shark', 'chink', 'gook', 'spic', 'wetback', 'kike', 'sand nigger', 'towelhead', 'beaner', 'cracker', 'honky', 'jungle bunny', 'redskin', 'bitch', 'slut', 'whore', 'cunt', 'feminazi', 'dyke', 'tranny', 'she-male', 'gold digger', 'skank', 'faggot', 'fag', 'homo', 'queer', 'carpet muncher', 'pillow biter', 'fudge packer', 'lesbo', 'Christ killer', 'jihadist', 'infidel', 'kike', 'raghead', 'heathen', 'pagan', 'Bible basher', 'papist', 'kaffir', 'retard', 'cripple', 'spaz', 'mongoloid', 'psycho', 'nutjob', 'lame', 'vegetable', 'deaf-mute', 'imbecile', 'yank', 'brit', 'kraut', 'jap', 'commie', 'ruski', 'paki', 'wop', 'dago', 'polack', 'fatty', 'lardass', 'twig', 'beanpole', 'ugly', 'four-eyes', 'baldie', 'geek', 'nerd', 'pimple-face']\n",
            "['“', 'y', '’', 'all', 'got', 'everybody', 'infiltrating', 'negroes', '”', 'nicki', 'minaj']\n",
            "['“', 'y', '’', 'ALL', 'got', 'everybody', 'infiltrating', 'negroes', '”', 'nicki', 'Minaj']\n",
            "{'minaj': 'Minaj', 'all': 'ALL'}\n"
          ]
        },
        {
          "metadata": {
            "tags": null
          },
          "name": "stderr",
          "output_type": "stream",
          "text": [
            " 21%|██▏       | 411/1924 [1:26:24<6:32:51, 15.58s/it]"
          ]
        },
        {
          "metadata": {
            "tags": null
          },
          "name": "stdout",
          "output_type": "stream",
          "text": [
            "['nigger', 'nigga', 'mud shark', 'chink', 'gook', 'spic', 'wetback', 'kike', 'sand nigger', 'towelhead', 'beaner', 'cracker', 'honky', 'jungle bunny', 'redskin', 'bitch', 'slut', 'whore', 'cunt', 'feminazi', 'dyke', 'tranny', 'she-male', 'gold digger', 'skank', 'faggot', 'fag', 'homo', 'queer', 'carpet muncher', 'pillow biter', 'fudge packer', 'lesbo', 'Christ killer', 'jihadist', 'infidel', 'kike', 'raghead', 'heathen', 'pagan', 'Bible basher', 'papist', 'kaffir', 'retard', 'cripple', 'spaz', 'mongoloid', 'psycho', 'nutjob', 'lame', 'vegetable', 'deaf-mute', 'imbecile', 'yank', 'brit', 'kraut', 'jap', 'commie', 'ruski', 'paki', 'wop', 'dago', 'polack', 'fatty', 'lardass', 'twig', 'beanpole', 'ugly', 'four-eyes', 'baldie', 'geek', 'nerd', 'pimple-face']\n",
            "['whatever', 'ivan', 'bollockov', 'you', 'keep', 'flapping', 'like', 'a', 'bitch', 'i', 'will', 'get', 'your', 'dad', 'to', 'turn', 'your', 'wifi', 'off', 'and', 'confiscate', 'your', 'phone']\n",
            "['whatever', 'ivan', 'bollockov', 'you', 'keep', 'flapping', 'like', 'a', 'bItCh', 'i', 'will', 'get', 'your', 'dad', 'to', 'turn', 'your', 'wifi', 'off', 'and', 'confiscate', 'your', 'phone']\n",
            "{'bitch': 'bItCh'}\n"
          ]
        },
        {
          "metadata": {
            "tags": null
          },
          "name": "stderr",
          "output_type": "stream",
          "text": [
            " 22%|██▏       | 416/1924 [1:27:05<4:40:04, 11.14s/it]"
          ]
        },
        {
          "metadata": {
            "tags": null
          },
          "name": "stdout",
          "output_type": "stream",
          "text": [
            "['nigger', 'nigga', 'mud shark', 'chink', 'gook', 'spic', 'wetback', 'kike', 'sand nigger', 'towelhead', 'beaner', 'cracker', 'honky', 'jungle bunny', 'redskin', 'bitch', 'slut', 'whore', 'cunt', 'feminazi', 'dyke', 'tranny', 'she-male', 'gold digger', 'skank', 'faggot', 'fag', 'homo', 'queer', 'carpet muncher', 'pillow biter', 'fudge packer', 'lesbo', 'Christ killer', 'jihadist', 'infidel', 'kike', 'raghead', 'heathen', 'pagan', 'Bible basher', 'papist', 'kaffir', 'retard', 'cripple', 'spaz', 'mongoloid', 'psycho', 'nutjob', 'lame', 'vegetable', 'deaf-mute', 'imbecile', 'yank', 'brit', 'kraut', 'jap', 'commie', 'ruski', 'paki', 'wop', 'dago', 'polack', 'fatty', 'lardass', 'twig', 'beanpole', 'ugly', 'four-eyes', 'baldie', 'geek', 'nerd', 'pimple-face']\n",
            "['white', 'people', 'at', 'school', 'using', 'the', 'word', 'ghetto', 'on', 'their', 'instagram', 'story', 'please', 'mickenzie', 'explain', 'to', 'me', 'what', 'you', 'mean', 'by', 'that', 'word', '🤨', '🤨', '🤨', '🤨', '🤨']\n",
            "['white', 'people', 'at', 'schol', 'using', 'the', 'word', 'ghetto', 'on', 'their', 'instagram', 'story', 'please', 'mickenzie', 'explain', 'to', 'me', 'WHaT', 'you', 'mean', 'by', 'THAT', 'word', '🤨', '🤨', '🤨', '🤨', '🤨']\n",
            "{'that': 'THAT', 'school': 'schol', 'what': 'WHaT'}\n"
          ]
        },
        {
          "metadata": {
            "tags": null
          },
          "name": "stderr",
          "output_type": "stream",
          "text": [
            " 22%|██▏       | 421/1924 [1:27:52<3:36:12,  8.63s/it]"
          ]
        },
        {
          "metadata": {
            "tags": null
          },
          "name": "stdout",
          "output_type": "stream",
          "text": [
            "['nigger', 'nigga', 'mud shark', 'chink', 'gook', 'spic', 'wetback', 'kike', 'sand nigger', 'towelhead', 'beaner', 'cracker', 'honky', 'jungle bunny', 'redskin', 'bitch', 'slut', 'whore', 'cunt', 'feminazi', 'dyke', 'tranny', 'she-male', 'gold digger', 'skank', 'faggot', 'fag', 'homo', 'queer', 'carpet muncher', 'pillow biter', 'fudge packer', 'lesbo', 'Christ killer', 'jihadist', 'infidel', 'kike', 'raghead', 'heathen', 'pagan', 'Bible basher', 'papist', 'kaffir', 'retard', 'cripple', 'spaz', 'mongoloid', 'psycho', 'nutjob', 'lame', 'vegetable', 'deaf-mute', 'imbecile', 'yank', 'brit', 'kraut', 'jap', 'commie', 'ruski', 'paki', 'wop', 'dago', 'polack', 'fatty', 'lardass', 'twig', 'beanpole', 'ugly', 'four-eyes', 'baldie', 'geek', 'nerd', 'pimple-face']\n",
            "['lol', 'the', 'bbc', 'crying', 'over', 'their', 'favourite', 'anti', 'white', 'nigger', 'comrade', 'bob', 'mugabe', 'being', 'overthrown', 'in', 'zimbabwe']\n",
            "['lol', 'the', 'bbc', 'crying', 'over', 'their', 'favourite', 'anti', 'white', 'NIGGR', 'comrade', 'bob', 'mugabe', 'being', 'overthrown', 'in', 'zimbabwe']\n",
            "{'nigger': 'NIGGR'}\n"
          ]
        },
        {
          "metadata": {
            "tags": null
          },
          "name": "stderr",
          "output_type": "stream",
          "text": [
            " 22%|██▏       | 426/1924 [1:28:53<6:38:38, 15.97s/it]"
          ]
        },
        {
          "metadata": {
            "tags": null
          },
          "name": "stdout",
          "output_type": "stream",
          "text": [
            "['nigger', 'nigga', 'mud shark', 'chink', 'gook', 'spic', 'wetback', 'kike', 'sand nigger', 'towelhead', 'beaner', 'cracker', 'honky', 'jungle bunny', 'redskin', 'bitch', 'slut', 'whore', 'cunt', 'feminazi', 'dyke', 'tranny', 'she-male', 'gold digger', 'skank', 'faggot', 'fag', 'homo', 'queer', 'carpet muncher', 'pillow biter', 'fudge packer', 'lesbo', 'Christ killer', 'jihadist', 'infidel', 'kike', 'raghead', 'heathen', 'pagan', 'Bible basher', 'papist', 'kaffir', 'retard', 'cripple', 'spaz', 'mongoloid', 'psycho', 'nutjob', 'lame', 'vegetable', 'deaf-mute', 'imbecile', 'yank', 'brit', 'kraut', 'jap', 'commie', 'ruski', 'paki', 'wop', 'dago', 'polack', 'fatty', 'lardass', 'twig', 'beanpole', 'ugly', 'four-eyes', 'baldie', 'geek', 'nerd', 'pimple-face']\n",
            "['white', 'guy', 'puts', 'ied', 'in', 'mall', 'and', 'the', 'response', 'is', 'fuck', 'all', 'muzzies', 'and', 'spics', 'stay', 'classy', 'gab']\n",
            "['white', 'guy', 'puts', 'ied', 'in', 'mall', 'and', 'the', 'response', 'is', 'fuckkkkkk', 'allll', 'muzzies', 'and', 'spics', 'stay', 'classi', 'gab']\n",
            "{'all': 'allll', 'classy': 'classi', 'fuck': 'fuckkkkkk', 'ied': 'ied'}\n"
          ]
        },
        {
          "metadata": {
            "tags": null
          },
          "name": "stderr",
          "output_type": "stream",
          "text": [
            " 22%|██▏       | 431/1924 [1:29:23<2:28:45,  5.98s/it]"
          ]
        },
        {
          "metadata": {
            "tags": null
          },
          "name": "stdout",
          "output_type": "stream",
          "text": [
            "['nigger', 'nigga', 'mud shark', 'chink', 'gook', 'spic', 'wetback', 'kike', 'sand nigger', 'towelhead', 'beaner', 'cracker', 'honky', 'jungle bunny', 'redskin', 'bitch', 'slut', 'whore', 'cunt', 'feminazi', 'dyke', 'tranny', 'she-male', 'gold digger', 'skank', 'faggot', 'fag', 'homo', 'queer', 'carpet muncher', 'pillow biter', 'fudge packer', 'lesbo', 'Christ killer', 'jihadist', 'infidel', 'kike', 'raghead', 'heathen', 'pagan', 'Bible basher', 'papist', 'kaffir', 'retard', 'cripple', 'spaz', 'mongoloid', 'psycho', 'nutjob', 'lame', 'vegetable', 'deaf-mute', 'imbecile', 'yank', 'brit', 'kraut', 'jap', 'commie', 'ruski', 'paki', 'wop', 'dago', 'polack', 'fatty', 'lardass', 'twig', 'beanpole', 'ugly', 'four-eyes', 'baldie', 'geek', 'nerd', 'pimple-face']\n",
            "['everyday', 'the', 'same', 'thing', 'i', 'have', 'contracts', 'on', 'my', 'life', 'im', 'going', 'to', 'get', 'killed', 'im', 'dead', 'its', 'my', 'fault', 'im', 'an', 'nut', 'a', 'faggot', 'everyone', 'hates', 'me', 'the', 'country', 'wants', 'me', 'dead', 'organize', 'crime', 'the', 'police', 'who', 'does', 'not', 'want', 'to', 'see', 'my', 'die']\n",
            "['everyday', 'the', 'same', 'thing', 'i', 'have', 'contracts', 'on', 'my', 'life', 'im', 'going', 'to', 'get', 'killed', 'im', 'dead', 'its', 'my', 'fault', 'im', 'an', 'nut', 'a', 'FAGGOTT', 'everyone', 'hates', 'me', 'the', 'country', 'wants', 'me', 'dead', 'organize', 'crime', 'the', 'police', 'who', 'does', 'not', 'want', 'to', 'see', 'my', 'die']\n",
            "{'faggot': 'FAGGOTT'}\n"
          ]
        },
        {
          "metadata": {
            "tags": null
          },
          "name": "stderr",
          "output_type": "stream",
          "text": [
            " 23%|██▎       | 436/1924 [1:30:23<4:04:17,  9.85s/it]"
          ]
        },
        {
          "metadata": {
            "tags": null
          },
          "name": "stdout",
          "output_type": "stream",
          "text": [
            "['nigger', 'nigga', 'mud shark', 'chink', 'gook', 'spic', 'wetback', 'kike', 'sand nigger', 'towelhead', 'beaner', 'cracker', 'honky', 'jungle bunny', 'redskin', 'bitch', 'slut', 'whore', 'cunt', 'feminazi', 'dyke', 'tranny', 'she-male', 'gold digger', 'skank', 'faggot', 'fag', 'homo', 'queer', 'carpet muncher', 'pillow biter', 'fudge packer', 'lesbo', 'Christ killer', 'jihadist', 'infidel', 'kike', 'raghead', 'heathen', 'pagan', 'Bible basher', 'papist', 'kaffir', 'retard', 'cripple', 'spaz', 'mongoloid', 'psycho', 'nutjob', 'lame', 'vegetable', 'deaf-mute', 'imbecile', 'yank', 'brit', 'kraut', 'jap', 'commie', 'ruski', 'paki', 'wop', 'dago', 'polack', 'fatty', 'lardass', 'twig', 'beanpole', 'ugly', 'four-eyes', 'baldie', 'geek', 'nerd', 'pimple-face']\n",
            "['<user>', 'in', 'every', 'country', 'where', 'muzzies', 'are', 'in', 'minority', 'the', 'want', 'minority', 'rights', 'in', 'every', 'country', 'where', 'muzzie', 'are', 'majority', 'there', 'are', 'no', 'minority', 'rights']\n",
            "['<user>', 'in', 'every', 'country', 'whErE', 'muzzies', 'are', 'in', 'minority', 'the', 'WANt', 'minority', 'rights', 'in', 'every', 'countryI', 'WhEre', 'muzzie', 'are', 'majority', 'there', 'are', 'no', 'minority', 'rights']\n",
            "{'where': 'whErE', 'want': 'WANt', 'country': 'countryI'}\n"
          ]
        },
        {
          "metadata": {
            "tags": null
          },
          "name": "stderr",
          "output_type": "stream",
          "text": [
            " 23%|██▎       | 441/1924 [1:31:18<4:17:39, 10.42s/it]"
          ]
        },
        {
          "metadata": {
            "tags": null
          },
          "name": "stdout",
          "output_type": "stream",
          "text": [
            "['nigger', 'nigga', 'mud shark', 'chink', 'gook', 'spic', 'wetback', 'kike', 'sand nigger', 'towelhead', 'beaner', 'cracker', 'honky', 'jungle bunny', 'redskin', 'bitch', 'slut', 'whore', 'cunt', 'feminazi', 'dyke', 'tranny', 'she-male', 'gold digger', 'skank', 'faggot', 'fag', 'homo', 'queer', 'carpet muncher', 'pillow biter', 'fudge packer', 'lesbo', 'Christ killer', 'jihadist', 'infidel', 'kike', 'raghead', 'heathen', 'pagan', 'Bible basher', 'papist', 'kaffir', 'retard', 'cripple', 'spaz', 'mongoloid', 'psycho', 'nutjob', 'lame', 'vegetable', 'deaf-mute', 'imbecile', 'yank', 'brit', 'kraut', 'jap', 'commie', 'ruski', 'paki', 'wop', 'dago', 'polack', 'fatty', 'lardass', 'twig', 'beanpole', 'ugly', 'four-eyes', 'baldie', 'geek', 'nerd', 'pimple-face']\n",
            "['<user>', 'is', 'going', 'to', 'let', 'pedos', 'run', 'freely', 'on', 'gab', 'advocating', 'for', 'child', 'fucking', 'but', 'if', 'you', 'think', 'nigger', 'and', 'jew', 'rapists', 'that', 'want', 'you', 'enslaved', 'and', 'your', 'kids', 'raped', 'should', 'be', 'killed', 'you', 'are', 'the', 'bad', 'guy']\n",
            "['<user>', 'is', 'going', 'to', 'let', 'pedos', 'run', 'freely', 'on', 'gab', 'advocating', 'for', 'child', 'fucking', 'but', 'if', 'you', 'think', 'Nigger', 'and', 'jew', 'rapists', 'that', 'want', 'you', 'enslaved', 'and', 'your', 'kids', 'raped', 'should', 'be', 'killed', 'you', 'are', 'the', 'bad', 'guy']\n",
            "{'nigger': 'Nigger'}\n"
          ]
        },
        {
          "metadata": {
            "tags": null
          },
          "name": "stderr",
          "output_type": "stream",
          "text": [
            " 23%|██▎       | 446/1924 [1:31:48<2:16:09,  5.53s/it]"
          ]
        },
        {
          "metadata": {
            "tags": null
          },
          "name": "stdout",
          "output_type": "stream",
          "text": [
            "['nigger', 'nigga', 'mud shark', 'chink', 'gook', 'spic', 'wetback', 'kike', 'sand nigger', 'towelhead', 'beaner', 'cracker', 'honky', 'jungle bunny', 'redskin', 'bitch', 'slut', 'whore', 'cunt', 'feminazi', 'dyke', 'tranny', 'she-male', 'gold digger', 'skank', 'faggot', 'fag', 'homo', 'queer', 'carpet muncher', 'pillow biter', 'fudge packer', 'lesbo', 'Christ killer', 'jihadist', 'infidel', 'kike', 'raghead', 'heathen', 'pagan', 'Bible basher', 'papist', 'kaffir', 'retard', 'cripple', 'spaz', 'mongoloid', 'psycho', 'nutjob', 'lame', 'vegetable', 'deaf-mute', 'imbecile', 'yank', 'brit', 'kraut', 'jap', 'commie', 'ruski', 'paki', 'wop', 'dago', 'polack', 'fatty', 'lardass', 'twig', 'beanpole', 'ugly', 'four-eyes', 'baldie', 'geek', 'nerd', 'pimple-face']\n",
            "['when', 'the', 'lewdposter', 'you', 'follow', 'reposts', 'a', 'series', 'of', 'naked', 'sheboons']\n",
            "['when', 'THUE', 'lewdposter', 'you', 'follow', 'reposts', 'a', 'series', 'of', 'Naked', 'sheboons']\n",
            "{'naked': 'Naked', 'the': 'THUE'}\n"
          ]
        },
        {
          "metadata": {
            "tags": null
          },
          "name": "stderr",
          "output_type": "stream",
          "text": [
            " 23%|██▎       | 451/1924 [1:32:38<4:55:17, 12.03s/it]"
          ]
        },
        {
          "metadata": {
            "tags": null
          },
          "name": "stdout",
          "output_type": "stream",
          "text": [
            "['nigger', 'nigga', 'mud shark', 'chink', 'gook', 'spic', 'wetback', 'kike', 'sand nigger', 'towelhead', 'beaner', 'cracker', 'honky', 'jungle bunny', 'redskin', 'bitch', 'slut', 'whore', 'cunt', 'feminazi', 'dyke', 'tranny', 'she-male', 'gold digger', 'skank', 'faggot', 'fag', 'homo', 'queer', 'carpet muncher', 'pillow biter', 'fudge packer', 'lesbo', 'Christ killer', 'jihadist', 'infidel', 'kike', 'raghead', 'heathen', 'pagan', 'Bible basher', 'papist', 'kaffir', 'retard', 'cripple', 'spaz', 'mongoloid', 'psycho', 'nutjob', 'lame', 'vegetable', 'deaf-mute', 'imbecile', 'yank', 'brit', 'kraut', 'jap', 'commie', 'ruski', 'paki', 'wop', 'dago', 'polack', 'fatty', 'lardass', 'twig', 'beanpole', 'ugly', 'four-eyes', 'baldie', 'geek', 'nerd', 'pimple-face']\n",
            "['dear', 'illegal', 'immigrants', 'living', 'in', 'my', 'apartment', 'building', 'stop', 'overstuffing', 'the', 'washing', 'machine', 'stop', 'giving', 'me', 'dirty', 'looks', 'when', 'i', 'kindly', 'ask', 'you', 'to', 'remove', 'your', 'car', 'from', 'the', 'parking', 'lot', 'kindly', 'stop', 'looking', 'like', 'i', 'owe', 'you', 'anything', 'because', 'i', 'do', 'not', 'thank', 'you', 'rosy']\n",
            "['dear', 'illegal', 'immigrants', 'Living', 'in', 'my', 'APARTMENT', 'BUILDING', 'STOP', 'overstuffing', 'THHHe', 'washing', 'machine', 'Stopp', 'giving', 'me', 'dirty', 'looks', 'whEn', 'i', 'kindlyI', 'ask', 'you', 'to', 'remove', 'your', 'car', 'from', 'Thhe', 'parking', 'lot', 'kindly', 'SToP', 'looking', 'like', 'i', 'owe', 'you', 'anything', 'because', 'i', 'do', 'not', 'thank', 'you', 'rosy']\n",
            "{'the': 'Thhe', 'stop': 'Stopp', 'when': 'whEn', 'apartment': 'APARTMENT', 'building': 'BUILDING', 'living': 'Living', 'kindly': 'kindlyI'}\n"
          ]
        },
        {
          "metadata": {
            "tags": null
          },
          "name": "stderr",
          "output_type": "stream",
          "text": [
            " 24%|██▎       | 456/1924 [1:35:25<13:15:02, 32.50s/it]"
          ]
        },
        {
          "metadata": {
            "tags": null
          },
          "name": "stdout",
          "output_type": "stream",
          "text": [
            "['nigger', 'nigga', 'mud shark', 'chink', 'gook', 'spic', 'wetback', 'kike', 'sand nigger', 'towelhead', 'beaner', 'cracker', 'honky', 'jungle bunny', 'redskin', 'bitch', 'slut', 'whore', 'cunt', 'feminazi', 'dyke', 'tranny', 'she-male', 'gold digger', 'skank', 'faggot', 'fag', 'homo', 'queer', 'carpet muncher', 'pillow biter', 'fudge packer', 'lesbo', 'Christ killer', 'jihadist', 'infidel', 'kike', 'raghead', 'heathen', 'pagan', 'Bible basher', 'papist', 'kaffir', 'retard', 'cripple', 'spaz', 'mongoloid', 'psycho', 'nutjob', 'lame', 'vegetable', 'deaf-mute', 'imbecile', 'yank', 'brit', 'kraut', 'jap', 'commie', 'ruski', 'paki', 'wop', 'dago', 'polack', 'fatty', 'lardass', 'twig', 'beanpole', 'ugly', 'four-eyes', 'baldie', 'geek', 'nerd', 'pimple-face']\n",
            "['i', 'find', 'it', 'easy', 'to', 'get', 'around', 'being', 'called', 'a', 'racist', 'sexist', 'nazi', 'homophobe', 'if', 'you', 'are', 'just', 'an', 'asshole', 'to', 'everyone']\n",
            "['i', 'Find', 'it', 'easy', 'to', 'gEEETTT', 'around', 'being', 'called', 'a', 'racist', 'Sexist', 'nazi', 'homophobe', 'if', 'youuuu', 'are', 'just', 'an', 'asshole', 'to', 'everyone']\n",
            "{'sexist': 'Sexist', 'get': 'gEEETTT', 'find': 'Find', 'you': 'youuuu'}\n"
          ]
        },
        {
          "metadata": {
            "tags": null
          },
          "name": "stderr",
          "output_type": "stream",
          "text": [
            " 24%|██▍       | 461/1924 [1:36:23<4:41:21, 11.54s/it]"
          ]
        },
        {
          "metadata": {
            "tags": null
          },
          "name": "stdout",
          "output_type": "stream",
          "text": [
            "['nigger', 'nigga', 'mud shark', 'chink', 'gook', 'spic', 'wetback', 'kike', 'sand nigger', 'towelhead', 'beaner', 'cracker', 'honky', 'jungle bunny', 'redskin', 'bitch', 'slut', 'whore', 'cunt', 'feminazi', 'dyke', 'tranny', 'she-male', 'gold digger', 'skank', 'faggot', 'fag', 'homo', 'queer', 'carpet muncher', 'pillow biter', 'fudge packer', 'lesbo', 'Christ killer', 'jihadist', 'infidel', 'kike', 'raghead', 'heathen', 'pagan', 'Bible basher', 'papist', 'kaffir', 'retard', 'cripple', 'spaz', 'mongoloid', 'psycho', 'nutjob', 'lame', 'vegetable', 'deaf-mute', 'imbecile', 'yank', 'brit', 'kraut', 'jap', 'commie', 'ruski', 'paki', 'wop', 'dago', 'polack', 'fatty', 'lardass', 'twig', 'beanpole', 'ugly', 'four-eyes', 'baldie', 'geek', 'nerd', 'pimple-face']\n",
            "['i', 'raped', 'a', 'sheep', 'because', 'it', 'sneezed', 'at', 'a', 'pig']\n",
            "['i', 'rAPED', 'a', 'sheep', 'because', 'it', 'sneezed', 'at', 'a', 'pig']\n",
            "{'raped': 'rAPED'}\n"
          ]
        },
        {
          "metadata": {
            "tags": null
          },
          "name": "stderr",
          "output_type": "stream",
          "text": [
            " 24%|██▍       | 466/1924 [1:37:35<5:30:53, 13.62s/it]"
          ]
        },
        {
          "metadata": {
            "tags": null
          },
          "name": "stdout",
          "output_type": "stream",
          "text": [
            "['nigger', 'nigga', 'mud shark', 'chink', 'gook', 'spic', 'wetback', 'kike', 'sand nigger', 'towelhead', 'beaner', 'cracker', 'honky', 'jungle bunny', 'redskin', 'bitch', 'slut', 'whore', 'cunt', 'feminazi', 'dyke', 'tranny', 'she-male', 'gold digger', 'skank', 'faggot', 'fag', 'homo', 'queer', 'carpet muncher', 'pillow biter', 'fudge packer', 'lesbo', 'Christ killer', 'jihadist', 'infidel', 'kike', 'raghead', 'heathen', 'pagan', 'Bible basher', 'papist', 'kaffir', 'retard', 'cripple', 'spaz', 'mongoloid', 'psycho', 'nutjob', 'lame', 'vegetable', 'deaf-mute', 'imbecile', 'yank', 'brit', 'kraut', 'jap', 'commie', 'ruski', 'paki', 'wop', 'dago', 'polack', 'fatty', 'lardass', 'twig', 'beanpole', 'ugly', 'four-eyes', 'baldie', 'geek', 'nerd', 'pimple-face']\n",
            "['signs', 'in', 'the', 'ghetto', 'warning', 'the', 'jews', 'of', 'typhus', 'germans', 'warning', 'jews', 'about', 'a', 'deadly', 'disease']\n",
            "['signs', 'in', 'the', 'GHETTO', 'warning', 'thE', 'jews', 'of', 'typhus', 'germans', 'warning', 'jews', 'about', 'a', 'deadly', 'disease']\n",
            "{'ghetto': 'GHETTO', 'the': 'thE'}\n"
          ]
        },
        {
          "metadata": {
            "tags": null
          },
          "name": "stderr",
          "output_type": "stream",
          "text": [
            " 24%|██▍       | 471/1924 [1:38:12<3:39:16,  9.06s/it]"
          ]
        },
        {
          "metadata": {
            "tags": null
          },
          "name": "stdout",
          "output_type": "stream",
          "text": [
            "['nigger', 'nigga', 'mud shark', 'chink', 'gook', 'spic', 'wetback', 'kike', 'sand nigger', 'towelhead', 'beaner', 'cracker', 'honky', 'jungle bunny', 'redskin', 'bitch', 'slut', 'whore', 'cunt', 'feminazi', 'dyke', 'tranny', 'she-male', 'gold digger', 'skank', 'faggot', 'fag', 'homo', 'queer', 'carpet muncher', 'pillow biter', 'fudge packer', 'lesbo', 'Christ killer', 'jihadist', 'infidel', 'kike', 'raghead', 'heathen', 'pagan', 'Bible basher', 'papist', 'kaffir', 'retard', 'cripple', 'spaz', 'mongoloid', 'psycho', 'nutjob', 'lame', 'vegetable', 'deaf-mute', 'imbecile', 'yank', 'brit', 'kraut', 'jap', 'commie', 'ruski', 'paki', 'wop', 'dago', 'polack', 'fatty', 'lardass', 'twig', 'beanpole', 'ugly', 'four-eyes', 'baldie', 'geek', 'nerd', 'pimple-face']\n",
            "['<user>', 'dis', 'nigga', 'called', 'us', 'coons', 'and', 'niggers', 'with', 'a', 'er', 'am', 'i', 'missing', 'something', 'lmao']\n",
            "['<user>', 'dis', 'niggaaaaa', 'called', 'us', 'coons', 'and', 'niggers', 'with', 'a', 'er', 'am', 'i', 'missing', 'something', 'lmao']\n",
            "{'nigga': 'niggaaaaa'}\n"
          ]
        },
        {
          "metadata": {
            "tags": null
          },
          "name": "stderr",
          "output_type": "stream",
          "text": [
            " 25%|██▍       | 475/1924 [1:39:10<4:54:10, 12.18s/it]"
          ]
        },
        {
          "metadata": {
            "tags": null
          },
          "name": "stdout",
          "output_type": "stream",
          "text": [
            "['nigger', 'nigga', 'mud shark', 'chink', 'gook', 'spic', 'wetback', 'kike', 'sand nigger', 'towelhead', 'beaner', 'cracker', 'honky', 'jungle bunny', 'redskin', 'bitch', 'slut', 'whore', 'cunt', 'feminazi', 'dyke', 'tranny', 'she-male', 'gold digger', 'skank', 'faggot', 'fag', 'homo', 'queer', 'carpet muncher', 'pillow biter', 'fudge packer', 'lesbo', 'Christ killer', 'jihadist', 'infidel', 'kike', 'raghead', 'heathen', 'pagan', 'Bible basher', 'papist', 'kaffir', 'retard', 'cripple', 'spaz', 'mongoloid', 'psycho', 'nutjob', 'lame', 'vegetable', 'deaf-mute', 'imbecile', 'yank', 'brit', 'kraut', 'jap', 'commie', 'ruski', 'paki', 'wop', 'dago', 'polack', 'fatty', 'lardass', 'twig', 'beanpole', 'ugly', 'four-eyes', 'baldie', 'geek', 'nerd', 'pimple-face']\n",
            "['they', 'are', 'lighter', 'skinned', 'arabs', 'with', 'phoenician', 'and', 'other', 'relict', 'populations', 'mixed', 'in', 'hardly', 'white', 'but', 'still', 'i', 'support', 'them', 'and', 'their', 'right', 'to', 'exist', 'in', 'the', 'face', 'of', 'kike', 'oppression']\n",
            "['they', 'are', 'lighter', 'skinned', 'arabs', 'with', 'phoenician', 'and', 'other', 'relict', 'populations', 'mixed', 'in', 'hardly', 'white', 'but', 'still', 'i', 'support', 'them', 'and', 'their', 'right', 'to', 'exist', 'in', 'the', 'face', 'of', 'Kike', 'oppression']\n",
            "{'kike': 'Kike'}\n"
          ]
        },
        {
          "metadata": {
            "tags": null
          },
          "name": "stderr",
          "output_type": "stream",
          "text": [
            " 25%|██▌       | 481/1924 [1:40:31<6:11:36, 15.45s/it]"
          ]
        },
        {
          "metadata": {
            "tags": null
          },
          "name": "stdout",
          "output_type": "stream",
          "text": [
            "['nigger', 'nigga', 'mud shark', 'chink', 'gook', 'spic', 'wetback', 'kike', 'sand nigger', 'towelhead', 'beaner', 'cracker', 'honky', 'jungle bunny', 'redskin', 'bitch', 'slut', 'whore', 'cunt', 'feminazi', 'dyke', 'tranny', 'she-male', 'gold digger', 'skank', 'faggot', 'fag', 'homo', 'queer', 'carpet muncher', 'pillow biter', 'fudge packer', 'lesbo', 'Christ killer', 'jihadist', 'infidel', 'kike', 'raghead', 'heathen', 'pagan', 'Bible basher', 'papist', 'kaffir', 'retard', 'cripple', 'spaz', 'mongoloid', 'psycho', 'nutjob', 'lame', 'vegetable', 'deaf-mute', 'imbecile', 'yank', 'brit', 'kraut', 'jap', 'commie', 'ruski', 'paki', 'wop', 'dago', 'polack', 'fatty', 'lardass', 'twig', 'beanpole', 'ugly', 'four-eyes', 'baldie', 'geek', 'nerd', 'pimple-face']\n",
            "['see', 'how', 'lefties', 'turn', 'on', 'their', 'poster', 'girl', 'aung', 'san', 'suu', 'kyi', 'mynarmar', 'cos', 'she', 'will', 'not', 'bend', 'to', 'dhimmi', 'traitor', 'politicians', 'un', 'by', 'appeasing', 'moslems', 'unhcr', 'head', 'is', 'a', 'moslem', 'screams', 'genocide', 'irony', 'yet', 'mentions', 'nothing', 'of', 'ongoing', 'moslem', 'genocide', 'of', 'christians', 'in', 'middle', 'east', 'me', 'says', 'go', 'for', 'it', 'aung']\n",
            "['see', 'how', 'leftys', 'turn', 'on', 'their', 'poster', 'giiiiirl', 'aung', 'san', 'suu', 'kyi', 'mynarmar', 'cos', 'she', 'will', 'noooot', 'bend', 'to', 'dhimmi', 'TRAiTOR', 'polticians', 'un', 'by', 'appeasing', 'moslems', 'unhcr', 'head', 'is', 'a', 'moslem', 'screams', 'genocide', 'irony', 'yet', 'mentions', 'NOTHINGGGGGG', 'of', 'ongoing', 'moslem', 'genocide', 'of', 'christians', 'in', 'middle', 'east', 'me', 'says', 'go', 'for', 'it', 'Aung']\n",
            "{'girl': 'giiiiirl', 'kyi': 'kyi', 'traitor': 'TRAiTOR', 'nothing': 'NOTHINGGGGGG', 'not': 'noooot', 'aung': 'Aung', 'politicians': 'polticians', 'lefties': 'leftys'}\n"
          ]
        },
        {
          "metadata": {
            "tags": null
          },
          "name": "stderr",
          "output_type": "stream",
          "text": [
            " 25%|██▌       | 486/1924 [1:40:45<2:47:10,  6.98s/it]"
          ]
        },
        {
          "metadata": {
            "tags": null
          },
          "name": "stdout",
          "output_type": "stream",
          "text": [
            "['nigger', 'nigga', 'mud shark', 'chink', 'gook', 'spic', 'wetback', 'kike', 'sand nigger', 'towelhead', 'beaner', 'cracker', 'honky', 'jungle bunny', 'redskin', 'bitch', 'slut', 'whore', 'cunt', 'feminazi', 'dyke', 'tranny', 'she-male', 'gold digger', 'skank', 'faggot', 'fag', 'homo', 'queer', 'carpet muncher', 'pillow biter', 'fudge packer', 'lesbo', 'Christ killer', 'jihadist', 'infidel', 'kike', 'raghead', 'heathen', 'pagan', 'Bible basher', 'papist', 'kaffir', 'retard', 'cripple', 'spaz', 'mongoloid', 'psycho', 'nutjob', 'lame', 'vegetable', 'deaf-mute', 'imbecile', 'yank', 'brit', 'kraut', 'jap', 'commie', 'ruski', 'paki', 'wop', 'dago', 'polack', 'fatty', 'lardass', 'twig', 'beanpole', 'ugly', 'four-eyes', 'baldie', 'geek', 'nerd', 'pimple-face']\n",
            "['western', 'europeans', 'united', 'against', 'the', 'inferior', 'subhuman', 'mudslime', 'filth']\n",
            "['WeStErN', 'europeans', 'united', 'agnist', 'the', 'inferior', 'subhuman', 'mudslime', 'filth']\n",
            "{'against': 'agnist', 'western': 'WeStErN'}\n"
          ]
        },
        {
          "metadata": {
            "tags": null
          },
          "name": "stderr",
          "output_type": "stream",
          "text": [
            " 26%|██▌       | 491/1924 [1:41:56<5:40:01, 14.24s/it]"
          ]
        },
        {
          "metadata": {
            "tags": null
          },
          "name": "stdout",
          "output_type": "stream",
          "text": [
            "['nigger', 'nigga', 'mud shark', 'chink', 'gook', 'spic', 'wetback', 'kike', 'sand nigger', 'towelhead', 'beaner', 'cracker', 'honky', 'jungle bunny', 'redskin', 'bitch', 'slut', 'whore', 'cunt', 'feminazi', 'dyke', 'tranny', 'she-male', 'gold digger', 'skank', 'faggot', 'fag', 'homo', 'queer', 'carpet muncher', 'pillow biter', 'fudge packer', 'lesbo', 'Christ killer', 'jihadist', 'infidel', 'kike', 'raghead', 'heathen', 'pagan', 'Bible basher', 'papist', 'kaffir', 'retard', 'cripple', 'spaz', 'mongoloid', 'psycho', 'nutjob', 'lame', 'vegetable', 'deaf-mute', 'imbecile', 'yank', 'brit', 'kraut', 'jap', 'commie', 'ruski', 'paki', 'wop', 'dago', 'polack', 'fatty', 'lardass', 'twig', 'beanpole', 'ugly', 'four-eyes', 'baldie', 'geek', 'nerd', 'pimple-face']\n",
            "['you', 'are', 'in', 'the', 'grip', 'of', 'meme', 'malware', 'that', 'is', 'what', 'i', 'fight', 'also', 'muzzie', 'invader', 'scum']\n",
            "['YOUUUU', 'are', 'in', 'the', 'Grp', 'of', 'meme', 'malware', 'that', 'is', 'what', 'i', 'fight', 'also', 'muzzie', 'invader', 'scum']\n",
            "{'meme': 'meme', 'grip': 'Grp', 'you': 'YOUUUU'}\n"
          ]
        },
        {
          "metadata": {
            "tags": null
          },
          "name": "stderr",
          "output_type": "stream",
          "text": [
            " 26%|██▌       | 496/1924 [1:42:46<5:53:51, 14.87s/it]"
          ]
        },
        {
          "metadata": {
            "tags": null
          },
          "name": "stdout",
          "output_type": "stream",
          "text": [
            "['nigger', 'nigga', 'mud shark', 'chink', 'gook', 'spic', 'wetback', 'kike', 'sand nigger', 'towelhead', 'beaner', 'cracker', 'honky', 'jungle bunny', 'redskin', 'bitch', 'slut', 'whore', 'cunt', 'feminazi', 'dyke', 'tranny', 'she-male', 'gold digger', 'skank', 'faggot', 'fag', 'homo', 'queer', 'carpet muncher', 'pillow biter', 'fudge packer', 'lesbo', 'Christ killer', 'jihadist', 'infidel', 'kike', 'raghead', 'heathen', 'pagan', 'Bible basher', 'papist', 'kaffir', 'retard', 'cripple', 'spaz', 'mongoloid', 'psycho', 'nutjob', 'lame', 'vegetable', 'deaf-mute', 'imbecile', 'yank', 'brit', 'kraut', 'jap', 'commie', 'ruski', 'paki', 'wop', 'dago', 'polack', 'fatty', 'lardass', 'twig', 'beanpole', 'ugly', 'four-eyes', 'baldie', 'geek', 'nerd', 'pimple-face']\n",
            "['the', 'hill', 'as', 'always', 'twists', 'it', 'up', 'it', 'not', 'the', 'religious', 'right', 'it', 'the', 'religious', 'left', 'that', 'run', 'refugee', 'placement', 'programs', 'and', 'such', 'like', 'the', 'jackasses', 'settle', 'muzzies', 'in', 'paterson', 'nj']\n",
            "['Theee', 'hill', 'as', 'always', 'twists', 'it', 'up', 'it', 'not', 'the', 'religous', 'RiiiIIIGHT', 'it', 'the', 'religious', 'left', 'that', 'run', 'refugee', 'placement', 'programms', 'and', 'such', 'like', 'the', 'jackasses', 'settle', 'muzzies', 'in', 'paterson', 'nj']\n",
            "{'placement': 'placement', 'religious': 'religous', 'programs': 'programms', 'right': 'RiiiIIIGHT', 'the': 'Theee'}\n"
          ]
        },
        {
          "metadata": {
            "tags": null
          },
          "name": "stderr",
          "output_type": "stream",
          "text": [
            " 26%|██▌       | 501/1924 [1:43:42<4:40:13, 11.82s/it]"
          ]
        },
        {
          "metadata": {
            "tags": null
          },
          "name": "stdout",
          "output_type": "stream",
          "text": [
            "['nigger', 'nigga', 'mud shark', 'chink', 'gook', 'spic', 'wetback', 'kike', 'sand nigger', 'towelhead', 'beaner', 'cracker', 'honky', 'jungle bunny', 'redskin', 'bitch', 'slut', 'whore', 'cunt', 'feminazi', 'dyke', 'tranny', 'she-male', 'gold digger', 'skank', 'faggot', 'fag', 'homo', 'queer', 'carpet muncher', 'pillow biter', 'fudge packer', 'lesbo', 'Christ killer', 'jihadist', 'infidel', 'kike', 'raghead', 'heathen', 'pagan', 'Bible basher', 'papist', 'kaffir', 'retard', 'cripple', 'spaz', 'mongoloid', 'psycho', 'nutjob', 'lame', 'vegetable', 'deaf-mute', 'imbecile', 'yank', 'brit', 'kraut', 'jap', 'commie', 'ruski', 'paki', 'wop', 'dago', 'polack', 'fatty', 'lardass', 'twig', 'beanpole', 'ugly', 'four-eyes', 'baldie', 'geek', 'nerd', 'pimple-face']\n",
            "['<user>', 'are', 'not', 'the', 'immigrants', 'from', 'iran', 'sikhs', 'as', 'well', 'i', 'have', 'heard', 'a', 'lot', 'of', 'great', 'success', 'stories', 'about', 'how', 'they', 'integrated', 'into', 'our', 'society']\n",
            "['<user>', 'arrre', 'not', 'THEEE', 'immigrants', 'from', 'iran', 'sikhs', 'as', 'WEll', 'i', 'have', 'heard', 'a', 'lot', 'of', 'great', 'success', 'stories', 'about', 'how', 'Thái', 'integrated', 'into', 'our', 'Socity']\n",
            "{'are': 'arrre', 'the': 'THEEE', 'well': 'WEll', 'society': 'Socity', 'they': 'Thái'}\n"
          ]
        },
        {
          "metadata": {
            "tags": null
          },
          "name": "stderr",
          "output_type": "stream",
          "text": [
            " 26%|██▋       | 506/1924 [1:44:35<5:22:26, 13.64s/it]"
          ]
        },
        {
          "metadata": {
            "tags": null
          },
          "name": "stdout",
          "output_type": "stream",
          "text": [
            "['nigger', 'nigga', 'mud shark', 'chink', 'gook', 'spic', 'wetback', 'kike', 'sand nigger', 'towelhead', 'beaner', 'cracker', 'honky', 'jungle bunny', 'redskin', 'bitch', 'slut', 'whore', 'cunt', 'feminazi', 'dyke', 'tranny', 'she-male', 'gold digger', 'skank', 'faggot', 'fag', 'homo', 'queer', 'carpet muncher', 'pillow biter', 'fudge packer', 'lesbo', 'Christ killer', 'jihadist', 'infidel', 'kike', 'raghead', 'heathen', 'pagan', 'Bible basher', 'papist', 'kaffir', 'retard', 'cripple', 'spaz', 'mongoloid', 'psycho', 'nutjob', 'lame', 'vegetable', 'deaf-mute', 'imbecile', 'yank', 'brit', 'kraut', 'jap', 'commie', 'ruski', 'paki', 'wop', 'dago', 'polack', 'fatty', 'lardass', 'twig', 'beanpole', 'ugly', 'four-eyes', 'baldie', 'geek', 'nerd', 'pimple-face']\n",
            "['you', 'know', 'niggers', 'love', 'pretty', 'b*tches', '<censored>', 'with', 'ambition']\n",
            "['you', 'know', 'niggers', 'love', 'pReTTy', 'b*tches', '<censored>', 'with', 'ambition']\n",
            "{'pretty': 'pReTTy'}\n"
          ]
        },
        {
          "metadata": {
            "tags": null
          },
          "name": "stderr",
          "output_type": "stream",
          "text": [
            " 27%|██▋       | 511/1924 [1:45:54<5:48:47, 14.81s/it]"
          ]
        },
        {
          "metadata": {
            "tags": null
          },
          "name": "stdout",
          "output_type": "stream",
          "text": [
            "['nigger', 'nigga', 'mud shark', 'chink', 'gook', 'spic', 'wetback', 'kike', 'sand nigger', 'towelhead', 'beaner', 'cracker', 'honky', 'jungle bunny', 'redskin', 'bitch', 'slut', 'whore', 'cunt', 'feminazi', 'dyke', 'tranny', 'she-male', 'gold digger', 'skank', 'faggot', 'fag', 'homo', 'queer', 'carpet muncher', 'pillow biter', 'fudge packer', 'lesbo', 'Christ killer', 'jihadist', 'infidel', 'kike', 'raghead', 'heathen', 'pagan', 'Bible basher', 'papist', 'kaffir', 'retard', 'cripple', 'spaz', 'mongoloid', 'psycho', 'nutjob', 'lame', 'vegetable', 'deaf-mute', 'imbecile', 'yank', 'brit', 'kraut', 'jap', 'commie', 'ruski', 'paki', 'wop', 'dago', 'polack', 'fatty', 'lardass', 'twig', 'beanpole', 'ugly', 'four-eyes', 'baldie', 'geek', 'nerd', 'pimple-face']\n",
            "['real', 'nigger', 'me', 'please']\n",
            "['real', 'NIGR', 'me', 'please']\n",
            "{'nigger': 'NIGR'}\n"
          ]
        },
        {
          "metadata": {
            "tags": null
          },
          "name": "stderr",
          "output_type": "stream",
          "text": [
            " 27%|██▋       | 515/1924 [1:46:06<2:22:30,  6.07s/it]"
          ]
        },
        {
          "metadata": {
            "tags": null
          },
          "name": "stdout",
          "output_type": "stream",
          "text": [
            "['nigger', 'nigga', 'mud shark', 'chink', 'gook', 'spic', 'wetback', 'kike', 'sand nigger', 'towelhead', 'beaner', 'cracker', 'honky', 'jungle bunny', 'redskin', 'bitch', 'slut', 'whore', 'cunt', 'feminazi', 'dyke', 'tranny', 'she-male', 'gold digger', 'skank', 'faggot', 'fag', 'homo', 'queer', 'carpet muncher', 'pillow biter', 'fudge packer', 'lesbo', 'Christ killer', 'jihadist', 'infidel', 'kike', 'raghead', 'heathen', 'pagan', 'Bible basher', 'papist', 'kaffir', 'retard', 'cripple', 'spaz', 'mongoloid', 'psycho', 'nutjob', 'lame', 'vegetable', 'deaf-mute', 'imbecile', 'yank', 'brit', 'kraut', 'jap', 'commie', 'ruski', 'paki', 'wop', 'dago', 'polack', 'fatty', 'lardass', 'twig', 'beanpole', 'ugly', 'four-eyes', 'baldie', 'geek', 'nerd', 'pimple-face']\n",
            "['in', '<number>', 'there', 'was', '<number>', 'million', 'white', 'christian', 'south', 'africans', 'now', 'kike', 'are', 'gruesomly', 'genociding', 'those', '<number>', 'million', 'peacefull', 'european', 'white', 'minority', 'today', '<number>', 'million', 'left', 'and', 'still', 'going', 'strong', 'alt', 'right', 'white', 'brothers', 'and', 'sisters']\n",
            "['in', '<number>', 'there', 'was', '<number>', 'million', 'white', 'christian', 'south', 'africans', 'now', 'Kike', 'are', 'gruesomly', 'genociding', 'those', '<number>', 'million', 'peacefull', 'european', 'white', 'minority', 'today', '<number>', 'million', 'left', 'and', 'still', 'going', 'strong', 'alt', 'right', 'white', 'brothers', 'and', 'sisters']\n",
            "{'kike': 'Kike'}\n"
          ]
        },
        {
          "metadata": {
            "tags": null
          },
          "name": "stderr",
          "output_type": "stream",
          "text": [
            " 27%|██▋       | 521/1924 [1:48:17<8:54:29, 22.86s/it]"
          ]
        },
        {
          "metadata": {
            "tags": null
          },
          "name": "stdout",
          "output_type": "stream",
          "text": [
            "['nigger', 'nigga', 'mud shark', 'chink', 'gook', 'spic', 'wetback', 'kike', 'sand nigger', 'towelhead', 'beaner', 'cracker', 'honky', 'jungle bunny', 'redskin', 'bitch', 'slut', 'whore', 'cunt', 'feminazi', 'dyke', 'tranny', 'she-male', 'gold digger', 'skank', 'faggot', 'fag', 'homo', 'queer', 'carpet muncher', 'pillow biter', 'fudge packer', 'lesbo', 'Christ killer', 'jihadist', 'infidel', 'kike', 'raghead', 'heathen', 'pagan', 'Bible basher', 'papist', 'kaffir', 'retard', 'cripple', 'spaz', 'mongoloid', 'psycho', 'nutjob', 'lame', 'vegetable', 'deaf-mute', 'imbecile', 'yank', 'brit', 'kraut', 'jap', 'commie', 'ruski', 'paki', 'wop', 'dago', 'polack', 'fatty', 'lardass', 'twig', 'beanpole', 'ugly', 'four-eyes', 'baldie', 'geek', 'nerd', 'pimple-face']\n",
            "['<user>', 'girl', 'i', 'use', 'my', 'email', 'for', 'anything', 'important', 'cause', 'that', 'shit', 'too', 'ghetto', '😂', '😭']\n",
            "['<user>', 'giRl', 'i', 'use', 'my', 'email', 'foR', 'anything', 'important', 'cause', 'that', 'shit', 'too', 'ghetto', '😂', '😭']\n",
            "{'for': 'foR', 'girl': 'giRl'}\n"
          ]
        },
        {
          "metadata": {
            "tags": null
          },
          "name": "stderr",
          "output_type": "stream",
          "text": [
            " 27%|██▋       | 526/1924 [1:48:53<3:24:59,  8.80s/it]"
          ]
        },
        {
          "metadata": {
            "tags": null
          },
          "name": "stdout",
          "output_type": "stream",
          "text": [
            "['nigger', 'nigga', 'mud shark', 'chink', 'gook', 'spic', 'wetback', 'kike', 'sand nigger', 'towelhead', 'beaner', 'cracker', 'honky', 'jungle bunny', 'redskin', 'bitch', 'slut', 'whore', 'cunt', 'feminazi', 'dyke', 'tranny', 'she-male', 'gold digger', 'skank', 'faggot', 'fag', 'homo', 'queer', 'carpet muncher', 'pillow biter', 'fudge packer', 'lesbo', 'Christ killer', 'jihadist', 'infidel', 'kike', 'raghead', 'heathen', 'pagan', 'Bible basher', 'papist', 'kaffir', 'retard', 'cripple', 'spaz', 'mongoloid', 'psycho', 'nutjob', 'lame', 'vegetable', 'deaf-mute', 'imbecile', 'yank', 'brit', 'kraut', 'jap', 'commie', 'ruski', 'paki', 'wop', 'dago', 'polack', 'fatty', 'lardass', 'twig', 'beanpole', 'ugly', 'four-eyes', 'baldie', 'geek', 'nerd', 'pimple-face']\n",
            "['perhaps', 'the', 'men', 'in', 'question', 'prefer', 'women', 'who', 'do', 'not', 'dress', 'like', 'streetwalkers']\n",
            "['Perhaps', 'the', 'men', 'in', 'question', 'prefer', 'women', 'who', 'do', 'nott', 'dress', 'like', 'streetwalkers']\n",
            "{'perhaps': 'Perhaps', 'not': 'nott'}\n"
          ]
        },
        {
          "metadata": {
            "tags": null
          },
          "name": "stderr",
          "output_type": "stream",
          "text": [
            " 28%|██▊       | 531/1924 [1:49:51<3:44:55,  9.69s/it]"
          ]
        },
        {
          "metadata": {
            "tags": null
          },
          "name": "stdout",
          "output_type": "stream",
          "text": [
            "['nigger', 'nigga', 'mud shark', 'chink', 'gook', 'spic', 'wetback', 'kike', 'sand nigger', 'towelhead', 'beaner', 'cracker', 'honky', 'jungle bunny', 'redskin', 'bitch', 'slut', 'whore', 'cunt', 'feminazi', 'dyke', 'tranny', 'she-male', 'gold digger', 'skank', 'faggot', 'fag', 'homo', 'queer', 'carpet muncher', 'pillow biter', 'fudge packer', 'lesbo', 'Christ killer', 'jihadist', 'infidel', 'kike', 'raghead', 'heathen', 'pagan', 'Bible basher', 'papist', 'kaffir', 'retard', 'cripple', 'spaz', 'mongoloid', 'psycho', 'nutjob', 'lame', 'vegetable', 'deaf-mute', 'imbecile', 'yank', 'brit', 'kraut', 'jap', 'commie', 'ruski', 'paki', 'wop', 'dago', 'polack', 'fatty', 'lardass', 'twig', 'beanpole', 'ugly', 'four-eyes', 'baldie', 'geek', 'nerd', 'pimple-face']\n",
            "['so', 'is', 'it', 'ok', 'for', 'us', 'to', 'protest', 'jews', 'in', 'those', 'positions', 'in', 'our', 'countries', 'as', 'well', 'chill', 'the', 'personal', 'attacks', 'i', 'am', 'better', 'than', 'you', 'at', 'those', 'and', 'i', 'have', 'not', 'even', 'used', 'one', 'yet', 'it', 'a', 'debate']\n",
            "['so', 'is', 'it', 'ok', 'for', 'us', 'to', 'protest', 'jews', 'in', 'tHosE', 'positions', 'in', 'our', 'countries', 'as', 'well', 'chill', 'the', 'personal', 'attacks', 'i', 'am', 'BetTER', 'than', 'you', 'at', 'those', 'and', 'i', 'have', 'not', 'even', 'used', 'one', 'Yett', 'it', 'a', 'debate']\n",
            "{'better': 'BetTER', 'yet': 'Yett', 'those': 'those'}\n"
          ]
        },
        {
          "metadata": {
            "tags": null
          },
          "name": "stderr",
          "output_type": "stream",
          "text": [
            " 28%|██▊       | 536/1924 [1:50:38<3:15:12,  8.44s/it]"
          ]
        },
        {
          "metadata": {
            "tags": null
          },
          "name": "stdout",
          "output_type": "stream",
          "text": [
            "['nigger', 'nigga', 'mud shark', 'chink', 'gook', 'spic', 'wetback', 'kike', 'sand nigger', 'towelhead', 'beaner', 'cracker', 'honky', 'jungle bunny', 'redskin', 'bitch', 'slut', 'whore', 'cunt', 'feminazi', 'dyke', 'tranny', 'she-male', 'gold digger', 'skank', 'faggot', 'fag', 'homo', 'queer', 'carpet muncher', 'pillow biter', 'fudge packer', 'lesbo', 'Christ killer', 'jihadist', 'infidel', 'kike', 'raghead', 'heathen', 'pagan', 'Bible basher', 'papist', 'kaffir', 'retard', 'cripple', 'spaz', 'mongoloid', 'psycho', 'nutjob', 'lame', 'vegetable', 'deaf-mute', 'imbecile', 'yank', 'brit', 'kraut', 'jap', 'commie', 'ruski', 'paki', 'wop', 'dago', 'polack', 'fatty', 'lardass', 'twig', 'beanpole', 'ugly', 'four-eyes', 'baldie', 'geek', 'nerd', 'pimple-face']\n",
            "['says', 'the', 'kike', 'cunt', 'trying', 'to', 'charge', 'for', 'premium', 'content', 'how', 'that', 'working', 'for', 'you', '😆', 'obviously', 'nobody', 'gives', 'a', 'fuck', 'what', 'you', 'have', 'to', 'say', 'cuz', 'you', 'are', 'a', 'fucking', 'joke', 'go', 'blow', 'some', 'wetbacks', 'behind', 'the', 'burrito', 'stand', 'and', 'you', 'might', 'make', 'a', 'buck', 'lick', 'balls', 'heebhole', 'premium', 'cunt', 'contributor']\n",
            "['says', 'the', 'Kike', 'cuntt', 'trying', 'to', 'charge', 'for', 'premium', 'content', 'how', 'that', 'working', 'for', 'you', '😆', 'obviously', 'nobody', 'gives', 'a', 'fuck', 'what', 'you', 'have', 'to', 'say', 'cuz', 'you', 'are', 'a', 'fucking', 'joke', 'go', 'blow', 'some', 'wetbacks', 'behind', 'the', 'burrito', 'stand', 'and', 'you', 'might', 'make', 'a', 'buck', 'lick', 'balls', 'heebhole', 'premium', 'CUNT', 'contributor']\n",
            "{'kike': 'Kike', 'cunt': 'CUNT'}\n"
          ]
        },
        {
          "metadata": {
            "tags": null
          },
          "name": "stderr",
          "output_type": "stream",
          "text": [
            " 28%|██▊       | 540/1924 [1:52:09<7:25:04, 19.30s/it]"
          ]
        },
        {
          "metadata": {
            "tags": null
          },
          "name": "stdout",
          "output_type": "stream",
          "text": [
            "['nigger', 'nigga', 'mud shark', 'chink', 'gook', 'spic', 'wetback', 'kike', 'sand nigger', 'towelhead', 'beaner', 'cracker', 'honky', 'jungle bunny', 'redskin', 'bitch', 'slut', 'whore', 'cunt', 'feminazi', 'dyke', 'tranny', 'she-male', 'gold digger', 'skank', 'faggot', 'fag', 'homo', 'queer', 'carpet muncher', 'pillow biter', 'fudge packer', 'lesbo', 'Christ killer', 'jihadist', 'infidel', 'kike', 'raghead', 'heathen', 'pagan', 'Bible basher', 'papist', 'kaffir', 'retard', 'cripple', 'spaz', 'mongoloid', 'psycho', 'nutjob', 'lame', 'vegetable', 'deaf-mute', 'imbecile', 'yank', 'brit', 'kraut', 'jap', 'commie', 'ruski', 'paki', 'wop', 'dago', 'polack', 'fatty', 'lardass', 'twig', 'beanpole', 'ugly', 'four-eyes', 'baldie', 'geek', 'nerd', 'pimple-face']\n",
            "['<user>', 'he', 'is', 'infected', 'with', 'jihadi', 'virus', 'he', 'will', 'spread', 'it', 'to', 'others']\n",
            "['<user>', 'he', 'is', 'infected', 'with', 'jihadi', 'virus', 'he', 'Wil', 'spread', 'it', 'to', 'others']\n",
            "{'will': 'Wil'}\n"
          ]
        },
        {
          "metadata": {
            "tags": null
          },
          "name": "stderr",
          "output_type": "stream",
          "text": [
            " 28%|██▊       | 546/1924 [1:53:47<8:01:39, 20.97s/it]"
          ]
        },
        {
          "metadata": {
            "tags": null
          },
          "name": "stdout",
          "output_type": "stream",
          "text": [
            "['nigger', 'nigga', 'mud shark', 'chink', 'gook', 'spic', 'wetback', 'kike', 'sand nigger', 'towelhead', 'beaner', 'cracker', 'honky', 'jungle bunny', 'redskin', 'bitch', 'slut', 'whore', 'cunt', 'feminazi', 'dyke', 'tranny', 'she-male', 'gold digger', 'skank', 'faggot', 'fag', 'homo', 'queer', 'carpet muncher', 'pillow biter', 'fudge packer', 'lesbo', 'Christ killer', 'jihadist', 'infidel', 'kike', 'raghead', 'heathen', 'pagan', 'Bible basher', 'papist', 'kaffir', 'retard', 'cripple', 'spaz', 'mongoloid', 'psycho', 'nutjob', 'lame', 'vegetable', 'deaf-mute', 'imbecile', 'yank', 'brit', 'kraut', 'jap', 'commie', 'ruski', 'paki', 'wop', 'dago', 'polack', 'fatty', 'lardass', 'twig', 'beanpole', 'ugly', 'four-eyes', 'baldie', 'geek', 'nerd', 'pimple-face']\n",
            "['women', 'should', 'be', 'ashamed', 'of', 'themselves', 'for', 'letting', 'transgender', 'lesbian', 'man', 'hating', 'dykes', 'speak', 'for', 'them', 'shame', 'on', 'you']\n",
            "['wOMEN', 'should', 'be', 'ashamed', 'of', 'themsleves', 'for', 'Letting', 'transgender', 'lesbian', 'maaaan', 'hating', 'dykes', 'speak', 'for', 'them', 'shame', 'on', 'you']\n",
            "{'letting': 'Letting', 'man': 'maaaan', 'themselves': 'themsleves', 'women': 'wOMEN'}\n"
          ]
        },
        {
          "metadata": {
            "tags": null
          },
          "name": "stderr",
          "output_type": "stream",
          "text": [
            " 29%|██▊       | 551/1924 [1:54:42<4:00:25, 10.51s/it]"
          ]
        },
        {
          "metadata": {
            "tags": null
          },
          "name": "stdout",
          "output_type": "stream",
          "text": [
            "['nigger', 'nigga', 'mud shark', 'chink', 'gook', 'spic', 'wetback', 'kike', 'sand nigger', 'towelhead', 'beaner', 'cracker', 'honky', 'jungle bunny', 'redskin', 'bitch', 'slut', 'whore', 'cunt', 'feminazi', 'dyke', 'tranny', 'she-male', 'gold digger', 'skank', 'faggot', 'fag', 'homo', 'queer', 'carpet muncher', 'pillow biter', 'fudge packer', 'lesbo', 'Christ killer', 'jihadist', 'infidel', 'kike', 'raghead', 'heathen', 'pagan', 'Bible basher', 'papist', 'kaffir', 'retard', 'cripple', 'spaz', 'mongoloid', 'psycho', 'nutjob', 'lame', 'vegetable', 'deaf-mute', 'imbecile', 'yank', 'brit', 'kraut', 'jap', 'commie', 'ruski', 'paki', 'wop', 'dago', 'polack', 'fatty', 'lardass', 'twig', 'beanpole', 'ugly', 'four-eyes', 'baldie', 'geek', 'nerd', 'pimple-face']\n",
            "['like', 'i', 'care', '<tong>', 'is', 'bitching', 'to', 'a', 'stupid', 'beaner', 'like', 'me', 'going', 'to', 'fix', 'that', 'nope', 'good', 'luck']\n",
            "['like', 'i', 'care', '<tong>', 'is', 'bitching', 'to', 'a', 'stupid', 'Beaner', 'like', 'me', 'going', 'to', 'fix', 'that', 'nope', 'good', 'luck']\n",
            "{'beaner': 'Beaner'}\n"
          ]
        },
        {
          "metadata": {
            "tags": null
          },
          "name": "stderr",
          "output_type": "stream",
          "text": [
            " 29%|██▉       | 556/1924 [1:55:07<2:28:45,  6.52s/it]"
          ]
        },
        {
          "metadata": {
            "tags": null
          },
          "name": "stdout",
          "output_type": "stream",
          "text": [
            "['nigger', 'nigga', 'mud shark', 'chink', 'gook', 'spic', 'wetback', 'kike', 'sand nigger', 'towelhead', 'beaner', 'cracker', 'honky', 'jungle bunny', 'redskin', 'bitch', 'slut', 'whore', 'cunt', 'feminazi', 'dyke', 'tranny', 'she-male', 'gold digger', 'skank', 'faggot', 'fag', 'homo', 'queer', 'carpet muncher', 'pillow biter', 'fudge packer', 'lesbo', 'Christ killer', 'jihadist', 'infidel', 'kike', 'raghead', 'heathen', 'pagan', 'Bible basher', 'papist', 'kaffir', 'retard', 'cripple', 'spaz', 'mongoloid', 'psycho', 'nutjob', 'lame', 'vegetable', 'deaf-mute', 'imbecile', 'yank', 'brit', 'kraut', 'jap', 'commie', 'ruski', 'paki', 'wop', 'dago', 'polack', 'fatty', 'lardass', 'twig', 'beanpole', 'ugly', 'four-eyes', 'baldie', 'geek', 'nerd', 'pimple-face']\n",
            "['<user>', '<user>', 'yet', 'to', 'see', 'any', 'of', 'the', 'refugees', 'welcome', 'crew', 'take', 'one', 'so', 'called', 'refugee', 'in', 'that', 'shows', 'how', 'much', 'they', 'actually', 'care']\n",
            "['<user>', '<user>', 'yet', 'to', 'see', 'any', 'of', 'the', 'refugees', 'welcome', 'CREW', 'TaKE', 'one', 'so', 'called', 'refugee', 'in', 'that', 'shows', 'how', 'MUCHHH', 'they', 'actually', 'care']\n",
            "{'much': 'MUCHHH', 'take': 'TaKE', 'crew': 'CREW'}\n"
          ]
        },
        {
          "metadata": {
            "tags": null
          },
          "name": "stderr",
          "output_type": "stream",
          "text": [
            " 29%|██▉       | 561/1924 [1:56:20<6:25:06, 16.95s/it]"
          ]
        },
        {
          "metadata": {
            "tags": null
          },
          "name": "stdout",
          "output_type": "stream",
          "text": [
            "['nigger', 'nigga', 'mud shark', 'chink', 'gook', 'spic', 'wetback', 'kike', 'sand nigger', 'towelhead', 'beaner', 'cracker', 'honky', 'jungle bunny', 'redskin', 'bitch', 'slut', 'whore', 'cunt', 'feminazi', 'dyke', 'tranny', 'she-male', 'gold digger', 'skank', 'faggot', 'fag', 'homo', 'queer', 'carpet muncher', 'pillow biter', 'fudge packer', 'lesbo', 'Christ killer', 'jihadist', 'infidel', 'kike', 'raghead', 'heathen', 'pagan', 'Bible basher', 'papist', 'kaffir', 'retard', 'cripple', 'spaz', 'mongoloid', 'psycho', 'nutjob', 'lame', 'vegetable', 'deaf-mute', 'imbecile', 'yank', 'brit', 'kraut', 'jap', 'commie', 'ruski', 'paki', 'wop', 'dago', 'polack', 'fatty', 'lardass', 'twig', 'beanpole', 'ugly', 'four-eyes', 'baldie', 'geek', 'nerd', 'pimple-face']\n",
            "['most', 'muslim', 'men', 'are', 'homosexuals', 'pakistan', 'has', 'more', 'male', 'prostitutes', 'than', 'most', 'countries', 'film', 'makers', 'concluded', 'that', 'most', 'pakistani', 'men', 'visit', 'male', 'prostitutes', 'for', 'sex', 'if', 'you', 'dont', 'believe', 'me', 'ask', 'the', 'ex', 'cricketer', 'and', 'now', 'politician', 'imran', 'khan']\n",
            "['Most', 'muslim', 'men', 'arree', 'homosexuals', 'pakistan', 'has', 'more', 'male', 'Prostitutes', 'than', 'most', 'countries', 'film', 'makers', 'concluded', 'that', 'most', 'pakistani', 'meEn', 'visit', 'male', 'prostitutes', 'for', 'sex', 'if', 'you', 'dOnt', 'believeE', 'me', 'ask', 'the', 'ex', 'cricketer', 'and', 'NOOOW', 'politician', 'imran', 'khan']\n",
            "{'men': 'meEn', 'are': 'arree', 'believe': 'believeE', 'most': 'Most', 'dont': 'dOnt', 'prostitutes': 'Prostitutes', 'politician': 'politician', 'now': 'NOOOW'}\n"
          ]
        },
        {
          "metadata": {
            "tags": null
          },
          "name": "stderr",
          "output_type": "stream",
          "text": [
            " 29%|██▉       | 566/1924 [1:57:23<4:41:18, 12.43s/it]"
          ]
        },
        {
          "metadata": {
            "tags": null
          },
          "name": "stdout",
          "output_type": "stream",
          "text": [
            "['nigger', 'nigga', 'mud shark', 'chink', 'gook', 'spic', 'wetback', 'kike', 'sand nigger', 'towelhead', 'beaner', 'cracker', 'honky', 'jungle bunny', 'redskin', 'bitch', 'slut', 'whore', 'cunt', 'feminazi', 'dyke', 'tranny', 'she-male', 'gold digger', 'skank', 'faggot', 'fag', 'homo', 'queer', 'carpet muncher', 'pillow biter', 'fudge packer', 'lesbo', 'Christ killer', 'jihadist', 'infidel', 'kike', 'raghead', 'heathen', 'pagan', 'Bible basher', 'papist', 'kaffir', 'retard', 'cripple', 'spaz', 'mongoloid', 'psycho', 'nutjob', 'lame', 'vegetable', 'deaf-mute', 'imbecile', 'yank', 'brit', 'kraut', 'jap', 'commie', 'ruski', 'paki', 'wop', 'dago', 'polack', 'fatty', 'lardass', 'twig', 'beanpole', 'ugly', 'four-eyes', 'baldie', 'geek', 'nerd', 'pimple-face']\n",
            "['how', 'about', 'royal', 'traitors', '😂', 'loosewomen']\n",
            "['HOWW', 'ABOut', 'royal', 'traitors', '😂', 'loosewomen']\n",
            "{'about': 'ABOut', 'how': 'HOWW'}\n"
          ]
        },
        {
          "metadata": {
            "tags": null
          },
          "name": "stderr",
          "output_type": "stream",
          "text": [
            " 30%|██▉       | 571/1924 [1:58:50<7:20:39, 19.54s/it]"
          ]
        },
        {
          "metadata": {
            "tags": null
          },
          "name": "stdout",
          "output_type": "stream",
          "text": [
            "['nigger', 'nigga', 'mud shark', 'chink', 'gook', 'spic', 'wetback', 'kike', 'sand nigger', 'towelhead', 'beaner', 'cracker', 'honky', 'jungle bunny', 'redskin', 'bitch', 'slut', 'whore', 'cunt', 'feminazi', 'dyke', 'tranny', 'she-male', 'gold digger', 'skank', 'faggot', 'fag', 'homo', 'queer', 'carpet muncher', 'pillow biter', 'fudge packer', 'lesbo', 'Christ killer', 'jihadist', 'infidel', 'kike', 'raghead', 'heathen', 'pagan', 'Bible basher', 'papist', 'kaffir', 'retard', 'cripple', 'spaz', 'mongoloid', 'psycho', 'nutjob', 'lame', 'vegetable', 'deaf-mute', 'imbecile', 'yank', 'brit', 'kraut', 'jap', 'commie', 'ruski', 'paki', 'wop', 'dago', 'polack', 'fatty', 'lardass', 'twig', 'beanpole', 'ugly', 'four-eyes', 'baldie', 'geek', 'nerd', 'pimple-face']\n",
            "['i', 'guess', 'i', 'get', 'complacent', 'and', 'forget', 'not', 'everyone', 'lives', 'in', 'florida', 'or', 'has', 'heard', 'their', 'names', 'most', 'anyone', 'i', 'talk', 'to', 'in', 'a', 'real', 'life', 'situation', 'knows', 'of', 'them', 'of', 'course', 'most', 'anyone', 'i', 'talk', 'to', 'here', 'is', 'in', 'agreement', 'where', 'liberals', 'rats', 'and', 'muzzies', 'are', 'concerned']\n",
            "['i', 'Gues', 'i', 'get', 'complacent', 'Annnd', 'forget', 'not', 'everyone', 'lives', 'in', 'FLORIDA', 'or', 'has', 'heard', 'their', 'nAmEs', 'most', 'anyone', 'i', 'talk', 'to', 'in', 'a', 'real', 'LifE', 'situation', 'knows', 'of', 'themMmm', 'of', 'course', 'most', 'ANYONe', 'i', 'talk', 'to', 'here', 'is', 'in', 'agreement', 'where', 'liberals', 'rats', 'and', 'muzzies', 'are', 'concerned']\n",
            "{'them': 'themMmm', 'and': 'Annnd', 'life': 'LifE', 'guess': 'Gues', 'anyone': 'ANYONe', 'names': 'nAmEs', 'heard': 'heard', 'florida': 'FLORIDA'}\n"
          ]
        },
        {
          "output_type": "stream",
          "name": "stderr",
          "text": [
            " 30%|██▉       | 576/1924 [1:59:43<5:51:51, 15.66s/it]"
          ]
        },
        {
          "output_type": "stream",
          "name": "stdout",
          "text": [
            "['nigger', 'nigga', 'mud shark', 'chink', 'gook', 'spic', 'wetback', 'kike', 'sand nigger', 'towelhead', 'beaner', 'cracker', 'honky', 'jungle bunny', 'redskin', 'bitch', 'slut', 'whore', 'cunt', 'feminazi', 'dyke', 'tranny', 'she-male', 'gold digger', 'skank', 'faggot', 'fag', 'homo', 'queer', 'carpet muncher', 'pillow biter', 'fudge packer', 'lesbo', 'Christ killer', 'jihadist', 'infidel', 'kike', 'raghead', 'heathen', 'pagan', 'Bible basher', 'papist', 'kaffir', 'retard', 'cripple', 'spaz', 'mongoloid', 'psycho', 'nutjob', 'lame', 'vegetable', 'deaf-mute', 'imbecile', 'yank', 'brit', 'kraut', 'jap', 'commie', 'ruski', 'paki', 'wop', 'dago', 'polack', 'fatty', 'lardass', 'twig', 'beanpole', 'ugly', 'four-eyes', 'baldie', 'geek', 'nerd', 'pimple-face']\n",
            "['hillary', 'is', 'for', 'women', 'the', 'following', 'could', 'not', 'be', 'reached', 'for', 'comment', 'yazidi', 'girls', 'aborted', 'girl', 'babies', 'syrian', 'women', 'and', 'girls', 'abandoned', 'by', 'their', 'men', 'we', 'cannot', 'print', 'the', 'comments', 'of', 'jones', 'willey', 'broaddrick', 'etc', 'dirtyhillary', 'neverhillary']\n",
            "['hillary', 'is', 'for', 'women', 'THEE', 'following', 'could', 'not', 'be', 'reached', 'for', 'comment', 'yazidi', 'girls', 'aborted', 'girl', 'Babes', 'syrian', 'women', 'and', 'girls', 'Abandoned', 'by', 'their', 'meN', 'we', 'cantt', 'print', 'the', 'comments', 'of', 'JOnes', 'willey', 'broaddrick', 'etc', 'dirtyhillary', 'neverhillary']\n",
            "{'willey': 'willey', 'cannot': 'cantt', 'the': 'THEE', 'men': 'meN', 'jones': 'JOnes', 'abandoned': 'Abandoned', 'babies': 'Babes'}\n"
          ]
        },
        {
          "output_type": "stream",
          "name": "stderr",
          "text": [
            " 30%|███       | 581/1924 [2:00:30<3:16:19,  8.77s/it]"
          ]
        },
        {
          "output_type": "stream",
          "name": "stdout",
          "text": [
            "['nigger', 'nigga', 'mud shark', 'chink', 'gook', 'spic', 'wetback', 'kike', 'sand nigger', 'towelhead', 'beaner', 'cracker', 'honky', 'jungle bunny', 'redskin', 'bitch', 'slut', 'whore', 'cunt', 'feminazi', 'dyke', 'tranny', 'she-male', 'gold digger', 'skank', 'faggot', 'fag', 'homo', 'queer', 'carpet muncher', 'pillow biter', 'fudge packer', 'lesbo', 'Christ killer', 'jihadist', 'infidel', 'kike', 'raghead', 'heathen', 'pagan', 'Bible basher', 'papist', 'kaffir', 'retard', 'cripple', 'spaz', 'mongoloid', 'psycho', 'nutjob', 'lame', 'vegetable', 'deaf-mute', 'imbecile', 'yank', 'brit', 'kraut', 'jap', 'commie', 'ruski', 'paki', 'wop', 'dago', 'polack', 'fatty', 'lardass', 'twig', 'beanpole', 'ugly', 'four-eyes', 'baldie', 'geek', 'nerd', 'pimple-face']\n",
            "['anti', 'violence', 'laws', 'just', 'saved', 'a', 'white', 'man', 'from', 'my', 'nail', 'scratches']\n",
            "['anti', 'violence', 'LAWS', 'just', 'saved', 'a', 'WhiTe', 'man', 'from', 'my', 'nail', 'scratches']\n",
            "{'saved': 'saved', 'laws': 'LAWS', 'white': 'WhiTe'}\n"
          ]
        },
        {
          "output_type": "stream",
          "name": "stderr",
          "text": [
            " 30%|███       | 586/1924 [2:01:23<3:30:15,  9.43s/it]"
          ]
        },
        {
          "output_type": "stream",
          "name": "stdout",
          "text": [
            "['nigger', 'nigga', 'mud shark', 'chink', 'gook', 'spic', 'wetback', 'kike', 'sand nigger', 'towelhead', 'beaner', 'cracker', 'honky', 'jungle bunny', 'redskin', 'bitch', 'slut', 'whore', 'cunt', 'feminazi', 'dyke', 'tranny', 'she-male', 'gold digger', 'skank', 'faggot', 'fag', 'homo', 'queer', 'carpet muncher', 'pillow biter', 'fudge packer', 'lesbo', 'Christ killer', 'jihadist', 'infidel', 'kike', 'raghead', 'heathen', 'pagan', 'Bible basher', 'papist', 'kaffir', 'retard', 'cripple', 'spaz', 'mongoloid', 'psycho', 'nutjob', 'lame', 'vegetable', 'deaf-mute', 'imbecile', 'yank', 'brit', 'kraut', 'jap', 'commie', 'ruski', 'paki', 'wop', 'dago', 'polack', 'fatty', 'lardass', 'twig', 'beanpole', 'ugly', 'four-eyes', 'baldie', 'geek', 'nerd', 'pimple-face']\n",
            "['<user>', 'every', 'single', 'white', 'person', 'found', 'dead', 'in', 'a', 'ditch']\n",
            "['<user>', 'every', 'sInGLe', 'white', 'person', 'found', 'dead', 'in', 'a', 'ditch']\n",
            "{'single': 'sInGLe'}\n"
          ]
        },
        {
          "output_type": "stream",
          "name": "stderr",
          "text": [
            " 31%|███       | 591/1924 [2:01:45<1:58:19,  5.33s/it]"
          ]
        },
        {
          "output_type": "stream",
          "name": "stdout",
          "text": [
            "['nigger', 'nigga', 'mud shark', 'chink', 'gook', 'spic', 'wetback', 'kike', 'sand nigger', 'towelhead', 'beaner', 'cracker', 'honky', 'jungle bunny', 'redskin', 'bitch', 'slut', 'whore', 'cunt', 'feminazi', 'dyke', 'tranny', 'she-male', 'gold digger', 'skank', 'faggot', 'fag', 'homo', 'queer', 'carpet muncher', 'pillow biter', 'fudge packer', 'lesbo', 'Christ killer', 'jihadist', 'infidel', 'kike', 'raghead', 'heathen', 'pagan', 'Bible basher', 'papist', 'kaffir', 'retard', 'cripple', 'spaz', 'mongoloid', 'psycho', 'nutjob', 'lame', 'vegetable', 'deaf-mute', 'imbecile', 'yank', 'brit', 'kraut', 'jap', 'commie', 'ruski', 'paki', 'wop', 'dago', 'polack', 'fatty', 'lardass', 'twig', 'beanpole', 'ugly', 'four-eyes', 'baldie', 'geek', 'nerd', 'pimple-face']\n",
            "['niggers', 'waste', 'their', 'entire', 'lives', 'running', 'away', 'from', 'themselves']\n",
            "['nigers', 'waste', 'their', 'entire', 'lives', 'running', 'away', 'fRom', 'themselves']\n",
            "{'from': 'fRom', 'niggers': 'nigers'}\n"
          ]
        },
        {
          "output_type": "stream",
          "name": "stderr",
          "text": [
            " 31%|███       | 596/1924 [2:02:37<4:12:29, 11.41s/it]"
          ]
        },
        {
          "output_type": "stream",
          "name": "stdout",
          "text": [
            "['nigger', 'nigga', 'mud shark', 'chink', 'gook', 'spic', 'wetback', 'kike', 'sand nigger', 'towelhead', 'beaner', 'cracker', 'honky', 'jungle bunny', 'redskin', 'bitch', 'slut', 'whore', 'cunt', 'feminazi', 'dyke', 'tranny', 'she-male', 'gold digger', 'skank', 'faggot', 'fag', 'homo', 'queer', 'carpet muncher', 'pillow biter', 'fudge packer', 'lesbo', 'Christ killer', 'jihadist', 'infidel', 'kike', 'raghead', 'heathen', 'pagan', 'Bible basher', 'papist', 'kaffir', 'retard', 'cripple', 'spaz', 'mongoloid', 'psycho', 'nutjob', 'lame', 'vegetable', 'deaf-mute', 'imbecile', 'yank', 'brit', 'kraut', 'jap', 'commie', 'ruski', 'paki', 'wop', 'dago', 'polack', 'fatty', 'lardass', 'twig', 'beanpole', 'ugly', 'four-eyes', 'baldie', 'geek', 'nerd', 'pimple-face']\n",
            "['walls', 'don', 't', 'work', 'walls', 'don', 't', 'wor', 'in', '<number>', 'hungary', 'built', 'a', 'border', 'barrier', 'on', 'its', 'border', 'with', 'serbia', 'and', 'croatia', 'the', 'fence', 'was', 'constructed', 'during', 'the', 'european', 'migrant', 'crisis', 'with', 'the', 'aim', 'to', 'ensure', 'border', 'security', 'by', 'preventing', 'immigrants', 'from', 'entering', 'illegally']\n",
            "['walls', 'don', 't', 'woRk', 'walls', 'don', 't', 'wor', 'in', '<number>', 'hungary', 'Built', 'a', 'border', 'barrier', 'on', 'ItS', 'border', 'with', 'SERBIA', 'AND', 'CROATIA', 'thye', 'fence', 'was', 'constructed', 'during', 'the', 'european', 'migrant', 'crisis', 'with', 'the', 'aim', 'to', 'ensure', 'border', 'security', 'by', 'preventing', 'immigrants', 'from', 'entering', 'illegally']\n",
            "{'ensure': 'ensure', 'serbia': 'SERBIA', 'work': 'woRk', 'the': 'thye', 'its': 'ItS', 'croatia': 'CROATIA', 'built': 'Built', 'and': 'AND'}\n"
          ]
        },
        {
          "output_type": "stream",
          "name": "stderr",
          "text": [
            " 31%|███       | 601/1924 [2:03:31<3:53:07, 10.57s/it]"
          ]
        },
        {
          "output_type": "stream",
          "name": "stdout",
          "text": [
            "['nigger', 'nigga', 'mud shark', 'chink', 'gook', 'spic', 'wetback', 'kike', 'sand nigger', 'towelhead', 'beaner', 'cracker', 'honky', 'jungle bunny', 'redskin', 'bitch', 'slut', 'whore', 'cunt', 'feminazi', 'dyke', 'tranny', 'she-male', 'gold digger', 'skank', 'faggot', 'fag', 'homo', 'queer', 'carpet muncher', 'pillow biter', 'fudge packer', 'lesbo', 'Christ killer', 'jihadist', 'infidel', 'kike', 'raghead', 'heathen', 'pagan', 'Bible basher', 'papist', 'kaffir', 'retard', 'cripple', 'spaz', 'mongoloid', 'psycho', 'nutjob', 'lame', 'vegetable', 'deaf-mute', 'imbecile', 'yank', 'brit', 'kraut', 'jap', 'commie', 'ruski', 'paki', 'wop', 'dago', 'polack', 'fatty', 'lardass', 'twig', 'beanpole', 'ugly', 'four-eyes', 'baldie', 'geek', 'nerd', 'pimple-face']\n",
            "['this', 'nigger', 'is', 'victim', 'stereotype', 'is', 'so', 'ingrained', 'it', 'trumps', 'all', 'factual', 'reality', 'no', 'matter', 'the', 'reporting', 'makes', 'absolutely', 'no', 'sense', 'this', 'is', 'pure', 'ideological', 'thinking', 'where', 'category', 'is', 'all', 'that', 'matters', 'nigger', 'good', 'white', 'man', 'nazi', 'bad', 'facts', 'pale', 'before', 'holy', 'categories', 'by', 'jew']\n",
            "['this', 'niggaaarr', 'is', 'victim', 'stereotype', 'is', 'so', 'ingrained', 'it', 'trumps', 'all', 'factual', 'reality', 'no', 'matter', 'the', 'reporting', 'makes', 'absolutely', 'no', 'sense', 'this', 'is', 'pure', 'ideological', 'thinking', 'where', 'category', 'is', 'all', 'that', 'matters', 'NIGER', 'good', 'white', 'man', 'nazi', 'bad', 'facts', 'pale', 'before', 'holy', 'categories', 'by', 'jew']\n",
            "{'nigger': 'NIGER'}\n"
          ]
        },
        {
          "output_type": "stream",
          "name": "stderr",
          "text": [
            " 31%|███▏      | 606/1924 [2:04:19<3:49:57, 10.47s/it]"
          ]
        },
        {
          "output_type": "stream",
          "name": "stdout",
          "text": [
            "['nigger', 'nigga', 'mud shark', 'chink', 'gook', 'spic', 'wetback', 'kike', 'sand nigger', 'towelhead', 'beaner', 'cracker', 'honky', 'jungle bunny', 'redskin', 'bitch', 'slut', 'whore', 'cunt', 'feminazi', 'dyke', 'tranny', 'she-male', 'gold digger', 'skank', 'faggot', 'fag', 'homo', 'queer', 'carpet muncher', 'pillow biter', 'fudge packer', 'lesbo', 'Christ killer', 'jihadist', 'infidel', 'kike', 'raghead', 'heathen', 'pagan', 'Bible basher', 'papist', 'kaffir', 'retard', 'cripple', 'spaz', 'mongoloid', 'psycho', 'nutjob', 'lame', 'vegetable', 'deaf-mute', 'imbecile', 'yank', 'brit', 'kraut', 'jap', 'commie', 'ruski', 'paki', 'wop', 'dago', 'polack', 'fatty', 'lardass', 'twig', 'beanpole', 'ugly', 'four-eyes', 'baldie', 'geek', 'nerd', 'pimple-face']\n",
            "['and', 'they', 'could', 'not', 'even', 'get', 'attractive', 'models', 'to', 'wear', 'those', 'retarded', 'crayon', 'scratching', 'designs']\n",
            "['and', 'they', 'could', 'not', 'even', 'get', 'attractive', 'models', 'to', 'weaer', 'those', 'retarded', 'crayon', 'scratching', 'DESIGNS']\n",
            "{'wear': 'weaer', 'crayon': 'crayon', 'designs': 'DESIGNS'}\n"
          ]
        },
        {
          "output_type": "stream",
          "name": "stderr",
          "text": [
            " 32%|███▏      | 611/1924 [2:05:40<4:18:07, 11.80s/it]"
          ]
        },
        {
          "output_type": "stream",
          "name": "stdout",
          "text": [
            "['nigger', 'nigga', 'mud shark', 'chink', 'gook', 'spic', 'wetback', 'kike', 'sand nigger', 'towelhead', 'beaner', 'cracker', 'honky', 'jungle bunny', 'redskin', 'bitch', 'slut', 'whore', 'cunt', 'feminazi', 'dyke', 'tranny', 'she-male', 'gold digger', 'skank', 'faggot', 'fag', 'homo', 'queer', 'carpet muncher', 'pillow biter', 'fudge packer', 'lesbo', 'Christ killer', 'jihadist', 'infidel', 'kike', 'raghead', 'heathen', 'pagan', 'Bible basher', 'papist', 'kaffir', 'retard', 'cripple', 'spaz', 'mongoloid', 'psycho', 'nutjob', 'lame', 'vegetable', 'deaf-mute', 'imbecile', 'yank', 'brit', 'kraut', 'jap', 'commie', 'ruski', 'paki', 'wop', 'dago', 'polack', 'fatty', 'lardass', 'twig', 'beanpole', 'ugly', 'four-eyes', 'baldie', 'geek', 'nerd', 'pimple-face']\n",
            "['thelma', 'and', 'louise', 'with', 'a', 'half', 'dozen', 'nigger', 'kids', 'in', 'the', 'back']\n",
            "['thelma', 'and', 'louise', 'with', 'a', 'half', 'dozen', 'NiggeR', 'kids', 'in', 'the', 'back']\n",
            "{'nigger': 'NiggeR'}\n"
          ]
        },
        {
          "output_type": "stream",
          "name": "stderr",
          "text": [
            " 32%|███▏      | 616/1924 [2:06:02<1:50:08,  5.05s/it]"
          ]
        },
        {
          "output_type": "stream",
          "name": "stdout",
          "text": [
            "['nigger', 'nigga', 'mud shark', 'chink', 'gook', 'spic', 'wetback', 'kike', 'sand nigger', 'towelhead', 'beaner', 'cracker', 'honky', 'jungle bunny', 'redskin', 'bitch', 'slut', 'whore', 'cunt', 'feminazi', 'dyke', 'tranny', 'she-male', 'gold digger', 'skank', 'faggot', 'fag', 'homo', 'queer', 'carpet muncher', 'pillow biter', 'fudge packer', 'lesbo', 'Christ killer', 'jihadist', 'infidel', 'kike', 'raghead', 'heathen', 'pagan', 'Bible basher', 'papist', 'kaffir', 'retard', 'cripple', 'spaz', 'mongoloid', 'psycho', 'nutjob', 'lame', 'vegetable', 'deaf-mute', 'imbecile', 'yank', 'brit', 'kraut', 'jap', 'commie', 'ruski', 'paki', 'wop', 'dago', 'polack', 'fatty', 'lardass', 'twig', 'beanpole', 'ugly', 'four-eyes', 'baldie', 'geek', 'nerd', 'pimple-face']\n",
            "['<user>', 'he', 'dindu', 'nuffin', 'and', 'the', 'po', 'po', 'done', 'shot', 'him']\n",
            "['<user>', 'he', 'dindu', 'nufin', 'and', 'the', 'po', 'po', 'done', 'shot', 'him']\n",
            "{'nuffin': 'nufin'}\n"
          ]
        },
        {
          "output_type": "stream",
          "name": "stderr",
          "text": [
            " 32%|███▏      | 621/1924 [2:06:45<3:09:59,  8.75s/it]"
          ]
        },
        {
          "output_type": "stream",
          "name": "stdout",
          "text": [
            "['nigger', 'nigga', 'mud shark', 'chink', 'gook', 'spic', 'wetback', 'kike', 'sand nigger', 'towelhead', 'beaner', 'cracker', 'honky', 'jungle bunny', 'redskin', 'bitch', 'slut', 'whore', 'cunt', 'feminazi', 'dyke', 'tranny', 'she-male', 'gold digger', 'skank', 'faggot', 'fag', 'homo', 'queer', 'carpet muncher', 'pillow biter', 'fudge packer', 'lesbo', 'Christ killer', 'jihadist', 'infidel', 'kike', 'raghead', 'heathen', 'pagan', 'Bible basher', 'papist', 'kaffir', 'retard', 'cripple', 'spaz', 'mongoloid', 'psycho', 'nutjob', 'lame', 'vegetable', 'deaf-mute', 'imbecile', 'yank', 'brit', 'kraut', 'jap', 'commie', 'ruski', 'paki', 'wop', 'dago', 'polack', 'fatty', 'lardass', 'twig', 'beanpole', 'ugly', 'four-eyes', 'baldie', 'geek', 'nerd', 'pimple-face']\n",
            "['biopunk', 'what', 'if', 'poor', 'ppl', 'had', 'to', 'deliberately', 'sell', 'their', 'body', 'parts', 'to', 'be', 'used', 'as', 'accessories', 'by', 'the', 'rich', 'while', 'they', 'are', 'still', 'alive', 'it', 'was', 'literally', 'priced', 'by', 'white', 'supremacist', 'standards', 'of', 'what', 'bodies', 'are', 'superior', 'thus', 'more', 'valuable', 'the', 'natural', 'wig', 'industry', 'already', 'exists']\n",
            "['biopunk', 'what', 'if', 'Pooor', 'ppl', 'had', 'to', 'deliberately', 'sell', 'their', 'BOdY', 'parts', 'to', 'be', 'ussd', 'as', 'accessories', 'by', 'the', 'riiiiich', 'while', 'thhi', 'are', 'StiLL', 'alive', 'it', 'was', 'literally', 'priced', 'by', 'white', 'supremacist', 'standards', 'of', 'what', 'bodies', 'are', 'superior', 'thus', 'more', 'valuable', 'the', 'natrual', 'wig', 'industry', 'already', 'exists']\n",
            "{'they': 'thhi', 'still': 'StiLL', 'used': 'ussd', 'poor': 'Pooor', 'natural': 'natrual', 'rich': 'riiiiich', 'priced': 'priced', 'body': 'BOdY', 'accessories': 'accessories'}\n"
          ]
        },
        {
          "output_type": "stream",
          "name": "stderr",
          "text": [
            " 33%|███▎      | 626/1924 [2:07:19<2:59:09,  8.28s/it]"
          ]
        },
        {
          "output_type": "stream",
          "name": "stdout",
          "text": [
            "['nigger', 'nigga', 'mud shark', 'chink', 'gook', 'spic', 'wetback', 'kike', 'sand nigger', 'towelhead', 'beaner', 'cracker', 'honky', 'jungle bunny', 'redskin', 'bitch', 'slut', 'whore', 'cunt', 'feminazi', 'dyke', 'tranny', 'she-male', 'gold digger', 'skank', 'faggot', 'fag', 'homo', 'queer', 'carpet muncher', 'pillow biter', 'fudge packer', 'lesbo', 'Christ killer', 'jihadist', 'infidel', 'kike', 'raghead', 'heathen', 'pagan', 'Bible basher', 'papist', 'kaffir', 'retard', 'cripple', 'spaz', 'mongoloid', 'psycho', 'nutjob', 'lame', 'vegetable', 'deaf-mute', 'imbecile', 'yank', 'brit', 'kraut', 'jap', 'commie', 'ruski', 'paki', 'wop', 'dago', 'polack', 'fatty', 'lardass', 'twig', 'beanpole', 'ugly', 'four-eyes', 'baldie', 'geek', 'nerd', 'pimple-face']\n",
            "['i', '’', 'm', 'sorry', 'gay', 'community', 'call', 'me', 'by', 'my', 'name', 'wasn', '’', 't', 'it', 'fam']\n",
            "['i', '’', 'm', 'sorri', 'gay', 'Community', 'call', 'me', 'by', 'my', 'name', 'wAsN', '’', 't', 'it', 'fam']\n",
            "{'community': 'Community', 'wasn': 'wAsN', 'sorry': 'sorri'}\n"
          ]
        },
        {
          "output_type": "stream",
          "name": "stderr",
          "text": [
            " 33%|███▎      | 631/1924 [2:09:34<9:26:05, 26.27s/it]"
          ]
        },
        {
          "output_type": "stream",
          "name": "stdout",
          "text": [
            "['nigger', 'nigga', 'mud shark', 'chink', 'gook', 'spic', 'wetback', 'kike', 'sand nigger', 'towelhead', 'beaner', 'cracker', 'honky', 'jungle bunny', 'redskin', 'bitch', 'slut', 'whore', 'cunt', 'feminazi', 'dyke', 'tranny', 'she-male', 'gold digger', 'skank', 'faggot', 'fag', 'homo', 'queer', 'carpet muncher', 'pillow biter', 'fudge packer', 'lesbo', 'Christ killer', 'jihadist', 'infidel', 'kike', 'raghead', 'heathen', 'pagan', 'Bible basher', 'papist', 'kaffir', 'retard', 'cripple', 'spaz', 'mongoloid', 'psycho', 'nutjob', 'lame', 'vegetable', 'deaf-mute', 'imbecile', 'yank', 'brit', 'kraut', 'jap', 'commie', 'ruski', 'paki', 'wop', 'dago', 'polack', 'fatty', 'lardass', 'twig', 'beanpole', 'ugly', 'four-eyes', 'baldie', 'geek', 'nerd', 'pimple-face']\n",
            "['fuck', 'police', 'and', 'if', 'you', 'support', 'them', 'fuck', 'you', 'too']\n",
            "['fUck', 'police', 'Anddddd', 'if', 'you', 'support', 'them', 'fuck', 'you', 'too']\n",
            "{'fuck': 'fUck', 'and': 'Anddddd'}\n"
          ]
        },
        {
          "output_type": "stream",
          "name": "stderr",
          "text": [
            " 33%|███▎      | 636/1924 [2:10:29<6:32:29, 18.28s/it]"
          ]
        },
        {
          "output_type": "stream",
          "name": "stdout",
          "text": [
            "['nigger', 'nigga', 'mud shark', 'chink', 'gook', 'spic', 'wetback', 'kike', 'sand nigger', 'towelhead', 'beaner', 'cracker', 'honky', 'jungle bunny', 'redskin', 'bitch', 'slut', 'whore', 'cunt', 'feminazi', 'dyke', 'tranny', 'she-male', 'gold digger', 'skank', 'faggot', 'fag', 'homo', 'queer', 'carpet muncher', 'pillow biter', 'fudge packer', 'lesbo', 'Christ killer', 'jihadist', 'infidel', 'kike', 'raghead', 'heathen', 'pagan', 'Bible basher', 'papist', 'kaffir', 'retard', 'cripple', 'spaz', 'mongoloid', 'psycho', 'nutjob', 'lame', 'vegetable', 'deaf-mute', 'imbecile', 'yank', 'brit', 'kraut', 'jap', 'commie', 'ruski', 'paki', 'wop', 'dago', 'polack', 'fatty', 'lardass', 'twig', 'beanpole', 'ugly', 'four-eyes', 'baldie', 'geek', 'nerd', 'pimple-face']\n",
            "['imagine', 'canada', 'with', '<number>', '<number>', 'of', 'these', 'retarded', 'niggas', 'in', 'canada', 'canadians', 'are', 'not', 'used', 'to', 'be', 'confronted', 'by', 'garbage', 'like', 'this', 'yet', 'canada', 'shit', 'skin', 'moslem', 'immigration', 'minister', 'ahmed', 'hussen', 'wants', 'to', 'bring', '<number>', '<number>', 'of', 'these', 'animals', 'to', 'canada']\n",
            "['imagine', 'canada', 'with', '<number>', '<number>', 'of', 'these', 'retARdED', 'niggas', 'in', 'canada', 'Canadians', 'arrrrre', 'not', 'used', 'to', 'be', 'confronted', 'by', 'garbage', 'Like', 'Thiiisss', 'yet', 'canada', 'shit', 'skin', 'MOSLEM', 'immigration', 'MInister', 'ahmed', 'hussen', 'wants', 'to', 'BrINg', '<number>', '<number>', 'of', 'these', 'animals', 'to', 'canada']\n",
            "{'like': 'Like', 'this': 'Thiiisss', 'canadians': 'Canadians', 'bring': 'BrINg', 'retarded': 'retARdED', 'minister': 'MInister', 'ahmed': 'ahmed', 'are': 'arrrrre', 'moslem': 'MOSLEM'}\n"
          ]
        },
        {
          "output_type": "stream",
          "name": "stderr",
          "text": [
            " 33%|███▎      | 641/1924 [2:11:03<2:45:46,  7.75s/it]"
          ]
        },
        {
          "output_type": "stream",
          "name": "stdout",
          "text": [
            "['nigger', 'nigga', 'mud shark', 'chink', 'gook', 'spic', 'wetback', 'kike', 'sand nigger', 'towelhead', 'beaner', 'cracker', 'honky', 'jungle bunny', 'redskin', 'bitch', 'slut', 'whore', 'cunt', 'feminazi', 'dyke', 'tranny', 'she-male', 'gold digger', 'skank', 'faggot', 'fag', 'homo', 'queer', 'carpet muncher', 'pillow biter', 'fudge packer', 'lesbo', 'Christ killer', 'jihadist', 'infidel', 'kike', 'raghead', 'heathen', 'pagan', 'Bible basher', 'papist', 'kaffir', 'retard', 'cripple', 'spaz', 'mongoloid', 'psycho', 'nutjob', 'lame', 'vegetable', 'deaf-mute', 'imbecile', 'yank', 'brit', 'kraut', 'jap', 'commie', 'ruski', 'paki', 'wop', 'dago', 'polack', 'fatty', 'lardass', 'twig', 'beanpole', 'ugly', 'four-eyes', 'baldie', 'geek', 'nerd', 'pimple-face']\n",
            "['<user>', '<user>', '<user>', 'instead', 'break', 'pakistan', 'no', 'illegal', 'pak', 'muslim', 'immigrants', 'allowed', 'in', 'india', 'i', 'mean', 'the', 'word', 'illegal']\n",
            "['<user>', '<user>', '<user>', 'instead', 'brak', 'pakistan', 'no', 'illegal', 'PAk', 'Muslim', 'immigrants', 'allowed', 'in', 'india', 'i', 'mean', 'the', 'word', 'illegal']\n",
            "{'pak': 'PAk', 'muslim': 'Muslim', 'break': 'brak'}\n"
          ]
        },
        {
          "output_type": "stream",
          "name": "stderr",
          "text": [
            " 34%|███▎      | 646/1924 [2:12:02<3:40:31, 10.35s/it]"
          ]
        },
        {
          "output_type": "stream",
          "name": "stdout",
          "text": [
            "['nigger', 'nigga', 'mud shark', 'chink', 'gook', 'spic', 'wetback', 'kike', 'sand nigger', 'towelhead', 'beaner', 'cracker', 'honky', 'jungle bunny', 'redskin', 'bitch', 'slut', 'whore', 'cunt', 'feminazi', 'dyke', 'tranny', 'she-male', 'gold digger', 'skank', 'faggot', 'fag', 'homo', 'queer', 'carpet muncher', 'pillow biter', 'fudge packer', 'lesbo', 'Christ killer', 'jihadist', 'infidel', 'kike', 'raghead', 'heathen', 'pagan', 'Bible basher', 'papist', 'kaffir', 'retard', 'cripple', 'spaz', 'mongoloid', 'psycho', 'nutjob', 'lame', 'vegetable', 'deaf-mute', 'imbecile', 'yank', 'brit', 'kraut', 'jap', 'commie', 'ruski', 'paki', 'wop', 'dago', 'polack', 'fatty', 'lardass', 'twig', 'beanpole', 'ugly', 'four-eyes', 'baldie', 'geek', 'nerd', 'pimple-face']\n",
            "['at', 'the', 'geschlecht', 'macht', 'herrschaft', 'ubonn', 'conference', 'prof', 'anne', 'foerster', 'gave', 'a', 'paper', 'on', 'ruling', 'women', 'she', 'just', 'made', 'a', 'remarkable', 'point', 'there', 'are', 'few', 'single', 'male', 'rulers', 'and', 'they', 'are', 'often', 'criticized', 'william', 'rufus', 'did', 'kingly', 'authority', 'require', 'a', 'queen', 'medieval', 'twitter']\n",
            "['at', 'thE', 'geschlecht', 'macht', 'Herrschaft', 'UBN', 'conference', 'prof', 'anne', 'foerster', 'gave', 'a', 'paper', 'on', 'ruling', 'women', 'she', 'just', 'made', 'a', 'Remarkable', 'point', 'THERE', 'are', 'few', 'single', 'malee', 'rulers', 'and', 'thEY', 'are', 'often', 'criticized', 'william', 'rufus', 'did', 'kingly', 'authority', 'require', 'a', 'queen', 'medieval', 'twitter']\n",
            "{'there': 'THERE', 'remarkable': 'Remarkable', 'william': 'william', 'they': 'thEY', 'the': 'thE', 'male': 'malee', 'herrschaft': 'Herrschaft', 'ubonn': 'UBN'}\n"
          ]
        },
        {
          "output_type": "stream",
          "name": "stderr",
          "text": [
            " 34%|███▍      | 651/1924 [2:14:31<7:30:49, 21.25s/it] "
          ]
        },
        {
          "output_type": "stream",
          "name": "stdout",
          "text": [
            "['nigger', 'nigga', 'mud shark', 'chink', 'gook', 'spic', 'wetback', 'kike', 'sand nigger', 'towelhead', 'beaner', 'cracker', 'honky', 'jungle bunny', 'redskin', 'bitch', 'slut', 'whore', 'cunt', 'feminazi', 'dyke', 'tranny', 'she-male', 'gold digger', 'skank', 'faggot', 'fag', 'homo', 'queer', 'carpet muncher', 'pillow biter', 'fudge packer', 'lesbo', 'Christ killer', 'jihadist', 'infidel', 'kike', 'raghead', 'heathen', 'pagan', 'Bible basher', 'papist', 'kaffir', 'retard', 'cripple', 'spaz', 'mongoloid', 'psycho', 'nutjob', 'lame', 'vegetable', 'deaf-mute', 'imbecile', 'yank', 'brit', 'kraut', 'jap', 'commie', 'ruski', 'paki', 'wop', 'dago', 'polack', 'fatty', 'lardass', 'twig', 'beanpole', 'ugly', 'four-eyes', 'baldie', 'geek', 'nerd', 'pimple-face']\n",
            "['god', 'i', 'fucking', 'hate', 'allergies']\n",
            "['gOD', 'i', 'fucking', 'hate', 'allergies']\n",
            "{'god': 'gOD'}\n"
          ]
        },
        {
          "output_type": "stream",
          "name": "stderr",
          "text": [
            " 34%|███▍      | 656/1924 [2:15:41<4:01:33, 11.43s/it]"
          ]
        },
        {
          "output_type": "stream",
          "name": "stdout",
          "text": [
            "['nigger', 'nigga', 'mud shark', 'chink', 'gook', 'spic', 'wetback', 'kike', 'sand nigger', 'towelhead', 'beaner', 'cracker', 'honky', 'jungle bunny', 'redskin', 'bitch', 'slut', 'whore', 'cunt', 'feminazi', 'dyke', 'tranny', 'she-male', 'gold digger', 'skank', 'faggot', 'fag', 'homo', 'queer', 'carpet muncher', 'pillow biter', 'fudge packer', 'lesbo', 'Christ killer', 'jihadist', 'infidel', 'kike', 'raghead', 'heathen', 'pagan', 'Bible basher', 'papist', 'kaffir', 'retard', 'cripple', 'spaz', 'mongoloid', 'psycho', 'nutjob', 'lame', 'vegetable', 'deaf-mute', 'imbecile', 'yank', 'brit', 'kraut', 'jap', 'commie', 'ruski', 'paki', 'wop', 'dago', 'polack', 'fatty', 'lardass', 'twig', 'beanpole', 'ugly', 'four-eyes', 'baldie', 'geek', 'nerd', 'pimple-face']\n",
            "['what', 'is', 'the', 'distance', 'between', 'these', 'tweets', 'and', 'explicit', 'calls', 'for', 'violence']\n",
            "['what', 'is', 'Thue', 'distance', 'between', 'these', 'tweets', 'and', 'explicit', 'calls', 'for', 'violence']\n",
            "{'calls': 'calls', 'the': 'Thue', 'distance': 'distance'}\n"
          ]
        },
        {
          "output_type": "stream",
          "name": "stderr",
          "text": [
            " 34%|███▍      | 661/1924 [2:17:11<5:14:41, 14.95s/it]"
          ]
        },
        {
          "output_type": "stream",
          "name": "stdout",
          "text": [
            "['nigger', 'nigga', 'mud shark', 'chink', 'gook', 'spic', 'wetback', 'kike', 'sand nigger', 'towelhead', 'beaner', 'cracker', 'honky', 'jungle bunny', 'redskin', 'bitch', 'slut', 'whore', 'cunt', 'feminazi', 'dyke', 'tranny', 'she-male', 'gold digger', 'skank', 'faggot', 'fag', 'homo', 'queer', 'carpet muncher', 'pillow biter', 'fudge packer', 'lesbo', 'Christ killer', 'jihadist', 'infidel', 'kike', 'raghead', 'heathen', 'pagan', 'Bible basher', 'papist', 'kaffir', 'retard', 'cripple', 'spaz', 'mongoloid', 'psycho', 'nutjob', 'lame', 'vegetable', 'deaf-mute', 'imbecile', 'yank', 'brit', 'kraut', 'jap', 'commie', 'ruski', 'paki', 'wop', 'dago', 'polack', 'fatty', 'lardass', 'twig', 'beanpole', 'ugly', 'four-eyes', 'baldie', 'geek', 'nerd', 'pimple-face']\n",
            "['well', 'uh', 'not', 'just', 'bc', 'of', 'zombama', 'and', 'cunton', 'they', 'arabs', 'and', 'blax', 'love', 'slavery', 'jews', 'too', 'as', 'far', 'as', 'i', 'can', 'tell']\n",
            "['WElL', 'uh', 'not', 'JusT', 'bc', 'of', 'zombama', 'and', 'cunton', 'they', 'arabs', 'and', 'blax', 'love', 'slavery', 'jews', 'too', 'as', 'far', 'as', 'i', 'can', 'tElL']\n",
            "{'tell': 'tElL', 'just': 'JusT', 'well': 'WElL', 'cunton': 'cunton'}\n"
          ]
        },
        {
          "output_type": "stream",
          "name": "stderr",
          "text": [
            " 35%|███▍      | 666/1924 [2:18:23<5:10:02, 14.79s/it]"
          ]
        },
        {
          "output_type": "stream",
          "name": "stdout",
          "text": [
            "['nigger', 'nigga', 'mud shark', 'chink', 'gook', 'spic', 'wetback', 'kike', 'sand nigger', 'towelhead', 'beaner', 'cracker', 'honky', 'jungle bunny', 'redskin', 'bitch', 'slut', 'whore', 'cunt', 'feminazi', 'dyke', 'tranny', 'she-male', 'gold digger', 'skank', 'faggot', 'fag', 'homo', 'queer', 'carpet muncher', 'pillow biter', 'fudge packer', 'lesbo', 'Christ killer', 'jihadist', 'infidel', 'kike', 'raghead', 'heathen', 'pagan', 'Bible basher', 'papist', 'kaffir', 'retard', 'cripple', 'spaz', 'mongoloid', 'psycho', 'nutjob', 'lame', 'vegetable', 'deaf-mute', 'imbecile', 'yank', 'brit', 'kraut', 'jap', 'commie', 'ruski', 'paki', 'wop', 'dago', 'polack', 'fatty', 'lardass', 'twig', 'beanpole', 'ugly', 'four-eyes', 'baldie', 'geek', 'nerd', 'pimple-face']\n",
            "['some', 'might', 'argue', 'we', 'already', 'had', 'a', 'muslim', 'leader', 'just', 'saying']\n",
            "['some', 'might', 'argue', 'we', 'Alrady', 'had', 'a', 'muslim', 'leader', 'Just', 'saying']\n",
            "{'just': 'Just', 'already': 'Alrady'}\n"
          ]
        },
        {
          "output_type": "stream",
          "name": "stderr",
          "text": [
            " 35%|███▍      | 671/1924 [2:19:34<6:23:34, 18.37s/it]"
          ]
        },
        {
          "output_type": "stream",
          "name": "stdout",
          "text": [
            "['nigger', 'nigga', 'mud shark', 'chink', 'gook', 'spic', 'wetback', 'kike', 'sand nigger', 'towelhead', 'beaner', 'cracker', 'honky', 'jungle bunny', 'redskin', 'bitch', 'slut', 'whore', 'cunt', 'feminazi', 'dyke', 'tranny', 'she-male', 'gold digger', 'skank', 'faggot', 'fag', 'homo', 'queer', 'carpet muncher', 'pillow biter', 'fudge packer', 'lesbo', 'Christ killer', 'jihadist', 'infidel', 'kike', 'raghead', 'heathen', 'pagan', 'Bible basher', 'papist', 'kaffir', 'retard', 'cripple', 'spaz', 'mongoloid', 'psycho', 'nutjob', 'lame', 'vegetable', 'deaf-mute', 'imbecile', 'yank', 'brit', 'kraut', 'jap', 'commie', 'ruski', 'paki', 'wop', 'dago', 'polack', 'fatty', 'lardass', 'twig', 'beanpole', 'ugly', 'four-eyes', 'baldie', 'geek', 'nerd', 'pimple-face']\n",
            "['listen', 'to', 'me', 'you', 'fuck', 'there', 'is', 'only', 'one', 'way', 'you', 'can', 'say', 'you', 'are', 'redpilled', 'on', 'women', 'and', 'that', 'after', 'you', 'have', 'created', 'a', 'family', 'with', 'one', 'the', 'sandnigger', 'alien', 'standards', 'are', 'those', 'of', 'a', 'subhuman', 'organism']\n",
            "['listen', 'to', 'me', 'you', 'fuck', 'there', 'is', 'only', 'one', 'wayY', 'you', 'can', 'say', 'you', 'are', 'redpilled', 'on', 'women', 'and', 'Thatttt', 'after', 'you', 'HAve', 'created', 'a', 'family', 'WITH', 'one', 'Thue', 'sandnigger', 'alien', 'sTanDArdS', 'are', 'thooose', 'of', 'a', 'subhuman', 'organism']\n",
            "{'that': 'Thatttt', 'way': 'wayY', 'with': 'WITH', 'have': 'HAve', 'those': 'thooose', 'the': 'Thue', 'standards': 'sTanDArdS'}\n"
          ]
        },
        {
          "output_type": "stream",
          "name": "stderr",
          "text": [
            " 35%|███▌      | 676/1924 [2:20:00<2:40:37,  7.72s/it]"
          ]
        },
        {
          "output_type": "stream",
          "name": "stdout",
          "text": [
            "['nigger', 'nigga', 'mud shark', 'chink', 'gook', 'spic', 'wetback', 'kike', 'sand nigger', 'towelhead', 'beaner', 'cracker', 'honky', 'jungle bunny', 'redskin', 'bitch', 'slut', 'whore', 'cunt', 'feminazi', 'dyke', 'tranny', 'she-male', 'gold digger', 'skank', 'faggot', 'fag', 'homo', 'queer', 'carpet muncher', 'pillow biter', 'fudge packer', 'lesbo', 'Christ killer', 'jihadist', 'infidel', 'kike', 'raghead', 'heathen', 'pagan', 'Bible basher', 'papist', 'kaffir', 'retard', 'cripple', 'spaz', 'mongoloid', 'psycho', 'nutjob', 'lame', 'vegetable', 'deaf-mute', 'imbecile', 'yank', 'brit', 'kraut', 'jap', 'commie', 'ruski', 'paki', 'wop', 'dago', 'polack', 'fatty', 'lardass', 'twig', 'beanpole', 'ugly', 'four-eyes', 'baldie', 'geek', 'nerd', 'pimple-face']\n",
            "['why', 'do', 'you', 'gym', 'muscle', 'faggots', 'not', 'spend', 'more', 'time', 'rushing', 'homophobes']\n",
            "['why', 'do', 'you', 'GYM', 'muscle', 'faggots', 'not', 'spend', 'morre', 'time', 'rushing', 'homophobes']\n",
            "{'more': 'morre', 'muscle': 'muscle', 'gym': 'GYM'}\n"
          ]
        },
        {
          "output_type": "stream",
          "name": "stderr",
          "text": [
            " 35%|███▌      | 681/1924 [2:20:53<3:04:49,  8.92s/it]"
          ]
        },
        {
          "output_type": "stream",
          "name": "stdout",
          "text": [
            "['nigger', 'nigga', 'mud shark', 'chink', 'gook', 'spic', 'wetback', 'kike', 'sand nigger', 'towelhead', 'beaner', 'cracker', 'honky', 'jungle bunny', 'redskin', 'bitch', 'slut', 'whore', 'cunt', 'feminazi', 'dyke', 'tranny', 'she-male', 'gold digger', 'skank', 'faggot', 'fag', 'homo', 'queer', 'carpet muncher', 'pillow biter', 'fudge packer', 'lesbo', 'Christ killer', 'jihadist', 'infidel', 'kike', 'raghead', 'heathen', 'pagan', 'Bible basher', 'papist', 'kaffir', 'retard', 'cripple', 'spaz', 'mongoloid', 'psycho', 'nutjob', 'lame', 'vegetable', 'deaf-mute', 'imbecile', 'yank', 'brit', 'kraut', 'jap', 'commie', 'ruski', 'paki', 'wop', 'dago', 'polack', 'fatty', 'lardass', 'twig', 'beanpole', 'ugly', 'four-eyes', 'baldie', 'geek', 'nerd', 'pimple-face']\n",
            "['sherry', 'fatso', 'kim', 'is', 'not', 'a', 'threat', 'yet', 'the', 'mil', 'indus', 'complex', 'pretends', 'that', 'he', 'is', 'trump', 'spoke', 'about', 'protecting', 'our', 'friends', 'it', 'is', 'all', 'bullshit']\n",
            "['Sherri', 'Fatso', 'kim', 'is', 'not', 'a', 'threat', 'yet', 'the', 'mil', 'indus', 'complex', 'Pretends', 'that', 'he', 'is', 'trump', 'spoke', 'about', 'protesting', 'our', 'friends', 'it', 'is', 'all', 'bullshit']\n",
            "{'pretends': 'Pretends', 'sherry': 'Sherri', 'fatso': 'Fatso', 'protecting': 'protesting'}\n"
          ]
        },
        {
          "output_type": "stream",
          "name": "stderr",
          "text": [
            " 36%|███▌      | 686/1924 [2:21:07<1:22:06,  3.98s/it]"
          ]
        },
        {
          "output_type": "stream",
          "name": "stdout",
          "text": [
            "['nigger', 'nigga', 'mud shark', 'chink', 'gook', 'spic', 'wetback', 'kike', 'sand nigger', 'towelhead', 'beaner', 'cracker', 'honky', 'jungle bunny', 'redskin', 'bitch', 'slut', 'whore', 'cunt', 'feminazi', 'dyke', 'tranny', 'she-male', 'gold digger', 'skank', 'faggot', 'fag', 'homo', 'queer', 'carpet muncher', 'pillow biter', 'fudge packer', 'lesbo', 'Christ killer', 'jihadist', 'infidel', 'kike', 'raghead', 'heathen', 'pagan', 'Bible basher', 'papist', 'kaffir', 'retard', 'cripple', 'spaz', 'mongoloid', 'psycho', 'nutjob', 'lame', 'vegetable', 'deaf-mute', 'imbecile', 'yank', 'brit', 'kraut', 'jap', 'commie', 'ruski', 'paki', 'wop', 'dago', 'polack', 'fatty', 'lardass', 'twig', 'beanpole', 'ugly', 'four-eyes', 'baldie', 'geek', 'nerd', 'pimple-face']\n",
            "['a', 'mentally', 'ill', 'low', 'iq', 'nigger', 'goes', 'full', 'retard', 'after', 'being', 'out', 'on', 'a', 'pedestal', 'and', 'the', 'world', 'is', 'shocked']\n",
            "['a', 'mentally', 'ill', 'low', 'iq', 'Niger', 'goes', 'full', 'REEEEEtard', 'after', 'being', 'out', 'on', 'a', 'pedestal', 'and', 'the', 'world', 'is', 'shocked']\n",
            "{'nigger': 'Niger', 'retard': 'REEEEEtard'}\n"
          ]
        },
        {
          "output_type": "stream",
          "name": "stderr",
          "text": [
            " 36%|███▌      | 691/1924 [2:23:33<7:02:53, 20.58s/it]"
          ]
        },
        {
          "output_type": "stream",
          "name": "stdout",
          "text": [
            "['nigger', 'nigga', 'mud shark', 'chink', 'gook', 'spic', 'wetback', 'kike', 'sand nigger', 'towelhead', 'beaner', 'cracker', 'honky', 'jungle bunny', 'redskin', 'bitch', 'slut', 'whore', 'cunt', 'feminazi', 'dyke', 'tranny', 'she-male', 'gold digger', 'skank', 'faggot', 'fag', 'homo', 'queer', 'carpet muncher', 'pillow biter', 'fudge packer', 'lesbo', 'Christ killer', 'jihadist', 'infidel', 'kike', 'raghead', 'heathen', 'pagan', 'Bible basher', 'papist', 'kaffir', 'retard', 'cripple', 'spaz', 'mongoloid', 'psycho', 'nutjob', 'lame', 'vegetable', 'deaf-mute', 'imbecile', 'yank', 'brit', 'kraut', 'jap', 'commie', 'ruski', 'paki', 'wop', 'dago', 'polack', 'fatty', 'lardass', 'twig', 'beanpole', 'ugly', 'four-eyes', 'baldie', 'geek', 'nerd', 'pimple-face']\n",
            "['im', 'tired', 'of', 'seeing', 'that', 'black', 'and', 'white', 'ass', 'eating', 'video', 'the', 'bitch', 'thats', 'shaped', 'like', 'squidward', 'and', 'the', 'the', 'girl', 'getting', 'fucked', 'and', 'then', 'suckin', 'dick', 'like', 'bye']\n",
            "['im', 'tired', 'of', 'seeing', 'that', 'black', 'and', 'white', 'ass', 'eating', 'video', 'the', 'BiTCh', 'thats', 'shaped', 'like', 'squidward', 'and', 'the', 'the', 'girl', 'getting', 'fucked', 'and', 'then', 'suckin', 'dick', 'like', 'bye']\n",
            "{'bitch': 'BiTCh'}\n"
          ]
        },
        {
          "output_type": "stream",
          "name": "stderr",
          "text": [
            " 36%|███▌      | 696/1924 [2:24:07<3:41:44, 10.83s/it]"
          ]
        },
        {
          "output_type": "stream",
          "name": "stdout",
          "text": [
            "['nigger', 'nigga', 'mud shark', 'chink', 'gook', 'spic', 'wetback', 'kike', 'sand nigger', 'towelhead', 'beaner', 'cracker', 'honky', 'jungle bunny', 'redskin', 'bitch', 'slut', 'whore', 'cunt', 'feminazi', 'dyke', 'tranny', 'she-male', 'gold digger', 'skank', 'faggot', 'fag', 'homo', 'queer', 'carpet muncher', 'pillow biter', 'fudge packer', 'lesbo', 'Christ killer', 'jihadist', 'infidel', 'kike', 'raghead', 'heathen', 'pagan', 'Bible basher', 'papist', 'kaffir', 'retard', 'cripple', 'spaz', 'mongoloid', 'psycho', 'nutjob', 'lame', 'vegetable', 'deaf-mute', 'imbecile', 'yank', 'brit', 'kraut', 'jap', 'commie', 'ruski', 'paki', 'wop', 'dago', 'polack', 'fatty', 'lardass', 'twig', 'beanpole', 'ugly', 'four-eyes', 'baldie', 'geek', 'nerd', 'pimple-face']\n",
            "['<user>', '<user>', 'i', 'am', 'sorry', 'but', 'that', 'literally', 'does', 'not', 'make', 'sense', 'if', 'the', 'british', 'people', 'voted', 'to', 'kill', 'all', 'our', 'animals', 'destroy', 'all', 'our', 'crops', 'and', 'burn', 'all', 'our', 'supermarkets', 'should', 'that', 'be', 'respected']\n",
            "['<user>', '<user>', 'i', 'am', 'sory', 'but', 'that', 'literally', 'does', 'not', 'make', 'sense', 'if', 'THIE', 'british', 'people', 'voted', 'to', 'kill', 'all', 'oUr', 'animals', 'destroy', 'all', 'our', 'crops', 'and', 'BURN', 'all', 'our', 'supermarkets', 'should', 'ThAt', 'be', 'respected']\n",
            "{'sorry': 'sory', 'the': 'THIE', 'that': 'ThAt', 'burn': 'BURN', 'kill': 'kill', 'our': 'oUr'}\n"
          ]
        },
        {
          "output_type": "stream",
          "name": "stderr",
          "text": [
            " 36%|███▋      | 700/1924 [2:25:04<4:30:14, 13.25s/it]"
          ]
        },
        {
          "output_type": "stream",
          "name": "stdout",
          "text": [
            "['nigger', 'nigga', 'mud shark', 'chink', 'gook', 'spic', 'wetback', 'kike', 'sand nigger', 'towelhead', 'beaner', 'cracker', 'honky', 'jungle bunny', 'redskin', 'bitch', 'slut', 'whore', 'cunt', 'feminazi', 'dyke', 'tranny', 'she-male', 'gold digger', 'skank', 'faggot', 'fag', 'homo', 'queer', 'carpet muncher', 'pillow biter', 'fudge packer', 'lesbo', 'Christ killer', 'jihadist', 'infidel', 'kike', 'raghead', 'heathen', 'pagan', 'Bible basher', 'papist', 'kaffir', 'retard', 'cripple', 'spaz', 'mongoloid', 'psycho', 'nutjob', 'lame', 'vegetable', 'deaf-mute', 'imbecile', 'yank', 'brit', 'kraut', 'jap', 'commie', 'ruski', 'paki', 'wop', 'dago', 'polack', 'fatty', 'lardass', 'twig', 'beanpole', 'ugly', 'four-eyes', 'baldie', 'geek', 'nerd', 'pimple-face']\n",
            "['crash', 'on', 'eb', 'i', '<number>', 'location', 'eb', 'i', '<number>', 'at', 'van', 'dyke', 'lanes', 'blocked', 'left', 'shoulder', 'left', 'lane', 'event', 'type', 'crash', 'county', 'macomb']\n",
            "['crash', 'on', 'eb', 'i', '<number>', 'location', 'eb', 'i', '<number>', 'at', 'van', 'dyke', 'lanes', 'blocked', 'left', 'shoulder', 'left', 'lane', 'event', 'type', 'crash', 'county', 'macomb']\n",
            "{'dyke': 'dyke'}\n"
          ]
        },
        {
          "output_type": "stream",
          "name": "stderr",
          "text": [
            " 37%|███▋      | 706/1924 [2:26:03<4:51:35, 14.36s/it]"
          ]
        },
        {
          "output_type": "stream",
          "name": "stdout",
          "text": [
            "['nigger', 'nigga', 'mud shark', 'chink', 'gook', 'spic', 'wetback', 'kike', 'sand nigger', 'towelhead', 'beaner', 'cracker', 'honky', 'jungle bunny', 'redskin', 'bitch', 'slut', 'whore', 'cunt', 'feminazi', 'dyke', 'tranny', 'she-male', 'gold digger', 'skank', 'faggot', 'fag', 'homo', 'queer', 'carpet muncher', 'pillow biter', 'fudge packer', 'lesbo', 'Christ killer', 'jihadist', 'infidel', 'kike', 'raghead', 'heathen', 'pagan', 'Bible basher', 'papist', 'kaffir', 'retard', 'cripple', 'spaz', 'mongoloid', 'psycho', 'nutjob', 'lame', 'vegetable', 'deaf-mute', 'imbecile', 'yank', 'brit', 'kraut', 'jap', 'commie', 'ruski', 'paki', 'wop', 'dago', 'polack', 'fatty', 'lardass', 'twig', 'beanpole', 'ugly', 'four-eyes', 'baldie', 'geek', 'nerd', 'pimple-face']\n",
            "['where', 'are', 'all', 'the', 'conservative', 'white', 'men', 'where', 'are', 'all', 'the', 'white', 'women', 'defending', 'men', 'from', 'women', 'committing', 'perjury', 'in', 'the', 'divorce', 'courts', 'oh', 'that', 'right', 'they', 'are', 'cheering', 'as', 'men', 'commit', 'suicide', 'screw', 'you', 'bitches', 'look', 'after', 'yourselves', 'mgtow']\n",
            "['where', 'are', 'all', 'the', 'conservative', 'white', 'Mennn', 'where', 'are', 'all', 'the', 'white', 'women', 'defending', 'men', 'from', 'women', 'committing', 'Perjury', 'in', 'the', 'divorce', 'courts', 'oh', 'that', 'right', 'they', 'Arie', 'cheering', 'as', 'men', 'commit', 'suicide', 'screw', 'YoU', 'bitches', 'look', 'after', 'yourselves', 'mgtow']\n",
            "{'perjury': 'Perjury', 'screw': 'screw', 'are': 'Arie', 'mgtow': 'mgtow', 'defending': 'defending', 'you': 'YoU', 'men': 'Mennn'}\n"
          ]
        },
        {
          "output_type": "stream",
          "name": "stderr",
          "text": [
            " 37%|███▋      | 711/1924 [2:27:14<4:02:58, 12.02s/it]"
          ]
        },
        {
          "output_type": "stream",
          "name": "stdout",
          "text": [
            "['nigger', 'nigga', 'mud shark', 'chink', 'gook', 'spic', 'wetback', 'kike', 'sand nigger', 'towelhead', 'beaner', 'cracker', 'honky', 'jungle bunny', 'redskin', 'bitch', 'slut', 'whore', 'cunt', 'feminazi', 'dyke', 'tranny', 'she-male', 'gold digger', 'skank', 'faggot', 'fag', 'homo', 'queer', 'carpet muncher', 'pillow biter', 'fudge packer', 'lesbo', 'Christ killer', 'jihadist', 'infidel', 'kike', 'raghead', 'heathen', 'pagan', 'Bible basher', 'papist', 'kaffir', 'retard', 'cripple', 'spaz', 'mongoloid', 'psycho', 'nutjob', 'lame', 'vegetable', 'deaf-mute', 'imbecile', 'yank', 'brit', 'kraut', 'jap', 'commie', 'ruski', 'paki', 'wop', 'dago', 'polack', 'fatty', 'lardass', 'twig', 'beanpole', 'ugly', 'four-eyes', 'baldie', 'geek', 'nerd', 'pimple-face']\n",
            "['so', 'as', 'men', 'we', 'have', 'penises', 'that', 'look', 'like', 'melted', 'candles', 'but', 'women', 'get', 'something', 'cool', 'as', 'their', 'pussies', 'look', 'like', 'the', 'fucking', 'predator']\n",
            "['so', 'as', 'MEEnn', 'we', 'have', 'penises', 'that', 'look', 'like', 'melted', 'candles', 'but', 'wommen', 'get', 'sOMEthInG', 'cool', 'as', 'their', 'pussies', 'look', 'like', 'the', 'fucking', 'Predator']\n",
            "{'men': 'MEEnn', 'something': 'sOMEthInG', 'women': 'wommen', 'predator': 'Predator'}\n"
          ]
        },
        {
          "output_type": "stream",
          "name": "stderr",
          "text": [
            " 37%|███▋      | 716/1924 [2:28:00<2:51:06,  8.50s/it]"
          ]
        },
        {
          "output_type": "stream",
          "name": "stdout",
          "text": [
            "['nigger', 'nigga', 'mud shark', 'chink', 'gook', 'spic', 'wetback', 'kike', 'sand nigger', 'towelhead', 'beaner', 'cracker', 'honky', 'jungle bunny', 'redskin', 'bitch', 'slut', 'whore', 'cunt', 'feminazi', 'dyke', 'tranny', 'she-male', 'gold digger', 'skank', 'faggot', 'fag', 'homo', 'queer', 'carpet muncher', 'pillow biter', 'fudge packer', 'lesbo', 'Christ killer', 'jihadist', 'infidel', 'kike', 'raghead', 'heathen', 'pagan', 'Bible basher', 'papist', 'kaffir', 'retard', 'cripple', 'spaz', 'mongoloid', 'psycho', 'nutjob', 'lame', 'vegetable', 'deaf-mute', 'imbecile', 'yank', 'brit', 'kraut', 'jap', 'commie', 'ruski', 'paki', 'wop', 'dago', 'polack', 'fatty', 'lardass', 'twig', 'beanpole', 'ugly', 'four-eyes', 'baldie', 'geek', 'nerd', 'pimple-face']\n",
            "['also', 'let', 'me', 'add', 'that', 'even', 'genuine', 'refugees', 'are', 'often', 'fleeing', 'their', 'home', 'countries', 'because', 'they', 'fear', 'retribution', 'for', 'the', 'very', 'bad', 'things', 'they', 'did', 'to', 'their', 'fellow', 'nationals', 'steve', 'sailor']\n",
            "['also', 'let', 'me', 'add', 'that', 'EveN', 'genune', 'refugees', 'are', 'often', 'fleeing', 'their', 'home', 'CONTRYS', 'because', 'they', 'fer', 'retribution', 'for', 'thae', 'very', 'bad', 'things', 'they', 'did', 'to', 'tHerr', 'fellow', 'nationals', 'steve', 'sailor']\n",
            "{'fear': 'fer', 'the': 'thae', 'genuine': 'genune', 'their': 'tHerr', 'even': 'EveN', 'countries': 'CONTRYS'}\n"
          ]
        },
        {
          "output_type": "stream",
          "name": "stderr",
          "text": [
            " 37%|███▋      | 721/1924 [2:28:56<4:10:39, 12.50s/it]"
          ]
        },
        {
          "output_type": "stream",
          "name": "stdout",
          "text": [
            "['nigger', 'nigga', 'mud shark', 'chink', 'gook', 'spic', 'wetback', 'kike', 'sand nigger', 'towelhead', 'beaner', 'cracker', 'honky', 'jungle bunny', 'redskin', 'bitch', 'slut', 'whore', 'cunt', 'feminazi', 'dyke', 'tranny', 'she-male', 'gold digger', 'skank', 'faggot', 'fag', 'homo', 'queer', 'carpet muncher', 'pillow biter', 'fudge packer', 'lesbo', 'Christ killer', 'jihadist', 'infidel', 'kike', 'raghead', 'heathen', 'pagan', 'Bible basher', 'papist', 'kaffir', 'retard', 'cripple', 'spaz', 'mongoloid', 'psycho', 'nutjob', 'lame', 'vegetable', 'deaf-mute', 'imbecile', 'yank', 'brit', 'kraut', 'jap', 'commie', 'ruski', 'paki', 'wop', 'dago', 'polack', 'fatty', 'lardass', 'twig', 'beanpole', 'ugly', 'four-eyes', 'baldie', 'geek', 'nerd', 'pimple-face']\n",
            "['how', 'many', 'feminists', 'will', 'get', 'raped', 'tonight', 'by', 'the', 'diverse', 'filth', 'they', 'are', 'currently', 'marching', 'with', 'then', 'blame', 'men', 'no', 'right', 'wing', 'straight', 'white', 'male', 'wants', 'to', 'touch', 'your', 'std', 'infested', 'multiculturally', 'accecable', 'hatchet', 'wound', 'and', 'i', 'think', 'that', 'really', 'why', 'you', 'are', 'angry', 'womensmarch']\n",
            "['how', 'many', 'feminists', 'will', 'Gett', 'raped', 'tonight', 'by', 'the', 'diverse', 'filth', 'they', 'are', 'currently', 'marching', 'with', 'then', 'blame', 'men', 'no', 'right', 'wing', 'StRaIgHt', 'white', 'male', 'wants', 'to', 'touch', 'your', 'std', 'infested', 'multiculturally', 'accecable', 'hatchet', 'wound', 'and', 'i', 'thinkkkkk', 'thaaaaaat', 'really', 'why', 'Youuuu', 'are', 'AngrI', 'womensmarch']\n",
            "{'straight': 'StRaIgHt', 'get': 'Gett', 'blame': 'blame', 'angry': 'AngrI', 'you': 'Youuuu', 'that': 'thaaaaaat', 'think': 'thinkkkkk'}\n"
          ]
        },
        {
          "output_type": "stream",
          "name": "stderr",
          "text": [
            " 38%|███▊      | 725/1924 [2:29:41<3:00:49,  9.05s/it]"
          ]
        },
        {
          "output_type": "stream",
          "name": "stdout",
          "text": [
            "['nigger', 'nigga', 'mud shark', 'chink', 'gook', 'spic', 'wetback', 'kike', 'sand nigger', 'towelhead', 'beaner', 'cracker', 'honky', 'jungle bunny', 'redskin', 'bitch', 'slut', 'whore', 'cunt', 'feminazi', 'dyke', 'tranny', 'she-male', 'gold digger', 'skank', 'faggot', 'fag', 'homo', 'queer', 'carpet muncher', 'pillow biter', 'fudge packer', 'lesbo', 'Christ killer', 'jihadist', 'infidel', 'kike', 'raghead', 'heathen', 'pagan', 'Bible basher', 'papist', 'kaffir', 'retard', 'cripple', 'spaz', 'mongoloid', 'psycho', 'nutjob', 'lame', 'vegetable', 'deaf-mute', 'imbecile', 'yank', 'brit', 'kraut', 'jap', 'commie', 'ruski', 'paki', 'wop', 'dago', 'polack', 'fatty', 'lardass', 'twig', 'beanpole', 'ugly', 'four-eyes', 'baldie', 'geek', 'nerd', 'pimple-face']\n",
            "['we', 'have', 'several', 'generations', 'of', 'women', 'utterly', 'incapable', 'of', 'making', 'even', 'the', 'simplest', 'sandwich']\n",
            "['we', 'have', 'several', 'Generations', 'of', 'women', 'uttterly', 'incapable', 'of', 'making', 'even', 'the', 'simplest', 'Sandwich']\n",
            "{'generations': 'Generations', 'sandwich': 'Sandwich', 'utterly': 'uttterly'}\n"
          ]
        },
        {
          "output_type": "stream",
          "name": "stderr",
          "text": [
            " 38%|███▊      | 731/1924 [2:30:41<2:48:04,  8.45s/it]"
          ]
        },
        {
          "output_type": "stream",
          "name": "stdout",
          "text": [
            "['nigger', 'nigga', 'mud shark', 'chink', 'gook', 'spic', 'wetback', 'kike', 'sand nigger', 'towelhead', 'beaner', 'cracker', 'honky', 'jungle bunny', 'redskin', 'bitch', 'slut', 'whore', 'cunt', 'feminazi', 'dyke', 'tranny', 'she-male', 'gold digger', 'skank', 'faggot', 'fag', 'homo', 'queer', 'carpet muncher', 'pillow biter', 'fudge packer', 'lesbo', 'Christ killer', 'jihadist', 'infidel', 'kike', 'raghead', 'heathen', 'pagan', 'Bible basher', 'papist', 'kaffir', 'retard', 'cripple', 'spaz', 'mongoloid', 'psycho', 'nutjob', 'lame', 'vegetable', 'deaf-mute', 'imbecile', 'yank', 'brit', 'kraut', 'jap', 'commie', 'ruski', 'paki', 'wop', 'dago', 'polack', 'fatty', 'lardass', 'twig', 'beanpole', 'ugly', 'four-eyes', 'baldie', 'geek', 'nerd', 'pimple-face']\n",
            "['arab', 'refugees', 'the', 'jews', 'are', 'fucking', 'arabs']\n",
            "['arab', 'refugees', 'Thae', 'JEWS', 'are', 'fucking', 'arabs']\n",
            "{'jews': 'JEWS', 'the': 'Thae'}\n"
          ]
        },
        {
          "output_type": "stream",
          "name": "stderr",
          "text": [
            " 38%|███▊      | 736/1924 [2:31:06<1:37:57,  4.95s/it]"
          ]
        },
        {
          "output_type": "stream",
          "name": "stdout",
          "text": [
            "['nigger', 'nigga', 'mud shark', 'chink', 'gook', 'spic', 'wetback', 'kike', 'sand nigger', 'towelhead', 'beaner', 'cracker', 'honky', 'jungle bunny', 'redskin', 'bitch', 'slut', 'whore', 'cunt', 'feminazi', 'dyke', 'tranny', 'she-male', 'gold digger', 'skank', 'faggot', 'fag', 'homo', 'queer', 'carpet muncher', 'pillow biter', 'fudge packer', 'lesbo', 'Christ killer', 'jihadist', 'infidel', 'kike', 'raghead', 'heathen', 'pagan', 'Bible basher', 'papist', 'kaffir', 'retard', 'cripple', 'spaz', 'mongoloid', 'psycho', 'nutjob', 'lame', 'vegetable', 'deaf-mute', 'imbecile', 'yank', 'brit', 'kraut', 'jap', 'commie', 'ruski', 'paki', 'wop', 'dago', 'polack', 'fatty', 'lardass', 'twig', 'beanpole', 'ugly', 'four-eyes', 'baldie', 'geek', 'nerd', 'pimple-face']\n",
            "['<user>', 'just', 'told', 'me', 'he', 'gained', 'so', 'much', 'weight', 'lately', 'because', 'of', 'all', 'of', 'the', 'nigger', 'cum', 'he', 'been', 'swallowing', 'tmi', 'vox', 'i', 'replied']\n",
            "['<user>', 'just', 'told', 'me', 'he', 'gained', 'so', 'much', 'weight', 'lately', 'because', 'of', 'all', 'of', 'the', 'Nigger', 'cum', 'he', 'been', 'swallowing', 'tmi', 'vox', 'i', 'replied']\n",
            "{'nigger': 'Nigger'}\n"
          ]
        },
        {
          "output_type": "stream",
          "name": "stderr",
          "text": [
            " 39%|███▊      | 741/1924 [2:32:06<2:53:12,  8.78s/it]"
          ]
        },
        {
          "output_type": "stream",
          "name": "stdout",
          "text": [
            "['nigger', 'nigga', 'mud shark', 'chink', 'gook', 'spic', 'wetback', 'kike', 'sand nigger', 'towelhead', 'beaner', 'cracker', 'honky', 'jungle bunny', 'redskin', 'bitch', 'slut', 'whore', 'cunt', 'feminazi', 'dyke', 'tranny', 'she-male', 'gold digger', 'skank', 'faggot', 'fag', 'homo', 'queer', 'carpet muncher', 'pillow biter', 'fudge packer', 'lesbo', 'Christ killer', 'jihadist', 'infidel', 'kike', 'raghead', 'heathen', 'pagan', 'Bible basher', 'papist', 'kaffir', 'retard', 'cripple', 'spaz', 'mongoloid', 'psycho', 'nutjob', 'lame', 'vegetable', 'deaf-mute', 'imbecile', 'yank', 'brit', 'kraut', 'jap', 'commie', 'ruski', 'paki', 'wop', 'dago', 'polack', 'fatty', 'lardass', 'twig', 'beanpole', 'ugly', 'four-eyes', 'baldie', 'geek', 'nerd', 'pimple-face']\n",
            "['that', 'is', 'about', 'the', 'most', 'faggot', 'ass', 'looking', 'shit', 'a', 'man', 'could', 'wear', 'bet', 'ya', 'any', 'sumbitch', 'that', 'dons', 'this', 'bs', 'is', 'packing', 'a', 'man', 'purse', 'too']\n",
            "['that', 'is', 'about', 'the', 'most', 'FAGOT', 'ass', 'looking', 'shit', 'a', 'man', 'could', 'wear', 'bet', 'ya', 'any', 'sumbitch', 'that', 'dons', 'this', 'bs', 'is', 'packing', 'a', 'man', 'purse', 'too']\n",
            "{'faggot': 'FAGOT'}\n"
          ]
        },
        {
          "output_type": "stream",
          "name": "stderr",
          "text": [
            " 39%|███▉      | 746/1924 [2:32:54<3:09:04,  9.63s/it]"
          ]
        },
        {
          "output_type": "stream",
          "name": "stdout",
          "text": [
            "['nigger', 'nigga', 'mud shark', 'chink', 'gook', 'spic', 'wetback', 'kike', 'sand nigger', 'towelhead', 'beaner', 'cracker', 'honky', 'jungle bunny', 'redskin', 'bitch', 'slut', 'whore', 'cunt', 'feminazi', 'dyke', 'tranny', 'she-male', 'gold digger', 'skank', 'faggot', 'fag', 'homo', 'queer', 'carpet muncher', 'pillow biter', 'fudge packer', 'lesbo', 'Christ killer', 'jihadist', 'infidel', 'kike', 'raghead', 'heathen', 'pagan', 'Bible basher', 'papist', 'kaffir', 'retard', 'cripple', 'spaz', 'mongoloid', 'psycho', 'nutjob', 'lame', 'vegetable', 'deaf-mute', 'imbecile', 'yank', 'brit', 'kraut', 'jap', 'commie', 'ruski', 'paki', 'wop', 'dago', 'polack', 'fatty', 'lardass', 'twig', 'beanpole', 'ugly', 'four-eyes', 'baldie', 'geek', 'nerd', 'pimple-face']\n",
            "['this', 'dude', 'sits', 'around', 'all', 'day', 'trying', 'to', 'argue', 'with', 'anglin', 'others', 'then', 'probably', 'bitched', 'about', 'targeted', 'harassment', 'all', 'day']\n",
            "['this', 'dude', 'sits', 'around', 'all', 'dayi', 'trying', 'to', 'ARGUE', 'with', 'anglin', 'others', 'then', 'proooobably', 'bitched', 'about', 'targeted', 'harassment', 'all', 'day']\n",
            "{'day': 'dayi', 'argue': 'ARGUE', 'probably': 'proooobably'}\n"
          ]
        },
        {
          "output_type": "stream",
          "name": "stderr",
          "text": [
            " 39%|███▉      | 751/1924 [2:33:59<5:38:33, 17.32s/it]"
          ]
        },
        {
          "output_type": "stream",
          "name": "stdout",
          "text": [
            "['nigger', 'nigga', 'mud shark', 'chink', 'gook', 'spic', 'wetback', 'kike', 'sand nigger', 'towelhead', 'beaner', 'cracker', 'honky', 'jungle bunny', 'redskin', 'bitch', 'slut', 'whore', 'cunt', 'feminazi', 'dyke', 'tranny', 'she-male', 'gold digger', 'skank', 'faggot', 'fag', 'homo', 'queer', 'carpet muncher', 'pillow biter', 'fudge packer', 'lesbo', 'Christ killer', 'jihadist', 'infidel', 'kike', 'raghead', 'heathen', 'pagan', 'Bible basher', 'papist', 'kaffir', 'retard', 'cripple', 'spaz', 'mongoloid', 'psycho', 'nutjob', 'lame', 'vegetable', 'deaf-mute', 'imbecile', 'yank', 'brit', 'kraut', 'jap', 'commie', 'ruski', 'paki', 'wop', 'dago', 'polack', 'fatty', 'lardass', 'twig', 'beanpole', 'ugly', 'four-eyes', 'baldie', 'geek', 'nerd', 'pimple-face']\n",
            "['i', 'never', 'thought', 'about', 'race', 'in', 'terms', 'of', 'iq', 'or', 'nationalism', 'it', 'wasn', 't', 'until', 'the', 'stupid', 'left', 'under', 'dindunuffin', 'obama', 'that', 'the', 'anti', 'white', 'screed', 'began', 'to', 'get', 'loud', 'and', 'now', 'i', 'am', 'a', 'white', 'nationalist', 'thanks', 'to', 'the', 'racist', 'left', 'i', 'am', 'embracing', 'my', 'ancestry', 'my', 'genes', 'my', 'origins', 'white', 'and', 'proud']\n",
            "['i', 'nEver', 'thought', 'about', 'race', 'in', 'terms', 'of', 'iq', 'or', 'nationalism', 'it', 'WaSn', 't', 'until', 'the', 'stupid', 'left', 'under', 'dindunuffin', 'obama', 'that', 'the', 'Anti', 'white', 'screed', 'began', 'to', 'get', 'lodd', 'Annnnnnd', 'now', 'i', 'am', 'a', 'white', 'nationalist', 'thanks', 'to', 'the', 'racist', 'LeFt', 'i', 'am', 'embracing', 'my', 'ancestry', 'my', 'genes', 'my', 'origins', 'WHYTE', 'and', 'proud']\n",
            "{'anti': 'Anti', 'loud': 'lodd', 'wasn': 'WaSn', 'white': 'WHYTE', 'the': 'the', 'left': 'LeFt', 'never': 'nEver', 'and': 'Annnnnnd'}\n"
          ]
        },
        {
          "output_type": "stream",
          "name": "stderr",
          "text": [
            " 39%|███▉      | 756/1924 [2:35:45<6:09:58, 19.01s/it]"
          ]
        },
        {
          "output_type": "stream",
          "name": "stdout",
          "text": [
            "['nigger', 'nigga', 'mud shark', 'chink', 'gook', 'spic', 'wetback', 'kike', 'sand nigger', 'towelhead', 'beaner', 'cracker', 'honky', 'jungle bunny', 'redskin', 'bitch', 'slut', 'whore', 'cunt', 'feminazi', 'dyke', 'tranny', 'she-male', 'gold digger', 'skank', 'faggot', 'fag', 'homo', 'queer', 'carpet muncher', 'pillow biter', 'fudge packer', 'lesbo', 'Christ killer', 'jihadist', 'infidel', 'kike', 'raghead', 'heathen', 'pagan', 'Bible basher', 'papist', 'kaffir', 'retard', 'cripple', 'spaz', 'mongoloid', 'psycho', 'nutjob', 'lame', 'vegetable', 'deaf-mute', 'imbecile', 'yank', 'brit', 'kraut', 'jap', 'commie', 'ruski', 'paki', 'wop', 'dago', 'polack', 'fatty', 'lardass', 'twig', 'beanpole', 'ugly', 'four-eyes', 'baldie', 'geek', 'nerd', 'pimple-face']\n",
            "['<user>', 'like', 'bro', 'wtf', 'are', 'they', 'talking', 'about', 'all', 'concerts', 'be', 'full', 'of', 'white', 'people']\n",
            "['<user>', 'like', 'bro', 'wtf', 'are', 'they', 'talking', 'about', 'all', 'concrets', 'be', 'full', 'of', 'white', 'PeOpLe']\n",
            "{'people': 'PeOpLe', 'concerts': 'concrets'}\n"
          ]
        },
        {
          "output_type": "stream",
          "name": "stderr",
          "text": [
            " 40%|███▉      | 760/1924 [2:36:36<5:11:42, 16.07s/it]"
          ]
        },
        {
          "output_type": "stream",
          "name": "stdout",
          "text": [
            "['nigger', 'nigga', 'mud shark', 'chink', 'gook', 'spic', 'wetback', 'kike', 'sand nigger', 'towelhead', 'beaner', 'cracker', 'honky', 'jungle bunny', 'redskin', 'bitch', 'slut', 'whore', 'cunt', 'feminazi', 'dyke', 'tranny', 'she-male', 'gold digger', 'skank', 'faggot', 'fag', 'homo', 'queer', 'carpet muncher', 'pillow biter', 'fudge packer', 'lesbo', 'Christ killer', 'jihadist', 'infidel', 'kike', 'raghead', 'heathen', 'pagan', 'Bible basher', 'papist', 'kaffir', 'retard', 'cripple', 'spaz', 'mongoloid', 'psycho', 'nutjob', 'lame', 'vegetable', 'deaf-mute', 'imbecile', 'yank', 'brit', 'kraut', 'jap', 'commie', 'ruski', 'paki', 'wop', 'dago', 'polack', 'fatty', 'lardass', 'twig', 'beanpole', 'ugly', 'four-eyes', 'baldie', 'geek', 'nerd', 'pimple-face']\n",
            "['<user>', 'the', 'homosexual', 'alcoholic', 'or', 'self', 'isolated', 'homosexual']\n",
            "['<user>', 'the', 'homosexual', 'alchoholic', 'or', 'self', 'ISOLATED', 'homosexual']\n",
            "{'alcoholic': 'alchoholic', 'isolated': 'ISOLATED'}\n"
          ]
        },
        {
          "output_type": "stream",
          "name": "stderr",
          "text": [
            " 40%|███▉      | 766/1924 [2:37:03<2:23:13,  7.42s/it]"
          ]
        },
        {
          "output_type": "stream",
          "name": "stdout",
          "text": [
            "['nigger', 'nigga', 'mud shark', 'chink', 'gook', 'spic', 'wetback', 'kike', 'sand nigger', 'towelhead', 'beaner', 'cracker', 'honky', 'jungle bunny', 'redskin', 'bitch', 'slut', 'whore', 'cunt', 'feminazi', 'dyke', 'tranny', 'she-male', 'gold digger', 'skank', 'faggot', 'fag', 'homo', 'queer', 'carpet muncher', 'pillow biter', 'fudge packer', 'lesbo', 'Christ killer', 'jihadist', 'infidel', 'kike', 'raghead', 'heathen', 'pagan', 'Bible basher', 'papist', 'kaffir', 'retard', 'cripple', 'spaz', 'mongoloid', 'psycho', 'nutjob', 'lame', 'vegetable', 'deaf-mute', 'imbecile', 'yank', 'brit', 'kraut', 'jap', 'commie', 'ruski', 'paki', 'wop', 'dago', 'polack', 'fatty', 'lardass', 'twig', 'beanpole', 'ugly', 'four-eyes', 'baldie', 'geek', 'nerd', 'pimple-face']\n",
            "['this', 'nigga', 'too', 'good', 'to', 'be', 'true', 'ain', '’', 't', 'no', 'way', 'he', 'show', 'up', 'to', 'my', 'crib', 'wit', 'a', 'bag', 'full', 'of', 'my', 'favorite', 'food']\n",
            "['this', 'NIGGGA', 'too', 'good', 'to', 'be', 'true', 'ain', '’', 't', 'no', 'way', 'he', 'show', 'up', 'to', 'my', 'crib', 'wit', 'a', 'bag', 'full', 'of', 'my', 'favorite', 'food']\n",
            "{'nigga': 'NIGGGA'}\n"
          ]
        },
        {
          "output_type": "stream",
          "name": "stderr",
          "text": [
            " 40%|████      | 771/1924 [2:37:22<2:00:03,  6.25s/it]"
          ]
        },
        {
          "output_type": "stream",
          "name": "stdout",
          "text": [
            "['nigger', 'nigga', 'mud shark', 'chink', 'gook', 'spic', 'wetback', 'kike', 'sand nigger', 'towelhead', 'beaner', 'cracker', 'honky', 'jungle bunny', 'redskin', 'bitch', 'slut', 'whore', 'cunt', 'feminazi', 'dyke', 'tranny', 'she-male', 'gold digger', 'skank', 'faggot', 'fag', 'homo', 'queer', 'carpet muncher', 'pillow biter', 'fudge packer', 'lesbo', 'Christ killer', 'jihadist', 'infidel', 'kike', 'raghead', 'heathen', 'pagan', 'Bible basher', 'papist', 'kaffir', 'retard', 'cripple', 'spaz', 'mongoloid', 'psycho', 'nutjob', 'lame', 'vegetable', 'deaf-mute', 'imbecile', 'yank', 'brit', 'kraut', 'jap', 'commie', 'ruski', 'paki', 'wop', 'dago', 'polack', 'fatty', 'lardass', 'twig', 'beanpole', 'ugly', 'four-eyes', 'baldie', 'geek', 'nerd', 'pimple-face']\n",
            "['iran', 'our', 'women', 'and', 'children', 'are', 'being', 'raped', 'murdered', 'and', 'stabbed', 'by', 'invading', 'barbarians', 'and', 'we', 'are', 'worried', 'about', 'muh', 'democracy', 'in', 'iran', 'wtf', 'iranprotests']\n",
            "['iran', 'ouur', 'women', 'ANd', 'children', 'are', 'being', 'rApED', 'murdred', 'and', 'stabbed', 'by', 'invading', 'barbarians', 'and', 'we', 'are', 'worried', 'about', 'muh', 'democracy', 'in', 'iran', 'wtf', 'iranprotests']\n",
            "{'and': 'ANd', 'our': 'ouur', 'murdered': 'murdred', 'raped': 'rApED'}\n"
          ]
        },
        {
          "output_type": "stream",
          "name": "stderr",
          "text": [
            " 40%|████      | 776/1924 [2:38:22<4:23:45, 13.78s/it]"
          ]
        },
        {
          "output_type": "stream",
          "name": "stdout",
          "text": [
            "['nigger', 'nigga', 'mud shark', 'chink', 'gook', 'spic', 'wetback', 'kike', 'sand nigger', 'towelhead', 'beaner', 'cracker', 'honky', 'jungle bunny', 'redskin', 'bitch', 'slut', 'whore', 'cunt', 'feminazi', 'dyke', 'tranny', 'she-male', 'gold digger', 'skank', 'faggot', 'fag', 'homo', 'queer', 'carpet muncher', 'pillow biter', 'fudge packer', 'lesbo', 'Christ killer', 'jihadist', 'infidel', 'kike', 'raghead', 'heathen', 'pagan', 'Bible basher', 'papist', 'kaffir', 'retard', 'cripple', 'spaz', 'mongoloid', 'psycho', 'nutjob', 'lame', 'vegetable', 'deaf-mute', 'imbecile', 'yank', 'brit', 'kraut', 'jap', 'commie', 'ruski', 'paki', 'wop', 'dago', 'polack', 'fatty', 'lardass', 'twig', 'beanpole', 'ugly', 'four-eyes', 'baldie', 'geek', 'nerd', 'pimple-face']\n",
            "['<user>', 'may', 'as', 'well', 'put', 'you', 'to', 'good', 'use', '<user>', 'this', 'is', 'an', 'example', 'of', 'a', 'muslim', 'catfish', 'study', 'it', 'have', 'fun', 'with', 'it', 'but', 'if', 'you', 'want', 'to', 'cry', 'at', 'me', 'for', 'a', 'few', 'more', 'hrs', 'i', 'suppose', 'that', 'would', 'just', 'say', 'some', 'thing', 'no']\n",
            "['<user>', 'may', 'as', 'well', 'put', 'you', 'to', 'good', 'use', '<user>', 'this', 'is', 'an', 'example', 'of', 'a', 'MUSLIM', 'catfish', 'study', 'it', 'have', 'fun', 'with', 'it', 'but', 'if', 'you', 'want', 'to', 'cry', 'at', 'me', 'for', 'a', 'few', 'more', 'hrs', 'i', 'suppose', 'thatt', 'would', 'Justtt', 'SAy', 'some', 'ThiNg', 'no']\n",
            "{'just': 'Justtt', 'say': 'SAy', 'thing': 'ThiNg', 'that': 'thatt', 'muslim': 'MUSLIM'}\n"
          ]
        },
        {
          "output_type": "stream",
          "name": "stderr",
          "text": [
            " 41%|████      | 781/1924 [2:39:45<4:28:32, 14.10s/it]"
          ]
        },
        {
          "output_type": "stream",
          "name": "stdout",
          "text": [
            "['nigger', 'nigga', 'mud shark', 'chink', 'gook', 'spic', 'wetback', 'kike', 'sand nigger', 'towelhead', 'beaner', 'cracker', 'honky', 'jungle bunny', 'redskin', 'bitch', 'slut', 'whore', 'cunt', 'feminazi', 'dyke', 'tranny', 'she-male', 'gold digger', 'skank', 'faggot', 'fag', 'homo', 'queer', 'carpet muncher', 'pillow biter', 'fudge packer', 'lesbo', 'Christ killer', 'jihadist', 'infidel', 'kike', 'raghead', 'heathen', 'pagan', 'Bible basher', 'papist', 'kaffir', 'retard', 'cripple', 'spaz', 'mongoloid', 'psycho', 'nutjob', 'lame', 'vegetable', 'deaf-mute', 'imbecile', 'yank', 'brit', 'kraut', 'jap', 'commie', 'ruski', 'paki', 'wop', 'dago', 'polack', 'fatty', 'lardass', 'twig', 'beanpole', 'ugly', 'four-eyes', 'baldie', 'geek', 'nerd', 'pimple-face']\n",
            "['i', 'thought', 'the', 'german', 'refugees', 'were', 'because', 'of', 'yet', 'another', 'french', 'invasion', 'of', 'their', 'homeland', 'the', 'vastly', 'more', 'common', 'historical', 'scenario', 'i', 'may', 'have', 'to', 'check', 'the', 'news', 'to', 'confirm']\n",
            "['i', 'thought', 'the', 'german', 'refugees', 'were', 'becausee', 'of', 'yet', 'another', 'fRENCH', 'invasion', 'of', 'their', 'homeland', 'the', 'Vastly', 'more', 'COMMON', 'historical', 'Scenario', 'i', 'may', 'have', 'to', 'check', 'the', 'news', 'to', 'confirm']\n",
            "{'because': 'becausee', 'scenario': 'Scenario', 'common': 'COMMON', 'french': 'fRENCH', 'vastly': 'Vastly'}\n"
          ]
        },
        {
          "output_type": "stream",
          "name": "stderr",
          "text": [
            " 41%|████      | 786/1924 [2:41:54<7:24:15, 23.42s/it]"
          ]
        },
        {
          "output_type": "stream",
          "name": "stdout",
          "text": [
            "['nigger', 'nigga', 'mud shark', 'chink', 'gook', 'spic', 'wetback', 'kike', 'sand nigger', 'towelhead', 'beaner', 'cracker', 'honky', 'jungle bunny', 'redskin', 'bitch', 'slut', 'whore', 'cunt', 'feminazi', 'dyke', 'tranny', 'she-male', 'gold digger', 'skank', 'faggot', 'fag', 'homo', 'queer', 'carpet muncher', 'pillow biter', 'fudge packer', 'lesbo', 'Christ killer', 'jihadist', 'infidel', 'kike', 'raghead', 'heathen', 'pagan', 'Bible basher', 'papist', 'kaffir', 'retard', 'cripple', 'spaz', 'mongoloid', 'psycho', 'nutjob', 'lame', 'vegetable', 'deaf-mute', 'imbecile', 'yank', 'brit', 'kraut', 'jap', 'commie', 'ruski', 'paki', 'wop', 'dago', 'polack', 'fatty', 'lardass', 'twig', 'beanpole', 'ugly', 'four-eyes', 'baldie', 'geek', 'nerd', 'pimple-face']\n",
            "['animals', 'have', 'hemoglobin', 'and', 'plasma', 'too', 'op', 'bitch']\n",
            "['animals', 'have', 'hemoglobin', 'and', 'plasma', 'too', 'op', 'BITCCH']\n",
            "{'bitch': 'BITCCH'}\n"
          ]
        },
        {
          "output_type": "stream",
          "name": "stderr",
          "text": [
            " 41%|████      | 791/1924 [2:42:30<3:51:27, 12.26s/it]"
          ]
        },
        {
          "output_type": "stream",
          "name": "stdout",
          "text": [
            "['nigger', 'nigga', 'mud shark', 'chink', 'gook', 'spic', 'wetback', 'kike', 'sand nigger', 'towelhead', 'beaner', 'cracker', 'honky', 'jungle bunny', 'redskin', 'bitch', 'slut', 'whore', 'cunt', 'feminazi', 'dyke', 'tranny', 'she-male', 'gold digger', 'skank', 'faggot', 'fag', 'homo', 'queer', 'carpet muncher', 'pillow biter', 'fudge packer', 'lesbo', 'Christ killer', 'jihadist', 'infidel', 'kike', 'raghead', 'heathen', 'pagan', 'Bible basher', 'papist', 'kaffir', 'retard', 'cripple', 'spaz', 'mongoloid', 'psycho', 'nutjob', 'lame', 'vegetable', 'deaf-mute', 'imbecile', 'yank', 'brit', 'kraut', 'jap', 'commie', 'ruski', 'paki', 'wop', 'dago', 'polack', 'fatty', 'lardass', 'twig', 'beanpole', 'ugly', 'four-eyes', 'baldie', 'geek', 'nerd', 'pimple-face']\n",
            "['i', 'do', 'not', 'see', 'why', 'people', 'go', 'camping', 'if', 'i', 'wanted', 'to', 'freeze', 'my', 'balls', 'off', 'and', 'shit', 'in', 'a', 'bucket', 'i', 'would', 'sleep', 'at', 'my', 'aunt', 'house', 'in', 'the', 'ghetto']\n",
            "['i', 'do', 'not', 'see', 'why', 'pEOpLe', 'go', 'camping', 'if', 'i', 'wAnTed', 'to', 'freeze', 'my', 'balls', 'off', 'ANNNND', 'shit', 'in', 'a', 'bucket', 'i', 'would', 'sleep', 'at', 'my', 'aunt', 'HOusE', 'in', 'the', 'ghetto']\n",
            "{'and': 'ANNNND', 'people': 'pEOpLe', 'house': 'HOusE', 'wanted': 'wAnTed'}\n"
          ]
        },
        {
          "output_type": "stream",
          "name": "stderr",
          "text": [
            " 41%|████▏     | 796/1924 [2:43:15<2:49:03,  8.99s/it]"
          ]
        },
        {
          "output_type": "stream",
          "name": "stdout",
          "text": [
            "['nigger', 'nigga', 'mud shark', 'chink', 'gook', 'spic', 'wetback', 'kike', 'sand nigger', 'towelhead', 'beaner', 'cracker', 'honky', 'jungle bunny', 'redskin', 'bitch', 'slut', 'whore', 'cunt', 'feminazi', 'dyke', 'tranny', 'she-male', 'gold digger', 'skank', 'faggot', 'fag', 'homo', 'queer', 'carpet muncher', 'pillow biter', 'fudge packer', 'lesbo', 'Christ killer', 'jihadist', 'infidel', 'kike', 'raghead', 'heathen', 'pagan', 'Bible basher', 'papist', 'kaffir', 'retard', 'cripple', 'spaz', 'mongoloid', 'psycho', 'nutjob', 'lame', 'vegetable', 'deaf-mute', 'imbecile', 'yank', 'brit', 'kraut', 'jap', 'commie', 'ruski', 'paki', 'wop', 'dago', 'polack', 'fatty', 'lardass', 'twig', 'beanpole', 'ugly', 'four-eyes', 'baldie', 'geek', 'nerd', 'pimple-face']\n",
            "['<user>', 'must', 'admit', 'the', 'term', '“', 'muzzies', '”', 'nags', 'at', 'me', 'bothers', 'me', 'but', 'this', 'guy', 'nevertheless', 'is', 'in', 'need', 'of', 'serious', 'mental', 'adjustment']\n",
            "['<user>', 'must', 'admit', 'theee', 'term', '“', 'muzzies', '”', 'nags', 'at', 'me', 'bothers', 'me', 'but', 'this', 'guy', 'nevertheless', 'is', 'in', 'need', 'of', 'SerIOUS', 'mental', 'adjustment']\n",
            "{'serious': 'SerIOUS', 'the': 'theee'}\n"
          ]
        },
        {
          "output_type": "stream",
          "name": "stderr",
          "text": [
            " 42%|████▏     | 801/1924 [2:43:50<1:48:43,  5.81s/it]"
          ]
        },
        {
          "output_type": "stream",
          "name": "stdout",
          "text": [
            "['nigger', 'nigga', 'mud shark', 'chink', 'gook', 'spic', 'wetback', 'kike', 'sand nigger', 'towelhead', 'beaner', 'cracker', 'honky', 'jungle bunny', 'redskin', 'bitch', 'slut', 'whore', 'cunt', 'feminazi', 'dyke', 'tranny', 'she-male', 'gold digger', 'skank', 'faggot', 'fag', 'homo', 'queer', 'carpet muncher', 'pillow biter', 'fudge packer', 'lesbo', 'Christ killer', 'jihadist', 'infidel', 'kike', 'raghead', 'heathen', 'pagan', 'Bible basher', 'papist', 'kaffir', 'retard', 'cripple', 'spaz', 'mongoloid', 'psycho', 'nutjob', 'lame', 'vegetable', 'deaf-mute', 'imbecile', 'yank', 'brit', 'kraut', 'jap', 'commie', 'ruski', 'paki', 'wop', 'dago', 'polack', 'fatty', 'lardass', 'twig', 'beanpole', 'ugly', 'four-eyes', 'baldie', 'geek', 'nerd', 'pimple-face']\n",
            "['damn', 'tfw', 'total', 'retard', 'yet', 'micro', 'confirms', 'ur', 'suspicions', 'called', 'this', 'weeks', 'ago', 'feelsgodopan', 'jpg', 'practice', 'cancelled', 'today', 'shits', 'about', 'to', 'get', 'rough']\n",
            "['damn', 'tfw', 'total', 'reetard', 'yet', 'micro', 'confirms', 'ur', 'suspicions', 'called', 'this', 'weeks', 'ago', 'feelsgodopan', 'jpg', 'practice', 'cancelled', 'today', 'shits', 'about', 'to', 'get', 'rough']\n",
            "{'retard': 'reetard'}\n"
          ]
        },
        {
          "output_type": "stream",
          "name": "stderr",
          "text": [
            " 42%|████▏     | 806/1924 [2:44:57<3:42:03, 11.92s/it]"
          ]
        },
        {
          "output_type": "stream",
          "name": "stdout",
          "text": [
            "['nigger', 'nigga', 'mud shark', 'chink', 'gook', 'spic', 'wetback', 'kike', 'sand nigger', 'towelhead', 'beaner', 'cracker', 'honky', 'jungle bunny', 'redskin', 'bitch', 'slut', 'whore', 'cunt', 'feminazi', 'dyke', 'tranny', 'she-male', 'gold digger', 'skank', 'faggot', 'fag', 'homo', 'queer', 'carpet muncher', 'pillow biter', 'fudge packer', 'lesbo', 'Christ killer', 'jihadist', 'infidel', 'kike', 'raghead', 'heathen', 'pagan', 'Bible basher', 'papist', 'kaffir', 'retard', 'cripple', 'spaz', 'mongoloid', 'psycho', 'nutjob', 'lame', 'vegetable', 'deaf-mute', 'imbecile', 'yank', 'brit', 'kraut', 'jap', 'commie', 'ruski', 'paki', 'wop', 'dago', 'polack', 'fatty', 'lardass', 'twig', 'beanpole', 'ugly', 'four-eyes', 'baldie', 'geek', 'nerd', 'pimple-face']\n",
            "['online', 'nazi', 'haha', 'guys', 'the', 'left', 'can', 'not', 'meme', '<number>', 'white', 'privilege', 'diversity', 'is', 'our', 'strength', 'race', 'is', 'just', 'skin', 'color', 'the', 'holocaust', 'racist', 'sexist', 'bigot', 'homophobe', 'islamophobe', 'anti', 'semite']\n",
            "['online', 'nazi', 'haha', 'guys', 'THHHe', 'left', 'cANn', 'not', 'meme', '<number>', 'white', 'privilege', 'diversity', 'is', 'our', 'strength', 'RaCe', 'is', 'just', 'Skyn', 'color', 'the', 'holocaust', 'racist', 'sexist', 'bigot', 'homophobe', 'islamophobe', 'anti', 'Semite']\n",
            "{'semite': 'Semite', 'skin': 'Skyn', 'can': 'cANn', 'race': 'RaCe', 'the': 'THHHe'}\n"
          ]
        },
        {
          "output_type": "stream",
          "name": "stderr",
          "text": [
            " 42%|████▏     | 811/1924 [2:45:17<1:49:17,  5.89s/it]"
          ]
        },
        {
          "output_type": "stream",
          "name": "stdout",
          "text": [
            "['nigger', 'nigga', 'mud shark', 'chink', 'gook', 'spic', 'wetback', 'kike', 'sand nigger', 'towelhead', 'beaner', 'cracker', 'honky', 'jungle bunny', 'redskin', 'bitch', 'slut', 'whore', 'cunt', 'feminazi', 'dyke', 'tranny', 'she-male', 'gold digger', 'skank', 'faggot', 'fag', 'homo', 'queer', 'carpet muncher', 'pillow biter', 'fudge packer', 'lesbo', 'Christ killer', 'jihadist', 'infidel', 'kike', 'raghead', 'heathen', 'pagan', 'Bible basher', 'papist', 'kaffir', 'retard', 'cripple', 'spaz', 'mongoloid', 'psycho', 'nutjob', 'lame', 'vegetable', 'deaf-mute', 'imbecile', 'yank', 'brit', 'kraut', 'jap', 'commie', 'ruski', 'paki', 'wop', 'dago', 'polack', 'fatty', 'lardass', 'twig', 'beanpole', 'ugly', 'four-eyes', 'baldie', 'geek', 'nerd', 'pimple-face']\n",
            "['our', 'condolences', 'to', 'your', 'family', 'kelly', 'the', 'nigger', 'needs', 'to', 'be', 'publicly', 'hung', 'make', 'it', 'a', 'short', 'drop', 'so', 'it', 'feels', 'let', 'the', 'thing', 'hang', 'for', 'a', 'day', 'or', 'two', 'to', 'remind', 'the', 'nigger', 'that', 'this', 'is', 'what', 'happens', 'when', 'you', 'harm', 'a', 'white']\n",
            "['our', 'condolences', 'to', 'your', 'family', 'kelly', 'the', 'NIGGR', 'needs', 'to', 'be', 'publicly', 'hung', 'make', 'it', 'a', 'short', 'drop', 'so', 'it', 'feels', 'let', 'the', 'thing', 'hang', 'for', 'a', 'day', 'or', 'two', 'to', 'remind', 'the', 'NIGER', 'that', 'this', 'is', 'what', 'happens', 'when', 'you', 'harm', 'a', 'white']\n",
            "{'nigger': 'NIGER'}\n"
          ]
        },
        {
          "output_type": "stream",
          "name": "stderr",
          "text": [
            " 42%|████▏     | 816/1924 [2:46:01<2:18:06,  7.48s/it]"
          ]
        },
        {
          "output_type": "stream",
          "name": "stdout",
          "text": [
            "['nigger', 'nigga', 'mud shark', 'chink', 'gook', 'spic', 'wetback', 'kike', 'sand nigger', 'towelhead', 'beaner', 'cracker', 'honky', 'jungle bunny', 'redskin', 'bitch', 'slut', 'whore', 'cunt', 'feminazi', 'dyke', 'tranny', 'she-male', 'gold digger', 'skank', 'faggot', 'fag', 'homo', 'queer', 'carpet muncher', 'pillow biter', 'fudge packer', 'lesbo', 'Christ killer', 'jihadist', 'infidel', 'kike', 'raghead', 'heathen', 'pagan', 'Bible basher', 'papist', 'kaffir', 'retard', 'cripple', 'spaz', 'mongoloid', 'psycho', 'nutjob', 'lame', 'vegetable', 'deaf-mute', 'imbecile', 'yank', 'brit', 'kraut', 'jap', 'commie', 'ruski', 'paki', 'wop', 'dago', 'polack', 'fatty', 'lardass', 'twig', 'beanpole', 'ugly', 'four-eyes', 'baldie', 'geek', 'nerd', 'pimple-face']\n",
            "['i', 'guess', 'i', 'will', 'be', 'like', 'everyone', 'else', 'that', 'gets', 'suspended', 'from', 'twitter', 'and', 'make', 'a', 'new', 'account', 'used', 'my', 'phone', 'number', 'on', '<number>', 'suspended', 'accounts', 'already', 'so', 'blow', 'me', 'jack', 'you', 'cunt', 'nigger', 'faggot']\n",
            "['i', 'guess', 'i', 'will', 'be', 'like', 'everyone', 'else', 'that', 'gets', 'suspended', 'from', 'twitter', 'and', 'make', 'a', 'new', 'account', 'used', 'my', 'phone', 'number', 'on', '<number>', 'suspended', 'accounts', 'already', 'so', 'blow', 'me', 'jack', 'you', 'CUNTTT', 'nigger', 'faggot']\n",
            "{'cunt': 'CUNTTT', 'nigger': 'nigger', 'faggot': 'faggot'}\n"
          ]
        },
        {
          "output_type": "stream",
          "name": "stderr",
          "text": [
            " 43%|████▎     | 821/1924 [2:47:14<3:48:13, 12.41s/it]"
          ]
        },
        {
          "output_type": "stream",
          "name": "stdout",
          "text": [
            "['nigger', 'nigga', 'mud shark', 'chink', 'gook', 'spic', 'wetback', 'kike', 'sand nigger', 'towelhead', 'beaner', 'cracker', 'honky', 'jungle bunny', 'redskin', 'bitch', 'slut', 'whore', 'cunt', 'feminazi', 'dyke', 'tranny', 'she-male', 'gold digger', 'skank', 'faggot', 'fag', 'homo', 'queer', 'carpet muncher', 'pillow biter', 'fudge packer', 'lesbo', 'Christ killer', 'jihadist', 'infidel', 'kike', 'raghead', 'heathen', 'pagan', 'Bible basher', 'papist', 'kaffir', 'retard', 'cripple', 'spaz', 'mongoloid', 'psycho', 'nutjob', 'lame', 'vegetable', 'deaf-mute', 'imbecile', 'yank', 'brit', 'kraut', 'jap', 'commie', 'ruski', 'paki', 'wop', 'dago', 'polack', 'fatty', 'lardass', 'twig', 'beanpole', 'ugly', 'four-eyes', 'baldie', 'geek', 'nerd', 'pimple-face']\n",
            "['you', 'are', 'retarded', 'and', 'do', 'not', 'know', 'what', 'reply', 'mean', 'or', 'are', 'a', 'shitty', 'troller', 'suck', 'a', 'bag', 'of', 'nigger', 'dicks', 'faggot']\n",
            "['you', 'are', 'retarded', 'and', 'do', 'not', 'know', 'what', 'reply', 'mean', 'or', 'are', 'a', 'shitty', 'troller', 'suck', 'a', 'bag', 'of', 'Niger', 'dicks', 'fagggot']\n",
            "{'nigger': 'Niger', 'faggot': 'fagggot'}\n"
          ]
        },
        {
          "output_type": "stream",
          "name": "stderr",
          "text": [
            " 43%|████▎     | 826/1924 [2:48:32<4:14:32, 13.91s/it]"
          ]
        },
        {
          "output_type": "stream",
          "name": "stdout",
          "text": [
            "['nigger', 'nigga', 'mud shark', 'chink', 'gook', 'spic', 'wetback', 'kike', 'sand nigger', 'towelhead', 'beaner', 'cracker', 'honky', 'jungle bunny', 'redskin', 'bitch', 'slut', 'whore', 'cunt', 'feminazi', 'dyke', 'tranny', 'she-male', 'gold digger', 'skank', 'faggot', 'fag', 'homo', 'queer', 'carpet muncher', 'pillow biter', 'fudge packer', 'lesbo', 'Christ killer', 'jihadist', 'infidel', 'kike', 'raghead', 'heathen', 'pagan', 'Bible basher', 'papist', 'kaffir', 'retard', 'cripple', 'spaz', 'mongoloid', 'psycho', 'nutjob', 'lame', 'vegetable', 'deaf-mute', 'imbecile', 'yank', 'brit', 'kraut', 'jap', 'commie', 'ruski', 'paki', 'wop', 'dago', 'polack', 'fatty', 'lardass', 'twig', 'beanpole', 'ugly', 'four-eyes', 'baldie', 'geek', 'nerd', 'pimple-face']\n",
            "['match', '<number>', 'a', 'nigger', 'wins', 'a', 'championship', 'match', '<number>', 'a', 'nigger', 'wins', 'the', 'battle', 'royal', 'now', '<number>', 'niggers', 'are', 'singing', 'fuck', 'this', 'whole', 'thing', 'im', 'gonna', 'play', 'gta5', 'fuck', 'wrestlemania', '😡']\n",
            "['match', '<number>', 'a', 'NIGGER', 'wins', 'a', 'championship', 'match', '<number>', 'a', 'Niger', 'wins', 'the', 'battle', 'royal', 'now', '<number>', 'niggers', 'are', 'singing', 'fuck', 'this', 'whole', 'thing', 'im', 'gonna', 'play', 'gta5', 'fuck', 'wrestlemania', '😡']\n",
            "{'nigger': 'Niger'}\n"
          ]
        },
        {
          "output_type": "stream",
          "name": "stderr",
          "text": [
            " 43%|████▎     | 830/1924 [2:49:43<5:30:59, 18.15s/it]"
          ]
        },
        {
          "output_type": "stream",
          "name": "stdout",
          "text": [
            "['nigger', 'nigga', 'mud shark', 'chink', 'gook', 'spic', 'wetback', 'kike', 'sand nigger', 'towelhead', 'beaner', 'cracker', 'honky', 'jungle bunny', 'redskin', 'bitch', 'slut', 'whore', 'cunt', 'feminazi', 'dyke', 'tranny', 'she-male', 'gold digger', 'skank', 'faggot', 'fag', 'homo', 'queer', 'carpet muncher', 'pillow biter', 'fudge packer', 'lesbo', 'Christ killer', 'jihadist', 'infidel', 'kike', 'raghead', 'heathen', 'pagan', 'Bible basher', 'papist', 'kaffir', 'retard', 'cripple', 'spaz', 'mongoloid', 'psycho', 'nutjob', 'lame', 'vegetable', 'deaf-mute', 'imbecile', 'yank', 'brit', 'kraut', 'jap', 'commie', 'ruski', 'paki', 'wop', 'dago', 'polack', 'fatty', 'lardass', 'twig', 'beanpole', 'ugly', 'four-eyes', 'baldie', 'geek', 'nerd', 'pimple-face']\n",
            "['<user>', '<user>', 'i', 'am', 'not', 'gay', 'or', 'a', 'sailor', 'fine', 'to', 'that', 'but', 'i', 'do', 'badly', 'want', 'to', 'be', 'the', 'ship', 'queer']\n",
            "['<user>', '<user>', 'i', 'am', 'not', 'gay', 'or', 'a', 'sailor', 'fine', 'to', 'that', 'but', 'i', 'do', 'badly', 'want', 'to', 'be', 'the', 'ship', 'QUEER']\n",
            "{'queer': 'QUEER'}\n"
          ]
        },
        {
          "output_type": "stream",
          "name": "stderr",
          "text": [
            " 43%|████▎     | 835/1924 [2:50:33<4:38:02, 15.32s/it]"
          ]
        },
        {
          "output_type": "stream",
          "name": "stdout",
          "text": [
            "['nigger', 'nigga', 'mud shark', 'chink', 'gook', 'spic', 'wetback', 'kike', 'sand nigger', 'towelhead', 'beaner', 'cracker', 'honky', 'jungle bunny', 'redskin', 'bitch', 'slut', 'whore', 'cunt', 'feminazi', 'dyke', 'tranny', 'she-male', 'gold digger', 'skank', 'faggot', 'fag', 'homo', 'queer', 'carpet muncher', 'pillow biter', 'fudge packer', 'lesbo', 'Christ killer', 'jihadist', 'infidel', 'kike', 'raghead', 'heathen', 'pagan', 'Bible basher', 'papist', 'kaffir', 'retard', 'cripple', 'spaz', 'mongoloid', 'psycho', 'nutjob', 'lame', 'vegetable', 'deaf-mute', 'imbecile', 'yank', 'brit', 'kraut', 'jap', 'commie', 'ruski', 'paki', 'wop', 'dago', 'polack', 'fatty', 'lardass', 'twig', 'beanpole', 'ugly', 'four-eyes', 'baldie', 'geek', 'nerd', 'pimple-face']\n",
            "['you', 'have', 'a', 'spic', 'in', 'a', 'spic', 'area', 'he', 'd', 'have', 'had', 'to', 'be', 'the', 'shooter', 'himself', 'almost', 'to', 'get', 'fired', 'a', 'little', 'bit', 'of', 'sexual', 'harassment', 'eyy', 'mamasita', 'joo', 'bee', 'lookin', 'good', 'is', 'nothing', 'to', 'those', 'muds', 'best', 'to', 'deport', 'them', 'all']\n",
            "['you', 'have', 'a', 'spc', 'in', 'a', 'SPC', 'area', 'he', 'd', 'have', 'had', 'to', 'be', 'the', 'shooter', 'himself', 'almost', 'to', 'get', 'fired', 'a', 'little', 'bit', 'of', 'sexual', 'harassment', 'eyy', 'mamasita', 'joo', 'bee', 'lookin', 'good', 'is', 'nothing', 'to', 'those', 'muds', 'best', 'to', 'deport', 'them', 'all']\n",
            "{'spic': 'SPC'}\n"
          ]
        },
        {
          "output_type": "stream",
          "name": "stderr",
          "text": [
            " 44%|████▎     | 841/1924 [2:51:37<3:56:54, 13.13s/it]"
          ]
        },
        {
          "output_type": "stream",
          "name": "stdout",
          "text": [
            "['nigger', 'nigga', 'mud shark', 'chink', 'gook', 'spic', 'wetback', 'kike', 'sand nigger', 'towelhead', 'beaner', 'cracker', 'honky', 'jungle bunny', 'redskin', 'bitch', 'slut', 'whore', 'cunt', 'feminazi', 'dyke', 'tranny', 'she-male', 'gold digger', 'skank', 'faggot', 'fag', 'homo', 'queer', 'carpet muncher', 'pillow biter', 'fudge packer', 'lesbo', 'Christ killer', 'jihadist', 'infidel', 'kike', 'raghead', 'heathen', 'pagan', 'Bible basher', 'papist', 'kaffir', 'retard', 'cripple', 'spaz', 'mongoloid', 'psycho', 'nutjob', 'lame', 'vegetable', 'deaf-mute', 'imbecile', 'yank', 'brit', 'kraut', 'jap', 'commie', 'ruski', 'paki', 'wop', 'dago', 'polack', 'fatty', 'lardass', 'twig', 'beanpole', 'ugly', 'four-eyes', 'baldie', 'geek', 'nerd', 'pimple-face']\n",
            "['i', 'think', 'it', 'time', 'for', 'another', 'hindu', 'kush', 'only', 'thing', 'the', 'muzzies', 'ever', 'did', 'that', 'was', 'worth', 'a', 'shit', 'was', 'genocide', 'about', '<number>', 'mil', 'of', '<user>', 'coethnics', 'i', 'have', 'been', 'in', 'some', 'valleys', 'full', 'of', 'skulls', 'up', 'there', 'beautiful']\n",
            "['i', 'think', 'it', 'timeeeee', 'for', 'another', 'hindu', 'kush', 'only', 'thing', 'Thue', 'muzzies', 'Ever', 'did', 'ThAt', 'was', 'worth', 'a', 'shit', 'was', 'genocide', 'about', '<number>', 'mil', 'of', '<user>', 'coethnics', 'i', 'have', 'been', 'in', 'some', 'valleys', 'full', 'of', 'SKULLS', 'up', 'there', 'beautiful']\n",
            "{'the': 'Thue', 'full': 'full', 'coethnics': 'coethnics', 'that': 'ThAt', 'skulls': 'SKULLS', 'ever': 'Ever', 'time': 'timeeeee'}\n"
          ]
        },
        {
          "output_type": "stream",
          "name": "stderr",
          "text": [
            " 44%|████▍     | 845/1924 [2:52:50<6:57:04, 23.19s/it]"
          ]
        },
        {
          "output_type": "stream",
          "name": "stdout",
          "text": [
            "['nigger', 'nigga', 'mud shark', 'chink', 'gook', 'spic', 'wetback', 'kike', 'sand nigger', 'towelhead', 'beaner', 'cracker', 'honky', 'jungle bunny', 'redskin', 'bitch', 'slut', 'whore', 'cunt', 'feminazi', 'dyke', 'tranny', 'she-male', 'gold digger', 'skank', 'faggot', 'fag', 'homo', 'queer', 'carpet muncher', 'pillow biter', 'fudge packer', 'lesbo', 'Christ killer', 'jihadist', 'infidel', 'kike', 'raghead', 'heathen', 'pagan', 'Bible basher', 'papist', 'kaffir', 'retard', 'cripple', 'spaz', 'mongoloid', 'psycho', 'nutjob', 'lame', 'vegetable', 'deaf-mute', 'imbecile', 'yank', 'brit', 'kraut', 'jap', 'commie', 'ruski', 'paki', 'wop', 'dago', 'polack', 'fatty', 'lardass', 'twig', 'beanpole', 'ugly', 'four-eyes', 'baldie', 'geek', 'nerd', 'pimple-face']\n",
            "['<number>', '<user>', 'were', 'marketed', 'under', 'speakfreely', '<number>', 'the', 'terms', 'changed', 'halfway', 'through', 'year', 'one', 'to', 'restrict', 'speech', 'under', '1', 'a', '<number>', 'then', 'pressured', 'by', 'kike', 'groups', 'like', 'your', 'wife', 'you', 'silenced', 'political', 'dissidents', 'your', 'argument', 'works', 'while', 'companies', 'can', 'limit', '1', 'a', 'those', 'days', 'are', 'ending', 'wrong', 'side', 'of', 'history']\n",
            "['<number>', '<user>', 'were', 'marketed', 'under', 'speakfreely', '<number>', 'the', 'terms', 'changed', 'halfway', 'through', 'year', 'one', 'to', 'restrict', 'speech', 'under', '1', 'a', '<number>', 'then', 'pressured', 'by', 'KIKE', 'groups', 'like', 'your', 'wife', 'you', 'silenced', 'political', 'dissidents', 'your', 'argument', 'works', 'while', 'companies', 'can', 'limit', '1', 'a', 'those', 'days', 'are', 'ending', 'wrong', 'side', 'of', 'history']\n",
            "{'kike': 'KIKE'}\n"
          ]
        },
        {
          "output_type": "stream",
          "name": "stderr",
          "text": [
            " 44%|████▍     | 851/1924 [2:53:52<5:03:28, 16.97s/it]"
          ]
        },
        {
          "output_type": "stream",
          "name": "stdout",
          "text": [
            "['nigger', 'nigga', 'mud shark', 'chink', 'gook', 'spic', 'wetback', 'kike', 'sand nigger', 'towelhead', 'beaner', 'cracker', 'honky', 'jungle bunny', 'redskin', 'bitch', 'slut', 'whore', 'cunt', 'feminazi', 'dyke', 'tranny', 'she-male', 'gold digger', 'skank', 'faggot', 'fag', 'homo', 'queer', 'carpet muncher', 'pillow biter', 'fudge packer', 'lesbo', 'Christ killer', 'jihadist', 'infidel', 'kike', 'raghead', 'heathen', 'pagan', 'Bible basher', 'papist', 'kaffir', 'retard', 'cripple', 'spaz', 'mongoloid', 'psycho', 'nutjob', 'lame', 'vegetable', 'deaf-mute', 'imbecile', 'yank', 'brit', 'kraut', 'jap', 'commie', 'ruski', 'paki', 'wop', 'dago', 'polack', 'fatty', 'lardass', 'twig', 'beanpole', 'ugly', 'four-eyes', 'baldie', 'geek', 'nerd', 'pimple-face']\n",
            "['<user>', '<user>', '<user>', 'lol', 'no', 'one', 'is', 'supporting', 'bhikharistan', 'except', 'pro', 'muslim', 'countries', 'like', 'turkey', 'malaysia', 'no', 'one', 'gives', 'a', 'fuck', 'about', 'porkistan']\n",
            "['<user>', '<user>', '<user>', 'lol', 'no', 'one', 'is', 'SuPpOrTiNg', 'bhikharistan', 'except', 'pro', 'muslim', 'countries', 'like', 'turkey', 'Malasia', 'no', 'one', 'gives', 'a', 'fuCk', 'about', 'porkistan']\n",
            "{'fuck': 'fuCk', 'malaysia': 'Malasia', 'supporting': 'SuPpOrTiNg'}\n"
          ]
        },
        {
          "output_type": "stream",
          "name": "stderr",
          "text": [
            " 44%|████▍     | 856/1924 [2:54:39<3:41:58, 12.47s/it]"
          ]
        },
        {
          "output_type": "stream",
          "name": "stdout",
          "text": [
            "['nigger', 'nigga', 'mud shark', 'chink', 'gook', 'spic', 'wetback', 'kike', 'sand nigger', 'towelhead', 'beaner', 'cracker', 'honky', 'jungle bunny', 'redskin', 'bitch', 'slut', 'whore', 'cunt', 'feminazi', 'dyke', 'tranny', 'she-male', 'gold digger', 'skank', 'faggot', 'fag', 'homo', 'queer', 'carpet muncher', 'pillow biter', 'fudge packer', 'lesbo', 'Christ killer', 'jihadist', 'infidel', 'kike', 'raghead', 'heathen', 'pagan', 'Bible basher', 'papist', 'kaffir', 'retard', 'cripple', 'spaz', 'mongoloid', 'psycho', 'nutjob', 'lame', 'vegetable', 'deaf-mute', 'imbecile', 'yank', 'brit', 'kraut', 'jap', 'commie', 'ruski', 'paki', 'wop', 'dago', 'polack', 'fatty', 'lardass', 'twig', 'beanpole', 'ugly', 'four-eyes', 'baldie', 'geek', 'nerd', 'pimple-face']\n",
            "['i', 'cant', 'why', 'do', 'all', 'white', 'kids', 'sound', 'like', 'that', 'omg']\n",
            "['i', 'cant', 'why', 'do', 'ALLLL', 'white', 'kidS', 'sound', 'like', 'that', 'omg']\n",
            "{'kids': 'kidS', 'all': 'ALLLL'}\n"
          ]
        },
        {
          "output_type": "stream",
          "name": "stderr",
          "text": [
            " 45%|████▍     | 860/1924 [2:54:52<1:41:28,  5.72s/it]"
          ]
        },
        {
          "output_type": "stream",
          "name": "stdout",
          "text": [
            "['nigger', 'nigga', 'mud shark', 'chink', 'gook', 'spic', 'wetback', 'kike', 'sand nigger', 'towelhead', 'beaner', 'cracker', 'honky', 'jungle bunny', 'redskin', 'bitch', 'slut', 'whore', 'cunt', 'feminazi', 'dyke', 'tranny', 'she-male', 'gold digger', 'skank', 'faggot', 'fag', 'homo', 'queer', 'carpet muncher', 'pillow biter', 'fudge packer', 'lesbo', 'Christ killer', 'jihadist', 'infidel', 'kike', 'raghead', 'heathen', 'pagan', 'Bible basher', 'papist', 'kaffir', 'retard', 'cripple', 'spaz', 'mongoloid', 'psycho', 'nutjob', 'lame', 'vegetable', 'deaf-mute', 'imbecile', 'yank', 'brit', 'kraut', 'jap', 'commie', 'ruski', 'paki', 'wop', 'dago', 'polack', 'fatty', 'lardass', 'twig', 'beanpole', 'ugly', 'four-eyes', 'baldie', 'geek', 'nerd', 'pimple-face']\n",
            "['the', 'other', 'kike', 'claimed', 'soros', 'wasn', 't', 'prosecuted', 'because', 'he', 'was', 'too', 'old', 'bulan', 'kike', 'claims', 'it', 'was', 'because', 'he', 'was', 'too', 'young', 'shoah', '<number>', 'electric', 'boogaloo', 'will', 'not', 'discriminate', 'by', 'age', 'all', 'are', 'welcome']\n",
            "['the', 'other', 'KIKE', 'claimed', 'soros', 'wasn', 't', 'prosecuted', 'because', 'he', 'was', 'too', 'old', 'bulan', 'KIKE', 'claims', 'it', 'was', 'because', 'he', 'was', 'too', 'young', 'shoah', '<number>', 'electric', 'boogaloo', 'will', 'not', 'discriminate', 'by', 'age', 'all', 'are', 'welcome']\n",
            "{'kike': 'KIKE'}\n"
          ]
        },
        {
          "output_type": "stream",
          "name": "stderr",
          "text": [
            " 45%|████▌     | 866/1924 [2:55:34<2:03:48,  7.02s/it]"
          ]
        },
        {
          "output_type": "stream",
          "name": "stdout",
          "text": [
            "['nigger', 'nigga', 'mud shark', 'chink', 'gook', 'spic', 'wetback', 'kike', 'sand nigger', 'towelhead', 'beaner', 'cracker', 'honky', 'jungle bunny', 'redskin', 'bitch', 'slut', 'whore', 'cunt', 'feminazi', 'dyke', 'tranny', 'she-male', 'gold digger', 'skank', 'faggot', 'fag', 'homo', 'queer', 'carpet muncher', 'pillow biter', 'fudge packer', 'lesbo', 'Christ killer', 'jihadist', 'infidel', 'kike', 'raghead', 'heathen', 'pagan', 'Bible basher', 'papist', 'kaffir', 'retard', 'cripple', 'spaz', 'mongoloid', 'psycho', 'nutjob', 'lame', 'vegetable', 'deaf-mute', 'imbecile', 'yank', 'brit', 'kraut', 'jap', 'commie', 'ruski', 'paki', 'wop', 'dago', 'polack', 'fatty', 'lardass', 'twig', 'beanpole', 'ugly', 'four-eyes', 'baldie', 'geek', 'nerd', 'pimple-face']\n",
            "['<user>', 'where', 'the', 'fuck', 'are', 'your', 'socks', 'white', 'boy']\n",
            "['<user>', 'where', 'tHe', 'fuck', 'are', 'your', 'socks', 'white', 'Boyyyy']\n",
            "{'the': 'tHe', 'boy': 'Boyyyy'}\n"
          ]
        },
        {
          "output_type": "stream",
          "name": "stderr",
          "text": [
            " 45%|████▌     | 871/1924 [2:56:30<3:17:48, 11.27s/it]"
          ]
        },
        {
          "output_type": "stream",
          "name": "stdout",
          "text": [
            "['nigger', 'nigga', 'mud shark', 'chink', 'gook', 'spic', 'wetback', 'kike', 'sand nigger', 'towelhead', 'beaner', 'cracker', 'honky', 'jungle bunny', 'redskin', 'bitch', 'slut', 'whore', 'cunt', 'feminazi', 'dyke', 'tranny', 'she-male', 'gold digger', 'skank', 'faggot', 'fag', 'homo', 'queer', 'carpet muncher', 'pillow biter', 'fudge packer', 'lesbo', 'Christ killer', 'jihadist', 'infidel', 'kike', 'raghead', 'heathen', 'pagan', 'Bible basher', 'papist', 'kaffir', 'retard', 'cripple', 'spaz', 'mongoloid', 'psycho', 'nutjob', 'lame', 'vegetable', 'deaf-mute', 'imbecile', 'yank', 'brit', 'kraut', 'jap', 'commie', 'ruski', 'paki', 'wop', 'dago', 'polack', 'fatty', 'lardass', 'twig', 'beanpole', 'ugly', 'four-eyes', 'baldie', 'geek', 'nerd', 'pimple-face']\n",
            "['<user>', '<user>', 'the', 'mistake', 'was', 'that', 'the', 'dinosaurs', 'did', 'not', 'kill', 'all', 'humans']\n",
            "['<user>', '<user>', 'the', 'mistake', 'was', 'that', 'the', 'dinosaurs', 'did', 'NOOOT', 'kill', 'ALL', 'humans']\n",
            "{'not': 'NOOOT', 'all': 'ALL'}\n"
          ]
        },
        {
          "output_type": "stream",
          "name": "stderr",
          "text": [
            " 46%|████▌     | 876/1924 [2:56:50<1:26:46,  4.97s/it]"
          ]
        },
        {
          "output_type": "stream",
          "name": "stdout",
          "text": [
            "['nigger', 'nigga', 'mud shark', 'chink', 'gook', 'spic', 'wetback', 'kike', 'sand nigger', 'towelhead', 'beaner', 'cracker', 'honky', 'jungle bunny', 'redskin', 'bitch', 'slut', 'whore', 'cunt', 'feminazi', 'dyke', 'tranny', 'she-male', 'gold digger', 'skank', 'faggot', 'fag', 'homo', 'queer', 'carpet muncher', 'pillow biter', 'fudge packer', 'lesbo', 'Christ killer', 'jihadist', 'infidel', 'kike', 'raghead', 'heathen', 'pagan', 'Bible basher', 'papist', 'kaffir', 'retard', 'cripple', 'spaz', 'mongoloid', 'psycho', 'nutjob', 'lame', 'vegetable', 'deaf-mute', 'imbecile', 'yank', 'brit', 'kraut', 'jap', 'commie', 'ruski', 'paki', 'wop', 'dago', 'polack', 'fatty', 'lardass', 'twig', 'beanpole', 'ugly', 'four-eyes', 'baldie', 'geek', 'nerd', 'pimple-face']\n",
            "['<user>', 'fucking', 'faggot']\n",
            "['<user>', 'fucking', 'FAGGOTTTT']\n",
            "{'faggot': 'FAGGOTTTT'}\n"
          ]
        },
        {
          "output_type": "stream",
          "name": "stderr",
          "text": [
            " 46%|████▌     | 881/1924 [2:58:01<4:59:49, 17.25s/it]"
          ]
        },
        {
          "output_type": "stream",
          "name": "stdout",
          "text": [
            "['nigger', 'nigga', 'mud shark', 'chink', 'gook', 'spic', 'wetback', 'kike', 'sand nigger', 'towelhead', 'beaner', 'cracker', 'honky', 'jungle bunny', 'redskin', 'bitch', 'slut', 'whore', 'cunt', 'feminazi', 'dyke', 'tranny', 'she-male', 'gold digger', 'skank', 'faggot', 'fag', 'homo', 'queer', 'carpet muncher', 'pillow biter', 'fudge packer', 'lesbo', 'Christ killer', 'jihadist', 'infidel', 'kike', 'raghead', 'heathen', 'pagan', 'Bible basher', 'papist', 'kaffir', 'retard', 'cripple', 'spaz', 'mongoloid', 'psycho', 'nutjob', 'lame', 'vegetable', 'deaf-mute', 'imbecile', 'yank', 'brit', 'kraut', 'jap', 'commie', 'ruski', 'paki', 'wop', 'dago', 'polack', 'fatty', 'lardass', 'twig', 'beanpole', 'ugly', 'four-eyes', 'baldie', 'geek', 'nerd', 'pimple-face']\n",
            "['a', 'long', 'video', 'say', 'crappy', 'things', 'incesitive', 'violence', 'to', 'those', 'that', 'disagree', 'with', 'and', 'believes', 'their', 'arguments', 'are', 'for', 'the', 'sake', 'of', 'justice', 'wow', 'i', 'did', 'not', 'realize', 'this', 'sooner']\n",
            "['a', 'long', 'video', 'say', 'crappy', 'things', 'incesitive', 'violence', 'to', 'those', 'that', 'Dissagree', 'with', 'andd', 'believes', 'their', 'arguments', 'arrrrre', 'for', 'the', 'sake', 'of', 'jUsTicE', 'wow', 'i', 'Diiiiid', 'not', 'realize', 'Thiiiisss', 'sooner']\n",
            "{'this': 'Thiiiisss', 'justice': 'jUsTicE', 'did': 'Diiiiid', 'disagree': 'Dissagree', 'and': 'andd', 'are': 'arrrrre'}\n"
          ]
        },
        {
          "output_type": "stream",
          "name": "stderr",
          "text": [
            " 46%|████▌     | 886/1924 [2:59:23<4:01:40, 13.97s/it]"
          ]
        },
        {
          "output_type": "stream",
          "name": "stdout",
          "text": [
            "['nigger', 'nigga', 'mud shark', 'chink', 'gook', 'spic', 'wetback', 'kike', 'sand nigger', 'towelhead', 'beaner', 'cracker', 'honky', 'jungle bunny', 'redskin', 'bitch', 'slut', 'whore', 'cunt', 'feminazi', 'dyke', 'tranny', 'she-male', 'gold digger', 'skank', 'faggot', 'fag', 'homo', 'queer', 'carpet muncher', 'pillow biter', 'fudge packer', 'lesbo', 'Christ killer', 'jihadist', 'infidel', 'kike', 'raghead', 'heathen', 'pagan', 'Bible basher', 'papist', 'kaffir', 'retard', 'cripple', 'spaz', 'mongoloid', 'psycho', 'nutjob', 'lame', 'vegetable', 'deaf-mute', 'imbecile', 'yank', 'brit', 'kraut', 'jap', 'commie', 'ruski', 'paki', 'wop', 'dago', 'polack', 'fatty', 'lardass', 'twig', 'beanpole', 'ugly', 'four-eyes', 'baldie', 'geek', 'nerd', 'pimple-face']\n",
            "['wow', 'you', 'just', 'admitted', 'to', 'wanting', 'the', 'homo', 'sex', 'eww', 'the', 'trolls', 'on', 'gab', 'are', 'retarded', 'as', 'hell', 'maybe', 'as', 'technology', 'improves', 'so', 'will', 'the', 'faggotry', 'jeff', 'mute', 'this', 'nigga', 'mute']\n",
            "['wow', 'you', 'just', 'admitted', 'to', 'wanting', 'the', 'hom0', 'sex', 'eww', 'the', 'trolls', 'on', 'gab', 'are', 'retarded', 'as', 'hell', 'maybe', 'as', 'technology', 'improves', 'so', 'will', 'the', 'faggotry', 'jeff', 'mute', 'this', 'NIGGA', 'mute']\n",
            "{'homo': 'hom0', 'nigga': 'NIGGA'}\n"
          ]
        },
        {
          "output_type": "stream",
          "name": "stderr",
          "text": [
            " 46%|████▋     | 891/1924 [3:00:23<2:33:59,  8.94s/it]"
          ]
        },
        {
          "output_type": "stream",
          "name": "stdout",
          "text": [
            "['nigger', 'nigga', 'mud shark', 'chink', 'gook', 'spic', 'wetback', 'kike', 'sand nigger', 'towelhead', 'beaner', 'cracker', 'honky', 'jungle bunny', 'redskin', 'bitch', 'slut', 'whore', 'cunt', 'feminazi', 'dyke', 'tranny', 'she-male', 'gold digger', 'skank', 'faggot', 'fag', 'homo', 'queer', 'carpet muncher', 'pillow biter', 'fudge packer', 'lesbo', 'Christ killer', 'jihadist', 'infidel', 'kike', 'raghead', 'heathen', 'pagan', 'Bible basher', 'papist', 'kaffir', 'retard', 'cripple', 'spaz', 'mongoloid', 'psycho', 'nutjob', 'lame', 'vegetable', 'deaf-mute', 'imbecile', 'yank', 'brit', 'kraut', 'jap', 'commie', 'ruski', 'paki', 'wop', 'dago', 'polack', 'fatty', 'lardass', 'twig', 'beanpole', 'ugly', 'four-eyes', 'baldie', 'geek', 'nerd', 'pimple-face']\n",
            "['<user>', '😂', 'mary', 'my', 'dear', 'you', 'can', 'not', 'kill', 'yourself', 'come', 'back', 'let', 'us', 'finish', 'ourselves', 'at', 'ojuelegba']\n",
            "['<user>', '😂', 'marri', 'my', 'dear', 'you', 'can', 'not', 'kill', 'yourself', 'come', 'back', 'let', 'us', 'finish', 'ourselves', 'at', 'ojuelegba']\n",
            "{'mary': 'marri'}\n"
          ]
        },
        {
          "output_type": "stream",
          "name": "stderr",
          "text": [
            " 47%|████▋     | 896/1924 [3:02:01<3:56:50, 13.82s/it]"
          ]
        },
        {
          "output_type": "stream",
          "name": "stdout",
          "text": [
            "['nigger', 'nigga', 'mud shark', 'chink', 'gook', 'spic', 'wetback', 'kike', 'sand nigger', 'towelhead', 'beaner', 'cracker', 'honky', 'jungle bunny', 'redskin', 'bitch', 'slut', 'whore', 'cunt', 'feminazi', 'dyke', 'tranny', 'she-male', 'gold digger', 'skank', 'faggot', 'fag', 'homo', 'queer', 'carpet muncher', 'pillow biter', 'fudge packer', 'lesbo', 'Christ killer', 'jihadist', 'infidel', 'kike', 'raghead', 'heathen', 'pagan', 'Bible basher', 'papist', 'kaffir', 'retard', 'cripple', 'spaz', 'mongoloid', 'psycho', 'nutjob', 'lame', 'vegetable', 'deaf-mute', 'imbecile', 'yank', 'brit', 'kraut', 'jap', 'commie', 'ruski', 'paki', 'wop', 'dago', 'polack', 'fatty', 'lardass', 'twig', 'beanpole', 'ugly', 'four-eyes', 'baldie', 'geek', 'nerd', 'pimple-face']\n",
            "['so', 'boring', 'that', 'this', 'janitor', 'has', 'me', 'blocked', 'someone', 'call', 'this', 'porch', 'monkey', 'to', 'clean', 'my', 'mf', 'toilet']\n",
            "['so', 'boring', 'that', 'this', 'janitor', 'has', 'me', 'blocked', 'someone', 'CAL', 'this', 'porch', 'monkey', 'to', 'clean', 'my', 'mf', 'toilett']\n",
            "{'call': 'CAL', 'toilet': 'toilett'}\n"
          ]
        },
        {
          "output_type": "stream",
          "name": "stderr",
          "text": [
            " 47%|████▋     | 901/1924 [3:02:43<2:16:53,  8.03s/it]"
          ]
        },
        {
          "output_type": "stream",
          "name": "stdout",
          "text": [
            "['nigger', 'nigga', 'mud shark', 'chink', 'gook', 'spic', 'wetback', 'kike', 'sand nigger', 'towelhead', 'beaner', 'cracker', 'honky', 'jungle bunny', 'redskin', 'bitch', 'slut', 'whore', 'cunt', 'feminazi', 'dyke', 'tranny', 'she-male', 'gold digger', 'skank', 'faggot', 'fag', 'homo', 'queer', 'carpet muncher', 'pillow biter', 'fudge packer', 'lesbo', 'Christ killer', 'jihadist', 'infidel', 'kike', 'raghead', 'heathen', 'pagan', 'Bible basher', 'papist', 'kaffir', 'retard', 'cripple', 'spaz', 'mongoloid', 'psycho', 'nutjob', 'lame', 'vegetable', 'deaf-mute', 'imbecile', 'yank', 'brit', 'kraut', 'jap', 'commie', 'ruski', 'paki', 'wop', 'dago', 'polack', 'fatty', 'lardass', 'twig', 'beanpole', 'ugly', 'four-eyes', 'baldie', 'geek', 'nerd', 'pimple-face']\n",
            "['<user>', '<user>', 'i', 'can', 'lmao', 'theater', 'meets', 'ghetto', 'i', 'will', 'snap', 'them', 'in', 'a', 'second']\n",
            "['<user>', '<user>', 'i', 'can', 'lmao', 'THETR', 'meets', 'ghetto', 'i', 'wiLL', 'snap', 'them', 'in', 'a', 'second']\n",
            "{'will': 'wiLL', 'theater': 'THETR'}\n"
          ]
        },
        {
          "output_type": "stream",
          "name": "stderr",
          "text": [
            " 47%|████▋     | 906/1924 [3:03:08<1:33:47,  5.53s/it]"
          ]
        },
        {
          "output_type": "stream",
          "name": "stdout",
          "text": [
            "['nigger', 'nigga', 'mud shark', 'chink', 'gook', 'spic', 'wetback', 'kike', 'sand nigger', 'towelhead', 'beaner', 'cracker', 'honky', 'jungle bunny', 'redskin', 'bitch', 'slut', 'whore', 'cunt', 'feminazi', 'dyke', 'tranny', 'she-male', 'gold digger', 'skank', 'faggot', 'fag', 'homo', 'queer', 'carpet muncher', 'pillow biter', 'fudge packer', 'lesbo', 'Christ killer', 'jihadist', 'infidel', 'kike', 'raghead', 'heathen', 'pagan', 'Bible basher', 'papist', 'kaffir', 'retard', 'cripple', 'spaz', 'mongoloid', 'psycho', 'nutjob', 'lame', 'vegetable', 'deaf-mute', 'imbecile', 'yank', 'brit', 'kraut', 'jap', 'commie', 'ruski', 'paki', 'wop', 'dago', 'polack', 'fatty', 'lardass', 'twig', 'beanpole', 'ugly', 'four-eyes', 'baldie', 'geek', 'nerd', 'pimple-face']\n",
            "['<user>', 'where', 'were', 'you', 'hypocrites', 'ur', 'democracy', 'human', 'rights', 'etc', 'etc', 'when', 'kashmiri', 'hindus', 'were', 'being', 'butchered', 'looted', 'raped', 'forced', 'to', 'flee', 'their', 'homeland', 'n', 'become', 'refugees', 'in', 'their', 'own', 'motherland']\n",
            "['<user>', 'Where', 'were', 'you', 'Hypcrites', 'ur', 'democracy', 'HUMAAAAN', 'rights', 'etc', 'etc', 'when', 'kashmiri', 'hindus', 'WeREE', 'being', 'butchered', 'looted', 'raped', 'FORCED', 'to', 'flee', 'their', 'homeland', 'n', 'bEcoMe', 'refugees', 'in', 'their', 'own', 'motherland']\n",
            "{'forced': 'FORCED', 'where': 'Where', 'butchered': 'butchered', 'hypocrites': 'Hypcrites', 'become': 'bEcoMe', 'were': 'WeREE', 'human': 'HUMAAAAN'}\n"
          ]
        },
        {
          "output_type": "stream",
          "name": "stderr",
          "text": [
            " 47%|████▋     | 911/1924 [3:03:24<1:12:58,  4.32s/it]"
          ]
        },
        {
          "output_type": "stream",
          "name": "stdout",
          "text": [
            "['nigger', 'nigga', 'mud shark', 'chink', 'gook', 'spic', 'wetback', 'kike', 'sand nigger', 'towelhead', 'beaner', 'cracker', 'honky', 'jungle bunny', 'redskin', 'bitch', 'slut', 'whore', 'cunt', 'feminazi', 'dyke', 'tranny', 'she-male', 'gold digger', 'skank', 'faggot', 'fag', 'homo', 'queer', 'carpet muncher', 'pillow biter', 'fudge packer', 'lesbo', 'Christ killer', 'jihadist', 'infidel', 'kike', 'raghead', 'heathen', 'pagan', 'Bible basher', 'papist', 'kaffir', 'retard', 'cripple', 'spaz', 'mongoloid', 'psycho', 'nutjob', 'lame', 'vegetable', 'deaf-mute', 'imbecile', 'yank', 'brit', 'kraut', 'jap', 'commie', 'ruski', 'paki', 'wop', 'dago', 'polack', 'fatty', 'lardass', 'twig', 'beanpole', 'ugly', 'four-eyes', 'baldie', 'geek', 'nerd', 'pimple-face']\n",
            "['bill', 'deblasio', 'd', 'ny', 'told', 'cnn', 'jake', 'tapper', 'that', 'it', 'is', 'ok', 'to', 'shield', 'undocumented', 'immigrants', 'who', 'drive', 'drunk', 'from', 'federal', 'authorities', 'if', 'it', 'does', 'not', 'lead', 'to', 'any', 'other', 'negative', 'outcome']\n",
            "['bill', 'deblasio', 'd', 'ny', 'told', 'cnn', 'jake', 'tapper', 'that', 'it', 'is', 'ok', 'to', 'SHIELD', 'undocumented', 'immigrants', 'WhO', 'dRiVe', 'drunk', 'from', 'federal', 'authorities', 'if', 'it', 'does', 'nOtT', 'lead', 'to', 'any', 'other', 'negative', 'OUTCOME']\n",
            "{'outcome': 'OUTCOME', 'who': 'WhO', 'shield': 'SHIELD', 'drive': 'dRiVe', 'not': 'nOtT'}\n"
          ]
        },
        {
          "output_type": "stream",
          "name": "stderr",
          "text": [
            " 48%|████▊     | 915/1924 [3:04:18<2:59:30, 10.67s/it]"
          ]
        },
        {
          "output_type": "stream",
          "name": "stdout",
          "text": [
            "['nigger', 'nigga', 'mud shark', 'chink', 'gook', 'spic', 'wetback', 'kike', 'sand nigger', 'towelhead', 'beaner', 'cracker', 'honky', 'jungle bunny', 'redskin', 'bitch', 'slut', 'whore', 'cunt', 'feminazi', 'dyke', 'tranny', 'she-male', 'gold digger', 'skank', 'faggot', 'fag', 'homo', 'queer', 'carpet muncher', 'pillow biter', 'fudge packer', 'lesbo', 'Christ killer', 'jihadist', 'infidel', 'kike', 'raghead', 'heathen', 'pagan', 'Bible basher', 'papist', 'kaffir', 'retard', 'cripple', 'spaz', 'mongoloid', 'psycho', 'nutjob', 'lame', 'vegetable', 'deaf-mute', 'imbecile', 'yank', 'brit', 'kraut', 'jap', 'commie', 'ruski', 'paki', 'wop', 'dago', 'polack', 'fatty', 'lardass', 'twig', 'beanpole', 'ugly', 'four-eyes', 'baldie', 'geek', 'nerd', 'pimple-face']\n",
            "['and', 'what', 'does', 'that', 'make', 'you', 'a', 'hearsay', 'peddling', 'moron', 'what', 'is', 'a', 'kike', 'anyway', 'what', 'label', 'may', 'i', 'place', 'upon', 'your', 'genius', 'how', 'about', 'peasant']\n",
            "['and', 'what', 'does', 'that', 'make', 'you', 'a', 'hearsay', 'peddling', 'moron', 'what', 'is', 'a', 'kike', 'anyway', 'what', 'label', 'may', 'i', 'place', 'upon', 'your', 'genius', 'how', 'about', 'peasant']\n",
            "{'kike': 'kike'}\n"
          ]
        },
        {
          "output_type": "stream",
          "name": "stderr",
          "text": [
            " 48%|████▊     | 920/1924 [3:04:33<1:21:30,  4.87s/it]"
          ]
        },
        {
          "output_type": "stream",
          "name": "stdout",
          "text": [
            "['nigger', 'nigga', 'mud shark', 'chink', 'gook', 'spic', 'wetback', 'kike', 'sand nigger', 'towelhead', 'beaner', 'cracker', 'honky', 'jungle bunny', 'redskin', 'bitch', 'slut', 'whore', 'cunt', 'feminazi', 'dyke', 'tranny', 'she-male', 'gold digger', 'skank', 'faggot', 'fag', 'homo', 'queer', 'carpet muncher', 'pillow biter', 'fudge packer', 'lesbo', 'Christ killer', 'jihadist', 'infidel', 'kike', 'raghead', 'heathen', 'pagan', 'Bible basher', 'papist', 'kaffir', 'retard', 'cripple', 'spaz', 'mongoloid', 'psycho', 'nutjob', 'lame', 'vegetable', 'deaf-mute', 'imbecile', 'yank', 'brit', 'kraut', 'jap', 'commie', 'ruski', 'paki', 'wop', 'dago', 'polack', 'fatty', 'lardass', 'twig', 'beanpole', 'ugly', 'four-eyes', 'baldie', 'geek', 'nerd', 'pimple-face']\n",
            "['<user>', '<user>', 'a', 'camel', 'jockey', 'midde', 'east', 'watering', 'station']\n",
            "['<user>', '<user>', 'a', 'CAMEL', 'jockey', 'midde', 'east', 'WATERING', 'station']\n",
            "{'watering': 'WATERING', 'camel': 'CAMEL'}\n"
          ]
        },
        {
          "output_type": "stream",
          "name": "stderr",
          "text": [
            " 48%|████▊     | 926/1924 [3:05:03<1:09:03,  4.15s/it]"
          ]
        },
        {
          "output_type": "stream",
          "name": "stdout",
          "text": [
            "['nigger', 'nigga', 'mud shark', 'chink', 'gook', 'spic', 'wetback', 'kike', 'sand nigger', 'towelhead', 'beaner', 'cracker', 'honky', 'jungle bunny', 'redskin', 'bitch', 'slut', 'whore', 'cunt', 'feminazi', 'dyke', 'tranny', 'she-male', 'gold digger', 'skank', 'faggot', 'fag', 'homo', 'queer', 'carpet muncher', 'pillow biter', 'fudge packer', 'lesbo', 'Christ killer', 'jihadist', 'infidel', 'kike', 'raghead', 'heathen', 'pagan', 'Bible basher', 'papist', 'kaffir', 'retard', 'cripple', 'spaz', 'mongoloid', 'psycho', 'nutjob', 'lame', 'vegetable', 'deaf-mute', 'imbecile', 'yank', 'brit', 'kraut', 'jap', 'commie', 'ruski', 'paki', 'wop', 'dago', 'polack', 'fatty', 'lardass', 'twig', 'beanpole', 'ugly', 'four-eyes', 'baldie', 'geek', 'nerd', 'pimple-face']\n",
            "['excuse', 'me', 'oh', 'no', 'i', 'wasn', 't', 'born', 'into', 'incest', 'that', 'was', 'birthed', 'out', 'of', 'the', 'anus', 'of', 'a', 'wunder', 'you', 'will', 'have', 'to', 'take', 'that', 'up', 'with', 'that', 'fat', 'ginger', 'state', 'goobering', 'retard', 'lol']\n",
            "['excuse', 'me', 'oh', 'no', 'i', 'wasn', 't', 'born', 'into', 'incest', 'that', 'was', 'birthed', 'out', 'of', 'the', 'anus', 'of', 'a', 'wunder', 'you', 'will', 'have', 'to', 'take', 'that', 'up', 'with', 'that', 'fat', 'ginger', 'state', 'goobering', 'reeetard', 'lol']\n",
            "{'retard': 'reeetard'}\n"
          ]
        },
        {
          "output_type": "stream",
          "name": "stderr",
          "text": [
            " 48%|████▊     | 931/1924 [3:06:44<4:05:49, 14.85s/it]"
          ]
        },
        {
          "output_type": "stream",
          "name": "stdout",
          "text": [
            "['nigger', 'nigga', 'mud shark', 'chink', 'gook', 'spic', 'wetback', 'kike', 'sand nigger', 'towelhead', 'beaner', 'cracker', 'honky', 'jungle bunny', 'redskin', 'bitch', 'slut', 'whore', 'cunt', 'feminazi', 'dyke', 'tranny', 'she-male', 'gold digger', 'skank', 'faggot', 'fag', 'homo', 'queer', 'carpet muncher', 'pillow biter', 'fudge packer', 'lesbo', 'Christ killer', 'jihadist', 'infidel', 'kike', 'raghead', 'heathen', 'pagan', 'Bible basher', 'papist', 'kaffir', 'retard', 'cripple', 'spaz', 'mongoloid', 'psycho', 'nutjob', 'lame', 'vegetable', 'deaf-mute', 'imbecile', 'yank', 'brit', 'kraut', 'jap', 'commie', 'ruski', 'paki', 'wop', 'dago', 'polack', 'fatty', 'lardass', 'twig', 'beanpole', 'ugly', 'four-eyes', 'baldie', 'geek', 'nerd', 'pimple-face']\n",
            "['rey', 'walk', 'to', 'the', 'gas', 'station', 'since', 'everybody', 'acting', 'like', 'bitches']\n",
            "['rey', 'walk', 'to', 'the', 'gas', 'station', 'SiNcE', 'everybody', 'acting', 'like', 'Bitchass']\n",
            "{'since': 'SiNcE', 'bitches': 'Bitchass'}\n"
          ]
        },
        {
          "output_type": "stream",
          "name": "stderr",
          "text": [
            " 49%|████▊     | 935/1924 [3:07:39<3:38:37, 13.26s/it]"
          ]
        },
        {
          "output_type": "stream",
          "name": "stdout",
          "text": [
            "['nigger', 'nigga', 'mud shark', 'chink', 'gook', 'spic', 'wetback', 'kike', 'sand nigger', 'towelhead', 'beaner', 'cracker', 'honky', 'jungle bunny', 'redskin', 'bitch', 'slut', 'whore', 'cunt', 'feminazi', 'dyke', 'tranny', 'she-male', 'gold digger', 'skank', 'faggot', 'fag', 'homo', 'queer', 'carpet muncher', 'pillow biter', 'fudge packer', 'lesbo', 'Christ killer', 'jihadist', 'infidel', 'kike', 'raghead', 'heathen', 'pagan', 'Bible basher', 'papist', 'kaffir', 'retard', 'cripple', 'spaz', 'mongoloid', 'psycho', 'nutjob', 'lame', 'vegetable', 'deaf-mute', 'imbecile', 'yank', 'brit', 'kraut', 'jap', 'commie', 'ruski', 'paki', 'wop', 'dago', 'polack', 'fatty', 'lardass', 'twig', 'beanpole', 'ugly', 'four-eyes', 'baldie', 'geek', 'nerd', 'pimple-face']\n",
            "['imagine', 'if', 'i', 'i', 'mean', 'my', 'friend', 'does', 'start', 'liking', 'this', 'person', 'right', 'after', 'rejecting', 'them', 'what', 'a', 'typical', 'dyke', 'move', 'that', 'would', 'be', '😃']\n",
            "['imagine', 'if', 'i', 'i', 'mean', 'my', 'friend', 'does', 'start', 'liking', 'this', 'person', 'right', 'after', 'rejecting', 'them', 'what', 'a', 'typical', 'dyke', 'move', 'that', 'would', 'be', '😃']\n",
            "{'dyke': 'dyke'}\n"
          ]
        },
        {
          "output_type": "stream",
          "name": "stderr",
          "text": [
            " 49%|████▉     | 941/1924 [3:08:00<1:36:23,  5.88s/it]"
          ]
        },
        {
          "output_type": "stream",
          "name": "stdout",
          "text": [
            "['nigger', 'nigga', 'mud shark', 'chink', 'gook', 'spic', 'wetback', 'kike', 'sand nigger', 'towelhead', 'beaner', 'cracker', 'honky', 'jungle bunny', 'redskin', 'bitch', 'slut', 'whore', 'cunt', 'feminazi', 'dyke', 'tranny', 'she-male', 'gold digger', 'skank', 'faggot', 'fag', 'homo', 'queer', 'carpet muncher', 'pillow biter', 'fudge packer', 'lesbo', 'Christ killer', 'jihadist', 'infidel', 'kike', 'raghead', 'heathen', 'pagan', 'Bible basher', 'papist', 'kaffir', 'retard', 'cripple', 'spaz', 'mongoloid', 'psycho', 'nutjob', 'lame', 'vegetable', 'deaf-mute', 'imbecile', 'yank', 'brit', 'kraut', 'jap', 'commie', 'ruski', 'paki', 'wop', 'dago', 'polack', 'fatty', 'lardass', 'twig', 'beanpole', 'ugly', 'four-eyes', 'baldie', 'geek', 'nerd', 'pimple-face']\n",
            "['welp', 'tinder', 'was', 'exactly', 'what', 'i', 'expected', '<percent>', 'ugly', 'fat', 'chicks', '<percent>', 'duckfaced', 'instagram', 'models', 'fishing', 'for', 'likes', '<percent>', 'prog', 'dykes', 'uninstall']\n",
            "['welp', 'tinder', 'was', 'exactly', 'what', 'i', 'expected', '<percent>', 'UGGGGLY', 'fat', 'chicks', '<percent>', 'duckfaced', 'instagram', 'models', 'fishing', 'for', 'likes', '<percent>', 'prog', 'dykes', 'uninstall']\n",
            "{'ugly': 'UGGGGLY'}\n"
          ]
        },
        {
          "output_type": "stream",
          "name": "stderr",
          "text": [
            " 49%|████▉     | 946/1924 [3:09:04<3:25:31, 12.61s/it]"
          ]
        },
        {
          "output_type": "stream",
          "name": "stdout",
          "text": [
            "['nigger', 'nigga', 'mud shark', 'chink', 'gook', 'spic', 'wetback', 'kike', 'sand nigger', 'towelhead', 'beaner', 'cracker', 'honky', 'jungle bunny', 'redskin', 'bitch', 'slut', 'whore', 'cunt', 'feminazi', 'dyke', 'tranny', 'she-male', 'gold digger', 'skank', 'faggot', 'fag', 'homo', 'queer', 'carpet muncher', 'pillow biter', 'fudge packer', 'lesbo', 'Christ killer', 'jihadist', 'infidel', 'kike', 'raghead', 'heathen', 'pagan', 'Bible basher', 'papist', 'kaffir', 'retard', 'cripple', 'spaz', 'mongoloid', 'psycho', 'nutjob', 'lame', 'vegetable', 'deaf-mute', 'imbecile', 'yank', 'brit', 'kraut', 'jap', 'commie', 'ruski', 'paki', 'wop', 'dago', 'polack', 'fatty', 'lardass', 'twig', 'beanpole', 'ugly', 'four-eyes', 'baldie', 'geek', 'nerd', 'pimple-face']\n",
            "['ind', 'wv', 'saw', 'south', 'africa', 'women', 'won', 'the', 'toss', 'and', 'decided', 'to', 'bowl', 'first']\n",
            "['ind', 'wv', 'saw', 'south', 'AfricA', 'wOMEn', 'won', 'the', 'toss', 'andddd', 'decided', 'to', 'bowl', 'first']\n",
            "{'women': 'wOMEn', 'and': 'andddd', 'africa': 'AfricA'}\n"
          ]
        },
        {
          "output_type": "stream",
          "name": "stderr",
          "text": [
            " 49%|████▉     | 951/1924 [3:11:27<6:12:09, 22.95s/it]"
          ]
        },
        {
          "output_type": "stream",
          "name": "stdout",
          "text": [
            "['nigger', 'nigga', 'mud shark', 'chink', 'gook', 'spic', 'wetback', 'kike', 'sand nigger', 'towelhead', 'beaner', 'cracker', 'honky', 'jungle bunny', 'redskin', 'bitch', 'slut', 'whore', 'cunt', 'feminazi', 'dyke', 'tranny', 'she-male', 'gold digger', 'skank', 'faggot', 'fag', 'homo', 'queer', 'carpet muncher', 'pillow biter', 'fudge packer', 'lesbo', 'Christ killer', 'jihadist', 'infidel', 'kike', 'raghead', 'heathen', 'pagan', 'Bible basher', 'papist', 'kaffir', 'retard', 'cripple', 'spaz', 'mongoloid', 'psycho', 'nutjob', 'lame', 'vegetable', 'deaf-mute', 'imbecile', 'yank', 'brit', 'kraut', 'jap', 'commie', 'ruski', 'paki', 'wop', 'dago', 'polack', 'fatty', 'lardass', 'twig', 'beanpole', 'ugly', 'four-eyes', 'baldie', 'geek', 'nerd', 'pimple-face']\n",
            "['<user>', '\\u200d', 'just', 'listening', 'to', 'the', 'latest', 'radical', 'agenda', 'and', 'was', 'interested', 'to', 'listen', 'to', 'that', 'one', 'caller', 'who', 'said', 'that', 'we', 'have', 'an', 'online', 'ethnostate', 'it', 'seems', 'more', 'like', 'an', 'online', 'ghetto', 'to', 'me', 'but', 'as', 'they', 'say', 'you', 'say', 'tomato', 'i', 'pronounce', 'it', 'properly']\n",
            "['<user>', '\\u200d', 'just', 'listening', 'to', 'the', 'laatst', 'radical', 'agenda', 'and', 'was', 'interested', 'to', 'listen', 'to', 'thaaaat', 'one', 'caler', 'WHo', 'saddd', 'thaaat', 'we', 'have', 'an', 'online', 'ethnostate', 'it', 'seems', 'more', 'like', 'an', 'online', 'ghetto', 'to', 'me', 'Buuuuuut', 'as', 'they', 'say', 'you', 'say', 'tomato', 'i', 'pronuncie', 'it', 'properly']\n",
            "{'latest': 'laatst', 'said': 'saddd', 'but': 'Buuuuuut', 'who': 'WHo', 'pronounce': 'pronuncie', 'caller': 'caler', 'ethnostate': 'ethnostate', 'that': 'thaaaat'}\n"
          ]
        },
        {
          "output_type": "stream",
          "name": "stderr",
          "text": [
            " 50%|████▉     | 954/1924 [3:12:04<4:56:10, 18.32s/it]"
          ]
        },
        {
          "output_type": "stream",
          "name": "stdout",
          "text": [
            "['nigger', 'nigga', 'mud shark', 'chink', 'gook', 'spic', 'wetback', 'kike', 'sand nigger', 'towelhead', 'beaner', 'cracker', 'honky', 'jungle bunny', 'redskin', 'bitch', 'slut', 'whore', 'cunt', 'feminazi', 'dyke', 'tranny', 'she-male', 'gold digger', 'skank', 'faggot', 'fag', 'homo', 'queer', 'carpet muncher', 'pillow biter', 'fudge packer', 'lesbo', 'Christ killer', 'jihadist', 'infidel', 'kike', 'raghead', 'heathen', 'pagan', 'Bible basher', 'papist', 'kaffir', 'retard', 'cripple', 'spaz', 'mongoloid', 'psycho', 'nutjob', 'lame', 'vegetable', 'deaf-mute', 'imbecile', 'yank', 'brit', 'kraut', 'jap', 'commie', 'ruski', 'paki', 'wop', 'dago', 'polack', 'fatty', 'lardass', 'twig', 'beanpole', 'ugly', 'four-eyes', 'baldie', 'geek', 'nerd', 'pimple-face']\n",
            "['did', 'you', 'offa', 'to', 'say', 'which', 'dyke', 'it', 'was', 'btw', 'british', 'history', 'offa', 'dyke', '<happy>']\n",
            "['did', 'you', 'offa', 'to', 'say', 'which', 'DYKE', 'it', 'was', 'btw', 'british', 'history', 'offa', 'Dyke', '<happy>']\n",
            "{'dyke': 'Dyke'}\n"
          ]
        },
        {
          "output_type": "stream",
          "name": "stderr",
          "text": [
            " 50%|████▉     | 961/1924 [3:13:08<2:58:42, 11.13s/it]"
          ]
        },
        {
          "output_type": "stream",
          "name": "stdout",
          "text": [
            "['nigger', 'nigga', 'mud shark', 'chink', 'gook', 'spic', 'wetback', 'kike', 'sand nigger', 'towelhead', 'beaner', 'cracker', 'honky', 'jungle bunny', 'redskin', 'bitch', 'slut', 'whore', 'cunt', 'feminazi', 'dyke', 'tranny', 'she-male', 'gold digger', 'skank', 'faggot', 'fag', 'homo', 'queer', 'carpet muncher', 'pillow biter', 'fudge packer', 'lesbo', 'Christ killer', 'jihadist', 'infidel', 'kike', 'raghead', 'heathen', 'pagan', 'Bible basher', 'papist', 'kaffir', 'retard', 'cripple', 'spaz', 'mongoloid', 'psycho', 'nutjob', 'lame', 'vegetable', 'deaf-mute', 'imbecile', 'yank', 'brit', 'kraut', 'jap', 'commie', 'ruski', 'paki', 'wop', 'dago', 'polack', 'fatty', 'lardass', 'twig', 'beanpole', 'ugly', 'four-eyes', 'baldie', 'geek', 'nerd', 'pimple-face']\n",
            "['<user>', 'nigga', 'fucking', 'called', 'me', 'a', 'faggot', 'when', 'i', 'said', 'these', 'things', 'to', 'him']\n",
            "['<user>', 'nigggga', 'fucking', 'called', 'me', 'a', 'fagot', 'when', 'i', 'said', 'these', 'things', 'to', 'him']\n",
            "{'nigga': 'nigggga', 'faggot': 'fagot'}\n"
          ]
        },
        {
          "output_type": "stream",
          "name": "stderr",
          "text": [
            " 50%|█████     | 966/1924 [3:13:57<2:09:32,  8.11s/it]"
          ]
        },
        {
          "output_type": "stream",
          "name": "stdout",
          "text": [
            "['nigger', 'nigga', 'mud shark', 'chink', 'gook', 'spic', 'wetback', 'kike', 'sand nigger', 'towelhead', 'beaner', 'cracker', 'honky', 'jungle bunny', 'redskin', 'bitch', 'slut', 'whore', 'cunt', 'feminazi', 'dyke', 'tranny', 'she-male', 'gold digger', 'skank', 'faggot', 'fag', 'homo', 'queer', 'carpet muncher', 'pillow biter', 'fudge packer', 'lesbo', 'Christ killer', 'jihadist', 'infidel', 'kike', 'raghead', 'heathen', 'pagan', 'Bible basher', 'papist', 'kaffir', 'retard', 'cripple', 'spaz', 'mongoloid', 'psycho', 'nutjob', 'lame', 'vegetable', 'deaf-mute', 'imbecile', 'yank', 'brit', 'kraut', 'jap', 'commie', 'ruski', 'paki', 'wop', 'dago', 'polack', 'fatty', 'lardass', 'twig', 'beanpole', 'ugly', 'four-eyes', 'baldie', 'geek', 'nerd', 'pimple-face']\n",
            "['squadron', 'leader', 'gibson', 'raf', 'won', 'a', 'vc', 'on', 'the', 'dam', 'buster', 'raid', 'he', 'had', 'a', 'labrador', 'called', 'nigger', 'they', 'told', 'us', 'not', 'to', 'call', 'them', 'that', 'anymore', 'so', 'we', 'called', 'them', 'gibson', 'dog', 'or', 'gibson', 'for', 'short']\n",
            "['squadron', 'leader', 'gibson', 'raf', 'won', 'a', 'vc', 'on', 'the', 'dam', 'buster', 'raid', 'he', 'had', 'a', 'labrador', 'called', 'niggaaarr', 'they', 'told', 'us', 'not', 'to', 'call', 'them', 'that', 'anymore', 'so', 'we', 'called', 'them', 'gibson', 'dog', 'or', 'gibson', 'for', 'short']\n",
            "{'nigger': 'niggaaarr'}\n"
          ]
        },
        {
          "output_type": "stream",
          "name": "stderr",
          "text": [
            " 50%|█████     | 971/1924 [3:15:07<3:10:08, 11.97s/it]"
          ]
        },
        {
          "output_type": "stream",
          "name": "stdout",
          "text": [
            "['nigger', 'nigga', 'mud shark', 'chink', 'gook', 'spic', 'wetback', 'kike', 'sand nigger', 'towelhead', 'beaner', 'cracker', 'honky', 'jungle bunny', 'redskin', 'bitch', 'slut', 'whore', 'cunt', 'feminazi', 'dyke', 'tranny', 'she-male', 'gold digger', 'skank', 'faggot', 'fag', 'homo', 'queer', 'carpet muncher', 'pillow biter', 'fudge packer', 'lesbo', 'Christ killer', 'jihadist', 'infidel', 'kike', 'raghead', 'heathen', 'pagan', 'Bible basher', 'papist', 'kaffir', 'retard', 'cripple', 'spaz', 'mongoloid', 'psycho', 'nutjob', 'lame', 'vegetable', 'deaf-mute', 'imbecile', 'yank', 'brit', 'kraut', 'jap', 'commie', 'ruski', 'paki', 'wop', 'dago', 'polack', 'fatty', 'lardass', 'twig', 'beanpole', 'ugly', 'four-eyes', 'baldie', 'geek', 'nerd', 'pimple-face']\n",
            "['<user>', 'god', 'speed', 'to', 'whoever', 'has', 'to', 'interview', 'him']\n",
            "['<user>', 'GoOOD', 'speed', 'to', 'whoever', 'has', 'to', 'interview', 'him']\n",
            "{'god': 'GoOOD'}\n"
          ]
        },
        {
          "output_type": "stream",
          "name": "stderr",
          "text": [
            " 51%|█████     | 976/1924 [3:15:21<1:17:38,  4.91s/it]"
          ]
        },
        {
          "output_type": "stream",
          "name": "stdout",
          "text": [
            "['nigger', 'nigga', 'mud shark', 'chink', 'gook', 'spic', 'wetback', 'kike', 'sand nigger', 'towelhead', 'beaner', 'cracker', 'honky', 'jungle bunny', 'redskin', 'bitch', 'slut', 'whore', 'cunt', 'feminazi', 'dyke', 'tranny', 'she-male', 'gold digger', 'skank', 'faggot', 'fag', 'homo', 'queer', 'carpet muncher', 'pillow biter', 'fudge packer', 'lesbo', 'Christ killer', 'jihadist', 'infidel', 'kike', 'raghead', 'heathen', 'pagan', 'Bible basher', 'papist', 'kaffir', 'retard', 'cripple', 'spaz', 'mongoloid', 'psycho', 'nutjob', 'lame', 'vegetable', 'deaf-mute', 'imbecile', 'yank', 'brit', 'kraut', 'jap', 'commie', 'ruski', 'paki', 'wop', 'dago', 'polack', 'fatty', 'lardass', 'twig', 'beanpole', 'ugly', 'four-eyes', 'baldie', 'geek', 'nerd', 'pimple-face']\n",
            "['<user>', 'funny', 'guy']\n",
            "['<user>', 'funny', 'Guy']\n",
            "{'guy': 'Guy'}\n"
          ]
        },
        {
          "output_type": "stream",
          "name": "stderr",
          "text": [
            " 51%|█████     | 981/1924 [3:16:18<3:11:27, 12.18s/it]"
          ]
        },
        {
          "output_type": "stream",
          "name": "stdout",
          "text": [
            "['nigger', 'nigga', 'mud shark', 'chink', 'gook', 'spic', 'wetback', 'kike', 'sand nigger', 'towelhead', 'beaner', 'cracker', 'honky', 'jungle bunny', 'redskin', 'bitch', 'slut', 'whore', 'cunt', 'feminazi', 'dyke', 'tranny', 'she-male', 'gold digger', 'skank', 'faggot', 'fag', 'homo', 'queer', 'carpet muncher', 'pillow biter', 'fudge packer', 'lesbo', 'Christ killer', 'jihadist', 'infidel', 'kike', 'raghead', 'heathen', 'pagan', 'Bible basher', 'papist', 'kaffir', 'retard', 'cripple', 'spaz', 'mongoloid', 'psycho', 'nutjob', 'lame', 'vegetable', 'deaf-mute', 'imbecile', 'yank', 'brit', 'kraut', 'jap', 'commie', 'ruski', 'paki', 'wop', 'dago', 'polack', 'fatty', 'lardass', 'twig', 'beanpole', 'ugly', 'four-eyes', 'baldie', 'geek', 'nerd', 'pimple-face']\n",
            "['you', 'alt', 'lite', 'queers', 'need', 'to', 'pick', 'a', 'side', 'pro', 'white', 'or', 'anti', 'white', 'race', 'mixers', 'and', 'thot', 'defenders', 'deserve', 'the', 'rope']\n",
            "['you', 'alt', 'lite', 'queers', 'need', 'to', 'pick', 'a', 'side', 'pro', 'white', 'or', 'ANTI', 'whitie', 'race', 'mixers', 'andd', 'thot', 'Defenders', 'deserve', 'the', 'rope']\n",
            "{'anti': 'ANTI', 'defenders': 'Defenders', 'and': 'andd', 'white': 'whitie'}\n"
          ]
        },
        {
          "output_type": "stream",
          "name": "stderr",
          "text": [
            " 51%|█████     | 986/1924 [3:17:01<2:37:53, 10.10s/it]"
          ]
        },
        {
          "output_type": "stream",
          "name": "stdout",
          "text": [
            "['nigger', 'nigga', 'mud shark', 'chink', 'gook', 'spic', 'wetback', 'kike', 'sand nigger', 'towelhead', 'beaner', 'cracker', 'honky', 'jungle bunny', 'redskin', 'bitch', 'slut', 'whore', 'cunt', 'feminazi', 'dyke', 'tranny', 'she-male', 'gold digger', 'skank', 'faggot', 'fag', 'homo', 'queer', 'carpet muncher', 'pillow biter', 'fudge packer', 'lesbo', 'Christ killer', 'jihadist', 'infidel', 'kike', 'raghead', 'heathen', 'pagan', 'Bible basher', 'papist', 'kaffir', 'retard', 'cripple', 'spaz', 'mongoloid', 'psycho', 'nutjob', 'lame', 'vegetable', 'deaf-mute', 'imbecile', 'yank', 'brit', 'kraut', 'jap', 'commie', 'ruski', 'paki', 'wop', 'dago', 'polack', 'fatty', 'lardass', 'twig', 'beanpole', 'ugly', 'four-eyes', 'baldie', 'geek', 'nerd', 'pimple-face']\n",
            "['mfs', 'really', 'be', 'cheatin', 'on', 'u', 'w', 'bitches', 'who', 'look', 'up', 'to', 'u', 'amp', 'dat', 'copy', 'errything', 'u', 'do', 'post']\n",
            "['MFS', 'really', 'be', 'CHEATIN', 'on', 'u', 'w', 'bitches', 'who', 'look', 'up', 'to', 'u', 'amp', 'dat', 'copy', 'errything', 'u', 'do', 'post']\n",
            "{'dat': 'dat', 'mfs': 'MFS', 'cheatin': 'CHEATIN'}\n"
          ]
        },
        {
          "output_type": "stream",
          "name": "stderr",
          "text": [
            " 52%|█████▏    | 991/1924 [3:18:02<3:41:00, 14.21s/it]"
          ]
        },
        {
          "output_type": "stream",
          "name": "stdout",
          "text": [
            "['nigger', 'nigga', 'mud shark', 'chink', 'gook', 'spic', 'wetback', 'kike', 'sand nigger', 'towelhead', 'beaner', 'cracker', 'honky', 'jungle bunny', 'redskin', 'bitch', 'slut', 'whore', 'cunt', 'feminazi', 'dyke', 'tranny', 'she-male', 'gold digger', 'skank', 'faggot', 'fag', 'homo', 'queer', 'carpet muncher', 'pillow biter', 'fudge packer', 'lesbo', 'Christ killer', 'jihadist', 'infidel', 'kike', 'raghead', 'heathen', 'pagan', 'Bible basher', 'papist', 'kaffir', 'retard', 'cripple', 'spaz', 'mongoloid', 'psycho', 'nutjob', 'lame', 'vegetable', 'deaf-mute', 'imbecile', 'yank', 'brit', 'kraut', 'jap', 'commie', 'ruski', 'paki', 'wop', 'dago', 'polack', 'fatty', 'lardass', 'twig', 'beanpole', 'ugly', 'four-eyes', 'baldie', 'geek', 'nerd', 'pimple-face']\n",
            "['i', 'hate', 'to', 'say', 'that', 'liberal', 'dictators', 'are', 'inevitable', 'in', 'any', 'government', 'in', 'any', 'country', 'they', 'will', 'always', 'have', 'george', 'soros', 'funding', 'and', 'a', 'islamic', 'immigrant', 'invasion', 'to', 'help', 'physically', 'kill', 'white', 'people', 'religions', 'indoctrinating', 'kids', 'because', 'this', 'is', 'a', 'switch', 'of', 'population', 'while', 'globalists', 'are', 'living']\n",
            "['i', 'hate', 'to', 'say', 'ThaT', 'liberal', 'dictators', 'are', 'inevitable', 'in', 'annnny', 'government', 'in', 'any', 'country', 'TheI', 'wil', 'always', 'haveeee', 'george', 'Soross', 'funding', 'and', 'a', 'islamic', 'immigrant', 'invasion', 'to', 'help', 'physically', 'kill', 'white', 'people', 'religions', 'indoctrinating', 'kids', 'BecAuSE', 'this', 'is', 'a', 'switch', 'of', 'population', 'while', 'globalists', 'are', 'living']\n",
            "{'because': 'BecAuSE', 'soros': 'Soross', 'that': 'ThaT', 'any': 'annnny', 'will': 'wil', 'while': 'while', 'have': 'haveeee', 'they': 'TheI'}\n"
          ]
        },
        {
          "output_type": "stream",
          "name": "stderr",
          "text": [
            " 52%|█████▏    | 996/1924 [3:19:50<3:40:06, 14.23s/it]"
          ]
        },
        {
          "output_type": "stream",
          "name": "stdout",
          "text": [
            "['nigger', 'nigga', 'mud shark', 'chink', 'gook', 'spic', 'wetback', 'kike', 'sand nigger', 'towelhead', 'beaner', 'cracker', 'honky', 'jungle bunny', 'redskin', 'bitch', 'slut', 'whore', 'cunt', 'feminazi', 'dyke', 'tranny', 'she-male', 'gold digger', 'skank', 'faggot', 'fag', 'homo', 'queer', 'carpet muncher', 'pillow biter', 'fudge packer', 'lesbo', 'Christ killer', 'jihadist', 'infidel', 'kike', 'raghead', 'heathen', 'pagan', 'Bible basher', 'papist', 'kaffir', 'retard', 'cripple', 'spaz', 'mongoloid', 'psycho', 'nutjob', 'lame', 'vegetable', 'deaf-mute', 'imbecile', 'yank', 'brit', 'kraut', 'jap', 'commie', 'ruski', 'paki', 'wop', 'dago', 'polack', 'fatty', 'lardass', 'twig', 'beanpole', 'ugly', 'four-eyes', 'baldie', 'geek', 'nerd', 'pimple-face']\n",
            "['paying', 'my', 'own', 'bills', 'so', 'ghetto', '🥴']\n",
            "['paying', 'my', 'own', 'bills', 'so', 'ghetto', '🥴']\n",
            "{'bills': 'bills'}\n"
          ]
        },
        {
          "output_type": "stream",
          "name": "stderr",
          "text": [
            " 52%|█████▏    | 1001/1924 [3:21:38<4:36:05, 17.95s/it]"
          ]
        },
        {
          "output_type": "stream",
          "name": "stdout",
          "text": [
            "['nigger', 'nigga', 'mud shark', 'chink', 'gook', 'spic', 'wetback', 'kike', 'sand nigger', 'towelhead', 'beaner', 'cracker', 'honky', 'jungle bunny', 'redskin', 'bitch', 'slut', 'whore', 'cunt', 'feminazi', 'dyke', 'tranny', 'she-male', 'gold digger', 'skank', 'faggot', 'fag', 'homo', 'queer', 'carpet muncher', 'pillow biter', 'fudge packer', 'lesbo', 'Christ killer', 'jihadist', 'infidel', 'kike', 'raghead', 'heathen', 'pagan', 'Bible basher', 'papist', 'kaffir', 'retard', 'cripple', 'spaz', 'mongoloid', 'psycho', 'nutjob', 'lame', 'vegetable', 'deaf-mute', 'imbecile', 'yank', 'brit', 'kraut', 'jap', 'commie', 'ruski', 'paki', 'wop', 'dago', 'polack', 'fatty', 'lardass', 'twig', 'beanpole', 'ugly', 'four-eyes', 'baldie', 'geek', 'nerd', 'pimple-face']\n",
            "['rt', 'usahotlips', 'i', 'never', 'thought', 'i', 'would', 'see', 'the', 'day', 'when', 'liberals', 'would', 'have', 'so', 'much', 'contempt', 'for', 'one', 'man', 'their', 'country', 'that', 'they', 'would', 'actually', 'cheer', 'for', 'defend', 'ms', '<number>', 'north', 'korea', 'iran', 'illegal', 'immigrants', 'deep', 'state', 'thursdaythought', 'maga', 'tds']\n",
            "['rt', 'usahotlips', 'i', 'neVeR', 'thought', 'i', 'would', 'see', 'the', 'day', 'when', 'liberals', 'wOulD', 'hAvE', 'so', 'much', 'contempt', 'for', 'oNe', 'man', 'their', 'country', 'that', 'they', 'would', 'actually', 'Cher', 'for', 'defend', 'ms', '<number>', 'north', 'korea', 'IRan', 'illegal', 'immigrants', 'deep', 'state', 'thursdaythought', 'maga', 'tds']\n",
            "{'would': 'wOulD', 'iran': 'IRan', 'cheer': 'Cher', 'never': 'neVeR', 'one': 'oNe', 'have': 'hAvE'}\n"
          ]
        },
        {
          "output_type": "stream",
          "name": "stderr",
          "text": [
            " 52%|█████▏    | 1006/1924 [3:23:44<7:16:54, 28.56s/it]"
          ]
        },
        {
          "output_type": "stream",
          "name": "stdout",
          "text": [
            "['nigger', 'nigga', 'mud shark', 'chink', 'gook', 'spic', 'wetback', 'kike', 'sand nigger', 'towelhead', 'beaner', 'cracker', 'honky', 'jungle bunny', 'redskin', 'bitch', 'slut', 'whore', 'cunt', 'feminazi', 'dyke', 'tranny', 'she-male', 'gold digger', 'skank', 'faggot', 'fag', 'homo', 'queer', 'carpet muncher', 'pillow biter', 'fudge packer', 'lesbo', 'Christ killer', 'jihadist', 'infidel', 'kike', 'raghead', 'heathen', 'pagan', 'Bible basher', 'papist', 'kaffir', 'retard', 'cripple', 'spaz', 'mongoloid', 'psycho', 'nutjob', 'lame', 'vegetable', 'deaf-mute', 'imbecile', 'yank', 'brit', 'kraut', 'jap', 'commie', 'ruski', 'paki', 'wop', 'dago', 'polack', 'fatty', 'lardass', 'twig', 'beanpole', 'ugly', 'four-eyes', 'baldie', 'geek', 'nerd', 'pimple-face']\n",
            "['yeah', 'i', 'know', 'but', 'this', 'is', 'one', 'part', 'of', 'the', 'whole', 'picture', 'and', 'for', 'faggots', 'that', 'keep', 'harping', 'on', 'about', 'elections', 'as', 'if', 'it', 'our', 'whole', 'point', 'of', 'the', 'movement']\n",
            "['yeah', 'i', 'knowwwww', 'but', 'this', 'is', 'one', 'part', 'of', 'the', 'whole', 'picture', 'Anddd', 'for', 'faggots', 'THAt', 'keep', 'harping', 'on', 'about', 'elections', 'as', 'if', 'it', 'our', 'whole', 'point', 'of', 'the', 'movement']\n",
            "{'and': 'Anddd', 'know': 'knowwwww', 'that': 'THAt', 'movement': 'movement'}\n"
          ]
        },
        {
          "output_type": "stream",
          "name": "stderr",
          "text": [
            " 53%|█████▎    | 1011/1924 [3:24:54<4:52:58, 19.25s/it]"
          ]
        },
        {
          "output_type": "stream",
          "name": "stdout",
          "text": [
            "['nigger', 'nigga', 'mud shark', 'chink', 'gook', 'spic', 'wetback', 'kike', 'sand nigger', 'towelhead', 'beaner', 'cracker', 'honky', 'jungle bunny', 'redskin', 'bitch', 'slut', 'whore', 'cunt', 'feminazi', 'dyke', 'tranny', 'she-male', 'gold digger', 'skank', 'faggot', 'fag', 'homo', 'queer', 'carpet muncher', 'pillow biter', 'fudge packer', 'lesbo', 'Christ killer', 'jihadist', 'infidel', 'kike', 'raghead', 'heathen', 'pagan', 'Bible basher', 'papist', 'kaffir', 'retard', 'cripple', 'spaz', 'mongoloid', 'psycho', 'nutjob', 'lame', 'vegetable', 'deaf-mute', 'imbecile', 'yank', 'brit', 'kraut', 'jap', 'commie', 'ruski', 'paki', 'wop', 'dago', 'polack', 'fatty', 'lardass', 'twig', 'beanpole', 'ugly', 'four-eyes', 'baldie', 'geek', 'nerd', 'pimple-face']\n",
            "['<user>', 'true', 'but', 'no', 'one', 'gives', 'a', 'fuck', 'about', 'other', 'activists', 'of', 'color', 'not', 'that', 'i', 'care', 'much', 'about', 'it', 'tbh', 'im', 'not', 'too', 'invested', 'into', 'this', 'climate', 'change', 'stuff', 'but', 'just', 'bc', 'she', 'white', 'and', 'retarded', 'she', 'gets', 'the', 'spotlight']\n",
            "['<user>', 'Truue', 'but', 'no', 'one', 'gives', 'a', 'fuck', 'about', 'other', 'Actvists', 'of', 'color', 'not', 'that', 'i', 'cAreeeeee', 'much', 'abot', 'it', 'tbh', 'im', 'not', 'too', 'invested', 'into', 'this', 'climate', 'change', 'STUFF', 'but', 'Juuuuust', 'bc', 'she', 'WHite', 'and', 'retarded', 'she', 'gets', 'the', 'spotlight']\n",
            "{'about': 'abot', 'white': 'WHite', 'care': 'cAreeeeee', 'true': 'Truue', 'just': 'Juuuuust', 'activists': 'Actvists', 'stuff': 'STUFF'}\n"
          ]
        },
        {
          "output_type": "stream",
          "name": "stderr",
          "text": [
            " 53%|█████▎    | 1016/1924 [3:25:17<2:05:48,  8.31s/it]"
          ]
        },
        {
          "output_type": "stream",
          "name": "stdout",
          "text": [
            "['nigger', 'nigga', 'mud shark', 'chink', 'gook', 'spic', 'wetback', 'kike', 'sand nigger', 'towelhead', 'beaner', 'cracker', 'honky', 'jungle bunny', 'redskin', 'bitch', 'slut', 'whore', 'cunt', 'feminazi', 'dyke', 'tranny', 'she-male', 'gold digger', 'skank', 'faggot', 'fag', 'homo', 'queer', 'carpet muncher', 'pillow biter', 'fudge packer', 'lesbo', 'Christ killer', 'jihadist', 'infidel', 'kike', 'raghead', 'heathen', 'pagan', 'Bible basher', 'papist', 'kaffir', 'retard', 'cripple', 'spaz', 'mongoloid', 'psycho', 'nutjob', 'lame', 'vegetable', 'deaf-mute', 'imbecile', 'yank', 'brit', 'kraut', 'jap', 'commie', 'ruski', 'paki', 'wop', 'dago', 'polack', 'fatty', 'lardass', 'twig', 'beanpole', 'ugly', 'four-eyes', 'baldie', 'geek', 'nerd', 'pimple-face']\n",
            "['women', 'love', 'tellin', 'she', '’', 'half', 'amp', 'half', 'i', '’', 'll', 'tell', 'you', 'who', 'is', 'tho', '😂', '😭', '😂', '😭', '😂']\n",
            "['women', 'love', 'tellin', 'she', '’', 'half', 'amp', 'half', 'i', '’', 'll', 'tell', 'you', 'who', 'is', 'THOO', '😂', '😭', '😂', '😭', '😂']\n",
            "{'tho': 'THOO'}\n"
          ]
        },
        {
          "output_type": "stream",
          "name": "stderr",
          "text": [
            " 53%|█████▎    | 1021/1924 [3:26:22<2:57:01, 11.76s/it]"
          ]
        },
        {
          "output_type": "stream",
          "name": "stdout",
          "text": [
            "['nigger', 'nigga', 'mud shark', 'chink', 'gook', 'spic', 'wetback', 'kike', 'sand nigger', 'towelhead', 'beaner', 'cracker', 'honky', 'jungle bunny', 'redskin', 'bitch', 'slut', 'whore', 'cunt', 'feminazi', 'dyke', 'tranny', 'she-male', 'gold digger', 'skank', 'faggot', 'fag', 'homo', 'queer', 'carpet muncher', 'pillow biter', 'fudge packer', 'lesbo', 'Christ killer', 'jihadist', 'infidel', 'kike', 'raghead', 'heathen', 'pagan', 'Bible basher', 'papist', 'kaffir', 'retard', 'cripple', 'spaz', 'mongoloid', 'psycho', 'nutjob', 'lame', 'vegetable', 'deaf-mute', 'imbecile', 'yank', 'brit', 'kraut', 'jap', 'commie', 'ruski', 'paki', 'wop', 'dago', 'polack', 'fatty', 'lardass', 'twig', 'beanpole', 'ugly', 'four-eyes', 'baldie', 'geek', 'nerd', 'pimple-face']\n",
            "['<user>', 'big', 'head', 'and', 'being', 'a', 'faggot', 'in', 'the', 'front', 'row']\n",
            "['<user>', 'big', 'head', 'and', 'being', 'a', 'faeggot', 'in', 'the', 'front', 'row']\n",
            "{'faggot': 'faeggot'}\n"
          ]
        },
        {
          "output_type": "stream",
          "name": "stderr",
          "text": [
            " 53%|█████▎    | 1026/1924 [3:26:55<1:42:43,  6.86s/it]"
          ]
        },
        {
          "output_type": "stream",
          "name": "stdout",
          "text": [
            "['nigger', 'nigga', 'mud shark', 'chink', 'gook', 'spic', 'wetback', 'kike', 'sand nigger', 'towelhead', 'beaner', 'cracker', 'honky', 'jungle bunny', 'redskin', 'bitch', 'slut', 'whore', 'cunt', 'feminazi', 'dyke', 'tranny', 'she-male', 'gold digger', 'skank', 'faggot', 'fag', 'homo', 'queer', 'carpet muncher', 'pillow biter', 'fudge packer', 'lesbo', 'Christ killer', 'jihadist', 'infidel', 'kike', 'raghead', 'heathen', 'pagan', 'Bible basher', 'papist', 'kaffir', 'retard', 'cripple', 'spaz', 'mongoloid', 'psycho', 'nutjob', 'lame', 'vegetable', 'deaf-mute', 'imbecile', 'yank', 'brit', 'kraut', 'jap', 'commie', 'ruski', 'paki', 'wop', 'dago', 'polack', 'fatty', 'lardass', 'twig', 'beanpole', 'ugly', 'four-eyes', 'baldie', 'geek', 'nerd', 'pimple-face']\n",
            "['should', 'illegal', 'aliens', 'be', 'counted', 'in', 'the', 'us', 'census']\n",
            "['sHoULD', 'illegal', 'aliens', 'be', 'CoUnTeD', 'in', 'the', 'us', 'census']\n",
            "{'counted': 'CoUnTeD', 'should': 'sHoULD'}\n"
          ]
        },
        {
          "output_type": "stream",
          "name": "stderr",
          "text": [
            " 54%|█████▎    | 1031/1924 [3:27:11<58:29,  3.93s/it]"
          ]
        },
        {
          "output_type": "stream",
          "name": "stdout",
          "text": [
            "['nigger', 'nigga', 'mud shark', 'chink', 'gook', 'spic', 'wetback', 'kike', 'sand nigger', 'towelhead', 'beaner', 'cracker', 'honky', 'jungle bunny', 'redskin', 'bitch', 'slut', 'whore', 'cunt', 'feminazi', 'dyke', 'tranny', 'she-male', 'gold digger', 'skank', 'faggot', 'fag', 'homo', 'queer', 'carpet muncher', 'pillow biter', 'fudge packer', 'lesbo', 'Christ killer', 'jihadist', 'infidel', 'kike', 'raghead', 'heathen', 'pagan', 'Bible basher', 'papist', 'kaffir', 'retard', 'cripple', 'spaz', 'mongoloid', 'psycho', 'nutjob', 'lame', 'vegetable', 'deaf-mute', 'imbecile', 'yank', 'brit', 'kraut', 'jap', 'commie', 'ruski', 'paki', 'wop', 'dago', 'polack', 'fatty', 'lardass', 'twig', 'beanpole', 'ugly', 'four-eyes', 'baldie', 'geek', 'nerd', 'pimple-face']\n",
            "['yes', 'moar', 'fat', 'sheboons', 'telling', 'us', 'all', 'what', 'to', 'do', 'did', 'not', 'we', 'get', 'enough', 'of', 'this', 'from', '<number>', 'yrs', 'of', 'oprah']\n",
            "['yes', 'moar', 'fat', 'sheboons', 'telling', 'us', 'all', 'what', 'to', 'do', 'did', 'not', 'we', 'get', 'enough', 'of', 'this', 'from', '<number>', 'yrs', 'of', 'OPRAH']\n",
            "{'did': 'did', 'sheboons': 'sheboons', 'oprah': 'OPRAH'}\n"
          ]
        },
        {
          "output_type": "stream",
          "name": "stderr",
          "text": [
            " 54%|█████▍    | 1036/1924 [3:28:25<3:10:35, 12.88s/it]"
          ]
        },
        {
          "output_type": "stream",
          "name": "stdout",
          "text": [
            "['nigger', 'nigga', 'mud shark', 'chink', 'gook', 'spic', 'wetback', 'kike', 'sand nigger', 'towelhead', 'beaner', 'cracker', 'honky', 'jungle bunny', 'redskin', 'bitch', 'slut', 'whore', 'cunt', 'feminazi', 'dyke', 'tranny', 'she-male', 'gold digger', 'skank', 'faggot', 'fag', 'homo', 'queer', 'carpet muncher', 'pillow biter', 'fudge packer', 'lesbo', 'Christ killer', 'jihadist', 'infidel', 'kike', 'raghead', 'heathen', 'pagan', 'Bible basher', 'papist', 'kaffir', 'retard', 'cripple', 'spaz', 'mongoloid', 'psycho', 'nutjob', 'lame', 'vegetable', 'deaf-mute', 'imbecile', 'yank', 'brit', 'kraut', 'jap', 'commie', 'ruski', 'paki', 'wop', 'dago', 'polack', 'fatty', 'lardass', 'twig', 'beanpole', 'ugly', 'four-eyes', 'baldie', 'geek', 'nerd', 'pimple-face']\n",
            "['the', 'german', 'regime', 'is', 'more', 'scared', 'of', 'women', 'like', 'this', 'than', 'than', 'are', 'of', 'any', 'moslem', 'terrorist']\n",
            "['thE', 'german', 'regime', 'is', 'more', 'scared', 'of', 'women', 'like', 'this', 'THAN', 'thAn', 'Aree', 'of', 'any', 'moslem', 'terrorist']\n",
            "{'the': 'thE', 'are': 'Aree', 'than': 'THAN'}\n"
          ]
        },
        {
          "output_type": "stream",
          "name": "stderr",
          "text": [
            " 54%|█████▍    | 1041/1924 [3:29:56<3:55:56, 16.03s/it]"
          ]
        },
        {
          "output_type": "stream",
          "name": "stdout",
          "text": [
            "['nigger', 'nigga', 'mud shark', 'chink', 'gook', 'spic', 'wetback', 'kike', 'sand nigger', 'towelhead', 'beaner', 'cracker', 'honky', 'jungle bunny', 'redskin', 'bitch', 'slut', 'whore', 'cunt', 'feminazi', 'dyke', 'tranny', 'she-male', 'gold digger', 'skank', 'faggot', 'fag', 'homo', 'queer', 'carpet muncher', 'pillow biter', 'fudge packer', 'lesbo', 'Christ killer', 'jihadist', 'infidel', 'kike', 'raghead', 'heathen', 'pagan', 'Bible basher', 'papist', 'kaffir', 'retard', 'cripple', 'spaz', 'mongoloid', 'psycho', 'nutjob', 'lame', 'vegetable', 'deaf-mute', 'imbecile', 'yank', 'brit', 'kraut', 'jap', 'commie', 'ruski', 'paki', 'wop', 'dago', 'polack', 'fatty', 'lardass', 'twig', 'beanpole', 'ugly', 'four-eyes', 'baldie', 'geek', 'nerd', 'pimple-face']\n",
            "['that', 'is', 'fine', 'i', 'fully', 'support', 'that', 'feminism', 'is', 'about', 'choice', 'that', 'women', 'can', 'do', 'and', 'be', 'whoever', 'they', 'want', 'to', 'be', 'without', 'being', 'held', 'back', 'or', 'judged', 'because', 'of', 'their', 'gender', 'both', 'many', 'feminists', 'and', 'many', 'anti', 'feminists', 'seem', 'to', 'fuck', 'that', 'part', 'up']\n",
            "['thaTT', 'is', 'fine', 'i', 'fully', 'supprt', 'that', 'feminism', 'is', 'about', 'choice', 'that', 'women', 'can', 'do', 'annnnd', 'be', 'whoever', 'they', 'want', 'to', 'be', 'without', 'bEiNg', 'held', 'back', 'or', 'judged', 'because', 'of', 'their', 'gender', 'both', 'many', 'feminsts', 'and', 'many', 'anti', 'feminists', 'seem', 'to', 'fuck', 'that', 'part', 'up']\n",
            "{'feminists': 'feminsts', 'being': 'bEiNg', 'that': 'thaTT', 'support': 'supprt', 'and': 'annnnd'}\n"
          ]
        },
        {
          "output_type": "stream",
          "name": "stderr",
          "text": [
            " 54%|█████▍    | 1046/1924 [3:31:22<4:24:03, 18.05s/it]"
          ]
        },
        {
          "output_type": "stream",
          "name": "stdout",
          "text": [
            "['nigger', 'nigga', 'mud shark', 'chink', 'gook', 'spic', 'wetback', 'kike', 'sand nigger', 'towelhead', 'beaner', 'cracker', 'honky', 'jungle bunny', 'redskin', 'bitch', 'slut', 'whore', 'cunt', 'feminazi', 'dyke', 'tranny', 'she-male', 'gold digger', 'skank', 'faggot', 'fag', 'homo', 'queer', 'carpet muncher', 'pillow biter', 'fudge packer', 'lesbo', 'Christ killer', 'jihadist', 'infidel', 'kike', 'raghead', 'heathen', 'pagan', 'Bible basher', 'papist', 'kaffir', 'retard', 'cripple', 'spaz', 'mongoloid', 'psycho', 'nutjob', 'lame', 'vegetable', 'deaf-mute', 'imbecile', 'yank', 'brit', 'kraut', 'jap', 'commie', 'ruski', 'paki', 'wop', 'dago', 'polack', 'fatty', 'lardass', 'twig', 'beanpole', 'ugly', 'four-eyes', 'baldie', 'geek', 'nerd', 'pimple-face']\n",
            "['i', 'know', 'sum', 'bitch', 'made', 'ass', 'niggas', 'man', '🤦', '🏾', '\\u200d', '♂️', '🤦', '🏾', '\\u200d', '♂️', '🤦', '🏾', '\\u200d', '♂️']\n",
            "['i', 'know', 'sum', 'bitch', 'made', 'ass', 'niggas', 'man', '🤦', '🏾', '\\u200d', '♂️', '🤦', '🏾', '\\u200d', '♂️', '🤦', '🏾', '\\u200d', '♂️']\n",
            "{'bitch': 'bitch'}\n"
          ]
        },
        {
          "output_type": "stream",
          "name": "stderr",
          "text": [
            " 55%|█████▍    | 1051/1924 [3:31:45<2:19:17,  9.57s/it]"
          ]
        },
        {
          "output_type": "stream",
          "name": "stdout",
          "text": [
            "['nigger', 'nigga', 'mud shark', 'chink', 'gook', 'spic', 'wetback', 'kike', 'sand nigger', 'towelhead', 'beaner', 'cracker', 'honky', 'jungle bunny', 'redskin', 'bitch', 'slut', 'whore', 'cunt', 'feminazi', 'dyke', 'tranny', 'she-male', 'gold digger', 'skank', 'faggot', 'fag', 'homo', 'queer', 'carpet muncher', 'pillow biter', 'fudge packer', 'lesbo', 'Christ killer', 'jihadist', 'infidel', 'kike', 'raghead', 'heathen', 'pagan', 'Bible basher', 'papist', 'kaffir', 'retard', 'cripple', 'spaz', 'mongoloid', 'psycho', 'nutjob', 'lame', 'vegetable', 'deaf-mute', 'imbecile', 'yank', 'brit', 'kraut', 'jap', 'commie', 'ruski', 'paki', 'wop', 'dago', 'polack', 'fatty', 'lardass', 'twig', 'beanpole', 'ugly', 'four-eyes', 'baldie', 'geek', 'nerd', 'pimple-face']\n",
            "['<number>', 'year', 'old', 'black', 'man', 'charged', 'with', 'raping', 'a', '<number>', 'year', 'old', 'child', 'in', 'al', 'it', 'no', 'secret', 'why', 'the', 'black', 'man', 'loves', 'islam', 'because', 'that', 'moo', 'haamed', 'guy', 'tells', 'me', 'i', 'gots', 'to', 'gets', 'me', 'a', '<number>', 'year', 'old', 'maga', '<user>', '<user>']\n",
            "['<number>', 'yer', 'old', 'bLaCk', 'man', 'charged', 'WitH', 'raping', 'a', '<number>', 'year', 'old', 'child', 'in', 'al', 'it', 'no', 'secret', 'why', 'the', 'BLCK', 'man', 'loves', 'islam', 'because', 'that', 'moo', 'haamed', 'guy', 'TeLlS', 'me', 'i', 'gots', 'to', 'gets', 'me', 'a', '<number>', 'year', 'OLD', 'MAGAA', '<user>', '<user>']\n",
            "{'charged': 'charged', 'black': 'bLaCk', 'tells': 'TeLlS', 'old': 'OLD', 'year': 'yer', 'maga': 'MAGAA', 'with': 'WitH'}\n"
          ]
        },
        {
          "output_type": "stream",
          "name": "stderr",
          "text": [
            " 55%|█████▍    | 1056/1924 [3:33:22<4:44:59, 19.70s/it]"
          ]
        },
        {
          "output_type": "stream",
          "name": "stdout",
          "text": [
            "['nigger', 'nigga', 'mud shark', 'chink', 'gook', 'spic', 'wetback', 'kike', 'sand nigger', 'towelhead', 'beaner', 'cracker', 'honky', 'jungle bunny', 'redskin', 'bitch', 'slut', 'whore', 'cunt', 'feminazi', 'dyke', 'tranny', 'she-male', 'gold digger', 'skank', 'faggot', 'fag', 'homo', 'queer', 'carpet muncher', 'pillow biter', 'fudge packer', 'lesbo', 'Christ killer', 'jihadist', 'infidel', 'kike', 'raghead', 'heathen', 'pagan', 'Bible basher', 'papist', 'kaffir', 'retard', 'cripple', 'spaz', 'mongoloid', 'psycho', 'nutjob', 'lame', 'vegetable', 'deaf-mute', 'imbecile', 'yank', 'brit', 'kraut', 'jap', 'commie', 'ruski', 'paki', 'wop', 'dago', 'polack', 'fatty', 'lardass', 'twig', 'beanpole', 'ugly', 'four-eyes', 'baldie', 'geek', 'nerd', 'pimple-face']\n",
            "['in', 'all', 'of', 'us', 'there', 'lies', 'two', 'wolves', 'a', 'dark', 'wolf', 'and', 'a', 'white', 'wolf', 'the', 'native', 'american', 'says', 'the', 'one', 'you', 'feed', 'is', 'the', 'one', 'that', 'grows', 'odin', 'says', 'feed', 'them', 'both', 'grow', 'them', 'strong', 'and', 'unleash', 'the', 'one', 'that', 'suits', 'the', 'situation']\n",
            "['in', 'all', 'of', 'us', 'theRe', 'lies', 'two', 'wolves', 'a', 'dark', 'wolf', 'and', 'a', 'white', 'wolf', 'the', 'native', 'american', 'says', 'thye', 'one', 'YOUUUUU', 'feed', 'is', 'the', 'oNE', 'thaTT', 'grows', 'odin', 'says', 'feed', 'themMmm', 'both', 'grow', 'thêm', 'strong', 'and', 'unleash', 'the', 'one', 'that', 'suits', 'the', 'situation']\n",
            "{'you': 'YOUUUUU', 'that': 'thaTT', 'them': 'thêm', 'unleash': 'unleash', 'one': 'oNE', 'there': 'theRe', 'the': 'thye', 'wolf': 'wolf'}\n"
          ]
        },
        {
          "output_type": "stream",
          "name": "stderr",
          "text": [
            " 55%|█████▌    | 1060/1924 [3:33:56<2:26:29, 10.17s/it]"
          ]
        },
        {
          "output_type": "stream",
          "name": "stdout",
          "text": [
            "['nigger', 'nigga', 'mud shark', 'chink', 'gook', 'spic', 'wetback', 'kike', 'sand nigger', 'towelhead', 'beaner', 'cracker', 'honky', 'jungle bunny', 'redskin', 'bitch', 'slut', 'whore', 'cunt', 'feminazi', 'dyke', 'tranny', 'she-male', 'gold digger', 'skank', 'faggot', 'fag', 'homo', 'queer', 'carpet muncher', 'pillow biter', 'fudge packer', 'lesbo', 'Christ killer', 'jihadist', 'infidel', 'kike', 'raghead', 'heathen', 'pagan', 'Bible basher', 'papist', 'kaffir', 'retard', 'cripple', 'spaz', 'mongoloid', 'psycho', 'nutjob', 'lame', 'vegetable', 'deaf-mute', 'imbecile', 'yank', 'brit', 'kraut', 'jap', 'commie', 'ruski', 'paki', 'wop', 'dago', 'polack', 'fatty', 'lardass', 'twig', 'beanpole', 'ugly', 'four-eyes', 'baldie', 'geek', 'nerd', 'pimple-face']\n",
            "['i', 'm', 'glad', 'ds', 'is', 'back', 'on', 'dailystormer', 'top', 'and', 'no', 'kike', 'will', 'ever', 'hold', 'our', 'movement', 'down']\n",
            "['i', 'm', 'glad', 'ds', 'is', 'back', 'on', 'dailystormer', 'top', 'and', 'no', 'kike', 'will', 'ever', 'hold', 'our', 'movement', 'down']\n",
            "{'kike': 'kike'}\n"
          ]
        },
        {
          "output_type": "stream",
          "name": "stderr",
          "text": [
            " 55%|█████▌    | 1066/1924 [3:34:36<2:08:49,  9.01s/it]"
          ]
        },
        {
          "output_type": "stream",
          "name": "stdout",
          "text": [
            "['nigger', 'nigga', 'mud shark', 'chink', 'gook', 'spic', 'wetback', 'kike', 'sand nigger', 'towelhead', 'beaner', 'cracker', 'honky', 'jungle bunny', 'redskin', 'bitch', 'slut', 'whore', 'cunt', 'feminazi', 'dyke', 'tranny', 'she-male', 'gold digger', 'skank', 'faggot', 'fag', 'homo', 'queer', 'carpet muncher', 'pillow biter', 'fudge packer', 'lesbo', 'Christ killer', 'jihadist', 'infidel', 'kike', 'raghead', 'heathen', 'pagan', 'Bible basher', 'papist', 'kaffir', 'retard', 'cripple', 'spaz', 'mongoloid', 'psycho', 'nutjob', 'lame', 'vegetable', 'deaf-mute', 'imbecile', 'yank', 'brit', 'kraut', 'jap', 'commie', 'ruski', 'paki', 'wop', 'dago', 'polack', 'fatty', 'lardass', 'twig', 'beanpole', 'ugly', 'four-eyes', 'baldie', 'geek', 'nerd', 'pimple-face']\n",
            "['i', 'am', 'a', 'retarded', 'fucking', 'jew']\n",
            "['i', 'am', 'a', 'retarded', 'FUCCKKKING', 'jew']\n",
            "{'fucking': 'FUCCKKKING'}\n"
          ]
        },
        {
          "output_type": "stream",
          "name": "stderr",
          "text": [
            " 56%|█████▌    | 1071/1924 [3:35:17<1:51:53,  7.87s/it]"
          ]
        },
        {
          "output_type": "stream",
          "name": "stdout",
          "text": [
            "['nigger', 'nigga', 'mud shark', 'chink', 'gook', 'spic', 'wetback', 'kike', 'sand nigger', 'towelhead', 'beaner', 'cracker', 'honky', 'jungle bunny', 'redskin', 'bitch', 'slut', 'whore', 'cunt', 'feminazi', 'dyke', 'tranny', 'she-male', 'gold digger', 'skank', 'faggot', 'fag', 'homo', 'queer', 'carpet muncher', 'pillow biter', 'fudge packer', 'lesbo', 'Christ killer', 'jihadist', 'infidel', 'kike', 'raghead', 'heathen', 'pagan', 'Bible basher', 'papist', 'kaffir', 'retard', 'cripple', 'spaz', 'mongoloid', 'psycho', 'nutjob', 'lame', 'vegetable', 'deaf-mute', 'imbecile', 'yank', 'brit', 'kraut', 'jap', 'commie', 'ruski', 'paki', 'wop', 'dago', 'polack', 'fatty', 'lardass', 'twig', 'beanpole', 'ugly', 'four-eyes', 'baldie', 'geek', 'nerd', 'pimple-face']\n",
            "['i', 'hate', 'that', 'wailing', 'muzrat', 'shit']\n",
            "['i', 'Hatte', 'that', 'Wailing', 'muzrat', 'shit']\n",
            "{'hate': 'Hatte', 'wailing': 'Wailing'}\n"
          ]
        },
        {
          "output_type": "stream",
          "name": "stderr",
          "text": [
            " 56%|█████▌    | 1076/1924 [3:36:43<3:06:22, 13.19s/it]"
          ]
        },
        {
          "output_type": "stream",
          "name": "stdout",
          "text": [
            "['nigger', 'nigga', 'mud shark', 'chink', 'gook', 'spic', 'wetback', 'kike', 'sand nigger', 'towelhead', 'beaner', 'cracker', 'honky', 'jungle bunny', 'redskin', 'bitch', 'slut', 'whore', 'cunt', 'feminazi', 'dyke', 'tranny', 'she-male', 'gold digger', 'skank', 'faggot', 'fag', 'homo', 'queer', 'carpet muncher', 'pillow biter', 'fudge packer', 'lesbo', 'Christ killer', 'jihadist', 'infidel', 'kike', 'raghead', 'heathen', 'pagan', 'Bible basher', 'papist', 'kaffir', 'retard', 'cripple', 'spaz', 'mongoloid', 'psycho', 'nutjob', 'lame', 'vegetable', 'deaf-mute', 'imbecile', 'yank', 'brit', 'kraut', 'jap', 'commie', 'ruski', 'paki', 'wop', 'dago', 'polack', 'fatty', 'lardass', 'twig', 'beanpole', 'ugly', 'four-eyes', 'baldie', 'geek', 'nerd', 'pimple-face']\n",
            "['developers', 'buying', 'houses', 'and', 'dwelling', 'buildings', 'and', 'leaving', 'them', 'unoccupied', 'to', 'make', 'the', 'neighborhood', 'appear', 'abandoned', '–', 'like', 'a', 'ghetto', 'or', 'a', 'slum', 'such', 'practices', 'can', 'be', 'described', 'as', 'psychological', 'manipulation', 'that', 'usually', 'frightened', 'the', 'remaining', 'white', 'residents', 'into', 'selling', 'at', 'a', 'loss']\n",
            "['developers', 'Buying', 'HOUSES', 'and', 'dwelling', 'buildings', 'and', 'leaving', 'them', 'unoccupied', 'to', 'make', 'the', 'NEIGHBORHOOD', 'appear', 'abandoned', '–', 'liiiiike', 'a', 'ghetto', 'or', 'a', 'slum', 'such', 'practices', 'can', 'be', 'DESCRIBED', 'as', 'psychological', 'manipulation', 'that', 'usually', 'frightened', 'the', 'remaining', 'white', 'Residents', 'into', 'Selling', 'at', 'a', 'loss']\n",
            "{'neighborhood': 'NEIGHBORHOOD', 'described': 'DESCRIBED', 'selling': 'Selling', 'like': 'liiiiike', 'residents': 'Residents', 'buying': 'Buying', 'frightened': 'frightened', 'houses': 'HOUSES'}\n"
          ]
        },
        {
          "output_type": "stream",
          "name": "stderr",
          "text": [
            " 56%|█████▌    | 1081/1924 [3:37:58<4:10:47, 17.85s/it]"
          ]
        },
        {
          "output_type": "stream",
          "name": "stdout",
          "text": [
            "['nigger', 'nigga', 'mud shark', 'chink', 'gook', 'spic', 'wetback', 'kike', 'sand nigger', 'towelhead', 'beaner', 'cracker', 'honky', 'jungle bunny', 'redskin', 'bitch', 'slut', 'whore', 'cunt', 'feminazi', 'dyke', 'tranny', 'she-male', 'gold digger', 'skank', 'faggot', 'fag', 'homo', 'queer', 'carpet muncher', 'pillow biter', 'fudge packer', 'lesbo', 'Christ killer', 'jihadist', 'infidel', 'kike', 'raghead', 'heathen', 'pagan', 'Bible basher', 'papist', 'kaffir', 'retard', 'cripple', 'spaz', 'mongoloid', 'psycho', 'nutjob', 'lame', 'vegetable', 'deaf-mute', 'imbecile', 'yank', 'brit', 'kraut', 'jap', 'commie', 'ruski', 'paki', 'wop', 'dago', 'polack', 'fatty', 'lardass', 'twig', 'beanpole', 'ugly', 'four-eyes', 'baldie', 'geek', 'nerd', 'pimple-face']\n",
            "['they', 'never', 'fighting', 'outside', 'my', 'apartment', 'wow', 'the', 'fucking', 'ghetto']\n",
            "['they', 'never', 'fighting', 'Outside', 'my', 'apartment', 'wowwwww', 'the', 'fucking', 'ghetto']\n",
            "{'outside': 'Outside', 'wow': 'wowwwww'}\n"
          ]
        },
        {
          "output_type": "stream",
          "name": "stderr",
          "text": [
            " 56%|█████▋    | 1086/1924 [3:39:15<3:31:15, 15.13s/it]"
          ]
        },
        {
          "output_type": "stream",
          "name": "stdout",
          "text": [
            "['nigger', 'nigga', 'mud shark', 'chink', 'gook', 'spic', 'wetback', 'kike', 'sand nigger', 'towelhead', 'beaner', 'cracker', 'honky', 'jungle bunny', 'redskin', 'bitch', 'slut', 'whore', 'cunt', 'feminazi', 'dyke', 'tranny', 'she-male', 'gold digger', 'skank', 'faggot', 'fag', 'homo', 'queer', 'carpet muncher', 'pillow biter', 'fudge packer', 'lesbo', 'Christ killer', 'jihadist', 'infidel', 'kike', 'raghead', 'heathen', 'pagan', 'Bible basher', 'papist', 'kaffir', 'retard', 'cripple', 'spaz', 'mongoloid', 'psycho', 'nutjob', 'lame', 'vegetable', 'deaf-mute', 'imbecile', 'yank', 'brit', 'kraut', 'jap', 'commie', 'ruski', 'paki', 'wop', 'dago', 'polack', 'fatty', 'lardass', 'twig', 'beanpole', 'ugly', 'four-eyes', 'baldie', 'geek', 'nerd', 'pimple-face']\n",
            "['as', 'the', 'zionist', 'controlled', 'tech', 'industry', 'marginalises', 'the', 'voice', 'of', 'white', 'interests', 'i', 'have', 'applied', 'for', 'refugee', 'status', 'at', 'gab', 'first', 'they', 'came', 'for', 'dailystormer', 'then', 'they', 'came', 'for', 'stormfront', 'next', 'they', 'came', 'for', 'cuckservatives', 'moral', 'is', 'stop', 'punching', 'right', 'as', 'you', 'will', 'be', 'next']\n",
            "['as', 'the', 'zionist', 'CONTROLLED', 'Teech', 'industry', 'marginalises', 'the', 'voice', 'of', 'white', 'INTERESTS', 'i', 'have', 'applied', 'for', 'refugee', 'status', 'at', 'gab', 'FiRsT', 'they', 'came', 'for', 'dailystormer', 'then', 'they', 'came', 'for', 'stormfront', 'next', 'they', 'camiye', 'FOOR', 'cuckservatives', 'moral', 'is', 'stop', 'punchng', 'right', 'as', 'yOU', 'will', 'be', 'next']\n",
            "{'first': 'FiRsT', 'controlled': 'CONTROLLED', 'came': 'camiye', 'for': 'FOOR', 'interests': 'INTERESTS', 'punching': 'punchng', 'tech': 'Teech', 'you': 'yOU'}\n"
          ]
        },
        {
          "output_type": "stream",
          "name": "stderr",
          "text": [
            " 57%|█████▋    | 1090/1924 [3:40:00<2:53:07, 12.46s/it]"
          ]
        },
        {
          "output_type": "stream",
          "name": "stdout",
          "text": [
            "['nigger', 'nigga', 'mud shark', 'chink', 'gook', 'spic', 'wetback', 'kike', 'sand nigger', 'towelhead', 'beaner', 'cracker', 'honky', 'jungle bunny', 'redskin', 'bitch', 'slut', 'whore', 'cunt', 'feminazi', 'dyke', 'tranny', 'she-male', 'gold digger', 'skank', 'faggot', 'fag', 'homo', 'queer', 'carpet muncher', 'pillow biter', 'fudge packer', 'lesbo', 'Christ killer', 'jihadist', 'infidel', 'kike', 'raghead', 'heathen', 'pagan', 'Bible basher', 'papist', 'kaffir', 'retard', 'cripple', 'spaz', 'mongoloid', 'psycho', 'nutjob', 'lame', 'vegetable', 'deaf-mute', 'imbecile', 'yank', 'brit', 'kraut', 'jap', 'commie', 'ruski', 'paki', 'wop', 'dago', 'polack', 'fatty', 'lardass', 'twig', 'beanpole', 'ugly', 'four-eyes', 'baldie', 'geek', 'nerd', 'pimple-face']\n",
            "['tfw', 'how', 'the', 'daily', 'stormer', 'protects', 'a', 'spic', 'like', 'he', 'some', 'kind', 'of', 'god']\n",
            "['tfw', 'how', 'the', 'daily', 'stormer', 'protects', 'a', 'SPIC', 'like', 'he', 'some', 'kind', 'of', 'god']\n",
            "{'spic': 'SPIC'}\n"
          ]
        },
        {
          "output_type": "stream",
          "name": "stderr",
          "text": [
            " 57%|█████▋    | 1096/1924 [3:41:34<4:22:06, 18.99s/it]"
          ]
        },
        {
          "output_type": "stream",
          "name": "stdout",
          "text": [
            "['nigger', 'nigga', 'mud shark', 'chink', 'gook', 'spic', 'wetback', 'kike', 'sand nigger', 'towelhead', 'beaner', 'cracker', 'honky', 'jungle bunny', 'redskin', 'bitch', 'slut', 'whore', 'cunt', 'feminazi', 'dyke', 'tranny', 'she-male', 'gold digger', 'skank', 'faggot', 'fag', 'homo', 'queer', 'carpet muncher', 'pillow biter', 'fudge packer', 'lesbo', 'Christ killer', 'jihadist', 'infidel', 'kike', 'raghead', 'heathen', 'pagan', 'Bible basher', 'papist', 'kaffir', 'retard', 'cripple', 'spaz', 'mongoloid', 'psycho', 'nutjob', 'lame', 'vegetable', 'deaf-mute', 'imbecile', 'yank', 'brit', 'kraut', 'jap', 'commie', 'ruski', 'paki', 'wop', 'dago', 'polack', 'fatty', 'lardass', 'twig', 'beanpole', 'ugly', 'four-eyes', 'baldie', 'geek', 'nerd', 'pimple-face']\n",
            "['remember', 'when', 'subscribing', 'to', 'a', 'youtube', 'channel', 'meant', 'you', 'got', 'their', 'videos', 'in', 'your', 'sub', 'feed', 'now', 'you', 'have', 'to', 'click', 'this', 'retarded', 'bell', 'or', 'else', 'youtube', 'will', 'curate', 'videos', 'out', 'of', 'your', 'sub', 'feed', 'without', 'your', 'permission']\n",
            "['remember', 'Whn', 'subscribing', 'to', 'a', 'youtube', 'channel', 'meant', 'you', 'got', 'their', 'videos', 'in', 'your', 'sub', 'FeEd', 'now', 'you', 'have', 'to', 'CLick', 'THIES', 'retarded', 'bell', 'or', 'ELsE', 'youtube', 'will', 'curate', 'videos', 'out', 'of', 'your', 'sub', 'FEED', 'without', 'your', 'permission']\n",
            "{'feed': 'FEED', 'you': 'you', 'this': 'THIES', 'else': 'ELsE', 'click': 'CLick', 'when': 'Whn'}\n"
          ]
        },
        {
          "output_type": "stream",
          "name": "stderr",
          "text": [
            " 57%|█████▋    | 1100/1924 [3:42:26<2:58:47, 13.02s/it]"
          ]
        },
        {
          "output_type": "stream",
          "name": "stdout",
          "text": [
            "['nigger', 'nigga', 'mud shark', 'chink', 'gook', 'spic', 'wetback', 'kike', 'sand nigger', 'towelhead', 'beaner', 'cracker', 'honky', 'jungle bunny', 'redskin', 'bitch', 'slut', 'whore', 'cunt', 'feminazi', 'dyke', 'tranny', 'she-male', 'gold digger', 'skank', 'faggot', 'fag', 'homo', 'queer', 'carpet muncher', 'pillow biter', 'fudge packer', 'lesbo', 'Christ killer', 'jihadist', 'infidel', 'kike', 'raghead', 'heathen', 'pagan', 'Bible basher', 'papist', 'kaffir', 'retard', 'cripple', 'spaz', 'mongoloid', 'psycho', 'nutjob', 'lame', 'vegetable', 'deaf-mute', 'imbecile', 'yank', 'brit', 'kraut', 'jap', 'commie', 'ruski', 'paki', 'wop', 'dago', 'polack', 'fatty', 'lardass', 'twig', 'beanpole', 'ugly', 'four-eyes', 'baldie', 'geek', 'nerd', 'pimple-face']\n",
            "['you', 'promote', 'articles', 'by', 'fat', 'dyke', 'pipe', 'fitters', 'that', 'a', 'fantasy']\n",
            "['you', 'promote', 'articles', 'by', 'fat', 'Dyke', 'pipe', 'fitters', 'that', 'a', 'fantasy']\n",
            "{'dyke': 'Dyke'}\n"
          ]
        },
        {
          "output_type": "stream",
          "name": "stderr",
          "text": [
            " 57%|█████▋    | 1106/1924 [3:42:56<1:34:07,  6.90s/it]"
          ]
        },
        {
          "output_type": "stream",
          "name": "stdout",
          "text": [
            "['nigger', 'nigga', 'mud shark', 'chink', 'gook', 'spic', 'wetback', 'kike', 'sand nigger', 'towelhead', 'beaner', 'cracker', 'honky', 'jungle bunny', 'redskin', 'bitch', 'slut', 'whore', 'cunt', 'feminazi', 'dyke', 'tranny', 'she-male', 'gold digger', 'skank', 'faggot', 'fag', 'homo', 'queer', 'carpet muncher', 'pillow biter', 'fudge packer', 'lesbo', 'Christ killer', 'jihadist', 'infidel', 'kike', 'raghead', 'heathen', 'pagan', 'Bible basher', 'papist', 'kaffir', 'retard', 'cripple', 'spaz', 'mongoloid', 'psycho', 'nutjob', 'lame', 'vegetable', 'deaf-mute', 'imbecile', 'yank', 'brit', 'kraut', 'jap', 'commie', 'ruski', 'paki', 'wop', 'dago', 'polack', 'fatty', 'lardass', 'twig', 'beanpole', 'ugly', 'four-eyes', 'baldie', 'geek', 'nerd', 'pimple-face']\n",
            "['spread', 'you', 'bitches', 'like', 'a', 'butter', 'knife']\n",
            "['spread', 'you', 'BITCHESSS', 'like', 'a', 'BUTTER', 'knife']\n",
            "{'bitches': 'BITCHESSS', 'butter': 'BUTTER'}\n"
          ]
        },
        {
          "output_type": "stream",
          "name": "stderr",
          "text": [
            " 58%|█████▊    | 1111/1924 [3:43:42<2:31:12, 11.16s/it]"
          ]
        },
        {
          "output_type": "stream",
          "name": "stdout",
          "text": [
            "['nigger', 'nigga', 'mud shark', 'chink', 'gook', 'spic', 'wetback', 'kike', 'sand nigger', 'towelhead', 'beaner', 'cracker', 'honky', 'jungle bunny', 'redskin', 'bitch', 'slut', 'whore', 'cunt', 'feminazi', 'dyke', 'tranny', 'she-male', 'gold digger', 'skank', 'faggot', 'fag', 'homo', 'queer', 'carpet muncher', 'pillow biter', 'fudge packer', 'lesbo', 'Christ killer', 'jihadist', 'infidel', 'kike', 'raghead', 'heathen', 'pagan', 'Bible basher', 'papist', 'kaffir', 'retard', 'cripple', 'spaz', 'mongoloid', 'psycho', 'nutjob', 'lame', 'vegetable', 'deaf-mute', 'imbecile', 'yank', 'brit', 'kraut', 'jap', 'commie', 'ruski', 'paki', 'wop', 'dago', 'polack', 'fatty', 'lardass', 'twig', 'beanpole', 'ugly', 'four-eyes', 'baldie', 'geek', 'nerd', 'pimple-face']\n",
            "['ion', 'wanna', 'hear', 'no', 'more', 'stripper', 'slander', 'now', 'you', 'all', 'see', 'why', 'we', 'still', 'in', 'business', '💀', '😂', '😂', 'niggas', 'be', 'overly', 'horny', 'and', 'green', 'easiest', 'ones', 'to', 'dictate']\n",
            "['ion', 'wanna', 'hear', 'no', 'more', 'stripper', 'SLANDER', 'now', 'you', 'all', 'Seeeee', 'why', 'we', 'still', 'in', 'business', '💀', '😂', '😂', 'nigas', 'be', 'overly', 'horny', 'and', 'greeeeeen', 'easiest', 'ones', 'to', 'dictate']\n",
            "{'green': 'greeeeeen', 'see': 'Seeeee', 'slander': 'SLANDER', 'niggas': 'nigas'}\n"
          ]
        },
        {
          "output_type": "stream",
          "name": "stderr",
          "text": [
            " 58%|█████▊    | 1115/1924 [3:44:57<3:59:41, 17.78s/it]"
          ]
        },
        {
          "output_type": "stream",
          "name": "stdout",
          "text": [
            "['nigger', 'nigga', 'mud shark', 'chink', 'gook', 'spic', 'wetback', 'kike', 'sand nigger', 'towelhead', 'beaner', 'cracker', 'honky', 'jungle bunny', 'redskin', 'bitch', 'slut', 'whore', 'cunt', 'feminazi', 'dyke', 'tranny', 'she-male', 'gold digger', 'skank', 'faggot', 'fag', 'homo', 'queer', 'carpet muncher', 'pillow biter', 'fudge packer', 'lesbo', 'Christ killer', 'jihadist', 'infidel', 'kike', 'raghead', 'heathen', 'pagan', 'Bible basher', 'papist', 'kaffir', 'retard', 'cripple', 'spaz', 'mongoloid', 'psycho', 'nutjob', 'lame', 'vegetable', 'deaf-mute', 'imbecile', 'yank', 'brit', 'kraut', 'jap', 'commie', 'ruski', 'paki', 'wop', 'dago', 'polack', 'fatty', 'lardass', 'twig', 'beanpole', 'ugly', 'four-eyes', 'baldie', 'geek', 'nerd', 'pimple-face']\n",
            "['i', 'really', 'think', 'airpods', 'are', 'overrated', 'tried', 'some', 'and', 'there', 'was', 'no', 'bass', 'in', 'them', 'hoes', '💀']\n",
            "['i', 'really', 'think', 'airpods', 'are', 'Overrated', 'tried', 'some', 'and', 'there', 'waS', 'no', 'bass', 'in', 'them', 'hoes', '💀']\n",
            "{'overrated': 'Overrated', 'was': 'waS'}\n"
          ]
        },
        {
          "output_type": "stream",
          "name": "stderr",
          "text": [
            " 58%|█████▊    | 1120/1924 [3:46:01<3:13:28, 14.44s/it]"
          ]
        },
        {
          "output_type": "stream",
          "name": "stdout",
          "text": [
            "['nigger', 'nigga', 'mud shark', 'chink', 'gook', 'spic', 'wetback', 'kike', 'sand nigger', 'towelhead', 'beaner', 'cracker', 'honky', 'jungle bunny', 'redskin', 'bitch', 'slut', 'whore', 'cunt', 'feminazi', 'dyke', 'tranny', 'she-male', 'gold digger', 'skank', 'faggot', 'fag', 'homo', 'queer', 'carpet muncher', 'pillow biter', 'fudge packer', 'lesbo', 'Christ killer', 'jihadist', 'infidel', 'kike', 'raghead', 'heathen', 'pagan', 'Bible basher', 'papist', 'kaffir', 'retard', 'cripple', 'spaz', 'mongoloid', 'psycho', 'nutjob', 'lame', 'vegetable', 'deaf-mute', 'imbecile', 'yank', 'brit', 'kraut', 'jap', 'commie', 'ruski', 'paki', 'wop', 'dago', 'polack', 'fatty', 'lardass', 'twig', 'beanpole', 'ugly', 'four-eyes', 'baldie', 'geek', 'nerd', 'pimple-face']\n",
            "['hating', 'beaners', 'is', 'so', 'easy']\n",
            "['hating', 'Beaners', 'is', 'so', 'easy']\n",
            "{'beaners': 'Beaners'}\n"
          ]
        },
        {
          "output_type": "stream",
          "name": "stderr",
          "text": [
            " 59%|█████▊    | 1126/1924 [3:48:21<6:12:52, 28.04s/it]"
          ]
        },
        {
          "output_type": "stream",
          "name": "stdout",
          "text": [
            "['nigger', 'nigga', 'mud shark', 'chink', 'gook', 'spic', 'wetback', 'kike', 'sand nigger', 'towelhead', 'beaner', 'cracker', 'honky', 'jungle bunny', 'redskin', 'bitch', 'slut', 'whore', 'cunt', 'feminazi', 'dyke', 'tranny', 'she-male', 'gold digger', 'skank', 'faggot', 'fag', 'homo', 'queer', 'carpet muncher', 'pillow biter', 'fudge packer', 'lesbo', 'Christ killer', 'jihadist', 'infidel', 'kike', 'raghead', 'heathen', 'pagan', 'Bible basher', 'papist', 'kaffir', 'retard', 'cripple', 'spaz', 'mongoloid', 'psycho', 'nutjob', 'lame', 'vegetable', 'deaf-mute', 'imbecile', 'yank', 'brit', 'kraut', 'jap', 'commie', 'ruski', 'paki', 'wop', 'dago', 'polack', 'fatty', 'lardass', 'twig', 'beanpole', 'ugly', 'four-eyes', 'baldie', 'geek', 'nerd', 'pimple-face']\n",
            "['<user>', 'hey', 'joo', 'phebus', 'you', 'have', 'still', 'never', 'explained', 'your', 'ties', 'to', 'jew', 'lawyers', 'and', 'liberal', 'actvists', 'like', 'diversity', 'law', 'group', 'all', 'you', 'had', 'to', 'do', 'is', 'explain', 'but', 'you', 'refuse', 'but', 'you', 'demand', 'others', 'explain', 'things', 'to', 'you', 'you', 'are', 'such', 'a', 'textbook', 'heeb', 'operative', 'just', 'poorly', 'trained']\n",
            "['<user>', 'hey', 'joo', 'phebus', 'you', 'have', 'still', 'never', 'explained', 'your', 'ties', 'to', 'jew', 'lawyers', 'and', 'liberal', 'Actvists', 'like', 'diversity', 'law', 'group', 'all', 'you', 'had', 'to', 'do', 'is', 'eXpLaiN', 'but', 'you', 'refuse', 'but', 'YOUU', 'dEmAnD', 'oThErs', 'explain', 'things', 'to', 'Youu', 'you', 'are', 'such', 'a', 'textbook', 'heeb', 'operative', 'just', 'poorly', 'trained']\n",
            "{'you': 'Youu', 'actvists': 'Actvists', 'demand': 'dEmAnD', 'others': 'oThErs', 'explain': 'eXpLaiN'}\n"
          ]
        },
        {
          "output_type": "stream",
          "name": "stderr",
          "text": [
            " 59%|█████▉    | 1131/1924 [3:49:37<5:00:12, 22.71s/it]"
          ]
        },
        {
          "output_type": "stream",
          "name": "stdout",
          "text": [
            "['nigger', 'nigga', 'mud shark', 'chink', 'gook', 'spic', 'wetback', 'kike', 'sand nigger', 'towelhead', 'beaner', 'cracker', 'honky', 'jungle bunny', 'redskin', 'bitch', 'slut', 'whore', 'cunt', 'feminazi', 'dyke', 'tranny', 'she-male', 'gold digger', 'skank', 'faggot', 'fag', 'homo', 'queer', 'carpet muncher', 'pillow biter', 'fudge packer', 'lesbo', 'Christ killer', 'jihadist', 'infidel', 'kike', 'raghead', 'heathen', 'pagan', 'Bible basher', 'papist', 'kaffir', 'retard', 'cripple', 'spaz', 'mongoloid', 'psycho', 'nutjob', 'lame', 'vegetable', 'deaf-mute', 'imbecile', 'yank', 'brit', 'kraut', 'jap', 'commie', 'ruski', 'paki', 'wop', 'dago', 'polack', 'fatty', 'lardass', 'twig', 'beanpole', 'ugly', 'four-eyes', 'baldie', 'geek', 'nerd', 'pimple-face']\n",
            "['<user>', '<user>', '<user>', '<user>', '<user>', 'iraqi', 'refugees', 'were', 'forced', 'to', 'flee', 'and', 'started', 'waiting', 'for', 'resettlment', 'since', '<number>', 'till', 'now', 'is', 'it', 'time', 'to', 'be', 'fair', 'is', 'it', 'time', 'for', 'equality', 'is', 'it', 'time', 'to', 'componsate', 'them', 'the', 'waste', 'years', 'that', 'lost', 'in', 'waiting', 'they', 'lost', 'everything', 'stand', 'with', 'iraqi', 'refugees']\n",
            "['<user>', '<user>', '<user>', '<user>', '<user>', 'iraqi', 'refugees', 'were', 'forced', 'to', 'flee', 'and', 'started', 'waiting', 'FORRR', 'resettlment', 'since', '<number>', 'till', 'now', 'is', 'it', 'time', 'to', 'be', 'fair', 'is', 'it', 'time', 'FOr', 'equality', 'is', 'it', 'time', 'to', 'componsate', 'them', 'the', 'waste', 'yeras', 'that', 'lost', 'in', 'waiting', 'they', 'lost', 'everythinng', 'STAND', 'with', 'iraqi', 'refugees']\n",
            "{'for': 'FOr', 'stand': 'STAND', 'forced': 'forced', 'flee': 'flee', 'lost': 'lost', 'everything': 'everythinng', 'years': 'yeras', 'iraqi': 'iraqi'}\n"
          ]
        },
        {
          "output_type": "stream",
          "name": "stderr",
          "text": [
            " 59%|█████▉    | 1136/1924 [3:50:02<1:30:15,  6.87s/it]"
          ]
        },
        {
          "output_type": "stream",
          "name": "stdout",
          "text": [
            "['nigger', 'nigga', 'mud shark', 'chink', 'gook', 'spic', 'wetback', 'kike', 'sand nigger', 'towelhead', 'beaner', 'cracker', 'honky', 'jungle bunny', 'redskin', 'bitch', 'slut', 'whore', 'cunt', 'feminazi', 'dyke', 'tranny', 'she-male', 'gold digger', 'skank', 'faggot', 'fag', 'homo', 'queer', 'carpet muncher', 'pillow biter', 'fudge packer', 'lesbo', 'Christ killer', 'jihadist', 'infidel', 'kike', 'raghead', 'heathen', 'pagan', 'Bible basher', 'papist', 'kaffir', 'retard', 'cripple', 'spaz', 'mongoloid', 'psycho', 'nutjob', 'lame', 'vegetable', 'deaf-mute', 'imbecile', 'yank', 'brit', 'kraut', 'jap', 'commie', 'ruski', 'paki', 'wop', 'dago', 'polack', 'fatty', 'lardass', 'twig', 'beanpole', 'ugly', 'four-eyes', 'baldie', 'geek', 'nerd', 'pimple-face']\n",
            "['the', 'heeb', 'fears', 'the', 'muramasa']\n",
            "['the', 'heeb', 'fers', 'the', 'muramasa']\n",
            "{'fears': 'fers'}\n"
          ]
        },
        {
          "output_type": "stream",
          "name": "stderr",
          "text": [
            " 59%|█████▉    | 1141/1924 [3:50:17<49:55,  3.83s/it]  "
          ]
        },
        {
          "output_type": "stream",
          "name": "stdout",
          "text": [
            "['nigger', 'nigga', 'mud shark', 'chink', 'gook', 'spic', 'wetback', 'kike', 'sand nigger', 'towelhead', 'beaner', 'cracker', 'honky', 'jungle bunny', 'redskin', 'bitch', 'slut', 'whore', 'cunt', 'feminazi', 'dyke', 'tranny', 'she-male', 'gold digger', 'skank', 'faggot', 'fag', 'homo', 'queer', 'carpet muncher', 'pillow biter', 'fudge packer', 'lesbo', 'Christ killer', 'jihadist', 'infidel', 'kike', 'raghead', 'heathen', 'pagan', 'Bible basher', 'papist', 'kaffir', 'retard', 'cripple', 'spaz', 'mongoloid', 'psycho', 'nutjob', 'lame', 'vegetable', 'deaf-mute', 'imbecile', 'yank', 'brit', 'kraut', 'jap', 'commie', 'ruski', 'paki', 'wop', 'dago', 'polack', 'fatty', 'lardass', 'twig', 'beanpole', 'ugly', 'four-eyes', 'baldie', 'geek', 'nerd', 'pimple-face']\n",
            "['do', 'dykes', 'keep', 'their', 'nails', 'short']\n",
            "['do', 'dykes', 'Keep', 'their', 'nails', 'sh0rt']\n",
            "{'short': 'sh0rt', 'keep': 'Keep'}\n"
          ]
        },
        {
          "output_type": "stream",
          "name": "stderr",
          "text": [
            " 60%|█████▉    | 1146/1924 [3:51:39<4:14:59, 19.67s/it]"
          ]
        },
        {
          "output_type": "stream",
          "name": "stdout",
          "text": [
            "['nigger', 'nigga', 'mud shark', 'chink', 'gook', 'spic', 'wetback', 'kike', 'sand nigger', 'towelhead', 'beaner', 'cracker', 'honky', 'jungle bunny', 'redskin', 'bitch', 'slut', 'whore', 'cunt', 'feminazi', 'dyke', 'tranny', 'she-male', 'gold digger', 'skank', 'faggot', 'fag', 'homo', 'queer', 'carpet muncher', 'pillow biter', 'fudge packer', 'lesbo', 'Christ killer', 'jihadist', 'infidel', 'kike', 'raghead', 'heathen', 'pagan', 'Bible basher', 'papist', 'kaffir', 'retard', 'cripple', 'spaz', 'mongoloid', 'psycho', 'nutjob', 'lame', 'vegetable', 'deaf-mute', 'imbecile', 'yank', 'brit', 'kraut', 'jap', 'commie', 'ruski', 'paki', 'wop', 'dago', 'polack', 'fatty', 'lardass', 'twig', 'beanpole', 'ugly', 'four-eyes', 'baldie', 'geek', 'nerd', 'pimple-face']\n",
            "['you', 'are', 'obviously', 'stupid', 'so', 'you', 'would', 'not', 'understand', 'if', 'you', 'truly', 'believe', 'physical', 'force', 'is', 'justified', 'at', 'this', 'time', 'why', 'are', 'not', 'you', 'shooting', 'blacks', 'or', 'mexicans', 'in', 'the', 'ghetto', 'you', 'do', 'not', 'really', 'believe', 'in', 'what', 'you', 'are', 'saying', 'cuck']\n",
            "['you', 'arree', 'ObViOuSlY', 'stupid', 'so', 'you', 'Would', 'not', 'understand', 'if', 'Youuu', 'truly', 'believe', 'physical', 'force', 'is', 'justified', 'at', 'this', 'time', 'why', 'are', 'not', 'YOUUUU', 'shooting', 'blacks', 'or', 'MEXICANS', 'in', 'the', 'ghetto', 'you', 'do', 'not', 'really', 'believe', 'in', 'what', 'you', 'are', 'Sang', 'cuck']\n",
            "{'mexicans': 'MEXICANS', 'you': 'Youuu', 'would': 'Would', 'saying': 'Sang', 'are': 'arree', 'obviously': 'ObViOuSlY'}\n"
          ]
        },
        {
          "output_type": "stream",
          "name": "stderr",
          "text": [
            " 60%|█████▉    | 1151/1924 [3:52:06<1:35:19,  7.40s/it]"
          ]
        },
        {
          "output_type": "stream",
          "name": "stdout",
          "text": [
            "['nigger', 'nigga', 'mud shark', 'chink', 'gook', 'spic', 'wetback', 'kike', 'sand nigger', 'towelhead', 'beaner', 'cracker', 'honky', 'jungle bunny', 'redskin', 'bitch', 'slut', 'whore', 'cunt', 'feminazi', 'dyke', 'tranny', 'she-male', 'gold digger', 'skank', 'faggot', 'fag', 'homo', 'queer', 'carpet muncher', 'pillow biter', 'fudge packer', 'lesbo', 'Christ killer', 'jihadist', 'infidel', 'kike', 'raghead', 'heathen', 'pagan', 'Bible basher', 'papist', 'kaffir', 'retard', 'cripple', 'spaz', 'mongoloid', 'psycho', 'nutjob', 'lame', 'vegetable', 'deaf-mute', 'imbecile', 'yank', 'brit', 'kraut', 'jap', 'commie', 'ruski', 'paki', 'wop', 'dago', 'polack', 'fatty', 'lardass', 'twig', 'beanpole', 'ugly', 'four-eyes', 'baldie', 'geek', 'nerd', 'pimple-face']\n",
            "['using', 'gas', 'lighting', 'propaganda', 'for', 'you', 'horrible', 'white', 'southerners', 'meant', 'nothing', 'real']\n",
            "['using', 'GaS', 'lighting', 'propaganda', 'for', 'you', 'horrible', 'white', 'southerners', 'mEaNt', 'nothing', 'real']\n",
            "{'southerners': 'southerners', 'meant': 'mEaNt', 'gas': 'GaS'}\n"
          ]
        },
        {
          "output_type": "stream",
          "name": "stderr",
          "text": [
            " 60%|██████    | 1156/1924 [3:52:59<2:20:08, 10.95s/it]"
          ]
        },
        {
          "output_type": "stream",
          "name": "stdout",
          "text": [
            "['nigger', 'nigga', 'mud shark', 'chink', 'gook', 'spic', 'wetback', 'kike', 'sand nigger', 'towelhead', 'beaner', 'cracker', 'honky', 'jungle bunny', 'redskin', 'bitch', 'slut', 'whore', 'cunt', 'feminazi', 'dyke', 'tranny', 'she-male', 'gold digger', 'skank', 'faggot', 'fag', 'homo', 'queer', 'carpet muncher', 'pillow biter', 'fudge packer', 'lesbo', 'Christ killer', 'jihadist', 'infidel', 'kike', 'raghead', 'heathen', 'pagan', 'Bible basher', 'papist', 'kaffir', 'retard', 'cripple', 'spaz', 'mongoloid', 'psycho', 'nutjob', 'lame', 'vegetable', 'deaf-mute', 'imbecile', 'yank', 'brit', 'kraut', 'jap', 'commie', 'ruski', 'paki', 'wop', 'dago', 'polack', 'fatty', 'lardass', 'twig', 'beanpole', 'ugly', 'four-eyes', 'baldie', 'geek', 'nerd', 'pimple-face']\n",
            "['bitches', 'be', 'just', 'as', 'messy', 'ass', 'these', 'faggot', 'ass', 'niggas']\n",
            "['bitches', 'be', 'just', 'as', 'messy', 'ass', 'these', 'FAGOT', 'ass', 'niggas']\n",
            "{'faggot': 'FAGOT'}\n"
          ]
        },
        {
          "output_type": "stream",
          "name": "stderr",
          "text": [
            " 60%|██████    | 1161/1924 [3:55:38<5:06:59, 24.14s/it]"
          ]
        },
        {
          "output_type": "stream",
          "name": "stdout",
          "text": [
            "['nigger', 'nigga', 'mud shark', 'chink', 'gook', 'spic', 'wetback', 'kike', 'sand nigger', 'towelhead', 'beaner', 'cracker', 'honky', 'jungle bunny', 'redskin', 'bitch', 'slut', 'whore', 'cunt', 'feminazi', 'dyke', 'tranny', 'she-male', 'gold digger', 'skank', 'faggot', 'fag', 'homo', 'queer', 'carpet muncher', 'pillow biter', 'fudge packer', 'lesbo', 'Christ killer', 'jihadist', 'infidel', 'kike', 'raghead', 'heathen', 'pagan', 'Bible basher', 'papist', 'kaffir', 'retard', 'cripple', 'spaz', 'mongoloid', 'psycho', 'nutjob', 'lame', 'vegetable', 'deaf-mute', 'imbecile', 'yank', 'brit', 'kraut', 'jap', 'commie', 'ruski', 'paki', 'wop', 'dago', 'polack', 'fatty', 'lardass', 'twig', 'beanpole', 'ugly', 'four-eyes', 'baldie', 'geek', 'nerd', 'pimple-face']\n",
            "['gee', 'i', 'wonder', 'why', 'anita', 'sarkeesian', 'is', 'not', 'speaking', 'out', 'about', 'harvey', 'weinstein', 'or', 'andy', 'signore', 'sexual', 'harassment', 'on', 'women', '🤔']\n",
            "['gee', 'i', 'wonder', 'why', 'anita', 'sarkeesian', 'is', 'not', 'speaking', 'out', 'abOut', 'harvey', 'weinstein', 'or', 'ANDI', 'Signore', 'SexuAL', 'harassment', 'on', 'women', '🤔']\n",
            "{'signore': 'Signore', 'sexual': 'SexuAL', 'about': 'abOut', 'andy': 'ANDI', 'weinstein': 'weinstein'}\n"
          ]
        },
        {
          "output_type": "stream",
          "name": "stderr",
          "text": [
            " 61%|██████    | 1166/1924 [3:56:05<2:21:34, 11.21s/it]"
          ]
        },
        {
          "output_type": "stream",
          "name": "stdout",
          "text": [
            "['nigger', 'nigga', 'mud shark', 'chink', 'gook', 'spic', 'wetback', 'kike', 'sand nigger', 'towelhead', 'beaner', 'cracker', 'honky', 'jungle bunny', 'redskin', 'bitch', 'slut', 'whore', 'cunt', 'feminazi', 'dyke', 'tranny', 'she-male', 'gold digger', 'skank', 'faggot', 'fag', 'homo', 'queer', 'carpet muncher', 'pillow biter', 'fudge packer', 'lesbo', 'Christ killer', 'jihadist', 'infidel', 'kike', 'raghead', 'heathen', 'pagan', 'Bible basher', 'papist', 'kaffir', 'retard', 'cripple', 'spaz', 'mongoloid', 'psycho', 'nutjob', 'lame', 'vegetable', 'deaf-mute', 'imbecile', 'yank', 'brit', 'kraut', 'jap', 'commie', 'ruski', 'paki', 'wop', 'dago', 'polack', 'fatty', 'lardass', 'twig', 'beanpole', 'ugly', 'four-eyes', 'baldie', 'geek', 'nerd', 'pimple-face']\n",
            "['anime', 'culture', 'has', 'created', 'a', 'new', 'generation', 'of', 'weeboos', 'where', 'black', 'and', 'white', 'kids', 'gonna', 'have', 'ching', 'chong', 'names', 'cuz', 'their', 'stupid', 'ass', 'parents', 'like', 'ching', 'chong', 'cartoons']\n",
            "['anime', 'culture', 'has', 'CREATED', 'a', 'newwww', 'generation', 'of', 'weeboos', 'where', 'blCK', 'Annd', 'white', 'kids', 'GONNA', 'have', 'ching', 'chong', 'names', 'cuz', 'their', 'stupid', 'ass', 'parents', 'like', 'ching', 'chong', 'cartoons']\n",
            "{'gonna': 'GONNA', 'created': 'CREATED', 'has': 'has', 'and': 'Annd', 'black': 'blCK', 'new': 'newwww'}\n"
          ]
        },
        {
          "output_type": "stream",
          "name": "stderr",
          "text": [
            " 61%|██████    | 1171/1924 [3:57:00<2:29:13, 11.89s/it]"
          ]
        },
        {
          "output_type": "stream",
          "name": "stdout",
          "text": [
            "['nigger', 'nigga', 'mud shark', 'chink', 'gook', 'spic', 'wetback', 'kike', 'sand nigger', 'towelhead', 'beaner', 'cracker', 'honky', 'jungle bunny', 'redskin', 'bitch', 'slut', 'whore', 'cunt', 'feminazi', 'dyke', 'tranny', 'she-male', 'gold digger', 'skank', 'faggot', 'fag', 'homo', 'queer', 'carpet muncher', 'pillow biter', 'fudge packer', 'lesbo', 'Christ killer', 'jihadist', 'infidel', 'kike', 'raghead', 'heathen', 'pagan', 'Bible basher', 'papist', 'kaffir', 'retard', 'cripple', 'spaz', 'mongoloid', 'psycho', 'nutjob', 'lame', 'vegetable', 'deaf-mute', 'imbecile', 'yank', 'brit', 'kraut', 'jap', 'commie', 'ruski', 'paki', 'wop', 'dago', 'polack', 'fatty', 'lardass', 'twig', 'beanpole', 'ugly', 'four-eyes', 'baldie', 'geek', 'nerd', 'pimple-face']\n",
            "['lmfao', 'heard', 'about', 'that', 'i', 'just', 'about', 'fell', 'over', 'from', 'laughter', 'i', 'am', 'sorry', 'but', 'if', 'someone', 'can', 'get', 'banned', 'on', 'twitter', 'for', 'off', 'the', 'reservation', 'thought', 'crimes', 'then', 'they', 'can', 'not', 'sit', 'there', 'and', 'bitch', 'about', 'another', 'user', 'regardless', 'of', 'who', 'it', 'is', 'banning', 'them']\n",
            "['lmfao', 'heard', 'about', 'that', 'i', 'just', 'about', 'fell', 'over', 'from', 'laughter', 'i', 'am', 'sorry', 'but', 'if', 'someone', 'can', 'get', 'banned', 'on', 'twitter', 'for', 'off', 'the', 'reservation', 'thought', 'crimes', 'then', 'they', 'can', 'not', 'sit', 'there', 'and', 'biiiiiitch', 'about', 'another', 'user', 'regardless', 'of', 'who', 'it', 'is', 'banning', 'them']\n",
            "{'bitch': 'biiiiiitch'}\n"
          ]
        },
        {
          "output_type": "stream",
          "name": "stderr",
          "text": [
            " 61%|██████    | 1176/1924 [3:58:31<2:51:45, 13.78s/it]"
          ]
        },
        {
          "output_type": "stream",
          "name": "stdout",
          "text": [
            "['nigger', 'nigga', 'mud shark', 'chink', 'gook', 'spic', 'wetback', 'kike', 'sand nigger', 'towelhead', 'beaner', 'cracker', 'honky', 'jungle bunny', 'redskin', 'bitch', 'slut', 'whore', 'cunt', 'feminazi', 'dyke', 'tranny', 'she-male', 'gold digger', 'skank', 'faggot', 'fag', 'homo', 'queer', 'carpet muncher', 'pillow biter', 'fudge packer', 'lesbo', 'Christ killer', 'jihadist', 'infidel', 'kike', 'raghead', 'heathen', 'pagan', 'Bible basher', 'papist', 'kaffir', 'retard', 'cripple', 'spaz', 'mongoloid', 'psycho', 'nutjob', 'lame', 'vegetable', 'deaf-mute', 'imbecile', 'yank', 'brit', 'kraut', 'jap', 'commie', 'ruski', 'paki', 'wop', 'dago', 'polack', 'fatty', 'lardass', 'twig', 'beanpole', 'ugly', 'four-eyes', 'baldie', 'geek', 'nerd', 'pimple-face']\n",
            "['last', 'one', 'i', 'promise', 'i', 'am', 'so', 'white', 'that', 'albinos', 'worry', 'that', 'i', 'look', 'pale']\n",
            "['last', 'one', 'i', 'Promise', 'i', 'am', 'so', 'white', 'that', 'albinos', 'worry', 'that', 'i', 'LOOK', 'pale']\n",
            "{'promise': 'Promise', 'look': 'LOOK'}\n"
          ]
        },
        {
          "output_type": "stream",
          "name": "stderr",
          "text": [
            " 61%|██████▏   | 1181/1924 [4:00:42<3:02:58, 14.78s/it]"
          ]
        },
        {
          "output_type": "stream",
          "name": "stdout",
          "text": [
            "['nigger', 'nigga', 'mud shark', 'chink', 'gook', 'spic', 'wetback', 'kike', 'sand nigger', 'towelhead', 'beaner', 'cracker', 'honky', 'jungle bunny', 'redskin', 'bitch', 'slut', 'whore', 'cunt', 'feminazi', 'dyke', 'tranny', 'she-male', 'gold digger', 'skank', 'faggot', 'fag', 'homo', 'queer', 'carpet muncher', 'pillow biter', 'fudge packer', 'lesbo', 'Christ killer', 'jihadist', 'infidel', 'kike', 'raghead', 'heathen', 'pagan', 'Bible basher', 'papist', 'kaffir', 'retard', 'cripple', 'spaz', 'mongoloid', 'psycho', 'nutjob', 'lame', 'vegetable', 'deaf-mute', 'imbecile', 'yank', 'brit', 'kraut', 'jap', 'commie', 'ruski', 'paki', 'wop', 'dago', 'polack', 'fatty', 'lardass', 'twig', 'beanpole', 'ugly', 'four-eyes', 'baldie', 'geek', 'nerd', 'pimple-face']\n",
            "['<user>', 'trump', 'acts', 'like', 'a', 'president', 'obama', 'acts', 'like', 'a', 'nigger', 'street', 'punk', 'from', 'chicago', 'the', 'clintons', 'act', 'like', 'white', 'trash', 'spoiled', 'crybabies', 'and', 'sore', 'losers']\n",
            "['<user>', 'trump', 'acts', 'like', 'a', 'president', 'obama', 'acts', 'like', 'a', 'Nigger', 'street', 'punk', 'from', 'chicago', 'the', 'clintons', 'act', 'like', 'white', 'trash', 'spoiled', 'crybabies', 'and', 'sore', 'losers']\n",
            "{'nigger': 'Nigger'}\n"
          ]
        },
        {
          "output_type": "stream",
          "name": "stderr",
          "text": [
            " 62%|██████▏   | 1186/1924 [4:01:17<1:47:54,  8.77s/it]"
          ]
        },
        {
          "output_type": "stream",
          "name": "stdout",
          "text": [
            "['nigger', 'nigga', 'mud shark', 'chink', 'gook', 'spic', 'wetback', 'kike', 'sand nigger', 'towelhead', 'beaner', 'cracker', 'honky', 'jungle bunny', 'redskin', 'bitch', 'slut', 'whore', 'cunt', 'feminazi', 'dyke', 'tranny', 'she-male', 'gold digger', 'skank', 'faggot', 'fag', 'homo', 'queer', 'carpet muncher', 'pillow biter', 'fudge packer', 'lesbo', 'Christ killer', 'jihadist', 'infidel', 'kike', 'raghead', 'heathen', 'pagan', 'Bible basher', 'papist', 'kaffir', 'retard', 'cripple', 'spaz', 'mongoloid', 'psycho', 'nutjob', 'lame', 'vegetable', 'deaf-mute', 'imbecile', 'yank', 'brit', 'kraut', 'jap', 'commie', 'ruski', 'paki', 'wop', 'dago', 'polack', 'fatty', 'lardass', 'twig', 'beanpole', 'ugly', 'four-eyes', 'baldie', 'geek', 'nerd', 'pimple-face']\n",
            "['look', 'at', 'dis', 'ugly', 'dothaid', 'kike', 'beak', 'look', 'like', 'its', 'mouf', 'wuz', 'made', 'fo', 'suckin', 'dat', 'babydick', '<user>']\n",
            "['look', 'at', 'dis', 'ugly', 'dothaid', 'KIKE', 'beak', 'look', 'like', 'its', 'mouf', 'wuz', 'made', 'fo', 'suckin', 'dat', 'babydick', '<user>']\n",
            "{'ugly': 'ugly', 'kike': 'KIKE'}\n"
          ]
        },
        {
          "output_type": "stream",
          "name": "stderr",
          "text": [
            " 62%|██████▏   | 1191/1924 [4:02:19<2:22:44, 11.68s/it]"
          ]
        },
        {
          "output_type": "stream",
          "name": "stdout",
          "text": [
            "['nigger', 'nigga', 'mud shark', 'chink', 'gook', 'spic', 'wetback', 'kike', 'sand nigger', 'towelhead', 'beaner', 'cracker', 'honky', 'jungle bunny', 'redskin', 'bitch', 'slut', 'whore', 'cunt', 'feminazi', 'dyke', 'tranny', 'she-male', 'gold digger', 'skank', 'faggot', 'fag', 'homo', 'queer', 'carpet muncher', 'pillow biter', 'fudge packer', 'lesbo', 'Christ killer', 'jihadist', 'infidel', 'kike', 'raghead', 'heathen', 'pagan', 'Bible basher', 'papist', 'kaffir', 'retard', 'cripple', 'spaz', 'mongoloid', 'psycho', 'nutjob', 'lame', 'vegetable', 'deaf-mute', 'imbecile', 'yank', 'brit', 'kraut', 'jap', 'commie', 'ruski', 'paki', 'wop', 'dago', 'polack', 'fatty', 'lardass', 'twig', 'beanpole', 'ugly', 'four-eyes', 'baldie', 'geek', 'nerd', 'pimple-face']\n",
            "['<user>', '<user>', '<user>', 'u', 'talking', 'about', 'the', 'white', 'supremacists', 'neonazi', 'sympathizer', 'called', 'djt', '🤔']\n",
            "['<user>', '<user>', '<user>', 'u', 'talking', 'ABBOTT', 'the', 'Whyte', 'supremacists', 'Neonazi', 'sympathizer', 'called', 'djt', '🤔']\n",
            "{'white': 'Whyte', 'neonazi': 'Neonazi', 'about': 'ABBOTT'}\n"
          ]
        },
        {
          "output_type": "stream",
          "name": "stderr",
          "text": [
            " 62%|██████▏   | 1196/1924 [4:03:14<2:25:12, 11.97s/it]"
          ]
        },
        {
          "output_type": "stream",
          "name": "stdout",
          "text": [
            "['nigger', 'nigga', 'mud shark', 'chink', 'gook', 'spic', 'wetback', 'kike', 'sand nigger', 'towelhead', 'beaner', 'cracker', 'honky', 'jungle bunny', 'redskin', 'bitch', 'slut', 'whore', 'cunt', 'feminazi', 'dyke', 'tranny', 'she-male', 'gold digger', 'skank', 'faggot', 'fag', 'homo', 'queer', 'carpet muncher', 'pillow biter', 'fudge packer', 'lesbo', 'Christ killer', 'jihadist', 'infidel', 'kike', 'raghead', 'heathen', 'pagan', 'Bible basher', 'papist', 'kaffir', 'retard', 'cripple', 'spaz', 'mongoloid', 'psycho', 'nutjob', 'lame', 'vegetable', 'deaf-mute', 'imbecile', 'yank', 'brit', 'kraut', 'jap', 'commie', 'ruski', 'paki', 'wop', 'dago', 'polack', 'fatty', 'lardass', 'twig', 'beanpole', 'ugly', 'four-eyes', 'baldie', 'geek', 'nerd', 'pimple-face']\n",
            "['<user>', 'right', 'here', 'bro', 'found', 'jesus', 'whos', 'not', 'just', 'a', 'prophet', 'howz', 'life', 'u', 'an', 'ex', 'muslim', 'too', 'from', 'yeg']\n",
            "['<user>', 'right', 'here', 'Brooo', 'found', 'jesus', 'whos', 'not', 'Juuuuust', 'a', 'prophet', 'Howzz', 'life', 'u', 'an', 'ex', 'muslim', 'too', 'from', 'yeg']\n",
            "{'howz': 'Howzz', 'bro': 'Brooo', 'just': 'Juuuuust'}\n"
          ]
        },
        {
          "output_type": "stream",
          "name": "stderr",
          "text": [
            " 62%|██████▏   | 1201/1924 [4:04:04<1:43:43,  8.61s/it]"
          ]
        },
        {
          "output_type": "stream",
          "name": "stdout",
          "text": [
            "['nigger', 'nigga', 'mud shark', 'chink', 'gook', 'spic', 'wetback', 'kike', 'sand nigger', 'towelhead', 'beaner', 'cracker', 'honky', 'jungle bunny', 'redskin', 'bitch', 'slut', 'whore', 'cunt', 'feminazi', 'dyke', 'tranny', 'she-male', 'gold digger', 'skank', 'faggot', 'fag', 'homo', 'queer', 'carpet muncher', 'pillow biter', 'fudge packer', 'lesbo', 'Christ killer', 'jihadist', 'infidel', 'kike', 'raghead', 'heathen', 'pagan', 'Bible basher', 'papist', 'kaffir', 'retard', 'cripple', 'spaz', 'mongoloid', 'psycho', 'nutjob', 'lame', 'vegetable', 'deaf-mute', 'imbecile', 'yank', 'brit', 'kraut', 'jap', 'commie', 'ruski', 'paki', 'wop', 'dago', 'polack', 'fatty', 'lardass', 'twig', 'beanpole', 'ugly', 'four-eyes', 'baldie', 'geek', 'nerd', 'pimple-face']\n",
            "['yadi', 'is', 'a', 'fucking', 'faggot']\n",
            "['yadi', 'is', 'a', 'fucking', 'fagot']\n",
            "{'faggot': 'fagot'}\n"
          ]
        },
        {
          "output_type": "stream",
          "name": "stderr",
          "text": [
            " 63%|██████▎   | 1205/1924 [4:04:34<1:27:54,  7.34s/it]"
          ]
        },
        {
          "output_type": "stream",
          "name": "stdout",
          "text": [
            "['nigger', 'nigga', 'mud shark', 'chink', 'gook', 'spic', 'wetback', 'kike', 'sand nigger', 'towelhead', 'beaner', 'cracker', 'honky', 'jungle bunny', 'redskin', 'bitch', 'slut', 'whore', 'cunt', 'feminazi', 'dyke', 'tranny', 'she-male', 'gold digger', 'skank', 'faggot', 'fag', 'homo', 'queer', 'carpet muncher', 'pillow biter', 'fudge packer', 'lesbo', 'Christ killer', 'jihadist', 'infidel', 'kike', 'raghead', 'heathen', 'pagan', 'Bible basher', 'papist', 'kaffir', 'retard', 'cripple', 'spaz', 'mongoloid', 'psycho', 'nutjob', 'lame', 'vegetable', 'deaf-mute', 'imbecile', 'yank', 'brit', 'kraut', 'jap', 'commie', 'ruski', 'paki', 'wop', 'dago', 'polack', 'fatty', 'lardass', 'twig', 'beanpole', 'ugly', 'four-eyes', 'baldie', 'geek', 'nerd', 'pimple-face']\n",
            "['tan', 'communism', 'is', 'misunderstood', 'france', 'is', 'the', 'only', 'man', 'from', 'queer', 'eye', 'i', 'trust', 'now']\n",
            "['tan', 'communism', 'is', 'misunderstood', 'france', 'is', 'the', 'only', 'man', 'from', 'QUER', 'eye', 'i', 'trust', 'now']\n",
            "{'queer': 'QUER'}\n"
          ]
        },
        {
          "output_type": "stream",
          "name": "stderr",
          "text": [
            " 63%|██████▎   | 1210/1924 [4:04:48<47:33,  4.00s/it]  "
          ]
        },
        {
          "output_type": "stream",
          "name": "stdout",
          "text": [
            "['nigger', 'nigga', 'mud shark', 'chink', 'gook', 'spic', 'wetback', 'kike', 'sand nigger', 'towelhead', 'beaner', 'cracker', 'honky', 'jungle bunny', 'redskin', 'bitch', 'slut', 'whore', 'cunt', 'feminazi', 'dyke', 'tranny', 'she-male', 'gold digger', 'skank', 'faggot', 'fag', 'homo', 'queer', 'carpet muncher', 'pillow biter', 'fudge packer', 'lesbo', 'Christ killer', 'jihadist', 'infidel', 'kike', 'raghead', 'heathen', 'pagan', 'Bible basher', 'papist', 'kaffir', 'retard', 'cripple', 'spaz', 'mongoloid', 'psycho', 'nutjob', 'lame', 'vegetable', 'deaf-mute', 'imbecile', 'yank', 'brit', 'kraut', 'jap', 'commie', 'ruski', 'paki', 'wop', 'dago', 'polack', 'fatty', 'lardass', 'twig', 'beanpole', 'ugly', 'four-eyes', 'baldie', 'geek', 'nerd', 'pimple-face']\n",
            "['only', 'fools', 'think', 'any', 'kike', 'is', 'on', 'the', 'side', 'of', 'whites', 'that', 'foes', 'triple', 'for', 'jewfags']\n",
            "['only', 'fools', 'think', 'any', 'kike', 'is', 'on', 'the', 'side', 'of', 'whites', 'that', 'foes', 'triple', 'for', 'jewfags']\n",
            "{'kike': 'kike'}\n"
          ]
        },
        {
          "output_type": "stream",
          "name": "stderr",
          "text": [
            " 63%|██████▎   | 1216/1924 [4:05:02<33:14,  2.82s/it]"
          ]
        },
        {
          "output_type": "stream",
          "name": "stdout",
          "text": [
            "['nigger', 'nigga', 'mud shark', 'chink', 'gook', 'spic', 'wetback', 'kike', 'sand nigger', 'towelhead', 'beaner', 'cracker', 'honky', 'jungle bunny', 'redskin', 'bitch', 'slut', 'whore', 'cunt', 'feminazi', 'dyke', 'tranny', 'she-male', 'gold digger', 'skank', 'faggot', 'fag', 'homo', 'queer', 'carpet muncher', 'pillow biter', 'fudge packer', 'lesbo', 'Christ killer', 'jihadist', 'infidel', 'kike', 'raghead', 'heathen', 'pagan', 'Bible basher', 'papist', 'kaffir', 'retard', 'cripple', 'spaz', 'mongoloid', 'psycho', 'nutjob', 'lame', 'vegetable', 'deaf-mute', 'imbecile', 'yank', 'brit', 'kraut', 'jap', 'commie', 'ruski', 'paki', 'wop', 'dago', 'polack', 'fatty', 'lardass', 'twig', 'beanpole', 'ugly', 'four-eyes', 'baldie', 'geek', 'nerd', 'pimple-face']\n",
            "['i', 'just', 'know', 'that', 'gays', 'with', 'airpods', 'are', 'gonna', 'cheat', 'on', 'me']\n",
            "['i', 'JUUUST', 'know', 'that', 'gays', 'with', 'airpods', 'are', 'gonna', 'cheat', 'on', 'me']\n",
            "{'just': 'JUUUST'}\n"
          ]
        },
        {
          "output_type": "stream",
          "name": "stderr",
          "text": [
            " 63%|██████▎   | 1221/1924 [4:05:50<1:28:58,  7.59s/it]"
          ]
        },
        {
          "output_type": "stream",
          "name": "stdout",
          "text": [
            "['nigger', 'nigga', 'mud shark', 'chink', 'gook', 'spic', 'wetback', 'kike', 'sand nigger', 'towelhead', 'beaner', 'cracker', 'honky', 'jungle bunny', 'redskin', 'bitch', 'slut', 'whore', 'cunt', 'feminazi', 'dyke', 'tranny', 'she-male', 'gold digger', 'skank', 'faggot', 'fag', 'homo', 'queer', 'carpet muncher', 'pillow biter', 'fudge packer', 'lesbo', 'Christ killer', 'jihadist', 'infidel', 'kike', 'raghead', 'heathen', 'pagan', 'Bible basher', 'papist', 'kaffir', 'retard', 'cripple', 'spaz', 'mongoloid', 'psycho', 'nutjob', 'lame', 'vegetable', 'deaf-mute', 'imbecile', 'yank', 'brit', 'kraut', 'jap', 'commie', 'ruski', 'paki', 'wop', 'dago', 'polack', 'fatty', 'lardass', 'twig', 'beanpole', 'ugly', 'four-eyes', 'baldie', 'geek', 'nerd', 'pimple-face']\n",
            "['once', 'again', 'i', 'clean', 'the', 'community', 'health', 'center', 'albeit', 'they', 'left', 'the', 'community', 'for', 'the', 'burbs', 'but', 'want', 'the', 'people', 'to', 'come', 'here', 'anyway', 'she', 'bitched', 'about', 'treating', 'a', 'refugee', 'from', 'uganda', 'because', 'that', 'country', 'should', 'be', 'taking', 'care', 'of', 'her', 'sigh']\n",
            "['once', 'agn', 'i', 'clean', 'the', 'COMMUNITY', 'health', 'center', 'albeit', 'théy', 'left', 'the', 'community', 'fooor', 'the', 'burbs', 'but', 'want', 'Thue', 'people', 'to', 'come', 'here', 'anyway', 'she', 'bitched', 'AbouT', 'treating', 'a', 'refugee', 'from', 'uganda', 'because', 'that', 'country', 'shOuLd', 'be', 'taking', 'care', 'of', 'herr', 'sigh']\n",
            "{'her': 'herr', 'again': 'agn', 'should': 'shOuLd', 'burbs': 'burbs', 'for': 'fooor', 'the': 'Thue', 'they': 'théy', 'community': 'COMMUNITY', 'about': 'AbouT'}\n"
          ]
        },
        {
          "output_type": "stream",
          "name": "stderr",
          "text": [
            " 64%|██████▎   | 1226/1924 [4:07:12<2:26:16, 12.57s/it]"
          ]
        },
        {
          "output_type": "stream",
          "name": "stdout",
          "text": [
            "['nigger', 'nigga', 'mud shark', 'chink', 'gook', 'spic', 'wetback', 'kike', 'sand nigger', 'towelhead', 'beaner', 'cracker', 'honky', 'jungle bunny', 'redskin', 'bitch', 'slut', 'whore', 'cunt', 'feminazi', 'dyke', 'tranny', 'she-male', 'gold digger', 'skank', 'faggot', 'fag', 'homo', 'queer', 'carpet muncher', 'pillow biter', 'fudge packer', 'lesbo', 'Christ killer', 'jihadist', 'infidel', 'kike', 'raghead', 'heathen', 'pagan', 'Bible basher', 'papist', 'kaffir', 'retard', 'cripple', 'spaz', 'mongoloid', 'psycho', 'nutjob', 'lame', 'vegetable', 'deaf-mute', 'imbecile', 'yank', 'brit', 'kraut', 'jap', 'commie', 'ruski', 'paki', 'wop', 'dago', 'polack', 'fatty', 'lardass', 'twig', 'beanpole', 'ugly', 'four-eyes', 'baldie', 'geek', 'nerd', 'pimple-face']\n",
            "['you', 'niggas', 'faggots', 'putting', 'you', 'all', 'hands', 'on', 'females']\n",
            "['you', 'niggas', 'faggots', 'putting', 'you', 'aLl', 'hands', 'on', 'fEmaLeS']\n",
            "{'females': 'fEmaLeS', 'all': 'aLl'}\n"
          ]
        },
        {
          "output_type": "stream",
          "name": "stderr",
          "text": [
            " 64%|██████▍   | 1231/1924 [4:08:55<3:27:18, 17.95s/it]"
          ]
        },
        {
          "output_type": "stream",
          "name": "stdout",
          "text": [
            "['nigger', 'nigga', 'mud shark', 'chink', 'gook', 'spic', 'wetback', 'kike', 'sand nigger', 'towelhead', 'beaner', 'cracker', 'honky', 'jungle bunny', 'redskin', 'bitch', 'slut', 'whore', 'cunt', 'feminazi', 'dyke', 'tranny', 'she-male', 'gold digger', 'skank', 'faggot', 'fag', 'homo', 'queer', 'carpet muncher', 'pillow biter', 'fudge packer', 'lesbo', 'Christ killer', 'jihadist', 'infidel', 'kike', 'raghead', 'heathen', 'pagan', 'Bible basher', 'papist', 'kaffir', 'retard', 'cripple', 'spaz', 'mongoloid', 'psycho', 'nutjob', 'lame', 'vegetable', 'deaf-mute', 'imbecile', 'yank', 'brit', 'kraut', 'jap', 'commie', 'ruski', 'paki', 'wop', 'dago', 'polack', 'fatty', 'lardass', 'twig', 'beanpole', 'ugly', 'four-eyes', 'baldie', 'geek', 'nerd', 'pimple-face']\n",
            "['european', 'capitols', 'arent', 'american', 'besides', 'europe', 'allowed', 'the', 'muzzies', 'in', 'anyway', 'not', 'my', 'problem']\n",
            "['european', 'capitols', 'arent', 'Americaan', 'besides', 'europe', 'AlLoWED', 'the', 'muzzies', 'in', 'anyway', 'not', 'my', 'problem']\n",
            "{'american': 'Americaan', 'allowed': 'AlLoWED'}\n"
          ]
        },
        {
          "output_type": "stream",
          "name": "stderr",
          "text": [
            " 64%|██████▍   | 1236/1924 [4:09:25<1:30:40,  7.91s/it]"
          ]
        },
        {
          "output_type": "stream",
          "name": "stdout",
          "text": [
            "['nigger', 'nigga', 'mud shark', 'chink', 'gook', 'spic', 'wetback', 'kike', 'sand nigger', 'towelhead', 'beaner', 'cracker', 'honky', 'jungle bunny', 'redskin', 'bitch', 'slut', 'whore', 'cunt', 'feminazi', 'dyke', 'tranny', 'she-male', 'gold digger', 'skank', 'faggot', 'fag', 'homo', 'queer', 'carpet muncher', 'pillow biter', 'fudge packer', 'lesbo', 'Christ killer', 'jihadist', 'infidel', 'kike', 'raghead', 'heathen', 'pagan', 'Bible basher', 'papist', 'kaffir', 'retard', 'cripple', 'spaz', 'mongoloid', 'psycho', 'nutjob', 'lame', 'vegetable', 'deaf-mute', 'imbecile', 'yank', 'brit', 'kraut', 'jap', 'commie', 'ruski', 'paki', 'wop', 'dago', 'polack', 'fatty', 'lardass', 'twig', 'beanpole', 'ugly', 'four-eyes', 'baldie', 'geek', 'nerd', 'pimple-face']\n",
            "['well', 'ya', 'can', 'not', 'take', 'the', 'nigger', 'out', 'of', 'the', 'nigger', 'but', 'you', 'can', 'leave', 'the', 'black', 'greasy', 'motherfuckers', 'in', 'china']\n",
            "['well', 'ya', 'can', 'not', 'take', 'the', 'nigger', 'out', 'of', 'the', 'Niger', 'but', 'you', 'can', 'leave', 'the', 'black', 'greasy', 'motherfuckers', 'in', 'china']\n",
            "{'nigger': 'Niger'}\n"
          ]
        },
        {
          "output_type": "stream",
          "name": "stderr",
          "text": [
            " 65%|██████▍   | 1241/1924 [4:10:31<2:11:25, 11.54s/it]"
          ]
        },
        {
          "output_type": "stream",
          "name": "stdout",
          "text": [
            "['nigger', 'nigga', 'mud shark', 'chink', 'gook', 'spic', 'wetback', 'kike', 'sand nigger', 'towelhead', 'beaner', 'cracker', 'honky', 'jungle bunny', 'redskin', 'bitch', 'slut', 'whore', 'cunt', 'feminazi', 'dyke', 'tranny', 'she-male', 'gold digger', 'skank', 'faggot', 'fag', 'homo', 'queer', 'carpet muncher', 'pillow biter', 'fudge packer', 'lesbo', 'Christ killer', 'jihadist', 'infidel', 'kike', 'raghead', 'heathen', 'pagan', 'Bible basher', 'papist', 'kaffir', 'retard', 'cripple', 'spaz', 'mongoloid', 'psycho', 'nutjob', 'lame', 'vegetable', 'deaf-mute', 'imbecile', 'yank', 'brit', 'kraut', 'jap', 'commie', 'ruski', 'paki', 'wop', 'dago', 'polack', 'fatty', 'lardass', 'twig', 'beanpole', 'ugly', 'four-eyes', 'baldie', 'geek', 'nerd', 'pimple-face']\n",
            "['<user>', 'some', 'apologies', 'are', 'genuine', 'and', 'from', 'the', 'heart', 'this', 'is', 'lame', 'merely', 'damage', 'control', 'but', 'you', 'can', 'not', 'control', 'the', 'damage', 'of', 'what', 'amounts', 'to', 'holocaust', 'denial', 'with', 'what', 'appears', 'to', 'be', 'an', 'inter', 'office', 'style', 'memo', 'it', 'inadequate', 'you', 'have', 'deeply', 'offended', 'jews', 'all', 'over', 'the', 'world']\n",
            "['<user>', 'some', 'apologies', 'are', 'genuine', 'and', 'from', 'the', 'heart', 'this', 'is', 'lame', 'merely', 'damage', 'control', 'but', 'you', 'can', 'not', 'control', 'the', 'damage', 'of', 'what', 'amounts', 'to', 'holocaust', 'denial', 'with', 'what', 'appears', 'to', 'be', 'an', 'inter', 'office', 'style', 'memo', 'it', 'inadequate', 'you', 'have', 'deeply', 'offended', 'jews', 'all', 'over', 'the', 'world']\n",
            "{'lame': 'lame'}\n"
          ]
        },
        {
          "output_type": "stream",
          "name": "stderr",
          "text": [
            " 65%|██████▍   | 1246/1924 [4:11:27<1:55:35, 10.23s/it]"
          ]
        },
        {
          "output_type": "stream",
          "name": "stdout",
          "text": [
            "['nigger', 'nigga', 'mud shark', 'chink', 'gook', 'spic', 'wetback', 'kike', 'sand nigger', 'towelhead', 'beaner', 'cracker', 'honky', 'jungle bunny', 'redskin', 'bitch', 'slut', 'whore', 'cunt', 'feminazi', 'dyke', 'tranny', 'she-male', 'gold digger', 'skank', 'faggot', 'fag', 'homo', 'queer', 'carpet muncher', 'pillow biter', 'fudge packer', 'lesbo', 'Christ killer', 'jihadist', 'infidel', 'kike', 'raghead', 'heathen', 'pagan', 'Bible basher', 'papist', 'kaffir', 'retard', 'cripple', 'spaz', 'mongoloid', 'psycho', 'nutjob', 'lame', 'vegetable', 'deaf-mute', 'imbecile', 'yank', 'brit', 'kraut', 'jap', 'commie', 'ruski', 'paki', 'wop', 'dago', 'polack', 'fatty', 'lardass', 'twig', 'beanpole', 'ugly', 'four-eyes', 'baldie', 'geek', 'nerd', 'pimple-face']\n",
            "['i', 'wonder', 'how', 'long', 'until', 'they', 'can', 'get', 'the', 'nigger', 'stink', 'out', 'of', 'the', 'white', 'house']\n",
            "['i', 'wonder', 'how', 'long', 'until', 'they', 'can', 'get', 'the', 'NIGER', 'stink', 'out', 'of', 'the', 'white', 'house']\n",
            "{'nigger': 'NIGER'}\n"
          ]
        },
        {
          "output_type": "stream",
          "name": "stderr",
          "text": [
            " 65%|██████▌   | 1251/1924 [4:11:54<1:16:51,  6.85s/it]"
          ]
        },
        {
          "output_type": "stream",
          "name": "stdout",
          "text": [
            "['nigger', 'nigga', 'mud shark', 'chink', 'gook', 'spic', 'wetback', 'kike', 'sand nigger', 'towelhead', 'beaner', 'cracker', 'honky', 'jungle bunny', 'redskin', 'bitch', 'slut', 'whore', 'cunt', 'feminazi', 'dyke', 'tranny', 'she-male', 'gold digger', 'skank', 'faggot', 'fag', 'homo', 'queer', 'carpet muncher', 'pillow biter', 'fudge packer', 'lesbo', 'Christ killer', 'jihadist', 'infidel', 'kike', 'raghead', 'heathen', 'pagan', 'Bible basher', 'papist', 'kaffir', 'retard', 'cripple', 'spaz', 'mongoloid', 'psycho', 'nutjob', 'lame', 'vegetable', 'deaf-mute', 'imbecile', 'yank', 'brit', 'kraut', 'jap', 'commie', 'ruski', 'paki', 'wop', 'dago', 'polack', 'fatty', 'lardass', 'twig', 'beanpole', 'ugly', 'four-eyes', 'baldie', 'geek', 'nerd', 'pimple-face']\n",
            "['gay', 'you', 'are']\n",
            "['gay', 'you', 'areeee']\n",
            "{'are': 'areeee'}\n"
          ]
        },
        {
          "output_type": "stream",
          "name": "stderr",
          "text": [
            " 65%|██████▌   | 1256/1924 [4:13:01<2:41:22, 14.50s/it]"
          ]
        },
        {
          "output_type": "stream",
          "name": "stdout",
          "text": [
            "['nigger', 'nigga', 'mud shark', 'chink', 'gook', 'spic', 'wetback', 'kike', 'sand nigger', 'towelhead', 'beaner', 'cracker', 'honky', 'jungle bunny', 'redskin', 'bitch', 'slut', 'whore', 'cunt', 'feminazi', 'dyke', 'tranny', 'she-male', 'gold digger', 'skank', 'faggot', 'fag', 'homo', 'queer', 'carpet muncher', 'pillow biter', 'fudge packer', 'lesbo', 'Christ killer', 'jihadist', 'infidel', 'kike', 'raghead', 'heathen', 'pagan', 'Bible basher', 'papist', 'kaffir', 'retard', 'cripple', 'spaz', 'mongoloid', 'psycho', 'nutjob', 'lame', 'vegetable', 'deaf-mute', 'imbecile', 'yank', 'brit', 'kraut', 'jap', 'commie', 'ruski', 'paki', 'wop', 'dago', 'polack', 'fatty', 'lardass', 'twig', 'beanpole', 'ugly', 'four-eyes', 'baldie', 'geek', 'nerd', 'pimple-face']\n",
            "['<user>', 'was', 'a', 'useful', 'tool', 'for', 'a', 'few', 'months', 'bringing', 'new', 'ideas', 'to', 'homosexual', 'worshipping', 'millennials', 'he', 'a', 'gateway', 'drug']\n",
            "['<user>', 'wAS', 'a', 'Usefull', 'tool', 'for', 'a', 'few', 'months', 'bringing', 'nEw', 'ideas', 'to', 'homosexual', 'worshipping', 'millennials', 'he', 'a', 'gateway', 'drug']\n",
            "{'months': 'months', 'new': 'nEw', 'useful': 'Usefull', 'was': 'wAS'}\n"
          ]
        },
        {
          "output_type": "stream",
          "name": "stderr",
          "text": [
            " 66%|██████▌   | 1261/1924 [4:13:35<1:11:03,  6.43s/it]"
          ]
        },
        {
          "output_type": "stream",
          "name": "stdout",
          "text": [
            "['nigger', 'nigga', 'mud shark', 'chink', 'gook', 'spic', 'wetback', 'kike', 'sand nigger', 'towelhead', 'beaner', 'cracker', 'honky', 'jungle bunny', 'redskin', 'bitch', 'slut', 'whore', 'cunt', 'feminazi', 'dyke', 'tranny', 'she-male', 'gold digger', 'skank', 'faggot', 'fag', 'homo', 'queer', 'carpet muncher', 'pillow biter', 'fudge packer', 'lesbo', 'Christ killer', 'jihadist', 'infidel', 'kike', 'raghead', 'heathen', 'pagan', 'Bible basher', 'papist', 'kaffir', 'retard', 'cripple', 'spaz', 'mongoloid', 'psycho', 'nutjob', 'lame', 'vegetable', 'deaf-mute', 'imbecile', 'yank', 'brit', 'kraut', 'jap', 'commie', 'ruski', 'paki', 'wop', 'dago', 'polack', 'fatty', 'lardass', 'twig', 'beanpole', 'ugly', 'four-eyes', 'baldie', 'geek', 'nerd', 'pimple-face']\n",
            "['<user>', 'software', 'engineering', 'all', 'my', 'classes', 'are', '<percent>', 'white', 'boys', 'and', 'the', '<number>', 'or', '<number>', 'ppl', 'who', 'are', 'not', 'are', 'only', 'ever', 'nb', 'girls', 'or', 'coony', 'bm', '🙄']\n",
            "['<user>', 'SOFTWARE', 'engineering', 'all', 'my', 'classes', 'are', '<percent>', 'white', 'BOYs', 'and', 'the', '<number>', 'or', '<number>', 'ppl', 'who', 'are', 'not', 'are', 'OnLyy', 'ever', 'nb', 'girls', 'or', 'Conny', 'bm', '🙄']\n",
            "{'boys': 'BOYs', 'software': 'SOFTWARE', 'coony': 'Conny', 'only': 'OnLyy'}\n"
          ]
        },
        {
          "output_type": "stream",
          "name": "stderr",
          "text": [
            " 66%|██████▌   | 1266/1924 [4:14:08<1:24:08,  7.67s/it]"
          ]
        },
        {
          "output_type": "stream",
          "name": "stdout",
          "text": [
            "['nigger', 'nigga', 'mud shark', 'chink', 'gook', 'spic', 'wetback', 'kike', 'sand nigger', 'towelhead', 'beaner', 'cracker', 'honky', 'jungle bunny', 'redskin', 'bitch', 'slut', 'whore', 'cunt', 'feminazi', 'dyke', 'tranny', 'she-male', 'gold digger', 'skank', 'faggot', 'fag', 'homo', 'queer', 'carpet muncher', 'pillow biter', 'fudge packer', 'lesbo', 'Christ killer', 'jihadist', 'infidel', 'kike', 'raghead', 'heathen', 'pagan', 'Bible basher', 'papist', 'kaffir', 'retard', 'cripple', 'spaz', 'mongoloid', 'psycho', 'nutjob', 'lame', 'vegetable', 'deaf-mute', 'imbecile', 'yank', 'brit', 'kraut', 'jap', 'commie', 'ruski', 'paki', 'wop', 'dago', 'polack', 'fatty', 'lardass', 'twig', 'beanpole', 'ugly', 'four-eyes', 'baldie', 'geek', 'nerd', 'pimple-face']\n",
            "['the', 'white', 'bitch', 'who', 'killed', 'her', 'neighbor', 'and', 'thought', 'he', 'was', 'an', 'intruder', 'was', 'just', 'convicted', 'of', 'murder', 'score', 'a', 'million', 'for', 'the', 'people', 'a', 'cop', 'going', 'behind', 'bars']\n",
            "['the', 'white', 'Bitch', 'who', 'killed', 'her', 'neighbor', 'and', 'thought', 'he', 'was', 'an', 'intruder', 'was', 'just', 'convicted', 'of', 'murder', 'score', 'a', 'million', 'for', 'the', 'people', 'a', 'cop', 'going', 'behind', 'bars']\n",
            "{'bitch': 'Bitch'}\n"
          ]
        },
        {
          "output_type": "stream",
          "name": "stderr",
          "text": [
            " 66%|██████▌   | 1271/1924 [4:14:43<1:05:07,  5.98s/it]"
          ]
        },
        {
          "output_type": "stream",
          "name": "stdout",
          "text": [
            "['nigger', 'nigga', 'mud shark', 'chink', 'gook', 'spic', 'wetback', 'kike', 'sand nigger', 'towelhead', 'beaner', 'cracker', 'honky', 'jungle bunny', 'redskin', 'bitch', 'slut', 'whore', 'cunt', 'feminazi', 'dyke', 'tranny', 'she-male', 'gold digger', 'skank', 'faggot', 'fag', 'homo', 'queer', 'carpet muncher', 'pillow biter', 'fudge packer', 'lesbo', 'Christ killer', 'jihadist', 'infidel', 'kike', 'raghead', 'heathen', 'pagan', 'Bible basher', 'papist', 'kaffir', 'retard', 'cripple', 'spaz', 'mongoloid', 'psycho', 'nutjob', 'lame', 'vegetable', 'deaf-mute', 'imbecile', 'yank', 'brit', 'kraut', 'jap', 'commie', 'ruski', 'paki', 'wop', 'dago', 'polack', 'fatty', 'lardass', 'twig', 'beanpole', 'ugly', 'four-eyes', 'baldie', 'geek', 'nerd', 'pimple-face']\n",
            "['<user>', 'slurs', 'would', 'be', 'wetback', 'or', 'beaner', 'not', 'illegal', 'alien', '🙄']\n",
            "['<user>', 'slurs', 'would', 'be', 'Wetback', 'or', 'Beaner', 'not', 'illegal', 'alien', '🙄']\n",
            "{'wetback': 'Wetback', 'beaner': 'Beaner'}\n"
          ]
        },
        {
          "output_type": "stream",
          "name": "stderr",
          "text": [
            " 66%|██████▋   | 1276/1924 [4:16:10<1:59:09, 11.03s/it]"
          ]
        },
        {
          "output_type": "stream",
          "name": "stdout",
          "text": [
            "['nigger', 'nigga', 'mud shark', 'chink', 'gook', 'spic', 'wetback', 'kike', 'sand nigger', 'towelhead', 'beaner', 'cracker', 'honky', 'jungle bunny', 'redskin', 'bitch', 'slut', 'whore', 'cunt', 'feminazi', 'dyke', 'tranny', 'she-male', 'gold digger', 'skank', 'faggot', 'fag', 'homo', 'queer', 'carpet muncher', 'pillow biter', 'fudge packer', 'lesbo', 'Christ killer', 'jihadist', 'infidel', 'kike', 'raghead', 'heathen', 'pagan', 'Bible basher', 'papist', 'kaffir', 'retard', 'cripple', 'spaz', 'mongoloid', 'psycho', 'nutjob', 'lame', 'vegetable', 'deaf-mute', 'imbecile', 'yank', 'brit', 'kraut', 'jap', 'commie', 'ruski', 'paki', 'wop', 'dago', 'polack', 'fatty', 'lardass', 'twig', 'beanpole', 'ugly', 'four-eyes', 'baldie', 'geek', 'nerd', 'pimple-face']\n",
            "['<user>', 'also', 'did', 'trump', 'ask', 'the', 'women', '<number>', '<number>', 'year', 'old', 'girls', 'if', 'they', 'were', 'in', 'their', 'fertile', 'period', 'before', 'he', 'raped', 'them', 'most', 'rapists', 'are', 'not', 'polite', 'enough', 'to', 'ask', '🤬', '🤬', '🤬']\n",
            "['<user>', 'also', 'did', 'trump', 'ask', 'the', 'WOMEEEEN', '<number>', '<number>', 'year', 'OLd', 'girls', 'if', 'theYay', 'were', 'in', 'their', 'fertile', 'period', 'before', 'he', 'raped', 'THeM', 'most', 'rapists', 'are', 'not', 'polite', 'enough', 'to', 'aSk', '🤬', '🤬', '🤬']\n",
            "{'them': 'THeM', 'women': 'WOMEEEEN', 'old': 'OLd', 'they': 'theYay', 'ask': 'aSk'}\n"
          ]
        },
        {
          "output_type": "stream",
          "name": "stderr",
          "text": [
            " 67%|██████▋   | 1281/1924 [4:17:25<2:23:00, 13.34s/it]"
          ]
        },
        {
          "output_type": "stream",
          "name": "stdout",
          "text": [
            "['nigger', 'nigga', 'mud shark', 'chink', 'gook', 'spic', 'wetback', 'kike', 'sand nigger', 'towelhead', 'beaner', 'cracker', 'honky', 'jungle bunny', 'redskin', 'bitch', 'slut', 'whore', 'cunt', 'feminazi', 'dyke', 'tranny', 'she-male', 'gold digger', 'skank', 'faggot', 'fag', 'homo', 'queer', 'carpet muncher', 'pillow biter', 'fudge packer', 'lesbo', 'Christ killer', 'jihadist', 'infidel', 'kike', 'raghead', 'heathen', 'pagan', 'Bible basher', 'papist', 'kaffir', 'retard', 'cripple', 'spaz', 'mongoloid', 'psycho', 'nutjob', 'lame', 'vegetable', 'deaf-mute', 'imbecile', 'yank', 'brit', 'kraut', 'jap', 'commie', 'ruski', 'paki', 'wop', 'dago', 'polack', 'fatty', 'lardass', 'twig', 'beanpole', 'ugly', 'four-eyes', 'baldie', 'geek', 'nerd', 'pimple-face']\n",
            "['these', 'are', 'the', 'refugees', 'that', 'europe', 'should', 'be', 'taking', 'in']\n",
            "['THese', 'ARRRE', 'the', 'refugees', 'that', 'europe', 'should', 'be', 'taking', 'in']\n",
            "{'are': 'ARRRE', 'these': 'THese'}\n"
          ]
        },
        {
          "output_type": "stream",
          "name": "stderr",
          "text": [
            " 67%|██████▋   | 1286/1924 [4:18:06<1:55:48, 10.89s/it]"
          ]
        },
        {
          "output_type": "stream",
          "name": "stdout",
          "text": [
            "['nigger', 'nigga', 'mud shark', 'chink', 'gook', 'spic', 'wetback', 'kike', 'sand nigger', 'towelhead', 'beaner', 'cracker', 'honky', 'jungle bunny', 'redskin', 'bitch', 'slut', 'whore', 'cunt', 'feminazi', 'dyke', 'tranny', 'she-male', 'gold digger', 'skank', 'faggot', 'fag', 'homo', 'queer', 'carpet muncher', 'pillow biter', 'fudge packer', 'lesbo', 'Christ killer', 'jihadist', 'infidel', 'kike', 'raghead', 'heathen', 'pagan', 'Bible basher', 'papist', 'kaffir', 'retard', 'cripple', 'spaz', 'mongoloid', 'psycho', 'nutjob', 'lame', 'vegetable', 'deaf-mute', 'imbecile', 'yank', 'brit', 'kraut', 'jap', 'commie', 'ruski', 'paki', 'wop', 'dago', 'polack', 'fatty', 'lardass', 'twig', 'beanpole', 'ugly', 'four-eyes', 'baldie', 'geek', 'nerd', 'pimple-face']\n",
            "['this', 'is', 'why', 'i', 'propose', 'using', 'baconas', 'a', 'vetting', 'process', 'it', 'smells', 'good', 'tastes', 'great', 'and', 'its', 'muslim', 'kryptonite']\n",
            "['this', 'is', 'why', 'i', 'propose', 'using', 'baconas', 'a', 'vetting', 'process', 'it', 'Smells', 'good', 'tastes', 'gRT', 'and', 'its', 'muslim', 'KRYPTONITE']\n",
            "{'smells': 'Smells', 'kryptonite': 'KRYPTONITE', 'great': 'gRT'}\n"
          ]
        },
        {
          "output_type": "stream",
          "name": "stderr",
          "text": [
            " 67%|██████▋   | 1291/1924 [4:20:12<2:52:04, 16.31s/it]"
          ]
        },
        {
          "output_type": "stream",
          "name": "stdout",
          "text": [
            "['nigger', 'nigga', 'mud shark', 'chink', 'gook', 'spic', 'wetback', 'kike', 'sand nigger', 'towelhead', 'beaner', 'cracker', 'honky', 'jungle bunny', 'redskin', 'bitch', 'slut', 'whore', 'cunt', 'feminazi', 'dyke', 'tranny', 'she-male', 'gold digger', 'skank', 'faggot', 'fag', 'homo', 'queer', 'carpet muncher', 'pillow biter', 'fudge packer', 'lesbo', 'Christ killer', 'jihadist', 'infidel', 'kike', 'raghead', 'heathen', 'pagan', 'Bible basher', 'papist', 'kaffir', 'retard', 'cripple', 'spaz', 'mongoloid', 'psycho', 'nutjob', 'lame', 'vegetable', 'deaf-mute', 'imbecile', 'yank', 'brit', 'kraut', 'jap', 'commie', 'ruski', 'paki', 'wop', 'dago', 'polack', 'fatty', 'lardass', 'twig', 'beanpole', 'ugly', 'four-eyes', 'baldie', 'geek', 'nerd', 'pimple-face']\n",
            "['bitches', 'and', 'burritos', 'my', 'fav', 'combo']\n",
            "['bitches', 'and', 'burritos', 'my', 'Fav', 'Combo']\n",
            "{'fav': 'Fav', 'combo': 'Combo'}\n"
          ]
        },
        {
          "output_type": "stream",
          "name": "stderr",
          "text": [
            " 67%|██████▋   | 1294/1924 [4:20:37<1:46:41, 10.16s/it]"
          ]
        },
        {
          "output_type": "stream",
          "name": "stdout",
          "text": [
            "['nigger', 'nigga', 'mud shark', 'chink', 'gook', 'spic', 'wetback', 'kike', 'sand nigger', 'towelhead', 'beaner', 'cracker', 'honky', 'jungle bunny', 'redskin', 'bitch', 'slut', 'whore', 'cunt', 'feminazi', 'dyke', 'tranny', 'she-male', 'gold digger', 'skank', 'faggot', 'fag', 'homo', 'queer', 'carpet muncher', 'pillow biter', 'fudge packer', 'lesbo', 'Christ killer', 'jihadist', 'infidel', 'kike', 'raghead', 'heathen', 'pagan', 'Bible basher', 'papist', 'kaffir', 'retard', 'cripple', 'spaz', 'mongoloid', 'psycho', 'nutjob', 'lame', 'vegetable', 'deaf-mute', 'imbecile', 'yank', 'brit', 'kraut', 'jap', 'commie', 'ruski', 'paki', 'wop', 'dago', 'polack', 'fatty', 'lardass', 'twig', 'beanpole', 'ugly', 'four-eyes', 'baldie', 'geek', 'nerd', 'pimple-face']\n",
            "['today', 'one', 'of', 'my', 'queer', 'white', 'students', 'says', 'i', 'know', 'they', 'say', 'vsco', 'girls', 'are', 'defined', 'by', 'saying', 'that', 'the', 'tea', 'and', 'and', 'i', 'oop', 'but', 'actually', 'they', 'are', 'just', 'appropriating', 'black', 'queer', 'culture', 'which', 'is', 'actually', 'the', 'tea', 'sis', 'train', 'them', 'up', 'and', 'watch', 'them', 'fly', 'you', 'all']\n",
            "['today', 'one', 'of', 'my', 'qUeEr', 'white', 'students', 'says', 'i', 'know', 'they', 'say', 'vsco', 'girls', 'are', 'defined', 'by', 'saying', 'that', 'the', 'tea', 'and', 'and', 'i', 'oop', 'but', 'actually', 'they', 'are', 'just', 'appropriating', 'black', 'Queer', 'culture', 'which', 'is', 'actually', 'the', 'tea', 'sis', 'train', 'them', 'up', 'and', 'watch', 'them', 'fly', 'you', 'all']\n",
            "{'queer': 'Queer'}\n"
          ]
        },
        {
          "output_type": "stream",
          "name": "stderr",
          "text": [
            " 68%|██████▊   | 1300/1924 [4:21:24<1:42:26,  9.85s/it]"
          ]
        },
        {
          "output_type": "stream",
          "name": "stdout",
          "text": [
            "['nigger', 'nigga', 'mud shark', 'chink', 'gook', 'spic', 'wetback', 'kike', 'sand nigger', 'towelhead', 'beaner', 'cracker', 'honky', 'jungle bunny', 'redskin', 'bitch', 'slut', 'whore', 'cunt', 'feminazi', 'dyke', 'tranny', 'she-male', 'gold digger', 'skank', 'faggot', 'fag', 'homo', 'queer', 'carpet muncher', 'pillow biter', 'fudge packer', 'lesbo', 'Christ killer', 'jihadist', 'infidel', 'kike', 'raghead', 'heathen', 'pagan', 'Bible basher', 'papist', 'kaffir', 'retard', 'cripple', 'spaz', 'mongoloid', 'psycho', 'nutjob', 'lame', 'vegetable', 'deaf-mute', 'imbecile', 'yank', 'brit', 'kraut', 'jap', 'commie', 'ruski', 'paki', 'wop', 'dago', 'polack', 'fatty', 'lardass', 'twig', 'beanpole', 'ugly', 'four-eyes', 'baldie', 'geek', 'nerd', 'pimple-face']\n",
            "['he', 'a', 'jew', 'when', 'it', 'convenient', 'for', 'him', 'and', 'a', 'fellow', 'white', 'person', 'when', 'thats', 'more', 'convenient', 'just', 'like', 'literally', 'every', 'other', 'kike']\n",
            "['he', 'a', 'jew', 'when', 'it', 'convenient', 'for', 'him', 'and', 'a', 'fellow', 'white', 'person', 'when', 'thats', 'more', 'convenient', 'just', 'like', 'literally', 'every', 'other', 'kike']\n",
            "{'kike': 'kike'}\n"
          ]
        },
        {
          "output_type": "stream",
          "name": "stderr",
          "text": [
            " 68%|██████▊   | 1306/1924 [4:23:06<2:22:56, 13.88s/it]"
          ]
        },
        {
          "output_type": "stream",
          "name": "stdout",
          "text": [
            "['nigger', 'nigga', 'mud shark', 'chink', 'gook', 'spic', 'wetback', 'kike', 'sand nigger', 'towelhead', 'beaner', 'cracker', 'honky', 'jungle bunny', 'redskin', 'bitch', 'slut', 'whore', 'cunt', 'feminazi', 'dyke', 'tranny', 'she-male', 'gold digger', 'skank', 'faggot', 'fag', 'homo', 'queer', 'carpet muncher', 'pillow biter', 'fudge packer', 'lesbo', 'Christ killer', 'jihadist', 'infidel', 'kike', 'raghead', 'heathen', 'pagan', 'Bible basher', 'papist', 'kaffir', 'retard', 'cripple', 'spaz', 'mongoloid', 'psycho', 'nutjob', 'lame', 'vegetable', 'deaf-mute', 'imbecile', 'yank', 'brit', 'kraut', 'jap', 'commie', 'ruski', 'paki', 'wop', 'dago', 'polack', 'fatty', 'lardass', 'twig', 'beanpole', 'ugly', 'four-eyes', 'baldie', 'geek', 'nerd', 'pimple-face']\n",
            "['<user>', 'hey', 'thats', 'gay']\n",
            "['<user>', 'hey', 'thats', 'gayy']\n",
            "{'gay': 'gayy'}\n"
          ]
        },
        {
          "output_type": "stream",
          "name": "stderr",
          "text": [
            " 68%|██████▊   | 1310/1924 [4:24:10<3:06:51, 18.26s/it]"
          ]
        },
        {
          "output_type": "stream",
          "name": "stdout",
          "text": [
            "['nigger', 'nigga', 'mud shark', 'chink', 'gook', 'spic', 'wetback', 'kike', 'sand nigger', 'towelhead', 'beaner', 'cracker', 'honky', 'jungle bunny', 'redskin', 'bitch', 'slut', 'whore', 'cunt', 'feminazi', 'dyke', 'tranny', 'she-male', 'gold digger', 'skank', 'faggot', 'fag', 'homo', 'queer', 'carpet muncher', 'pillow biter', 'fudge packer', 'lesbo', 'Christ killer', 'jihadist', 'infidel', 'kike', 'raghead', 'heathen', 'pagan', 'Bible basher', 'papist', 'kaffir', 'retard', 'cripple', 'spaz', 'mongoloid', 'psycho', 'nutjob', 'lame', 'vegetable', 'deaf-mute', 'imbecile', 'yank', 'brit', 'kraut', 'jap', 'commie', 'ruski', 'paki', 'wop', 'dago', 'polack', 'fatty', 'lardass', 'twig', 'beanpole', 'ugly', 'four-eyes', 'baldie', 'geek', 'nerd', 'pimple-face']\n",
            "['this', 'is', 'so', 'fucking', 'retarded']\n",
            "['this', 'is', 'so', 'fucking', 'retarded']\n",
            "{}\n"
          ]
        },
        {
          "output_type": "stream",
          "name": "stderr",
          "text": [
            " 68%|██████▊   | 1316/1924 [4:25:11<2:10:52, 12.92s/it]"
          ]
        },
        {
          "output_type": "stream",
          "name": "stdout",
          "text": [
            "['nigger', 'nigga', 'mud shark', 'chink', 'gook', 'spic', 'wetback', 'kike', 'sand nigger', 'towelhead', 'beaner', 'cracker', 'honky', 'jungle bunny', 'redskin', 'bitch', 'slut', 'whore', 'cunt', 'feminazi', 'dyke', 'tranny', 'she-male', 'gold digger', 'skank', 'faggot', 'fag', 'homo', 'queer', 'carpet muncher', 'pillow biter', 'fudge packer', 'lesbo', 'Christ killer', 'jihadist', 'infidel', 'kike', 'raghead', 'heathen', 'pagan', 'Bible basher', 'papist', 'kaffir', 'retard', 'cripple', 'spaz', 'mongoloid', 'psycho', 'nutjob', 'lame', 'vegetable', 'deaf-mute', 'imbecile', 'yank', 'brit', 'kraut', 'jap', 'commie', 'ruski', 'paki', 'wop', 'dago', 'polack', 'fatty', 'lardass', 'twig', 'beanpole', 'ugly', 'four-eyes', 'baldie', 'geek', 'nerd', 'pimple-face']\n",
            "['started', 'as', 'trash', 'ending', 'as', 'worthless', 'nigger', 'trash']\n",
            "['started', 'as', 'trash', 'ending', 'as', 'worthless', 'Nigger', 'trash']\n",
            "{'nigger': 'Nigger'}\n"
          ]
        },
        {
          "output_type": "stream",
          "name": "stderr",
          "text": [
            " 69%|██████▊   | 1321/1924 [4:27:11<4:24:15, 26.29s/it]"
          ]
        },
        {
          "output_type": "stream",
          "name": "stdout",
          "text": [
            "['nigger', 'nigga', 'mud shark', 'chink', 'gook', 'spic', 'wetback', 'kike', 'sand nigger', 'towelhead', 'beaner', 'cracker', 'honky', 'jungle bunny', 'redskin', 'bitch', 'slut', 'whore', 'cunt', 'feminazi', 'dyke', 'tranny', 'she-male', 'gold digger', 'skank', 'faggot', 'fag', 'homo', 'queer', 'carpet muncher', 'pillow biter', 'fudge packer', 'lesbo', 'Christ killer', 'jihadist', 'infidel', 'kike', 'raghead', 'heathen', 'pagan', 'Bible basher', 'papist', 'kaffir', 'retard', 'cripple', 'spaz', 'mongoloid', 'psycho', 'nutjob', 'lame', 'vegetable', 'deaf-mute', 'imbecile', 'yank', 'brit', 'kraut', 'jap', 'commie', 'ruski', 'paki', 'wop', 'dago', 'polack', 'fatty', 'lardass', 'twig', 'beanpole', 'ugly', 'four-eyes', 'baldie', 'geek', 'nerd', 'pimple-face']\n",
            "['anyone', 'leaked', 'the', 'info', 'on', 'who', 'at', 'youtube', 'is', 'the', 'white', 'supremacist', 'neonazi', 'fiddling', 'with', 'the', 'algo', 'seems', 'that', 'should', 'drop', 'next', 'right', 'along', 'with', 'the', 'metrics', 'linking', 'up', 'the', 'infosec', 'talking', 'heads', 'with', 'their', 'harassment', 'and', 'nazi', 'socks', 'right', 'guise']\n",
            "['anyone', 'leaked', 'the', 'info', 'on', 'whoOOOoo', 'at', 'youtube', 'is', 'the', 'white', 'supremacist', 'neonazi', 'fiddling', 'with', 'the', 'ALGO', 'seems', 'thAT', 'should', 'drop', 'next', 'right', 'aloNg', 'with', 'the', 'metrics', 'linking', 'up', 'theeee', 'infosec', 'talking', 'heads', 'with', 'their', 'harashment', 'and', 'nazi', 'socks', 'right', 'guise']\n",
            "{'the': 'theeee', 'along': 'aloNg', 'heads': 'heads', 'algo': 'ALGO', 'that': 'thAT', 'who': 'whoOOOoo', 'harassment': 'harashment'}\n"
          ]
        },
        {
          "output_type": "stream",
          "name": "stderr",
          "text": [
            " 69%|██████▉   | 1326/1924 [4:28:15<2:40:49, 16.14s/it]"
          ]
        },
        {
          "output_type": "stream",
          "name": "stdout",
          "text": [
            "['nigger', 'nigga', 'mud shark', 'chink', 'gook', 'spic', 'wetback', 'kike', 'sand nigger', 'towelhead', 'beaner', 'cracker', 'honky', 'jungle bunny', 'redskin', 'bitch', 'slut', 'whore', 'cunt', 'feminazi', 'dyke', 'tranny', 'she-male', 'gold digger', 'skank', 'faggot', 'fag', 'homo', 'queer', 'carpet muncher', 'pillow biter', 'fudge packer', 'lesbo', 'Christ killer', 'jihadist', 'infidel', 'kike', 'raghead', 'heathen', 'pagan', 'Bible basher', 'papist', 'kaffir', 'retard', 'cripple', 'spaz', 'mongoloid', 'psycho', 'nutjob', 'lame', 'vegetable', 'deaf-mute', 'imbecile', 'yank', 'brit', 'kraut', 'jap', 'commie', 'ruski', 'paki', 'wop', 'dago', 'polack', 'fatty', 'lardass', 'twig', 'beanpole', 'ugly', 'four-eyes', 'baldie', 'geek', 'nerd', 'pimple-face']\n",
            "['there', 'is', 'absolutely', 'no', 'room', 'for', 'same', 'sex', 'marriages', 'it', 'is', 'important', 'to', 'state', 'that', 'homosexual', 'activity', 'is', 'prohibited', 'according', 'to', 'the', 'hindu', 'religion', 'so', 'this', 'has', 'always', 'been', 'our', 'position', 'that', 'a', 'marriage', 'is', 'between', 'a', 'male', 'and', 'a', 'female', 'satnarayan', 'maharaj']\n",
            "['there', 'is', 'absolutely', 'no', 'room', 'for', 'SaMe', 'sex', 'marriages', 'it', 'is', 'important', 'to', 'state', 'that', 'homossexual', 'activity', 'is', 'prohibited', 'Accroding', 'to', 'ThEe', 'hindu', 'religion', 'so', 'this', 'has', 'always', 'benn', 'our', 'position', 'that', 'a', 'marriage', 'is', 'between', 'a', 'male', 'and', 'a', 'female', 'satnarayan', 'maharaj']\n",
            "{'been': 'benn', 'according': 'Accroding', 'same': 'SaMe', 'homosexual': 'homossexual', 'the': 'ThEe'}\n"
          ]
        },
        {
          "output_type": "stream",
          "name": "stderr",
          "text": [
            " 69%|██████▉   | 1331/1924 [4:28:35<1:17:09,  7.81s/it]"
          ]
        },
        {
          "output_type": "stream",
          "name": "stdout",
          "text": [
            "['nigger', 'nigga', 'mud shark', 'chink', 'gook', 'spic', 'wetback', 'kike', 'sand nigger', 'towelhead', 'beaner', 'cracker', 'honky', 'jungle bunny', 'redskin', 'bitch', 'slut', 'whore', 'cunt', 'feminazi', 'dyke', 'tranny', 'she-male', 'gold digger', 'skank', 'faggot', 'fag', 'homo', 'queer', 'carpet muncher', 'pillow biter', 'fudge packer', 'lesbo', 'Christ killer', 'jihadist', 'infidel', 'kike', 'raghead', 'heathen', 'pagan', 'Bible basher', 'papist', 'kaffir', 'retard', 'cripple', 'spaz', 'mongoloid', 'psycho', 'nutjob', 'lame', 'vegetable', 'deaf-mute', 'imbecile', 'yank', 'brit', 'kraut', 'jap', 'commie', 'ruski', 'paki', 'wop', 'dago', 'polack', 'fatty', 'lardass', 'twig', 'beanpole', 'ugly', 'four-eyes', 'baldie', 'geek', 'nerd', 'pimple-face']\n",
            "['some', 'y', '’', 'all', 'are', 'ghetto', 'asf', '🥱']\n",
            "['some', 'y', '’', 'all', 'are', 'ghetto', 'ASf', '🥱']\n",
            "{'asf': 'ASf'}\n"
          ]
        },
        {
          "output_type": "stream",
          "name": "stderr",
          "text": [
            " 69%|██████▉   | 1336/1924 [4:29:16<57:20,  5.85s/it]  "
          ]
        },
        {
          "output_type": "stream",
          "name": "stdout",
          "text": [
            "['nigger', 'nigga', 'mud shark', 'chink', 'gook', 'spic', 'wetback', 'kike', 'sand nigger', 'towelhead', 'beaner', 'cracker', 'honky', 'jungle bunny', 'redskin', 'bitch', 'slut', 'whore', 'cunt', 'feminazi', 'dyke', 'tranny', 'she-male', 'gold digger', 'skank', 'faggot', 'fag', 'homo', 'queer', 'carpet muncher', 'pillow biter', 'fudge packer', 'lesbo', 'Christ killer', 'jihadist', 'infidel', 'kike', 'raghead', 'heathen', 'pagan', 'Bible basher', 'papist', 'kaffir', 'retard', 'cripple', 'spaz', 'mongoloid', 'psycho', 'nutjob', 'lame', 'vegetable', 'deaf-mute', 'imbecile', 'yank', 'brit', 'kraut', 'jap', 'commie', 'ruski', 'paki', 'wop', 'dago', 'polack', 'fatty', 'lardass', 'twig', 'beanpole', 'ugly', 'four-eyes', 'baldie', 'geek', 'nerd', 'pimple-face']\n",
            "['<user>', 'nice', 'ching', 'chong', 'hat']\n",
            "['<user>', 'nice', 'ching', 'choong', 'hat']\n",
            "{'chong': 'choong'}\n"
          ]
        },
        {
          "output_type": "stream",
          "name": "stderr",
          "text": [
            " 70%|██████▉   | 1341/1924 [4:30:17<1:57:04, 12.05s/it]"
          ]
        },
        {
          "output_type": "stream",
          "name": "stdout",
          "text": [
            "['nigger', 'nigga', 'mud shark', 'chink', 'gook', 'spic', 'wetback', 'kike', 'sand nigger', 'towelhead', 'beaner', 'cracker', 'honky', 'jungle bunny', 'redskin', 'bitch', 'slut', 'whore', 'cunt', 'feminazi', 'dyke', 'tranny', 'she-male', 'gold digger', 'skank', 'faggot', 'fag', 'homo', 'queer', 'carpet muncher', 'pillow biter', 'fudge packer', 'lesbo', 'Christ killer', 'jihadist', 'infidel', 'kike', 'raghead', 'heathen', 'pagan', 'Bible basher', 'papist', 'kaffir', 'retard', 'cripple', 'spaz', 'mongoloid', 'psycho', 'nutjob', 'lame', 'vegetable', 'deaf-mute', 'imbecile', 'yank', 'brit', 'kraut', 'jap', 'commie', 'ruski', 'paki', 'wop', 'dago', 'polack', 'fatty', 'lardass', 'twig', 'beanpole', 'ugly', 'four-eyes', 'baldie', 'geek', 'nerd', 'pimple-face']\n",
            "['ofc', 'we', 'get', 'grief', 'by', 'snow', 'and', 'brook', 'last', 'game', 'fucking', 'retards', 'holy', 'fuck', 'i', 'hate', 'them']\n",
            "['ofc', 'we', 'Geet', 'grief', 'by', 'snow', 'and', 'brook', 'last', 'game', 'fucking', 'retards', 'Holy', 'fuck', 'i', 'hateeeee', 'them']\n",
            "{'ofc': 'ofc', 'holy': 'Holy', 'hate': 'hateeeee', 'get': 'Geet'}\n"
          ]
        },
        {
          "output_type": "stream",
          "name": "stderr",
          "text": [
            " 70%|██████▉   | 1346/1924 [4:31:04<1:48:49, 11.30s/it]"
          ]
        },
        {
          "output_type": "stream",
          "name": "stdout",
          "text": [
            "['nigger', 'nigga', 'mud shark', 'chink', 'gook', 'spic', 'wetback', 'kike', 'sand nigger', 'towelhead', 'beaner', 'cracker', 'honky', 'jungle bunny', 'redskin', 'bitch', 'slut', 'whore', 'cunt', 'feminazi', 'dyke', 'tranny', 'she-male', 'gold digger', 'skank', 'faggot', 'fag', 'homo', 'queer', 'carpet muncher', 'pillow biter', 'fudge packer', 'lesbo', 'Christ killer', 'jihadist', 'infidel', 'kike', 'raghead', 'heathen', 'pagan', 'Bible basher', 'papist', 'kaffir', 'retard', 'cripple', 'spaz', 'mongoloid', 'psycho', 'nutjob', 'lame', 'vegetable', 'deaf-mute', 'imbecile', 'yank', 'brit', 'kraut', 'jap', 'commie', 'ruski', 'paki', 'wop', 'dago', 'polack', 'fatty', 'lardass', 'twig', 'beanpole', 'ugly', 'four-eyes', 'baldie', 'geek', 'nerd', 'pimple-face']\n",
            "['imo', 'trump', 'did', 'that', 'for', 'the', 'ghetto', 'turds', 'as', 'he', 'was', 'trying', 'to', 'be', 'a', 'non', 'racist', 'the', 'feds', 'want', 'bundy', 'land', 'for', 'the', 'uranium', 'trump', 'can', 'still', 'call', 'most', 'of', 'his', 'advisors', 'are', 'useless', 'and', 'need', 'to', 'be', 'fired', 'they', 'are', 'still', 'part', 'of', 'the', 'swamp']\n",
            "['imo', 'trump', 'diEd', 'that', 'FORRR', 'Thee', 'ghetto', 'turds', 'as', 'he', 'was', 'trying', 'to', 'be', 'a', 'Noon', 'racist', 'the', 'feds', 'want', 'bundy', 'Laand', 'for', 'the', 'uranium', 'trump', 'can', 'still', 'call', 'most', 'of', 'HIs', 'advisors', 'aRE', 'useless', 'and', 'need', 'to', 'be', 'firrred', 'they', 'are', 'still', 'part', 'of', 'the', 'swamp']\n",
            "{'for': 'FORRR', 'are': 'aRE', 'the': 'Thee', 'fired': 'firrred', 'did': 'diEd', 'his': 'HIs', 'non': 'Noon', 'land': 'Laand'}\n"
          ]
        },
        {
          "output_type": "stream",
          "name": "stderr",
          "text": [
            " 70%|███████   | 1351/1924 [4:31:23<40:09,  4.21s/it]"
          ]
        },
        {
          "output_type": "stream",
          "name": "stdout",
          "text": [
            "['nigger', 'nigga', 'mud shark', 'chink', 'gook', 'spic', 'wetback', 'kike', 'sand nigger', 'towelhead', 'beaner', 'cracker', 'honky', 'jungle bunny', 'redskin', 'bitch', 'slut', 'whore', 'cunt', 'feminazi', 'dyke', 'tranny', 'she-male', 'gold digger', 'skank', 'faggot', 'fag', 'homo', 'queer', 'carpet muncher', 'pillow biter', 'fudge packer', 'lesbo', 'Christ killer', 'jihadist', 'infidel', 'kike', 'raghead', 'heathen', 'pagan', 'Bible basher', 'papist', 'kaffir', 'retard', 'cripple', 'spaz', 'mongoloid', 'psycho', 'nutjob', 'lame', 'vegetable', 'deaf-mute', 'imbecile', 'yank', 'brit', 'kraut', 'jap', 'commie', 'ruski', 'paki', 'wop', 'dago', 'polack', 'fatty', 'lardass', 'twig', 'beanpole', 'ugly', 'four-eyes', 'baldie', 'geek', 'nerd', 'pimple-face']\n",
            "['labour', 'concillor', 'in', 'telford', 'more', 'concerned', 'about', 'someones', 'words', 'on', 'twitter', 'than', 'paki', 'moslem', 'gangs', 'raping', 'white', 'children']\n",
            "['labour', 'concillor', 'in', 'telford', 'more', 'concerned', 'about', 'someones', 'words', 'on', 'twitter', 'than', 'Paki', 'moslem', 'gangs', 'raping', 'white', 'children']\n",
            "{'paki': 'Paki'}\n"
          ]
        },
        {
          "output_type": "stream",
          "name": "stderr",
          "text": [
            " 70%|███████   | 1356/1924 [4:32:43<1:43:41, 10.95s/it]"
          ]
        },
        {
          "output_type": "stream",
          "name": "stdout",
          "text": [
            "['nigger', 'nigga', 'mud shark', 'chink', 'gook', 'spic', 'wetback', 'kike', 'sand nigger', 'towelhead', 'beaner', 'cracker', 'honky', 'jungle bunny', 'redskin', 'bitch', 'slut', 'whore', 'cunt', 'feminazi', 'dyke', 'tranny', 'she-male', 'gold digger', 'skank', 'faggot', 'fag', 'homo', 'queer', 'carpet muncher', 'pillow biter', 'fudge packer', 'lesbo', 'Christ killer', 'jihadist', 'infidel', 'kike', 'raghead', 'heathen', 'pagan', 'Bible basher', 'papist', 'kaffir', 'retard', 'cripple', 'spaz', 'mongoloid', 'psycho', 'nutjob', 'lame', 'vegetable', 'deaf-mute', 'imbecile', 'yank', 'brit', 'kraut', 'jap', 'commie', 'ruski', 'paki', 'wop', 'dago', 'polack', 'fatty', 'lardass', 'twig', 'beanpole', 'ugly', 'four-eyes', 'baldie', 'geek', 'nerd', 'pimple-face']\n",
            "['<user>', 'the', 'person', 'who', 'gave', 'me', 'my', 'maga', 'hat', 'is', 'a', 'child', 'of', 'legal', 'mexican', 'immigrants']\n",
            "['<user>', 'the', 'person', 'whooooo', 'gave', 'me', 'my', 'maga', 'hat', 'is', 'a', 'child', 'of', 'LEgaL', 'mexican', 'immgrants']\n",
            "{'immigrants': 'immgrants', 'legal': 'LEgaL', 'who': 'whooooo'}\n"
          ]
        },
        {
          "output_type": "stream",
          "name": "stderr",
          "text": [
            " 71%|███████   | 1361/1924 [4:34:03<2:04:46, 13.30s/it]"
          ]
        },
        {
          "output_type": "stream",
          "name": "stdout",
          "text": [
            "['nigger', 'nigga', 'mud shark', 'chink', 'gook', 'spic', 'wetback', 'kike', 'sand nigger', 'towelhead', 'beaner', 'cracker', 'honky', 'jungle bunny', 'redskin', 'bitch', 'slut', 'whore', 'cunt', 'feminazi', 'dyke', 'tranny', 'she-male', 'gold digger', 'skank', 'faggot', 'fag', 'homo', 'queer', 'carpet muncher', 'pillow biter', 'fudge packer', 'lesbo', 'Christ killer', 'jihadist', 'infidel', 'kike', 'raghead', 'heathen', 'pagan', 'Bible basher', 'papist', 'kaffir', 'retard', 'cripple', 'spaz', 'mongoloid', 'psycho', 'nutjob', 'lame', 'vegetable', 'deaf-mute', 'imbecile', 'yank', 'brit', 'kraut', 'jap', 'commie', 'ruski', 'paki', 'wop', 'dago', 'polack', 'fatty', 'lardass', 'twig', 'beanpole', 'ugly', 'four-eyes', 'baldie', 'geek', 'nerd', 'pimple-face']\n",
            "['why', 'jews', 'are', 'profiting', 'from', 'the', 'us', 'importing', 'moslem', 'refugees']\n",
            "['why', 'jews', 'are', 'pRoFiTtInG', 'fromm', 'the', 'us', 'importing', 'moslem', 'refugees']\n",
            "{'from': 'fromm', 'profiting': 'pRoFiTtInG'}\n"
          ]
        },
        {
          "output_type": "stream",
          "name": "stderr",
          "text": [
            " 71%|███████   | 1366/1924 [4:34:37<1:08:51,  7.40s/it]"
          ]
        },
        {
          "output_type": "stream",
          "name": "stdout",
          "text": [
            "['nigger', 'nigga', 'mud shark', 'chink', 'gook', 'spic', 'wetback', 'kike', 'sand nigger', 'towelhead', 'beaner', 'cracker', 'honky', 'jungle bunny', 'redskin', 'bitch', 'slut', 'whore', 'cunt', 'feminazi', 'dyke', 'tranny', 'she-male', 'gold digger', 'skank', 'faggot', 'fag', 'homo', 'queer', 'carpet muncher', 'pillow biter', 'fudge packer', 'lesbo', 'Christ killer', 'jihadist', 'infidel', 'kike', 'raghead', 'heathen', 'pagan', 'Bible basher', 'papist', 'kaffir', 'retard', 'cripple', 'spaz', 'mongoloid', 'psycho', 'nutjob', 'lame', 'vegetable', 'deaf-mute', 'imbecile', 'yank', 'brit', 'kraut', 'jap', 'commie', 'ruski', 'paki', 'wop', 'dago', 'polack', 'fatty', 'lardass', 'twig', 'beanpole', 'ugly', 'four-eyes', 'baldie', 'geek', 'nerd', 'pimple-face']\n",
            "['god', 'damned', 'kike', 'whore', 'cunt', 'so', 'sure', 'that', 'none', 'of', 'those', 'cowards', 'could', 'ever', 'get', 'to', 'her', 'in', 'her', 'hymiewood', 'mcmansion']\n",
            "['god', 'damned', 'kike', 'whOrE', 'CUNT', 'so', 'sure', 'that', 'none', 'of', 'those', 'cowards', 'could', 'ever', 'get', 'to', 'her', 'in', 'her', 'hymiewood', 'mcmansion']\n",
            "{'kike': 'kike', 'whore': 'whOrE', 'cunt': 'CUNT'}\n"
          ]
        },
        {
          "output_type": "stream",
          "name": "stderr",
          "text": [
            " 71%|███████   | 1370/1924 [4:35:44<2:48:46, 18.28s/it]"
          ]
        },
        {
          "output_type": "stream",
          "name": "stdout",
          "text": [
            "['nigger', 'nigga', 'mud shark', 'chink', 'gook', 'spic', 'wetback', 'kike', 'sand nigger', 'towelhead', 'beaner', 'cracker', 'honky', 'jungle bunny', 'redskin', 'bitch', 'slut', 'whore', 'cunt', 'feminazi', 'dyke', 'tranny', 'she-male', 'gold digger', 'skank', 'faggot', 'fag', 'homo', 'queer', 'carpet muncher', 'pillow biter', 'fudge packer', 'lesbo', 'Christ killer', 'jihadist', 'infidel', 'kike', 'raghead', 'heathen', 'pagan', 'Bible basher', 'papist', 'kaffir', 'retard', 'cripple', 'spaz', 'mongoloid', 'psycho', 'nutjob', 'lame', 'vegetable', 'deaf-mute', 'imbecile', 'yank', 'brit', 'kraut', 'jap', 'commie', 'ruski', 'paki', 'wop', 'dago', 'polack', 'fatty', 'lardass', 'twig', 'beanpole', 'ugly', 'four-eyes', 'baldie', 'geek', 'nerd', 'pimple-face']\n",
            "['<user>', '<user>', 'are', 'you', 'retarded']\n",
            "['<user>', '<user>', 'are', 'you', 'retarded']\n",
            "{}\n"
          ]
        },
        {
          "output_type": "stream",
          "name": "stderr",
          "text": [
            " 72%|███████▏  | 1376/1924 [4:36:15<1:13:16,  8.02s/it]"
          ]
        },
        {
          "output_type": "stream",
          "name": "stdout",
          "text": [
            "['nigger', 'nigga', 'mud shark', 'chink', 'gook', 'spic', 'wetback', 'kike', 'sand nigger', 'towelhead', 'beaner', 'cracker', 'honky', 'jungle bunny', 'redskin', 'bitch', 'slut', 'whore', 'cunt', 'feminazi', 'dyke', 'tranny', 'she-male', 'gold digger', 'skank', 'faggot', 'fag', 'homo', 'queer', 'carpet muncher', 'pillow biter', 'fudge packer', 'lesbo', 'Christ killer', 'jihadist', 'infidel', 'kike', 'raghead', 'heathen', 'pagan', 'Bible basher', 'papist', 'kaffir', 'retard', 'cripple', 'spaz', 'mongoloid', 'psycho', 'nutjob', 'lame', 'vegetable', 'deaf-mute', 'imbecile', 'yank', 'brit', 'kraut', 'jap', 'commie', 'ruski', 'paki', 'wop', 'dago', 'polack', 'fatty', 'lardass', 'twig', 'beanpole', 'ugly', 'four-eyes', 'baldie', 'geek', 'nerd', 'pimple-face']\n",
            "['fuck', 'off', 'you', 'nigger', 'loving', 'whore', 'your', 'mom', 'need', 'a', 'slap', 'upside', 'the', 'head', 'for', 'boring', 'such', 'a', 'chicken', 'shit', 'pansy']\n",
            "['fuck', 'off', 'you', 'niggaaarr', 'loving', 'wHOrE', 'your', 'mom', 'need', 'a', 'slap', 'upside', 'the', 'head', 'for', 'boring', 'such', 'a', 'chicken', 'shit', 'pansy']\n",
            "{'nigger': 'niggaaarr', 'whore': 'wHOrE'}\n"
          ]
        },
        {
          "output_type": "stream",
          "name": "stderr",
          "text": [
            " 72%|███████▏  | 1381/1924 [4:36:57<59:39,  6.59s/it]  "
          ]
        },
        {
          "output_type": "stream",
          "name": "stdout",
          "text": [
            "['nigger', 'nigga', 'mud shark', 'chink', 'gook', 'spic', 'wetback', 'kike', 'sand nigger', 'towelhead', 'beaner', 'cracker', 'honky', 'jungle bunny', 'redskin', 'bitch', 'slut', 'whore', 'cunt', 'feminazi', 'dyke', 'tranny', 'she-male', 'gold digger', 'skank', 'faggot', 'fag', 'homo', 'queer', 'carpet muncher', 'pillow biter', 'fudge packer', 'lesbo', 'Christ killer', 'jihadist', 'infidel', 'kike', 'raghead', 'heathen', 'pagan', 'Bible basher', 'papist', 'kaffir', 'retard', 'cripple', 'spaz', 'mongoloid', 'psycho', 'nutjob', 'lame', 'vegetable', 'deaf-mute', 'imbecile', 'yank', 'brit', 'kraut', 'jap', 'commie', 'ruski', 'paki', 'wop', 'dago', 'polack', 'fatty', 'lardass', 'twig', 'beanpole', 'ugly', 'four-eyes', 'baldie', 'geek', 'nerd', 'pimple-face']\n",
            "['portrait', 'of', 'a', 'lady', 'on', 'fire', 'screening', 'in', 'atlanta', 'literally', 'the', 'day', 'after', 'i', 'go', 'back', 'home', 'to', 'k*ntucky', '<censored>', 'the', 'universe', 'really', 'hates', 'pretentious', 'dykes', 'i', 'guess']\n",
            "['portrait', 'of', 'a', 'laaaaady', 'on', 'fire', 'screening', 'in', 'atlanta', 'literally', 'the', 'day', 'after', 'i', 'go', 'back', 'home', 'to', 'k*ntucky', '<censored>', 'the', 'universe', 'really', 'hATES', 'pretentious', 'Dykes', 'i', 'guess']\n",
            "{'universe': 'universe', 'dykes': 'Dykes', 'hates': 'hATES', 'lady': 'laaaaady'}\n"
          ]
        },
        {
          "output_type": "stream",
          "name": "stderr",
          "text": [
            " 72%|███████▏  | 1386/1924 [4:38:11<1:39:10, 11.06s/it]"
          ]
        },
        {
          "output_type": "stream",
          "name": "stdout",
          "text": [
            "['nigger', 'nigga', 'mud shark', 'chink', 'gook', 'spic', 'wetback', 'kike', 'sand nigger', 'towelhead', 'beaner', 'cracker', 'honky', 'jungle bunny', 'redskin', 'bitch', 'slut', 'whore', 'cunt', 'feminazi', 'dyke', 'tranny', 'she-male', 'gold digger', 'skank', 'faggot', 'fag', 'homo', 'queer', 'carpet muncher', 'pillow biter', 'fudge packer', 'lesbo', 'Christ killer', 'jihadist', 'infidel', 'kike', 'raghead', 'heathen', 'pagan', 'Bible basher', 'papist', 'kaffir', 'retard', 'cripple', 'spaz', 'mongoloid', 'psycho', 'nutjob', 'lame', 'vegetable', 'deaf-mute', 'imbecile', 'yank', 'brit', 'kraut', 'jap', 'commie', 'ruski', 'paki', 'wop', 'dago', 'polack', 'fatty', 'lardass', 'twig', 'beanpole', 'ugly', 'four-eyes', 'baldie', 'geek', 'nerd', 'pimple-face']\n",
            "['<user>', 'the', 'wrench', 'and', 'hammer', 'are', 'deep', 'fake', 'additions', 'that', 'chinazi', 'pig', 'came', 'over', 'ready', 'to', 'kill', 'someone']\n",
            "['<user>', 'the', 'wrench', 'and', 'HAMMER', 'arE', 'deep', 'fake', 'additions', 'that', 'chinazi', 'pig', 'came', 'over', 'redy', 'to', 'kill', 'sOmeOne']\n",
            "{'someone': 'sOmeOne', 'hammer': 'HAMMER', 'ready': 'redy', 'are': 'arE'}\n"
          ]
        },
        {
          "output_type": "stream",
          "name": "stderr",
          "text": [
            " 72%|███████▏  | 1391/1924 [4:38:52<1:25:58,  9.68s/it]"
          ]
        },
        {
          "output_type": "stream",
          "name": "stdout",
          "text": [
            "['nigger', 'nigga', 'mud shark', 'chink', 'gook', 'spic', 'wetback', 'kike', 'sand nigger', 'towelhead', 'beaner', 'cracker', 'honky', 'jungle bunny', 'redskin', 'bitch', 'slut', 'whore', 'cunt', 'feminazi', 'dyke', 'tranny', 'she-male', 'gold digger', 'skank', 'faggot', 'fag', 'homo', 'queer', 'carpet muncher', 'pillow biter', 'fudge packer', 'lesbo', 'Christ killer', 'jihadist', 'infidel', 'kike', 'raghead', 'heathen', 'pagan', 'Bible basher', 'papist', 'kaffir', 'retard', 'cripple', 'spaz', 'mongoloid', 'psycho', 'nutjob', 'lame', 'vegetable', 'deaf-mute', 'imbecile', 'yank', 'brit', 'kraut', 'jap', 'commie', 'ruski', 'paki', 'wop', 'dago', 'polack', 'fatty', 'lardass', 'twig', 'beanpole', 'ugly', 'four-eyes', 'baldie', 'geek', 'nerd', 'pimple-face']\n",
            "['staycommittedmrpm', 'all', 'muslim', 'world', 'is', 'watching', 'to', 'pakistan', 'and', 'imran', 'khan']\n",
            "['staycommittedmrpm', 'Alllllll', 'muslim', 'world', 'is', 'watching', 'to', 'pakistan', 'and', 'imran', 'khan']\n",
            "{'all': 'Alllllll'}\n"
          ]
        },
        {
          "output_type": "stream",
          "name": "stderr",
          "text": [
            " 73%|███████▎  | 1395/1924 [4:40:15<2:23:51, 16.32s/it]"
          ]
        },
        {
          "output_type": "stream",
          "name": "stdout",
          "text": [
            "['nigger', 'nigga', 'mud shark', 'chink', 'gook', 'spic', 'wetback', 'kike', 'sand nigger', 'towelhead', 'beaner', 'cracker', 'honky', 'jungle bunny', 'redskin', 'bitch', 'slut', 'whore', 'cunt', 'feminazi', 'dyke', 'tranny', 'she-male', 'gold digger', 'skank', 'faggot', 'fag', 'homo', 'queer', 'carpet muncher', 'pillow biter', 'fudge packer', 'lesbo', 'Christ killer', 'jihadist', 'infidel', 'kike', 'raghead', 'heathen', 'pagan', 'Bible basher', 'papist', 'kaffir', 'retard', 'cripple', 'spaz', 'mongoloid', 'psycho', 'nutjob', 'lame', 'vegetable', 'deaf-mute', 'imbecile', 'yank', 'brit', 'kraut', 'jap', 'commie', 'ruski', 'paki', 'wop', 'dago', 'polack', 'fatty', 'lardass', 'twig', 'beanpole', 'ugly', 'four-eyes', 'baldie', 'geek', 'nerd', 'pimple-face']\n",
            "['the', '<number>', 'russian', 'from', 'twitter', 'are', 'costing', 'kike', 'land', 'some', 'shekels', 'legendary', 'alt', 'right', 'barbaric', 'khazar', 'kike']\n",
            "['the', '<number>', 'russian', 'from', 'twitter', 'are', 'costing', 'KIKE', 'land', 'some', 'shekels', 'legendary', 'alt', 'right', 'barbaric', 'khazar', 'KIKE']\n",
            "{'kike': 'KIKE'}\n"
          ]
        },
        {
          "output_type": "stream",
          "name": "stderr",
          "text": [
            " 73%|███████▎  | 1401/1924 [4:41:10<1:33:49, 10.76s/it]"
          ]
        },
        {
          "output_type": "stream",
          "name": "stdout",
          "text": [
            "['nigger', 'nigga', 'mud shark', 'chink', 'gook', 'spic', 'wetback', 'kike', 'sand nigger', 'towelhead', 'beaner', 'cracker', 'honky', 'jungle bunny', 'redskin', 'bitch', 'slut', 'whore', 'cunt', 'feminazi', 'dyke', 'tranny', 'she-male', 'gold digger', 'skank', 'faggot', 'fag', 'homo', 'queer', 'carpet muncher', 'pillow biter', 'fudge packer', 'lesbo', 'Christ killer', 'jihadist', 'infidel', 'kike', 'raghead', 'heathen', 'pagan', 'Bible basher', 'papist', 'kaffir', 'retard', 'cripple', 'spaz', 'mongoloid', 'psycho', 'nutjob', 'lame', 'vegetable', 'deaf-mute', 'imbecile', 'yank', 'brit', 'kraut', 'jap', 'commie', 'ruski', 'paki', 'wop', 'dago', 'polack', 'fatty', 'lardass', 'twig', 'beanpole', 'ugly', 'four-eyes', 'baldie', 'geek', 'nerd', 'pimple-face']\n",
            "['<user>', '<user>', 'on', 'the', 'contrary', 'i', 'have', 'seen', 'many', 'a', 'uu', 'congregation', 'piss', 'and', 'moan', 'about', 'racism', 'bigotry', 'all', 'white', 'congregations', 'that', 'is', 'self', 'righteousness', 'is', 'an', 'observable', 'state']\n",
            "['<user>', '<user>', 'on', 'THHHe', 'Contrari', 'i', 'HavE', 'seen', 'many', 'a', 'uu', 'congregation', 'piss', 'and', 'moan', 'about', 'racism', 'bigotry', 'all', 'whitae', 'congregations', 'that', 'is', 'self', 'RIGHTEOUSNESS', 'is', 'an', 'observable', 'state']\n",
            "{'contrary': 'Contrari', 'white': 'whitae', 'have': 'HavE', 'the': 'THHHe', 'righteousness': 'RIGHTEOUSNESS'}\n"
          ]
        },
        {
          "output_type": "stream",
          "name": "stderr",
          "text": [
            " 73%|███████▎  | 1406/1924 [4:42:46<1:57:17, 13.58s/it]"
          ]
        },
        {
          "output_type": "stream",
          "name": "stdout",
          "text": [
            "['nigger', 'nigga', 'mud shark', 'chink', 'gook', 'spic', 'wetback', 'kike', 'sand nigger', 'towelhead', 'beaner', 'cracker', 'honky', 'jungle bunny', 'redskin', 'bitch', 'slut', 'whore', 'cunt', 'feminazi', 'dyke', 'tranny', 'she-male', 'gold digger', 'skank', 'faggot', 'fag', 'homo', 'queer', 'carpet muncher', 'pillow biter', 'fudge packer', 'lesbo', 'Christ killer', 'jihadist', 'infidel', 'kike', 'raghead', 'heathen', 'pagan', 'Bible basher', 'papist', 'kaffir', 'retard', 'cripple', 'spaz', 'mongoloid', 'psycho', 'nutjob', 'lame', 'vegetable', 'deaf-mute', 'imbecile', 'yank', 'brit', 'kraut', 'jap', 'commie', 'ruski', 'paki', 'wop', 'dago', 'polack', 'fatty', 'lardass', 'twig', 'beanpole', 'ugly', 'four-eyes', 'baldie', 'geek', 'nerd', 'pimple-face']\n",
            "['brennan', 'is', 'a', 'traitor', 'any', 'other', 'muslim', 'who', 'attains', 'a', 'position', 'of', 'responsibility', 'will', 'also', 'commit', 'treason', 'muslims', 'cannot', 'be', 'muslims', 'while', 'upholding', 'the', 'us', 'constitution', 'or', 'its', 'laws', 'they', 'are', 'irrevocably', 'in', 'conflict', 'with', 'so', 'called', 'islamic', 'law']\n",
            "['brennan', 'is', 'a', 'traitor', 'any', 'OTHER', 'muslim', 'who', 'attains', 'a', 'position', 'of', 'responsibility', 'will', 'also', 'commit', 'treason', 'muslims', 'cannoot', 'be', 'muslims', 'while', 'upholding', 'the', 'us', 'constitution', 'or', 'its', 'laws', 'theY', 'are', 'irrevocably', 'in', 'conflict', 'with', 'so', 'called', 'islamic', 'law']\n",
            "{'other': 'OTHER', 'cannot': 'cannoot', 'attains': 'attains', 'they': 'theY'}\n"
          ]
        },
        {
          "output_type": "stream",
          "name": "stderr",
          "text": [
            " 73%|███████▎  | 1411/1924 [4:43:31<1:38:54, 11.57s/it]"
          ]
        },
        {
          "output_type": "stream",
          "name": "stdout",
          "text": [
            "['nigger', 'nigga', 'mud shark', 'chink', 'gook', 'spic', 'wetback', 'kike', 'sand nigger', 'towelhead', 'beaner', 'cracker', 'honky', 'jungle bunny', 'redskin', 'bitch', 'slut', 'whore', 'cunt', 'feminazi', 'dyke', 'tranny', 'she-male', 'gold digger', 'skank', 'faggot', 'fag', 'homo', 'queer', 'carpet muncher', 'pillow biter', 'fudge packer', 'lesbo', 'Christ killer', 'jihadist', 'infidel', 'kike', 'raghead', 'heathen', 'pagan', 'Bible basher', 'papist', 'kaffir', 'retard', 'cripple', 'spaz', 'mongoloid', 'psycho', 'nutjob', 'lame', 'vegetable', 'deaf-mute', 'imbecile', 'yank', 'brit', 'kraut', 'jap', 'commie', 'ruski', 'paki', 'wop', 'dago', 'polack', 'fatty', 'lardass', 'twig', 'beanpole', 'ugly', 'four-eyes', 'baldie', 'geek', 'nerd', 'pimple-face']\n",
            "['house', 'republicans', 'overwhelmingly', 'voted', 'in', 'support', 'of', 'a', 'resolution', 'reaffirming', 'the', 'united', 'states', 'commitment', 'to', 'israel', '<number>', 'democrats', 'showed', 'they', 'are', 'no', 'longer', 'the', 'party', 'for', 'pro', 'israel', 'jews', 'the', 'least', 'surprising', 'was', 'muzrat', 'keith', 'ellison', 'a', 'candidate', 'to', 'head', 'the', 'dnc', 'fuc', 'kislam']\n",
            "['houseee', 'republicans', 'overwhelmingly', 'voted', 'in', 'support', 'of', 'a', 'resolution', 'reaffirming', 'the', 'united', 'states', 'COMMITMENT', 'to', 'israel', '<number>', 'democrats', 'showed', 'they', 'are', 'no', 'LONGER', 'the', 'Parti', 'for', 'pro', 'ISrael', 'jews', 'the', 'least', 'surprising', 'was', 'MUZRAT', 'keith', 'ellison', 'a', 'candidate', 'to', 'head', 'the', 'dnc', 'fuc', 'kislam']\n",
            "{'house': 'houseee', 'party': 'Parti', 'muzrat': 'MUZRAT', 'longer': 'LONGER', 'israel': 'ISrael', 'commitment': 'COMMITMENT', 'surprising': 'surprising'}\n"
          ]
        },
        {
          "output_type": "stream",
          "name": "stderr",
          "text": [
            " 74%|███████▎  | 1415/1924 [4:44:25<2:00:11, 14.17s/it]"
          ]
        },
        {
          "output_type": "stream",
          "name": "stdout",
          "text": [
            "['nigger', 'nigga', 'mud shark', 'chink', 'gook', 'spic', 'wetback', 'kike', 'sand nigger', 'towelhead', 'beaner', 'cracker', 'honky', 'jungle bunny', 'redskin', 'bitch', 'slut', 'whore', 'cunt', 'feminazi', 'dyke', 'tranny', 'she-male', 'gold digger', 'skank', 'faggot', 'fag', 'homo', 'queer', 'carpet muncher', 'pillow biter', 'fudge packer', 'lesbo', 'Christ killer', 'jihadist', 'infidel', 'kike', 'raghead', 'heathen', 'pagan', 'Bible basher', 'papist', 'kaffir', 'retard', 'cripple', 'spaz', 'mongoloid', 'psycho', 'nutjob', 'lame', 'vegetable', 'deaf-mute', 'imbecile', 'yank', 'brit', 'kraut', 'jap', 'commie', 'ruski', 'paki', 'wop', 'dago', 'polack', 'fatty', 'lardass', 'twig', 'beanpole', 'ugly', 'four-eyes', 'baldie', 'geek', 'nerd', 'pimple-face']\n",
            "['dude', 'you', 'are', 'a', 'fucking', 'idiot', 'skepticism', 'nihilism', 'and', 'trying', 'to', 'gaslight', 'me', 'are', 'not', 'arguments', 'miss', 'me', 'with', 'that', 'kike', 'shit']\n",
            "['dude', 'you', 'are', 'a', 'fucking', 'idiot', 'skepticism', 'nihilism', 'and', 'trying', 'to', 'gaslight', 'me', 'are', 'not', 'arguments', 'miss', 'me', 'with', 'that', 'kike', 'shit']\n",
            "{'kike': 'kike'}\n"
          ]
        },
        {
          "output_type": "stream",
          "name": "stderr",
          "text": [
            " 74%|███████▍  | 1421/1924 [4:45:14<1:14:09,  8.85s/it]"
          ]
        },
        {
          "output_type": "stream",
          "name": "stdout",
          "text": [
            "['nigger', 'nigga', 'mud shark', 'chink', 'gook', 'spic', 'wetback', 'kike', 'sand nigger', 'towelhead', 'beaner', 'cracker', 'honky', 'jungle bunny', 'redskin', 'bitch', 'slut', 'whore', 'cunt', 'feminazi', 'dyke', 'tranny', 'she-male', 'gold digger', 'skank', 'faggot', 'fag', 'homo', 'queer', 'carpet muncher', 'pillow biter', 'fudge packer', 'lesbo', 'Christ killer', 'jihadist', 'infidel', 'kike', 'raghead', 'heathen', 'pagan', 'Bible basher', 'papist', 'kaffir', 'retard', 'cripple', 'spaz', 'mongoloid', 'psycho', 'nutjob', 'lame', 'vegetable', 'deaf-mute', 'imbecile', 'yank', 'brit', 'kraut', 'jap', 'commie', 'ruski', 'paki', 'wop', 'dago', 'polack', 'fatty', 'lardass', 'twig', 'beanpole', 'ugly', 'four-eyes', 'baldie', 'geek', 'nerd', 'pimple-face']\n",
            "['honestly', 'what', 'the', 'difference', 'between', 'the', 'portuguese', 'burger', 'the', 'rio', 'one', 'and', 'the', 'chili', 'fish', 'one', 'from', 'mcdonald', 'they', 'all', 'look', 'like', 'the', 'same', 'shit']\n",
            "['honestly', 'what', 'the', 'difernece', 'between', 'the', 'portuguese', 'burger', 'thE', 'rio', 'one', 'and', 'the', 'chili', 'fish', 'one', 'from', 'mcdonald', 'they', 'aLL', 'Loook', 'LiKE', 'the', 'same', 'shit']\n",
            "{'like': 'LiKE', 'look': 'Loook', 'difference': 'difernece', 'the': 'thE', 'all': 'aLL'}\n"
          ]
        },
        {
          "output_type": "stream",
          "name": "stderr",
          "text": [
            " 74%|███████▍  | 1426/1924 [4:45:46<45:37,  5.50s/it]  "
          ]
        },
        {
          "output_type": "stream",
          "name": "stdout",
          "text": [
            "['nigger', 'nigga', 'mud shark', 'chink', 'gook', 'spic', 'wetback', 'kike', 'sand nigger', 'towelhead', 'beaner', 'cracker', 'honky', 'jungle bunny', 'redskin', 'bitch', 'slut', 'whore', 'cunt', 'feminazi', 'dyke', 'tranny', 'she-male', 'gold digger', 'skank', 'faggot', 'fag', 'homo', 'queer', 'carpet muncher', 'pillow biter', 'fudge packer', 'lesbo', 'Christ killer', 'jihadist', 'infidel', 'kike', 'raghead', 'heathen', 'pagan', 'Bible basher', 'papist', 'kaffir', 'retard', 'cripple', 'spaz', 'mongoloid', 'psycho', 'nutjob', 'lame', 'vegetable', 'deaf-mute', 'imbecile', 'yank', 'brit', 'kraut', 'jap', 'commie', 'ruski', 'paki', 'wop', 'dago', 'polack', 'fatty', 'lardass', 'twig', 'beanpole', 'ugly', 'four-eyes', 'baldie', 'geek', 'nerd', 'pimple-face']\n",
            "['so', 'muslim', 'is', 'back', 'killing', 'people', 'with', 'truck', 'again', 'islam', 'the', 'religion', 'of', 'peace', 'etc']\n",
            "['so', 'muslim', 'is', 'back', 'killing', 'people', 'with', 'trck', 'again', 'islam', 'the', 'religion', 'of', 'peacee', 'etc']\n",
            "{'truck': 'trck', 'peace': 'peacee'}\n"
          ]
        },
        {
          "output_type": "stream",
          "name": "stderr",
          "text": [
            " 74%|███████▍  | 1431/1924 [4:46:20<50:41,  6.17s/it]"
          ]
        },
        {
          "output_type": "stream",
          "name": "stdout",
          "text": [
            "['nigger', 'nigga', 'mud shark', 'chink', 'gook', 'spic', 'wetback', 'kike', 'sand nigger', 'towelhead', 'beaner', 'cracker', 'honky', 'jungle bunny', 'redskin', 'bitch', 'slut', 'whore', 'cunt', 'feminazi', 'dyke', 'tranny', 'she-male', 'gold digger', 'skank', 'faggot', 'fag', 'homo', 'queer', 'carpet muncher', 'pillow biter', 'fudge packer', 'lesbo', 'Christ killer', 'jihadist', 'infidel', 'kike', 'raghead', 'heathen', 'pagan', 'Bible basher', 'papist', 'kaffir', 'retard', 'cripple', 'spaz', 'mongoloid', 'psycho', 'nutjob', 'lame', 'vegetable', 'deaf-mute', 'imbecile', 'yank', 'brit', 'kraut', 'jap', 'commie', 'ruski', 'paki', 'wop', 'dago', 'polack', 'fatty', 'lardass', 'twig', 'beanpole', 'ugly', 'four-eyes', 'baldie', 'geek', 'nerd', 'pimple-face']\n",
            "['if', 'that', 'was', 'my', 'mother', 'that', 'nigger', 'would', 'be', 'on', 'a', 'slab', 'at', 'the', 'morgue', 'right', 'now']\n",
            "['if', 'that', 'was', 'my', 'mother', 'that', 'nigr', 'would', 'be', 'on', 'a', 'slab', 'at', 'the', 'morgue', 'right', 'now']\n",
            "{'nigger': 'nigr'}\n"
          ]
        },
        {
          "output_type": "stream",
          "name": "stderr",
          "text": [
            " 75%|███████▍  | 1436/1924 [4:47:41<2:36:49, 19.28s/it]"
          ]
        },
        {
          "output_type": "stream",
          "name": "stdout",
          "text": [
            "['nigger', 'nigga', 'mud shark', 'chink', 'gook', 'spic', 'wetback', 'kike', 'sand nigger', 'towelhead', 'beaner', 'cracker', 'honky', 'jungle bunny', 'redskin', 'bitch', 'slut', 'whore', 'cunt', 'feminazi', 'dyke', 'tranny', 'she-male', 'gold digger', 'skank', 'faggot', 'fag', 'homo', 'queer', 'carpet muncher', 'pillow biter', 'fudge packer', 'lesbo', 'Christ killer', 'jihadist', 'infidel', 'kike', 'raghead', 'heathen', 'pagan', 'Bible basher', 'papist', 'kaffir', 'retard', 'cripple', 'spaz', 'mongoloid', 'psycho', 'nutjob', 'lame', 'vegetable', 'deaf-mute', 'imbecile', 'yank', 'brit', 'kraut', 'jap', 'commie', 'ruski', 'paki', 'wop', 'dago', 'polack', 'fatty', 'lardass', 'twig', 'beanpole', 'ugly', 'four-eyes', 'baldie', 'geek', 'nerd', 'pimple-face']\n",
            "['now', 'now', 'with', 'all', 'of', 'these', 'needy', 'white', 'people', 'crying', 'out', 'to', 'beto', 'y', 'maria', 'garcía', 'from', 'michoacan', 'for', 'remedial', 'human', 'reproductive', 'sexual', 'instruction', 'the', 'least', 'you', 'could', 'do', 'is', 'inform', 'them', 'the', 'kamasutra', 'offers', 'a', 'frog', 'position']\n",
            "['now', 'now', 'with', 'all', 'of', 'these', 'needy', 'WHITE', 'people', 'cRyIng', 'OuT', 'to', 'beto', 'y', 'maria', 'garcía', 'from', 'michoacan', 'for', 'remedial', 'human', 'reproductive', 'sexual', 'instruction', 'The', 'least', 'YOUUUUU', 'could', 'do', 'is', 'inform', 'them', 'the', 'kamasutra', 'offers', 'a', 'frog', 'POSITION']\n",
            "{'white': 'WHITE', 'position': 'POSITION', 'you': 'YOUUUUU', 'out': 'OuT', 'crying': 'cRyIng', 'reproductive': 'reproductive', 'the': 'The'}\n"
          ]
        },
        {
          "output_type": "stream",
          "name": "stderr",
          "text": [
            " 75%|███████▍  | 1441/1924 [4:48:38<2:07:54, 15.89s/it]"
          ]
        },
        {
          "output_type": "stream",
          "name": "stdout",
          "text": [
            "['nigger', 'nigga', 'mud shark', 'chink', 'gook', 'spic', 'wetback', 'kike', 'sand nigger', 'towelhead', 'beaner', 'cracker', 'honky', 'jungle bunny', 'redskin', 'bitch', 'slut', 'whore', 'cunt', 'feminazi', 'dyke', 'tranny', 'she-male', 'gold digger', 'skank', 'faggot', 'fag', 'homo', 'queer', 'carpet muncher', 'pillow biter', 'fudge packer', 'lesbo', 'Christ killer', 'jihadist', 'infidel', 'kike', 'raghead', 'heathen', 'pagan', 'Bible basher', 'papist', 'kaffir', 'retard', 'cripple', 'spaz', 'mongoloid', 'psycho', 'nutjob', 'lame', 'vegetable', 'deaf-mute', 'imbecile', 'yank', 'brit', 'kraut', 'jap', 'commie', 'ruski', 'paki', 'wop', 'dago', 'polack', 'fatty', 'lardass', 'twig', 'beanpole', 'ugly', 'four-eyes', 'baldie', 'geek', 'nerd', 'pimple-face']\n",
            "['democrats', 'forever', 'the', 'partyofslaves', 'all', 'they', 'ever', 'do', 'is', 'obstruct', 'that', 'so', 'they', 'can', 'keep', 'you', 'in', 'chains', 'housenigger', 'pimped', 'out', 'whores', 'who', 'keep', 'the', 'ghetto', 'complacent', 'slaveryisfreedom']\n",
            "['democrats', 'forever', 'the', 'partyofslaves', 'all', 'THY', 'ever', 'do', 'is', 'obstruct', 'THATTT', 'so', 'they', 'can', 'keep', 'youuuuuu', 'in', 'chains', 'housenigger', 'pimped', 'out', 'WhOrEs', 'whhoooo', 'keep', 'the', 'ghett0', 'complacent', 'slaveryisfreedom']\n",
            "{'whores': 'WhOrEs', 'ghetto': 'ghett0', 'who': 'whhoooo', 'that': 'THATTT', 'they': 'THY', 'you': 'youuuuuu'}\n"
          ]
        },
        {
          "output_type": "stream",
          "name": "stderr",
          "text": [
            " 75%|███████▌  | 1446/1924 [4:50:59<4:23:12, 33.04s/it]"
          ]
        },
        {
          "output_type": "stream",
          "name": "stdout",
          "text": [
            "['nigger', 'nigga', 'mud shark', 'chink', 'gook', 'spic', 'wetback', 'kike', 'sand nigger', 'towelhead', 'beaner', 'cracker', 'honky', 'jungle bunny', 'redskin', 'bitch', 'slut', 'whore', 'cunt', 'feminazi', 'dyke', 'tranny', 'she-male', 'gold digger', 'skank', 'faggot', 'fag', 'homo', 'queer', 'carpet muncher', 'pillow biter', 'fudge packer', 'lesbo', 'Christ killer', 'jihadist', 'infidel', 'kike', 'raghead', 'heathen', 'pagan', 'Bible basher', 'papist', 'kaffir', 'retard', 'cripple', 'spaz', 'mongoloid', 'psycho', 'nutjob', 'lame', 'vegetable', 'deaf-mute', 'imbecile', 'yank', 'brit', 'kraut', 'jap', 'commie', 'ruski', 'paki', 'wop', 'dago', 'polack', 'fatty', 'lardass', 'twig', 'beanpole', 'ugly', 'four-eyes', 'baldie', 'geek', 'nerd', 'pimple-face']\n",
            "['so', 'you', 'agree', 'then', 'she', 'as', 'white', 'english', 'as', 'you', 'bringing', 'mongols', 'from', '<number>', 'years', 'ago', 'into', 'it', 'does', 'not', 'negate', 'that', 'fact', 'does', 'it', 'so', 'you', 'judged', 'her', 'purely', 'on', 'her', 'looks', 'and', 'assumed', 'wrongly', 'that', 'why', 'your', 'national', 'socialism', 'is', 'retarded', '😊']\n",
            "['so', 'you', 'AGREE', 'thannn', 'she', 'as', 'white', 'ENglish', 'as', 'you', 'bringing', 'mongols', 'from', '<number>', 'yeras', 'ago', 'into', 'it', 'doess', 'not', 'negate', 'that', 'fact', 'does', 'it', 'so', 'you', 'judged', 'her', 'purely', 'on', 'her', 'looks', 'and', 'assumed', 'WRONGLY', 'THat', 'why', 'your', 'national', 'socialism', 'is', 'retarded', '😊']\n",
            "{'agree': 'AGREE', 'that': 'THat', 'does': 'doess', 'then': 'thannn', 'wrongly': 'WRONGLY', 'years': 'yeras', 'english': 'ENglish', 'negate': 'negate', 'mongols': 'mongols'}\n"
          ]
        },
        {
          "output_type": "stream",
          "name": "stderr",
          "text": [
            " 75%|███████▌  | 1451/1924 [4:51:45<2:02:49, 15.58s/it]"
          ]
        },
        {
          "output_type": "stream",
          "name": "stdout",
          "text": [
            "['nigger', 'nigga', 'mud shark', 'chink', 'gook', 'spic', 'wetback', 'kike', 'sand nigger', 'towelhead', 'beaner', 'cracker', 'honky', 'jungle bunny', 'redskin', 'bitch', 'slut', 'whore', 'cunt', 'feminazi', 'dyke', 'tranny', 'she-male', 'gold digger', 'skank', 'faggot', 'fag', 'homo', 'queer', 'carpet muncher', 'pillow biter', 'fudge packer', 'lesbo', 'Christ killer', 'jihadist', 'infidel', 'kike', 'raghead', 'heathen', 'pagan', 'Bible basher', 'papist', 'kaffir', 'retard', 'cripple', 'spaz', 'mongoloid', 'psycho', 'nutjob', 'lame', 'vegetable', 'deaf-mute', 'imbecile', 'yank', 'brit', 'kraut', 'jap', 'commie', 'ruski', 'paki', 'wop', 'dago', 'polack', 'fatty', 'lardass', 'twig', 'beanpole', 'ugly', 'four-eyes', 'baldie', 'geek', 'nerd', 'pimple-face']\n",
            "['<number>', 'in', '<number>', 'women', '<number>', 'in', '<number>', 'men', '<percent>', 'of', 'lesbian', 'women', '<percent>', 'of', 'bisexual', 'women', '<percent>', 'of', 'gay', 'men', '<percent>', 'of', 'bisexual', 'men', 'no', 'data', 'on', 'nb', 'and', 'trans', 'women', 'are', 'being', 'murdered', 'it', 'statistically', 'impossible', 'for', 'you', 'not', 'to', 'know', 'someone', 'who', 'has', 'experienced', 'domestic', 'violence']\n",
            "['<number>', 'in', '<number>', 'women', '<number>', 'in', '<number>', 'men', '<percent>', 'of', 'lesbian', 'women', '<percent>', 'of', 'Bisexual', 'women', '<percent>', 'of', 'gay', 'men', '<percent>', 'of', 'bisexual', 'men', 'no', 'data', 'on', 'nb', 'and', 'tranS', 'WoMen', 'are', 'being', 'murdered', 'it', 'statistically', 'impossible', 'for', 'Youuuuu', 'not', 'to', 'kn0W', 'someone', 'who', 'has', 'experienced', 'domestic', 'violence']\n",
            "{'know': 'kn0W', 'women': 'WoMen', 'trans': 'tranS', 'you': 'Youuuuu', 'bisexual': 'Bisexual'}\n"
          ]
        },
        {
          "output_type": "stream",
          "name": "stderr",
          "text": [
            " 76%|███████▌  | 1456/1924 [4:52:57<2:06:01, 16.16s/it]"
          ]
        },
        {
          "output_type": "stream",
          "name": "stdout",
          "text": [
            "['nigger', 'nigga', 'mud shark', 'chink', 'gook', 'spic', 'wetback', 'kike', 'sand nigger', 'towelhead', 'beaner', 'cracker', 'honky', 'jungle bunny', 'redskin', 'bitch', 'slut', 'whore', 'cunt', 'feminazi', 'dyke', 'tranny', 'she-male', 'gold digger', 'skank', 'faggot', 'fag', 'homo', 'queer', 'carpet muncher', 'pillow biter', 'fudge packer', 'lesbo', 'Christ killer', 'jihadist', 'infidel', 'kike', 'raghead', 'heathen', 'pagan', 'Bible basher', 'papist', 'kaffir', 'retard', 'cripple', 'spaz', 'mongoloid', 'psycho', 'nutjob', 'lame', 'vegetable', 'deaf-mute', 'imbecile', 'yank', 'brit', 'kraut', 'jap', 'commie', 'ruski', 'paki', 'wop', 'dago', 'polack', 'fatty', 'lardass', 'twig', 'beanpole', 'ugly', 'four-eyes', 'baldie', 'geek', 'nerd', 'pimple-face']\n",
            "['gta', 'san', 'andreas', 'the', 'story', 'of', 'an', 'above', 'average', 'somewhat', 'talented', 'black', 'man', 'who', 'escapes', 'the', 'ghetto', 'and', 'becomes', 'reasonably', 'successful', 'only', 'to', 'be', 'dragged', 'back', 'in', 'in', 'the', 'final', 'act', 'because', 'his', 'brother', 'is', 'a', 'stubborn', 'dumbass', '-_-']\n",
            "['gta', 'san', 'andreas', 'the', 'story', 'of', 'an', 'above', 'average', 'somewhat', 'talented', 'black', 'man', 'who', 'escapes', 'the', 'ghetto', 'and', 'becomes', 'Reasonably', 'successful', 'only', 'to', 'be', 'draggged', 'back', 'in', 'in', 'the', 'final', 'aCT', 'because', 'his', 'brother', 'is', 'a', 'stubborn', 'dumbAss', '-_-']\n",
            "{'dragged': 'draggged', 'dumbass': 'dumbAss', 'act': 'aCT', 'reasonably': 'Reasonably', 'above': 'above'}\n"
          ]
        },
        {
          "output_type": "stream",
          "name": "stderr",
          "text": [
            " 76%|███████▌  | 1461/1924 [4:54:38<1:35:47, 12.41s/it]"
          ]
        },
        {
          "output_type": "stream",
          "name": "stdout",
          "text": [
            "['nigger', 'nigga', 'mud shark', 'chink', 'gook', 'spic', 'wetback', 'kike', 'sand nigger', 'towelhead', 'beaner', 'cracker', 'honky', 'jungle bunny', 'redskin', 'bitch', 'slut', 'whore', 'cunt', 'feminazi', 'dyke', 'tranny', 'she-male', 'gold digger', 'skank', 'faggot', 'fag', 'homo', 'queer', 'carpet muncher', 'pillow biter', 'fudge packer', 'lesbo', 'Christ killer', 'jihadist', 'infidel', 'kike', 'raghead', 'heathen', 'pagan', 'Bible basher', 'papist', 'kaffir', 'retard', 'cripple', 'spaz', 'mongoloid', 'psycho', 'nutjob', 'lame', 'vegetable', 'deaf-mute', 'imbecile', 'yank', 'brit', 'kraut', 'jap', 'commie', 'ruski', 'paki', 'wop', 'dago', 'polack', 'fatty', 'lardass', 'twig', 'beanpole', 'ugly', 'four-eyes', 'baldie', 'geek', 'nerd', 'pimple-face']\n",
            "['<user>', 'the', 'same', 'people', 'who', 'defend', 'a', 'woman', 'right', 'to', 'post', 'ass', 'pics', 'on', 'instagram', 'are', 'the', 'same', 'to', 'try', 'and', 'push', 'them', 'out', 'of', 'a', 'job', 'and', 'suddenly', 'say', 'it', 'degrading', 'to', 'them', 'will', 'you', 'ugly', 'dykes', 'pick', 'something', 'to', 'be', 'offended', 'by', 'and', 'stick', 'with', 'it']\n",
            "['<user>', 'the', 'same', 'people', 'who', 'defend', 'a', 'woman', 'right', 'to', 'post', 'ass', 'pics', 'on', 'instagram', 'are', 'the', 'same', 'to', 'try', 'and', 'push', 'them', 'out', 'of', 'a', 'job', 'and', 'suddenly', 'say', 'it', 'degrading', 'to', 'them', 'will', 'you', 'uglii', 'dykes', 'pick', 'something', 'to', 'be', 'offended', 'by', 'and', 'stick', 'with', 'it']\n",
            "{'ugly': 'uglii'}\n"
          ]
        },
        {
          "output_type": "stream",
          "name": "stderr",
          "text": [
            " 76%|███████▌  | 1466/1924 [4:56:23<2:19:48, 18.32s/it]"
          ]
        },
        {
          "output_type": "stream",
          "name": "stdout",
          "text": [
            "['nigger', 'nigga', 'mud shark', 'chink', 'gook', 'spic', 'wetback', 'kike', 'sand nigger', 'towelhead', 'beaner', 'cracker', 'honky', 'jungle bunny', 'redskin', 'bitch', 'slut', 'whore', 'cunt', 'feminazi', 'dyke', 'tranny', 'she-male', 'gold digger', 'skank', 'faggot', 'fag', 'homo', 'queer', 'carpet muncher', 'pillow biter', 'fudge packer', 'lesbo', 'Christ killer', 'jihadist', 'infidel', 'kike', 'raghead', 'heathen', 'pagan', 'Bible basher', 'papist', 'kaffir', 'retard', 'cripple', 'spaz', 'mongoloid', 'psycho', 'nutjob', 'lame', 'vegetable', 'deaf-mute', 'imbecile', 'yank', 'brit', 'kraut', 'jap', 'commie', 'ruski', 'paki', 'wop', 'dago', 'polack', 'fatty', 'lardass', 'twig', 'beanpole', 'ugly', 'four-eyes', 'baldie', 'geek', 'nerd', 'pimple-face']\n",
            "['those', 'are', 'called', 'niglets']\n",
            "['Those', 'are', 'called', 'niglets']\n",
            "{'those': 'Those'}\n"
          ]
        },
        {
          "output_type": "stream",
          "name": "stderr",
          "text": [
            " 76%|███████▋  | 1471/1924 [4:57:07<1:18:27, 10.39s/it]"
          ]
        },
        {
          "output_type": "stream",
          "name": "stdout",
          "text": [
            "['nigger', 'nigga', 'mud shark', 'chink', 'gook', 'spic', 'wetback', 'kike', 'sand nigger', 'towelhead', 'beaner', 'cracker', 'honky', 'jungle bunny', 'redskin', 'bitch', 'slut', 'whore', 'cunt', 'feminazi', 'dyke', 'tranny', 'she-male', 'gold digger', 'skank', 'faggot', 'fag', 'homo', 'queer', 'carpet muncher', 'pillow biter', 'fudge packer', 'lesbo', 'Christ killer', 'jihadist', 'infidel', 'kike', 'raghead', 'heathen', 'pagan', 'Bible basher', 'papist', 'kaffir', 'retard', 'cripple', 'spaz', 'mongoloid', 'psycho', 'nutjob', 'lame', 'vegetable', 'deaf-mute', 'imbecile', 'yank', 'brit', 'kraut', 'jap', 'commie', 'ruski', 'paki', 'wop', 'dago', 'polack', 'fatty', 'lardass', 'twig', 'beanpole', 'ugly', 'four-eyes', 'baldie', 'geek', 'nerd', 'pimple-face']\n",
            "['better', 'believe', 'the', 'kikes', 'are', 'behind', 'these', 'nigger', 'attacks']\n",
            "['better', 'believe', 'the', 'kikes', 'are', 'behind', 'these', 'NIGR', 'attacks']\n",
            "{'nigger': 'NIGR'}\n"
          ]
        },
        {
          "output_type": "stream",
          "name": "stderr",
          "text": [
            " 77%|███████▋  | 1476/1924 [4:57:57<1:17:18, 10.35s/it]"
          ]
        },
        {
          "output_type": "stream",
          "name": "stdout",
          "text": [
            "['nigger', 'nigga', 'mud shark', 'chink', 'gook', 'spic', 'wetback', 'kike', 'sand nigger', 'towelhead', 'beaner', 'cracker', 'honky', 'jungle bunny', 'redskin', 'bitch', 'slut', 'whore', 'cunt', 'feminazi', 'dyke', 'tranny', 'she-male', 'gold digger', 'skank', 'faggot', 'fag', 'homo', 'queer', 'carpet muncher', 'pillow biter', 'fudge packer', 'lesbo', 'Christ killer', 'jihadist', 'infidel', 'kike', 'raghead', 'heathen', 'pagan', 'Bible basher', 'papist', 'kaffir', 'retard', 'cripple', 'spaz', 'mongoloid', 'psycho', 'nutjob', 'lame', 'vegetable', 'deaf-mute', 'imbecile', 'yank', 'brit', 'kraut', 'jap', 'commie', 'ruski', 'paki', 'wop', 'dago', 'polack', 'fatty', 'lardass', 'twig', 'beanpole', 'ugly', 'four-eyes', 'baldie', 'geek', 'nerd', 'pimple-face']\n",
            "['<user>', 'holy', 'fucking', 'shit', 'jizzy', 'you', 'look', 'like', 'mark', 'cale', 'i', 'am', 'fucking', 'confused', 'are', 'you', '<number>', 'or', '<number>', 'are', 'you', 'just', 'a', 'retard', 'or', 'a', 'window', 'licking', 'anus', 'tickling', 'retard']\n",
            "['<user>', 'holy', 'fucking', 'shit', 'jizzy', 'you', 'look', 'like', 'mark', 'cale', 'i', 'am', 'fucking', 'confused', 'are', 'you', '<number>', 'or', '<number>', 'are', 'you', 'just', 'a', 'Retard', 'or', 'a', 'window', 'licking', 'anus', 'tickling', 'reeetard']\n",
            "{'retard': 'reeetard'}\n"
          ]
        },
        {
          "output_type": "stream",
          "name": "stderr",
          "text": [
            " 77%|███████▋  | 1481/1924 [4:59:28<1:32:32, 12.53s/it]"
          ]
        },
        {
          "output_type": "stream",
          "name": "stdout",
          "text": [
            "['nigger', 'nigga', 'mud shark', 'chink', 'gook', 'spic', 'wetback', 'kike', 'sand nigger', 'towelhead', 'beaner', 'cracker', 'honky', 'jungle bunny', 'redskin', 'bitch', 'slut', 'whore', 'cunt', 'feminazi', 'dyke', 'tranny', 'she-male', 'gold digger', 'skank', 'faggot', 'fag', 'homo', 'queer', 'carpet muncher', 'pillow biter', 'fudge packer', 'lesbo', 'Christ killer', 'jihadist', 'infidel', 'kike', 'raghead', 'heathen', 'pagan', 'Bible basher', 'papist', 'kaffir', 'retard', 'cripple', 'spaz', 'mongoloid', 'psycho', 'nutjob', 'lame', 'vegetable', 'deaf-mute', 'imbecile', 'yank', 'brit', 'kraut', 'jap', 'commie', 'ruski', 'paki', 'wop', 'dago', 'polack', 'fatty', 'lardass', 'twig', 'beanpole', 'ugly', 'four-eyes', 'baldie', 'geek', 'nerd', 'pimple-face']\n",
            "['why', 'is', 'it', 'that', 'we', 'always', 'hear', 'about', 'how', 'rain', 'depresses', 'nigger', 'voter', 'turnout', 'but', 'they', 'will', 'go', 'out', 'in', 'a', 'hurricane', 'to', 'loot', 'and', 'steal', 'shit']\n",
            "['why', 'is', 'it', 'that', 'we', 'always', 'hear', 'about', 'how', 'rain', 'depresses', 'NIGGR', 'voter', 'turnout', 'but', 'they', 'will', 'go', 'out', 'in', 'a', 'hurricane', 'to', 'loot', 'and', 'steal', 'shit']\n",
            "{'nigger': 'NIGGR'}\n"
          ]
        },
        {
          "output_type": "stream",
          "name": "stderr",
          "text": [
            " 77%|███████▋  | 1486/1924 [5:02:09<3:23:49, 27.92s/it]"
          ]
        },
        {
          "output_type": "stream",
          "name": "stdout",
          "text": [
            "['nigger', 'nigga', 'mud shark', 'chink', 'gook', 'spic', 'wetback', 'kike', 'sand nigger', 'towelhead', 'beaner', 'cracker', 'honky', 'jungle bunny', 'redskin', 'bitch', 'slut', 'whore', 'cunt', 'feminazi', 'dyke', 'tranny', 'she-male', 'gold digger', 'skank', 'faggot', 'fag', 'homo', 'queer', 'carpet muncher', 'pillow biter', 'fudge packer', 'lesbo', 'Christ killer', 'jihadist', 'infidel', 'kike', 'raghead', 'heathen', 'pagan', 'Bible basher', 'papist', 'kaffir', 'retard', 'cripple', 'spaz', 'mongoloid', 'psycho', 'nutjob', 'lame', 'vegetable', 'deaf-mute', 'imbecile', 'yank', 'brit', 'kraut', 'jap', 'commie', 'ruski', 'paki', 'wop', 'dago', 'polack', 'fatty', 'lardass', 'twig', 'beanpole', 'ugly', 'four-eyes', 'baldie', 'geek', 'nerd', 'pimple-face']\n",
            "['you', 'all', 'faggots', 'really', 'overhype', 'anything', 'kim', 'petras', 'only', 'good', 'songs', 'are', 'her', 'halloween', 'songs', 'the', 'rest', 'is', 'kinda', 'trash', '🤢', 'can', 'not', 'wait', 'to', 'listen', 'to', 'turn', 'off', 'the', 'light', 'tho', 'omg']\n",
            "['you', 'all', 'faggots', 'ReALLy', 'overhype', 'anything', 'kim', 'petras', 'only', 'good', 'songs', 'arE', 'her', 'halloween', 'songs', 'the', 'rest', 'is', 'kinda', 'trash', '🤢', 'can', 'Nottt', 'wAIT', 'to', 'listen', 'to', 'turn', 'off', 'THE', 'light', 'thoooo', 'omg']\n",
            "{'tho': 'thoooo', 'turn': 'turn', 'the': 'THE', 'are': 'arE', 'really': 'ReALLy', 'not': 'Nottt', 'wait': 'wAIT'}\n"
          ]
        },
        {
          "output_type": "stream",
          "name": "stderr",
          "text": [
            " 77%|███████▋  | 1491/1924 [5:03:09<2:13:44, 18.53s/it]"
          ]
        },
        {
          "output_type": "stream",
          "name": "stdout",
          "text": [
            "['nigger', 'nigga', 'mud shark', 'chink', 'gook', 'spic', 'wetback', 'kike', 'sand nigger', 'towelhead', 'beaner', 'cracker', 'honky', 'jungle bunny', 'redskin', 'bitch', 'slut', 'whore', 'cunt', 'feminazi', 'dyke', 'tranny', 'she-male', 'gold digger', 'skank', 'faggot', 'fag', 'homo', 'queer', 'carpet muncher', 'pillow biter', 'fudge packer', 'lesbo', 'Christ killer', 'jihadist', 'infidel', 'kike', 'raghead', 'heathen', 'pagan', 'Bible basher', 'papist', 'kaffir', 'retard', 'cripple', 'spaz', 'mongoloid', 'psycho', 'nutjob', 'lame', 'vegetable', 'deaf-mute', 'imbecile', 'yank', 'brit', 'kraut', 'jap', 'commie', 'ruski', 'paki', 'wop', 'dago', 'polack', 'fatty', 'lardass', 'twig', 'beanpole', 'ugly', 'four-eyes', 'baldie', 'geek', 'nerd', 'pimple-face']\n",
            "['wait', 'i', 'forgot', 'to', 'mention', 'my', 'coworker', 'saw', 'my', 'hobi', 'photocard', 'and', 'asked', 'if', 'it', 'was', 'my', 'bf', '😭', '🥺', 'stupid', 'b', 'tch', 'i', 'am', 'dykey', 'dykey']\n",
            "['wait', 'i', 'forgot', 'to', 'mention', 'my', 'coworker', 'SaW', 'my', 'hobi', 'photocard', 'annnnd', 'asked', 'if', 'it', 'wasss', 'my', 'bf', '😭', '🥺', 'stupid', 'b', 'tch', 'i', 'am', 'dykey', 'dykey']\n",
            "{'and': 'annnnd', 'saw': 'SaW', 'was': 'wasss', 'mention': 'mention'}\n"
          ]
        },
        {
          "output_type": "stream",
          "name": "stderr",
          "text": [
            " 78%|███████▊  | 1495/1924 [5:03:33<1:10:55,  9.92s/it]"
          ]
        },
        {
          "output_type": "stream",
          "name": "stdout",
          "text": [
            "['nigger', 'nigga', 'mud shark', 'chink', 'gook', 'spic', 'wetback', 'kike', 'sand nigger', 'towelhead', 'beaner', 'cracker', 'honky', 'jungle bunny', 'redskin', 'bitch', 'slut', 'whore', 'cunt', 'feminazi', 'dyke', 'tranny', 'she-male', 'gold digger', 'skank', 'faggot', 'fag', 'homo', 'queer', 'carpet muncher', 'pillow biter', 'fudge packer', 'lesbo', 'Christ killer', 'jihadist', 'infidel', 'kike', 'raghead', 'heathen', 'pagan', 'Bible basher', 'papist', 'kaffir', 'retard', 'cripple', 'spaz', 'mongoloid', 'psycho', 'nutjob', 'lame', 'vegetable', 'deaf-mute', 'imbecile', 'yank', 'brit', 'kraut', 'jap', 'commie', 'ruski', 'paki', 'wop', 'dago', 'polack', 'fatty', 'lardass', 'twig', 'beanpole', 'ugly', 'four-eyes', 'baldie', 'geek', 'nerd', 'pimple-face']\n",
            "['did', 'not', 'he', 'throw', 'bricks', 'at', 'vietnamese', 'people', 'in', 'his', 'youth', 'if', 'he', 'wants', 'forgiveness', 'for', 'degenerate', 'kike', 'movies', 'instead', 'of', 'pwning', 'asians', 'with', 'bricks', 'he', 'might', 'just', 'be', 'ourguy']\n",
            "['did', 'not', 'he', 'throw', 'bricks', 'at', 'vietnamese', 'people', 'in', 'his', 'youth', 'if', 'he', 'wants', 'forgiveness', 'for', 'degenerate', 'KIKE', 'movies', 'instead', 'of', 'pwning', 'asians', 'with', 'bricks', 'he', 'might', 'just', 'be', 'ourguy']\n",
            "{'kike': 'KIKE'}\n"
          ]
        },
        {
          "output_type": "stream",
          "name": "stderr",
          "text": [
            " 78%|███████▊  | 1501/1924 [5:04:30<1:07:15,  9.54s/it]"
          ]
        },
        {
          "output_type": "stream",
          "name": "stdout",
          "text": [
            "['nigger', 'nigga', 'mud shark', 'chink', 'gook', 'spic', 'wetback', 'kike', 'sand nigger', 'towelhead', 'beaner', 'cracker', 'honky', 'jungle bunny', 'redskin', 'bitch', 'slut', 'whore', 'cunt', 'feminazi', 'dyke', 'tranny', 'she-male', 'gold digger', 'skank', 'faggot', 'fag', 'homo', 'queer', 'carpet muncher', 'pillow biter', 'fudge packer', 'lesbo', 'Christ killer', 'jihadist', 'infidel', 'kike', 'raghead', 'heathen', 'pagan', 'Bible basher', 'papist', 'kaffir', 'retard', 'cripple', 'spaz', 'mongoloid', 'psycho', 'nutjob', 'lame', 'vegetable', 'deaf-mute', 'imbecile', 'yank', 'brit', 'kraut', 'jap', 'commie', 'ruski', 'paki', 'wop', 'dago', 'polack', 'fatty', 'lardass', 'twig', 'beanpole', 'ugly', 'four-eyes', 'baldie', 'geek', 'nerd', 'pimple-face']\n",
            "['and', 'i', 'told', 'you', 'at', 'the', 'time', 'as', 'now', 'that', 'your', 'list', 'is', 'info', 'everyone', 'already', 'knows', 'what', 'you', 'are', 'afraid', 'to', 'tackle', 'is', 'the', 'reason', 'behind', 'raghead', 'terrorism', 'as', 'it', 'places', 'all', 'the', 'blame', 'on', 'your', 'precious', 'kikes', 'i', 'say', 'let', 'them', 'both', 'kill', 'each', 'other', 'good', 'riddance']\n",
            "['and', 'i', 'told', 'you', 'at', 'the', 'time', 'as', 'now', 'that', 'your', 'list', 'is', 'info', 'everyone', 'already', 'knows', 'what', 'you', 'are', 'afraid', 'to', 'tackle', 'is', 'the', 'reason', 'behind', 'raghead', 'terrorism', 'as', 'it', 'places', 'all', 'the', 'blame', 'on', 'your', 'precious', 'kikes', 'i', 'say', 'let', 'them', 'both', 'kill', 'each', 'other', 'good', 'riddance']\n",
            "{'raghead': 'raghead'}\n"
          ]
        },
        {
          "output_type": "stream",
          "name": "stderr",
          "text": [
            " 78%|███████▊  | 1506/1924 [5:06:05<1:44:16, 14.97s/it]"
          ]
        },
        {
          "output_type": "stream",
          "name": "stdout",
          "text": [
            "['nigger', 'nigga', 'mud shark', 'chink', 'gook', 'spic', 'wetback', 'kike', 'sand nigger', 'towelhead', 'beaner', 'cracker', 'honky', 'jungle bunny', 'redskin', 'bitch', 'slut', 'whore', 'cunt', 'feminazi', 'dyke', 'tranny', 'she-male', 'gold digger', 'skank', 'faggot', 'fag', 'homo', 'queer', 'carpet muncher', 'pillow biter', 'fudge packer', 'lesbo', 'Christ killer', 'jihadist', 'infidel', 'kike', 'raghead', 'heathen', 'pagan', 'Bible basher', 'papist', 'kaffir', 'retard', 'cripple', 'spaz', 'mongoloid', 'psycho', 'nutjob', 'lame', 'vegetable', 'deaf-mute', 'imbecile', 'yank', 'brit', 'kraut', 'jap', 'commie', 'ruski', 'paki', 'wop', 'dago', 'polack', 'fatty', 'lardass', 'twig', 'beanpole', 'ugly', 'four-eyes', 'baldie', 'geek', 'nerd', 'pimple-face']\n",
            "['you', 'niggers', 'are', 'dumb']\n",
            "['youuu', 'niggers', 'are', 'dumb']\n",
            "{'you': 'youuu'}\n"
          ]
        },
        {
          "output_type": "stream",
          "name": "stderr",
          "text": [
            " 79%|███████▊  | 1511/1924 [5:07:34<1:48:02, 15.70s/it]"
          ]
        },
        {
          "output_type": "stream",
          "name": "stdout",
          "text": [
            "['nigger', 'nigga', 'mud shark', 'chink', 'gook', 'spic', 'wetback', 'kike', 'sand nigger', 'towelhead', 'beaner', 'cracker', 'honky', 'jungle bunny', 'redskin', 'bitch', 'slut', 'whore', 'cunt', 'feminazi', 'dyke', 'tranny', 'she-male', 'gold digger', 'skank', 'faggot', 'fag', 'homo', 'queer', 'carpet muncher', 'pillow biter', 'fudge packer', 'lesbo', 'Christ killer', 'jihadist', 'infidel', 'kike', 'raghead', 'heathen', 'pagan', 'Bible basher', 'papist', 'kaffir', 'retard', 'cripple', 'spaz', 'mongoloid', 'psycho', 'nutjob', 'lame', 'vegetable', 'deaf-mute', 'imbecile', 'yank', 'brit', 'kraut', 'jap', 'commie', 'ruski', 'paki', 'wop', 'dago', 'polack', 'fatty', 'lardass', 'twig', 'beanpole', 'ugly', 'four-eyes', 'baldie', 'geek', 'nerd', 'pimple-face']\n",
            "['goodmorning', 'to', 'toxic', 'abusive', 'women', 'only']\n",
            "['goodmorning', 'to', 'toxic', 'AbuSiVe', 'women', 'only']\n",
            "{'goodmorning': 'goodmorning', 'abusive': 'AbuSiVe'}\n"
          ]
        },
        {
          "output_type": "stream",
          "name": "stderr",
          "text": [
            " 79%|███████▉  | 1516/1924 [5:08:12<1:01:21,  9.02s/it]"
          ]
        },
        {
          "output_type": "stream",
          "name": "stdout",
          "text": [
            "['nigger', 'nigga', 'mud shark', 'chink', 'gook', 'spic', 'wetback', 'kike', 'sand nigger', 'towelhead', 'beaner', 'cracker', 'honky', 'jungle bunny', 'redskin', 'bitch', 'slut', 'whore', 'cunt', 'feminazi', 'dyke', 'tranny', 'she-male', 'gold digger', 'skank', 'faggot', 'fag', 'homo', 'queer', 'carpet muncher', 'pillow biter', 'fudge packer', 'lesbo', 'Christ killer', 'jihadist', 'infidel', 'kike', 'raghead', 'heathen', 'pagan', 'Bible basher', 'papist', 'kaffir', 'retard', 'cripple', 'spaz', 'mongoloid', 'psycho', 'nutjob', 'lame', 'vegetable', 'deaf-mute', 'imbecile', 'yank', 'brit', 'kraut', 'jap', 'commie', 'ruski', 'paki', 'wop', 'dago', 'polack', 'fatty', 'lardass', 'twig', 'beanpole', 'ugly', 'four-eyes', 'baldie', 'geek', 'nerd', 'pimple-face']\n",
            "['to', 'all', 'my', 'muslim', 'moots', 'mute', 'me', 'just', 'in', 'case']\n",
            "['to', 'all', 'my', 'muslim', 'Moots', 'mute', 'me', 'just', 'in', 'casue']\n",
            "{'moots': 'Moots', 'case': 'casue'}\n"
          ]
        },
        {
          "output_type": "stream",
          "name": "stderr",
          "text": [
            " 79%|███████▉  | 1521/1924 [5:09:05<56:36,  8.43s/it]  "
          ]
        },
        {
          "output_type": "stream",
          "name": "stdout",
          "text": [
            "['nigger', 'nigga', 'mud shark', 'chink', 'gook', 'spic', 'wetback', 'kike', 'sand nigger', 'towelhead', 'beaner', 'cracker', 'honky', 'jungle bunny', 'redskin', 'bitch', 'slut', 'whore', 'cunt', 'feminazi', 'dyke', 'tranny', 'she-male', 'gold digger', 'skank', 'faggot', 'fag', 'homo', 'queer', 'carpet muncher', 'pillow biter', 'fudge packer', 'lesbo', 'Christ killer', 'jihadist', 'infidel', 'kike', 'raghead', 'heathen', 'pagan', 'Bible basher', 'papist', 'kaffir', 'retard', 'cripple', 'spaz', 'mongoloid', 'psycho', 'nutjob', 'lame', 'vegetable', 'deaf-mute', 'imbecile', 'yank', 'brit', 'kraut', 'jap', 'commie', 'ruski', 'paki', 'wop', 'dago', 'polack', 'fatty', 'lardass', 'twig', 'beanpole', 'ugly', 'four-eyes', 'baldie', 'geek', 'nerd', 'pimple-face']\n",
            "['interesting', 'note', 'to', 'self', 'determine', 'which', 'dna', 'test', 'the', 'israeli', 'government', 'uses', 'to', 'test', 'immigrants', 'so', 'that', 'unfortunate', 'mis', 'identifications', 'can', 'be', 'avoided', 'during', 'shoah', '<number>', 'electric', 'boogaloo']\n",
            "['interesting', 'note', 'to', 'self', 'determine', 'which', 'dna', 'test', 'the', 'israeli', 'government', 'uses', 'to', 'tEsT', 'immigrants', 'so', 'that', 'unfortunate', 'mis', 'identifications', 'caen', 'be', 'avoided', 'during', 'shoah', '<number>', 'electric', 'boogaloo']\n",
            "{'boogaloo': 'boogaloo', 'can': 'caen', 'test': 'tEsT', 'shoah': 'shoah', 'electric': 'electric'}\n"
          ]
        },
        {
          "output_type": "stream",
          "name": "stderr",
          "text": [
            " 79%|███████▉  | 1526/1924 [5:09:47<1:03:02,  9.50s/it]"
          ]
        },
        {
          "output_type": "stream",
          "name": "stdout",
          "text": [
            "['nigger', 'nigga', 'mud shark', 'chink', 'gook', 'spic', 'wetback', 'kike', 'sand nigger', 'towelhead', 'beaner', 'cracker', 'honky', 'jungle bunny', 'redskin', 'bitch', 'slut', 'whore', 'cunt', 'feminazi', 'dyke', 'tranny', 'she-male', 'gold digger', 'skank', 'faggot', 'fag', 'homo', 'queer', 'carpet muncher', 'pillow biter', 'fudge packer', 'lesbo', 'Christ killer', 'jihadist', 'infidel', 'kike', 'raghead', 'heathen', 'pagan', 'Bible basher', 'papist', 'kaffir', 'retard', 'cripple', 'spaz', 'mongoloid', 'psycho', 'nutjob', 'lame', 'vegetable', 'deaf-mute', 'imbecile', 'yank', 'brit', 'kraut', 'jap', 'commie', 'ruski', 'paki', 'wop', 'dago', 'polack', 'fatty', 'lardass', 'twig', 'beanpole', 'ugly', 'four-eyes', 'baldie', 'geek', 'nerd', 'pimple-face']\n",
            "['the', 'only', 'people', 'trump', 'is', 'playing', 'chess', 'against', 'are', 'the', 'american', 'people', 'the', 'jew', 'controlled', 'alt', 'right', 'are', 'full', 'of', 'liars', 'and', 'traitors', 'ask', 'yourselves', 'would', 'adolf', 'hitler', 'shake', 'netanyahu', 'hand', 'would', 'he', 'prostrate', 'himself', 'like', 'a', 'bitch', 'before', 'the', 'wailing', 'wall']\n",
            "['the', 'only', 'people', 'trump', 'is', 'playing', 'chess', 'against', 'are', 'the', 'american', 'people', 'the', 'jew', 'controlled', 'alt', 'right', 'are', 'full', 'of', 'liars', 'and', 'traitors', 'ask', 'yourselves', 'would', 'adolf', 'hitler', 'shake', 'netanyahu', 'hand', 'would', 'he', 'prostrate', 'himself', 'like', 'a', 'BITCHHH', 'before', 'the', 'wailing', 'wall']\n",
            "{'bitch': 'BITCHHH'}\n"
          ]
        },
        {
          "output_type": "stream",
          "name": "stderr",
          "text": [
            " 80%|███████▉  | 1531/1924 [5:11:16<1:33:45, 14.31s/it]"
          ]
        },
        {
          "output_type": "stream",
          "name": "stdout",
          "text": [
            "['nigger', 'nigga', 'mud shark', 'chink', 'gook', 'spic', 'wetback', 'kike', 'sand nigger', 'towelhead', 'beaner', 'cracker', 'honky', 'jungle bunny', 'redskin', 'bitch', 'slut', 'whore', 'cunt', 'feminazi', 'dyke', 'tranny', 'she-male', 'gold digger', 'skank', 'faggot', 'fag', 'homo', 'queer', 'carpet muncher', 'pillow biter', 'fudge packer', 'lesbo', 'Christ killer', 'jihadist', 'infidel', 'kike', 'raghead', 'heathen', 'pagan', 'Bible basher', 'papist', 'kaffir', 'retard', 'cripple', 'spaz', 'mongoloid', 'psycho', 'nutjob', 'lame', 'vegetable', 'deaf-mute', 'imbecile', 'yank', 'brit', 'kraut', 'jap', 'commie', 'ruski', 'paki', 'wop', 'dago', 'polack', 'fatty', 'lardass', 'twig', 'beanpole', 'ugly', 'four-eyes', 'baldie', 'geek', 'nerd', 'pimple-face']\n",
            "['lol', 'good', 'nigger', '<user>']\n",
            "['lol', 'good', 'NiggeR', '<user>']\n",
            "{'nigger': 'NiggeR'}\n"
          ]
        },
        {
          "output_type": "stream",
          "name": "stderr",
          "text": [
            " 80%|███████▉  | 1536/1924 [5:12:06<1:11:40, 11.08s/it]"
          ]
        },
        {
          "output_type": "stream",
          "name": "stdout",
          "text": [
            "['nigger', 'nigga', 'mud shark', 'chink', 'gook', 'spic', 'wetback', 'kike', 'sand nigger', 'towelhead', 'beaner', 'cracker', 'honky', 'jungle bunny', 'redskin', 'bitch', 'slut', 'whore', 'cunt', 'feminazi', 'dyke', 'tranny', 'she-male', 'gold digger', 'skank', 'faggot', 'fag', 'homo', 'queer', 'carpet muncher', 'pillow biter', 'fudge packer', 'lesbo', 'Christ killer', 'jihadist', 'infidel', 'kike', 'raghead', 'heathen', 'pagan', 'Bible basher', 'papist', 'kaffir', 'retard', 'cripple', 'spaz', 'mongoloid', 'psycho', 'nutjob', 'lame', 'vegetable', 'deaf-mute', 'imbecile', 'yank', 'brit', 'kraut', 'jap', 'commie', 'ruski', 'paki', 'wop', 'dago', 'polack', 'fatty', 'lardass', 'twig', 'beanpole', 'ugly', 'four-eyes', 'baldie', 'geek', 'nerd', 'pimple-face']\n",
            "['edited', 'their', 'news', 'headline', 'for', 'clarity', 'the', 'most', 'common', 'baby', 'name', 'for', 'a', 'moslem', 'in', 'england', 'muhammad', 'mohammed']\n",
            "['edited', 'their', 'news', 'headline', 'for', 'clarity', 'Thye', 'most', 'Commmoonnn', 'baby', 'name', 'for', 'a', 'moslem', 'in', 'england', 'muhammad', 'mohammed']\n",
            "{'common': 'Commmoonnn', 'the': 'Thye', 'moslem': 'moslem'}\n"
          ]
        },
        {
          "output_type": "stream",
          "name": "stderr",
          "text": [
            " 80%|████████  | 1541/1924 [5:12:20<32:50,  5.15s/it]"
          ]
        },
        {
          "output_type": "stream",
          "name": "stdout",
          "text": [
            "['nigger', 'nigga', 'mud shark', 'chink', 'gook', 'spic', 'wetback', 'kike', 'sand nigger', 'towelhead', 'beaner', 'cracker', 'honky', 'jungle bunny', 'redskin', 'bitch', 'slut', 'whore', 'cunt', 'feminazi', 'dyke', 'tranny', 'she-male', 'gold digger', 'skank', 'faggot', 'fag', 'homo', 'queer', 'carpet muncher', 'pillow biter', 'fudge packer', 'lesbo', 'Christ killer', 'jihadist', 'infidel', 'kike', 'raghead', 'heathen', 'pagan', 'Bible basher', 'papist', 'kaffir', 'retard', 'cripple', 'spaz', 'mongoloid', 'psycho', 'nutjob', 'lame', 'vegetable', 'deaf-mute', 'imbecile', 'yank', 'brit', 'kraut', 'jap', 'commie', 'ruski', 'paki', 'wop', 'dago', 'polack', 'fatty', 'lardass', 'twig', 'beanpole', 'ugly', 'four-eyes', 'baldie', 'geek', 'nerd', 'pimple-face']\n",
            "['<user>', 'what', 'if', 'the', 'sugar', 'gramp', 'was', 'a', 'ss', 'soilder', 'who', 'killed', 'hundreds', 'of', 'jews', 'but', 'is', 'a', 'multi', 'billionaire', '🤔']\n",
            "['<user>', 'what', 'if', 'THYE', 'SuGaR', 'gramp', 'was', 'a', 'ss', 'SOILDER', 'who', 'KiLLed', 'hundreds', 'of', 'jews', 'but', 'is', 'a', 'multi', 'billionaire', '🤔']\n",
            "{'killed': 'KiLLed', 'soilder': 'SOILDER', 'the': 'THYE', 'sugar': 'SuGaR'}\n"
          ]
        },
        {
          "output_type": "stream",
          "name": "stderr",
          "text": [
            " 80%|████████  | 1546/1924 [5:12:38<23:46,  3.78s/it]"
          ]
        },
        {
          "output_type": "stream",
          "name": "stdout",
          "text": [
            "['nigger', 'nigga', 'mud shark', 'chink', 'gook', 'spic', 'wetback', 'kike', 'sand nigger', 'towelhead', 'beaner', 'cracker', 'honky', 'jungle bunny', 'redskin', 'bitch', 'slut', 'whore', 'cunt', 'feminazi', 'dyke', 'tranny', 'she-male', 'gold digger', 'skank', 'faggot', 'fag', 'homo', 'queer', 'carpet muncher', 'pillow biter', 'fudge packer', 'lesbo', 'Christ killer', 'jihadist', 'infidel', 'kike', 'raghead', 'heathen', 'pagan', 'Bible basher', 'papist', 'kaffir', 'retard', 'cripple', 'spaz', 'mongoloid', 'psycho', 'nutjob', 'lame', 'vegetable', 'deaf-mute', 'imbecile', 'yank', 'brit', 'kraut', 'jap', 'commie', 'ruski', 'paki', 'wop', 'dago', 'polack', 'fatty', 'lardass', 'twig', 'beanpole', 'ugly', 'four-eyes', 'baldie', 'geek', 'nerd', 'pimple-face']\n",
            "['i', 'guess', 'i', 'get', 'raped', 'a', 'lot']\n",
            "['i', 'guess', 'i', 'get', 'raped', 'a', 'loottt']\n",
            "{'lot': 'loottt'}\n"
          ]
        },
        {
          "output_type": "stream",
          "name": "stderr",
          "text": [
            " 81%|████████  | 1551/1924 [5:13:16<49:58,  8.04s/it]"
          ]
        },
        {
          "output_type": "stream",
          "name": "stdout",
          "text": [
            "['nigger', 'nigga', 'mud shark', 'chink', 'gook', 'spic', 'wetback', 'kike', 'sand nigger', 'towelhead', 'beaner', 'cracker', 'honky', 'jungle bunny', 'redskin', 'bitch', 'slut', 'whore', 'cunt', 'feminazi', 'dyke', 'tranny', 'she-male', 'gold digger', 'skank', 'faggot', 'fag', 'homo', 'queer', 'carpet muncher', 'pillow biter', 'fudge packer', 'lesbo', 'Christ killer', 'jihadist', 'infidel', 'kike', 'raghead', 'heathen', 'pagan', 'Bible basher', 'papist', 'kaffir', 'retard', 'cripple', 'spaz', 'mongoloid', 'psycho', 'nutjob', 'lame', 'vegetable', 'deaf-mute', 'imbecile', 'yank', 'brit', 'kraut', 'jap', 'commie', 'ruski', 'paki', 'wop', 'dago', 'polack', 'fatty', 'lardass', 'twig', 'beanpole', 'ugly', 'four-eyes', 'baldie', 'geek', 'nerd', 'pimple-face']\n",
            "['ooh', 'my', 'car', 'so', 'retarded', 'this', 'bitch', 'just', 'farted']\n",
            "['ooh', 'my', 'car', 'so', 'retarded', 'this', 'bITcH', 'just', 'farted']\n",
            "{'bitch': 'bITcH'}\n"
          ]
        },
        {
          "output_type": "stream",
          "name": "stderr",
          "text": [
            " 81%|████████  | 1556/1924 [5:14:02<36:44,  5.99s/it]"
          ]
        },
        {
          "output_type": "stream",
          "name": "stdout",
          "text": [
            "['nigger', 'nigga', 'mud shark', 'chink', 'gook', 'spic', 'wetback', 'kike', 'sand nigger', 'towelhead', 'beaner', 'cracker', 'honky', 'jungle bunny', 'redskin', 'bitch', 'slut', 'whore', 'cunt', 'feminazi', 'dyke', 'tranny', 'she-male', 'gold digger', 'skank', 'faggot', 'fag', 'homo', 'queer', 'carpet muncher', 'pillow biter', 'fudge packer', 'lesbo', 'Christ killer', 'jihadist', 'infidel', 'kike', 'raghead', 'heathen', 'pagan', 'Bible basher', 'papist', 'kaffir', 'retard', 'cripple', 'spaz', 'mongoloid', 'psycho', 'nutjob', 'lame', 'vegetable', 'deaf-mute', 'imbecile', 'yank', 'brit', 'kraut', 'jap', 'commie', 'ruski', 'paki', 'wop', 'dago', 'polack', 'fatty', 'lardass', 'twig', 'beanpole', 'ugly', 'four-eyes', 'baldie', 'geek', 'nerd', 'pimple-face']\n",
            "['<user>', '<user>', 'what', 'you', 'know', 'you', 'crisp', 'selling', 'prick', 'house', 'the', 'refugees', 'you', 'keep', 'on', 'about', 'you', 'potato', 'shagging', 'cunt']\n",
            "['<user>', '<user>', 'what', 'you', 'know', 'you', 'crisp', 'selling', 'prick', 'house', 'the', 'refugees', 'you', 'keep', 'on', 'about', 'you', 'potato', 'shagging', 'CUNT']\n",
            "{'cunt': 'CUNT'}\n"
          ]
        },
        {
          "output_type": "stream",
          "name": "stderr",
          "text": [
            " 81%|████████  | 1561/1924 [5:14:47<38:04,  6.29s/it]"
          ]
        },
        {
          "output_type": "stream",
          "name": "stdout",
          "text": [
            "['nigger', 'nigga', 'mud shark', 'chink', 'gook', 'spic', 'wetback', 'kike', 'sand nigger', 'towelhead', 'beaner', 'cracker', 'honky', 'jungle bunny', 'redskin', 'bitch', 'slut', 'whore', 'cunt', 'feminazi', 'dyke', 'tranny', 'she-male', 'gold digger', 'skank', 'faggot', 'fag', 'homo', 'queer', 'carpet muncher', 'pillow biter', 'fudge packer', 'lesbo', 'Christ killer', 'jihadist', 'infidel', 'kike', 'raghead', 'heathen', 'pagan', 'Bible basher', 'papist', 'kaffir', 'retard', 'cripple', 'spaz', 'mongoloid', 'psycho', 'nutjob', 'lame', 'vegetable', 'deaf-mute', 'imbecile', 'yank', 'brit', 'kraut', 'jap', 'commie', 'ruski', 'paki', 'wop', 'dago', 'polack', 'fatty', 'lardass', 'twig', 'beanpole', 'ugly', 'four-eyes', 'baldie', 'geek', 'nerd', 'pimple-face']\n",
            "['no', 'michael', 'actually', 'nigger', 'monkeys', 'are', 'the', 'problem', 'now', 'go', 'back', 'to', 'africa', 'and', 'catch', 'aids', 'you', 'cunt']\n",
            "['no', 'michael', 'actually', 'Niger', 'monkeys', 'are', 'the', 'problem', 'now', 'go', 'back', 'to', 'africa', 'and', 'catch', 'aids', 'you', 'CUNTTT']\n",
            "{'nigger': 'Niger', 'cunt': 'CUNTTT'}\n"
          ]
        },
        {
          "output_type": "stream",
          "name": "stderr",
          "text": [
            " 81%|████████▏ | 1566/1924 [5:15:40<1:10:24, 11.80s/it]"
          ]
        },
        {
          "output_type": "stream",
          "name": "stdout",
          "text": [
            "['nigger', 'nigga', 'mud shark', 'chink', 'gook', 'spic', 'wetback', 'kike', 'sand nigger', 'towelhead', 'beaner', 'cracker', 'honky', 'jungle bunny', 'redskin', 'bitch', 'slut', 'whore', 'cunt', 'feminazi', 'dyke', 'tranny', 'she-male', 'gold digger', 'skank', 'faggot', 'fag', 'homo', 'queer', 'carpet muncher', 'pillow biter', 'fudge packer', 'lesbo', 'Christ killer', 'jihadist', 'infidel', 'kike', 'raghead', 'heathen', 'pagan', 'Bible basher', 'papist', 'kaffir', 'retard', 'cripple', 'spaz', 'mongoloid', 'psycho', 'nutjob', 'lame', 'vegetable', 'deaf-mute', 'imbecile', 'yank', 'brit', 'kraut', 'jap', 'commie', 'ruski', 'paki', 'wop', 'dago', 'polack', 'fatty', 'lardass', 'twig', 'beanpole', 'ugly', 'four-eyes', 'baldie', 'geek', 'nerd', 'pimple-face']\n",
            "['the', 'neo', 'nazi', 'faggots', 'are', 'all', 'running', 'back', 'to', 'twitter', 'twatter', 'i', 'dunno', 'i', 'am', 'attempting', 'an', 'educated', 'guess', 'the', 'next', 'question', 'is', 'what', 'or', 'who', 'scared', 'the', 'shit', 'out', 'of', 'them', 'and', 'made', 'them', 'run', 'away']\n",
            "['the', 'neo', 'nazi', 'faggots', 'are', 'all', 'Running', 'back', 'to', 'twitter', 'twatter', 'i', 'dunno', 'i', 'am', 'attempting', 'an', 'educated', 'guess', 'the', 'NeXT', 'question', 'is', 'what', 'or', 'who', 'scaried', 'the', 'shit', 'ouuuuuut', 'of', 'them', 'and', 'MADE', 'them', 'run', 'away']\n",
            "{'scared': 'scaried', 'next': 'NeXT', 'running': 'Running', 'out': 'ouuuuuut', 'twitter': 'twitter', 'made': 'MADE'}\n"
          ]
        },
        {
          "output_type": "stream",
          "name": "stderr",
          "text": [
            " 82%|████████▏ | 1571/1924 [5:16:44<59:23, 10.09s/it]  "
          ]
        },
        {
          "output_type": "stream",
          "name": "stdout",
          "text": [
            "['nigger', 'nigga', 'mud shark', 'chink', 'gook', 'spic', 'wetback', 'kike', 'sand nigger', 'towelhead', 'beaner', 'cracker', 'honky', 'jungle bunny', 'redskin', 'bitch', 'slut', 'whore', 'cunt', 'feminazi', 'dyke', 'tranny', 'she-male', 'gold digger', 'skank', 'faggot', 'fag', 'homo', 'queer', 'carpet muncher', 'pillow biter', 'fudge packer', 'lesbo', 'Christ killer', 'jihadist', 'infidel', 'kike', 'raghead', 'heathen', 'pagan', 'Bible basher', 'papist', 'kaffir', 'retard', 'cripple', 'spaz', 'mongoloid', 'psycho', 'nutjob', 'lame', 'vegetable', 'deaf-mute', 'imbecile', 'yank', 'brit', 'kraut', 'jap', 'commie', 'ruski', 'paki', 'wop', 'dago', 'polack', 'fatty', 'lardass', 'twig', 'beanpole', 'ugly', 'four-eyes', 'baldie', 'geek', 'nerd', 'pimple-face']\n",
            "['do', 'not', 'worry', 'negress', 'q', 'speaks', 'and', 'we', 'will', 'show', 'the', 'nigger', 'rigging', 'a', 'marcus', 'garvey', 'boat', 'ticket', 'is', 'in', 'your', 'future']\n",
            "['do', 'not', 'worry', 'negress', 'q', 'speaks', 'and', 'we', 'will', 'show', 'the', 'NIGR', 'rigging', 'a', 'marcus', 'garvey', 'boat', 'ticket', 'is', 'in', 'your', 'future']\n",
            "{'nigger': 'NIGR'}\n"
          ]
        },
        {
          "output_type": "stream",
          "name": "stderr",
          "text": [
            " 82%|████████▏ | 1576/1924 [5:17:22<36:22,  6.27s/it]"
          ]
        },
        {
          "output_type": "stream",
          "name": "stdout",
          "text": [
            "['nigger', 'nigga', 'mud shark', 'chink', 'gook', 'spic', 'wetback', 'kike', 'sand nigger', 'towelhead', 'beaner', 'cracker', 'honky', 'jungle bunny', 'redskin', 'bitch', 'slut', 'whore', 'cunt', 'feminazi', 'dyke', 'tranny', 'she-male', 'gold digger', 'skank', 'faggot', 'fag', 'homo', 'queer', 'carpet muncher', 'pillow biter', 'fudge packer', 'lesbo', 'Christ killer', 'jihadist', 'infidel', 'kike', 'raghead', 'heathen', 'pagan', 'Bible basher', 'papist', 'kaffir', 'retard', 'cripple', 'spaz', 'mongoloid', 'psycho', 'nutjob', 'lame', 'vegetable', 'deaf-mute', 'imbecile', 'yank', 'brit', 'kraut', 'jap', 'commie', 'ruski', 'paki', 'wop', 'dago', 'polack', 'fatty', 'lardass', 'twig', 'beanpole', 'ugly', 'four-eyes', 'baldie', 'geek', 'nerd', 'pimple-face']\n",
            "['<user>', 'does', 'that', 'include', 'illegal', 'aliens']\n",
            "['<user>', 'does', 'that', 'include', 'ILLEGAL', 'aliens']\n",
            "{'illegal': 'ILLEGAL'}\n"
          ]
        },
        {
          "output_type": "stream",
          "name": "stderr",
          "text": [
            " 82%|████████▏ | 1581/1924 [5:18:10<53:40,  9.39s/it]  "
          ]
        },
        {
          "output_type": "stream",
          "name": "stdout",
          "text": [
            "['nigger', 'nigga', 'mud shark', 'chink', 'gook', 'spic', 'wetback', 'kike', 'sand nigger', 'towelhead', 'beaner', 'cracker', 'honky', 'jungle bunny', 'redskin', 'bitch', 'slut', 'whore', 'cunt', 'feminazi', 'dyke', 'tranny', 'she-male', 'gold digger', 'skank', 'faggot', 'fag', 'homo', 'queer', 'carpet muncher', 'pillow biter', 'fudge packer', 'lesbo', 'Christ killer', 'jihadist', 'infidel', 'kike', 'raghead', 'heathen', 'pagan', 'Bible basher', 'papist', 'kaffir', 'retard', 'cripple', 'spaz', 'mongoloid', 'psycho', 'nutjob', 'lame', 'vegetable', 'deaf-mute', 'imbecile', 'yank', 'brit', 'kraut', 'jap', 'commie', 'ruski', 'paki', 'wop', 'dago', 'polack', 'fatty', 'lardass', 'twig', 'beanpole', 'ugly', 'four-eyes', 'baldie', 'geek', 'nerd', 'pimple-face']\n",
            "['white', 'hall', 'senior', 'school', 'staffs', 'wish', 'fellow', 'nigerians', 'happy', 'independence', 'day']\n",
            "['white', 'hall', 'senior', 'schol', 'Staffs', 'wish', 'fellow', 'nigerians', 'happy', 'iNdEpeNdenCe', 'day']\n",
            "{'independence': 'iNdEpeNdenCe', 'staffs': 'Staffs', 'school': 'schol'}\n"
          ]
        },
        {
          "output_type": "stream",
          "name": "stderr",
          "text": [
            " 82%|████████▏ | 1586/1924 [5:19:13<1:03:18, 11.24s/it]"
          ]
        },
        {
          "output_type": "stream",
          "name": "stdout",
          "text": [
            "['nigger', 'nigga', 'mud shark', 'chink', 'gook', 'spic', 'wetback', 'kike', 'sand nigger', 'towelhead', 'beaner', 'cracker', 'honky', 'jungle bunny', 'redskin', 'bitch', 'slut', 'whore', 'cunt', 'feminazi', 'dyke', 'tranny', 'she-male', 'gold digger', 'skank', 'faggot', 'fag', 'homo', 'queer', 'carpet muncher', 'pillow biter', 'fudge packer', 'lesbo', 'Christ killer', 'jihadist', 'infidel', 'kike', 'raghead', 'heathen', 'pagan', 'Bible basher', 'papist', 'kaffir', 'retard', 'cripple', 'spaz', 'mongoloid', 'psycho', 'nutjob', 'lame', 'vegetable', 'deaf-mute', 'imbecile', 'yank', 'brit', 'kraut', 'jap', 'commie', 'ruski', 'paki', 'wop', 'dago', 'polack', 'fatty', 'lardass', 'twig', 'beanpole', 'ugly', 'four-eyes', 'baldie', 'geek', 'nerd', 'pimple-face']\n",
            "['he', 'gave', 'you', 'a', 'brillo', 'pad', 'that', 'you', 'all', 'spend', 'a', 'fortune', 'on', 'to', 'get', 'rid', 'of', 'so', 'you', 'can', 'look', 'like', 'white', 'women']\n",
            "['he', 'gave', 'you', 'a', 'brillo', 'Pad', 'that', 'youuuu', 'aLl', 'spend', 'a', 'Fortune', 'on', 'to', 'get', 'rid', 'of', 'so', 'you', 'can', 'look', 'like', 'white', 'women']\n",
            "{'you': 'youuuu', 'fortune': 'Fortune', 'pad': 'Pad', 'all': 'aLl'}\n"
          ]
        },
        {
          "output_type": "stream",
          "name": "stderr",
          "text": [
            " 83%|████████▎ | 1591/1924 [5:20:34<1:15:08, 13.54s/it]"
          ]
        },
        {
          "output_type": "stream",
          "name": "stdout",
          "text": [
            "['nigger', 'nigga', 'mud shark', 'chink', 'gook', 'spic', 'wetback', 'kike', 'sand nigger', 'towelhead', 'beaner', 'cracker', 'honky', 'jungle bunny', 'redskin', 'bitch', 'slut', 'whore', 'cunt', 'feminazi', 'dyke', 'tranny', 'she-male', 'gold digger', 'skank', 'faggot', 'fag', 'homo', 'queer', 'carpet muncher', 'pillow biter', 'fudge packer', 'lesbo', 'Christ killer', 'jihadist', 'infidel', 'kike', 'raghead', 'heathen', 'pagan', 'Bible basher', 'papist', 'kaffir', 'retard', 'cripple', 'spaz', 'mongoloid', 'psycho', 'nutjob', 'lame', 'vegetable', 'deaf-mute', 'imbecile', 'yank', 'brit', 'kraut', 'jap', 'commie', 'ruski', 'paki', 'wop', 'dago', 'polack', 'fatty', 'lardass', 'twig', 'beanpole', 'ugly', 'four-eyes', 'baldie', 'geek', 'nerd', 'pimple-face']\n",
            "['<user>', 'reported', 'for', 'targeted', 'harassment']\n",
            "['<user>', 'reported', 'Foor', 'targeted', 'harassment']\n",
            "{'for': 'Foor'}\n"
          ]
        },
        {
          "output_type": "stream",
          "name": "stderr",
          "text": [
            " 83%|████████▎ | 1596/1924 [5:21:11<41:04,  7.51s/it]"
          ]
        },
        {
          "output_type": "stream",
          "name": "stdout",
          "text": [
            "['nigger', 'nigga', 'mud shark', 'chink', 'gook', 'spic', 'wetback', 'kike', 'sand nigger', 'towelhead', 'beaner', 'cracker', 'honky', 'jungle bunny', 'redskin', 'bitch', 'slut', 'whore', 'cunt', 'feminazi', 'dyke', 'tranny', 'she-male', 'gold digger', 'skank', 'faggot', 'fag', 'homo', 'queer', 'carpet muncher', 'pillow biter', 'fudge packer', 'lesbo', 'Christ killer', 'jihadist', 'infidel', 'kike', 'raghead', 'heathen', 'pagan', 'Bible basher', 'papist', 'kaffir', 'retard', 'cripple', 'spaz', 'mongoloid', 'psycho', 'nutjob', 'lame', 'vegetable', 'deaf-mute', 'imbecile', 'yank', 'brit', 'kraut', 'jap', 'commie', 'ruski', 'paki', 'wop', 'dago', 'polack', 'fatty', 'lardass', 'twig', 'beanpole', 'ugly', 'four-eyes', 'baldie', 'geek', 'nerd', 'pimple-face']\n",
            "['tweeting', 'about', 'how', 'horny', 'u', 'are', 'amp', 'how', 'high', 'your', 'sex', 'drive', 'is', 'is', 'ghetto', '🥴']\n",
            "['tweeting', 'about', 'how', 'horny', 'u', 'are', 'amp', 'Howwwww', 'high', 'your', 'sex', 'drive', 'is', 'is', 'ghetto', '🥴']\n",
            "{'how': 'Howwwww'}\n"
          ]
        },
        {
          "output_type": "stream",
          "name": "stderr",
          "text": [
            " 83%|████████▎ | 1601/1924 [5:21:34<23:28,  4.36s/it]"
          ]
        },
        {
          "output_type": "stream",
          "name": "stdout",
          "text": [
            "['nigger', 'nigga', 'mud shark', 'chink', 'gook', 'spic', 'wetback', 'kike', 'sand nigger', 'towelhead', 'beaner', 'cracker', 'honky', 'jungle bunny', 'redskin', 'bitch', 'slut', 'whore', 'cunt', 'feminazi', 'dyke', 'tranny', 'she-male', 'gold digger', 'skank', 'faggot', 'fag', 'homo', 'queer', 'carpet muncher', 'pillow biter', 'fudge packer', 'lesbo', 'Christ killer', 'jihadist', 'infidel', 'kike', 'raghead', 'heathen', 'pagan', 'Bible basher', 'papist', 'kaffir', 'retard', 'cripple', 'spaz', 'mongoloid', 'psycho', 'nutjob', 'lame', 'vegetable', 'deaf-mute', 'imbecile', 'yank', 'brit', 'kraut', 'jap', 'commie', 'ruski', 'paki', 'wop', 'dago', 'polack', 'fatty', 'lardass', 'twig', 'beanpole', 'ugly', 'four-eyes', 'baldie', 'geek', 'nerd', 'pimple-face']\n",
            "['i', 'can', 'barely', 'go', 'out', 'into', 'society', 'anymore', 'i', 'basically', 'just', 'buy', 'food', 'from', 'the', 'beaner', 'filled', 'store', 'pay', 'all', 'bills', 'online', 'then', 'spend', 'the', 'day', 'talking', 'shit', 'online', 'like', 'a', 'coward', 'what', 'a', 'life']\n",
            "['i', 'can', 'barely', 'go', 'out', 'into', 'society', 'anymore', 'i', 'basically', 'just', 'buy', 'food', 'from', 'the', 'beaner', 'filled', 'store', 'pay', 'all', 'bills', 'online', 'then', 'spend', 'the', 'day', 'talking', 'shit', 'online', 'like', 'a', 'coward', 'what', 'a', 'life']\n",
            "{'beaner': 'beaner'}\n"
          ]
        },
        {
          "output_type": "stream",
          "name": "stderr",
          "text": [
            " 83%|████████▎ | 1606/1924 [5:23:12<1:07:39, 12.77s/it]"
          ]
        },
        {
          "output_type": "stream",
          "name": "stdout",
          "text": [
            "['nigger', 'nigga', 'mud shark', 'chink', 'gook', 'spic', 'wetback', 'kike', 'sand nigger', 'towelhead', 'beaner', 'cracker', 'honky', 'jungle bunny', 'redskin', 'bitch', 'slut', 'whore', 'cunt', 'feminazi', 'dyke', 'tranny', 'she-male', 'gold digger', 'skank', 'faggot', 'fag', 'homo', 'queer', 'carpet muncher', 'pillow biter', 'fudge packer', 'lesbo', 'Christ killer', 'jihadist', 'infidel', 'kike', 'raghead', 'heathen', 'pagan', 'Bible basher', 'papist', 'kaffir', 'retard', 'cripple', 'spaz', 'mongoloid', 'psycho', 'nutjob', 'lame', 'vegetable', 'deaf-mute', 'imbecile', 'yank', 'brit', 'kraut', 'jap', 'commie', 'ruski', 'paki', 'wop', 'dago', 'polack', 'fatty', 'lardass', 'twig', 'beanpole', 'ugly', 'four-eyes', 'baldie', 'geek', 'nerd', 'pimple-face']\n",
            "['<user>', 'i', 'fucking', 'hate', 'you', '😂', '😂', '😂']\n",
            "['<user>', 'i', 'fucking', 'hate', 'youuuu', '😂', '😂', '😂']\n",
            "{'you': 'youuuu'}\n"
          ]
        },
        {
          "output_type": "stream",
          "name": "stderr",
          "text": [
            " 84%|████████▎ | 1611/1924 [5:24:39<1:17:50, 14.92s/it]"
          ]
        },
        {
          "output_type": "stream",
          "name": "stdout",
          "text": [
            "['nigger', 'nigga', 'mud shark', 'chink', 'gook', 'spic', 'wetback', 'kike', 'sand nigger', 'towelhead', 'beaner', 'cracker', 'honky', 'jungle bunny', 'redskin', 'bitch', 'slut', 'whore', 'cunt', 'feminazi', 'dyke', 'tranny', 'she-male', 'gold digger', 'skank', 'faggot', 'fag', 'homo', 'queer', 'carpet muncher', 'pillow biter', 'fudge packer', 'lesbo', 'Christ killer', 'jihadist', 'infidel', 'kike', 'raghead', 'heathen', 'pagan', 'Bible basher', 'papist', 'kaffir', 'retard', 'cripple', 'spaz', 'mongoloid', 'psycho', 'nutjob', 'lame', 'vegetable', 'deaf-mute', 'imbecile', 'yank', 'brit', 'kraut', 'jap', 'commie', 'ruski', 'paki', 'wop', 'dago', 'polack', 'fatty', 'lardass', 'twig', 'beanpole', 'ugly', 'four-eyes', 'baldie', 'geek', 'nerd', 'pimple-face']\n",
            "['do', 'not', 'worry', 'uk', 'you', 'worked', 'hard', 'cannot', 'afford', 'carehome', 'fees', 'we', 'take', 'your', 'house', 'oh', 'look', 'in', 'london', 'another', 'muzzie', 'family', 'in', 'a', 'nice', 'flat', 'good', 'on', 'you', 'where', 'the', 'tex', 'goes', 'its', 'a', 'shocker']\n",
            "['do', 'not', 'Worry', 'uk', 'you', 'worked', 'hard', 'cannot', 'afford', 'carehome', 'fees', 'we', 'take', 'your', 'house', 'oh', 'look', 'in', 'london', 'another', 'muzzie', 'family', 'in', 'a', 'nice', 'flat', 'good', 'on', 'Youuuuu', 'WhEre', 'THEE', 'TeX', 'goes', 'its', 'a', 'shocker']\n",
            "{'where': 'WhEre', 'the': 'THEE', 'tex': 'TeX', 'you': 'Youuuuu', 'worry': 'Worry'}\n"
          ]
        },
        {
          "output_type": "stream",
          "name": "stderr",
          "text": [
            " 84%|████████▍ | 1616/1924 [5:26:11<1:31:06, 17.75s/it]"
          ]
        },
        {
          "output_type": "stream",
          "name": "stdout",
          "text": [
            "['nigger', 'nigga', 'mud shark', 'chink', 'gook', 'spic', 'wetback', 'kike', 'sand nigger', 'towelhead', 'beaner', 'cracker', 'honky', 'jungle bunny', 'redskin', 'bitch', 'slut', 'whore', 'cunt', 'feminazi', 'dyke', 'tranny', 'she-male', 'gold digger', 'skank', 'faggot', 'fag', 'homo', 'queer', 'carpet muncher', 'pillow biter', 'fudge packer', 'lesbo', 'Christ killer', 'jihadist', 'infidel', 'kike', 'raghead', 'heathen', 'pagan', 'Bible basher', 'papist', 'kaffir', 'retard', 'cripple', 'spaz', 'mongoloid', 'psycho', 'nutjob', 'lame', 'vegetable', 'deaf-mute', 'imbecile', 'yank', 'brit', 'kraut', 'jap', 'commie', 'ruski', 'paki', 'wop', 'dago', 'polack', 'fatty', 'lardass', 'twig', 'beanpole', 'ugly', 'four-eyes', 'baldie', 'geek', 'nerd', 'pimple-face']\n",
            "['all', 'these', 'niggas', 'acting', 'surprised', 'the', '2', 'k20', 'servers', 'are', 'down', 'open', 'yo', 'eyes', 'jitt', 'these', 'niggas', 'do', 'not', 'care', 'about', 'the', 'community']\n",
            "['all', 'these', 'niggas', 'acting', 'surprised', 'the', '2', 'k20', 'SERVERS', 'ARRRE', 'down', 'open', 'yo', 'eyes', 'jitt', 'TheSE', 'niggas', 'do', 'nOtT', 'care', 'about', 'the', 'community']\n",
            "{'are': 'ARRRE', 'not': 'nOtT', 'servers': 'SERVERS', 'k20': 'k20', 'these': 'TheSE'}\n"
          ]
        },
        {
          "output_type": "stream",
          "name": "stderr",
          "text": [
            " 84%|████████▍ | 1621/1924 [5:27:22<57:15, 11.34s/it]  "
          ]
        },
        {
          "output_type": "stream",
          "name": "stdout",
          "text": [
            "['nigger', 'nigga', 'mud shark', 'chink', 'gook', 'spic', 'wetback', 'kike', 'sand nigger', 'towelhead', 'beaner', 'cracker', 'honky', 'jungle bunny', 'redskin', 'bitch', 'slut', 'whore', 'cunt', 'feminazi', 'dyke', 'tranny', 'she-male', 'gold digger', 'skank', 'faggot', 'fag', 'homo', 'queer', 'carpet muncher', 'pillow biter', 'fudge packer', 'lesbo', 'Christ killer', 'jihadist', 'infidel', 'kike', 'raghead', 'heathen', 'pagan', 'Bible basher', 'papist', 'kaffir', 'retard', 'cripple', 'spaz', 'mongoloid', 'psycho', 'nutjob', 'lame', 'vegetable', 'deaf-mute', 'imbecile', 'yank', 'brit', 'kraut', 'jap', 'commie', 'ruski', 'paki', 'wop', 'dago', 'polack', 'fatty', 'lardass', 'twig', 'beanpole', 'ugly', 'four-eyes', 'baldie', 'geek', 'nerd', 'pimple-face']\n",
            "['nobody', 'else', 'would', 'find', 'these', 'women', 'attractive', 'but', 'the', 'muzzies', 'routinely', 'fuck', 'sheep', 'and', 'goats', 'an', 'ugly', 'old', 'woman', 'is', 'a', 'treat', 'to', 'them']\n",
            "['nobody', 'else', 'would', 'find', 'these', 'women', 'attractive', 'but', 'the', 'muzzies', 'routinely', 'fuck', 'sheep', 'and', 'goats', 'an', 'UgLY', 'old', 'woman', 'is', 'a', 'treat', 'to', 'them']\n",
            "{'ugly': 'UgLY'}\n"
          ]
        },
        {
          "output_type": "stream",
          "name": "stderr",
          "text": [
            " 84%|████████▍ | 1625/1924 [5:27:35<29:06,  5.84s/it]"
          ]
        },
        {
          "output_type": "stream",
          "name": "stdout",
          "text": [
            "['nigger', 'nigga', 'mud shark', 'chink', 'gook', 'spic', 'wetback', 'kike', 'sand nigger', 'towelhead', 'beaner', 'cracker', 'honky', 'jungle bunny', 'redskin', 'bitch', 'slut', 'whore', 'cunt', 'feminazi', 'dyke', 'tranny', 'she-male', 'gold digger', 'skank', 'faggot', 'fag', 'homo', 'queer', 'carpet muncher', 'pillow biter', 'fudge packer', 'lesbo', 'Christ killer', 'jihadist', 'infidel', 'kike', 'raghead', 'heathen', 'pagan', 'Bible basher', 'papist', 'kaffir', 'retard', 'cripple', 'spaz', 'mongoloid', 'psycho', 'nutjob', 'lame', 'vegetable', 'deaf-mute', 'imbecile', 'yank', 'brit', 'kraut', 'jap', 'commie', 'ruski', 'paki', 'wop', 'dago', 'polack', 'fatty', 'lardass', 'twig', 'beanpole', 'ugly', 'four-eyes', 'baldie', 'geek', 'nerd', 'pimple-face']\n",
            "['how', 'do', 'we', 'instigate', 'a', 'war', 'between', 'japan', 'and', 'israel', 'shinzo', 'abe', 'did', 'not', 'like', 'the', 'shoe', 'desert', 'the', 'kike', 'served', 'him']\n",
            "['how', 'do', 'we', 'instigate', 'a', 'war', 'between', 'japan', 'and', 'israel', 'shinzo', 'abe', 'did', 'not', 'like', 'the', 'shoe', 'desert', 'the', 'kike', 'served', 'him']\n",
            "{'kike': 'kike'}\n"
          ]
        },
        {
          "output_type": "stream",
          "name": "stderr",
          "text": [
            " 85%|████████▍ | 1630/1924 [5:28:12<29:27,  6.01s/it]"
          ]
        },
        {
          "output_type": "stream",
          "name": "stdout",
          "text": [
            "['nigger', 'nigga', 'mud shark', 'chink', 'gook', 'spic', 'wetback', 'kike', 'sand nigger', 'towelhead', 'beaner', 'cracker', 'honky', 'jungle bunny', 'redskin', 'bitch', 'slut', 'whore', 'cunt', 'feminazi', 'dyke', 'tranny', 'she-male', 'gold digger', 'skank', 'faggot', 'fag', 'homo', 'queer', 'carpet muncher', 'pillow biter', 'fudge packer', 'lesbo', 'Christ killer', 'jihadist', 'infidel', 'kike', 'raghead', 'heathen', 'pagan', 'Bible basher', 'papist', 'kaffir', 'retard', 'cripple', 'spaz', 'mongoloid', 'psycho', 'nutjob', 'lame', 'vegetable', 'deaf-mute', 'imbecile', 'yank', 'brit', 'kraut', 'jap', 'commie', 'ruski', 'paki', 'wop', 'dago', 'polack', 'fatty', 'lardass', 'twig', 'beanpole', 'ugly', 'four-eyes', 'baldie', 'geek', 'nerd', 'pimple-face']\n",
            "['blah', 'blah', 'blah', 'gay', 'reference', 'deep', 'state', 'blah', 'blah', 'blah', 'lol', 'just', 'come', 'out', 'the', 'closet', 'already', 'homo']\n",
            "['blah', 'blah', 'blah', 'gay', 'reference', 'deep', 'state', 'blah', 'blah', 'blah', 'lol', 'just', 'come', 'out', 'the', 'closet', 'already', 'hOmO']\n",
            "{'homo': 'hOmO'}\n"
          ]
        },
        {
          "output_type": "stream",
          "name": "stderr",
          "text": [
            " 85%|████████▌ | 1636/1924 [5:28:48<35:10,  7.33s/it]"
          ]
        },
        {
          "output_type": "stream",
          "name": "stdout",
          "text": [
            "['nigger', 'nigga', 'mud shark', 'chink', 'gook', 'spic', 'wetback', 'kike', 'sand nigger', 'towelhead', 'beaner', 'cracker', 'honky', 'jungle bunny', 'redskin', 'bitch', 'slut', 'whore', 'cunt', 'feminazi', 'dyke', 'tranny', 'she-male', 'gold digger', 'skank', 'faggot', 'fag', 'homo', 'queer', 'carpet muncher', 'pillow biter', 'fudge packer', 'lesbo', 'Christ killer', 'jihadist', 'infidel', 'kike', 'raghead', 'heathen', 'pagan', 'Bible basher', 'papist', 'kaffir', 'retard', 'cripple', 'spaz', 'mongoloid', 'psycho', 'nutjob', 'lame', 'vegetable', 'deaf-mute', 'imbecile', 'yank', 'brit', 'kraut', 'jap', 'commie', 'ruski', 'paki', 'wop', 'dago', 'polack', 'fatty', 'lardass', 'twig', 'beanpole', 'ugly', 'four-eyes', 'baldie', 'geek', 'nerd', 'pimple-face']\n",
            "['<user>', 'hot', 'take', 'incoming', 'more', 'racism', 'and', 'sexism', 'from', 'minorities', 'than', 'the', 'white', 'majority', 'in', 'this', 'country']\n",
            "['<user>', 'hot', 'tAKe', 'incoming', 'Morre', 'RaCISm', 'ANDDD', 'sexism', 'from', 'minorities', 'than', 'the', 'white', 'majority', 'in', 'this', 'country']\n",
            "{'more': 'Morre', 'take': 'tAKe', 'racism': 'RaCISm', 'and': 'ANDDD'}\n"
          ]
        },
        {
          "output_type": "stream",
          "name": "stderr",
          "text": [
            " 85%|████████▌ | 1641/1924 [5:29:50<1:10:40, 14.98s/it]"
          ]
        },
        {
          "output_type": "stream",
          "name": "stdout",
          "text": [
            "['nigger', 'nigga', 'mud shark', 'chink', 'gook', 'spic', 'wetback', 'kike', 'sand nigger', 'towelhead', 'beaner', 'cracker', 'honky', 'jungle bunny', 'redskin', 'bitch', 'slut', 'whore', 'cunt', 'feminazi', 'dyke', 'tranny', 'she-male', 'gold digger', 'skank', 'faggot', 'fag', 'homo', 'queer', 'carpet muncher', 'pillow biter', 'fudge packer', 'lesbo', 'Christ killer', 'jihadist', 'infidel', 'kike', 'raghead', 'heathen', 'pagan', 'Bible basher', 'papist', 'kaffir', 'retard', 'cripple', 'spaz', 'mongoloid', 'psycho', 'nutjob', 'lame', 'vegetable', 'deaf-mute', 'imbecile', 'yank', 'brit', 'kraut', 'jap', 'commie', 'ruski', 'paki', 'wop', 'dago', 'polack', 'fatty', 'lardass', 'twig', 'beanpole', 'ugly', 'four-eyes', 'baldie', 'geek', 'nerd', 'pimple-face']\n",
            "['canfam', 'next', 'make', 'sure', 'that', 'everyone', 'you', 'know', 'sees', 'video', 'footage', 'of', 'taharrush', 'gamea', 'from', 'europe', 'and', 'let', 'them', 'know', 'europe', 'has', 'imported', 'the', 'muslim', 'gang', 'rape', 'game', 'and', 'that', 'the', 'euro', 'press', 'has', 'totally', 'blacked', 'out', 'this', 'epidemic', 'of', 'horrifically', 'violent', 'gang', 'rape', 'and', 'beatings', 'of', 'european', 'women']\n",
            "['canfam', 'next', 'make', 'sure', 'that', 'EveRYoNe', 'YOUUU', 'know', 'seees', 'video', 'footage', 'of', 'taharrush', 'gamea', 'from', 'europe', 'and', 'let', 'them', 'knowww', 'europe', 'has', 'imported', 'thye', 'muslim', 'gang', 'rape', 'game', 'and', 'that', 'the', 'euro', 'press', 'HAs', 'totally', 'Blacked', 'out', 'this', 'epidemic', 'of', 'horrifically', 'violent', 'Gang', 'rape', 'and', 'beatings', 'of', 'european', 'women']\n",
            "{'the': 'thye', 'sees': 'seees', 'europe': 'europe', 'you': 'YOUUU', 'blacked': 'Blacked', 'gang': 'Gang', 'has': 'HAs', 'everyone': 'EveRYoNe', 'know': 'knowww'}\n"
          ]
        },
        {
          "output_type": "stream",
          "name": "stderr",
          "text": [
            " 86%|████████▌ | 1646/1924 [5:30:09<28:19,  6.12s/it]"
          ]
        },
        {
          "output_type": "stream",
          "name": "stdout",
          "text": [
            "['nigger', 'nigga', 'mud shark', 'chink', 'gook', 'spic', 'wetback', 'kike', 'sand nigger', 'towelhead', 'beaner', 'cracker', 'honky', 'jungle bunny', 'redskin', 'bitch', 'slut', 'whore', 'cunt', 'feminazi', 'dyke', 'tranny', 'she-male', 'gold digger', 'skank', 'faggot', 'fag', 'homo', 'queer', 'carpet muncher', 'pillow biter', 'fudge packer', 'lesbo', 'Christ killer', 'jihadist', 'infidel', 'kike', 'raghead', 'heathen', 'pagan', 'Bible basher', 'papist', 'kaffir', 'retard', 'cripple', 'spaz', 'mongoloid', 'psycho', 'nutjob', 'lame', 'vegetable', 'deaf-mute', 'imbecile', 'yank', 'brit', 'kraut', 'jap', 'commie', 'ruski', 'paki', 'wop', 'dago', 'polack', 'fatty', 'lardass', 'twig', 'beanpole', 'ugly', 'four-eyes', 'baldie', 'geek', 'nerd', 'pimple-face']\n",
            "['<user>', '<user>', 'i', '’', 'm', 'not', 'on', 'about', 'your', 'beef', 'i', 'was', 'talking', 'about', 'calyko', 'being', 'retarded', 'but', 'yours', 'also', 'needs', 'to', 'stop']\n",
            "['<user>', '<user>', 'i', '’', 'm', 'nOt', 'on', 'about', 'your', 'beef', 'i', 'was', 'talking', 'About', 'calyko', 'bEing', 'retarded', 'but', 'Yoursssss', 'also', 'needs', 'to', 'stop']\n",
            "{'about': 'About', 'being': 'bEing', 'not': 'nOt', 'yours': 'Yoursssss'}\n"
          ]
        },
        {
          "output_type": "stream",
          "name": "stderr",
          "text": [
            " 86%|████████▌ | 1649/1924 [5:30:31<31:07,  6.79s/it]"
          ]
        },
        {
          "output_type": "stream",
          "name": "stdout",
          "text": [
            "['nigger', 'nigga', 'mud shark', 'chink', 'gook', 'spic', 'wetback', 'kike', 'sand nigger', 'towelhead', 'beaner', 'cracker', 'honky', 'jungle bunny', 'redskin', 'bitch', 'slut', 'whore', 'cunt', 'feminazi', 'dyke', 'tranny', 'she-male', 'gold digger', 'skank', 'faggot', 'fag', 'homo', 'queer', 'carpet muncher', 'pillow biter', 'fudge packer', 'lesbo', 'Christ killer', 'jihadist', 'infidel', 'kike', 'raghead', 'heathen', 'pagan', 'Bible basher', 'papist', 'kaffir', 'retard', 'cripple', 'spaz', 'mongoloid', 'psycho', 'nutjob', 'lame', 'vegetable', 'deaf-mute', 'imbecile', 'yank', 'brit', 'kraut', 'jap', 'commie', 'ruski', 'paki', 'wop', 'dago', 'polack', 'fatty', 'lardass', 'twig', 'beanpole', 'ugly', 'four-eyes', 'baldie', 'geek', 'nerd', 'pimple-face']\n",
            "['<user>', 'eldar', 'is', 'queer', 'race', 'imperium', 'of', 'man', 'is', 'patriarchy', 'welcome', 'to', 'the', 'new', 'faggotry', 'lmao']\n",
            "['<user>', 'eldar', 'is', 'Qur', 'race', 'imperium', 'of', 'man', 'is', 'patriarchy', 'welcome', 'to', 'the', 'new', 'faggotry', 'lmao']\n",
            "{'queer': 'Qur'}\n"
          ]
        },
        {
          "output_type": "stream",
          "name": "stderr",
          "text": [
            " 86%|████████▌ | 1656/1924 [5:31:40<39:18,  8.80s/it]"
          ]
        },
        {
          "output_type": "stream",
          "name": "stdout",
          "text": [
            "['nigger', 'nigga', 'mud shark', 'chink', 'gook', 'spic', 'wetback', 'kike', 'sand nigger', 'towelhead', 'beaner', 'cracker', 'honky', 'jungle bunny', 'redskin', 'bitch', 'slut', 'whore', 'cunt', 'feminazi', 'dyke', 'tranny', 'she-male', 'gold digger', 'skank', 'faggot', 'fag', 'homo', 'queer', 'carpet muncher', 'pillow biter', 'fudge packer', 'lesbo', 'Christ killer', 'jihadist', 'infidel', 'kike', 'raghead', 'heathen', 'pagan', 'Bible basher', 'papist', 'kaffir', 'retard', 'cripple', 'spaz', 'mongoloid', 'psycho', 'nutjob', 'lame', 'vegetable', 'deaf-mute', 'imbecile', 'yank', 'brit', 'kraut', 'jap', 'commie', 'ruski', 'paki', 'wop', 'dago', 'polack', 'fatty', 'lardass', 'twig', 'beanpole', 'ugly', 'four-eyes', 'baldie', 'geek', 'nerd', 'pimple-face']\n",
            "['bringing', 'in', 'pro', 'sharia', 'law', 'immigrants', 'is', 'like', 'letting', 'a', 'drunk', 'driver', 'take', 'kids', 'to', 'school', 'on', 'the', 'bus', 'it', 'like', 'letting', 'a', 'serial', 'killer', 'out', 'of', 'prison', 'and', 'hope', 'he', 'she', 'has', 'learned', 'their', 'lesson']\n",
            "['bringing', 'in', 'pRO', 'sharia', 'law', 'immigrants', 'is', 'like', 'LETTING', 'a', 'drunk', 'driver', 'take', 'kids', 'to', 'school', 'on', 'thae', 'bus', 'it', 'like', 'letting', 'a', 'serial', 'killer', 'out', 'of', 'prison', 'and', 'hope', 'he', 'she', 'has', 'learneed', 'their', 'lesson']\n",
            "{'letting': 'LETTING', 'she': 'she', 'pro': 'pRO', 'learned': 'learneed', 'the': 'thae'}\n"
          ]
        },
        {
          "output_type": "stream",
          "name": "stderr",
          "text": [
            " 86%|████████▋ | 1661/1924 [5:32:44<46:58, 10.72s/it]"
          ]
        },
        {
          "output_type": "stream",
          "name": "stdout",
          "text": [
            "['nigger', 'nigga', 'mud shark', 'chink', 'gook', 'spic', 'wetback', 'kike', 'sand nigger', 'towelhead', 'beaner', 'cracker', 'honky', 'jungle bunny', 'redskin', 'bitch', 'slut', 'whore', 'cunt', 'feminazi', 'dyke', 'tranny', 'she-male', 'gold digger', 'skank', 'faggot', 'fag', 'homo', 'queer', 'carpet muncher', 'pillow biter', 'fudge packer', 'lesbo', 'Christ killer', 'jihadist', 'infidel', 'kike', 'raghead', 'heathen', 'pagan', 'Bible basher', 'papist', 'kaffir', 'retard', 'cripple', 'spaz', 'mongoloid', 'psycho', 'nutjob', 'lame', 'vegetable', 'deaf-mute', 'imbecile', 'yank', 'brit', 'kraut', 'jap', 'commie', 'ruski', 'paki', 'wop', 'dago', 'polack', 'fatty', 'lardass', 'twig', 'beanpole', 'ugly', 'four-eyes', 'baldie', 'geek', 'nerd', 'pimple-face']\n",
            "['<user>', 'is', 'it', 'on', 'wattpad', 'a', 'bitch', 'is', 'broke', 'to', 'buy', 'it', 'lmao']\n",
            "['<user>', 'is', 'it', 'on', 'wattpad', 'a', 'BiTcH', 'is', 'broke', 'to', 'buy', 'it', 'lmao']\n",
            "{'bitch': 'BiTcH'}\n"
          ]
        },
        {
          "output_type": "stream",
          "name": "stderr",
          "text": [
            " 87%|████████▋ | 1666/1924 [5:33:48<44:49, 10.42s/it]  "
          ]
        },
        {
          "output_type": "stream",
          "name": "stdout",
          "text": [
            "['nigger', 'nigga', 'mud shark', 'chink', 'gook', 'spic', 'wetback', 'kike', 'sand nigger', 'towelhead', 'beaner', 'cracker', 'honky', 'jungle bunny', 'redskin', 'bitch', 'slut', 'whore', 'cunt', 'feminazi', 'dyke', 'tranny', 'she-male', 'gold digger', 'skank', 'faggot', 'fag', 'homo', 'queer', 'carpet muncher', 'pillow biter', 'fudge packer', 'lesbo', 'Christ killer', 'jihadist', 'infidel', 'kike', 'raghead', 'heathen', 'pagan', 'Bible basher', 'papist', 'kaffir', 'retard', 'cripple', 'spaz', 'mongoloid', 'psycho', 'nutjob', 'lame', 'vegetable', 'deaf-mute', 'imbecile', 'yank', 'brit', 'kraut', 'jap', 'commie', 'ruski', 'paki', 'wop', 'dago', 'polack', 'fatty', 'lardass', 'twig', 'beanpole', 'ugly', 'four-eyes', 'baldie', 'geek', 'nerd', 'pimple-face']\n",
            "['<user>', '<user>', 'both', 'are', 'equally', 'as', 'retarded', 'and', 'awful']\n",
            "['<user>', '<user>', 'both', 'are', 'equally', 'as', 'retarded', 'and', 'Awfull']\n",
            "{'awful': 'Awfull'}\n"
          ]
        },
        {
          "output_type": "stream",
          "name": "stderr",
          "text": [
            " 87%|████████▋ | 1670/1924 [5:34:56<1:09:32, 16.43s/it]"
          ]
        },
        {
          "output_type": "stream",
          "name": "stdout",
          "text": [
            "['nigger', 'nigga', 'mud shark', 'chink', 'gook', 'spic', 'wetback', 'kike', 'sand nigger', 'towelhead', 'beaner', 'cracker', 'honky', 'jungle bunny', 'redskin', 'bitch', 'slut', 'whore', 'cunt', 'feminazi', 'dyke', 'tranny', 'she-male', 'gold digger', 'skank', 'faggot', 'fag', 'homo', 'queer', 'carpet muncher', 'pillow biter', 'fudge packer', 'lesbo', 'Christ killer', 'jihadist', 'infidel', 'kike', 'raghead', 'heathen', 'pagan', 'Bible basher', 'papist', 'kaffir', 'retard', 'cripple', 'spaz', 'mongoloid', 'psycho', 'nutjob', 'lame', 'vegetable', 'deaf-mute', 'imbecile', 'yank', 'brit', 'kraut', 'jap', 'commie', 'ruski', 'paki', 'wop', 'dago', 'polack', 'fatty', 'lardass', 'twig', 'beanpole', 'ugly', 'four-eyes', 'baldie', 'geek', 'nerd', 'pimple-face']\n",
            "['to', 'each', 'their', 'own', 'i', 'prefer', 'not', 'to', 'get', 'into', 'pissing', 'matches', 'with', 'wn', 'on', 'either', 'side', 'of', 'the', 'kike', 'on', 'a', 'stick', 'issue', 'i', 'd', 'rather', 'find', 'common', 'cause', 'with', 'both', 'factions', 'i', 'am', 'sure', 'a', 'christian', 'would', 'provide', 'you', 'better', 'discussion', 'on', 'the', 'matter']\n",
            "['to', 'each', 'their', 'own', 'i', 'prefer', 'not', 'to', 'get', 'into', 'pissing', 'matches', 'with', 'wn', 'on', 'either', 'side', 'of', 'the', 'kike', 'on', 'a', 'stick', 'issue', 'i', 'd', 'rather', 'find', 'common', 'cause', 'with', 'both', 'factions', 'i', 'am', 'sure', 'a', 'christian', 'would', 'provide', 'you', 'better', 'discussion', 'on', 'the', 'matter']\n",
            "{'kike': 'kike'}\n"
          ]
        },
        {
          "output_type": "stream",
          "name": "stderr",
          "text": [
            " 87%|████████▋ | 1676/1924 [5:35:48<46:28, 11.25s/it]"
          ]
        },
        {
          "output_type": "stream",
          "name": "stdout",
          "text": [
            "['nigger', 'nigga', 'mud shark', 'chink', 'gook', 'spic', 'wetback', 'kike', 'sand nigger', 'towelhead', 'beaner', 'cracker', 'honky', 'jungle bunny', 'redskin', 'bitch', 'slut', 'whore', 'cunt', 'feminazi', 'dyke', 'tranny', 'she-male', 'gold digger', 'skank', 'faggot', 'fag', 'homo', 'queer', 'carpet muncher', 'pillow biter', 'fudge packer', 'lesbo', 'Christ killer', 'jihadist', 'infidel', 'kike', 'raghead', 'heathen', 'pagan', 'Bible basher', 'papist', 'kaffir', 'retard', 'cripple', 'spaz', 'mongoloid', 'psycho', 'nutjob', 'lame', 'vegetable', 'deaf-mute', 'imbecile', 'yank', 'brit', 'kraut', 'jap', 'commie', 'ruski', 'paki', 'wop', 'dago', 'polack', 'fatty', 'lardass', 'twig', 'beanpole', 'ugly', 'four-eyes', 'baldie', 'geek', 'nerd', 'pimple-face']\n",
            "['the', 'mcu', 'wants', 'what', 'disaster', 'report', 'by', 'matthew', 'del', 'tubo', 'has']\n",
            "['thee', 'mcu', 'wants', 'WHATTTTTT', 'disaster', 'report', 'by', 'matthew', 'del', 'tubo', 'has']\n",
            "{'what': 'WHATTTTTT', 'the': 'thee', 'matthew': 'matthew'}\n"
          ]
        },
        {
          "output_type": "stream",
          "name": "stderr",
          "text": [
            " 87%|████████▋ | 1681/1924 [5:36:49<56:20, 13.91s/it]"
          ]
        },
        {
          "output_type": "stream",
          "name": "stdout",
          "text": [
            "['nigger', 'nigga', 'mud shark', 'chink', 'gook', 'spic', 'wetback', 'kike', 'sand nigger', 'towelhead', 'beaner', 'cracker', 'honky', 'jungle bunny', 'redskin', 'bitch', 'slut', 'whore', 'cunt', 'feminazi', 'dyke', 'tranny', 'she-male', 'gold digger', 'skank', 'faggot', 'fag', 'homo', 'queer', 'carpet muncher', 'pillow biter', 'fudge packer', 'lesbo', 'Christ killer', 'jihadist', 'infidel', 'kike', 'raghead', 'heathen', 'pagan', 'Bible basher', 'papist', 'kaffir', 'retard', 'cripple', 'spaz', 'mongoloid', 'psycho', 'nutjob', 'lame', 'vegetable', 'deaf-mute', 'imbecile', 'yank', 'brit', 'kraut', 'jap', 'commie', 'ruski', 'paki', 'wop', 'dago', 'polack', 'fatty', 'lardass', 'twig', 'beanpole', 'ugly', 'four-eyes', 'baldie', 'geek', 'nerd', 'pimple-face']\n",
            "['and', 'of', 'course', 'where', 'this', 'ultimately', 'leads', 'to', 'the', 'tate', 'murders', 'failure', 'to', 'occur', 'what', 'this', 'creates', 'in', 'effect', 'is', 'a', 'fantasy', 'jewish', 'moralizer', 'comparable', 'to', 'the', 'war', 'against', 'the', 'germans', 'existing', 'in', 'ib', 'while', 'simulatenously', 'offering', 'a', 'holocaust', 'negation', 'fantasy']\n",
            "['and', 'of', 'course', 'where', 'this', 'ultimately', 'leads', 'to', 'the', 'tate', 'murders', 'failure', 'to', 'occur', 'what', 'Thiiiisss', 'creats', 'in', 'effect', 'is', 'a', 'fantasy', 'jewish', 'moralizer', 'comparable', 'to', 'the', 'WARRR', 'against', 'the', 'germans', 'existing', 'in', 'ib', 'while', 'simulatenously', 'offering', 'a', 'holocaust', 'negation', 'fantasy']\n",
            "{'creates': 'creats', 'offering': 'offering', 'negation': 'negation', 'moralizer': 'moralizer', 'this': 'Thiiiisss', 'war': 'WARRR'}\n"
          ]
        },
        {
          "output_type": "stream",
          "name": "stderr",
          "text": [
            " 88%|████████▊ | 1686/1924 [5:38:08<1:09:59, 17.65s/it]"
          ]
        },
        {
          "output_type": "stream",
          "name": "stdout",
          "text": [
            "['nigger', 'nigga', 'mud shark', 'chink', 'gook', 'spic', 'wetback', 'kike', 'sand nigger', 'towelhead', 'beaner', 'cracker', 'honky', 'jungle bunny', 'redskin', 'bitch', 'slut', 'whore', 'cunt', 'feminazi', 'dyke', 'tranny', 'she-male', 'gold digger', 'skank', 'faggot', 'fag', 'homo', 'queer', 'carpet muncher', 'pillow biter', 'fudge packer', 'lesbo', 'Christ killer', 'jihadist', 'infidel', 'kike', 'raghead', 'heathen', 'pagan', 'Bible basher', 'papist', 'kaffir', 'retard', 'cripple', 'spaz', 'mongoloid', 'psycho', 'nutjob', 'lame', 'vegetable', 'deaf-mute', 'imbecile', 'yank', 'brit', 'kraut', 'jap', 'commie', 'ruski', 'paki', 'wop', 'dago', 'polack', 'fatty', 'lardass', 'twig', 'beanpole', 'ugly', 'four-eyes', 'baldie', 'geek', 'nerd', 'pimple-face']\n",
            "['<user>', 'katie', 'hopkins', 'reports', 'pakistani', 'muslim', 'man', 'assaults', 'white', 'man', 'is', 'racist', 'attack', 'civil', 'unrest', 'as', 'crime', 'against', 'english', 'people', 'from', 'immigrants', 'rises']\n",
            "['<user>', 'katie', 'hopkins', 'reports', 'pakistani', 'muslim', 'Maaannn', 'assaults', 'white', 'man', 'is', 'Raciest', 'attack', 'CiViL', 'unrest', 'as', 'crime', 'against', 'english', 'people', 'FrOM', 'immigrants', 'rises']\n",
            "{'man': 'Maaannn', 'racist': 'Raciest', 'from': 'FrOM', 'english': 'english', 'civil': 'CiViL'}\n"
          ]
        },
        {
          "output_type": "stream",
          "name": "stderr",
          "text": [
            " 88%|████████▊ | 1691/1924 [5:38:46<41:44, 10.75s/it]"
          ]
        },
        {
          "output_type": "stream",
          "name": "stdout",
          "text": [
            "['nigger', 'nigga', 'mud shark', 'chink', 'gook', 'spic', 'wetback', 'kike', 'sand nigger', 'towelhead', 'beaner', 'cracker', 'honky', 'jungle bunny', 'redskin', 'bitch', 'slut', 'whore', 'cunt', 'feminazi', 'dyke', 'tranny', 'she-male', 'gold digger', 'skank', 'faggot', 'fag', 'homo', 'queer', 'carpet muncher', 'pillow biter', 'fudge packer', 'lesbo', 'Christ killer', 'jihadist', 'infidel', 'kike', 'raghead', 'heathen', 'pagan', 'Bible basher', 'papist', 'kaffir', 'retard', 'cripple', 'spaz', 'mongoloid', 'psycho', 'nutjob', 'lame', 'vegetable', 'deaf-mute', 'imbecile', 'yank', 'brit', 'kraut', 'jap', 'commie', 'ruski', 'paki', 'wop', 'dago', 'polack', 'fatty', 'lardass', 'twig', 'beanpole', 'ugly', 'four-eyes', 'baldie', 'geek', 'nerd', 'pimple-face']\n",
            "['so', 'there', 'is', 'nothing', 'wrong', 'with', 'them', 'leaving', 'women', 'alone', 'if', 'they', 'are', 'worthless', 'to', 'them']\n",
            "['so', 'there', 'is', 'nothing', 'wrong', 'with', 'ThEM', 'leaving', 'wOmANn', 'alone', 'if', 'they', 'are', 'worthless', 'to', 'thèm']\n",
            "{'them': 'thèm', 'women': 'wOmANn'}\n"
          ]
        },
        {
          "output_type": "stream",
          "name": "stderr",
          "text": [
            " 88%|████████▊ | 1696/1924 [5:39:52<47:33, 12.52s/it]"
          ]
        },
        {
          "output_type": "stream",
          "name": "stdout",
          "text": [
            "['nigger', 'nigga', 'mud shark', 'chink', 'gook', 'spic', 'wetback', 'kike', 'sand nigger', 'towelhead', 'beaner', 'cracker', 'honky', 'jungle bunny', 'redskin', 'bitch', 'slut', 'whore', 'cunt', 'feminazi', 'dyke', 'tranny', 'she-male', 'gold digger', 'skank', 'faggot', 'fag', 'homo', 'queer', 'carpet muncher', 'pillow biter', 'fudge packer', 'lesbo', 'Christ killer', 'jihadist', 'infidel', 'kike', 'raghead', 'heathen', 'pagan', 'Bible basher', 'papist', 'kaffir', 'retard', 'cripple', 'spaz', 'mongoloid', 'psycho', 'nutjob', 'lame', 'vegetable', 'deaf-mute', 'imbecile', 'yank', 'brit', 'kraut', 'jap', 'commie', 'ruski', 'paki', 'wop', 'dago', 'polack', 'fatty', 'lardass', 'twig', 'beanpole', 'ugly', 'four-eyes', 'baldie', 'geek', 'nerd', 'pimple-face']\n",
            "['<user>', 'now', 'how', 'about', 'all', 'of', 'the', 'deaths', 'attributed', 'to', 'illegal', 'aliens', 'in', 'tx', 'do', 'the', 'rest', 'of', 'the', 'victims', 'and', 'the', 'families', 'that', 'will', 'never', 'see', 'loved', 'one', 'agains', 'texas']\n",
            "['<user>', 'now', 'how', 'about', 'all', 'of', 'the', 'deaths', 'attributed', 'to', 'illegal', 'aliens', 'in', 'tx', 'do', 'the', 'Rest', 'of', 'the', 'ViCtImS', 'and', 'THEE', 'Families', 'that', 'will', 'nEVEr', 'see', 'loved', 'one', 'agains', 'texas']\n",
            "{'the': 'THEE', 'families': 'Families', 'rest': 'Rest', 'victims': 'ViCtImS', 'never': 'nEVEr'}\n"
          ]
        },
        {
          "output_type": "stream",
          "name": "stderr",
          "text": [
            " 88%|████████▊ | 1701/1924 [5:40:43<40:30, 10.90s/it]"
          ]
        },
        {
          "output_type": "stream",
          "name": "stdout",
          "text": [
            "['nigger', 'nigga', 'mud shark', 'chink', 'gook', 'spic', 'wetback', 'kike', 'sand nigger', 'towelhead', 'beaner', 'cracker', 'honky', 'jungle bunny', 'redskin', 'bitch', 'slut', 'whore', 'cunt', 'feminazi', 'dyke', 'tranny', 'she-male', 'gold digger', 'skank', 'faggot', 'fag', 'homo', 'queer', 'carpet muncher', 'pillow biter', 'fudge packer', 'lesbo', 'Christ killer', 'jihadist', 'infidel', 'kike', 'raghead', 'heathen', 'pagan', 'Bible basher', 'papist', 'kaffir', 'retard', 'cripple', 'spaz', 'mongoloid', 'psycho', 'nutjob', 'lame', 'vegetable', 'deaf-mute', 'imbecile', 'yank', 'brit', 'kraut', 'jap', 'commie', 'ruski', 'paki', 'wop', 'dago', 'polack', 'fatty', 'lardass', 'twig', 'beanpole', 'ugly', 'four-eyes', 'baldie', 'geek', 'nerd', 'pimple-face']\n",
            "['<user>', 'would', 'have', 'pressed', 'that', 'bitch', 'and', 'beat', 'the', 'faggot', 'out', 'of', 'him']\n",
            "['<user>', 'would', 'have', 'pressed', 'that', 'bItCh', 'and', 'beat', 'the', 'Faggot', 'out', 'of', 'him']\n",
            "{'bitch': 'bItCh', 'faggot': 'Faggot'}\n"
          ]
        },
        {
          "output_type": "stream",
          "name": "stderr",
          "text": [
            " 89%|████████▊ | 1704/1924 [5:41:28<42:04, 11.48s/it]"
          ]
        },
        {
          "output_type": "stream",
          "name": "stdout",
          "text": [
            "['nigger', 'nigga', 'mud shark', 'chink', 'gook', 'spic', 'wetback', 'kike', 'sand nigger', 'towelhead', 'beaner', 'cracker', 'honky', 'jungle bunny', 'redskin', 'bitch', 'slut', 'whore', 'cunt', 'feminazi', 'dyke', 'tranny', 'she-male', 'gold digger', 'skank', 'faggot', 'fag', 'homo', 'queer', 'carpet muncher', 'pillow biter', 'fudge packer', 'lesbo', 'Christ killer', 'jihadist', 'infidel', 'kike', 'raghead', 'heathen', 'pagan', 'Bible basher', 'papist', 'kaffir', 'retard', 'cripple', 'spaz', 'mongoloid', 'psycho', 'nutjob', 'lame', 'vegetable', 'deaf-mute', 'imbecile', 'yank', 'brit', 'kraut', 'jap', 'commie', 'ruski', 'paki', 'wop', 'dago', 'polack', 'fatty', 'lardass', 'twig', 'beanpole', 'ugly', 'four-eyes', 'baldie', 'geek', 'nerd', 'pimple-face']\n",
            "['whitey', 'prevails', 'for', 'a', 'change', 'miss', 'south', 'africa', 'beats', 'out', 'a', 'nig', 'two', 'spics', 'and', 'a', 'gook', 'to', 'win', 'miss', 'u']\n",
            "['whitey', 'prevails', 'for', 'a', 'change', 'miss', 'south', 'africa', 'beats', 'out', 'a', 'nig', 'two', 'spics', 'and', 'a', 'Gok', 'to', 'win', 'miss', 'u']\n",
            "{'gook': 'Gok'}\n"
          ]
        },
        {
          "output_type": "stream",
          "name": "stderr",
          "text": [
            " 89%|████████▉ | 1711/1924 [5:42:33<35:44, 10.07s/it]"
          ]
        },
        {
          "output_type": "stream",
          "name": "stdout",
          "text": [
            "['nigger', 'nigga', 'mud shark', 'chink', 'gook', 'spic', 'wetback', 'kike', 'sand nigger', 'towelhead', 'beaner', 'cracker', 'honky', 'jungle bunny', 'redskin', 'bitch', 'slut', 'whore', 'cunt', 'feminazi', 'dyke', 'tranny', 'she-male', 'gold digger', 'skank', 'faggot', 'fag', 'homo', 'queer', 'carpet muncher', 'pillow biter', 'fudge packer', 'lesbo', 'Christ killer', 'jihadist', 'infidel', 'kike', 'raghead', 'heathen', 'pagan', 'Bible basher', 'papist', 'kaffir', 'retard', 'cripple', 'spaz', 'mongoloid', 'psycho', 'nutjob', 'lame', 'vegetable', 'deaf-mute', 'imbecile', 'yank', 'brit', 'kraut', 'jap', 'commie', 'ruski', 'paki', 'wop', 'dago', 'polack', 'fatty', 'lardass', 'twig', 'beanpole', 'ugly', 'four-eyes', 'baldie', 'geek', 'nerd', 'pimple-face']\n",
            "['drag', 'and', 'drop', 'these', 'groupie', 'bitches', 'in', 'da', 'trash', 'bin']\n",
            "['drag', 'ANDD', 'drop', 'these', 'Gruppe', 'bitches', 'in', 'da', 'trash', 'bin']\n",
            "{'groupie': 'Gruppe', 'and': 'ANDD'}\n"
          ]
        },
        {
          "output_type": "stream",
          "name": "stderr",
          "text": [
            " 89%|████████▉ | 1716/1924 [5:43:02<24:24,  7.04s/it]"
          ]
        },
        {
          "output_type": "stream",
          "name": "stdout",
          "text": [
            "['nigger', 'nigga', 'mud shark', 'chink', 'gook', 'spic', 'wetback', 'kike', 'sand nigger', 'towelhead', 'beaner', 'cracker', 'honky', 'jungle bunny', 'redskin', 'bitch', 'slut', 'whore', 'cunt', 'feminazi', 'dyke', 'tranny', 'she-male', 'gold digger', 'skank', 'faggot', 'fag', 'homo', 'queer', 'carpet muncher', 'pillow biter', 'fudge packer', 'lesbo', 'Christ killer', 'jihadist', 'infidel', 'kike', 'raghead', 'heathen', 'pagan', 'Bible basher', 'papist', 'kaffir', 'retard', 'cripple', 'spaz', 'mongoloid', 'psycho', 'nutjob', 'lame', 'vegetable', 'deaf-mute', 'imbecile', 'yank', 'brit', 'kraut', 'jap', 'commie', 'ruski', 'paki', 'wop', 'dago', 'polack', 'fatty', 'lardass', 'twig', 'beanpole', 'ugly', 'four-eyes', 'baldie', 'geek', 'nerd', 'pimple-face']\n",
            "['because', 'that', 'is', 'freyrs', 'job', 'virility', 'and', 'why', 'has', 'not', 'jesus', 'turned', 'your', 'nigger', 'blood', 'white']\n",
            "['because', 'that', 'is', 'freyrs', 'job', 'virility', 'and', 'why', 'has', 'not', 'jesus', 'turned', 'your', 'nigr', 'blood', 'white']\n",
            "{'nigger': 'nigr'}\n"
          ]
        },
        {
          "output_type": "stream",
          "name": "stderr",
          "text": [
            " 89%|████████▉ | 1721/1924 [5:43:21<15:36,  4.61s/it]"
          ]
        },
        {
          "output_type": "stream",
          "name": "stdout",
          "text": [
            "['nigger', 'nigga', 'mud shark', 'chink', 'gook', 'spic', 'wetback', 'kike', 'sand nigger', 'towelhead', 'beaner', 'cracker', 'honky', 'jungle bunny', 'redskin', 'bitch', 'slut', 'whore', 'cunt', 'feminazi', 'dyke', 'tranny', 'she-male', 'gold digger', 'skank', 'faggot', 'fag', 'homo', 'queer', 'carpet muncher', 'pillow biter', 'fudge packer', 'lesbo', 'Christ killer', 'jihadist', 'infidel', 'kike', 'raghead', 'heathen', 'pagan', 'Bible basher', 'papist', 'kaffir', 'retard', 'cripple', 'spaz', 'mongoloid', 'psycho', 'nutjob', 'lame', 'vegetable', 'deaf-mute', 'imbecile', 'yank', 'brit', 'kraut', 'jap', 'commie', 'ruski', 'paki', 'wop', 'dago', 'polack', 'fatty', 'lardass', 'twig', 'beanpole', 'ugly', 'four-eyes', 'baldie', 'geek', 'nerd', 'pimple-face']\n",
            "['<user>', 'what', 'a', 'vile', 'gobshite', 'it', '’', 'a', 'management', 'issue', 'not', 'a', 'immigrant', 'issue', 'and', 'then', 'she', 'defends', 'the', 'us', 'healthcare', 'system', 'wild']\n",
            "['<user>', 'what', 'a', 'vile', 'gobshite', 'it', '’', 'a', 'management', 'issue', 'not', 'a', 'IMIGRANT', 'issue', 'and', 'then', 'she', 'Defends', 'the', 'us', 'hEaLtHcArE', 'system', 'WiLd']\n",
            "{'immigrant': 'IMIGRANT', 'defends': 'Defends', 'wild': 'WiLd', 'healthcare': 'hEaLtHcArE'}\n"
          ]
        },
        {
          "output_type": "stream",
          "name": "stderr",
          "text": [
            " 90%|████████▉ | 1726/1924 [5:44:50<45:38, 13.83s/it]  "
          ]
        },
        {
          "output_type": "stream",
          "name": "stdout",
          "text": [
            "['nigger', 'nigga', 'mud shark', 'chink', 'gook', 'spic', 'wetback', 'kike', 'sand nigger', 'towelhead', 'beaner', 'cracker', 'honky', 'jungle bunny', 'redskin', 'bitch', 'slut', 'whore', 'cunt', 'feminazi', 'dyke', 'tranny', 'she-male', 'gold digger', 'skank', 'faggot', 'fag', 'homo', 'queer', 'carpet muncher', 'pillow biter', 'fudge packer', 'lesbo', 'Christ killer', 'jihadist', 'infidel', 'kike', 'raghead', 'heathen', 'pagan', 'Bible basher', 'papist', 'kaffir', 'retard', 'cripple', 'spaz', 'mongoloid', 'psycho', 'nutjob', 'lame', 'vegetable', 'deaf-mute', 'imbecile', 'yank', 'brit', 'kraut', 'jap', 'commie', 'ruski', 'paki', 'wop', 'dago', 'polack', 'fatty', 'lardass', 'twig', 'beanpole', 'ugly', 'four-eyes', 'baldie', 'geek', 'nerd', 'pimple-face']\n",
            "['high', 'iq', 'but', 'still', 'retarded']\n",
            "['high', 'iq', 'but', 'still', 'retarded']\n",
            "{'high': 'high'}\n"
          ]
        },
        {
          "output_type": "stream",
          "name": "stderr",
          "text": [
            " 90%|████████▉ | 1731/1924 [5:46:21<1:01:32, 19.13s/it]"
          ]
        },
        {
          "output_type": "stream",
          "name": "stdout",
          "text": [
            "['nigger', 'nigga', 'mud shark', 'chink', 'gook', 'spic', 'wetback', 'kike', 'sand nigger', 'towelhead', 'beaner', 'cracker', 'honky', 'jungle bunny', 'redskin', 'bitch', 'slut', 'whore', 'cunt', 'feminazi', 'dyke', 'tranny', 'she-male', 'gold digger', 'skank', 'faggot', 'fag', 'homo', 'queer', 'carpet muncher', 'pillow biter', 'fudge packer', 'lesbo', 'Christ killer', 'jihadist', 'infidel', 'kike', 'raghead', 'heathen', 'pagan', 'Bible basher', 'papist', 'kaffir', 'retard', 'cripple', 'spaz', 'mongoloid', 'psycho', 'nutjob', 'lame', 'vegetable', 'deaf-mute', 'imbecile', 'yank', 'brit', 'kraut', 'jap', 'commie', 'ruski', 'paki', 'wop', 'dago', 'polack', 'fatty', 'lardass', 'twig', 'beanpole', 'ugly', 'four-eyes', 'baldie', 'geek', 'nerd', 'pimple-face']\n",
            "['what', 'a', 'tortured', 'little', 'soul', 'is', 'putting', 'a', 'period', 'after', 'every', 'word', 'the', 'white', 'people', 'version', 'of', 'clapping', 'your', 'hands', 'as', 'you', 'speak', 'it', 'been', 'a', 'long', 'time', 'since', 'i', 'have', 'seen', 'your', 'what', 'a', 'dolt']\n",
            "['what', 'a', 'tortured', 'little', 'soul', 'is', 'putting', 'a', 'period', 'after', 'EVEry', 'word', 'the', 'wHite', 'people', 'version', 'of', 'clapping', 'your', 'hands', 'as', 'YOUUUU', 'speak', 'it', 'bEen', 'a', 'long', 'time', 'since', 'i', 'have', 'seen', 'your', 'whattt', 'a', 'dolt']\n",
            "{'what': 'whattt', 'you': 'YOUUUU', 'been': 'bEen', 'white': 'wHite', 'every': 'EVEry'}\n"
          ]
        },
        {
          "output_type": "stream",
          "name": "stderr",
          "text": [
            " 90%|█████████ | 1736/1924 [5:47:15<35:19, 11.27s/it]"
          ]
        },
        {
          "output_type": "stream",
          "name": "stdout",
          "text": [
            "['nigger', 'nigga', 'mud shark', 'chink', 'gook', 'spic', 'wetback', 'kike', 'sand nigger', 'towelhead', 'beaner', 'cracker', 'honky', 'jungle bunny', 'redskin', 'bitch', 'slut', 'whore', 'cunt', 'feminazi', 'dyke', 'tranny', 'she-male', 'gold digger', 'skank', 'faggot', 'fag', 'homo', 'queer', 'carpet muncher', 'pillow biter', 'fudge packer', 'lesbo', 'Christ killer', 'jihadist', 'infidel', 'kike', 'raghead', 'heathen', 'pagan', 'Bible basher', 'papist', 'kaffir', 'retard', 'cripple', 'spaz', 'mongoloid', 'psycho', 'nutjob', 'lame', 'vegetable', 'deaf-mute', 'imbecile', 'yank', 'brit', 'kraut', 'jap', 'commie', 'ruski', 'paki', 'wop', 'dago', 'polack', 'fatty', 'lardass', 'twig', 'beanpole', 'ugly', 'four-eyes', 'baldie', 'geek', 'nerd', 'pimple-face']\n",
            "['alex', 'is', 'my', 'friend', 'not', 'a', 'stupid', 'nigger', 'other', 'alex', 'is']\n",
            "['alex', 'is', 'my', 'friend', 'not', 'a', 'stupid', 'nigr', 'other', 'alex', 'is']\n",
            "{'nigger': 'nigr'}\n"
          ]
        },
        {
          "output_type": "stream",
          "name": "stderr",
          "text": [
            " 90%|█████████ | 1741/1924 [5:49:03<1:02:26, 20.47s/it]"
          ]
        },
        {
          "output_type": "stream",
          "name": "stdout",
          "text": [
            "['nigger', 'nigga', 'mud shark', 'chink', 'gook', 'spic', 'wetback', 'kike', 'sand nigger', 'towelhead', 'beaner', 'cracker', 'honky', 'jungle bunny', 'redskin', 'bitch', 'slut', 'whore', 'cunt', 'feminazi', 'dyke', 'tranny', 'she-male', 'gold digger', 'skank', 'faggot', 'fag', 'homo', 'queer', 'carpet muncher', 'pillow biter', 'fudge packer', 'lesbo', 'Christ killer', 'jihadist', 'infidel', 'kike', 'raghead', 'heathen', 'pagan', 'Bible basher', 'papist', 'kaffir', 'retard', 'cripple', 'spaz', 'mongoloid', 'psycho', 'nutjob', 'lame', 'vegetable', 'deaf-mute', 'imbecile', 'yank', 'brit', 'kraut', 'jap', 'commie', 'ruski', 'paki', 'wop', 'dago', 'polack', 'fatty', 'lardass', 'twig', 'beanpole', 'ugly', 'four-eyes', 'baldie', 'geek', 'nerd', 'pimple-face']\n",
            "['pro', 'tip', 'the', 'niggers', 'do', 'not', 'care', 'if', 'you', 'never', 'owned', 'slaves', 'granddaddy', 'fought', 'the', 'natzis', 'or', 'great', 'great', 'grandad', 'ground', 'the', 'confederacy', 'into', 'dust', 'with', 'the', 'boot', 'heel', 'of', 'the', 'proto', 'bolshevik', 'yankee', 'gubment', 'force', 'of', 'weight', 'and', 'arms', 'behind', 'it', 'they', 'hate', 'you', 'because', 'you', 'are', 'white', 'and', 'you', 'exist', 'altright']\n",
            "['PROOOO', 'tip', 'the', 'niggers', 'do', 'not', 'caree', 'if', 'you', 'never', 'owned', 'slavs', 'granddaddy', 'fOuGht', 'thhe', 'natzis', 'or', 'great', 'great', 'grandad', 'ground', 'theeeee', 'confederacy', 'into', 'dust', 'with', 'the', 'boot', 'heel', 'of', 'the', 'proto', 'bolshevik', 'yankee', 'gubment', 'force', 'of', 'WEIGHT', 'Annnndd', 'arms', 'behind', 'it', 'thhey', 'hate', 'you', 'because', 'YOUUUU', 'are', 'white', 'and', 'you', 'exist', 'altright']\n",
            "{'pro': 'PROOOO', 'slaves': 'slavs', 'care': 'caree', 'the': 'thhe', 'fought': 'fOuGht', 'you': 'YOUUUU', 'they': 'thhey', 'and': 'Annnndd', 'weight': 'WEIGHT'}\n"
          ]
        },
        {
          "output_type": "stream",
          "name": "stderr",
          "text": [
            " 91%|█████████ | 1746/1924 [5:49:38<28:28,  9.60s/it]"
          ]
        },
        {
          "output_type": "stream",
          "name": "stdout",
          "text": [
            "['nigger', 'nigga', 'mud shark', 'chink', 'gook', 'spic', 'wetback', 'kike', 'sand nigger', 'towelhead', 'beaner', 'cracker', 'honky', 'jungle bunny', 'redskin', 'bitch', 'slut', 'whore', 'cunt', 'feminazi', 'dyke', 'tranny', 'she-male', 'gold digger', 'skank', 'faggot', 'fag', 'homo', 'queer', 'carpet muncher', 'pillow biter', 'fudge packer', 'lesbo', 'Christ killer', 'jihadist', 'infidel', 'kike', 'raghead', 'heathen', 'pagan', 'Bible basher', 'papist', 'kaffir', 'retard', 'cripple', 'spaz', 'mongoloid', 'psycho', 'nutjob', 'lame', 'vegetable', 'deaf-mute', 'imbecile', 'yank', 'brit', 'kraut', 'jap', 'commie', 'ruski', 'paki', 'wop', 'dago', 'polack', 'fatty', 'lardass', 'twig', 'beanpole', 'ugly', 'four-eyes', 'baldie', 'geek', 'nerd', 'pimple-face']\n",
            "['black', 'be', 'bootyful', 'sheboons', 'something', 'even', 'their', 'gorillas', 'dont', 'want', 'nobody', 'wants']\n",
            "['black', 'be', 'bootyful', 'sheboons', 'something', 'even', 'THeIR', 'gorillas', 'dont', 'want', 'nobody', 'wants']\n",
            "{'their': 'THeIR', 'even': 'even', 'sheboons': 'sheboons'}\n"
          ]
        },
        {
          "output_type": "stream",
          "name": "stderr",
          "text": [
            " 91%|█████████ | 1751/1924 [5:50:31<33:04, 11.47s/it]"
          ]
        },
        {
          "output_type": "stream",
          "name": "stdout",
          "text": [
            "['nigger', 'nigga', 'mud shark', 'chink', 'gook', 'spic', 'wetback', 'kike', 'sand nigger', 'towelhead', 'beaner', 'cracker', 'honky', 'jungle bunny', 'redskin', 'bitch', 'slut', 'whore', 'cunt', 'feminazi', 'dyke', 'tranny', 'she-male', 'gold digger', 'skank', 'faggot', 'fag', 'homo', 'queer', 'carpet muncher', 'pillow biter', 'fudge packer', 'lesbo', 'Christ killer', 'jihadist', 'infidel', 'kike', 'raghead', 'heathen', 'pagan', 'Bible basher', 'papist', 'kaffir', 'retard', 'cripple', 'spaz', 'mongoloid', 'psycho', 'nutjob', 'lame', 'vegetable', 'deaf-mute', 'imbecile', 'yank', 'brit', 'kraut', 'jap', 'commie', 'ruski', 'paki', 'wop', 'dago', 'polack', 'fatty', 'lardass', 'twig', 'beanpole', 'ugly', 'four-eyes', 'baldie', 'geek', 'nerd', 'pimple-face']\n",
            "['<user>', '<user>', '<user>', '<user>', '⬆️', 'is', 'not', 'm', 'ichael', 'g', 'oguen', 'looking', 'at', 'using', 'crispr', 'to', 'eliminate', 'autism', '🤔', '$$', 'white', 'nationalists']\n",
            "['<user>', '<user>', '<user>', '<user>', '⬆️', 'is', 'nOt', 'm', 'ichael', 'g', 'oguen', 'looking', 'at', 'using', 'crispr', 'to', 'eliminate', 'autism', '🤔', '$$', 'white', 'nationalists']\n",
            "{'not': 'nOt'}\n"
          ]
        },
        {
          "output_type": "stream",
          "name": "stderr",
          "text": [
            " 91%|█████████▏| 1756/1924 [5:51:24<29:42, 10.61s/it]"
          ]
        },
        {
          "output_type": "stream",
          "name": "stdout",
          "text": [
            "['nigger', 'nigga', 'mud shark', 'chink', 'gook', 'spic', 'wetback', 'kike', 'sand nigger', 'towelhead', 'beaner', 'cracker', 'honky', 'jungle bunny', 'redskin', 'bitch', 'slut', 'whore', 'cunt', 'feminazi', 'dyke', 'tranny', 'she-male', 'gold digger', 'skank', 'faggot', 'fag', 'homo', 'queer', 'carpet muncher', 'pillow biter', 'fudge packer', 'lesbo', 'Christ killer', 'jihadist', 'infidel', 'kike', 'raghead', 'heathen', 'pagan', 'Bible basher', 'papist', 'kaffir', 'retard', 'cripple', 'spaz', 'mongoloid', 'psycho', 'nutjob', 'lame', 'vegetable', 'deaf-mute', 'imbecile', 'yank', 'brit', 'kraut', 'jap', 'commie', 'ruski', 'paki', 'wop', 'dago', 'polack', 'fatty', 'lardass', 'twig', 'beanpole', 'ugly', 'four-eyes', 'baldie', 'geek', 'nerd', 'pimple-face']\n",
            "['yellow', 'kirby', 'likes', 'to', 'wear', 'women', 'clothing']\n",
            "['yelow', 'kirby', 'likes', 'to', 'wear', 'womEn', 'clothing']\n",
            "{'women': 'womEn', 'yellow': 'yelow'}\n"
          ]
        },
        {
          "output_type": "stream",
          "name": "stderr",
          "text": [
            " 92%|█████████▏| 1761/1924 [5:52:18<30:11, 11.11s/it]"
          ]
        },
        {
          "output_type": "stream",
          "name": "stdout",
          "text": [
            "['nigger', 'nigga', 'mud shark', 'chink', 'gook', 'spic', 'wetback', 'kike', 'sand nigger', 'towelhead', 'beaner', 'cracker', 'honky', 'jungle bunny', 'redskin', 'bitch', 'slut', 'whore', 'cunt', 'feminazi', 'dyke', 'tranny', 'she-male', 'gold digger', 'skank', 'faggot', 'fag', 'homo', 'queer', 'carpet muncher', 'pillow biter', 'fudge packer', 'lesbo', 'Christ killer', 'jihadist', 'infidel', 'kike', 'raghead', 'heathen', 'pagan', 'Bible basher', 'papist', 'kaffir', 'retard', 'cripple', 'spaz', 'mongoloid', 'psycho', 'nutjob', 'lame', 'vegetable', 'deaf-mute', 'imbecile', 'yank', 'brit', 'kraut', 'jap', 'commie', 'ruski', 'paki', 'wop', 'dago', 'polack', 'fatty', 'lardass', 'twig', 'beanpole', 'ugly', 'four-eyes', 'baldie', 'geek', 'nerd', 'pimple-face']\n",
            "['in', 'time', 'my', 'friend', 'in', 'time', 'they', 'do', 'already', 'support', 'the', 'acid', 'in', 'my', 'moslem', 'wife', 'face', 'libtards', 'hollywood', 'sucks']\n",
            "['in', 'time', 'my', 'frieNd', 'in', 'time', 'they', 'do', 'already', 'support', 'ThEe', 'acid', 'in', 'my', 'moslem', 'WiFE', 'face', 'libtards', 'hollywood', 'sucks']\n",
            "{'time': 'time', 'the': 'ThEe', 'friend': 'frieNd', 'wife': 'WiFE'}\n"
          ]
        },
        {
          "output_type": "stream",
          "name": "stderr",
          "text": [
            " 92%|█████████▏| 1766/1924 [5:53:31<39:28, 14.99s/it]"
          ]
        },
        {
          "output_type": "stream",
          "name": "stdout",
          "text": [
            "['nigger', 'nigga', 'mud shark', 'chink', 'gook', 'spic', 'wetback', 'kike', 'sand nigger', 'towelhead', 'beaner', 'cracker', 'honky', 'jungle bunny', 'redskin', 'bitch', 'slut', 'whore', 'cunt', 'feminazi', 'dyke', 'tranny', 'she-male', 'gold digger', 'skank', 'faggot', 'fag', 'homo', 'queer', 'carpet muncher', 'pillow biter', 'fudge packer', 'lesbo', 'Christ killer', 'jihadist', 'infidel', 'kike', 'raghead', 'heathen', 'pagan', 'Bible basher', 'papist', 'kaffir', 'retard', 'cripple', 'spaz', 'mongoloid', 'psycho', 'nutjob', 'lame', 'vegetable', 'deaf-mute', 'imbecile', 'yank', 'brit', 'kraut', 'jap', 'commie', 'ruski', 'paki', 'wop', 'dago', 'polack', 'fatty', 'lardass', 'twig', 'beanpole', 'ugly', 'four-eyes', 'baldie', 'geek', 'nerd', 'pimple-face']\n",
            "['it', 'not', 'just', 'mainstream', 'media', 'i', 'do', 'not', 'like', 'the', 'argument', 'that', 'many', 'people', 'on', 'gab', 'or', 'any', 'where', 'on', 'the', 'interenet', 'have', 'yo', 'my', 'neighborhood', 'had', 'a', 'bunch', 'of', 'asians', 'and', 'blacks', 'moving', 'in', 'i', 'moved', 'cause', 'i', 'did', 'not', 'want', 'to', 'deal', 'with', 'that', 'that', 'not', 'genocide']\n",
            "['it', 'NOT', 'just', 'mainstrem', 'media', 'i', 'do', 'not', 'like', 'THEE', 'argument', 'thất', 'manny', 'people', 'on', 'gab', 'or', 'any', 'where', 'on', 'THEE', 'interenet', 'have', 'yo', 'my', 'neighborhood', 'had', 'a', 'bunch', 'of', 'asians', 'ANNNND', 'blacks', 'moving', 'in', 'i', 'moved', 'cause', 'i', 'did', 'not', 'want', 'to', 'deal', 'with', 'that', 'that', 'not', 'genocide']\n",
            "{'many': 'manny', 'and': 'ANNNND', 'the': 'THEE', 'that': 'thất', 'not': 'NOT', 'mainstream': 'mainstrem'}\n"
          ]
        },
        {
          "output_type": "stream",
          "name": "stderr",
          "text": [
            " 92%|█████████▏| 1771/1924 [5:55:31<1:09:05, 27.10s/it]"
          ]
        },
        {
          "output_type": "stream",
          "name": "stdout",
          "text": [
            "['nigger', 'nigga', 'mud shark', 'chink', 'gook', 'spic', 'wetback', 'kike', 'sand nigger', 'towelhead', 'beaner', 'cracker', 'honky', 'jungle bunny', 'redskin', 'bitch', 'slut', 'whore', 'cunt', 'feminazi', 'dyke', 'tranny', 'she-male', 'gold digger', 'skank', 'faggot', 'fag', 'homo', 'queer', 'carpet muncher', 'pillow biter', 'fudge packer', 'lesbo', 'Christ killer', 'jihadist', 'infidel', 'kike', 'raghead', 'heathen', 'pagan', 'Bible basher', 'papist', 'kaffir', 'retard', 'cripple', 'spaz', 'mongoloid', 'psycho', 'nutjob', 'lame', 'vegetable', 'deaf-mute', 'imbecile', 'yank', 'brit', 'kraut', 'jap', 'commie', 'ruski', 'paki', 'wop', 'dago', 'polack', 'fatty', 'lardass', 'twig', 'beanpole', 'ugly', 'four-eyes', 'baldie', 'geek', 'nerd', 'pimple-face']\n",
            "['<user>', 'here', 'is', 'how', 'to', 'end', 'sanctions', 'on', 'syria', '<number>', 'expose', 'the', 'white', 'helmets', 'via', 'select', 'committee', 'senate', 'committee', '<number>', 'show', 'how', 'ngos', 'reporting', 'on', 'syria', 'rely', 'on', 'white', 'helmets', '<number>', 'show', 'how', 'this', 'collapses', 'the', 'entire', 'edifice', 'of', 'lies', '<number>', 'show', 'how', 'assad', 'should', 'be', 'backed', 'against', 'jihadists']\n",
            "['<user>', 'here', 'is', 'how', 'to', 'end', 'sanctions', 'on', 'syria', '<number>', 'expose', 'the', 'wHIte', 'Helmets', 'via', 'select', 'comitte', 'senate', 'comitte', '<number>', 'show', 'how', 'ngos', 'reporting', 'on', 'syria', 'reeli', 'on', 'white', 'helmets', '<number>', 'show', 'how', 'this', 'collapses', 'the', 'entire', 'edifice', 'of', 'lies', '<number>', 'show', 'how', 'assad', 'should', 'be', 'backed', 'against', 'jihadists']\n",
            "{'rely': 'reeli', 'committee': 'comitte', 'white': 'wHIte', 'edifice': 'edifice', 'ngos': 'ngos', 'show': 'show', 'helmets': 'Helmets'}\n"
          ]
        },
        {
          "output_type": "stream",
          "name": "stderr",
          "text": [
            " 92%|█████████▏| 1776/1924 [5:56:27<45:13, 18.34s/it]"
          ]
        },
        {
          "output_type": "stream",
          "name": "stdout",
          "text": [
            "['nigger', 'nigga', 'mud shark', 'chink', 'gook', 'spic', 'wetback', 'kike', 'sand nigger', 'towelhead', 'beaner', 'cracker', 'honky', 'jungle bunny', 'redskin', 'bitch', 'slut', 'whore', 'cunt', 'feminazi', 'dyke', 'tranny', 'she-male', 'gold digger', 'skank', 'faggot', 'fag', 'homo', 'queer', 'carpet muncher', 'pillow biter', 'fudge packer', 'lesbo', 'Christ killer', 'jihadist', 'infidel', 'kike', 'raghead', 'heathen', 'pagan', 'Bible basher', 'papist', 'kaffir', 'retard', 'cripple', 'spaz', 'mongoloid', 'psycho', 'nutjob', 'lame', 'vegetable', 'deaf-mute', 'imbecile', 'yank', 'brit', 'kraut', 'jap', 'commie', 'ruski', 'paki', 'wop', 'dago', 'polack', 'fatty', 'lardass', 'twig', 'beanpole', 'ugly', 'four-eyes', 'baldie', 'geek', 'nerd', 'pimple-face']\n",
            "['when', 'you', 'are', 'fighting', 'a', 'war', 'as', 'retarded', 'as', 'afghanistan', 'all', 'you', 'have', 'to', 'keep', 'you', 'going', 'are', 'your', 'brothers', 'and', 'he', 'betrayed', 'them', 'i', 'do', 'not', 'even', 'want', 'this', 'shithead', 'tortured', 'i', 'just', 'want', 'him', 'dead', 'you', 'do', 'not', 'waste', 'torture', 'on', 'a', 'cockroach', 'you', 'step', 'on', 'it']\n",
            "['when', 'you', 'are', 'fighting', 'a', 'war', 'as', 'retarded', 'as', 'afghanistan', 'all', 'Youu', 'HavE', 'to', 'KeEP', 'youU', 'going', 'are', 'your', 'brothers', 'and', 'he', 'betrayed', 'them', 'i', 'do', 'noooott', 'even', 'want', 'this', 'shithead', 'tortured', 'i', 'just', 'want', 'him', 'dead', 'you', 'do', 'not', 'wAsTE', 'tOrture', 'on', 'a', 'cockroach', 'you', 'step', 'on', 'it']\n",
            "{'keep': 'KeEP', 'war': 'war', 'you': 'Youu', 'waste': 'wAsTE', 'not': 'noooott', 'have': 'HavE', 'torture': 'tOrture'}\n"
          ]
        },
        {
          "output_type": "stream",
          "name": "stderr",
          "text": [
            " 93%|█████████▎| 1781/1924 [5:58:16<44:01, 18.47s/it]  "
          ]
        },
        {
          "output_type": "stream",
          "name": "stdout",
          "text": [
            "['nigger', 'nigga', 'mud shark', 'chink', 'gook', 'spic', 'wetback', 'kike', 'sand nigger', 'towelhead', 'beaner', 'cracker', 'honky', 'jungle bunny', 'redskin', 'bitch', 'slut', 'whore', 'cunt', 'feminazi', 'dyke', 'tranny', 'she-male', 'gold digger', 'skank', 'faggot', 'fag', 'homo', 'queer', 'carpet muncher', 'pillow biter', 'fudge packer', 'lesbo', 'Christ killer', 'jihadist', 'infidel', 'kike', 'raghead', 'heathen', 'pagan', 'Bible basher', 'papist', 'kaffir', 'retard', 'cripple', 'spaz', 'mongoloid', 'psycho', 'nutjob', 'lame', 'vegetable', 'deaf-mute', 'imbecile', 'yank', 'brit', 'kraut', 'jap', 'commie', 'ruski', 'paki', 'wop', 'dago', 'polack', 'fatty', 'lardass', 'twig', 'beanpole', 'ugly', 'four-eyes', 'baldie', 'geek', 'nerd', 'pimple-face']\n",
            "['<user>', 'is', 'concerned', 'about', 'kashmir', 'she', 'is', 'not', 'concerned', 'that', '<user>', 'threatened', 'terrorism', 'bloodshed', 'and', 'nuclear', 'holocaust', 'on', '<number>', 'billion', 'indian', 'citizens', 'in', 'front', 'of', 'the', 'whole', 'world', 'at', 'unga']\n",
            "['<user>', 'is', 'concerned', 'about', 'kashmir', 'she', 'is', 'nooot', 'concerned', 'that', '<user>', 'thretened', 'terrorism', 'bloodshed', 'Annnnnd', 'nuclear', 'holocaust', 'on', '<number>', 'billion', 'indian', 'citizens', 'in', 'front', 'of', 'the', 'whole', 'world', 'at', 'unga']\n",
            "{'and': 'Annnnnd', 'threatened': 'thretened', 'not': 'nooot'}\n"
          ]
        },
        {
          "output_type": "stream",
          "name": "stderr",
          "text": [
            " 93%|█████████▎| 1786/1924 [5:59:13<36:54, 16.05s/it]"
          ]
        },
        {
          "output_type": "stream",
          "name": "stdout",
          "text": [
            "['nigger', 'nigga', 'mud shark', 'chink', 'gook', 'spic', 'wetback', 'kike', 'sand nigger', 'towelhead', 'beaner', 'cracker', 'honky', 'jungle bunny', 'redskin', 'bitch', 'slut', 'whore', 'cunt', 'feminazi', 'dyke', 'tranny', 'she-male', 'gold digger', 'skank', 'faggot', 'fag', 'homo', 'queer', 'carpet muncher', 'pillow biter', 'fudge packer', 'lesbo', 'Christ killer', 'jihadist', 'infidel', 'kike', 'raghead', 'heathen', 'pagan', 'Bible basher', 'papist', 'kaffir', 'retard', 'cripple', 'spaz', 'mongoloid', 'psycho', 'nutjob', 'lame', 'vegetable', 'deaf-mute', 'imbecile', 'yank', 'brit', 'kraut', 'jap', 'commie', 'ruski', 'paki', 'wop', 'dago', 'polack', 'fatty', 'lardass', 'twig', 'beanpole', 'ugly', 'four-eyes', 'baldie', 'geek', 'nerd', 'pimple-face']\n",
            "['dont', 'try', 'to', 'follow', 'me', 'cunts', 'i', 'aint', 'blind', 'bitch', 'faggot', 'sandniggers']\n",
            "['dont', 'try', 'to', 'follow', 'me', 'cunts', 'i', 'aint', 'blind', 'BiTCh', 'fagot', 'sandniggers']\n",
            "{'bitch': 'BiTCh', 'faggot': 'fagot'}\n"
          ]
        },
        {
          "output_type": "stream",
          "name": "stderr",
          "text": [
            " 93%|█████████▎| 1791/1924 [5:59:30<15:37,  7.05s/it]"
          ]
        },
        {
          "output_type": "stream",
          "name": "stdout",
          "text": [
            "['nigger', 'nigga', 'mud shark', 'chink', 'gook', 'spic', 'wetback', 'kike', 'sand nigger', 'towelhead', 'beaner', 'cracker', 'honky', 'jungle bunny', 'redskin', 'bitch', 'slut', 'whore', 'cunt', 'feminazi', 'dyke', 'tranny', 'she-male', 'gold digger', 'skank', 'faggot', 'fag', 'homo', 'queer', 'carpet muncher', 'pillow biter', 'fudge packer', 'lesbo', 'Christ killer', 'jihadist', 'infidel', 'kike', 'raghead', 'heathen', 'pagan', 'Bible basher', 'papist', 'kaffir', 'retard', 'cripple', 'spaz', 'mongoloid', 'psycho', 'nutjob', 'lame', 'vegetable', 'deaf-mute', 'imbecile', 'yank', 'brit', 'kraut', 'jap', 'commie', 'ruski', 'paki', 'wop', 'dago', 'polack', 'fatty', 'lardass', 'twig', 'beanpole', 'ugly', 'four-eyes', 'baldie', 'geek', 'nerd', 'pimple-face']\n",
            "['idk', 'about', 'you', 'but', 'i', 'think', 'kimjongun', 'is', 'perhaps', 'retarded', 'no', 'offense', 'to', 'retarded', 'people', 'northkorea']\n",
            "['idk', 'about', 'you', 'but', 'i', 'thhink', 'kimjongun', 'is', 'perhaps', 'retarded', 'no', 'offense', 'to', 'retarded', 'people', 'NorthKorea']\n",
            "{'northkorea': 'NorthKorea', 'think': 'thhink'}\n"
          ]
        },
        {
          "output_type": "stream",
          "name": "stderr",
          "text": [
            " 93%|█████████▎| 1796/1924 [6:01:37<1:02:04, 29.10s/it]"
          ]
        },
        {
          "output_type": "stream",
          "name": "stdout",
          "text": [
            "['nigger', 'nigga', 'mud shark', 'chink', 'gook', 'spic', 'wetback', 'kike', 'sand nigger', 'towelhead', 'beaner', 'cracker', 'honky', 'jungle bunny', 'redskin', 'bitch', 'slut', 'whore', 'cunt', 'feminazi', 'dyke', 'tranny', 'she-male', 'gold digger', 'skank', 'faggot', 'fag', 'homo', 'queer', 'carpet muncher', 'pillow biter', 'fudge packer', 'lesbo', 'Christ killer', 'jihadist', 'infidel', 'kike', 'raghead', 'heathen', 'pagan', 'Bible basher', 'papist', 'kaffir', 'retard', 'cripple', 'spaz', 'mongoloid', 'psycho', 'nutjob', 'lame', 'vegetable', 'deaf-mute', 'imbecile', 'yank', 'brit', 'kraut', 'jap', 'commie', 'ruski', 'paki', 'wop', 'dago', 'polack', 'fatty', 'lardass', 'twig', 'beanpole', 'ugly', 'four-eyes', 'baldie', 'geek', 'nerd', 'pimple-face']\n",
            "['ijeuma', 'oluo', 'lol', 'bet', 'their', 'real', 'name', 'something', 'really', 'ghetto', 'like', 'ty', 'jon', 'or', 'something', 'i', 'notice', 'that', 'the', 'woke', 'african', 'americans', 'love', 'to', 'use', 'african', 'names', 'to', 'virtue', 'signal', 'their', 'identity', 'like', 'that', 'comic', 'artist', 'kwanzer', 'osajyefo']\n",
            "['Ijma', 'oluo', 'lol', 'bet', 'their', 'REaaLLl', 'NAMe', 'something', 'rEaLly', 'ghettoooooo', 'like', 'ty', 'jon', 'or', 'something', 'i', 'notice', 'that', 'THHHe', 'woke', 'african', 'amercians', 'love', 'to', 'use', 'african', 'names', 'to', 'virtue', 'signal', 'their', 'identity', 'like', 'thaT', 'comic', 'artist', 'kwanzer', 'osajyefo']\n",
            "{'really': 'rEaLly', 'ijeuma': 'Ijma', 'real': 'REaaLLl', 'ghetto': 'ghettoooooo', 'the': 'THHHe', 'americans': 'amercians', 'name': 'NAMe', 'that': 'thaT'}\n"
          ]
        },
        {
          "output_type": "stream",
          "name": "stderr",
          "text": [
            " 94%|█████████▎| 1801/1924 [6:02:07<27:43, 13.52s/it]"
          ]
        },
        {
          "output_type": "stream",
          "name": "stdout",
          "text": [
            "['nigger', 'nigga', 'mud shark', 'chink', 'gook', 'spic', 'wetback', 'kike', 'sand nigger', 'towelhead', 'beaner', 'cracker', 'honky', 'jungle bunny', 'redskin', 'bitch', 'slut', 'whore', 'cunt', 'feminazi', 'dyke', 'tranny', 'she-male', 'gold digger', 'skank', 'faggot', 'fag', 'homo', 'queer', 'carpet muncher', 'pillow biter', 'fudge packer', 'lesbo', 'Christ killer', 'jihadist', 'infidel', 'kike', 'raghead', 'heathen', 'pagan', 'Bible basher', 'papist', 'kaffir', 'retard', 'cripple', 'spaz', 'mongoloid', 'psycho', 'nutjob', 'lame', 'vegetable', 'deaf-mute', 'imbecile', 'yank', 'brit', 'kraut', 'jap', 'commie', 'ruski', 'paki', 'wop', 'dago', 'polack', 'fatty', 'lardass', 'twig', 'beanpole', 'ugly', 'four-eyes', 'baldie', 'geek', 'nerd', 'pimple-face']\n",
            "['no', 'chain', 'migration', 'is', 'a', 'bottomless', 'pit', 'of', 'immigrant', 'flooding', 'into', 'the', 'country', 'their', 'mamma', 'and', 'dadda', 'their', 'brothers', 'and', 'sisters', 'their', 'grandparents', 'their', 'aunts', 'uncles', 'their', 'kids', 'etc', 'etc', 'etc', 'family', 'reunification', 'my', 'ass']\n",
            "['no', 'chin', 'migration', 'is', 'a', 'bottomless', 'pit', 'of', 'immigrant', 'Flooding', 'into', 'the', 'country', 'their', 'mamma', 'annnnnd', 'dadda', 'their', 'brothers', 'and', 'sistrs', 'ThEir', 'grandparents', 'their', 'aunts', 'uncles', 'their', 'kids', 'etc', 'etc', 'etc', 'fAmiLy', 'reunification', 'my', 'ass']\n",
            "{'chain': 'chin', 'family': 'fAmiLy', 'flooding': 'Flooding', 'and': 'annnnnd', 'sisters': 'sistrs', 'their': 'ThEir'}\n"
          ]
        },
        {
          "output_type": "stream",
          "name": "stderr",
          "text": [
            " 94%|█████████▍| 1806/1924 [6:03:25<27:40, 14.08s/it]"
          ]
        },
        {
          "output_type": "stream",
          "name": "stdout",
          "text": [
            "['nigger', 'nigga', 'mud shark', 'chink', 'gook', 'spic', 'wetback', 'kike', 'sand nigger', 'towelhead', 'beaner', 'cracker', 'honky', 'jungle bunny', 'redskin', 'bitch', 'slut', 'whore', 'cunt', 'feminazi', 'dyke', 'tranny', 'she-male', 'gold digger', 'skank', 'faggot', 'fag', 'homo', 'queer', 'carpet muncher', 'pillow biter', 'fudge packer', 'lesbo', 'Christ killer', 'jihadist', 'infidel', 'kike', 'raghead', 'heathen', 'pagan', 'Bible basher', 'papist', 'kaffir', 'retard', 'cripple', 'spaz', 'mongoloid', 'psycho', 'nutjob', 'lame', 'vegetable', 'deaf-mute', 'imbecile', 'yank', 'brit', 'kraut', 'jap', 'commie', 'ruski', 'paki', 'wop', 'dago', 'polack', 'fatty', 'lardass', 'twig', 'beanpole', 'ugly', 'four-eyes', 'baldie', 'geek', 'nerd', 'pimple-face']\n",
            "['i', 'want', 'roy', 'moore', 'to', 'win', 'even', 'if', 'it', 'only', 'to', 'hear', 'all', 'the', 'kikes', 'commie', 'faggot', 'scum', 'screaming', 'about', 'inbred', 'misogynistic', 'toothless', 'alabama', 'hillbilly', 'white', 'trash']\n",
            "['i', 'want', 'roy', 'moore', 'to', 'win', 'even', 'if', 'it', 'only', 'to', 'hear', 'all', 'the', 'kikes', 'CoMe', 'FAGGOTTTT', 'scum', 'screaming', 'about', 'inbred', 'misogynistic', 'toothless', 'alabama', 'hillbilly', 'white', 'trash']\n",
            "{'commie': 'CoMe', 'faggot': 'FAGGOTTTT'}\n"
          ]
        },
        {
          "output_type": "stream",
          "name": "stderr",
          "text": [
            " 94%|█████████▍| 1811/1924 [6:03:46<10:50,  5.76s/it]"
          ]
        },
        {
          "output_type": "stream",
          "name": "stdout",
          "text": [
            "['nigger', 'nigga', 'mud shark', 'chink', 'gook', 'spic', 'wetback', 'kike', 'sand nigger', 'towelhead', 'beaner', 'cracker', 'honky', 'jungle bunny', 'redskin', 'bitch', 'slut', 'whore', 'cunt', 'feminazi', 'dyke', 'tranny', 'she-male', 'gold digger', 'skank', 'faggot', 'fag', 'homo', 'queer', 'carpet muncher', 'pillow biter', 'fudge packer', 'lesbo', 'Christ killer', 'jihadist', 'infidel', 'kike', 'raghead', 'heathen', 'pagan', 'Bible basher', 'papist', 'kaffir', 'retard', 'cripple', 'spaz', 'mongoloid', 'psycho', 'nutjob', 'lame', 'vegetable', 'deaf-mute', 'imbecile', 'yank', 'brit', 'kraut', 'jap', 'commie', 'ruski', 'paki', 'wop', 'dago', 'polack', 'fatty', 'lardass', 'twig', 'beanpole', 'ugly', 'four-eyes', 'baldie', 'geek', 'nerd', 'pimple-face']\n",
            "['it', 'always', 'women', 'trying', 'this', 'shit', 'like', 'dingbat', 'dingell', 'and', 'joe', 'manchin', 'not', 'a', 'single', 'woman', 'should', 'be', 'allowed', 'to', 'serve', 'in', 'congress']\n",
            "['it', 'always', 'women', 'trying', 'this', 'shit', 'like', 'dingbat', 'dingell', 'and', 'joe', 'manchin', 'not', 'a', 'single', 'woman', 'should', 'be', 'allowed', 'to', 'servie', 'in', 'congress']\n",
            "{'manchin': 'manchin', 'dingell': 'dingell', 'serve': 'servie'}\n"
          ]
        },
        {
          "output_type": "stream",
          "name": "stderr",
          "text": [
            " 94%|█████████▍| 1816/1924 [6:04:31<20:14, 11.25s/it]"
          ]
        },
        {
          "output_type": "stream",
          "name": "stdout",
          "text": [
            "['nigger', 'nigga', 'mud shark', 'chink', 'gook', 'spic', 'wetback', 'kike', 'sand nigger', 'towelhead', 'beaner', 'cracker', 'honky', 'jungle bunny', 'redskin', 'bitch', 'slut', 'whore', 'cunt', 'feminazi', 'dyke', 'tranny', 'she-male', 'gold digger', 'skank', 'faggot', 'fag', 'homo', 'queer', 'carpet muncher', 'pillow biter', 'fudge packer', 'lesbo', 'Christ killer', 'jihadist', 'infidel', 'kike', 'raghead', 'heathen', 'pagan', 'Bible basher', 'papist', 'kaffir', 'retard', 'cripple', 'spaz', 'mongoloid', 'psycho', 'nutjob', 'lame', 'vegetable', 'deaf-mute', 'imbecile', 'yank', 'brit', 'kraut', 'jap', 'commie', 'ruski', 'paki', 'wop', 'dago', 'polack', 'fatty', 'lardass', 'twig', 'beanpole', 'ugly', 'four-eyes', 'baldie', 'geek', 'nerd', 'pimple-face']\n",
            "['<user>', 'i', 'hate', 'you', 'i', '’', 'm', 'just', 'reminiscing']\n",
            "['<user>', 'i', 'hate', 'YOUUU', 'i', '’', 'm', 'JUsT', 'reminiscing']\n",
            "{'you': 'YOUUU', 'just': 'JUsT'}\n"
          ]
        },
        {
          "output_type": "stream",
          "name": "stderr",
          "text": [
            " 95%|█████████▍| 1821/1924 [6:06:28<33:18, 19.40s/it]"
          ]
        },
        {
          "output_type": "stream",
          "name": "stdout",
          "text": [
            "['nigger', 'nigga', 'mud shark', 'chink', 'gook', 'spic', 'wetback', 'kike', 'sand nigger', 'towelhead', 'beaner', 'cracker', 'honky', 'jungle bunny', 'redskin', 'bitch', 'slut', 'whore', 'cunt', 'feminazi', 'dyke', 'tranny', 'she-male', 'gold digger', 'skank', 'faggot', 'fag', 'homo', 'queer', 'carpet muncher', 'pillow biter', 'fudge packer', 'lesbo', 'Christ killer', 'jihadist', 'infidel', 'kike', 'raghead', 'heathen', 'pagan', 'Bible basher', 'papist', 'kaffir', 'retard', 'cripple', 'spaz', 'mongoloid', 'psycho', 'nutjob', 'lame', 'vegetable', 'deaf-mute', 'imbecile', 'yank', 'brit', 'kraut', 'jap', 'commie', 'ruski', 'paki', 'wop', 'dago', 'polack', 'fatty', 'lardass', 'twig', 'beanpole', 'ugly', 'four-eyes', 'baldie', 'geek', 'nerd', 'pimple-face']\n",
            "['<number>', 'yr', 'ago', 'muslims', 'shot', 'killed', 'whites', 'blacks', 'latinos', 'asians', 'christians', 'jews', 'for', 'the', 'fact', 'they', 'were', 'non', 'muslim', 'americans', 'sanbernardino']\n",
            "['<number>', 'yr', 'ago', 'mUsLiMs', 'shot', 'killed', 'whites', 'blacks', 'latinos', 'assns', 'christians', 'jews', 'FOr', 'the', 'fact', 'they', 'were', 'non', 'muslim', 'americans', 'sanbernardino']\n",
            "{'asians': 'assns', 'for': 'FOr', 'muslims': 'mUsLiMs'}\n"
          ]
        },
        {
          "output_type": "stream",
          "name": "stderr",
          "text": [
            " 95%|█████████▍| 1826/1924 [6:07:33<18:47, 11.51s/it]"
          ]
        },
        {
          "output_type": "stream",
          "name": "stdout",
          "text": [
            "['nigger', 'nigga', 'mud shark', 'chink', 'gook', 'spic', 'wetback', 'kike', 'sand nigger', 'towelhead', 'beaner', 'cracker', 'honky', 'jungle bunny', 'redskin', 'bitch', 'slut', 'whore', 'cunt', 'feminazi', 'dyke', 'tranny', 'she-male', 'gold digger', 'skank', 'faggot', 'fag', 'homo', 'queer', 'carpet muncher', 'pillow biter', 'fudge packer', 'lesbo', 'Christ killer', 'jihadist', 'infidel', 'kike', 'raghead', 'heathen', 'pagan', 'Bible basher', 'papist', 'kaffir', 'retard', 'cripple', 'spaz', 'mongoloid', 'psycho', 'nutjob', 'lame', 'vegetable', 'deaf-mute', 'imbecile', 'yank', 'brit', 'kraut', 'jap', 'commie', 'ruski', 'paki', 'wop', 'dago', 'polack', 'fatty', 'lardass', 'twig', 'beanpole', 'ugly', 'four-eyes', 'baldie', 'geek', 'nerd', 'pimple-face']\n",
            "['yet', 'another', 'muslime', 'nigger', 'heard', 'from']\n",
            "['yet', 'another', 'muslime', 'NIGGR', 'heard', 'from']\n",
            "{'nigger': 'NIGGR'}\n"
          ]
        },
        {
          "output_type": "stream",
          "name": "stderr",
          "text": [
            " 95%|█████████▌| 1831/1924 [6:08:40<16:34, 10.69s/it]"
          ]
        },
        {
          "output_type": "stream",
          "name": "stdout",
          "text": [
            "['nigger', 'nigga', 'mud shark', 'chink', 'gook', 'spic', 'wetback', 'kike', 'sand nigger', 'towelhead', 'beaner', 'cracker', 'honky', 'jungle bunny', 'redskin', 'bitch', 'slut', 'whore', 'cunt', 'feminazi', 'dyke', 'tranny', 'she-male', 'gold digger', 'skank', 'faggot', 'fag', 'homo', 'queer', 'carpet muncher', 'pillow biter', 'fudge packer', 'lesbo', 'Christ killer', 'jihadist', 'infidel', 'kike', 'raghead', 'heathen', 'pagan', 'Bible basher', 'papist', 'kaffir', 'retard', 'cripple', 'spaz', 'mongoloid', 'psycho', 'nutjob', 'lame', 'vegetable', 'deaf-mute', 'imbecile', 'yank', 'brit', 'kraut', 'jap', 'commie', 'ruski', 'paki', 'wop', 'dago', 'polack', 'fatty', 'lardass', 'twig', 'beanpole', 'ugly', 'four-eyes', 'baldie', 'geek', 'nerd', 'pimple-face']\n",
            "['the', 'three', 'women', 'refs', 'in', 'the', 'women', 'uconn', 'vs', 'texas', 'basketball', 'game', 'tonight', 'stank', 'despite', 'the', 'crappy', 'officiating', 'the', 'better', 'team', 'won']\n",
            "['the', 'three', 'women', 'refs', 'in', 'the', 'women', 'uconn', 'vs', 'texas', 'BASKETBALL', 'gamee', 'TONIGHT', 'stank', 'desPITE', 'the', 'CRAPPY', 'officiating', 'the', 'better', 'team', 'won']\n",
            "{'game': 'gamee', 'despite': 'desPITE', 'crappy': 'CRAPPY', 'basketball': 'BASKETBALL', 'tonight': 'TONIGHT'}\n"
          ]
        },
        {
          "output_type": "stream",
          "name": "stderr",
          "text": [
            " 95%|█████████▌| 1836/1924 [6:09:37<17:51, 12.18s/it]"
          ]
        },
        {
          "output_type": "stream",
          "name": "stdout",
          "text": [
            "['nigger', 'nigga', 'mud shark', 'chink', 'gook', 'spic', 'wetback', 'kike', 'sand nigger', 'towelhead', 'beaner', 'cracker', 'honky', 'jungle bunny', 'redskin', 'bitch', 'slut', 'whore', 'cunt', 'feminazi', 'dyke', 'tranny', 'she-male', 'gold digger', 'skank', 'faggot', 'fag', 'homo', 'queer', 'carpet muncher', 'pillow biter', 'fudge packer', 'lesbo', 'Christ killer', 'jihadist', 'infidel', 'kike', 'raghead', 'heathen', 'pagan', 'Bible basher', 'papist', 'kaffir', 'retard', 'cripple', 'spaz', 'mongoloid', 'psycho', 'nutjob', 'lame', 'vegetable', 'deaf-mute', 'imbecile', 'yank', 'brit', 'kraut', 'jap', 'commie', 'ruski', 'paki', 'wop', 'dago', 'polack', 'fatty', 'lardass', 'twig', 'beanpole', 'ugly', 'four-eyes', 'baldie', 'geek', 'nerd', 'pimple-face']\n",
            "['<user>', '😭', '😭', '😭', 'okay', 'cause', 'she', 'was', 'mad', 'as', 'fuck', 'like', 'what', 'the', 'niggers', 'do', 'to', 'you', 'ma', 'am', '😭', '😭']\n",
            "['<user>', '😭', '😭', '😭', 'OKay', 'cause', 'shue', 'was', 'mad', 'as', 'fuck', 'like', 'what', 'the', 'niggress', 'do', 'to', 'you', 'ma', 'am', '😭', '😭']\n",
            "{'okay': 'OKay', 'niggers': 'niggress', 'she': 'shue'}\n"
          ]
        },
        {
          "output_type": "stream",
          "name": "stderr",
          "text": [
            " 96%|█████████▌| 1841/1924 [6:10:25<13:29,  9.75s/it]"
          ]
        },
        {
          "output_type": "stream",
          "name": "stdout",
          "text": [
            "['nigger', 'nigga', 'mud shark', 'chink', 'gook', 'spic', 'wetback', 'kike', 'sand nigger', 'towelhead', 'beaner', 'cracker', 'honky', 'jungle bunny', 'redskin', 'bitch', 'slut', 'whore', 'cunt', 'feminazi', 'dyke', 'tranny', 'she-male', 'gold digger', 'skank', 'faggot', 'fag', 'homo', 'queer', 'carpet muncher', 'pillow biter', 'fudge packer', 'lesbo', 'Christ killer', 'jihadist', 'infidel', 'kike', 'raghead', 'heathen', 'pagan', 'Bible basher', 'papist', 'kaffir', 'retard', 'cripple', 'spaz', 'mongoloid', 'psycho', 'nutjob', 'lame', 'vegetable', 'deaf-mute', 'imbecile', 'yank', 'brit', 'kraut', 'jap', 'commie', 'ruski', 'paki', 'wop', 'dago', 'polack', 'fatty', 'lardass', 'twig', 'beanpole', 'ugly', 'four-eyes', 'baldie', 'geek', 'nerd', 'pimple-face']\n",
            "['he', 'called', 'me', 'a', 'pig', 'when', 'i', 'asked', 'question', 'lol', 'he', 'has', 'no', 'answer', 'its', 'just', 'typical', 'yid', 'technique', 'believe', 'me', 'even', 'i', 'lie', 'otherwise', 'it', 'anti', 'semitic']\n",
            "['he', 'cald', 'me', 'a', 'pig', 'wHeN', 'i', 'asked', 'qUestIoN', 'lol', 'he', 'has', 'no', 'answer', 'its', 'just', 'typical', 'yid', 'technique', 'believe', 'me', 'even', 'i', 'lIe', 'otherwise', 'it', 'anti', 'semitic']\n",
            "{'lie': 'lIe', 'when': 'wHeN', 'called': 'cald', 'asked': 'asked', 'question': 'qUestIoN'}\n"
          ]
        },
        {
          "output_type": "stream",
          "name": "stderr",
          "text": [
            " 96%|█████████▌| 1846/1924 [6:11:16<16:44, 12.88s/it]"
          ]
        },
        {
          "output_type": "stream",
          "name": "stdout",
          "text": [
            "['nigger', 'nigga', 'mud shark', 'chink', 'gook', 'spic', 'wetback', 'kike', 'sand nigger', 'towelhead', 'beaner', 'cracker', 'honky', 'jungle bunny', 'redskin', 'bitch', 'slut', 'whore', 'cunt', 'feminazi', 'dyke', 'tranny', 'she-male', 'gold digger', 'skank', 'faggot', 'fag', 'homo', 'queer', 'carpet muncher', 'pillow biter', 'fudge packer', 'lesbo', 'Christ killer', 'jihadist', 'infidel', 'kike', 'raghead', 'heathen', 'pagan', 'Bible basher', 'papist', 'kaffir', 'retard', 'cripple', 'spaz', 'mongoloid', 'psycho', 'nutjob', 'lame', 'vegetable', 'deaf-mute', 'imbecile', 'yank', 'brit', 'kraut', 'jap', 'commie', 'ruski', 'paki', 'wop', 'dago', 'polack', 'fatty', 'lardass', 'twig', 'beanpole', 'ugly', 'four-eyes', 'baldie', 'geek', 'nerd', 'pimple-face']\n",
            "['the', 'left', 'just', 'got', 'caught', 'in', 'their', 'own', 'trap', 'they', 'promote', 'islam', 'and', 'inter', 'racial', 'marriage', 'mudsharks', 'etc', 'now', 'they', 'want', 'to', 'eliminate', 'freedom', 'of', 'association', 'and', 'not', 'mix', 'it', 'up', 'you', 'cannot', 'fix', 'stupid']\n",
            "['the', 'left', 'just', 'got', 'caught', 'in', 'their', 'own', 'trap', 'they', 'promote', 'islam', 'and', 'inter', 'racial', 'marriage', 'mudsharks', 'etc', 'now', 'they', 'want', 'to', 'eliminate', 'freedom', 'of', 'association', 'and', 'NOt', 'mix', 'it', 'up', 'Youu', 'CaNT', 'Fixx', 'stupid']\n",
            "{'islam': 'islam', 'fix': 'Fixx', 'promote': 'promote', 'you': 'Youu', 'not': 'NOt', 'cannot': 'CaNT'}\n"
          ]
        },
        {
          "output_type": "stream",
          "name": "stderr",
          "text": [
            " 96%|█████████▌| 1851/1924 [6:12:02<12:29, 10.27s/it]"
          ]
        },
        {
          "output_type": "stream",
          "name": "stdout",
          "text": [
            "['nigger', 'nigga', 'mud shark', 'chink', 'gook', 'spic', 'wetback', 'kike', 'sand nigger', 'towelhead', 'beaner', 'cracker', 'honky', 'jungle bunny', 'redskin', 'bitch', 'slut', 'whore', 'cunt', 'feminazi', 'dyke', 'tranny', 'she-male', 'gold digger', 'skank', 'faggot', 'fag', 'homo', 'queer', 'carpet muncher', 'pillow biter', 'fudge packer', 'lesbo', 'Christ killer', 'jihadist', 'infidel', 'kike', 'raghead', 'heathen', 'pagan', 'Bible basher', 'papist', 'kaffir', 'retard', 'cripple', 'spaz', 'mongoloid', 'psycho', 'nutjob', 'lame', 'vegetable', 'deaf-mute', 'imbecile', 'yank', 'brit', 'kraut', 'jap', 'commie', 'ruski', 'paki', 'wop', 'dago', 'polack', 'fatty', 'lardass', 'twig', 'beanpole', 'ugly', 'four-eyes', 'baldie', 'geek', 'nerd', 'pimple-face']\n",
            "['flying', 'with', 'a', 'bottle', 'of', 'messina', 'hof', 'red', 'in', 'a', 'suitcase', 'full', 'of', 'white', 'clothing', 'we', 'are', 'about', 'to', 'find', 'out', 'how', 'much', 'karma', 'has', 'in', 'store', 'for', 'me']\n",
            "['flying', 'with', 'a', 'bottle', 'of', 'messina', 'hof', 'reeed', 'in', 'a', 'suitcase', 'full', 'of', 'whyte', 'clothing', 'we', 'are', 'about', 'to', 'find', 'out', 'Howwwww', 'much', 'karma', 'has', 'in', 'store', 'for', 'me']\n",
            "{'how': 'Howwwww', 'white': 'whyte', 'red': 'reeed'}\n"
          ]
        },
        {
          "output_type": "stream",
          "name": "stderr",
          "text": [
            " 96%|█████████▋| 1856/1924 [6:13:20<22:13, 19.62s/it]"
          ]
        },
        {
          "output_type": "stream",
          "name": "stdout",
          "text": [
            "['nigger', 'nigga', 'mud shark', 'chink', 'gook', 'spic', 'wetback', 'kike', 'sand nigger', 'towelhead', 'beaner', 'cracker', 'honky', 'jungle bunny', 'redskin', 'bitch', 'slut', 'whore', 'cunt', 'feminazi', 'dyke', 'tranny', 'she-male', 'gold digger', 'skank', 'faggot', 'fag', 'homo', 'queer', 'carpet muncher', 'pillow biter', 'fudge packer', 'lesbo', 'Christ killer', 'jihadist', 'infidel', 'kike', 'raghead', 'heathen', 'pagan', 'Bible basher', 'papist', 'kaffir', 'retard', 'cripple', 'spaz', 'mongoloid', 'psycho', 'nutjob', 'lame', 'vegetable', 'deaf-mute', 'imbecile', 'yank', 'brit', 'kraut', 'jap', 'commie', 'ruski', 'paki', 'wop', 'dago', 'polack', 'fatty', 'lardass', 'twig', 'beanpole', 'ugly', 'four-eyes', 'baldie', 'geek', 'nerd', 'pimple-face']\n",
            "['<user>', 'i', 'agree', 'with', 'this', 'not', 'that', 'it', 'matters', 'tho', 'cause', 'i', 'am', 'a', 'white', 'boi', 'lmfao']\n",
            "['<user>', 'i', 'agreee', 'with', 'this', 'NOT', 'that', 'it', 'matters', 'tho', 'cause', 'i', 'am', 'a', 'white', 'boi', 'LmFaO']\n",
            "{'agree': 'agreee', 'not': 'NOT', 'lmfao': 'LmFaO'}\n"
          ]
        },
        {
          "output_type": "stream",
          "name": "stderr",
          "text": [
            " 97%|█████████▋| 1861/1924 [6:14:17<12:34, 11.98s/it]"
          ]
        },
        {
          "output_type": "stream",
          "name": "stdout",
          "text": [
            "['nigger', 'nigga', 'mud shark', 'chink', 'gook', 'spic', 'wetback', 'kike', 'sand nigger', 'towelhead', 'beaner', 'cracker', 'honky', 'jungle bunny', 'redskin', 'bitch', 'slut', 'whore', 'cunt', 'feminazi', 'dyke', 'tranny', 'she-male', 'gold digger', 'skank', 'faggot', 'fag', 'homo', 'queer', 'carpet muncher', 'pillow biter', 'fudge packer', 'lesbo', 'Christ killer', 'jihadist', 'infidel', 'kike', 'raghead', 'heathen', 'pagan', 'Bible basher', 'papist', 'kaffir', 'retard', 'cripple', 'spaz', 'mongoloid', 'psycho', 'nutjob', 'lame', 'vegetable', 'deaf-mute', 'imbecile', 'yank', 'brit', 'kraut', 'jap', 'commie', 'ruski', 'paki', 'wop', 'dago', 'polack', 'fatty', 'lardass', 'twig', 'beanpole', 'ugly', 'four-eyes', 'baldie', 'geek', 'nerd', 'pimple-face']\n",
            "['<user>', '<user>', 'draws', 'eyes', 'hey', 'here', 'is', 'a', 'service', 'where', 'games', 'come', 'and', 'go', 'at', 'a', '<number>', 'month', 'cycle', 'that', 'retarded']\n",
            "['<user>', '<user>', 'draws', 'eyes', 'hey', 'here', 'is', 'a', 'Service', 'where', 'GAmes', 'come', 'Anddd', 'go', 'at', 'a', '<number>', 'month', 'cycle', 'that', 'reeetarded']\n",
            "{'retarded': 'reeetarded', 'games': 'GAmes', 'and': 'Anddd', 'service': 'Service'}\n"
          ]
        },
        {
          "output_type": "stream",
          "name": "stderr",
          "text": [
            " 97%|█████████▋| 1866/1924 [6:15:27<14:34, 15.08s/it]"
          ]
        },
        {
          "output_type": "stream",
          "name": "stdout",
          "text": [
            "['nigger', 'nigga', 'mud shark', 'chink', 'gook', 'spic', 'wetback', 'kike', 'sand nigger', 'towelhead', 'beaner', 'cracker', 'honky', 'jungle bunny', 'redskin', 'bitch', 'slut', 'whore', 'cunt', 'feminazi', 'dyke', 'tranny', 'she-male', 'gold digger', 'skank', 'faggot', 'fag', 'homo', 'queer', 'carpet muncher', 'pillow biter', 'fudge packer', 'lesbo', 'Christ killer', 'jihadist', 'infidel', 'kike', 'raghead', 'heathen', 'pagan', 'Bible basher', 'papist', 'kaffir', 'retard', 'cripple', 'spaz', 'mongoloid', 'psycho', 'nutjob', 'lame', 'vegetable', 'deaf-mute', 'imbecile', 'yank', 'brit', 'kraut', 'jap', 'commie', 'ruski', 'paki', 'wop', 'dago', 'polack', 'fatty', 'lardass', 'twig', 'beanpole', 'ugly', 'four-eyes', 'baldie', 'geek', 'nerd', 'pimple-face']\n",
            "['kepurdhat', 'nkonzerve', 'jon', 'si', 'mean', 'girls', '2', 'shi', 'bitch', 'you', 'tried', 'to', 'do', 'sum', 'like', 'the', 'og', 'but', 'you', 'flopped', 'mad']\n",
            "['kepurdhat', 'nkonzerve', 'jon', 'si', 'mean', 'girls', '2', 'shi', 'BiTcH', 'you', 'tried', 'to', 'do', 'sum', 'like', 'the', 'og', 'but', 'you', 'flopped', 'mad']\n",
            "{'bitch': 'BiTcH'}\n"
          ]
        },
        {
          "output_type": "stream",
          "name": "stderr",
          "text": [
            " 97%|█████████▋| 1871/1924 [6:16:08<09:28, 10.73s/it]"
          ]
        },
        {
          "output_type": "stream",
          "name": "stdout",
          "text": [
            "['nigger', 'nigga', 'mud shark', 'chink', 'gook', 'spic', 'wetback', 'kike', 'sand nigger', 'towelhead', 'beaner', 'cracker', 'honky', 'jungle bunny', 'redskin', 'bitch', 'slut', 'whore', 'cunt', 'feminazi', 'dyke', 'tranny', 'she-male', 'gold digger', 'skank', 'faggot', 'fag', 'homo', 'queer', 'carpet muncher', 'pillow biter', 'fudge packer', 'lesbo', 'Christ killer', 'jihadist', 'infidel', 'kike', 'raghead', 'heathen', 'pagan', 'Bible basher', 'papist', 'kaffir', 'retard', 'cripple', 'spaz', 'mongoloid', 'psycho', 'nutjob', 'lame', 'vegetable', 'deaf-mute', 'imbecile', 'yank', 'brit', 'kraut', 'jap', 'commie', 'ruski', 'paki', 'wop', 'dago', 'polack', 'fatty', 'lardass', 'twig', 'beanpole', 'ugly', 'four-eyes', 'baldie', 'geek', 'nerd', 'pimple-face']\n",
            "['make', 'up', 'your', 'retarded', 'mind', 'did', 'hitler', 'or', 'did', 'he', 'not', 'kill', '<number>', 'jews']\n",
            "['make', 'up', 'yor', 'retarded', 'mind', 'did', 'hitler', 'or', 'did', 'he', 'not', 'kill', '<number>', 'jews']\n",
            "{'your': 'yor', 'not': 'not'}\n"
          ]
        },
        {
          "output_type": "stream",
          "name": "stderr",
          "text": [
            " 98%|█████████▊| 1876/1924 [6:19:09<22:01, 27.54s/it]"
          ]
        },
        {
          "output_type": "stream",
          "name": "stdout",
          "text": [
            "['nigger', 'nigga', 'mud shark', 'chink', 'gook', 'spic', 'wetback', 'kike', 'sand nigger', 'towelhead', 'beaner', 'cracker', 'honky', 'jungle bunny', 'redskin', 'bitch', 'slut', 'whore', 'cunt', 'feminazi', 'dyke', 'tranny', 'she-male', 'gold digger', 'skank', 'faggot', 'fag', 'homo', 'queer', 'carpet muncher', 'pillow biter', 'fudge packer', 'lesbo', 'Christ killer', 'jihadist', 'infidel', 'kike', 'raghead', 'heathen', 'pagan', 'Bible basher', 'papist', 'kaffir', 'retard', 'cripple', 'spaz', 'mongoloid', 'psycho', 'nutjob', 'lame', 'vegetable', 'deaf-mute', 'imbecile', 'yank', 'brit', 'kraut', 'jap', 'commie', 'ruski', 'paki', 'wop', 'dago', 'polack', 'fatty', 'lardass', 'twig', 'beanpole', 'ugly', 'four-eyes', 'baldie', 'geek', 'nerd', 'pimple-face']\n",
            "['you', 'know', 'what', 'i', 'like', 'to', 'do', 'when', 'i', 'come', 'to', 'california', 'get', 'raped', 'by', 'the', 'gas', 'prices']\n",
            "['you', 'kNow', 'Whhhat', 'i', 'like', 'to', 'do', 'when', 'i', 'CoMe', 'to', 'california', 'get', 'raped', 'by', 'the', 'gas', 'prices']\n",
            "{'know': 'kNow', 'what': 'Whhhat', 'come': 'CoMe'}\n"
          ]
        },
        {
          "output_type": "stream",
          "name": "stderr",
          "text": [
            " 98%|█████████▊| 1881/1924 [6:20:07<11:07, 15.53s/it]"
          ]
        },
        {
          "output_type": "stream",
          "name": "stdout",
          "text": [
            "['nigger', 'nigga', 'mud shark', 'chink', 'gook', 'spic', 'wetback', 'kike', 'sand nigger', 'towelhead', 'beaner', 'cracker', 'honky', 'jungle bunny', 'redskin', 'bitch', 'slut', 'whore', 'cunt', 'feminazi', 'dyke', 'tranny', 'she-male', 'gold digger', 'skank', 'faggot', 'fag', 'homo', 'queer', 'carpet muncher', 'pillow biter', 'fudge packer', 'lesbo', 'Christ killer', 'jihadist', 'infidel', 'kike', 'raghead', 'heathen', 'pagan', 'Bible basher', 'papist', 'kaffir', 'retard', 'cripple', 'spaz', 'mongoloid', 'psycho', 'nutjob', 'lame', 'vegetable', 'deaf-mute', 'imbecile', 'yank', 'brit', 'kraut', 'jap', 'commie', 'ruski', 'paki', 'wop', 'dago', 'polack', 'fatty', 'lardass', 'twig', 'beanpole', 'ugly', 'four-eyes', 'baldie', 'geek', 'nerd', 'pimple-face']\n",
            "['i', 'went', 'to', 'the', 'post', 'office', 'today', 'and', 'asked', 'the', '<number>', 'lb', 'sheboon', 'behind', 'the', 'counter', 'how', 'much', 'faster', 'a', 'letter', 'to', 'amarillo', 'would', 'get', 'there', 'if', 'i', 'used', 'express', 'mail', 'her', 'exact', 'reply', 'mayne', 'you', 'really', 'expeck', 'me', 'ta', 'know', 'diss']\n",
            "['i', 'went', 'to', 'the', 'post', 'office', 'today', 'and', 'asked', 'the', '<number>', 'lb', 'sheboon', 'behind', 'the', 'counter', 'how', 'mUCh', 'fastr', 'a', 'letter', 'to', 'amarillo', 'would', 'get', 'there', 'if', 'i', 'UseD', 'express', 'mAll', 'her', 'exact', 'replyI', 'mayne', 'you', 'really', 'expeck', 'me', 'ta', 'KNOWW', 'diss']\n",
            "{'reply': 'replyI', 'used': 'UseD', 'mail': 'mAll', 'faster': 'fastr', 'know': 'KNOWW', 'counter': 'counter', 'much': 'mUCh'}\n"
          ]
        },
        {
          "output_type": "stream",
          "name": "stderr",
          "text": [
            " 98%|█████████▊| 1885/1924 [6:20:15<03:28,  5.35s/it]"
          ]
        },
        {
          "output_type": "stream",
          "name": "stdout",
          "text": [
            "['nigger', 'nigga', 'mud shark', 'chink', 'gook', 'spic', 'wetback', 'kike', 'sand nigger', 'towelhead', 'beaner', 'cracker', 'honky', 'jungle bunny', 'redskin', 'bitch', 'slut', 'whore', 'cunt', 'feminazi', 'dyke', 'tranny', 'she-male', 'gold digger', 'skank', 'faggot', 'fag', 'homo', 'queer', 'carpet muncher', 'pillow biter', 'fudge packer', 'lesbo', 'Christ killer', 'jihadist', 'infidel', 'kike', 'raghead', 'heathen', 'pagan', 'Bible basher', 'papist', 'kaffir', 'retard', 'cripple', 'spaz', 'mongoloid', 'psycho', 'nutjob', 'lame', 'vegetable', 'deaf-mute', 'imbecile', 'yank', 'brit', 'kraut', 'jap', 'commie', 'ruski', 'paki', 'wop', 'dago', 'polack', 'fatty', 'lardass', 'twig', 'beanpole', 'ugly', 'four-eyes', 'baldie', 'geek', 'nerd', 'pimple-face']\n",
            "['mead', 'mutton', 'and', 'a', 'proper', 'medieval', 'mace', 'ball', 'we', 'can', 'take', 'a', 'roman', 'bath', 'afterwards', 'as', 'if', 'you', 'do', 'not', 'wash', 'greasy', 'kike', 'blood', 'off', 'within', 'a', 'certain', 'period', 'of', 'time', 'the', 'parasites', 'they', 'carry', 'are', 'very', 'hard', 'to', 'dislodge', '<wink>']\n",
            "['mead', 'mutton', 'and', 'a', 'proper', 'medieval', 'mace', 'ball', 'we', 'can', 'take', 'a', 'roman', 'bath', 'afterwards', 'as', 'if', 'you', 'do', 'not', 'wash', 'greasy', 'kike', 'blood', 'off', 'within', 'a', 'certain', 'period', 'of', 'time', 'the', 'parasites', 'they', 'carry', 'are', 'very', 'hard', 'to', 'dislodge', '<wink>']\n",
            "{'kike': 'kike'}\n"
          ]
        },
        {
          "output_type": "stream",
          "name": "stderr",
          "text": [
            " 98%|█████████▊| 1891/1924 [6:21:22<05:57, 10.84s/it]"
          ]
        },
        {
          "output_type": "stream",
          "name": "stdout",
          "text": [
            "['nigger', 'nigga', 'mud shark', 'chink', 'gook', 'spic', 'wetback', 'kike', 'sand nigger', 'towelhead', 'beaner', 'cracker', 'honky', 'jungle bunny', 'redskin', 'bitch', 'slut', 'whore', 'cunt', 'feminazi', 'dyke', 'tranny', 'she-male', 'gold digger', 'skank', 'faggot', 'fag', 'homo', 'queer', 'carpet muncher', 'pillow biter', 'fudge packer', 'lesbo', 'Christ killer', 'jihadist', 'infidel', 'kike', 'raghead', 'heathen', 'pagan', 'Bible basher', 'papist', 'kaffir', 'retard', 'cripple', 'spaz', 'mongoloid', 'psycho', 'nutjob', 'lame', 'vegetable', 'deaf-mute', 'imbecile', 'yank', 'brit', 'kraut', 'jap', 'commie', 'ruski', 'paki', 'wop', 'dago', 'polack', 'fatty', 'lardass', 'twig', 'beanpole', 'ugly', 'four-eyes', 'baldie', 'geek', 'nerd', 'pimple-face']\n",
            "['<user>', 'you', '’', 're', 'retarded', 'if', 'you', 'believe', 'this']\n",
            "['<user>', 'you', '’', 're', 'reTardED', 'if', 'you', 'Belive', 'this']\n",
            "{'believe': 'Belive', 'retarded': 'reTardED'}\n"
          ]
        },
        {
          "output_type": "stream",
          "name": "stderr",
          "text": [
            " 99%|█████████▊| 1896/1924 [6:24:23<11:18, 24.25s/it]"
          ]
        },
        {
          "output_type": "stream",
          "name": "stdout",
          "text": [
            "['nigger', 'nigga', 'mud shark', 'chink', 'gook', 'spic', 'wetback', 'kike', 'sand nigger', 'towelhead', 'beaner', 'cracker', 'honky', 'jungle bunny', 'redskin', 'bitch', 'slut', 'whore', 'cunt', 'feminazi', 'dyke', 'tranny', 'she-male', 'gold digger', 'skank', 'faggot', 'fag', 'homo', 'queer', 'carpet muncher', 'pillow biter', 'fudge packer', 'lesbo', 'Christ killer', 'jihadist', 'infidel', 'kike', 'raghead', 'heathen', 'pagan', 'Bible basher', 'papist', 'kaffir', 'retard', 'cripple', 'spaz', 'mongoloid', 'psycho', 'nutjob', 'lame', 'vegetable', 'deaf-mute', 'imbecile', 'yank', 'brit', 'kraut', 'jap', 'commie', 'ruski', 'paki', 'wop', 'dago', 'polack', 'fatty', 'lardass', 'twig', 'beanpole', 'ugly', 'four-eyes', 'baldie', 'geek', 'nerd', 'pimple-face']\n",
            "['or', 'white', 'black', 'on', 'gay', 'black', 'on', 'white', 'black', 'on', 'trump', 'violence', 'is', 'common', 'the', 'media', 'schools', 'and', 'gov', 'will', 'have', 'you', 'believe', 'it', 'is', 'the', 'opposite']\n",
            "['or', 'white', 'black', 'on', 'gay', 'black', 'on', 'white', 'Black', 'on', 'trump', 'violence', 'is', 'cOmMon', 'Thhe', 'media', 'schools', 'and', 'GOV', 'will', 'have', 'you', 'believe', 'it', 'is', 'the', 'oppposite']\n",
            "{'black': 'Black', 'common': 'cOmMon', 'opposite': 'oppposite', 'the': 'Thhe', 'gov': 'GOV'}\n"
          ]
        },
        {
          "output_type": "stream",
          "name": "stderr",
          "text": [
            " 99%|█████████▉| 1901/1924 [6:25:15<04:58, 12.98s/it]"
          ]
        },
        {
          "output_type": "stream",
          "name": "stdout",
          "text": [
            "['nigger', 'nigga', 'mud shark', 'chink', 'gook', 'spic', 'wetback', 'kike', 'sand nigger', 'towelhead', 'beaner', 'cracker', 'honky', 'jungle bunny', 'redskin', 'bitch', 'slut', 'whore', 'cunt', 'feminazi', 'dyke', 'tranny', 'she-male', 'gold digger', 'skank', 'faggot', 'fag', 'homo', 'queer', 'carpet muncher', 'pillow biter', 'fudge packer', 'lesbo', 'Christ killer', 'jihadist', 'infidel', 'kike', 'raghead', 'heathen', 'pagan', 'Bible basher', 'papist', 'kaffir', 'retard', 'cripple', 'spaz', 'mongoloid', 'psycho', 'nutjob', 'lame', 'vegetable', 'deaf-mute', 'imbecile', 'yank', 'brit', 'kraut', 'jap', 'commie', 'ruski', 'paki', 'wop', 'dago', 'polack', 'fatty', 'lardass', 'twig', 'beanpole', 'ugly', 'four-eyes', 'baldie', 'geek', 'nerd', 'pimple-face']\n",
            "['through', 'out', 'the', 'ghetto', 'was', 'there', 'nary', 'a', 'word', 'except', 'brothers', 'in', 'green', 'who', 'through', 'the', 'streets', 'could', 'be', 'heard', 'demanding', 'where', 'my', 'five', 'dollah']\n",
            "['through', 'out', 'the', 'ghetto', 'was', 'there', 'nary', 'a', 'word', 'except', 'brothers', 'in', 'grenn', 'who', 'through', 'the', 'streets', 'COLD', 'be', 'HeArD', 'demanding', 'where', 'my', 'five', 'dollah']\n",
            "{'green': 'grenn', 'could': 'COLD', 'heard': 'HeArD'}\n"
          ]
        },
        {
          "output_type": "stream",
          "name": "stderr",
          "text": [
            " 99%|█████████▉| 1906/1924 [6:25:47<02:23,  7.95s/it]"
          ]
        },
        {
          "output_type": "stream",
          "name": "stdout",
          "text": [
            "['nigger', 'nigga', 'mud shark', 'chink', 'gook', 'spic', 'wetback', 'kike', 'sand nigger', 'towelhead', 'beaner', 'cracker', 'honky', 'jungle bunny', 'redskin', 'bitch', 'slut', 'whore', 'cunt', 'feminazi', 'dyke', 'tranny', 'she-male', 'gold digger', 'skank', 'faggot', 'fag', 'homo', 'queer', 'carpet muncher', 'pillow biter', 'fudge packer', 'lesbo', 'Christ killer', 'jihadist', 'infidel', 'kike', 'raghead', 'heathen', 'pagan', 'Bible basher', 'papist', 'kaffir', 'retard', 'cripple', 'spaz', 'mongoloid', 'psycho', 'nutjob', 'lame', 'vegetable', 'deaf-mute', 'imbecile', 'yank', 'brit', 'kraut', 'jap', 'commie', 'ruski', 'paki', 'wop', 'dago', 'polack', 'fatty', 'lardass', 'twig', 'beanpole', 'ugly', 'four-eyes', 'baldie', 'geek', 'nerd', 'pimple-face']\n",
            "['<user>', 'not', 'racist', 'probably', 'told', 'him', 'to', 'shut', 'up', 'because', 'he', 'was', 'losing', 'brain', 'cells', 'listening', 'to', 'this', 'fucking', 'retard', '“', 'its', '<number>', '”']\n",
            "['<user>', 'not', 'racist', 'probably', 'told', 'him', 'to', 'shut', 'up', 'because', 'he', 'was', 'losing', 'brain', 'cells', 'listening', 'to', 'this', 'fucking', 'reeeetard', '“', 'its', '<number>', '”']\n",
            "{'retard': 'reeeetard'}\n"
          ]
        },
        {
          "output_type": "stream",
          "name": "stderr",
          "text": [
            " 99%|█████████▉| 1911/1924 [6:26:39<01:38,  7.57s/it]"
          ]
        },
        {
          "output_type": "stream",
          "name": "stdout",
          "text": [
            "['nigger', 'nigga', 'mud shark', 'chink', 'gook', 'spic', 'wetback', 'kike', 'sand nigger', 'towelhead', 'beaner', 'cracker', 'honky', 'jungle bunny', 'redskin', 'bitch', 'slut', 'whore', 'cunt', 'feminazi', 'dyke', 'tranny', 'she-male', 'gold digger', 'skank', 'faggot', 'fag', 'homo', 'queer', 'carpet muncher', 'pillow biter', 'fudge packer', 'lesbo', 'Christ killer', 'jihadist', 'infidel', 'kike', 'raghead', 'heathen', 'pagan', 'Bible basher', 'papist', 'kaffir', 'retard', 'cripple', 'spaz', 'mongoloid', 'psycho', 'nutjob', 'lame', 'vegetable', 'deaf-mute', 'imbecile', 'yank', 'brit', 'kraut', 'jap', 'commie', 'ruski', 'paki', 'wop', 'dago', 'polack', 'fatty', 'lardass', 'twig', 'beanpole', 'ugly', 'four-eyes', 'baldie', 'geek', 'nerd', 'pimple-face']\n",
            "['fuck', 'you', 'lame', 'ass', 'hoes']\n",
            "['fuck', 'you', 'Lame', 'ass', 'hoes']\n",
            "{'lame': 'Lame'}\n"
          ]
        },
        {
          "output_type": "stream",
          "name": "stderr",
          "text": [
            "100%|█████████▉| 1916/1924 [6:27:29<01:33, 11.63s/it]"
          ]
        },
        {
          "output_type": "stream",
          "name": "stdout",
          "text": [
            "['nigger', 'nigga', 'mud shark', 'chink', 'gook', 'spic', 'wetback', 'kike', 'sand nigger', 'towelhead', 'beaner', 'cracker', 'honky', 'jungle bunny', 'redskin', 'bitch', 'slut', 'whore', 'cunt', 'feminazi', 'dyke', 'tranny', 'she-male', 'gold digger', 'skank', 'faggot', 'fag', 'homo', 'queer', 'carpet muncher', 'pillow biter', 'fudge packer', 'lesbo', 'Christ killer', 'jihadist', 'infidel', 'kike', 'raghead', 'heathen', 'pagan', 'Bible basher', 'papist', 'kaffir', 'retard', 'cripple', 'spaz', 'mongoloid', 'psycho', 'nutjob', 'lame', 'vegetable', 'deaf-mute', 'imbecile', 'yank', 'brit', 'kraut', 'jap', 'commie', 'ruski', 'paki', 'wop', 'dago', 'polack', 'fatty', 'lardass', 'twig', 'beanpole', 'ugly', 'four-eyes', 'baldie', 'geek', 'nerd', 'pimple-face']\n",
            "['objectively', 'east', 'asians', 'are', 'an', 'upgrade', 'intelligence', 'and', 'the', 'mixes', 'are', 'frequently', 'stunning', 'look', 'at', 'kristin', 'kreuk', 'dutch', 'chinese', 'and', 'hybrid', 'vigor', 'is', 'a', 'thing']\n",
            "['objectively', 'east', 'asians', 'are', 'an', 'Upgrade', 'intelligence', 'andddddd', 'the', 'mixes', 'are', 'frequently', 'stunning', 'look', 'at', 'kristin', 'kreuk', 'dutch', 'ChiNese', 'and', 'hybrid', 'vigor', 'is', 'a', 'thiing']\n",
            "{'chinese': 'ChiNese', 'upgrade': 'Upgrade', 'frequently': 'frequently', 'thing': 'thiing', 'and': 'andddddd'}\n"
          ]
        },
        {
          "output_type": "stream",
          "name": "stderr",
          "text": [
            "100%|█████████▉| 1921/1924 [6:28:31<00:34, 11.51s/it]"
          ]
        },
        {
          "output_type": "stream",
          "name": "stdout",
          "text": [
            "['nigger', 'nigga', 'mud shark', 'chink', 'gook', 'spic', 'wetback', 'kike', 'sand nigger', 'towelhead', 'beaner', 'cracker', 'honky', 'jungle bunny', 'redskin', 'bitch', 'slut', 'whore', 'cunt', 'feminazi', 'dyke', 'tranny', 'she-male', 'gold digger', 'skank', 'faggot', 'fag', 'homo', 'queer', 'carpet muncher', 'pillow biter', 'fudge packer', 'lesbo', 'Christ killer', 'jihadist', 'infidel', 'kike', 'raghead', 'heathen', 'pagan', 'Bible basher', 'papist', 'kaffir', 'retard', 'cripple', 'spaz', 'mongoloid', 'psycho', 'nutjob', 'lame', 'vegetable', 'deaf-mute', 'imbecile', 'yank', 'brit', 'kraut', 'jap', 'commie', 'ruski', 'paki', 'wop', 'dago', 'polack', 'fatty', 'lardass', 'twig', 'beanpole', 'ugly', 'four-eyes', 'baldie', 'geek', 'nerd', 'pimple-face']\n",
            "['he', 'sounds', 'like', 'a', 'clothing', 'line', 'i', 'will', 'start', 'a', 'line', 'of', 'robes', 'called', 'tommy', 'goatfucker']\n",
            "['he', 'sounds', 'like', 'a', 'clothing', 'LInE', 'i', 'will', 'start', 'a', 'line', 'of', 'robes', 'Called', 'tommy', 'goatfucker']\n",
            "{'called': 'Called', 'tommy': 'tommy', 'line': 'LInE'}\n"
          ]
        },
        {
          "output_type": "stream",
          "name": "stderr",
          "text": [
            "100%|██████████| 1924/1924 [6:29:08<00:00, 12.14s/it]"
          ]
        },
        {
          "output_type": "stream",
          "name": "stdout",
          "text": [
            "2101\n",
            "44519\n",
            "0.047193333183584533\n"
          ]
        },
        {
          "output_type": "stream",
          "name": "stderr",
          "text": [
            "\n"
          ]
        }
      ]
    },
    {
      "cell_type": "code",
      "source": [
        "from google.colab import drive\n",
        "import json\n",
        "drive.mount('/content/drive')\n"
      ],
      "metadata": {
        "colab": {
          "base_uri": "https://localhost:8080/"
        },
        "id": "3MRkcHmp5kAi",
        "outputId": "d9ea8473-2787-4471-fd98-10cfed2ecf3a"
      },
      "execution_count": null,
      "outputs": [
        {
          "output_type": "stream",
          "name": "stdout",
          "text": [
            "Mounted at /content/drive\n"
          ]
        }
      ]
    },
    {
      "cell_type": "code",
      "source": [
        "# Path to save the file in Google Drive\n",
        "file_path = '/content/drive/My Drive/NLP/perturbed_list_GPT_hate_explain.json'\n",
        "\n",
        "# Save the dictionary as a JSON file\n",
        "with open(file_path, 'w') as json_file:\n",
        "    json.dump(dataset, json_file)\n",
        "\n",
        "print(f\"File saved to: {file_path}\")\n"
      ],
      "metadata": {
        "id": "Xswi8CycZk6w",
        "colab": {
          "base_uri": "https://localhost:8080/"
        },
        "outputId": "2bc7f2f9-aae4-4bfb-92df-68d532471bd6"
      },
      "execution_count": null,
      "outputs": [
        {
          "output_type": "stream",
          "name": "stdout",
          "text": [
            "File saved to: /content/drive/My Drive/NLP/perturbed_list_GPT_hate_explain.json\n"
          ]
        }
      ]
    }
  ]
}